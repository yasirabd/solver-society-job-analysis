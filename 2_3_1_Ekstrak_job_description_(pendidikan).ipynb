{
  "nbformat": 4,
  "nbformat_minor": 0,
  "metadata": {
    "colab": {
      "name": "2_3_1 - Ekstrak job_description (pendidikan)",
      "provenance": [],
      "collapsed_sections": [],
      "toc_visible": true,
      "mount_file_id": "1Ddf22nhb-4CYBhlyO2Gl6xRkBAG4Fsst",
      "authorship_tag": "ABX9TyNSqwd7JCXxaEiPrDx0fokU",
      "include_colab_link": true
    },
    "kernelspec": {
      "name": "python3",
      "display_name": "Python 3"
    }
  },
  "cells": [
    {
      "cell_type": "markdown",
      "metadata": {
        "id": "view-in-github",
        "colab_type": "text"
      },
      "source": [
        "<a href=\"https://colab.research.google.com/github/yasirabd/solver-society-job-data/blob/main/2_3_1_Ekstrak_job_description_(pendidikan).ipynb\" target=\"_parent\"><img src=\"https://colab.research.google.com/assets/colab-badge.svg\" alt=\"Open In Colab\"/></a>"
      ]
    },
    {
      "cell_type": "markdown",
      "metadata": {
        "id": "E1ToFtdr67c-"
      },
      "source": [
        "# Objective\n",
        "Ekstrak job position, hasil ekstraksi adalah:\n",
        "1. **Pendidikan**: kualifikasi pendidikan\n",
        "\n",
        "Data input yang dibutuhkan:\n",
        "1. jobstreet_clean_tahap2.csv\n",
        "\n",
        "Data output yang dihasilkan:\n",
        "1. jobstreet_clean_tahap3.csv"
      ]
    },
    {
      "cell_type": "code",
      "metadata": {
        "id": "up0FFE5f66xs"
      },
      "source": [
        "import pandas as pd\n",
        "import numpy as np\n",
        "import matplotlib.pyplot as plt\n",
        "import re"
      ],
      "execution_count": 1,
      "outputs": []
    },
    {
      "cell_type": "code",
      "metadata": {
        "id": "mE3sOBFb6_9Q",
        "outputId": "750e97af-2443-47a8-d91b-91965a2ad35b",
        "colab": {
          "base_uri": "https://localhost:8080/",
          "height": 34
        }
      },
      "source": [
        "jobstreet = pd.read_csv(\"/content/drive/My Drive/Data Loker/jobstreet_clean_tahap2.csv\")\n",
        "\n",
        "# check null\n",
        "jobstreet['job_description'].isnull().sum()"
      ],
      "execution_count": 2,
      "outputs": [
        {
          "output_type": "execute_result",
          "data": {
            "text/plain": [
              "0"
            ]
          },
          "metadata": {
            "tags": []
          },
          "execution_count": 2
        }
      ]
    },
    {
      "cell_type": "code",
      "metadata": {
        "id": "rEumfLkG-jAJ",
        "outputId": "913f975a-5b02-4f1b-b119-ed6a331ed2c8",
        "colab": {
          "base_uri": "https://localhost:8080/",
          "height": 118
        }
      },
      "source": [
        "job_description = jobstreet['job_description'].str.lower()\n",
        "\n",
        "job_description.head()"
      ],
      "execution_count": 3,
      "outputs": [
        {
          "output_type": "execute_result",
          "data": {
            "text/plain": [
              "0    [sep][sep]usia max. 35 tahun[sep]pendidikan mi...\n",
              "1    responsibilities:[sep]brief description of dut...\n",
              "2    [sep]lingkup pekerjaan: [sep]menjaga account d...\n",
              "3    [sep]candidate must possess at least diploma i...\n",
              "4    [sep]lingkup pekerjaan: [sep]menjaga account d...\n",
              "Name: job_description, dtype: object"
            ]
          },
          "metadata": {
            "tags": []
          },
          "execution_count": 3
        }
      ]
    },
    {
      "cell_type": "markdown",
      "metadata": {
        "id": "8vaZ8erJ90p4"
      },
      "source": [
        "## pendidikan"
      ]
    },
    {
      "cell_type": "code",
      "metadata": {
        "id": "zWoQoUjF7GY_",
        "outputId": "8dbd06dc-b9d6-4b07-aef3-5e6601a4334c",
        "colab": {
          "base_uri": "https://localhost:8080/",
          "height": 34
        }
      },
      "source": [
        "# cari job description yang mengandung \n",
        "# kata kunci 'pendidikan', 'degree', 'lulusan'\n",
        "temp = list(job_description.values)\n",
        "\n",
        "count = 0\n",
        "for idx, job_desc in enumerate(temp):\n",
        "    if 'pendidikan' in job_desc:\n",
        "        count += 1\n",
        "    elif 'degree' in job_desc:\n",
        "        count += 1\n",
        "    elif 'lulusan' in job_desc:\n",
        "        count += 1\n",
        "count"
      ],
      "execution_count": 4,
      "outputs": [
        {
          "output_type": "execute_result",
          "data": {
            "text/plain": [
              "9636"
            ]
          },
          "metadata": {
            "tags": []
          },
          "execution_count": 4
        }
      ]
    },
    {
      "cell_type": "code",
      "metadata": {
        "id": "46WYU2d3Wnv1",
        "outputId": "c51327c3-136f-4179-a0f2-764413f24cfa",
        "colab": {
          "base_uri": "https://localhost:8080/",
          "height": 54
        }
      },
      "source": [
        "list_pendidikan = ['smp', 'sma', 'smk', 'slta', 'smu', 'stm',\n",
        "                   'diploma', 'd3', 'diii', 'd-iii', 'd.3', 'd4',\n",
        "                   'sarjana','s1', 's-1', 'strata-1', 's2', 'strata-2' \n",
        "                   's-2', 's3', 's-3', 'strata-3',\n",
        "                   'bachelor', 'diploma', 'master', 'post', 'graduate', 'professional']\n",
        "pendidikan_mapper = {'smp':'smp',\n",
        "                     'slta':'sma', \n",
        "                     'smu':'sma',\n",
        "                     'stm':'smk',\n",
        "                     'diploma':'diploma',\n",
        "                     'd3':'d3',\n",
        "                     'diii':'d3',\n",
        "                     'd-iii':'d3',\n",
        "                     'd.3':'d3',\n",
        "                     'd4':'d4',\n",
        "                     'sarjana':'sarjana',\n",
        "                     's1':'s1',\n",
        "                     's-1':'s1',\n",
        "                     'strata-1':'s1',\n",
        "                     's2':'s2',\n",
        "                     'strata-2':'s2',\n",
        "                     's-2':'s2',\n",
        "                     's3':'s3',\n",
        "                     's-3':'s3',\n",
        "                     'strata-3':'s3',\n",
        "                     'bachelor':'s1',\n",
        "                     'master':'s2',\n",
        "                     'postgraduate':'s3',\n",
        "                     'professional':'profesi'}\n",
        "                     \n",
        "\n",
        "extract_pendidikan = list()\n",
        "\n",
        "for job_desc in list(job_description.values):\n",
        "    # replace token [sep]\n",
        "    job_desc = job_desc.replace('[sep]', ' ')\n",
        "    job_desc = job_desc.replace(':', ' ')\n",
        "\n",
        "    # split dengan space\n",
        "    split_desc = job_desc.split()\n",
        "\n",
        "    item_match = list()\n",
        "    for item in split_desc:\n",
        "        if any(x in item for x in list_pendidikan):\n",
        "            # cleaning punctuation\n",
        "            item = re.sub(r\"[(,.;@#?!&$)/]+\\ *\", \" \", item).strip()\n",
        "            \n",
        "            # split from 's\n",
        "            item = item.split(\"'\")[0]\n",
        "            item = item.split(\"’\")[0]\n",
        "\n",
        "            # split\n",
        "            for it in item.split():\n",
        "                item_match.append(it)\n",
        "    \n",
        "    # join 'post' dan 'graduate'\n",
        "    if 'post' in item_match and 'graduate' in item_match:\n",
        "        item_match.remove('post')\n",
        "        item_match.remove('graduate')\n",
        "        item_match.append('postgraduate')\n",
        "\n",
        "    # mapping pendidikan\n",
        "    item_match = pd.Series(item_match).map(pendidikan_mapper).dropna().drop_duplicates().tolist()\n",
        "\n",
        "    if len(item_match) >=1:\n",
        "        extract_pendidikan.append(item_match)\n",
        "    else:\n",
        "        extract_pendidikan.append(['tidak dicantumkan'])"
      ],
      "execution_count": 5,
      "outputs": [
        {
          "output_type": "stream",
          "text": [
            "/usr/local/lib/python3.6/dist-packages/ipykernel_launcher.py:63: DeprecationWarning: The default dtype for empty Series will be 'object' instead of 'float64' in a future version. Specify a dtype explicitly to silence this warning.\n"
          ],
          "name": "stderr"
        }
      ]
    },
    {
      "cell_type": "code",
      "metadata": {
        "id": "7YTXPNr8IPV2",
        "outputId": "f5b669a2-83e3-4b47-f9a7-6124ce93b7a7",
        "colab": {
          "base_uri": "https://localhost:8080/",
          "height": 34
        }
      },
      "source": [
        "# lihat hasil ekstraksi\n",
        "extract_pendidikan[:5]"
      ],
      "execution_count": 6,
      "outputs": [
        {
          "output_type": "execute_result",
          "data": {
            "text/plain": [
              "[['d3'], ['s1'], ['d3', 's1', 'sma'], ['diploma'], ['d3', 's1', 'sma']]"
            ]
          },
          "metadata": {
            "tags": []
          },
          "execution_count": 6
        }
      ]
    },
    {
      "cell_type": "code",
      "metadata": {
        "id": "dpf2oQWeJjcC",
        "outputId": "5ccdde6b-c1cb-4ff2-cce4-9c18cce95369",
        "colab": {
          "base_uri": "https://localhost:8080/",
          "height": 34
        }
      },
      "source": [
        "# lihat banyak loker yang tidak mencantumkan pendidikan\n",
        "count = 0\n",
        "for p in extract_pendidikan:\n",
        "    if 'tidak dicantumkan' in p:\n",
        "        count +=1\n",
        "count"
      ],
      "execution_count": 7,
      "outputs": [
        {
          "output_type": "execute_result",
          "data": {
            "text/plain": [
              "2870"
            ]
          },
          "metadata": {
            "tags": []
          },
          "execution_count": 7
        }
      ]
    },
    {
      "cell_type": "code",
      "metadata": {
        "id": "gqcsSVpo_DOP",
        "outputId": "23f9ecbe-75ff-4e86-f71a-7a8210dad841",
        "colab": {
          "base_uri": "https://localhost:8080/",
          "height": 235
        }
      },
      "source": [
        "# check unique pendidikan\n",
        "temp = list()\n",
        "for p in extract_pendidikan:\n",
        "    temp += p\n",
        "\n",
        "pd.Series(temp).value_counts()"
      ],
      "execution_count": 8,
      "outputs": [
        {
          "output_type": "execute_result",
          "data": {
            "text/plain": [
              "s1                   7414\n",
              "tidak dicantumkan    2870\n",
              "diploma              2115\n",
              "d3                   1993\n",
              "sarjana              1184\n",
              "profesi               629\n",
              "s2                    629\n",
              "sma                   499\n",
              "s3                    326\n",
              "smk                    54\n",
              "d4                     20\n",
              "smp                     9\n",
              "dtype: int64"
            ]
          },
          "metadata": {
            "tags": []
          },
          "execution_count": 8
        }
      ]
    },
    {
      "cell_type": "code",
      "metadata": {
        "id": "uZZnyPx7_v10"
      },
      "source": [
        "# lakukan mapping lagi\n",
        "pend_mapper = {'s1': 's1',\n",
        "               'tidak dicantumkan': 'tidak dicantumkan',\n",
        "               'diploma': 'd3',\n",
        "               'd3': 'd3',\n",
        "               'sarjana': 's1',\n",
        "               'profesi': 'profesi',\n",
        "               's2': 's2',\n",
        "               'sma': 'sma',\n",
        "               's3': 's3',\n",
        "               'smk': 'smk',\n",
        "               'd4': 'd4',\n",
        "               'smp': 'smp'}"
      ],
      "execution_count": 9,
      "outputs": []
    },
    {
      "cell_type": "code",
      "metadata": {
        "id": "RvEbl4h_AWg2"
      },
      "source": [
        "result = list()\n",
        "for p in extract_pendidikan:\n",
        "    mapping = pd.Series(p).map(pend_mapper).drop_duplicates()\n",
        "    join = ', '.join(list(mapping)).strip()\n",
        "\n",
        "    result.append(join)"
      ],
      "execution_count": 10,
      "outputs": []
    },
    {
      "cell_type": "code",
      "metadata": {
        "id": "3EKwRlszA3Dp",
        "outputId": "942c74be-6f5c-4769-e506-95451fc5976a",
        "colab": {
          "base_uri": "https://localhost:8080/",
          "height": 202
        }
      },
      "source": [
        "# check unique pendidikan lagi\n",
        "temp = list()\n",
        "for p in result:\n",
        "    split = [data.strip() for data in p.split(',')]\n",
        "    temp += split\n",
        "\n",
        "pd.Series(temp).value_counts()"
      ],
      "execution_count": 11,
      "outputs": [
        {
          "output_type": "execute_result",
          "data": {
            "text/plain": [
              "s1                   8491\n",
              "d3                   4010\n",
              "tidak dicantumkan    2870\n",
              "profesi               629\n",
              "s2                    629\n",
              "sma                   499\n",
              "s3                    326\n",
              "smk                    54\n",
              "d4                     20\n",
              "smp                     9\n",
              "dtype: int64"
            ]
          },
          "metadata": {
            "tags": []
          },
          "execution_count": 11
        }
      ]
    },
    {
      "cell_type": "code",
      "metadata": {
        "id": "zOrbz_UvBUKm",
        "outputId": "3b999807-1bcf-4bb4-dda5-42f0a2b48e13",
        "colab": {
          "base_uri": "https://localhost:8080/",
          "height": 34
        }
      },
      "source": [
        "jobstreet['pendidikan'] = result\n",
        "jobstreet['pendidikan'].isnull().sum()"
      ],
      "execution_count": 12,
      "outputs": [
        {
          "output_type": "execute_result",
          "data": {
            "text/plain": [
              "0"
            ]
          },
          "metadata": {
            "tags": []
          },
          "execution_count": 12
        }
      ]
    },
    {
      "cell_type": "code",
      "metadata": {
        "id": "NTqzSxm1Bd2i",
        "outputId": "b1837f9b-60f7-42b1-826c-4bf2376a33ef",
        "colab": {
          "base_uri": "https://localhost:8080/",
          "height": 434
        }
      },
      "source": [
        "jobstreet.head()"
      ],
      "execution_count": 13,
      "outputs": [
        {
          "output_type": "execute_result",
          "data": {
            "text/html": [
              "<div>\n",
              "<style scoped>\n",
              "    .dataframe tbody tr th:only-of-type {\n",
              "        vertical-align: middle;\n",
              "    }\n",
              "\n",
              "    .dataframe tbody tr th {\n",
              "        vertical-align: top;\n",
              "    }\n",
              "\n",
              "    .dataframe thead th {\n",
              "        text-align: right;\n",
              "    }\n",
              "</style>\n",
              "<table border=\"1\" class=\"dataframe\">\n",
              "  <thead>\n",
              "    <tr style=\"text-align: right;\">\n",
              "      <th></th>\n",
              "      <th>id_loker</th>\n",
              "      <th>pulau</th>\n",
              "      <th>provinsi</th>\n",
              "      <th>job_position</th>\n",
              "      <th>company_name</th>\n",
              "      <th>years_of_experience</th>\n",
              "      <th>years_of_experience_cat</th>\n",
              "      <th>job_description</th>\n",
              "      <th>average_processing_time</th>\n",
              "      <th>company_industry</th>\n",
              "      <th>company_size</th>\n",
              "      <th>work_environment_waktu_bekerja</th>\n",
              "      <th>work_environment_gaya_berpakaian</th>\n",
              "      <th>work_environment_gaya_berpakaian_contoh</th>\n",
              "      <th>work_environment_tunjangan</th>\n",
              "      <th>work_environment_bahasa</th>\n",
              "      <th>platform</th>\n",
              "      <th>pendidikan</th>\n",
              "    </tr>\n",
              "  </thead>\n",
              "  <tbody>\n",
              "    <tr>\n",
              "      <th>0</th>\n",
              "      <td>1</td>\n",
              "      <td>jawa</td>\n",
              "      <td>dki jakarta</td>\n",
              "      <td>spv finance</td>\n",
              "      <td>PT Axindo Infotama</td>\n",
              "      <td>3</td>\n",
              "      <td>0 - 4 tahun</td>\n",
              "      <td>[SEP][SEP]Usia Max. 35 tahun[SEP]Pendidikan Mi...</td>\n",
              "      <td>6</td>\n",
              "      <td>Retail/Merchandise</td>\n",
              "      <td>51 - 200 pekerja</td>\n",
              "      <td>sabtu</td>\n",
              "      <td>formal</td>\n",
              "      <td>kemeja polos &amp; dasi</td>\n",
              "      <td>kesehatan, umum</td>\n",
              "      <td>indonesia</td>\n",
              "      <td>jobstreet</td>\n",
              "      <td>d3</td>\n",
              "    </tr>\n",
              "    <tr>\n",
              "      <th>1</th>\n",
              "      <td>2</td>\n",
              "      <td>jawa</td>\n",
              "      <td>dki jakarta</td>\n",
              "      <td>qualitative research executive</td>\n",
              "      <td>Perusahaan Dirahasiakan</td>\n",
              "      <td>3</td>\n",
              "      <td>0 - 4 tahun</td>\n",
              "      <td>RESPONSIBILITIES:[SEP]Brief Description of Dut...</td>\n",
              "      <td>tidak tersedia</td>\n",
              "      <td>tidak tersedia</td>\n",
              "      <td>tidak spesifik</td>\n",
              "      <td>tidak tersedia</td>\n",
              "      <td>tidak spesifik</td>\n",
              "      <td>tidak spesifik</td>\n",
              "      <td>tidak tersedia</td>\n",
              "      <td>tidak dicantumkan</td>\n",
              "      <td>jobstreet</td>\n",
              "      <td>s1</td>\n",
              "    </tr>\n",
              "    <tr>\n",
              "      <th>2</th>\n",
              "      <td>3</td>\n",
              "      <td>jawa</td>\n",
              "      <td>jawa tengah</td>\n",
              "      <td>field collection wonogiri</td>\n",
              "      <td>OTO Group</td>\n",
              "      <td>0</td>\n",
              "      <td>0 - 4 tahun</td>\n",
              "      <td>[SEP]Lingkup pekerjaan: [SEP]Menjaga account d...</td>\n",
              "      <td>14</td>\n",
              "      <td>Perbankan/Pelayanan Keuangan</td>\n",
              "      <td>lebih dari 5000 pekerja</td>\n",
              "      <td>senin - jumat</td>\n",
              "      <td>bisnis</td>\n",
              "      <td>kemeja</td>\n",
              "      <td>kesehatan, bonus</td>\n",
              "      <td>indonesia</td>\n",
              "      <td>jobstreet</td>\n",
              "      <td>d3, s1, sma</td>\n",
              "    </tr>\n",
              "    <tr>\n",
              "      <th>3</th>\n",
              "      <td>4</td>\n",
              "      <td>jawa</td>\n",
              "      <td>dki jakarta</td>\n",
              "      <td>perawat di negara jerman</td>\n",
              "      <td>PT Jerman Manajemen</td>\n",
              "      <td>1</td>\n",
              "      <td>0 - 4 tahun</td>\n",
              "      <td>[SEP]Candidate must possess at least Diploma i...</td>\n",
              "      <td>11</td>\n",
              "      <td>Pendidikan</td>\n",
              "      <td>51 - 200 pekerja</td>\n",
              "      <td>sabtu - kamis</td>\n",
              "      <td>formal</td>\n",
              "      <td>kemeja polos &amp; dasi</td>\n",
              "      <td>kesehatan</td>\n",
              "      <td>indonesia</td>\n",
              "      <td>jobstreet</td>\n",
              "      <td>d3</td>\n",
              "    </tr>\n",
              "    <tr>\n",
              "      <th>4</th>\n",
              "      <td>5</td>\n",
              "      <td>jawa</td>\n",
              "      <td>jawa tengah</td>\n",
              "      <td>field collection pati</td>\n",
              "      <td>OTO Group</td>\n",
              "      <td>0</td>\n",
              "      <td>0 - 4 tahun</td>\n",
              "      <td>[SEP]Lingkup pekerjaan: [SEP]Menjaga account d...</td>\n",
              "      <td>14</td>\n",
              "      <td>Perbankan/Pelayanan Keuangan</td>\n",
              "      <td>lebih dari 5000 pekerja</td>\n",
              "      <td>senin - jumat</td>\n",
              "      <td>bisnis</td>\n",
              "      <td>kemeja</td>\n",
              "      <td>kesehatan, bonus</td>\n",
              "      <td>indonesia</td>\n",
              "      <td>jobstreet</td>\n",
              "      <td>d3, s1, sma</td>\n",
              "    </tr>\n",
              "  </tbody>\n",
              "</table>\n",
              "</div>"
            ],
            "text/plain": [
              "   id_loker pulau     provinsi  ... work_environment_bahasa   platform   pendidikan\n",
              "0         1  jawa  dki jakarta  ...               indonesia  jobstreet           d3\n",
              "1         2  jawa  dki jakarta  ...       tidak dicantumkan  jobstreet           s1\n",
              "2         3  jawa  jawa tengah  ...               indonesia  jobstreet  d3, s1, sma\n",
              "3         4  jawa  dki jakarta  ...               indonesia  jobstreet           d3\n",
              "4         5  jawa  jawa tengah  ...               indonesia  jobstreet  d3, s1, sma\n",
              "\n",
              "[5 rows x 18 columns]"
            ]
          },
          "metadata": {
            "tags": []
          },
          "execution_count": 13
        }
      ]
    },
    {
      "cell_type": "code",
      "metadata": {
        "id": "YNtJ7m58Bw-T",
        "outputId": "d153a28c-def5-4868-ea25-3ae4ef318c37",
        "colab": {
          "base_uri": "https://localhost:8080/",
          "height": 336
        }
      },
      "source": [
        "jobstreet.isnull().sum()"
      ],
      "execution_count": 14,
      "outputs": [
        {
          "output_type": "execute_result",
          "data": {
            "text/plain": [
              "id_loker                                   0\n",
              "pulau                                      0\n",
              "provinsi                                   0\n",
              "job_position                               0\n",
              "company_name                               0\n",
              "years_of_experience                        0\n",
              "years_of_experience_cat                    0\n",
              "job_description                            0\n",
              "average_processing_time                    0\n",
              "company_industry                           0\n",
              "company_size                               0\n",
              "work_environment_waktu_bekerja             0\n",
              "work_environment_gaya_berpakaian           0\n",
              "work_environment_gaya_berpakaian_contoh    0\n",
              "work_environment_tunjangan                 0\n",
              "work_environment_bahasa                    0\n",
              "platform                                   0\n",
              "pendidikan                                 0\n",
              "dtype: int64"
            ]
          },
          "metadata": {
            "tags": []
          },
          "execution_count": 14
        }
      ]
    },
    {
      "cell_type": "markdown",
      "metadata": {
        "id": "Bzi8z8KhAgTK"
      },
      "source": [
        "# Export csv"
      ]
    },
    {
      "cell_type": "code",
      "metadata": {
        "id": "bpVJIK1VA9go"
      },
      "source": [
        "jobstreet.to_csv('jobstreet_clean_tahap3.csv', index=False)"
      ],
      "execution_count": 15,
      "outputs": []
    },
    {
      "cell_type": "code",
      "metadata": {
        "id": "ZxMc8r9LDNyE"
      },
      "source": [
        ""
      ],
      "execution_count": 15,
      "outputs": []
    }
  ]
}