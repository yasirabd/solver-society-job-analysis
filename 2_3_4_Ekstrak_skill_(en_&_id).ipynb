{
  "nbformat": 4,
  "nbformat_minor": 0,
  "metadata": {
    "colab": {
      "name": "2_3_4 Ekstrak skill (en & id)",
      "provenance": [],
      "collapsed_sections": [],
      "toc_visible": true,
      "mount_file_id": "1KcdFkTxPW8c03txSBIXpS_fZEF73Ws77",
      "authorship_tag": "ABX9TyPoXlWSwgcIYgSd+duQzLU9",
      "include_colab_link": true
    },
    "kernelspec": {
      "name": "python3",
      "display_name": "Python 3"
    },
    "widgets": {
      "application/vnd.jupyter.widget-state+json": {
        "f526187922aa43f584bf82b48f89c179": {
          "model_module": "@jupyter-widgets/controls",
          "model_name": "HBoxModel",
          "state": {
            "_view_name": "HBoxView",
            "_dom_classes": [],
            "_model_name": "HBoxModel",
            "_view_module": "@jupyter-widgets/controls",
            "_model_module_version": "1.5.0",
            "_view_count": null,
            "_view_module_version": "1.5.0",
            "box_style": "",
            "layout": "IPY_MODEL_8ae311ffb8b246b39cbd73f487317e36",
            "_model_module": "@jupyter-widgets/controls",
            "children": [
              "IPY_MODEL_545dd7ce65774ca9a45f847f15850cc5",
              "IPY_MODEL_2edcf7ba186c47849a5e9e282054efe3"
            ]
          }
        },
        "8ae311ffb8b246b39cbd73f487317e36": {
          "model_module": "@jupyter-widgets/base",
          "model_name": "LayoutModel",
          "state": {
            "_view_name": "LayoutView",
            "grid_template_rows": null,
            "right": null,
            "justify_content": null,
            "_view_module": "@jupyter-widgets/base",
            "overflow": null,
            "_model_module_version": "1.2.0",
            "_view_count": null,
            "flex_flow": null,
            "width": null,
            "min_width": null,
            "border": null,
            "align_items": null,
            "bottom": null,
            "_model_module": "@jupyter-widgets/base",
            "top": null,
            "grid_column": null,
            "overflow_y": null,
            "overflow_x": null,
            "grid_auto_flow": null,
            "grid_area": null,
            "grid_template_columns": null,
            "flex": null,
            "_model_name": "LayoutModel",
            "justify_items": null,
            "grid_row": null,
            "max_height": null,
            "align_content": null,
            "visibility": null,
            "align_self": null,
            "height": null,
            "min_height": null,
            "padding": null,
            "grid_auto_rows": null,
            "grid_gap": null,
            "max_width": null,
            "order": null,
            "_view_module_version": "1.2.0",
            "grid_template_areas": null,
            "object_position": null,
            "object_fit": null,
            "grid_auto_columns": null,
            "margin": null,
            "display": null,
            "left": null
          }
        },
        "545dd7ce65774ca9a45f847f15850cc5": {
          "model_module": "@jupyter-widgets/controls",
          "model_name": "FloatProgressModel",
          "state": {
            "_view_name": "ProgressView",
            "style": "IPY_MODEL_725bc91041a747faa09b1df9e3cd12fa",
            "_dom_classes": [],
            "description": "Downloading: 100%",
            "_model_name": "FloatProgressModel",
            "bar_style": "success",
            "max": 433,
            "_view_module": "@jupyter-widgets/controls",
            "_model_module_version": "1.5.0",
            "value": 433,
            "_view_count": null,
            "_view_module_version": "1.5.0",
            "orientation": "horizontal",
            "min": 0,
            "description_tooltip": null,
            "_model_module": "@jupyter-widgets/controls",
            "layout": "IPY_MODEL_39cfe4cf2f29465fa09885de05f79b9e"
          }
        },
        "2edcf7ba186c47849a5e9e282054efe3": {
          "model_module": "@jupyter-widgets/controls",
          "model_name": "HTMLModel",
          "state": {
            "_view_name": "HTMLView",
            "style": "IPY_MODEL_abdae34d86bc45ee8317ca391534ea03",
            "_dom_classes": [],
            "description": "",
            "_model_name": "HTMLModel",
            "placeholder": "​",
            "_view_module": "@jupyter-widgets/controls",
            "_model_module_version": "1.5.0",
            "value": " 433/433 [00:01&lt;00:00, 372B/s]",
            "_view_count": null,
            "_view_module_version": "1.5.0",
            "description_tooltip": null,
            "_model_module": "@jupyter-widgets/controls",
            "layout": "IPY_MODEL_37832e281ca3451ab15f5e70fe604184"
          }
        },
        "725bc91041a747faa09b1df9e3cd12fa": {
          "model_module": "@jupyter-widgets/controls",
          "model_name": "ProgressStyleModel",
          "state": {
            "_view_name": "StyleView",
            "_model_name": "ProgressStyleModel",
            "description_width": "initial",
            "_view_module": "@jupyter-widgets/base",
            "_model_module_version": "1.5.0",
            "_view_count": null,
            "_view_module_version": "1.2.0",
            "bar_color": null,
            "_model_module": "@jupyter-widgets/controls"
          }
        },
        "39cfe4cf2f29465fa09885de05f79b9e": {
          "model_module": "@jupyter-widgets/base",
          "model_name": "LayoutModel",
          "state": {
            "_view_name": "LayoutView",
            "grid_template_rows": null,
            "right": null,
            "justify_content": null,
            "_view_module": "@jupyter-widgets/base",
            "overflow": null,
            "_model_module_version": "1.2.0",
            "_view_count": null,
            "flex_flow": null,
            "width": null,
            "min_width": null,
            "border": null,
            "align_items": null,
            "bottom": null,
            "_model_module": "@jupyter-widgets/base",
            "top": null,
            "grid_column": null,
            "overflow_y": null,
            "overflow_x": null,
            "grid_auto_flow": null,
            "grid_area": null,
            "grid_template_columns": null,
            "flex": null,
            "_model_name": "LayoutModel",
            "justify_items": null,
            "grid_row": null,
            "max_height": null,
            "align_content": null,
            "visibility": null,
            "align_self": null,
            "height": null,
            "min_height": null,
            "padding": null,
            "grid_auto_rows": null,
            "grid_gap": null,
            "max_width": null,
            "order": null,
            "_view_module_version": "1.2.0",
            "grid_template_areas": null,
            "object_position": null,
            "object_fit": null,
            "grid_auto_columns": null,
            "margin": null,
            "display": null,
            "left": null
          }
        },
        "abdae34d86bc45ee8317ca391534ea03": {
          "model_module": "@jupyter-widgets/controls",
          "model_name": "DescriptionStyleModel",
          "state": {
            "_view_name": "StyleView",
            "_model_name": "DescriptionStyleModel",
            "description_width": "",
            "_view_module": "@jupyter-widgets/base",
            "_model_module_version": "1.5.0",
            "_view_count": null,
            "_view_module_version": "1.2.0",
            "_model_module": "@jupyter-widgets/controls"
          }
        },
        "37832e281ca3451ab15f5e70fe604184": {
          "model_module": "@jupyter-widgets/base",
          "model_name": "LayoutModel",
          "state": {
            "_view_name": "LayoutView",
            "grid_template_rows": null,
            "right": null,
            "justify_content": null,
            "_view_module": "@jupyter-widgets/base",
            "overflow": null,
            "_model_module_version": "1.2.0",
            "_view_count": null,
            "flex_flow": null,
            "width": null,
            "min_width": null,
            "border": null,
            "align_items": null,
            "bottom": null,
            "_model_module": "@jupyter-widgets/base",
            "top": null,
            "grid_column": null,
            "overflow_y": null,
            "overflow_x": null,
            "grid_auto_flow": null,
            "grid_area": null,
            "grid_template_columns": null,
            "flex": null,
            "_model_name": "LayoutModel",
            "justify_items": null,
            "grid_row": null,
            "max_height": null,
            "align_content": null,
            "visibility": null,
            "align_self": null,
            "height": null,
            "min_height": null,
            "padding": null,
            "grid_auto_rows": null,
            "grid_gap": null,
            "max_width": null,
            "order": null,
            "_view_module_version": "1.2.0",
            "grid_template_areas": null,
            "object_position": null,
            "object_fit": null,
            "grid_auto_columns": null,
            "margin": null,
            "display": null,
            "left": null
          }
        },
        "db157e7fe6304fe8ba7f356e2d51f8ad": {
          "model_module": "@jupyter-widgets/controls",
          "model_name": "HBoxModel",
          "state": {
            "_view_name": "HBoxView",
            "_dom_classes": [],
            "_model_name": "HBoxModel",
            "_view_module": "@jupyter-widgets/controls",
            "_model_module_version": "1.5.0",
            "_view_count": null,
            "_view_module_version": "1.5.0",
            "box_style": "",
            "layout": "IPY_MODEL_cd59a7b2a8b14db6bc7c3ad186fd71e4",
            "_model_module": "@jupyter-widgets/controls",
            "children": [
              "IPY_MODEL_91a4275b182140a98c950436c0793954",
              "IPY_MODEL_5f59c73e0e91480aa7debe85c9da2aa3"
            ]
          }
        },
        "cd59a7b2a8b14db6bc7c3ad186fd71e4": {
          "model_module": "@jupyter-widgets/base",
          "model_name": "LayoutModel",
          "state": {
            "_view_name": "LayoutView",
            "grid_template_rows": null,
            "right": null,
            "justify_content": null,
            "_view_module": "@jupyter-widgets/base",
            "overflow": null,
            "_model_module_version": "1.2.0",
            "_view_count": null,
            "flex_flow": null,
            "width": null,
            "min_width": null,
            "border": null,
            "align_items": null,
            "bottom": null,
            "_model_module": "@jupyter-widgets/base",
            "top": null,
            "grid_column": null,
            "overflow_y": null,
            "overflow_x": null,
            "grid_auto_flow": null,
            "grid_area": null,
            "grid_template_columns": null,
            "flex": null,
            "_model_name": "LayoutModel",
            "justify_items": null,
            "grid_row": null,
            "max_height": null,
            "align_content": null,
            "visibility": null,
            "align_self": null,
            "height": null,
            "min_height": null,
            "padding": null,
            "grid_auto_rows": null,
            "grid_gap": null,
            "max_width": null,
            "order": null,
            "_view_module_version": "1.2.0",
            "grid_template_areas": null,
            "object_position": null,
            "object_fit": null,
            "grid_auto_columns": null,
            "margin": null,
            "display": null,
            "left": null
          }
        },
        "91a4275b182140a98c950436c0793954": {
          "model_module": "@jupyter-widgets/controls",
          "model_name": "FloatProgressModel",
          "state": {
            "_view_name": "ProgressView",
            "style": "IPY_MODEL_8dd9906b30b74860ba8754cceb5c910d",
            "_dom_classes": [],
            "description": "Downloading: 100%",
            "_model_name": "FloatProgressModel",
            "bar_style": "success",
            "max": 213450,
            "_view_module": "@jupyter-widgets/controls",
            "_model_module_version": "1.5.0",
            "value": 213450,
            "_view_count": null,
            "_view_module_version": "1.5.0",
            "orientation": "horizontal",
            "min": 0,
            "description_tooltip": null,
            "_model_module": "@jupyter-widgets/controls",
            "layout": "IPY_MODEL_600f92d3901c41e994ebc4095030c28d"
          }
        },
        "5f59c73e0e91480aa7debe85c9da2aa3": {
          "model_module": "@jupyter-widgets/controls",
          "model_name": "HTMLModel",
          "state": {
            "_view_name": "HTMLView",
            "style": "IPY_MODEL_5a64ecde0028455db8bebb07af88eb68",
            "_dom_classes": [],
            "description": "",
            "_model_name": "HTMLModel",
            "placeholder": "​",
            "_view_module": "@jupyter-widgets/controls",
            "_model_module_version": "1.5.0",
            "value": " 213k/213k [00:00&lt;00:00, 680kB/s]",
            "_view_count": null,
            "_view_module_version": "1.5.0",
            "description_tooltip": null,
            "_model_module": "@jupyter-widgets/controls",
            "layout": "IPY_MODEL_64218e063fee47bca2f9134fd364c187"
          }
        },
        "8dd9906b30b74860ba8754cceb5c910d": {
          "model_module": "@jupyter-widgets/controls",
          "model_name": "ProgressStyleModel",
          "state": {
            "_view_name": "StyleView",
            "_model_name": "ProgressStyleModel",
            "description_width": "initial",
            "_view_module": "@jupyter-widgets/base",
            "_model_module_version": "1.5.0",
            "_view_count": null,
            "_view_module_version": "1.2.0",
            "bar_color": null,
            "_model_module": "@jupyter-widgets/controls"
          }
        },
        "600f92d3901c41e994ebc4095030c28d": {
          "model_module": "@jupyter-widgets/base",
          "model_name": "LayoutModel",
          "state": {
            "_view_name": "LayoutView",
            "grid_template_rows": null,
            "right": null,
            "justify_content": null,
            "_view_module": "@jupyter-widgets/base",
            "overflow": null,
            "_model_module_version": "1.2.0",
            "_view_count": null,
            "flex_flow": null,
            "width": null,
            "min_width": null,
            "border": null,
            "align_items": null,
            "bottom": null,
            "_model_module": "@jupyter-widgets/base",
            "top": null,
            "grid_column": null,
            "overflow_y": null,
            "overflow_x": null,
            "grid_auto_flow": null,
            "grid_area": null,
            "grid_template_columns": null,
            "flex": null,
            "_model_name": "LayoutModel",
            "justify_items": null,
            "grid_row": null,
            "max_height": null,
            "align_content": null,
            "visibility": null,
            "align_self": null,
            "height": null,
            "min_height": null,
            "padding": null,
            "grid_auto_rows": null,
            "grid_gap": null,
            "max_width": null,
            "order": null,
            "_view_module_version": "1.2.0",
            "grid_template_areas": null,
            "object_position": null,
            "object_fit": null,
            "grid_auto_columns": null,
            "margin": null,
            "display": null,
            "left": null
          }
        },
        "5a64ecde0028455db8bebb07af88eb68": {
          "model_module": "@jupyter-widgets/controls",
          "model_name": "DescriptionStyleModel",
          "state": {
            "_view_name": "StyleView",
            "_model_name": "DescriptionStyleModel",
            "description_width": "",
            "_view_module": "@jupyter-widgets/base",
            "_model_module_version": "1.5.0",
            "_view_count": null,
            "_view_module_version": "1.2.0",
            "_model_module": "@jupyter-widgets/controls"
          }
        },
        "64218e063fee47bca2f9134fd364c187": {
          "model_module": "@jupyter-widgets/base",
          "model_name": "LayoutModel",
          "state": {
            "_view_name": "LayoutView",
            "grid_template_rows": null,
            "right": null,
            "justify_content": null,
            "_view_module": "@jupyter-widgets/base",
            "overflow": null,
            "_model_module_version": "1.2.0",
            "_view_count": null,
            "flex_flow": null,
            "width": null,
            "min_width": null,
            "border": null,
            "align_items": null,
            "bottom": null,
            "_model_module": "@jupyter-widgets/base",
            "top": null,
            "grid_column": null,
            "overflow_y": null,
            "overflow_x": null,
            "grid_auto_flow": null,
            "grid_area": null,
            "grid_template_columns": null,
            "flex": null,
            "_model_name": "LayoutModel",
            "justify_items": null,
            "grid_row": null,
            "max_height": null,
            "align_content": null,
            "visibility": null,
            "align_self": null,
            "height": null,
            "min_height": null,
            "padding": null,
            "grid_auto_rows": null,
            "grid_gap": null,
            "max_width": null,
            "order": null,
            "_view_module_version": "1.2.0",
            "grid_template_areas": null,
            "object_position": null,
            "object_fit": null,
            "grid_auto_columns": null,
            "margin": null,
            "display": null,
            "left": null
          }
        },
        "f076dad58c434c258c66c631087867e3": {
          "model_module": "@jupyter-widgets/controls",
          "model_name": "HBoxModel",
          "state": {
            "_view_name": "HBoxView",
            "_dom_classes": [],
            "_model_name": "HBoxModel",
            "_view_module": "@jupyter-widgets/controls",
            "_model_module_version": "1.5.0",
            "_view_count": null,
            "_view_module_version": "1.5.0",
            "box_style": "",
            "layout": "IPY_MODEL_5ad75abe96734a929fb21c4144a30482",
            "_model_module": "@jupyter-widgets/controls",
            "children": [
              "IPY_MODEL_1ceaad52e33c4aa6b0ec54efc0c870a2",
              "IPY_MODEL_d1254521eb434c4a9cebd03a8f8dd51b"
            ]
          }
        },
        "5ad75abe96734a929fb21c4144a30482": {
          "model_module": "@jupyter-widgets/base",
          "model_name": "LayoutModel",
          "state": {
            "_view_name": "LayoutView",
            "grid_template_rows": null,
            "right": null,
            "justify_content": null,
            "_view_module": "@jupyter-widgets/base",
            "overflow": null,
            "_model_module_version": "1.2.0",
            "_view_count": null,
            "flex_flow": null,
            "width": null,
            "min_width": null,
            "border": null,
            "align_items": null,
            "bottom": null,
            "_model_module": "@jupyter-widgets/base",
            "top": null,
            "grid_column": null,
            "overflow_y": null,
            "overflow_x": null,
            "grid_auto_flow": null,
            "grid_area": null,
            "grid_template_columns": null,
            "flex": null,
            "_model_name": "LayoutModel",
            "justify_items": null,
            "grid_row": null,
            "max_height": null,
            "align_content": null,
            "visibility": null,
            "align_self": null,
            "height": null,
            "min_height": null,
            "padding": null,
            "grid_auto_rows": null,
            "grid_gap": null,
            "max_width": null,
            "order": null,
            "_view_module_version": "1.2.0",
            "grid_template_areas": null,
            "object_position": null,
            "object_fit": null,
            "grid_auto_columns": null,
            "margin": null,
            "display": null,
            "left": null
          }
        },
        "1ceaad52e33c4aa6b0ec54efc0c870a2": {
          "model_module": "@jupyter-widgets/controls",
          "model_name": "FloatProgressModel",
          "state": {
            "_view_name": "ProgressView",
            "style": "IPY_MODEL_172e83aa31ee43df81ae9720a40c9ec4",
            "_dom_classes": [],
            "description": "Downloading: 100%",
            "_model_name": "FloatProgressModel",
            "bar_style": "success",
            "max": 435779157,
            "_view_module": "@jupyter-widgets/controls",
            "_model_module_version": "1.5.0",
            "value": 435779157,
            "_view_count": null,
            "_view_module_version": "1.5.0",
            "orientation": "horizontal",
            "min": 0,
            "description_tooltip": null,
            "_model_module": "@jupyter-widgets/controls",
            "layout": "IPY_MODEL_eb599483b27c48daa5bb6863339cc77a"
          }
        },
        "d1254521eb434c4a9cebd03a8f8dd51b": {
          "model_module": "@jupyter-widgets/controls",
          "model_name": "HTMLModel",
          "state": {
            "_view_name": "HTMLView",
            "style": "IPY_MODEL_80cb896c073241bfbf62a8db03722cd2",
            "_dom_classes": [],
            "description": "",
            "_model_name": "HTMLModel",
            "placeholder": "​",
            "_view_module": "@jupyter-widgets/controls",
            "_model_module_version": "1.5.0",
            "value": " 436M/436M [00:05&lt;00:00, 73.0MB/s]",
            "_view_count": null,
            "_view_module_version": "1.5.0",
            "description_tooltip": null,
            "_model_module": "@jupyter-widgets/controls",
            "layout": "IPY_MODEL_c786add47e0841369ea8b6fc9e0a341f"
          }
        },
        "172e83aa31ee43df81ae9720a40c9ec4": {
          "model_module": "@jupyter-widgets/controls",
          "model_name": "ProgressStyleModel",
          "state": {
            "_view_name": "StyleView",
            "_model_name": "ProgressStyleModel",
            "description_width": "initial",
            "_view_module": "@jupyter-widgets/base",
            "_model_module_version": "1.5.0",
            "_view_count": null,
            "_view_module_version": "1.2.0",
            "bar_color": null,
            "_model_module": "@jupyter-widgets/controls"
          }
        },
        "eb599483b27c48daa5bb6863339cc77a": {
          "model_module": "@jupyter-widgets/base",
          "model_name": "LayoutModel",
          "state": {
            "_view_name": "LayoutView",
            "grid_template_rows": null,
            "right": null,
            "justify_content": null,
            "_view_module": "@jupyter-widgets/base",
            "overflow": null,
            "_model_module_version": "1.2.0",
            "_view_count": null,
            "flex_flow": null,
            "width": null,
            "min_width": null,
            "border": null,
            "align_items": null,
            "bottom": null,
            "_model_module": "@jupyter-widgets/base",
            "top": null,
            "grid_column": null,
            "overflow_y": null,
            "overflow_x": null,
            "grid_auto_flow": null,
            "grid_area": null,
            "grid_template_columns": null,
            "flex": null,
            "_model_name": "LayoutModel",
            "justify_items": null,
            "grid_row": null,
            "max_height": null,
            "align_content": null,
            "visibility": null,
            "align_self": null,
            "height": null,
            "min_height": null,
            "padding": null,
            "grid_auto_rows": null,
            "grid_gap": null,
            "max_width": null,
            "order": null,
            "_view_module_version": "1.2.0",
            "grid_template_areas": null,
            "object_position": null,
            "object_fit": null,
            "grid_auto_columns": null,
            "margin": null,
            "display": null,
            "left": null
          }
        },
        "80cb896c073241bfbf62a8db03722cd2": {
          "model_module": "@jupyter-widgets/controls",
          "model_name": "DescriptionStyleModel",
          "state": {
            "_view_name": "StyleView",
            "_model_name": "DescriptionStyleModel",
            "description_width": "",
            "_view_module": "@jupyter-widgets/base",
            "_model_module_version": "1.5.0",
            "_view_count": null,
            "_view_module_version": "1.2.0",
            "_model_module": "@jupyter-widgets/controls"
          }
        },
        "c786add47e0841369ea8b6fc9e0a341f": {
          "model_module": "@jupyter-widgets/base",
          "model_name": "LayoutModel",
          "state": {
            "_view_name": "LayoutView",
            "grid_template_rows": null,
            "right": null,
            "justify_content": null,
            "_view_module": "@jupyter-widgets/base",
            "overflow": null,
            "_model_module_version": "1.2.0",
            "_view_count": null,
            "flex_flow": null,
            "width": null,
            "min_width": null,
            "border": null,
            "align_items": null,
            "bottom": null,
            "_model_module": "@jupyter-widgets/base",
            "top": null,
            "grid_column": null,
            "overflow_y": null,
            "overflow_x": null,
            "grid_auto_flow": null,
            "grid_area": null,
            "grid_template_columns": null,
            "flex": null,
            "_model_name": "LayoutModel",
            "justify_items": null,
            "grid_row": null,
            "max_height": null,
            "align_content": null,
            "visibility": null,
            "align_self": null,
            "height": null,
            "min_height": null,
            "padding": null,
            "grid_auto_rows": null,
            "grid_gap": null,
            "max_width": null,
            "order": null,
            "_view_module_version": "1.2.0",
            "grid_template_areas": null,
            "object_position": null,
            "object_fit": null,
            "grid_auto_columns": null,
            "margin": null,
            "display": null,
            "left": null
          }
        }
      }
    }
  },
  "cells": [
    {
      "cell_type": "markdown",
      "metadata": {
        "id": "view-in-github",
        "colab_type": "text"
      },
      "source": [
        "<a href=\"https://colab.research.google.com/github/yasirabd/solver-society-job-analysis/blob/main/2_3_4_Ekstrak_skill_(en_%26_id).ipynb\" target=\"_parent\"><img src=\"https://colab.research.google.com/assets/colab-badge.svg\" alt=\"Open In Colab\"/></a>"
      ]
    },
    {
      "cell_type": "code",
      "metadata": {
        "id": "-Q4cigj4604b",
        "outputId": "71826581-1abb-486a-d20a-b3902dd613a5",
        "colab": {
          "base_uri": "https://localhost:8080/",
          "height": 390
        }
      },
      "source": [
        "!pip install spacy-langdetect -q\n",
        "!pip install contextualSpellCheck -q\n",
        "!python -m spacy download xx_ent_wiki_sm -q\n",
        "!python -m spacy download en_core_web_lg -q\n",
        "!python -m spacy download en_core_web_sm -q\n",
        "!pip install spacy[lookups] -q\n",
        "!pip install transformers -q\n",
        "\n",
        "!pip install ipython-autotime\n",
        "\n",
        "%load_ext autotime"
      ],
      "execution_count": 1,
      "outputs": [
        {
          "output_type": "stream",
          "text": [
            "\u001b[38;5;2m✔ Download and installation successful\u001b[0m\n",
            "You can now load the model via spacy.load('xx_ent_wiki_sm')\n",
            "\u001b[38;5;2m✔ Download and installation successful\u001b[0m\n",
            "You can now load the model via spacy.load('en_core_web_lg')\n",
            "\u001b[38;5;2m✔ Download and installation successful\u001b[0m\n",
            "You can now load the model via spacy.load('en_core_web_sm')\n",
            "Requirement already satisfied: ipython-autotime in /usr/local/lib/python3.6/dist-packages (0.2.0)\n",
            "Requirement already satisfied: ipython in /usr/local/lib/python3.6/dist-packages (from ipython-autotime) (5.5.0)\n",
            "Requirement already satisfied: decorator in /usr/local/lib/python3.6/dist-packages (from ipython->ipython-autotime) (4.4.2)\n",
            "Requirement already satisfied: traitlets>=4.2 in /usr/local/lib/python3.6/dist-packages (from ipython->ipython-autotime) (4.3.3)\n",
            "Requirement already satisfied: prompt-toolkit<2.0.0,>=1.0.4 in /usr/local/lib/python3.6/dist-packages (from ipython->ipython-autotime) (1.0.18)\n",
            "Requirement already satisfied: pickleshare in /usr/local/lib/python3.6/dist-packages (from ipython->ipython-autotime) (0.7.5)\n",
            "Requirement already satisfied: pexpect; sys_platform != \"win32\" in /usr/local/lib/python3.6/dist-packages (from ipython->ipython-autotime) (4.8.0)\n",
            "Requirement already satisfied: pygments in /usr/local/lib/python3.6/dist-packages (from ipython->ipython-autotime) (2.6.1)\n",
            "Requirement already satisfied: setuptools>=18.5 in /usr/local/lib/python3.6/dist-packages (from ipython->ipython-autotime) (50.3.0)\n",
            "Requirement already satisfied: simplegeneric>0.8 in /usr/local/lib/python3.6/dist-packages (from ipython->ipython-autotime) (0.8.1)\n",
            "Requirement already satisfied: ipython-genutils in /usr/local/lib/python3.6/dist-packages (from traitlets>=4.2->ipython->ipython-autotime) (0.2.0)\n",
            "Requirement already satisfied: six in /usr/local/lib/python3.6/dist-packages (from traitlets>=4.2->ipython->ipython-autotime) (1.15.0)\n",
            "Requirement already satisfied: wcwidth in /usr/local/lib/python3.6/dist-packages (from prompt-toolkit<2.0.0,>=1.0.4->ipython->ipython-autotime) (0.2.5)\n",
            "Requirement already satisfied: ptyprocess>=0.5 in /usr/local/lib/python3.6/dist-packages (from pexpect; sys_platform != \"win32\"->ipython->ipython-autotime) (0.6.0)\n",
            "time: 2.91 ms\n"
          ],
          "name": "stdout"
        }
      ]
    },
    {
      "cell_type": "markdown",
      "metadata": {
        "id": "XLl481rIbEHy"
      },
      "source": [
        "> Warning: proses bisa berjam-jam"
      ]
    },
    {
      "cell_type": "markdown",
      "metadata": {
        "id": "uKwcWGTE58kV"
      },
      "source": [
        "# Objectives\n",
        "Ekstrak job position, hasil ekstraksi adalah:\n",
        "1. **Pendidikan**: kualifikasi pendidikan\n",
        "2. **Skill**: keahlian yang dibutuhkan\n",
        "\n",
        "Data input yang dibutuhkan:\n",
        "1. jobstreet_clean_tahap3.csv\n",
        "2. Seluruh .py file pada folder hmmtagger\n",
        "\n",
        "Data output yang dihasilkan:\n",
        "1. jobstreet_clean_tahap4.csv\n",
        "\n",
        "Note: proses membutuhkan waktu sangat lama"
      ]
    },
    {
      "cell_type": "code",
      "metadata": {
        "id": "PeRVwGaj6Cht",
        "outputId": "30cc1a81-5576-4694-8333-f905338919aa",
        "colab": {
          "base_uri": "https://localhost:8080/",
          "height": 34
        }
      },
      "source": [
        "import pandas as pd\n",
        "import numpy as np\n",
        "import matplotlib.pyplot as plt\n",
        "import re"
      ],
      "execution_count": 2,
      "outputs": [
        {
          "output_type": "stream",
          "text": [
            "time: 3.26 ms\n"
          ],
          "name": "stdout"
        }
      ]
    },
    {
      "cell_type": "code",
      "metadata": {
        "id": "bmWW_VD16PfA",
        "outputId": "76a15552-ca34-42f3-eb43-46cf0d48be46",
        "colab": {
          "base_uri": "https://localhost:8080/",
          "height": 450
        }
      },
      "source": [
        "jobstreet = pd.read_csv(\"/content/drive/My Drive/Data Loker/jobstreet_clean_tahap3.csv\")\n",
        "jobstreet.head()"
      ],
      "execution_count": 3,
      "outputs": [
        {
          "output_type": "execute_result",
          "data": {
            "text/html": [
              "<div>\n",
              "<style scoped>\n",
              "    .dataframe tbody tr th:only-of-type {\n",
              "        vertical-align: middle;\n",
              "    }\n",
              "\n",
              "    .dataframe tbody tr th {\n",
              "        vertical-align: top;\n",
              "    }\n",
              "\n",
              "    .dataframe thead th {\n",
              "        text-align: right;\n",
              "    }\n",
              "</style>\n",
              "<table border=\"1\" class=\"dataframe\">\n",
              "  <thead>\n",
              "    <tr style=\"text-align: right;\">\n",
              "      <th></th>\n",
              "      <th>id_loker</th>\n",
              "      <th>pulau</th>\n",
              "      <th>provinsi</th>\n",
              "      <th>job_position</th>\n",
              "      <th>company_name</th>\n",
              "      <th>years_of_experience</th>\n",
              "      <th>years_of_experience_cat</th>\n",
              "      <th>job_description</th>\n",
              "      <th>average_processing_time</th>\n",
              "      <th>company_industry</th>\n",
              "      <th>company_size</th>\n",
              "      <th>work_environment_waktu_bekerja</th>\n",
              "      <th>work_environment_gaya_berpakaian</th>\n",
              "      <th>work_environment_gaya_berpakaian_contoh</th>\n",
              "      <th>work_environment_tunjangan</th>\n",
              "      <th>work_environment_bahasa</th>\n",
              "      <th>platform</th>\n",
              "      <th>pendidikan</th>\n",
              "    </tr>\n",
              "  </thead>\n",
              "  <tbody>\n",
              "    <tr>\n",
              "      <th>0</th>\n",
              "      <td>1</td>\n",
              "      <td>jawa</td>\n",
              "      <td>dki jakarta</td>\n",
              "      <td>spv finance</td>\n",
              "      <td>PT Axindo Infotama</td>\n",
              "      <td>3</td>\n",
              "      <td>0 - 4 tahun</td>\n",
              "      <td>[SEP][SEP]Usia Max. 35 tahun[SEP]Pendidikan Mi...</td>\n",
              "      <td>6</td>\n",
              "      <td>Retail/Merchandise</td>\n",
              "      <td>51 - 200 pekerja</td>\n",
              "      <td>sabtu</td>\n",
              "      <td>formal</td>\n",
              "      <td>kemeja polos &amp; dasi</td>\n",
              "      <td>kesehatan, umum</td>\n",
              "      <td>indonesia</td>\n",
              "      <td>jobstreet</td>\n",
              "      <td>d3</td>\n",
              "    </tr>\n",
              "    <tr>\n",
              "      <th>1</th>\n",
              "      <td>2</td>\n",
              "      <td>jawa</td>\n",
              "      <td>dki jakarta</td>\n",
              "      <td>qualitative research executive</td>\n",
              "      <td>Perusahaan Dirahasiakan</td>\n",
              "      <td>3</td>\n",
              "      <td>0 - 4 tahun</td>\n",
              "      <td>RESPONSIBILITIES:[SEP]Brief Description of Dut...</td>\n",
              "      <td>tidak tersedia</td>\n",
              "      <td>tidak tersedia</td>\n",
              "      <td>tidak spesifik</td>\n",
              "      <td>tidak tersedia</td>\n",
              "      <td>tidak spesifik</td>\n",
              "      <td>tidak spesifik</td>\n",
              "      <td>tidak tersedia</td>\n",
              "      <td>tidak dicantumkan</td>\n",
              "      <td>jobstreet</td>\n",
              "      <td>s1</td>\n",
              "    </tr>\n",
              "    <tr>\n",
              "      <th>2</th>\n",
              "      <td>3</td>\n",
              "      <td>jawa</td>\n",
              "      <td>jawa tengah</td>\n",
              "      <td>field collection wonogiri</td>\n",
              "      <td>OTO Group</td>\n",
              "      <td>0</td>\n",
              "      <td>0 - 4 tahun</td>\n",
              "      <td>[SEP]Lingkup pekerjaan: [SEP]Menjaga account d...</td>\n",
              "      <td>14</td>\n",
              "      <td>Perbankan/Pelayanan Keuangan</td>\n",
              "      <td>lebih dari 5000 pekerja</td>\n",
              "      <td>senin - jumat</td>\n",
              "      <td>bisnis</td>\n",
              "      <td>kemeja</td>\n",
              "      <td>kesehatan, bonus</td>\n",
              "      <td>indonesia</td>\n",
              "      <td>jobstreet</td>\n",
              "      <td>d3, s1, sma</td>\n",
              "    </tr>\n",
              "    <tr>\n",
              "      <th>3</th>\n",
              "      <td>4</td>\n",
              "      <td>jawa</td>\n",
              "      <td>dki jakarta</td>\n",
              "      <td>perawat di negara jerman</td>\n",
              "      <td>PT Jerman Manajemen</td>\n",
              "      <td>1</td>\n",
              "      <td>0 - 4 tahun</td>\n",
              "      <td>[SEP]Candidate must possess at least Diploma i...</td>\n",
              "      <td>11</td>\n",
              "      <td>Pendidikan</td>\n",
              "      <td>51 - 200 pekerja</td>\n",
              "      <td>sabtu - kamis</td>\n",
              "      <td>formal</td>\n",
              "      <td>kemeja polos &amp; dasi</td>\n",
              "      <td>kesehatan</td>\n",
              "      <td>indonesia</td>\n",
              "      <td>jobstreet</td>\n",
              "      <td>d3</td>\n",
              "    </tr>\n",
              "    <tr>\n",
              "      <th>4</th>\n",
              "      <td>5</td>\n",
              "      <td>jawa</td>\n",
              "      <td>jawa tengah</td>\n",
              "      <td>field collection pati</td>\n",
              "      <td>OTO Group</td>\n",
              "      <td>0</td>\n",
              "      <td>0 - 4 tahun</td>\n",
              "      <td>[SEP]Lingkup pekerjaan: [SEP]Menjaga account d...</td>\n",
              "      <td>14</td>\n",
              "      <td>Perbankan/Pelayanan Keuangan</td>\n",
              "      <td>lebih dari 5000 pekerja</td>\n",
              "      <td>senin - jumat</td>\n",
              "      <td>bisnis</td>\n",
              "      <td>kemeja</td>\n",
              "      <td>kesehatan, bonus</td>\n",
              "      <td>indonesia</td>\n",
              "      <td>jobstreet</td>\n",
              "      <td>d3, s1, sma</td>\n",
              "    </tr>\n",
              "  </tbody>\n",
              "</table>\n",
              "</div>"
            ],
            "text/plain": [
              "   id_loker pulau     provinsi  ... work_environment_bahasa   platform   pendidikan\n",
              "0         1  jawa  dki jakarta  ...               indonesia  jobstreet           d3\n",
              "1         2  jawa  dki jakarta  ...       tidak dicantumkan  jobstreet           s1\n",
              "2         3  jawa  jawa tengah  ...               indonesia  jobstreet  d3, s1, sma\n",
              "3         4  jawa  dki jakarta  ...               indonesia  jobstreet           d3\n",
              "4         5  jawa  jawa tengah  ...               indonesia  jobstreet  d3, s1, sma\n",
              "\n",
              "[5 rows x 18 columns]"
            ]
          },
          "metadata": {
            "tags": []
          },
          "execution_count": 3
        },
        {
          "output_type": "stream",
          "text": [
            "time: 255 ms\n"
          ],
          "name": "stdout"
        }
      ]
    },
    {
      "cell_type": "code",
      "metadata": {
        "id": "DhI0yql66cXj",
        "outputId": "0a99d5b3-57c6-49b7-8ec7-3f6e242868ab",
        "colab": {
          "base_uri": "https://localhost:8080/",
          "height": 34
        }
      },
      "source": [
        "jobstreet.shape"
      ],
      "execution_count": 4,
      "outputs": [
        {
          "output_type": "execute_result",
          "data": {
            "text/plain": [
              "(14036, 18)"
            ]
          },
          "metadata": {
            "tags": []
          },
          "execution_count": 4
        },
        {
          "output_type": "stream",
          "text": [
            "time: 2.25 ms\n"
          ],
          "name": "stdout"
        }
      ]
    },
    {
      "cell_type": "markdown",
      "metadata": {
        "id": "BBrvZOdY6h0l"
      },
      "source": [
        "# Ekstrak skill"
      ]
    },
    {
      "cell_type": "code",
      "metadata": {
        "id": "QbEu1ioW6Wds",
        "outputId": "c3a20ed4-26a1-4193-d5e3-665f492f629d",
        "colab": {
          "base_uri": "https://localhost:8080/",
          "height": 118
        }
      },
      "source": [
        "job_description = jobstreet['job_description'].str.lower()\n",
        "\n",
        "job_description.head()"
      ],
      "execution_count": 5,
      "outputs": [
        {
          "output_type": "execute_result",
          "data": {
            "text/plain": [
              "0    [sep][sep]usia max. 35 tahun[sep]pendidikan mi...\n",
              "1    responsibilities:[sep]brief description of dut...\n",
              "2    [sep]lingkup pekerjaan: [sep]menjaga account d...\n",
              "3    [sep]candidate must possess at least diploma i...\n",
              "4    [sep]lingkup pekerjaan: [sep]menjaga account d...\n",
              "Name: job_description, dtype: object"
            ]
          },
          "metadata": {
            "tags": []
          },
          "execution_count": 5
        },
        {
          "output_type": "stream",
          "text": [
            "time: 38.9 ms\n"
          ],
          "name": "stdout"
        }
      ]
    },
    {
      "cell_type": "markdown",
      "metadata": {
        "id": "aTX34wSO6sbz"
      },
      "source": [
        "NLP tasks id/end corpus:\n",
        "- detect language: id/en\n",
        "- tokenization\n",
        "- remove stopwords\n",
        "- stemming/lemmatization\n",
        "- part-of-speech tagging\n",
        "- select only noun and adjective"
      ]
    },
    {
      "cell_type": "code",
      "metadata": {
        "id": "7XVqUp9i6mvI",
        "outputId": "8ccef42a-bf17-4856-c30e-b33dad91a1c6",
        "colab": {
          "base_uri": "https://localhost:8080/",
          "height": 134
        }
      },
      "source": [
        "import nltk\n",
        "from nltk.corpus import stopwords\n",
        "from nltk.stem import PorterStemmer\n",
        "nltk.download('stopwords')\n",
        "from nltk.tokenize import word_tokenize\n",
        "nltk.download('averaged_perceptron_tagger')\n",
        "\n",
        "import spacy\n",
        "from spacy_langdetect import LanguageDetector\n",
        "from spacy.lang.en.stop_words import STOP_WORDS\n",
        "from spacy.lang.id.stop_words import STOP_WORDS\n",
        "# from spacy.lang.id import LOOKUP\n",
        "import contextualSpellCheck"
      ],
      "execution_count": 6,
      "outputs": [
        {
          "output_type": "stream",
          "text": [
            "[nltk_data] Downloading package stopwords to /root/nltk_data...\n",
            "[nltk_data]   Package stopwords is already up-to-date!\n",
            "[nltk_data] Downloading package averaged_perceptron_tagger to\n",
            "[nltk_data]     /root/nltk_data...\n",
            "[nltk_data]   Package averaged_perceptron_tagger is already up-to-\n",
            "[nltk_data]       date!\n",
            "time: 2.6 s\n"
          ],
          "name": "stdout"
        }
      ]
    },
    {
      "cell_type": "code",
      "metadata": {
        "id": "2yzMfDYn7AMf",
        "outputId": "fc078f8e-ecea-455e-9c1a-f9b728c83176",
        "colab": {
          "base_uri": "https://localhost:8080/",
          "height": 34
        }
      },
      "source": [
        "lang_model = spacy.load('en_core_web_sm')\n",
        "lang_model.add_pipe(LanguageDetector(), name=\"language_detector\", last=True)\n",
        "\n",
        "corpus_id = list()\n",
        "corpus_en = list()\n",
        "corpus_other = list()\n",
        "\n",
        "for idx, desc in enumerate(job_description):\n",
        "    # remove token [sep]\n",
        "    d = ' '.join(desc.split('[sep]')).strip()\n",
        "\n",
        "    # check language\n",
        "    doc = lang_model(d)\n",
        "    lang = doc._.language['language']\n",
        "\n",
        "    if lang == 'id':\n",
        "        corpus_id.append(desc)\n",
        "    elif lang == 'en':\n",
        "        corpus_en.append(desc)\n",
        "    else:\n",
        "        corpus_other.append(desc)"
      ],
      "execution_count": 7,
      "outputs": [
        {
          "output_type": "stream",
          "text": [
            "time: 12min 48s\n"
          ],
          "name": "stdout"
        }
      ]
    },
    {
      "cell_type": "code",
      "metadata": {
        "id": "I1M9NWLC7smp",
        "outputId": "248e941f-22fe-432d-e1d6-c59170ddc463",
        "colab": {
          "base_uri": "https://localhost:8080/",
          "height": 84
        }
      },
      "source": [
        "print(\"banyak corpus indonesia:\", len(corpus_id))\n",
        "print(\"banyak corpus inggris:\", len(corpus_en))\n",
        "print(\"banyak corpus lain:\", len(corpus_other))"
      ],
      "execution_count": 8,
      "outputs": [
        {
          "output_type": "stream",
          "text": [
            "banyak corpus indonesia: 7280\n",
            "banyak corpus inggris: 6748\n",
            "banyak corpus lain: 8\n",
            "time: 1.8 ms\n"
          ],
          "name": "stdout"
        }
      ]
    },
    {
      "cell_type": "markdown",
      "metadata": {
        "id": "dO7vSiX87uWN"
      },
      "source": [
        "Lakukan langsung iterasi semua"
      ]
    },
    {
      "cell_type": "code",
      "metadata": {
        "id": "SXNq8L1u8Mmc",
        "outputId": "4b58ea08-f225-43ad-c230-82cf09392d3f",
        "colab": {
          "base_uri": "https://localhost:8080/",
          "height": 34
        }
      },
      "source": [
        "# POS-tagging modules indonesia\n",
        "from tagger import MainTagger\n",
        "from tokenization import Tokenization\n",
        "\n",
        "# initialize tagging model\n",
        "lexicon_path = \"/content/drive/My Drive/Data Loker/Lexicon.trn\"\n",
        "ngram_path = \"/content/drive/My Drive/Data Loker/Ngram.trn\"\n",
        "tagger = MainTagger(lexicon_path, ngram_path, 0, 3, 3, 0, 0, False, 0.2, 0, 500.0, 1)\n",
        "tokenize = Tokenization()\n",
        "\n",
        "list_keywords = ['kemampuan', 'mampu', 'mengerti', 'memiliki', 'menguasai',\n",
        "                 'mahir', 'pengalaman', 'disukai', 'menyukai', 'mempunyai',\n",
        "                 'berkeahlian', 'requirement', 'qualification', 'required skill',\n",
        "                 'skill', 'membuat', 'kompetensi', 'kompeten', 'operasional',\n",
        "                 'punya', 'paham', 'bisa', 'diutamakan', 'menggunakan',\n",
        "                 'bersedia', 'jago', 'pernah bekerja']"
      ],
      "execution_count": 9,
      "outputs": [
        {
          "output_type": "stream",
          "text": [
            "time: 308 ms\n"
          ],
          "name": "stdout"
        }
      ]
    },
    {
      "cell_type": "code",
      "metadata": {
        "id": "DLWLnPC_66s_",
        "outputId": "45359bde-65b4-4110-a5d6-1677a6e5d59f",
        "colab": {
          "base_uri": "https://localhost:8080/",
          "height": 163,
          "referenced_widgets": [
            "f526187922aa43f584bf82b48f89c179",
            "8ae311ffb8b246b39cbd73f487317e36",
            "545dd7ce65774ca9a45f847f15850cc5",
            "2edcf7ba186c47849a5e9e282054efe3",
            "725bc91041a747faa09b1df9e3cd12fa",
            "39cfe4cf2f29465fa09885de05f79b9e",
            "abdae34d86bc45ee8317ca391534ea03",
            "37832e281ca3451ab15f5e70fe604184",
            "db157e7fe6304fe8ba7f356e2d51f8ad",
            "cd59a7b2a8b14db6bc7c3ad186fd71e4",
            "91a4275b182140a98c950436c0793954",
            "5f59c73e0e91480aa7debe85c9da2aa3",
            "8dd9906b30b74860ba8754cceb5c910d",
            "600f92d3901c41e994ebc4095030c28d",
            "5a64ecde0028455db8bebb07af88eb68",
            "64218e063fee47bca2f9134fd364c187",
            "f076dad58c434c258c66c631087867e3",
            "5ad75abe96734a929fb21c4144a30482",
            "1ceaad52e33c4aa6b0ec54efc0c870a2",
            "d1254521eb434c4a9cebd03a8f8dd51b",
            "172e83aa31ee43df81ae9720a40c9ec4",
            "eb599483b27c48daa5bb6863339cc77a",
            "80cb896c073241bfbf62a8db03722cd2",
            "c786add47e0841369ea8b6fc9e0a341f"
          ]
        }
      },
      "source": [
        "lang_model = spacy.load('en_core_web_sm')\n",
        "lang_model.add_pipe(LanguageDetector(), name=\"language_detector\", last=True)\n",
        "\n",
        "nlp_en = spacy.load('en_core_web_lg')\n",
        "contextualSpellCheck.add_to_pipe(nlp_en)\n",
        "\n",
        "id_counter, en_counter = 0, 0\n",
        "result = list()\n",
        "\n",
        "for idx,desc in enumerate(job_description):\n",
        "    # remove token [sep]\n",
        "    d = ' '.join(desc.split('[sep]')).strip()\n",
        "\n",
        "    # check language\n",
        "    doc = lang_model(d)\n",
        "    lang = doc._.language['language']\n",
        "    #######################################\n",
        "    ## ENGLISH\n",
        "    #######################################\n",
        "    if lang == 'en':\n",
        "\n",
        "        # spell check\n",
        "        doc = nlp_en(d)\n",
        "        result_spell_check = doc._.outcome_spellCheck\n",
        "        \n",
        "        doc = nlp_en(result_spell_check)\n",
        "        # English pipeline\n",
        "        skill_en = list()\n",
        "        for word in doc:\n",
        "            # jika punctuation\n",
        "            if word.is_punct:\n",
        "                continue\n",
        "            \n",
        "            # jika stop words\n",
        "            lexeme = nlp_en.vocab[word.text]\n",
        "            if lexeme.is_stop:\n",
        "                continue\n",
        "\n",
        "            # jika out-of-vocabulary\n",
        "            if word.is_oov:\n",
        "                continue\n",
        "            \n",
        "            # pilih noun\n",
        "            if word.pos_ == 'NOUN':\n",
        "                skill_en.append(word.lemma_)\n",
        "        result.append(['en', skill_en])\n",
        "        en_counter += 1\n",
        "\n",
        "    #######################################\n",
        "    ## INDONESIA\n",
        "    #######################################\n",
        "    elif lang == 'id':\n",
        "        # split berdasarkan token [sep]\n",
        "        split_desc = [data.strip() for data in desc.split('[sep]')]\n",
        "\n",
        "        skill_id = list()\n",
        "        for item in split_desc:\n",
        "            # jika list keywords terdapat pada sentence\n",
        "            if any(x in item for x in list_keywords):\n",
        "                \n",
        "                # remove punctuation\n",
        "                item = re.sub(r'[^\\w\\s]', '', item)\n",
        "                # remove extra space\n",
        "                item = re.sub(' +', ' ', item) \n",
        "\n",
        "                # tagging kata\n",
        "                output = tokenize.sentence_extraction(tokenize.cleaning(item))\n",
        "                word_tagged = list()\n",
        "                for o in output:\n",
        "                    strtag = \" \".join(tokenize.tokenisasi_kalimat(o)).strip()\n",
        "                    word_tagged += [\" \".join(tagger.taggingStr(strtag))]\n",
        "                \n",
        "                # collect skill dari tag 'NN' (Noun) dan 'JJ' (Adjective)\n",
        "                word_selected = list()\n",
        "                for word in word_tagged[0].split():\n",
        "                    # cek tag\n",
        "                    word, tag = word.split('/')[0], word.split('/')[1] \n",
        "                    if tag == \"NN\" or tag == \"JJ\":\n",
        "                        word_selected.append(word)\n",
        "\n",
        "                skill_id.append(word_selected)\n",
        "        \n",
        "        if len(skill_id) >= 1:\n",
        "            # join list of skill\n",
        "            s = list()\n",
        "            for skill in skill_id:\n",
        "                s += skill\n",
        "            result.append(['id', s])\n",
        "        else:\n",
        "            result.append(['id', ['tidak dicantumkan']])\n",
        "        id_counter += 1\n",
        "\n",
        "    #######################################\n",
        "    ## OTHER LANGUAGE\n",
        "    #######################################\n",
        "    else:\n",
        "        result.append(['other', ['bahasa tidak termasuk']])\n",
        "    # print(en_counter, id_counter)\n",
        "    # if en_counter == 2 and id_counter == 2:\n",
        "    #     break\n",
        "    if idx != 0 and idx%500 == 0:\n",
        "        print(\"selesai pada data ke-{}\".format(idx) )"
      ],
      "execution_count": null,
      "outputs": [
        {
          "output_type": "display_data",
          "data": {
            "application/vnd.jupyter.widget-view+json": {
              "model_id": "f526187922aa43f584bf82b48f89c179",
              "version_minor": 0,
              "version_major": 2
            },
            "text/plain": [
              "HBox(children=(FloatProgress(value=0.0, description='Downloading', max=433.0, style=ProgressStyle(description_…"
            ]
          },
          "metadata": {
            "tags": []
          }
        },
        {
          "output_type": "stream",
          "text": [
            "\n"
          ],
          "name": "stdout"
        },
        {
          "output_type": "display_data",
          "data": {
            "application/vnd.jupyter.widget-view+json": {
              "model_id": "db157e7fe6304fe8ba7f356e2d51f8ad",
              "version_minor": 0,
              "version_major": 2
            },
            "text/plain": [
              "HBox(children=(FloatProgress(value=0.0, description='Downloading', max=213450.0, style=ProgressStyle(descripti…"
            ]
          },
          "metadata": {
            "tags": []
          }
        },
        {
          "output_type": "stream",
          "text": [
            "\n"
          ],
          "name": "stdout"
        },
        {
          "output_type": "display_data",
          "data": {
            "application/vnd.jupyter.widget-view+json": {
              "model_id": "f076dad58c434c258c66c631087867e3",
              "version_minor": 0,
              "version_major": 2
            },
            "text/plain": [
              "HBox(children=(FloatProgress(value=0.0, description='Downloading', max=435779157.0, style=ProgressStyle(descri…"
            ]
          },
          "metadata": {
            "tags": []
          }
        },
        {
          "output_type": "stream",
          "text": [
            "\n"
          ],
          "name": "stdout"
        }
      ]
    },
    {
      "cell_type": "code",
      "metadata": {
        "id": "OwBnP-Qo7qf3"
      },
      "source": [
        ""
      ],
      "execution_count": null,
      "outputs": []
    }
  ]
}