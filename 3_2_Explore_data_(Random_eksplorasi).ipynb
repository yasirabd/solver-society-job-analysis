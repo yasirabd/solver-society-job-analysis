{
  "nbformat": 4,
  "nbformat_minor": 0,
  "metadata": {
    "colab": {
      "name": "3_2 - Explore data (Random eksplorasi)",
      "provenance": [],
      "toc_visible": true,
      "mount_file_id": "1ahA_ipuuhZ2mFpz-j_CnJZ3cjMFAeAnu",
      "authorship_tag": "ABX9TyNoHKVijgOJ8pg0V8ZjoxVe",
      "include_colab_link": true
    },
    "kernelspec": {
      "name": "python3",
      "display_name": "Python 3"
    }
  },
  "cells": [
    {
      "cell_type": "markdown",
      "metadata": {
        "id": "view-in-github",
        "colab_type": "text"
      },
      "source": [
        "<a href=\"https://colab.research.google.com/github/yasirabd/solver-society-job-data/blob/main/3_2_Explore_data_(Random_eksplorasi).ipynb\" target=\"_parent\"><img src=\"https://colab.research.google.com/assets/colab-badge.svg\" alt=\"Open In Colab\"/></a>"
      ]
    },
    {
      "cell_type": "markdown",
      "metadata": {
        "id": "SQK47an9K0iA"
      },
      "source": [
        "# Objective\n",
        "Ekplorasi random.\n",
        "\n",
        "Note: tidak perlu dipelajari"
      ]
    },
    {
      "cell_type": "code",
      "metadata": {
        "id": "mm7pvF4dKmKN"
      },
      "source": [
        "import pandas as pd\n",
        "import numpy as np"
      ],
      "execution_count": null,
      "outputs": []
    },
    {
      "cell_type": "code",
      "metadata": {
        "id": "3GohGE54LCir"
      },
      "source": [
        "data_loker = pd.read_csv(\"/content/drive/My Drive/Data Loker/data_loker_14oct.csv\")\n",
        "data_pendidikan = pd.read_csv(\"/content/drive/My Drive/Data Loker/data_pendidikan.csv\")"
      ],
      "execution_count": null,
      "outputs": []
    },
    {
      "cell_type": "code",
      "metadata": {
        "id": "NIC03PDyLO5P",
        "outputId": "2dbc03f9-4fe6-4d94-c503-345a9100e334",
        "colab": {
          "base_uri": "https://localhost:8080/",
          "height": 402
        }
      },
      "source": [
        "temp = data_loker[data_loker.provinsi == 'di yogyakarta']\n",
        "temp = temp[['provinsi', 'pendidikan']]\n",
        "temp"
      ],
      "execution_count": null,
      "outputs": [
        {
          "output_type": "execute_result",
          "data": {
            "text/html": [
              "<div>\n",
              "<style scoped>\n",
              "    .dataframe tbody tr th:only-of-type {\n",
              "        vertical-align: middle;\n",
              "    }\n",
              "\n",
              "    .dataframe tbody tr th {\n",
              "        vertical-align: top;\n",
              "    }\n",
              "\n",
              "    .dataframe thead th {\n",
              "        text-align: right;\n",
              "    }\n",
              "</style>\n",
              "<table border=\"1\" class=\"dataframe\">\n",
              "  <thead>\n",
              "    <tr style=\"text-align: right;\">\n",
              "      <th></th>\n",
              "      <th>provinsi</th>\n",
              "      <th>pendidikan</th>\n",
              "    </tr>\n",
              "  </thead>\n",
              "  <tbody>\n",
              "    <tr>\n",
              "      <th>47</th>\n",
              "      <td>di yogyakarta</td>\n",
              "      <td>tidak dicantumkan</td>\n",
              "    </tr>\n",
              "    <tr>\n",
              "      <th>299</th>\n",
              "      <td>di yogyakarta</td>\n",
              "      <td>d3, s1, profesi</td>\n",
              "    </tr>\n",
              "    <tr>\n",
              "      <th>346</th>\n",
              "      <td>di yogyakarta</td>\n",
              "      <td>tidak dicantumkan</td>\n",
              "    </tr>\n",
              "    <tr>\n",
              "      <th>446</th>\n",
              "      <td>di yogyakarta</td>\n",
              "      <td>s1</td>\n",
              "    </tr>\n",
              "    <tr>\n",
              "      <th>491</th>\n",
              "      <td>di yogyakarta</td>\n",
              "      <td>d3</td>\n",
              "    </tr>\n",
              "    <tr>\n",
              "      <th>...</th>\n",
              "      <td>...</td>\n",
              "      <td>...</td>\n",
              "    </tr>\n",
              "    <tr>\n",
              "      <th>13459</th>\n",
              "      <td>di yogyakarta</td>\n",
              "      <td>profesi, d3, s1</td>\n",
              "    </tr>\n",
              "    <tr>\n",
              "      <th>13468</th>\n",
              "      <td>di yogyakarta</td>\n",
              "      <td>profesi</td>\n",
              "    </tr>\n",
              "    <tr>\n",
              "      <th>13800</th>\n",
              "      <td>di yogyakarta</td>\n",
              "      <td>d3, s1</td>\n",
              "    </tr>\n",
              "    <tr>\n",
              "      <th>13906</th>\n",
              "      <td>di yogyakarta</td>\n",
              "      <td>d3</td>\n",
              "    </tr>\n",
              "    <tr>\n",
              "      <th>13984</th>\n",
              "      <td>di yogyakarta</td>\n",
              "      <td>s1, d3</td>\n",
              "    </tr>\n",
              "  </tbody>\n",
              "</table>\n",
              "<p>216 rows × 2 columns</p>\n",
              "</div>"
            ],
            "text/plain": [
              "            provinsi         pendidikan\n",
              "47     di yogyakarta  tidak dicantumkan\n",
              "299    di yogyakarta    d3, s1, profesi\n",
              "346    di yogyakarta  tidak dicantumkan\n",
              "446    di yogyakarta                 s1\n",
              "491    di yogyakarta                 d3\n",
              "...              ...                ...\n",
              "13459  di yogyakarta    profesi, d3, s1\n",
              "13468  di yogyakarta            profesi\n",
              "13800  di yogyakarta             d3, s1\n",
              "13906  di yogyakarta                 d3\n",
              "13984  di yogyakarta             s1, d3\n",
              "\n",
              "[216 rows x 2 columns]"
            ]
          },
          "metadata": {
            "tags": []
          },
          "execution_count": 3
        }
      ]
    },
    {
      "cell_type": "code",
      "metadata": {
        "id": "jlK_NULnLQBB",
        "outputId": "f9beb43a-d7be-4339-8c9b-3dd893589fb8",
        "colab": {
          "base_uri": "https://localhost:8080/",
          "height": 402
        }
      },
      "source": [
        "p = data_pendidikan[data_pendidikan.provinsi == 'di yogyakarta']\n",
        "p"
      ],
      "execution_count": null,
      "outputs": [
        {
          "output_type": "execute_result",
          "data": {
            "text/html": [
              "<div>\n",
              "<style scoped>\n",
              "    .dataframe tbody tr th:only-of-type {\n",
              "        vertical-align: middle;\n",
              "    }\n",
              "\n",
              "    .dataframe tbody tr th {\n",
              "        vertical-align: top;\n",
              "    }\n",
              "\n",
              "    .dataframe thead th {\n",
              "        text-align: right;\n",
              "    }\n",
              "</style>\n",
              "<table border=\"1\" class=\"dataframe\">\n",
              "  <thead>\n",
              "    <tr style=\"text-align: right;\">\n",
              "      <th></th>\n",
              "      <th>id_loker</th>\n",
              "      <th>provinsi</th>\n",
              "      <th>pendidikan</th>\n",
              "    </tr>\n",
              "  </thead>\n",
              "  <tbody>\n",
              "    <tr>\n",
              "      <th>107</th>\n",
              "      <td>48</td>\n",
              "      <td>di yogyakarta</td>\n",
              "      <td>TIDAK DICANTUMKAN</td>\n",
              "    </tr>\n",
              "    <tr>\n",
              "      <th>477</th>\n",
              "      <td>300</td>\n",
              "      <td>di yogyakarta</td>\n",
              "      <td>D3</td>\n",
              "    </tr>\n",
              "    <tr>\n",
              "      <th>478</th>\n",
              "      <td>300</td>\n",
              "      <td>di yogyakarta</td>\n",
              "      <td>S1</td>\n",
              "    </tr>\n",
              "    <tr>\n",
              "      <th>479</th>\n",
              "      <td>300</td>\n",
              "      <td>di yogyakarta</td>\n",
              "      <td>PROFESI</td>\n",
              "    </tr>\n",
              "    <tr>\n",
              "      <th>546</th>\n",
              "      <td>347</td>\n",
              "      <td>di yogyakarta</td>\n",
              "      <td>TIDAK DICANTUMKAN</td>\n",
              "    </tr>\n",
              "    <tr>\n",
              "      <th>...</th>\n",
              "      <td>...</td>\n",
              "      <td>...</td>\n",
              "      <td>...</td>\n",
              "    </tr>\n",
              "    <tr>\n",
              "      <th>17246</th>\n",
              "      <td>13801</td>\n",
              "      <td>di yogyakarta</td>\n",
              "      <td>D3</td>\n",
              "    </tr>\n",
              "    <tr>\n",
              "      <th>17247</th>\n",
              "      <td>13801</td>\n",
              "      <td>di yogyakarta</td>\n",
              "      <td>S1</td>\n",
              "    </tr>\n",
              "    <tr>\n",
              "      <th>17378</th>\n",
              "      <td>13907</td>\n",
              "      <td>di yogyakarta</td>\n",
              "      <td>D3</td>\n",
              "    </tr>\n",
              "    <tr>\n",
              "      <th>17473</th>\n",
              "      <td>13985</td>\n",
              "      <td>di yogyakarta</td>\n",
              "      <td>S1</td>\n",
              "    </tr>\n",
              "    <tr>\n",
              "      <th>17474</th>\n",
              "      <td>13985</td>\n",
              "      <td>di yogyakarta</td>\n",
              "      <td>D3</td>\n",
              "    </tr>\n",
              "  </tbody>\n",
              "</table>\n",
              "<p>259 rows × 3 columns</p>\n",
              "</div>"
            ],
            "text/plain": [
              "       id_loker       provinsi         pendidikan\n",
              "107          48  di yogyakarta  TIDAK DICANTUMKAN\n",
              "477         300  di yogyakarta                 D3\n",
              "478         300  di yogyakarta                 S1\n",
              "479         300  di yogyakarta            PROFESI\n",
              "546         347  di yogyakarta  TIDAK DICANTUMKAN\n",
              "...         ...            ...                ...\n",
              "17246     13801  di yogyakarta                 D3\n",
              "17247     13801  di yogyakarta                 S1\n",
              "17378     13907  di yogyakarta                 D3\n",
              "17473     13985  di yogyakarta                 S1\n",
              "17474     13985  di yogyakarta                 D3\n",
              "\n",
              "[259 rows x 3 columns]"
            ]
          },
          "metadata": {
            "tags": []
          },
          "execution_count": 4
        }
      ]
    },
    {
      "cell_type": "markdown",
      "metadata": {
        "id": "PXwZED2nEirl"
      },
      "source": [
        "# 15 October 2020"
      ]
    },
    {
      "cell_type": "code",
      "metadata": {
        "id": "nJL-m2aaLuXm",
        "outputId": "8141c329-749c-49d4-c903-806b2d720eb8",
        "colab": {
          "base_uri": "https://localhost:8080/",
          "height": 195
        }
      },
      "source": [
        "df = pd.read_csv(\"/content/data_loker_14oct.csv\")\n",
        "\n",
        "# cols select\n",
        "cols = ['id_loker', 'provinsi', 'job_position', 'pendidikan']\n",
        "df = df[cols]\n",
        "df.head()"
      ],
      "execution_count": null,
      "outputs": [
        {
          "output_type": "execute_result",
          "data": {
            "text/html": [
              "<div>\n",
              "<style scoped>\n",
              "    .dataframe tbody tr th:only-of-type {\n",
              "        vertical-align: middle;\n",
              "    }\n",
              "\n",
              "    .dataframe tbody tr th {\n",
              "        vertical-align: top;\n",
              "    }\n",
              "\n",
              "    .dataframe thead th {\n",
              "        text-align: right;\n",
              "    }\n",
              "</style>\n",
              "<table border=\"1\" class=\"dataframe\">\n",
              "  <thead>\n",
              "    <tr style=\"text-align: right;\">\n",
              "      <th></th>\n",
              "      <th>id_loker</th>\n",
              "      <th>provinsi</th>\n",
              "      <th>job_position</th>\n",
              "      <th>pendidikan</th>\n",
              "    </tr>\n",
              "  </thead>\n",
              "  <tbody>\n",
              "    <tr>\n",
              "      <th>0</th>\n",
              "      <td>1</td>\n",
              "      <td>dki jakarta</td>\n",
              "      <td>spv finance</td>\n",
              "      <td>d3</td>\n",
              "    </tr>\n",
              "    <tr>\n",
              "      <th>1</th>\n",
              "      <td>2</td>\n",
              "      <td>dki jakarta</td>\n",
              "      <td>qualitative research executive</td>\n",
              "      <td>s1</td>\n",
              "    </tr>\n",
              "    <tr>\n",
              "      <th>2</th>\n",
              "      <td>3</td>\n",
              "      <td>jawa tengah</td>\n",
              "      <td>field collection wonogiri</td>\n",
              "      <td>d3, s1, sma</td>\n",
              "    </tr>\n",
              "    <tr>\n",
              "      <th>3</th>\n",
              "      <td>4</td>\n",
              "      <td>dki jakarta</td>\n",
              "      <td>perawat di negara jerman</td>\n",
              "      <td>d3</td>\n",
              "    </tr>\n",
              "    <tr>\n",
              "      <th>4</th>\n",
              "      <td>5</td>\n",
              "      <td>jawa tengah</td>\n",
              "      <td>field collection pati</td>\n",
              "      <td>d3, s1, sma</td>\n",
              "    </tr>\n",
              "  </tbody>\n",
              "</table>\n",
              "</div>"
            ],
            "text/plain": [
              "   id_loker     provinsi                    job_position   pendidikan\n",
              "0         1  dki jakarta                     spv finance           d3\n",
              "1         2  dki jakarta  qualitative research executive           s1\n",
              "2         3  jawa tengah       field collection wonogiri  d3, s1, sma\n",
              "3         4  dki jakarta        perawat di negara jerman           d3\n",
              "4         5  jawa tengah           field collection pati  d3, s1, sma"
            ]
          },
          "metadata": {
            "tags": []
          },
          "execution_count": 10
        }
      ]
    },
    {
      "cell_type": "code",
      "metadata": {
        "id": "u1S1-8IC_3bL",
        "outputId": "5bd8c772-9159-46f2-c70f-c275ab23d1e0",
        "colab": {
          "base_uri": "https://localhost:8080/",
          "height": 605
        }
      },
      "source": [
        "# remove data provinsi = 'tidak diketahui'\n",
        "df = df[~df.provinsi.isin(['tidak diketahui'])]\n",
        "\n",
        "# reset id_loker\n",
        "df.provinsi.value_counts()"
      ],
      "execution_count": null,
      "outputs": [
        {
          "output_type": "execute_result",
          "data": {
            "text/plain": [
              "dki jakarta                  5985\n",
              "jawa barat                   1771\n",
              "jawa timur                   1296\n",
              "banten                       1219\n",
              "jawa tengah                   548\n",
              "sumatera utara                225\n",
              "di yogyakarta                 216\n",
              "bali                          214\n",
              "kalimantan timur              159\n",
              "kepulauan riau                126\n",
              "sulawesi selatan              121\n",
              "sumatera selatan              120\n",
              "riau                           86\n",
              "kalimantan selatan             72\n",
              "kalimantan barat               54\n",
              "kalimantan tengah              45\n",
              "lampung                        43\n",
              "sulawesi utara                 42\n",
              "sulawesi tengah                40\n",
              "nusa tenggara barat            37\n",
              "jambi                          37\n",
              "kalimantan utara               22\n",
              "aceh                           21\n",
              "sulawesi tenggara              20\n",
              "nusa tenggara timur            18\n",
              "sumatera barat                 17\n",
              "papua                          16\n",
              "maluku utara                   14\n",
              "papua barat                    12\n",
              "kepulauan bangka belitung       8\n",
              "bengkulu                        7\n",
              "gorontalo                       7\n",
              "maluku                          6\n",
              "sulawesi barat                  1\n",
              "Name: provinsi, dtype: int64"
            ]
          },
          "metadata": {
            "tags": []
          },
          "execution_count": 11
        }
      ]
    },
    {
      "cell_type": "code",
      "metadata": {
        "id": "QDAT5b2dCgBl",
        "outputId": "907388a9-1e1c-4851-9c38-c9acd2b3d46c",
        "colab": {
          "base_uri": "https://localhost:8080/",
          "height": 296
        }
      },
      "source": [
        "prov_jawa = ['dki jakarta', 'banten','jawa barat', 'jawa tengah', 'jawa timur', 'di yogyakarta']\n",
        "\n",
        "df_jawa = df[df.provinsi.isin(prov_jawa)]\n",
        "\n",
        "# reset id_loker\n",
        "id_loker = [i+1 for i in range(len(df_jawa))]\n",
        "df_jawa['id_loker'] = id_loker\n",
        "\n",
        "df_jawa.head()"
      ],
      "execution_count": null,
      "outputs": [
        {
          "output_type": "stream",
          "text": [
            "/usr/local/lib/python3.6/dist-packages/ipykernel_launcher.py:7: SettingWithCopyWarning: \n",
            "A value is trying to be set on a copy of a slice from a DataFrame.\n",
            "Try using .loc[row_indexer,col_indexer] = value instead\n",
            "\n",
            "See the caveats in the documentation: https://pandas.pydata.org/pandas-docs/stable/user_guide/indexing.html#returning-a-view-versus-a-copy\n",
            "  import sys\n"
          ],
          "name": "stderr"
        },
        {
          "output_type": "execute_result",
          "data": {
            "text/html": [
              "<div>\n",
              "<style scoped>\n",
              "    .dataframe tbody tr th:only-of-type {\n",
              "        vertical-align: middle;\n",
              "    }\n",
              "\n",
              "    .dataframe tbody tr th {\n",
              "        vertical-align: top;\n",
              "    }\n",
              "\n",
              "    .dataframe thead th {\n",
              "        text-align: right;\n",
              "    }\n",
              "</style>\n",
              "<table border=\"1\" class=\"dataframe\">\n",
              "  <thead>\n",
              "    <tr style=\"text-align: right;\">\n",
              "      <th></th>\n",
              "      <th>id_loker</th>\n",
              "      <th>provinsi</th>\n",
              "      <th>job_position</th>\n",
              "      <th>pendidikan</th>\n",
              "    </tr>\n",
              "  </thead>\n",
              "  <tbody>\n",
              "    <tr>\n",
              "      <th>0</th>\n",
              "      <td>1</td>\n",
              "      <td>dki jakarta</td>\n",
              "      <td>spv finance</td>\n",
              "      <td>d3</td>\n",
              "    </tr>\n",
              "    <tr>\n",
              "      <th>1</th>\n",
              "      <td>2</td>\n",
              "      <td>dki jakarta</td>\n",
              "      <td>qualitative research executive</td>\n",
              "      <td>s1</td>\n",
              "    </tr>\n",
              "    <tr>\n",
              "      <th>2</th>\n",
              "      <td>3</td>\n",
              "      <td>jawa tengah</td>\n",
              "      <td>field collection wonogiri</td>\n",
              "      <td>d3, s1, sma</td>\n",
              "    </tr>\n",
              "    <tr>\n",
              "      <th>3</th>\n",
              "      <td>4</td>\n",
              "      <td>dki jakarta</td>\n",
              "      <td>perawat di negara jerman</td>\n",
              "      <td>d3</td>\n",
              "    </tr>\n",
              "    <tr>\n",
              "      <th>4</th>\n",
              "      <td>5</td>\n",
              "      <td>jawa tengah</td>\n",
              "      <td>field collection pati</td>\n",
              "      <td>d3, s1, sma</td>\n",
              "    </tr>\n",
              "  </tbody>\n",
              "</table>\n",
              "</div>"
            ],
            "text/plain": [
              "   id_loker     provinsi                    job_position   pendidikan\n",
              "0         1  dki jakarta                     spv finance           d3\n",
              "1         2  dki jakarta  qualitative research executive           s1\n",
              "2         3  jawa tengah       field collection wonogiri  d3, s1, sma\n",
              "3         4  dki jakarta        perawat di negara jerman           d3\n",
              "4         5  jawa tengah           field collection pati  d3, s1, sma"
            ]
          },
          "metadata": {
            "tags": []
          },
          "execution_count": 14
        }
      ]
    },
    {
      "cell_type": "code",
      "metadata": {
        "id": "UFO1VJZIGJ_b",
        "outputId": "136bfc9b-fd77-4ad4-89d0-b177e52c32fd",
        "colab": {
          "base_uri": "https://localhost:8080/",
          "height": 34
        }
      },
      "source": [
        "df_jawa.shape"
      ],
      "execution_count": null,
      "outputs": [
        {
          "output_type": "execute_result",
          "data": {
            "text/plain": [
              "(11035, 4)"
            ]
          },
          "metadata": {
            "tags": []
          },
          "execution_count": 21
        }
      ]
    },
    {
      "cell_type": "code",
      "metadata": {
        "id": "HEfZUGbtGHh1",
        "outputId": "95e74f16-b816-4c95-e39b-a484bf42aaad",
        "colab": {
          "base_uri": "https://localhost:8080/",
          "height": 134
        }
      },
      "source": [
        "df_jawa.provinsi.value_counts()"
      ],
      "execution_count": null,
      "outputs": [
        {
          "output_type": "execute_result",
          "data": {
            "text/plain": [
              "dki jakarta      5985\n",
              "jawa barat       1771\n",
              "jawa timur       1296\n",
              "banten           1219\n",
              "jawa tengah       548\n",
              "di yogyakarta     216\n",
              "Name: provinsi, dtype: int64"
            ]
          },
          "metadata": {
            "tags": []
          },
          "execution_count": 20
        }
      ]
    },
    {
      "cell_type": "code",
      "metadata": {
        "id": "vEw13Wc-EMOH",
        "outputId": "1240d734-882b-47f9-d8d5-589f791f4a62",
        "colab": {
          "base_uri": "https://localhost:8080/",
          "height": 195
        }
      },
      "source": [
        "data_loker = df_jawa[['id_loker', 'provinsi', 'job_position']]\n",
        "data_loker.head()"
      ],
      "execution_count": null,
      "outputs": [
        {
          "output_type": "execute_result",
          "data": {
            "text/html": [
              "<div>\n",
              "<style scoped>\n",
              "    .dataframe tbody tr th:only-of-type {\n",
              "        vertical-align: middle;\n",
              "    }\n",
              "\n",
              "    .dataframe tbody tr th {\n",
              "        vertical-align: top;\n",
              "    }\n",
              "\n",
              "    .dataframe thead th {\n",
              "        text-align: right;\n",
              "    }\n",
              "</style>\n",
              "<table border=\"1\" class=\"dataframe\">\n",
              "  <thead>\n",
              "    <tr style=\"text-align: right;\">\n",
              "      <th></th>\n",
              "      <th>id_loker</th>\n",
              "      <th>provinsi</th>\n",
              "      <th>job_position</th>\n",
              "    </tr>\n",
              "  </thead>\n",
              "  <tbody>\n",
              "    <tr>\n",
              "      <th>0</th>\n",
              "      <td>1</td>\n",
              "      <td>dki jakarta</td>\n",
              "      <td>spv finance</td>\n",
              "    </tr>\n",
              "    <tr>\n",
              "      <th>1</th>\n",
              "      <td>2</td>\n",
              "      <td>dki jakarta</td>\n",
              "      <td>qualitative research executive</td>\n",
              "    </tr>\n",
              "    <tr>\n",
              "      <th>2</th>\n",
              "      <td>3</td>\n",
              "      <td>jawa tengah</td>\n",
              "      <td>field collection wonogiri</td>\n",
              "    </tr>\n",
              "    <tr>\n",
              "      <th>3</th>\n",
              "      <td>4</td>\n",
              "      <td>dki jakarta</td>\n",
              "      <td>perawat di negara jerman</td>\n",
              "    </tr>\n",
              "    <tr>\n",
              "      <th>4</th>\n",
              "      <td>5</td>\n",
              "      <td>jawa tengah</td>\n",
              "      <td>field collection pati</td>\n",
              "    </tr>\n",
              "  </tbody>\n",
              "</table>\n",
              "</div>"
            ],
            "text/plain": [
              "   id_loker     provinsi                    job_position\n",
              "0         1  dki jakarta                     spv finance\n",
              "1         2  dki jakarta  qualitative research executive\n",
              "2         3  jawa tengah       field collection wonogiri\n",
              "3         4  dki jakarta        perawat di negara jerman\n",
              "4         5  jawa tengah           field collection pati"
            ]
          },
          "metadata": {
            "tags": []
          },
          "execution_count": 15
        }
      ]
    },
    {
      "cell_type": "code",
      "metadata": {
        "id": "XJuyQjHBFJae"
      },
      "source": [
        "# reformat data pendidikan menjadi csv baru\n",
        "df_pendidikan = pd.DataFrame(columns=['id_loker', 'provinsi', 'pendidikan'])\n",
        "\n",
        "for idx, row in df_jawa.iterrows():\n",
        "\n",
        "    split_pendidikan = [data.strip().upper() for data in row['pendidikan'].split(',')]\n",
        "    \n",
        "    for pend in split_pendidikan:\n",
        "        df_pendidikan = df_pendidikan.append({'id_loker': row['id_loker'],\n",
        "                                              'provinsi': row['provinsi'],\n",
        "                                              'pendidikan': pend}, ignore_index=True)"
      ],
      "execution_count": null,
      "outputs": []
    },
    {
      "cell_type": "code",
      "metadata": {
        "id": "Bafx004AFou7",
        "outputId": "63d4e959-087c-4c29-eb6f-569caf800d80",
        "colab": {
          "base_uri": "https://localhost:8080/",
          "height": 34
        }
      },
      "source": [
        "df_pendidikan.shape"
      ],
      "execution_count": null,
      "outputs": [
        {
          "output_type": "execute_result",
          "data": {
            "text/plain": [
              "(13694, 3)"
            ]
          },
          "metadata": {
            "tags": []
          },
          "execution_count": 18
        }
      ]
    },
    {
      "cell_type": "code",
      "metadata": {
        "id": "1M_gldrSFbTg"
      },
      "source": [
        "# export csv\n",
        "data_loker.to_csv('data_loker_15oct_slice.csv', index=False)\n",
        "df_pendidikan.to_csv('data_pendidikan_15oct_slice.csv', index=False)"
      ],
      "execution_count": null,
      "outputs": []
    },
    {
      "cell_type": "code",
      "metadata": {
        "id": "OzHkMCHVFuFu"
      },
      "source": [
        "a = [['faf', 'faf', 'c'], ['af']]\n",
        "\n",
        "temp = list()\n",
        "for i in a:\n",
        "    temp+=i"
      ],
      "execution_count": null,
      "outputs": []
    },
    {
      "cell_type": "code",
      "metadata": {
        "id": "pwFLK_OERKI5",
        "outputId": "f22947bc-7521-4498-eeb4-e329fad36e43",
        "colab": {
          "base_uri": "https://localhost:8080/",
          "height": 34
        }
      },
      "source": [
        "temp"
      ],
      "execution_count": null,
      "outputs": [
        {
          "output_type": "execute_result",
          "data": {
            "text/plain": [
              "['faf', 'faf', 'c', 'af']"
            ]
          },
          "metadata": {
            "tags": []
          },
          "execution_count": 24
        }
      ]
    },
    {
      "cell_type": "code",
      "metadata": {
        "id": "IJQJ7gI9RQLa"
      },
      "source": [
        ""
      ],
      "execution_count": null,
      "outputs": []
    }
  ]
}