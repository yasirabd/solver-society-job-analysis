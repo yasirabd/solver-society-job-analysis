{
  "nbformat": 4,
  "nbformat_minor": 0,
  "metadata": {
    "colab": {
      "name": "4 - Data cleaning Glints",
      "provenance": [],
      "collapsed_sections": [],
      "toc_visible": true,
      "mount_file_id": "19B0Xu-B3sWfu9wmaiQnleubyK2QjsGMp",
      "authorship_tag": "ABX9TyPcvRUsbqZSUSUbCobnsi5a",
      "include_colab_link": true
    },
    "kernelspec": {
      "name": "python3",
      "display_name": "Python 3"
    }
  },
  "cells": [
    {
      "cell_type": "markdown",
      "metadata": {
        "id": "view-in-github",
        "colab_type": "text"
      },
      "source": [
        "<a href=\"https://colab.research.google.com/github/yasirabd/solver-society-job-data/blob/main/4_Data_cleaning_Glints.ipynb\" target=\"_parent\"><img src=\"https://colab.research.google.com/assets/colab-badge.svg\" alt=\"Open In Colab\"/></a>"
      ]
    },
    {
      "cell_type": "markdown",
      "metadata": {
        "id": "7zfeTuY-Dn6x"
      },
      "source": [
        "# Objectives\n",
        "Cleaning data glints\n",
        "\n",
        "Data input yang dibutuhkan:\n",
        "1. glints_4_oct.csv\n",
        "2. job_glints_mapper.csv\n",
        "3. daftar_kota_kabupaten_id.csv\n",
        "4. glints_company_loc_prov_pulau.csv\n",
        "\n",
        "Data output yang dihasilkan:\n",
        "1. data_loker_glints_16oct.csv\n",
        "2. data_pendidikan_glints_16oct.csv\n",
        "3. data_skill_glints_16oct.csv\n"
      ]
    },
    {
      "cell_type": "code",
      "metadata": {
        "id": "R8OXcsT4mTp5"
      },
      "source": [
        "import pandas as pd\n",
        "import numpy as np\n",
        "import re"
      ],
      "execution_count": 1,
      "outputs": []
    },
    {
      "cell_type": "code",
      "metadata": {
        "id": "DYqFMwyqmFYb",
        "outputId": "84c9dbda-fbf6-4566-a518-1882afa727a8",
        "colab": {
          "base_uri": "https://localhost:8080/",
          "height": 530
        }
      },
      "source": [
        "glints = pd.read_csv(\"/content/drive/My Drive/Data Loker/glints_4oct.csv\")\n",
        "glints.head()"
      ],
      "execution_count": 2,
      "outputs": [
        {
          "output_type": "execute_result",
          "data": {
            "text/html": [
              "<div>\n",
              "<style scoped>\n",
              "    .dataframe tbody tr th:only-of-type {\n",
              "        vertical-align: middle;\n",
              "    }\n",
              "\n",
              "    .dataframe tbody tr th {\n",
              "        vertical-align: top;\n",
              "    }\n",
              "\n",
              "    .dataframe thead th {\n",
              "        text-align: right;\n",
              "    }\n",
              "</style>\n",
              "<table border=\"1\" class=\"dataframe\">\n",
              "  <thead>\n",
              "    <tr style=\"text-align: right;\">\n",
              "      <th></th>\n",
              "      <th>platform</th>\n",
              "      <th>job_position</th>\n",
              "      <th>company_name</th>\n",
              "      <th>job_category</th>\n",
              "      <th>company_location</th>\n",
              "      <th>job_salary</th>\n",
              "      <th>job_type</th>\n",
              "      <th>job_desc</th>\n",
              "      <th>skills_to_have</th>\n",
              "    </tr>\n",
              "  </thead>\n",
              "  <tbody>\n",
              "    <tr>\n",
              "      <th>0</th>\n",
              "      <td>glints</td>\n",
              "      <td>.Net Developer</td>\n",
              "      <td>I-access Solution</td>\n",
              "      <td>Software Engineering</td>\n",
              "      <td>Batam, Indonesia</td>\n",
              "      <td>Perusahaan tidak menampilkan gaji</td>\n",
              "      <td>FULL_TIME</td>\n",
              "      <td>Requirements: [SEP] Min Diploma / Degree in In...</td>\n",
              "      <td>Must Have Skills [SEP] .NET [SEP] English [SEP...</td>\n",
              "    </tr>\n",
              "    <tr>\n",
              "      <th>1</th>\n",
              "      <td>glints</td>\n",
              "      <td>Fullstack Developer (Remote)</td>\n",
              "      <td>Mossery</td>\n",
              "      <td>Software Engineering</td>\n",
              "      <td>Batam, Indonesia</td>\n",
              "      <td>Perusahaan tidak menampilkan gaji</td>\n",
              "      <td>FULL_TIME</td>\n",
              "      <td>What is this job about? [SEP] Mossery is an e-...</td>\n",
              "      <td>Must Have Skills [SEP] ReactJS [SEP] HTML [SEP...</td>\n",
              "    </tr>\n",
              "    <tr>\n",
              "      <th>2</th>\n",
              "      <td>glints</td>\n",
              "      <td>Front-End Internship</td>\n",
              "      <td>PT Mobilkamu Group Indonesia</td>\n",
              "      <td>Software Engineering</td>\n",
              "      <td>Jakarta, Indonesia</td>\n",
              "      <td>IDR 1,000,000 -0 / month</td>\n",
              "      <td>INTERNSHIP</td>\n",
              "      <td>Front-end Spec [SEP] Have experience with at l...</td>\n",
              "      <td>Must Have Skills [SEP] Teamwork [SEP] Microsof...</td>\n",
              "    </tr>\n",
              "    <tr>\n",
              "      <th>3</th>\n",
              "      <td>glints</td>\n",
              "      <td>Backend Developer (REMOTE)</td>\n",
              "      <td>Global Line Network</td>\n",
              "      <td>Software Engineering</td>\n",
              "      <td>Jakarta, Indonesia</td>\n",
              "      <td>Perusahaan tidak menampilkan gaji</td>\n",
              "      <td>FULL_TIME</td>\n",
              "      <td>Job Responsibilities: [SEP] • Designing and de...</td>\n",
              "      <td>Must Have Skills [SEP] Agile Scrum [SEP] Engli...</td>\n",
              "    </tr>\n",
              "    <tr>\n",
              "      <th>4</th>\n",
              "      <td>glints</td>\n",
              "      <td>Front-End Developer (Wordpress)</td>\n",
              "      <td>Web Imp</td>\n",
              "      <td>Software Engineering</td>\n",
              "      <td>Batam, Indonesia</td>\n",
              "      <td>Perusahaan tidak menampilkan gaji</td>\n",
              "      <td>FULL_TIME</td>\n",
              "      <td>[SEP] Wordpress Developer [SEP] Implement prot...</td>\n",
              "      <td>Must Have Skills [SEP] Cms Wordpress [SEP] Wor...</td>\n",
              "    </tr>\n",
              "  </tbody>\n",
              "</table>\n",
              "</div>"
            ],
            "text/plain": [
              "  platform  ...                                     skills_to_have\n",
              "0   glints  ...  Must Have Skills [SEP] .NET [SEP] English [SEP...\n",
              "1   glints  ...  Must Have Skills [SEP] ReactJS [SEP] HTML [SEP...\n",
              "2   glints  ...  Must Have Skills [SEP] Teamwork [SEP] Microsof...\n",
              "3   glints  ...  Must Have Skills [SEP] Agile Scrum [SEP] Engli...\n",
              "4   glints  ...  Must Have Skills [SEP] Cms Wordpress [SEP] Wor...\n",
              "\n",
              "[5 rows x 9 columns]"
            ]
          },
          "metadata": {
            "tags": []
          },
          "execution_count": 2
        }
      ]
    },
    {
      "cell_type": "markdown",
      "metadata": {
        "id": "1k6CNeovmcYu"
      },
      "source": [
        "# Data Cleaning"
      ]
    },
    {
      "cell_type": "code",
      "metadata": {
        "id": "IUs045yAnlrG",
        "outputId": "884cf1ab-2791-4ebd-f975-4ca9846f3fec",
        "colab": {
          "base_uri": "https://localhost:8080/",
          "height": 187
        }
      },
      "source": [
        "# check null value\n",
        "glints.isnull().sum()"
      ],
      "execution_count": 3,
      "outputs": [
        {
          "output_type": "execute_result",
          "data": {
            "text/plain": [
              "platform            0\n",
              "job_position        0\n",
              "company_name        0\n",
              "job_category        0\n",
              "company_location    0\n",
              "job_salary          0\n",
              "job_type            0\n",
              "job_desc            0\n",
              "skills_to_have      0\n",
              "dtype: int64"
            ]
          },
          "metadata": {
            "tags": []
          },
          "execution_count": 3
        }
      ]
    },
    {
      "cell_type": "markdown",
      "metadata": {
        "id": "tUaQjlInmien"
      },
      "source": [
        "## job_position"
      ]
    },
    {
      "cell_type": "code",
      "metadata": {
        "id": "q5bSpzNkmVTl",
        "outputId": "8d974c00-0ddd-4dec-c838-dbd2993d4255",
        "colab": {
          "base_uri": "https://localhost:8080/",
          "height": 221
        }
      },
      "source": [
        "job_position = glints['job_position'].str.lower()\n",
        "job_position.value_counts()"
      ],
      "execution_count": 4,
      "outputs": [
        {
          "output_type": "execute_result",
          "data": {
            "text/plain": [
              "backend developer            25\n",
              "fullstack developer          15\n",
              "account executive            13\n",
              "frontend developer           13\n",
              "sales executive              12\n",
              "                             ..\n",
              "senior fullstack              1\n",
              "general manager               1\n",
              "it field support baturaja     1\n",
              "treasury analyst              1\n",
              "community engagement          1\n",
              "Name: job_position, Length: 1433, dtype: int64"
            ]
          },
          "metadata": {
            "tags": []
          },
          "execution_count": 4
        }
      ]
    },
    {
      "cell_type": "markdown",
      "metadata": {
        "id": "smynpfQfEBG1"
      },
      "source": [
        "Dapat kita bersihkan lagi supaya lebih distinct. Misalkan\n",
        "value **'backend developer', 'back end developer', 'back-end developer'** dapat kita perbaiki menjadi **'backend developer'**."
      ]
    },
    {
      "cell_type": "markdown",
      "metadata": {
        "id": "_XKP5DrfLSrf"
      },
      "source": [
        "### Clustering pekerjaan"
      ]
    },
    {
      "cell_type": "code",
      "metadata": {
        "id": "afJvVzHuQhkX"
      },
      "source": [
        "def clean_job(keyword, replace_keyword, data):\n",
        "    for i in range(len(data)):\n",
        "        if keyword in data[i]:\n",
        "            data[i] = replace_keyword\n",
        "    return data"
      ],
      "execution_count": 5,
      "outputs": []
    },
    {
      "cell_type": "code",
      "metadata": {
        "id": "x9uhXnnyQqdp"
      },
      "source": [
        "temp = job_position.tolist()\n",
        "\n",
        "for i, job in enumerate(temp):\n",
        "    job = re.sub(\"[\\(\\[].*?[\\)\\]]\", \"\", job)\n",
        "    temp[i] = job\n",
        "\n",
        "data = clean_job('backend', 'backend developer', temp)\n",
        "data = clean_job('back end', 'backend developer', data)\n",
        "data = clean_job('back-end', 'backend developer', data)\n",
        "data = clean_job('fullstack', 'fullstack developer', data)\n",
        "data = clean_job('full stack', 'fullstack developer', data)\n",
        "data = clean_job('full-stack', 'fullstack developer', data)\n",
        "data = clean_job('frontend', 'frontend developer', data)\n",
        "data = clean_job('front end', 'frontend developer', data)\n",
        "data = clean_job('front-end', 'frontend developer', data)\n",
        "data = clean_job('account executive', 'account executive', data)\n",
        "data = clean_job('sales executive', 'sales executive', data)\n",
        "data = clean_job('product manager', 'product manager', data)\n",
        "data = clean_job('account manager', 'account manager', data)\n",
        "data = clean_job('android', 'mobile developer', data)\n",
        "data = clean_job('ios', 'mobile developer', data)\n",
        "data = clean_job('software engineer', 'software engineer', data)\n",
        "data = clean_job('ui/ux', 'ui/ux designer', data)\n",
        "data = clean_job('ux designer', 'ui/ux designer', data)\n",
        "data = clean_job('business development', 'business development', data)\n",
        "data = clean_job('project manager', 'project manager', data)\n",
        "data = clean_job('graphic designer', 'graphic designer', data)\n",
        "data = clean_job('web developer', 'web developer', data)\n",
        "data = clean_job('web programmer', 'web developer', data)\n",
        "data = clean_job('quality assurance', 'quality assurance', data)\n",
        "data = clean_job('qa', 'quality assurance', data)\n",
        "data = clean_job('java developer', 'java developer', data)\n",
        "data = clean_job('digital marketing', 'digital marketing', data)\n",
        "data = clean_job('data scientist', 'data scientist', data)\n",
        "data = clean_job('sales manager', 'sales manager', data)\n",
        "data = clean_job('mobile developer', 'mobile developer', data)\n",
        "data = clean_job('mobile', 'mobile developer', data)\n",
        "data = clean_job('mobile app developer', 'mobile developer', data)\n",
        "data = clean_job('devops engineer', 'devops engineer', data)\n",
        "data = clean_job('devops', 'devops engineer', data)\n",
        "data = clean_job('social media', 'social media strategist', data)\n",
        "data = clean_job('content creator', 'content creator', data)\n",
        "data = clean_job('accounting staff', 'accounting staff', data)\n",
        "data = clean_job('graphic design', 'graphic designer', data)\n",
        "data = clean_job('head of sales', 'head of sales', data)\n",
        "data = clean_job('purchasing staff', 'purchasing staff', data)\n",
        "data = clean_job('administrasi', 'staff administrasi', data)\n",
        "data = clean_job('administration staff', 'staff administrasi', data)\n",
        "data = clean_job('staff admin', 'staff administrasi', data)\n",
        "data = clean_job('business consultant', 'business consultant', data)\n",
        "data = clean_job('software developer', 'software engineer', data)\n",
        "data = clean_job('marketing executive', 'marketing executive', data)\n",
        "data = clean_job('sales agent', 'sales', data)\n",
        "data = clean_job('sales person', 'sales', data)\n",
        "data = clean_job('salesman', 'sales', data)\n",
        "data = clean_job('sales development', 'sales', data)\n",
        "data = clean_job('programmer', 'programmer', data)\n",
        "data = clean_job('marketing manager', 'marketing manager', data)\n",
        "data = clean_job('fashion designer', 'fashion designer', data)\n",
        "data = clean_job('translator', 'translator', data)\n",
        "data = clean_job('customer service', 'customer service', data)\n",
        "data = clean_job('telemarketing', 'telemarketing', data)\n",
        "data = clean_job('it security', 'it security', data)\n",
        "data = clean_job('seo', 'seo specialist', data)\n",
        "data = clean_job('hr', 'hrd', data)\n",
        "data = clean_job('scrum', 'scrum master', data)\n",
        "data = clean_job('data engineer', 'data engineer', data)"
      ],
      "execution_count": 6,
      "outputs": []
    },
    {
      "cell_type": "code",
      "metadata": {
        "id": "rrH9tHTcQz6g",
        "outputId": "5e2cfff3-35ca-4140-a6ae-4456567529ca",
        "colab": {
          "base_uri": "https://localhost:8080/",
          "height": 221
        }
      },
      "source": [
        "pd.Series(data).value_counts()"
      ],
      "execution_count": 7,
      "outputs": [
        {
          "output_type": "execute_result",
          "data": {
            "text/plain": [
              "fullstack developer                84\n",
              "mobile developer                   79\n",
              "backend developer                  79\n",
              "frontend developer                 60\n",
              "graphic designer                   50\n",
              "                                   ..\n",
              "finance & accounting internship     1\n",
              "procurement manager                 1\n",
              "associate consultant                1\n",
              "accounting finance                  1\n",
              "team opening                        1\n",
              "Length: 887, dtype: int64"
            ]
          },
          "metadata": {
            "tags": []
          },
          "execution_count": 7
        }
      ]
    },
    {
      "cell_type": "markdown",
      "metadata": {
        "id": "4g_CZ9ENEoV5"
      },
      "source": [
        "Sudah cukup distinct, dari **1433** unique data menjadi **887**.\n",
        "\n",
        "Kita lakukan manual cleaning pada google sheet."
      ]
    },
    {
      "cell_type": "code",
      "metadata": {
        "id": "rCiip5HWUZaR",
        "outputId": "8dfea4f9-8311-40fe-9ad1-e31f689f56e1",
        "colab": {
          "base_uri": "https://localhost:8080/",
          "height": 221
        }
      },
      "source": [
        "# pd.Series(data).value_counts().to_csv('job_glints2.csv')\n",
        "\n",
        "j = pd.read_csv(\"/content/drive/My Drive/Data Loker/job_glints_mapper.csv\")\n",
        "\n",
        "j['target'] = j['target'].str.lower()\n",
        "j['target'].value_counts()"
      ],
      "execution_count": 8,
      "outputs": [
        {
          "output_type": "execute_result",
          "data": {
            "text/plain": [
              "sales                      36\n",
              "tutor                      22\n",
              "marketing                  18\n",
              "content writer             13\n",
              "consultant                 12\n",
              "                           ..\n",
              "data quality test lead      1\n",
              "web testing                 1\n",
              "partnership associate       1\n",
              "chief financial officer     1\n",
              "team opening                1\n",
              "Name: target, Length: 597, dtype: int64"
            ]
          },
          "metadata": {
            "tags": []
          },
          "execution_count": 8
        }
      ]
    },
    {
      "cell_type": "code",
      "metadata": {
        "id": "9qxdQYOISOxU"
      },
      "source": [
        "# create dict mapper\n",
        "job_mapper = dict()\n",
        "\n",
        "for idx, row in j.iterrows():\n",
        "    job_mapper[row['asli']] = row['target']\n",
        "\n",
        "temp = pd.Series(data).map(job_mapper)"
      ],
      "execution_count": 9,
      "outputs": []
    },
    {
      "cell_type": "code",
      "metadata": {
        "id": "ZThP4yNsTqwN",
        "outputId": "fc6a6994-4484-4d57-e5e5-3b00c42fe503",
        "colab": {
          "base_uri": "https://localhost:8080/",
          "height": 34
        }
      },
      "source": [
        "temp.isnull().sum()"
      ],
      "execution_count": 10,
      "outputs": [
        {
          "output_type": "execute_result",
          "data": {
            "text/plain": [
              "201"
            ]
          },
          "metadata": {
            "tags": []
          },
          "execution_count": 10
        }
      ]
    },
    {
      "cell_type": "code",
      "metadata": {
        "id": "9e052s9cTiL8"
      },
      "source": [
        "# isi data kosong dengan 'dihapus'\n",
        "data = temp.fillna('dihapus')\n",
        "\n",
        "for idx,d in enumerate(data.tolist()):\n",
        "    if len(d)<=1:\n",
        "        print(idx,d)"
      ],
      "execution_count": 11,
      "outputs": []
    },
    {
      "cell_type": "code",
      "metadata": {
        "id": "_XxGYdibLxHi",
        "outputId": "5176c4ef-7ea7-4ac2-edc9-d65927a14a07",
        "colab": {
          "base_uri": "https://localhost:8080/",
          "height": 221
        }
      },
      "source": [
        "# capitalize\n",
        "for idx,d in enumerate(data):\n",
        "    data[idx] = d.title()\n",
        "\n",
        "pd.Series(data).value_counts()"
      ],
      "execution_count": 12,
      "outputs": [
        {
          "output_type": "execute_result",
          "data": {
            "text/plain": [
              "Dihapus                      201\n",
              "Fullstack Developer           84\n",
              "Mobile Developer              79\n",
              "Backend Developer             79\n",
              "Sales                         61\n",
              "                            ... \n",
              "Freelance Designer             1\n",
              "Finance & Tax Officer          1\n",
              "Creative Group Head            1\n",
              "Manager Rel Kereta Api         1\n",
              "Network Operations Center      1\n",
              "Length: 506, dtype: int64"
            ]
          },
          "metadata": {
            "tags": []
          },
          "execution_count": 12
        }
      ]
    },
    {
      "cell_type": "code",
      "metadata": {
        "id": "ziJ7g035J_65"
      },
      "source": [
        "# pd.Series(temp).value_counts().to_csv('glints_job.csv')\n",
        "# job_position.to_csv('glints_15oct.csv', index=False)"
      ],
      "execution_count": 13,
      "outputs": []
    },
    {
      "cell_type": "code",
      "metadata": {
        "id": "Ew0JyaCInqh1",
        "outputId": "675a0114-4d58-491a-d61a-3d5dd1824b61",
        "colab": {
          "base_uri": "https://localhost:8080/",
          "height": 34
        }
      },
      "source": [
        "glints['job_position'] = data\n",
        "\n",
        "# drop row yang 'Dihapus'\n",
        "glints = glints[glints.job_position != 'Dihapus'].reset_index(drop=True)\n",
        "glints.shape"
      ],
      "execution_count": 14,
      "outputs": [
        {
          "output_type": "execute_result",
          "data": {
            "text/plain": [
              "(1749, 9)"
            ]
          },
          "metadata": {
            "tags": []
          },
          "execution_count": 14
        }
      ]
    },
    {
      "cell_type": "markdown",
      "metadata": {
        "id": "64Hd-g7sVpOX"
      },
      "source": [
        "## company_name"
      ]
    },
    {
      "cell_type": "code",
      "metadata": {
        "id": "6ODVssoRpEaK",
        "outputId": "832d64ab-256c-4f7e-9344-b75de883ebbb",
        "colab": {
          "base_uri": "https://localhost:8080/",
          "height": 221
        }
      },
      "source": [
        "company_name = glints['company_name']\n",
        "company_name.value_counts()"
      ],
      "execution_count": 15,
      "outputs": [
        {
          "output_type": "execute_result",
          "data": {
            "text/plain": [
              "PT. Bintang Jaya Unggul Sentosa           23\n",
              "Confidential Company Talenthunt 1 -006    20\n",
              "AIA Singapore Pte Ltd                     19\n",
              "PT Hokinda Citralestari                   19\n",
              "Jakmall.com                               17\n",
              "                                          ..\n",
              "Id/x Partners                              1\n",
              "Sojilabs Indonesia                         1\n",
              "Ashnik Pte. Ltd.                           1\n",
              "PT. Venteny Matahari Indonesia             1\n",
              "Anacle Systems Limited                     1\n",
              "Name: company_name, Length: 718, dtype: int64"
            ]
          },
          "metadata": {
            "tags": []
          },
          "execution_count": 15
        }
      ]
    },
    {
      "cell_type": "markdown",
      "metadata": {
        "id": "C1R-UMrnWAbD"
      },
      "source": [
        "> tidak diubah"
      ]
    },
    {
      "cell_type": "markdown",
      "metadata": {
        "id": "chvy5ccLWDTZ"
      },
      "source": [
        "## job_category"
      ]
    },
    {
      "cell_type": "code",
      "metadata": {
        "id": "yVaS8DSMVx2d",
        "outputId": "75350a54-a949-4e49-9d6b-d223c389ad66",
        "colab": {
          "base_uri": "https://localhost:8080/",
          "height": 374
        }
      },
      "source": [
        "job_category = glints['job_category']\n",
        "job_category.value_counts()"
      ],
      "execution_count": 16,
      "outputs": [
        {
          "output_type": "execute_result",
          "data": {
            "text/plain": [
              "Software Engineering            568\n",
              "Business Development / Sales    269\n",
              "Marketing                       186\n",
              "Design                          125\n",
              "Finance                          86\n",
              "Other                            68\n",
              "Operations                       65\n",
              "Product Management               63\n",
              "Administrative                   62\n",
              "Engineering                      50\n",
              "Media & Communications           50\n",
              "Education                        49\n",
              "Data Science                     35\n",
              "Human Resource                   30\n",
              "Consulting                       13\n",
              "Management                       13\n",
              "Legal                            11\n",
              "Hospitality and Travel            3\n",
              "Healthcare                        2\n",
              "Language and Translation          1\n",
              "Name: job_category, dtype: int64"
            ]
          },
          "metadata": {
            "tags": []
          },
          "execution_count": 16
        }
      ]
    },
    {
      "cell_type": "markdown",
      "metadata": {
        "id": "FGW4GwqvFDAA"
      },
      "source": [
        "> Sudah cukup bagus"
      ]
    },
    {
      "cell_type": "markdown",
      "metadata": {
        "id": "g6ZkE45xWMDC"
      },
      "source": [
        "## company_location"
      ]
    },
    {
      "cell_type": "code",
      "metadata": {
        "id": "sjegTfTRWG7F",
        "outputId": "0695bb1d-928f-4572-f50d-dcf50146db45",
        "colab": {
          "base_uri": "https://localhost:8080/",
          "height": 697
        }
      },
      "source": [
        "company_location = glints['company_location']\n",
        "company_location.value_counts()"
      ],
      "execution_count": 17,
      "outputs": [
        {
          "output_type": "execute_result",
          "data": {
            "text/plain": [
              "Jakarta, Indonesia            1088\n",
              "Batam, Indonesia               131\n",
              "Bandung, Indonesia             113\n",
              "Yogyakarta, Indonesia           82\n",
              "Surabaya, Indonesia             64\n",
              "Tangerang, Indonesia            58\n",
              "South Tangerang, Indonesia      41\n",
              "Malang, Indonesia               24\n",
              "Medan, Indonesia                23\n",
              "Bekasi, Indonesia               22\n",
              "Depok, Indonesia                18\n",
              "Bogor, Indonesia                16\n",
              "Semarang, Indonesia             14\n",
              "Tulungagung, Indonesia           6\n",
              "Padang, Indonesia                6\n",
              "Denpasar, Indonesia              5\n",
              "Pekanbaru, Indonesia             4\n",
              "Serpong, Indonesia               4\n",
              "Makassar, Indonesia              3\n",
              "Pandeglang, Indonesia            2\n",
              "Badung, Indonesia                2\n",
              "Palembang, Indonesia             2\n",
              "Solo, Indonesia                  2\n",
              "Mojokerto, Indonesia             2\n",
              "Cirebon, Indonesia               2\n",
              "Balikpapan, Indonesia            2\n",
              "Cilegon, Indonesia               1\n",
              "Klaten, Indonesia                1\n",
              "Abepura, Indonesia               1\n",
              "Cibitung, Indonesia              1\n",
              "Subang, Indonesia                1\n",
              "Singaraja, Indonesia             1\n",
              "Cimahi, Indonesia                1\n",
              "Baturaja, Indonesia              1\n",
              "Cikupa, Indonesia                1\n",
              "Prabumulih, Indonesia            1\n",
              " Indonesia                       1\n",
              "Sidoarjo, Indonesia              1\n",
              "Duri, Indonesia                  1\n",
              "Name: company_location, dtype: int64"
            ]
          },
          "metadata": {
            "tags": []
          },
          "execution_count": 17
        }
      ]
    },
    {
      "cell_type": "code",
      "metadata": {
        "id": "JuH6RqNrXTOi"
      },
      "source": [
        "# company_location.value_counts().to_csv('glints_company_loc.csv')"
      ],
      "execution_count": 18,
      "outputs": []
    },
    {
      "cell_type": "markdown",
      "metadata": {
        "id": "3RLzWslCFHNX"
      },
      "source": [
        "Kita ekstrak menjadi atribut <code>pulau</code>, <code>provinsi</code>, <code>kota</code>."
      ]
    },
    {
      "cell_type": "code",
      "metadata": {
        "id": "UsHbHomhWYdh",
        "outputId": "4ad8c0ee-959b-42bf-bb8d-3e7ee8bf246e",
        "colab": {
          "base_uri": "https://localhost:8080/",
          "height": 204
        }
      },
      "source": [
        "# data bantuan \n",
        "kota_kab = pd.read_csv(\"/content/drive/My Drive/Data Loker/daftar_kota_kabupaten_id.csv\")\n",
        "kota_kab.head()"
      ],
      "execution_count": 19,
      "outputs": [
        {
          "output_type": "execute_result",
          "data": {
            "text/html": [
              "<div>\n",
              "<style scoped>\n",
              "    .dataframe tbody tr th:only-of-type {\n",
              "        vertical-align: middle;\n",
              "    }\n",
              "\n",
              "    .dataframe tbody tr th {\n",
              "        vertical-align: top;\n",
              "    }\n",
              "\n",
              "    .dataframe thead th {\n",
              "        text-align: right;\n",
              "    }\n",
              "</style>\n",
              "<table border=\"1\" class=\"dataframe\">\n",
              "  <thead>\n",
              "    <tr style=\"text-align: right;\">\n",
              "      <th></th>\n",
              "      <th>Pulau</th>\n",
              "      <th>Provinsi</th>\n",
              "      <th>Kabupaten/Kota</th>\n",
              "    </tr>\n",
              "  </thead>\n",
              "  <tbody>\n",
              "    <tr>\n",
              "      <th>0</th>\n",
              "      <td>Sumatera</td>\n",
              "      <td>Aceh</td>\n",
              "      <td>Aceh Barat</td>\n",
              "    </tr>\n",
              "    <tr>\n",
              "      <th>1</th>\n",
              "      <td>Sumatera</td>\n",
              "      <td>Aceh</td>\n",
              "      <td>Aceh Barat Daya</td>\n",
              "    </tr>\n",
              "    <tr>\n",
              "      <th>2</th>\n",
              "      <td>Sumatera</td>\n",
              "      <td>Aceh</td>\n",
              "      <td>Aceh Besar</td>\n",
              "    </tr>\n",
              "    <tr>\n",
              "      <th>3</th>\n",
              "      <td>Sumatera</td>\n",
              "      <td>Aceh</td>\n",
              "      <td>Aceh Jaya</td>\n",
              "    </tr>\n",
              "    <tr>\n",
              "      <th>4</th>\n",
              "      <td>Sumatera</td>\n",
              "      <td>Aceh</td>\n",
              "      <td>Aceh Selatan</td>\n",
              "    </tr>\n",
              "  </tbody>\n",
              "</table>\n",
              "</div>"
            ],
            "text/plain": [
              "      Pulau Provinsi   Kabupaten/Kota\n",
              "0  Sumatera     Aceh       Aceh Barat\n",
              "1  Sumatera     Aceh  Aceh Barat Daya\n",
              "2  Sumatera     Aceh       Aceh Besar\n",
              "3  Sumatera     Aceh        Aceh Jaya\n",
              "4  Sumatera     Aceh     Aceh Selatan"
            ]
          },
          "metadata": {
            "tags": []
          },
          "execution_count": 19
        }
      ]
    },
    {
      "cell_type": "markdown",
      "metadata": {
        "id": "Ab_tkg8iFfwW"
      },
      "source": [
        "Dilakukan manual perbaikan data pada google sheet."
      ]
    },
    {
      "cell_type": "code",
      "metadata": {
        "id": "Z1FPMY7NXSai",
        "outputId": "a1382988-da62-40b6-f850-acde8ca24a6e",
        "colab": {
          "base_uri": "https://localhost:8080/",
          "height": 204
        }
      },
      "source": [
        "loc = pd.read_csv(\"/content/drive/My Drive/Data Loker/glints_company_loc_prov_pulau.csv\")\n",
        "loc.head()"
      ],
      "execution_count": 20,
      "outputs": [
        {
          "output_type": "execute_result",
          "data": {
            "text/html": [
              "<div>\n",
              "<style scoped>\n",
              "    .dataframe tbody tr th:only-of-type {\n",
              "        vertical-align: middle;\n",
              "    }\n",
              "\n",
              "    .dataframe tbody tr th {\n",
              "        vertical-align: top;\n",
              "    }\n",
              "\n",
              "    .dataframe thead th {\n",
              "        text-align: right;\n",
              "    }\n",
              "</style>\n",
              "<table border=\"1\" class=\"dataframe\">\n",
              "  <thead>\n",
              "    <tr style=\"text-align: right;\">\n",
              "      <th></th>\n",
              "      <th>Asli</th>\n",
              "      <th>Pulau</th>\n",
              "      <th>Provinsi</th>\n",
              "      <th>company_location</th>\n",
              "    </tr>\n",
              "  </thead>\n",
              "  <tbody>\n",
              "    <tr>\n",
              "      <th>0</th>\n",
              "      <td>Jakarta, Indonesia</td>\n",
              "      <td>Jawa</td>\n",
              "      <td>DKI Jakarta</td>\n",
              "      <td>1088</td>\n",
              "    </tr>\n",
              "    <tr>\n",
              "      <th>1</th>\n",
              "      <td>Batam, Indonesia</td>\n",
              "      <td>Sumatera</td>\n",
              "      <td>Kepulauan Riau</td>\n",
              "      <td>131</td>\n",
              "    </tr>\n",
              "    <tr>\n",
              "      <th>2</th>\n",
              "      <td>Bandung, Indonesia</td>\n",
              "      <td>Jawa</td>\n",
              "      <td>Jawa Barat</td>\n",
              "      <td>113</td>\n",
              "    </tr>\n",
              "    <tr>\n",
              "      <th>3</th>\n",
              "      <td>Yogyakarta, Indonesia</td>\n",
              "      <td>Jawa</td>\n",
              "      <td>DI Yogyakarta</td>\n",
              "      <td>82</td>\n",
              "    </tr>\n",
              "    <tr>\n",
              "      <th>4</th>\n",
              "      <td>Surabaya, Indonesia</td>\n",
              "      <td>Jawa</td>\n",
              "      <td>Jawa Timur</td>\n",
              "      <td>64</td>\n",
              "    </tr>\n",
              "  </tbody>\n",
              "</table>\n",
              "</div>"
            ],
            "text/plain": [
              "                    Asli     Pulau        Provinsi  company_location\n",
              "0     Jakarta, Indonesia      Jawa     DKI Jakarta              1088\n",
              "1       Batam, Indonesia  Sumatera  Kepulauan Riau               131\n",
              "2     Bandung, Indonesia      Jawa      Jawa Barat               113\n",
              "3  Yogyakarta, Indonesia      Jawa   DI Yogyakarta                82\n",
              "4    Surabaya, Indonesia      Jawa      Jawa Timur                64"
            ]
          },
          "metadata": {
            "tags": []
          },
          "execution_count": 20
        }
      ]
    },
    {
      "cell_type": "code",
      "metadata": {
        "id": "6beyC9wKXEB1"
      },
      "source": [
        "# create dict mapper\n",
        "pulau_mapper = dict()\n",
        "prov_mapper = dict()\n",
        "for idx, row in loc.iterrows():\n",
        "    pulau_mapper[row['Asli']] = row['Pulau']\n",
        "    prov_mapper[row['Asli']] = row['Provinsi']\n",
        "\n",
        "pulau = company_location.map(pulau_mapper)\n",
        "provinsi = company_location.map(prov_mapper)"
      ],
      "execution_count": 21,
      "outputs": []
    },
    {
      "cell_type": "code",
      "metadata": {
        "id": "Qx4dGSVzW6YY"
      },
      "source": [
        "kota = list()\n",
        "for loc in company_location:\n",
        "    split = loc.split(',')[0].strip()\n",
        "    kota.append(split)\n",
        "\n",
        "glints['kota'] = kota\n",
        "glints['pulau'] = pulau\n",
        "glints['provinsi'] = provinsi\n",
        "\n",
        "# drop company_location\n",
        "glints = glints.drop(['company_location'], axis=1)"
      ],
      "execution_count": 22,
      "outputs": []
    },
    {
      "cell_type": "code",
      "metadata": {
        "id": "IrJKXDkmavak",
        "outputId": "0d5bf52f-02a2-401f-c5f8-5ed9803c69bc",
        "colab": {
          "base_uri": "https://localhost:8080/",
          "height": 530
        }
      },
      "source": [
        "glints.head()"
      ],
      "execution_count": 23,
      "outputs": [
        {
          "output_type": "execute_result",
          "data": {
            "text/html": [
              "<div>\n",
              "<style scoped>\n",
              "    .dataframe tbody tr th:only-of-type {\n",
              "        vertical-align: middle;\n",
              "    }\n",
              "\n",
              "    .dataframe tbody tr th {\n",
              "        vertical-align: top;\n",
              "    }\n",
              "\n",
              "    .dataframe thead th {\n",
              "        text-align: right;\n",
              "    }\n",
              "</style>\n",
              "<table border=\"1\" class=\"dataframe\">\n",
              "  <thead>\n",
              "    <tr style=\"text-align: right;\">\n",
              "      <th></th>\n",
              "      <th>platform</th>\n",
              "      <th>job_position</th>\n",
              "      <th>company_name</th>\n",
              "      <th>job_category</th>\n",
              "      <th>job_salary</th>\n",
              "      <th>job_type</th>\n",
              "      <th>job_desc</th>\n",
              "      <th>skills_to_have</th>\n",
              "      <th>kota</th>\n",
              "      <th>pulau</th>\n",
              "      <th>provinsi</th>\n",
              "    </tr>\n",
              "  </thead>\n",
              "  <tbody>\n",
              "    <tr>\n",
              "      <th>0</th>\n",
              "      <td>glints</td>\n",
              "      <td>.Net Developer</td>\n",
              "      <td>I-access Solution</td>\n",
              "      <td>Software Engineering</td>\n",
              "      <td>Perusahaan tidak menampilkan gaji</td>\n",
              "      <td>FULL_TIME</td>\n",
              "      <td>Requirements: [SEP] Min Diploma / Degree in In...</td>\n",
              "      <td>Must Have Skills [SEP] .NET [SEP] English [SEP...</td>\n",
              "      <td>Batam</td>\n",
              "      <td>Sumatera</td>\n",
              "      <td>Kepulauan Riau</td>\n",
              "    </tr>\n",
              "    <tr>\n",
              "      <th>1</th>\n",
              "      <td>glints</td>\n",
              "      <td>Fullstack Developer</td>\n",
              "      <td>Mossery</td>\n",
              "      <td>Software Engineering</td>\n",
              "      <td>Perusahaan tidak menampilkan gaji</td>\n",
              "      <td>FULL_TIME</td>\n",
              "      <td>What is this job about? [SEP] Mossery is an e-...</td>\n",
              "      <td>Must Have Skills [SEP] ReactJS [SEP] HTML [SEP...</td>\n",
              "      <td>Batam</td>\n",
              "      <td>Sumatera</td>\n",
              "      <td>Kepulauan Riau</td>\n",
              "    </tr>\n",
              "    <tr>\n",
              "      <th>2</th>\n",
              "      <td>glints</td>\n",
              "      <td>Frontend Developer</td>\n",
              "      <td>PT Mobilkamu Group Indonesia</td>\n",
              "      <td>Software Engineering</td>\n",
              "      <td>IDR 1,000,000 -0 / month</td>\n",
              "      <td>INTERNSHIP</td>\n",
              "      <td>Front-end Spec [SEP] Have experience with at l...</td>\n",
              "      <td>Must Have Skills [SEP] Teamwork [SEP] Microsof...</td>\n",
              "      <td>Jakarta</td>\n",
              "      <td>Jawa</td>\n",
              "      <td>DKI Jakarta</td>\n",
              "    </tr>\n",
              "    <tr>\n",
              "      <th>3</th>\n",
              "      <td>glints</td>\n",
              "      <td>Backend Developer</td>\n",
              "      <td>Global Line Network</td>\n",
              "      <td>Software Engineering</td>\n",
              "      <td>Perusahaan tidak menampilkan gaji</td>\n",
              "      <td>FULL_TIME</td>\n",
              "      <td>Job Responsibilities: [SEP] • Designing and de...</td>\n",
              "      <td>Must Have Skills [SEP] Agile Scrum [SEP] Engli...</td>\n",
              "      <td>Jakarta</td>\n",
              "      <td>Jawa</td>\n",
              "      <td>DKI Jakarta</td>\n",
              "    </tr>\n",
              "    <tr>\n",
              "      <th>4</th>\n",
              "      <td>glints</td>\n",
              "      <td>Frontend Developer</td>\n",
              "      <td>Web Imp</td>\n",
              "      <td>Software Engineering</td>\n",
              "      <td>Perusahaan tidak menampilkan gaji</td>\n",
              "      <td>FULL_TIME</td>\n",
              "      <td>[SEP] Wordpress Developer [SEP] Implement prot...</td>\n",
              "      <td>Must Have Skills [SEP] Cms Wordpress [SEP] Wor...</td>\n",
              "      <td>Batam</td>\n",
              "      <td>Sumatera</td>\n",
              "      <td>Kepulauan Riau</td>\n",
              "    </tr>\n",
              "  </tbody>\n",
              "</table>\n",
              "</div>"
            ],
            "text/plain": [
              "  platform         job_position  ...     pulau        provinsi\n",
              "0   glints       .Net Developer  ...  Sumatera  Kepulauan Riau\n",
              "1   glints  Fullstack Developer  ...  Sumatera  Kepulauan Riau\n",
              "2   glints   Frontend Developer  ...      Jawa     DKI Jakarta\n",
              "3   glints    Backend Developer  ...      Jawa     DKI Jakarta\n",
              "4   glints   Frontend Developer  ...  Sumatera  Kepulauan Riau\n",
              "\n",
              "[5 rows x 11 columns]"
            ]
          },
          "metadata": {
            "tags": []
          },
          "execution_count": 23
        }
      ]
    },
    {
      "cell_type": "markdown",
      "metadata": {
        "id": "3jopKIH2b2mj"
      },
      "source": [
        "## job_salary"
      ]
    },
    {
      "cell_type": "code",
      "metadata": {
        "id": "h5GQ0Easa1hq",
        "outputId": "f097cf55-3a69-47bc-af51-ed5e86a2efbe",
        "colab": {
          "base_uri": "https://localhost:8080/",
          "height": 221
        }
      },
      "source": [
        "job_salary = glints['job_salary']\n",
        "job_salary.value_counts()"
      ],
      "execution_count": 24,
      "outputs": [
        {
          "output_type": "execute_result",
          "data": {
            "text/plain": [
              "Perusahaan tidak menampilkan gaji    1217\n",
              "IDR 4,000,000 -6,000,000 / month       22\n",
              "IDR 4,000,000 -5,000,000 / month       16\n",
              "IDR 3,500,000 -5,000,000 / month       15\n",
              "IDR 5,000,000 -10,000,000 / month      14\n",
              "                                     ... \n",
              "IDR 800,000 -1,500,000 / month          1\n",
              "IDR 2,000,000 -15,000,000 / year        1\n",
              "IDR 4,300,000 -6,500,000 / month        1\n",
              "IDR 500,000 -750,000 / project          1\n",
              "IDR 300,000 -440,000 / month            1\n",
              "Name: job_salary, Length: 229, dtype: int64"
            ]
          },
          "metadata": {
            "tags": []
          },
          "execution_count": 24
        }
      ]
    },
    {
      "cell_type": "code",
      "metadata": {
        "id": "4vVvT5EJb8WJ"
      },
      "source": [
        "# remove space sebelum '-'\n",
        "result = list()\n",
        "for sal in job_salary:\n",
        "    split = [data.strip() for data in sal.split('-')]\n",
        "    join = '-'.join(split)\n",
        "    result.append(join)"
      ],
      "execution_count": 25,
      "outputs": []
    },
    {
      "cell_type": "code",
      "metadata": {
        "id": "EbbDKBchcNIt"
      },
      "source": [
        "glints['job_salary'] = result"
      ],
      "execution_count": 26,
      "outputs": []
    },
    {
      "cell_type": "code",
      "metadata": {
        "id": "5eKxRf-gc39K",
        "outputId": "3d58b413-5788-4331-f3fd-4c21ced19748",
        "colab": {
          "base_uri": "https://localhost:8080/",
          "height": 35
        }
      },
      "source": [
        "glints.job_salary[1500]"
      ],
      "execution_count": 27,
      "outputs": [
        {
          "output_type": "execute_result",
          "data": {
            "application/vnd.google.colaboratory.intrinsic+json": {
              "type": "string"
            },
            "text/plain": [
              "'IDR\\xa03,000,000-5,000,000\\xa0/\\xa0month'"
            ]
          },
          "metadata": {
            "tags": []
          },
          "execution_count": 27
        }
      ]
    },
    {
      "cell_type": "code",
      "metadata": {
        "id": "ETJvmuDxdAd_"
      },
      "source": [
        "# remove unwanted things\n",
        "import re\n",
        "\n",
        "result = list()\n",
        "for sal in glints['job_salary']:\n",
        "    clean = re.sub(r'[^\\x00-\\x7F]+',' ',sal).encode('utf-8').decode('utf-8','ignore').strip()\n",
        "    result.append(clean)"
      ],
      "execution_count": 28,
      "outputs": []
    },
    {
      "cell_type": "code",
      "metadata": {
        "id": "9sfJjOwCdkow"
      },
      "source": [
        "glints['job_salary'] = result"
      ],
      "execution_count": 29,
      "outputs": []
    },
    {
      "cell_type": "code",
      "metadata": {
        "id": "FbohS_rAeQmD",
        "outputId": "7a4e43e3-d29f-46bd-908e-0d647d63dd04",
        "colab": {
          "base_uri": "https://localhost:8080/",
          "height": 35
        }
      },
      "source": [
        "glints.job_salary[1500]"
      ],
      "execution_count": 30,
      "outputs": [
        {
          "output_type": "execute_result",
          "data": {
            "application/vnd.google.colaboratory.intrinsic+json": {
              "type": "string"
            },
            "text/plain": [
              "'IDR 3,000,000-5,000,000 / month'"
            ]
          },
          "metadata": {
            "tags": []
          },
          "execution_count": 30
        }
      ]
    },
    {
      "cell_type": "code",
      "metadata": {
        "id": "YXJlg-xjeRoT",
        "outputId": "ced8fdcd-eaa1-4af2-b71e-972a798eea77",
        "colab": {
          "base_uri": "https://localhost:8080/",
          "height": 530
        }
      },
      "source": [
        "glints.head()"
      ],
      "execution_count": 31,
      "outputs": [
        {
          "output_type": "execute_result",
          "data": {
            "text/html": [
              "<div>\n",
              "<style scoped>\n",
              "    .dataframe tbody tr th:only-of-type {\n",
              "        vertical-align: middle;\n",
              "    }\n",
              "\n",
              "    .dataframe tbody tr th {\n",
              "        vertical-align: top;\n",
              "    }\n",
              "\n",
              "    .dataframe thead th {\n",
              "        text-align: right;\n",
              "    }\n",
              "</style>\n",
              "<table border=\"1\" class=\"dataframe\">\n",
              "  <thead>\n",
              "    <tr style=\"text-align: right;\">\n",
              "      <th></th>\n",
              "      <th>platform</th>\n",
              "      <th>job_position</th>\n",
              "      <th>company_name</th>\n",
              "      <th>job_category</th>\n",
              "      <th>job_salary</th>\n",
              "      <th>job_type</th>\n",
              "      <th>job_desc</th>\n",
              "      <th>skills_to_have</th>\n",
              "      <th>kota</th>\n",
              "      <th>pulau</th>\n",
              "      <th>provinsi</th>\n",
              "    </tr>\n",
              "  </thead>\n",
              "  <tbody>\n",
              "    <tr>\n",
              "      <th>0</th>\n",
              "      <td>glints</td>\n",
              "      <td>.Net Developer</td>\n",
              "      <td>I-access Solution</td>\n",
              "      <td>Software Engineering</td>\n",
              "      <td>Perusahaan tidak menampilkan gaji</td>\n",
              "      <td>FULL_TIME</td>\n",
              "      <td>Requirements: [SEP] Min Diploma / Degree in In...</td>\n",
              "      <td>Must Have Skills [SEP] .NET [SEP] English [SEP...</td>\n",
              "      <td>Batam</td>\n",
              "      <td>Sumatera</td>\n",
              "      <td>Kepulauan Riau</td>\n",
              "    </tr>\n",
              "    <tr>\n",
              "      <th>1</th>\n",
              "      <td>glints</td>\n",
              "      <td>Fullstack Developer</td>\n",
              "      <td>Mossery</td>\n",
              "      <td>Software Engineering</td>\n",
              "      <td>Perusahaan tidak menampilkan gaji</td>\n",
              "      <td>FULL_TIME</td>\n",
              "      <td>What is this job about? [SEP] Mossery is an e-...</td>\n",
              "      <td>Must Have Skills [SEP] ReactJS [SEP] HTML [SEP...</td>\n",
              "      <td>Batam</td>\n",
              "      <td>Sumatera</td>\n",
              "      <td>Kepulauan Riau</td>\n",
              "    </tr>\n",
              "    <tr>\n",
              "      <th>2</th>\n",
              "      <td>glints</td>\n",
              "      <td>Frontend Developer</td>\n",
              "      <td>PT Mobilkamu Group Indonesia</td>\n",
              "      <td>Software Engineering</td>\n",
              "      <td>IDR 1,000,000-0 / month</td>\n",
              "      <td>INTERNSHIP</td>\n",
              "      <td>Front-end Spec [SEP] Have experience with at l...</td>\n",
              "      <td>Must Have Skills [SEP] Teamwork [SEP] Microsof...</td>\n",
              "      <td>Jakarta</td>\n",
              "      <td>Jawa</td>\n",
              "      <td>DKI Jakarta</td>\n",
              "    </tr>\n",
              "    <tr>\n",
              "      <th>3</th>\n",
              "      <td>glints</td>\n",
              "      <td>Backend Developer</td>\n",
              "      <td>Global Line Network</td>\n",
              "      <td>Software Engineering</td>\n",
              "      <td>Perusahaan tidak menampilkan gaji</td>\n",
              "      <td>FULL_TIME</td>\n",
              "      <td>Job Responsibilities: [SEP] • Designing and de...</td>\n",
              "      <td>Must Have Skills [SEP] Agile Scrum [SEP] Engli...</td>\n",
              "      <td>Jakarta</td>\n",
              "      <td>Jawa</td>\n",
              "      <td>DKI Jakarta</td>\n",
              "    </tr>\n",
              "    <tr>\n",
              "      <th>4</th>\n",
              "      <td>glints</td>\n",
              "      <td>Frontend Developer</td>\n",
              "      <td>Web Imp</td>\n",
              "      <td>Software Engineering</td>\n",
              "      <td>Perusahaan tidak menampilkan gaji</td>\n",
              "      <td>FULL_TIME</td>\n",
              "      <td>[SEP] Wordpress Developer [SEP] Implement prot...</td>\n",
              "      <td>Must Have Skills [SEP] Cms Wordpress [SEP] Wor...</td>\n",
              "      <td>Batam</td>\n",
              "      <td>Sumatera</td>\n",
              "      <td>Kepulauan Riau</td>\n",
              "    </tr>\n",
              "  </tbody>\n",
              "</table>\n",
              "</div>"
            ],
            "text/plain": [
              "  platform         job_position  ...     pulau        provinsi\n",
              "0   glints       .Net Developer  ...  Sumatera  Kepulauan Riau\n",
              "1   glints  Fullstack Developer  ...  Sumatera  Kepulauan Riau\n",
              "2   glints   Frontend Developer  ...      Jawa     DKI Jakarta\n",
              "3   glints    Backend Developer  ...      Jawa     DKI Jakarta\n",
              "4   glints   Frontend Developer  ...  Sumatera  Kepulauan Riau\n",
              "\n",
              "[5 rows x 11 columns]"
            ]
          },
          "metadata": {
            "tags": []
          },
          "execution_count": 31
        }
      ]
    },
    {
      "cell_type": "markdown",
      "metadata": {
        "id": "tlatwdZaeXiZ"
      },
      "source": [
        "## job_type"
      ]
    },
    {
      "cell_type": "code",
      "metadata": {
        "id": "3pXG_dCleUnZ",
        "outputId": "5d88984d-73b8-447c-e801-d17b60a55519",
        "colab": {
          "base_uri": "https://localhost:8080/",
          "height": 102
        }
      },
      "source": [
        "job_type = glints['job_type']\n",
        "job_type.value_counts()"
      ],
      "execution_count": 32,
      "outputs": [
        {
          "output_type": "execute_result",
          "data": {
            "text/plain": [
              "FULL_TIME        1580\n",
              "INTERNSHIP        105\n",
              "PROJECT_BASED      40\n",
              "PART_TIME          24\n",
              "Name: job_type, dtype: int64"
            ]
          },
          "metadata": {
            "tags": []
          },
          "execution_count": 32
        }
      ]
    },
    {
      "cell_type": "markdown",
      "metadata": {
        "id": "n9CQ186Uedmv"
      },
      "source": [
        "> Data oke"
      ]
    },
    {
      "cell_type": "markdown",
      "metadata": {
        "id": "rvHH6iL1eg6P"
      },
      "source": [
        "## job_desc\n",
        "Lakukan ekstrak untuk atribut <code>pendidikan</code>"
      ]
    },
    {
      "cell_type": "code",
      "metadata": {
        "id": "g9vUoZV1egJr",
        "outputId": "1b2ec862-6899-45d4-e1be-5a3060d4a5af",
        "colab": {
          "base_uri": "https://localhost:8080/",
          "height": 221
        }
      },
      "source": [
        "job_description = glints['job_desc'].str.lower()\n",
        "job_description"
      ],
      "execution_count": 33,
      "outputs": [
        {
          "output_type": "execute_result",
          "data": {
            "text/plain": [
              "0       requirements: [sep] min diploma / degree in in...\n",
              "1       what is this job about? [sep] mossery is an e-...\n",
              "2       front-end spec [sep] have experience with at l...\n",
              "3       job responsibilities: [sep] • designing and de...\n",
              "4       [sep] wordpress developer [sep] implement prot...\n",
              "                              ...                        \n",
              "1744    go mobile indonesia is a rapidly developing fu...\n",
              "1745    go mobile indonesia [sep] is a rapidly develop...\n",
              "1746    get involved in a team of web applications, we...\n",
              "1747    go mobile indonesia [sep] is a rapidly develop...\n",
              "1748    we are an edu-tech company delivering better l...\n",
              "Name: job_desc, Length: 1749, dtype: object"
            ]
          },
          "metadata": {
            "tags": []
          },
          "execution_count": 33
        }
      ]
    },
    {
      "cell_type": "code",
      "metadata": {
        "id": "_h58z2jegy-D",
        "outputId": "22b5ecb2-3011-4a5d-a5d3-12eb6a172de3",
        "colab": {
          "base_uri": "https://localhost:8080/",
          "height": 34
        }
      },
      "source": [
        "counter = 0\n",
        "for desc in job_description:\n",
        "    if 'diploma' in desc:\n",
        "        counter +=1\n",
        "    elif 'bachelor' in desc:\n",
        "        counter+=1\n",
        "    elif 's1' in desc:\n",
        "        counter+=1\n",
        "    elif 'd3' in desc:\n",
        "        counter+=1\n",
        "    elif 'master degree' in desc:\n",
        "        counter+=1\n",
        "    elif 'masters degree' in desc:\n",
        "        counter+=1\n",
        "    elif 'degree' in desc:\n",
        "        counter+=1\n",
        "    elif 'sma/smk' in desc:\n",
        "        counter += 1\n",
        "    elif 'sarjana' in desc:\n",
        "        counter+=1\n",
        "    elif 'fresh graduate' in desc:\n",
        "        counter += 1\n",
        "    elif 'smk' in desc:\n",
        "        counter += 1\n",
        "    elif 'sma/k' in desc:\n",
        "        counter+=1\n",
        "    # else:\n",
        "    #     print(desc)\n",
        "counter"
      ],
      "execution_count": 34,
      "outputs": [
        {
          "output_type": "execute_result",
          "data": {
            "text/plain": [
              "925"
            ]
          },
          "metadata": {
            "tags": []
          },
          "execution_count": 34
        }
      ]
    },
    {
      "cell_type": "code",
      "metadata": {
        "id": "BDy1wC1bmE1c",
        "outputId": "c8c42ea0-e3fc-48bb-bdc9-444bfda10ba5",
        "colab": {
          "base_uri": "https://localhost:8080/",
          "height": 71
        }
      },
      "source": [
        "list_pendidikan = ['sma/smk', 'sma/k', 'smk', 'diploma', 'd3', 'sarjana','s1',\n",
        "                   'bachelor', 'diploma', 'master degree', 'masters degree', ' fresh graduate']\n",
        "pendidikan_mapper = {'sma/smk':'sma/smk',\n",
        "                     'sma/k':'sma/smk', \n",
        "                     'smk':'smk',\n",
        "                     'diploma':'d3',\n",
        "                     'd3':'d3',\n",
        "                     'sarjana':'s1',\n",
        "                     'bachelor':'s1',\n",
        "                     'master degree':'s2',\n",
        "                     'masters degree':'s2',\n",
        "                     'fresh graduate':'d3/s1'}\n",
        "                     \n",
        "\n",
        "extract_pendidikan = list()\n",
        "td = 0\n",
        "for job_desc in list(job_description.values):\n",
        "    # replace token [sep]\n",
        "    job_desc = job_desc.replace('[sep]', ' ')\n",
        "    job_desc = job_desc.replace(':', ' ')\n",
        "\n",
        "    # split dengan space\n",
        "    split_desc = job_desc.split()\n",
        "\n",
        "    item_match = list()\n",
        "    for item in split_desc:\n",
        "        if any(x in item for x in list_pendidikan):\n",
        "            # cleaning punctuation\n",
        "            item = re.sub(r\"[(,.;@#?!&$)/]+\\ *\", \" \", item).strip()\n",
        "            \n",
        "            # split from 's\n",
        "            item = item.split(\"'\")[0]\n",
        "            item = item.split(\"’\")[0]\n",
        "\n",
        "            # split\n",
        "            for it in item.split():\n",
        "                item_match.append(it)\n",
        "    \n",
        "    # mapping pendidikan\n",
        "    item_match = pd.Series(item_match).map(pendidikan_mapper).dropna().drop_duplicates().tolist()\n",
        "\n",
        "    if len(item_match) >=1:\n",
        "        extract_pendidikan.append(item_match)\n",
        "    else:\n",
        "        extract_pendidikan.append(['tidak dicantumkan'])\n",
        "        td+=1\n",
        "td"
      ],
      "execution_count": 35,
      "outputs": [
        {
          "output_type": "stream",
          "text": [
            "/usr/local/lib/python3.6/dist-packages/ipykernel_launcher.py:40: DeprecationWarning: The default dtype for empty Series will be 'object' instead of 'float64' in a future version. Specify a dtype explicitly to silence this warning.\n"
          ],
          "name": "stderr"
        },
        {
          "output_type": "execute_result",
          "data": {
            "text/plain": [
              "1064"
            ]
          },
          "metadata": {
            "tags": []
          },
          "execution_count": 35
        }
      ]
    },
    {
      "cell_type": "code",
      "metadata": {
        "id": "pdBC5YX8oB96"
      },
      "source": [
        "# join\n",
        "\n",
        "for idx, pend in enumerate(extract_pendidikan):\n",
        "    join = ', '.join(pend).strip()\n",
        "    extract_pendidikan[idx] = join"
      ],
      "execution_count": 36,
      "outputs": []
    },
    {
      "cell_type": "code",
      "metadata": {
        "id": "IXBlqZjE2s8B"
      },
      "source": [
        "glints['pendidikan'] = extract_pendidikan"
      ],
      "execution_count": 37,
      "outputs": []
    },
    {
      "cell_type": "code",
      "metadata": {
        "id": "7PX9om50GHoe",
        "outputId": "eb3738df-3403-46bf-9f63-44c41f81da8c",
        "colab": {
          "base_uri": "https://localhost:8080/",
          "height": 530
        }
      },
      "source": [
        "glints.head()"
      ],
      "execution_count": 38,
      "outputs": [
        {
          "output_type": "execute_result",
          "data": {
            "text/html": [
              "<div>\n",
              "<style scoped>\n",
              "    .dataframe tbody tr th:only-of-type {\n",
              "        vertical-align: middle;\n",
              "    }\n",
              "\n",
              "    .dataframe tbody tr th {\n",
              "        vertical-align: top;\n",
              "    }\n",
              "\n",
              "    .dataframe thead th {\n",
              "        text-align: right;\n",
              "    }\n",
              "</style>\n",
              "<table border=\"1\" class=\"dataframe\">\n",
              "  <thead>\n",
              "    <tr style=\"text-align: right;\">\n",
              "      <th></th>\n",
              "      <th>platform</th>\n",
              "      <th>job_position</th>\n",
              "      <th>company_name</th>\n",
              "      <th>job_category</th>\n",
              "      <th>job_salary</th>\n",
              "      <th>job_type</th>\n",
              "      <th>job_desc</th>\n",
              "      <th>skills_to_have</th>\n",
              "      <th>kota</th>\n",
              "      <th>pulau</th>\n",
              "      <th>provinsi</th>\n",
              "      <th>pendidikan</th>\n",
              "    </tr>\n",
              "  </thead>\n",
              "  <tbody>\n",
              "    <tr>\n",
              "      <th>0</th>\n",
              "      <td>glints</td>\n",
              "      <td>.Net Developer</td>\n",
              "      <td>I-access Solution</td>\n",
              "      <td>Software Engineering</td>\n",
              "      <td>Perusahaan tidak menampilkan gaji</td>\n",
              "      <td>FULL_TIME</td>\n",
              "      <td>Requirements: [SEP] Min Diploma / Degree in In...</td>\n",
              "      <td>Must Have Skills [SEP] .NET [SEP] English [SEP...</td>\n",
              "      <td>Batam</td>\n",
              "      <td>Sumatera</td>\n",
              "      <td>Kepulauan Riau</td>\n",
              "      <td>d3</td>\n",
              "    </tr>\n",
              "    <tr>\n",
              "      <th>1</th>\n",
              "      <td>glints</td>\n",
              "      <td>Fullstack Developer</td>\n",
              "      <td>Mossery</td>\n",
              "      <td>Software Engineering</td>\n",
              "      <td>Perusahaan tidak menampilkan gaji</td>\n",
              "      <td>FULL_TIME</td>\n",
              "      <td>What is this job about? [SEP] Mossery is an e-...</td>\n",
              "      <td>Must Have Skills [SEP] ReactJS [SEP] HTML [SEP...</td>\n",
              "      <td>Batam</td>\n",
              "      <td>Sumatera</td>\n",
              "      <td>Kepulauan Riau</td>\n",
              "      <td>d3</td>\n",
              "    </tr>\n",
              "    <tr>\n",
              "      <th>2</th>\n",
              "      <td>glints</td>\n",
              "      <td>Frontend Developer</td>\n",
              "      <td>PT Mobilkamu Group Indonesia</td>\n",
              "      <td>Software Engineering</td>\n",
              "      <td>IDR 1,000,000-0 / month</td>\n",
              "      <td>INTERNSHIP</td>\n",
              "      <td>Front-end Spec [SEP] Have experience with at l...</td>\n",
              "      <td>Must Have Skills [SEP] Teamwork [SEP] Microsof...</td>\n",
              "      <td>Jakarta</td>\n",
              "      <td>Jawa</td>\n",
              "      <td>DKI Jakarta</td>\n",
              "      <td>tidak dicantumkan</td>\n",
              "    </tr>\n",
              "    <tr>\n",
              "      <th>3</th>\n",
              "      <td>glints</td>\n",
              "      <td>Backend Developer</td>\n",
              "      <td>Global Line Network</td>\n",
              "      <td>Software Engineering</td>\n",
              "      <td>Perusahaan tidak menampilkan gaji</td>\n",
              "      <td>FULL_TIME</td>\n",
              "      <td>Job Responsibilities: [SEP] • Designing and de...</td>\n",
              "      <td>Must Have Skills [SEP] Agile Scrum [SEP] Engli...</td>\n",
              "      <td>Jakarta</td>\n",
              "      <td>Jawa</td>\n",
              "      <td>DKI Jakarta</td>\n",
              "      <td>tidak dicantumkan</td>\n",
              "    </tr>\n",
              "    <tr>\n",
              "      <th>4</th>\n",
              "      <td>glints</td>\n",
              "      <td>Frontend Developer</td>\n",
              "      <td>Web Imp</td>\n",
              "      <td>Software Engineering</td>\n",
              "      <td>Perusahaan tidak menampilkan gaji</td>\n",
              "      <td>FULL_TIME</td>\n",
              "      <td>[SEP] Wordpress Developer [SEP] Implement prot...</td>\n",
              "      <td>Must Have Skills [SEP] Cms Wordpress [SEP] Wor...</td>\n",
              "      <td>Batam</td>\n",
              "      <td>Sumatera</td>\n",
              "      <td>Kepulauan Riau</td>\n",
              "      <td>tidak dicantumkan</td>\n",
              "    </tr>\n",
              "  </tbody>\n",
              "</table>\n",
              "</div>"
            ],
            "text/plain": [
              "  platform         job_position  ...        provinsi         pendidikan\n",
              "0   glints       .Net Developer  ...  Kepulauan Riau                 d3\n",
              "1   glints  Fullstack Developer  ...  Kepulauan Riau                 d3\n",
              "2   glints   Frontend Developer  ...     DKI Jakarta  tidak dicantumkan\n",
              "3   glints    Backend Developer  ...     DKI Jakarta  tidak dicantumkan\n",
              "4   glints   Frontend Developer  ...  Kepulauan Riau  tidak dicantumkan\n",
              "\n",
              "[5 rows x 12 columns]"
            ]
          },
          "metadata": {
            "tags": []
          },
          "execution_count": 38
        }
      ]
    },
    {
      "cell_type": "markdown",
      "metadata": {
        "id": "gg6soLiqeoLt"
      },
      "source": [
        "## skills_to_have"
      ]
    },
    {
      "cell_type": "code",
      "metadata": {
        "id": "2B9p_moHecgC",
        "outputId": "713ba38b-f447-4a93-cfda-6ab897bb148c",
        "colab": {
          "base_uri": "https://localhost:8080/",
          "height": 221
        }
      },
      "source": [
        "skills_to_have = glints['skills_to_have']\n",
        "skills_to_have"
      ],
      "execution_count": 39,
      "outputs": [
        {
          "output_type": "execute_result",
          "data": {
            "text/plain": [
              "0       Must Have Skills [SEP] .NET [SEP] English [SEP...\n",
              "1       Must Have Skills [SEP] ReactJS [SEP] HTML [SEP...\n",
              "2       Must Have Skills [SEP] Teamwork [SEP] Microsof...\n",
              "3       Must Have Skills [SEP] Agile Scrum [SEP] Engli...\n",
              "4       Must Have Skills [SEP] Cms Wordpress [SEP] Wor...\n",
              "                              ...                        \n",
              "1744    Must Have Skills [SEP] Graphic Design [SEP] At...\n",
              "1745    Must Have Skills [SEP] Market Reserach [SEP] B...\n",
              "1746    Must Have Skills [SEP] Node.js [SEP] Nodejs Ex...\n",
              "1747    Must Have Skills [SEP] Digital Marketing [SEP]...\n",
              "1748    Must Have Skills [SEP] English [SEP] Project M...\n",
              "Name: skills_to_have, Length: 1749, dtype: object"
            ]
          },
          "metadata": {
            "tags": []
          },
          "execution_count": 39
        }
      ]
    },
    {
      "cell_type": "code",
      "metadata": {
        "id": "GXDJv3HlexLe"
      },
      "source": [
        "# hapus yang bukan skill\n",
        "result = list()\n",
        "delete = ['Must Have Skills', 'Nice To Have Skills']\n",
        "for skill in skills_to_have:\n",
        "    split = [data.strip() for data in skill.split('[SEP]')]\n",
        "    \n",
        "    temp = list()\n",
        "    for s in split:\n",
        "        if s in delete:\n",
        "            continue\n",
        "        temp.append(s)\n",
        "    join = \", \".join(temp).strip()\n",
        "    result.append(join)"
      ],
      "execution_count": 40,
      "outputs": []
    },
    {
      "cell_type": "code",
      "metadata": {
        "id": "NO1FbKArgOCl",
        "outputId": "0774324d-77b9-47f7-d4cb-7179a2aa8955",
        "colab": {
          "base_uri": "https://localhost:8080/",
          "height": 35
        }
      },
      "source": [
        "result[0]"
      ],
      "execution_count": 41,
      "outputs": [
        {
          "output_type": "execute_result",
          "data": {
            "application/vnd.google.colaboratory.intrinsic+json": {
              "type": "string"
            },
            "text/plain": [
              "'.NET, English, Ado.net, Windows Azure, Saas, COM+, ASP.NET, VB.NET, HTML, XML, XPath'"
            ]
          },
          "metadata": {
            "tags": []
          },
          "execution_count": 41
        }
      ]
    },
    {
      "cell_type": "code",
      "metadata": {
        "id": "eRtl7G4hfjTz"
      },
      "source": [
        "glints['skills_to_have'] = result"
      ],
      "execution_count": 42,
      "outputs": []
    },
    {
      "cell_type": "code",
      "metadata": {
        "id": "iha_IBfdf5rp",
        "outputId": "af0fbe8e-60a6-4633-cf16-0bccfb4a6508",
        "colab": {
          "base_uri": "https://localhost:8080/",
          "height": 530
        }
      },
      "source": [
        "glints.head()"
      ],
      "execution_count": 43,
      "outputs": [
        {
          "output_type": "execute_result",
          "data": {
            "text/html": [
              "<div>\n",
              "<style scoped>\n",
              "    .dataframe tbody tr th:only-of-type {\n",
              "        vertical-align: middle;\n",
              "    }\n",
              "\n",
              "    .dataframe tbody tr th {\n",
              "        vertical-align: top;\n",
              "    }\n",
              "\n",
              "    .dataframe thead th {\n",
              "        text-align: right;\n",
              "    }\n",
              "</style>\n",
              "<table border=\"1\" class=\"dataframe\">\n",
              "  <thead>\n",
              "    <tr style=\"text-align: right;\">\n",
              "      <th></th>\n",
              "      <th>platform</th>\n",
              "      <th>job_position</th>\n",
              "      <th>company_name</th>\n",
              "      <th>job_category</th>\n",
              "      <th>job_salary</th>\n",
              "      <th>job_type</th>\n",
              "      <th>job_desc</th>\n",
              "      <th>skills_to_have</th>\n",
              "      <th>kota</th>\n",
              "      <th>pulau</th>\n",
              "      <th>provinsi</th>\n",
              "      <th>pendidikan</th>\n",
              "    </tr>\n",
              "  </thead>\n",
              "  <tbody>\n",
              "    <tr>\n",
              "      <th>0</th>\n",
              "      <td>glints</td>\n",
              "      <td>.Net Developer</td>\n",
              "      <td>I-access Solution</td>\n",
              "      <td>Software Engineering</td>\n",
              "      <td>Perusahaan tidak menampilkan gaji</td>\n",
              "      <td>FULL_TIME</td>\n",
              "      <td>Requirements: [SEP] Min Diploma / Degree in In...</td>\n",
              "      <td>.NET, English, Ado.net, Windows Azure, Saas, C...</td>\n",
              "      <td>Batam</td>\n",
              "      <td>Sumatera</td>\n",
              "      <td>Kepulauan Riau</td>\n",
              "      <td>d3</td>\n",
              "    </tr>\n",
              "    <tr>\n",
              "      <th>1</th>\n",
              "      <td>glints</td>\n",
              "      <td>Fullstack Developer</td>\n",
              "      <td>Mossery</td>\n",
              "      <td>Software Engineering</td>\n",
              "      <td>Perusahaan tidak menampilkan gaji</td>\n",
              "      <td>FULL_TIME</td>\n",
              "      <td>What is this job about? [SEP] Mossery is an e-...</td>\n",
              "      <td>ReactJS, HTML, Express.js, Vue.js, Cloud Platf...</td>\n",
              "      <td>Batam</td>\n",
              "      <td>Sumatera</td>\n",
              "      <td>Kepulauan Riau</td>\n",
              "      <td>d3</td>\n",
              "    </tr>\n",
              "    <tr>\n",
              "      <th>2</th>\n",
              "      <td>glints</td>\n",
              "      <td>Frontend Developer</td>\n",
              "      <td>PT Mobilkamu Group Indonesia</td>\n",
              "      <td>Software Engineering</td>\n",
              "      <td>IDR 1,000,000-0 / month</td>\n",
              "      <td>INTERNSHIP</td>\n",
              "      <td>Front-end Spec [SEP] Have experience with at l...</td>\n",
              "      <td>Teamwork, Microsoft Office, Good Communication...</td>\n",
              "      <td>Jakarta</td>\n",
              "      <td>Jawa</td>\n",
              "      <td>DKI Jakarta</td>\n",
              "      <td>tidak dicantumkan</td>\n",
              "    </tr>\n",
              "    <tr>\n",
              "      <th>3</th>\n",
              "      <td>glints</td>\n",
              "      <td>Backend Developer</td>\n",
              "      <td>Global Line Network</td>\n",
              "      <td>Software Engineering</td>\n",
              "      <td>Perusahaan tidak menampilkan gaji</td>\n",
              "      <td>FULL_TIME</td>\n",
              "      <td>Job Responsibilities: [SEP] • Designing and de...</td>\n",
              "      <td>Agile Scrum, English, Java, Hibernate, Communi...</td>\n",
              "      <td>Jakarta</td>\n",
              "      <td>Jawa</td>\n",
              "      <td>DKI Jakarta</td>\n",
              "      <td>tidak dicantumkan</td>\n",
              "    </tr>\n",
              "    <tr>\n",
              "      <th>4</th>\n",
              "      <td>glints</td>\n",
              "      <td>Frontend Developer</td>\n",
              "      <td>Web Imp</td>\n",
              "      <td>Software Engineering</td>\n",
              "      <td>Perusahaan tidak menampilkan gaji</td>\n",
              "      <td>FULL_TIME</td>\n",
              "      <td>[SEP] Wordpress Developer [SEP] Implement prot...</td>\n",
              "      <td>Cms Wordpress, WordPress, Wordpress Development</td>\n",
              "      <td>Batam</td>\n",
              "      <td>Sumatera</td>\n",
              "      <td>Kepulauan Riau</td>\n",
              "      <td>tidak dicantumkan</td>\n",
              "    </tr>\n",
              "  </tbody>\n",
              "</table>\n",
              "</div>"
            ],
            "text/plain": [
              "  platform         job_position  ...        provinsi         pendidikan\n",
              "0   glints       .Net Developer  ...  Kepulauan Riau                 d3\n",
              "1   glints  Fullstack Developer  ...  Kepulauan Riau                 d3\n",
              "2   glints   Frontend Developer  ...     DKI Jakarta  tidak dicantumkan\n",
              "3   glints    Backend Developer  ...     DKI Jakarta  tidak dicantumkan\n",
              "4   glints   Frontend Developer  ...  Kepulauan Riau  tidak dicantumkan\n",
              "\n",
              "[5 rows x 12 columns]"
            ]
          },
          "metadata": {
            "tags": []
          },
          "execution_count": 43
        }
      ]
    },
    {
      "cell_type": "markdown",
      "metadata": {
        "id": "ZkNuWmHR3Cjs"
      },
      "source": [
        "# Export csv"
      ]
    },
    {
      "cell_type": "code",
      "metadata": {
        "id": "UcQpovdvgLjF",
        "outputId": "f40b0a68-94f0-437c-dced-7b58543f2715",
        "colab": {
          "base_uri": "https://localhost:8080/",
          "height": 530
        }
      },
      "source": [
        "glints.head()"
      ],
      "execution_count": 44,
      "outputs": [
        {
          "output_type": "execute_result",
          "data": {
            "text/html": [
              "<div>\n",
              "<style scoped>\n",
              "    .dataframe tbody tr th:only-of-type {\n",
              "        vertical-align: middle;\n",
              "    }\n",
              "\n",
              "    .dataframe tbody tr th {\n",
              "        vertical-align: top;\n",
              "    }\n",
              "\n",
              "    .dataframe thead th {\n",
              "        text-align: right;\n",
              "    }\n",
              "</style>\n",
              "<table border=\"1\" class=\"dataframe\">\n",
              "  <thead>\n",
              "    <tr style=\"text-align: right;\">\n",
              "      <th></th>\n",
              "      <th>platform</th>\n",
              "      <th>job_position</th>\n",
              "      <th>company_name</th>\n",
              "      <th>job_category</th>\n",
              "      <th>job_salary</th>\n",
              "      <th>job_type</th>\n",
              "      <th>job_desc</th>\n",
              "      <th>skills_to_have</th>\n",
              "      <th>kota</th>\n",
              "      <th>pulau</th>\n",
              "      <th>provinsi</th>\n",
              "      <th>pendidikan</th>\n",
              "    </tr>\n",
              "  </thead>\n",
              "  <tbody>\n",
              "    <tr>\n",
              "      <th>0</th>\n",
              "      <td>glints</td>\n",
              "      <td>.Net Developer</td>\n",
              "      <td>I-access Solution</td>\n",
              "      <td>Software Engineering</td>\n",
              "      <td>Perusahaan tidak menampilkan gaji</td>\n",
              "      <td>FULL_TIME</td>\n",
              "      <td>Requirements: [SEP] Min Diploma / Degree in In...</td>\n",
              "      <td>.NET, English, Ado.net, Windows Azure, Saas, C...</td>\n",
              "      <td>Batam</td>\n",
              "      <td>Sumatera</td>\n",
              "      <td>Kepulauan Riau</td>\n",
              "      <td>d3</td>\n",
              "    </tr>\n",
              "    <tr>\n",
              "      <th>1</th>\n",
              "      <td>glints</td>\n",
              "      <td>Fullstack Developer</td>\n",
              "      <td>Mossery</td>\n",
              "      <td>Software Engineering</td>\n",
              "      <td>Perusahaan tidak menampilkan gaji</td>\n",
              "      <td>FULL_TIME</td>\n",
              "      <td>What is this job about? [SEP] Mossery is an e-...</td>\n",
              "      <td>ReactJS, HTML, Express.js, Vue.js, Cloud Platf...</td>\n",
              "      <td>Batam</td>\n",
              "      <td>Sumatera</td>\n",
              "      <td>Kepulauan Riau</td>\n",
              "      <td>d3</td>\n",
              "    </tr>\n",
              "    <tr>\n",
              "      <th>2</th>\n",
              "      <td>glints</td>\n",
              "      <td>Frontend Developer</td>\n",
              "      <td>PT Mobilkamu Group Indonesia</td>\n",
              "      <td>Software Engineering</td>\n",
              "      <td>IDR 1,000,000-0 / month</td>\n",
              "      <td>INTERNSHIP</td>\n",
              "      <td>Front-end Spec [SEP] Have experience with at l...</td>\n",
              "      <td>Teamwork, Microsoft Office, Good Communication...</td>\n",
              "      <td>Jakarta</td>\n",
              "      <td>Jawa</td>\n",
              "      <td>DKI Jakarta</td>\n",
              "      <td>tidak dicantumkan</td>\n",
              "    </tr>\n",
              "    <tr>\n",
              "      <th>3</th>\n",
              "      <td>glints</td>\n",
              "      <td>Backend Developer</td>\n",
              "      <td>Global Line Network</td>\n",
              "      <td>Software Engineering</td>\n",
              "      <td>Perusahaan tidak menampilkan gaji</td>\n",
              "      <td>FULL_TIME</td>\n",
              "      <td>Job Responsibilities: [SEP] • Designing and de...</td>\n",
              "      <td>Agile Scrum, English, Java, Hibernate, Communi...</td>\n",
              "      <td>Jakarta</td>\n",
              "      <td>Jawa</td>\n",
              "      <td>DKI Jakarta</td>\n",
              "      <td>tidak dicantumkan</td>\n",
              "    </tr>\n",
              "    <tr>\n",
              "      <th>4</th>\n",
              "      <td>glints</td>\n",
              "      <td>Frontend Developer</td>\n",
              "      <td>Web Imp</td>\n",
              "      <td>Software Engineering</td>\n",
              "      <td>Perusahaan tidak menampilkan gaji</td>\n",
              "      <td>FULL_TIME</td>\n",
              "      <td>[SEP] Wordpress Developer [SEP] Implement prot...</td>\n",
              "      <td>Cms Wordpress, WordPress, Wordpress Development</td>\n",
              "      <td>Batam</td>\n",
              "      <td>Sumatera</td>\n",
              "      <td>Kepulauan Riau</td>\n",
              "      <td>tidak dicantumkan</td>\n",
              "    </tr>\n",
              "  </tbody>\n",
              "</table>\n",
              "</div>"
            ],
            "text/plain": [
              "  platform         job_position  ...        provinsi         pendidikan\n",
              "0   glints       .Net Developer  ...  Kepulauan Riau                 d3\n",
              "1   glints  Fullstack Developer  ...  Kepulauan Riau                 d3\n",
              "2   glints   Frontend Developer  ...     DKI Jakarta  tidak dicantumkan\n",
              "3   glints    Backend Developer  ...     DKI Jakarta  tidak dicantumkan\n",
              "4   glints   Frontend Developer  ...  Kepulauan Riau  tidak dicantumkan\n",
              "\n",
              "[5 rows x 12 columns]"
            ]
          },
          "metadata": {
            "tags": []
          },
          "execution_count": 44
        }
      ]
    },
    {
      "cell_type": "code",
      "metadata": {
        "id": "puAgkimR3EzW",
        "outputId": "06d211a6-a8c5-471c-bf71-4bf5d5f47b4e",
        "colab": {
          "base_uri": "https://localhost:8080/",
          "height": 479
        }
      },
      "source": [
        "# drop job_desc\n",
        "glints = glints.drop(['job_desc'], axis=1)\n",
        "glints.head()"
      ],
      "execution_count": 45,
      "outputs": [
        {
          "output_type": "execute_result",
          "data": {
            "text/html": [
              "<div>\n",
              "<style scoped>\n",
              "    .dataframe tbody tr th:only-of-type {\n",
              "        vertical-align: middle;\n",
              "    }\n",
              "\n",
              "    .dataframe tbody tr th {\n",
              "        vertical-align: top;\n",
              "    }\n",
              "\n",
              "    .dataframe thead th {\n",
              "        text-align: right;\n",
              "    }\n",
              "</style>\n",
              "<table border=\"1\" class=\"dataframe\">\n",
              "  <thead>\n",
              "    <tr style=\"text-align: right;\">\n",
              "      <th></th>\n",
              "      <th>platform</th>\n",
              "      <th>job_position</th>\n",
              "      <th>company_name</th>\n",
              "      <th>job_category</th>\n",
              "      <th>job_salary</th>\n",
              "      <th>job_type</th>\n",
              "      <th>skills_to_have</th>\n",
              "      <th>kota</th>\n",
              "      <th>pulau</th>\n",
              "      <th>provinsi</th>\n",
              "      <th>pendidikan</th>\n",
              "    </tr>\n",
              "  </thead>\n",
              "  <tbody>\n",
              "    <tr>\n",
              "      <th>0</th>\n",
              "      <td>glints</td>\n",
              "      <td>.Net Developer</td>\n",
              "      <td>I-access Solution</td>\n",
              "      <td>Software Engineering</td>\n",
              "      <td>Perusahaan tidak menampilkan gaji</td>\n",
              "      <td>FULL_TIME</td>\n",
              "      <td>.NET, English, Ado.net, Windows Azure, Saas, C...</td>\n",
              "      <td>Batam</td>\n",
              "      <td>Sumatera</td>\n",
              "      <td>Kepulauan Riau</td>\n",
              "      <td>d3</td>\n",
              "    </tr>\n",
              "    <tr>\n",
              "      <th>1</th>\n",
              "      <td>glints</td>\n",
              "      <td>Fullstack Developer</td>\n",
              "      <td>Mossery</td>\n",
              "      <td>Software Engineering</td>\n",
              "      <td>Perusahaan tidak menampilkan gaji</td>\n",
              "      <td>FULL_TIME</td>\n",
              "      <td>ReactJS, HTML, Express.js, Vue.js, Cloud Platf...</td>\n",
              "      <td>Batam</td>\n",
              "      <td>Sumatera</td>\n",
              "      <td>Kepulauan Riau</td>\n",
              "      <td>d3</td>\n",
              "    </tr>\n",
              "    <tr>\n",
              "      <th>2</th>\n",
              "      <td>glints</td>\n",
              "      <td>Frontend Developer</td>\n",
              "      <td>PT Mobilkamu Group Indonesia</td>\n",
              "      <td>Software Engineering</td>\n",
              "      <td>IDR 1,000,000-0 / month</td>\n",
              "      <td>INTERNSHIP</td>\n",
              "      <td>Teamwork, Microsoft Office, Good Communication...</td>\n",
              "      <td>Jakarta</td>\n",
              "      <td>Jawa</td>\n",
              "      <td>DKI Jakarta</td>\n",
              "      <td>tidak dicantumkan</td>\n",
              "    </tr>\n",
              "    <tr>\n",
              "      <th>3</th>\n",
              "      <td>glints</td>\n",
              "      <td>Backend Developer</td>\n",
              "      <td>Global Line Network</td>\n",
              "      <td>Software Engineering</td>\n",
              "      <td>Perusahaan tidak menampilkan gaji</td>\n",
              "      <td>FULL_TIME</td>\n",
              "      <td>Agile Scrum, English, Java, Hibernate, Communi...</td>\n",
              "      <td>Jakarta</td>\n",
              "      <td>Jawa</td>\n",
              "      <td>DKI Jakarta</td>\n",
              "      <td>tidak dicantumkan</td>\n",
              "    </tr>\n",
              "    <tr>\n",
              "      <th>4</th>\n",
              "      <td>glints</td>\n",
              "      <td>Frontend Developer</td>\n",
              "      <td>Web Imp</td>\n",
              "      <td>Software Engineering</td>\n",
              "      <td>Perusahaan tidak menampilkan gaji</td>\n",
              "      <td>FULL_TIME</td>\n",
              "      <td>Cms Wordpress, WordPress, Wordpress Development</td>\n",
              "      <td>Batam</td>\n",
              "      <td>Sumatera</td>\n",
              "      <td>Kepulauan Riau</td>\n",
              "      <td>tidak dicantumkan</td>\n",
              "    </tr>\n",
              "  </tbody>\n",
              "</table>\n",
              "</div>"
            ],
            "text/plain": [
              "  platform         job_position  ...        provinsi         pendidikan\n",
              "0   glints       .Net Developer  ...  Kepulauan Riau                 d3\n",
              "1   glints  Fullstack Developer  ...  Kepulauan Riau                 d3\n",
              "2   glints   Frontend Developer  ...     DKI Jakarta  tidak dicantumkan\n",
              "3   glints    Backend Developer  ...     DKI Jakarta  tidak dicantumkan\n",
              "4   glints   Frontend Developer  ...  Kepulauan Riau  tidak dicantumkan\n",
              "\n",
              "[5 rows x 11 columns]"
            ]
          },
          "metadata": {
            "tags": []
          },
          "execution_count": 45
        }
      ]
    },
    {
      "cell_type": "code",
      "metadata": {
        "id": "KT3jDFdR3Phh",
        "outputId": "9644f9a4-a686-4fd4-a0e3-01cf8e4dd655",
        "colab": {
          "base_uri": "https://localhost:8080/",
          "height": 479
        }
      },
      "source": [
        "# tambah id_loker\n",
        "id_loker = [i+1 for i in range(len(glints))]\n",
        "glints['id_loker'] = id_loker\n",
        "\n",
        "glints.head()\n",
        "# glints.to_csv(\"glints_15oct.csv\", index=False)"
      ],
      "execution_count": 46,
      "outputs": [
        {
          "output_type": "execute_result",
          "data": {
            "text/html": [
              "<div>\n",
              "<style scoped>\n",
              "    .dataframe tbody tr th:only-of-type {\n",
              "        vertical-align: middle;\n",
              "    }\n",
              "\n",
              "    .dataframe tbody tr th {\n",
              "        vertical-align: top;\n",
              "    }\n",
              "\n",
              "    .dataframe thead th {\n",
              "        text-align: right;\n",
              "    }\n",
              "</style>\n",
              "<table border=\"1\" class=\"dataframe\">\n",
              "  <thead>\n",
              "    <tr style=\"text-align: right;\">\n",
              "      <th></th>\n",
              "      <th>platform</th>\n",
              "      <th>job_position</th>\n",
              "      <th>company_name</th>\n",
              "      <th>job_category</th>\n",
              "      <th>job_salary</th>\n",
              "      <th>job_type</th>\n",
              "      <th>skills_to_have</th>\n",
              "      <th>kota</th>\n",
              "      <th>pulau</th>\n",
              "      <th>provinsi</th>\n",
              "      <th>pendidikan</th>\n",
              "      <th>id_loker</th>\n",
              "    </tr>\n",
              "  </thead>\n",
              "  <tbody>\n",
              "    <tr>\n",
              "      <th>0</th>\n",
              "      <td>glints</td>\n",
              "      <td>.Net Developer</td>\n",
              "      <td>I-access Solution</td>\n",
              "      <td>Software Engineering</td>\n",
              "      <td>Perusahaan tidak menampilkan gaji</td>\n",
              "      <td>FULL_TIME</td>\n",
              "      <td>.NET, English, Ado.net, Windows Azure, Saas, C...</td>\n",
              "      <td>Batam</td>\n",
              "      <td>Sumatera</td>\n",
              "      <td>Kepulauan Riau</td>\n",
              "      <td>d3</td>\n",
              "      <td>1</td>\n",
              "    </tr>\n",
              "    <tr>\n",
              "      <th>1</th>\n",
              "      <td>glints</td>\n",
              "      <td>Fullstack Developer</td>\n",
              "      <td>Mossery</td>\n",
              "      <td>Software Engineering</td>\n",
              "      <td>Perusahaan tidak menampilkan gaji</td>\n",
              "      <td>FULL_TIME</td>\n",
              "      <td>ReactJS, HTML, Express.js, Vue.js, Cloud Platf...</td>\n",
              "      <td>Batam</td>\n",
              "      <td>Sumatera</td>\n",
              "      <td>Kepulauan Riau</td>\n",
              "      <td>d3</td>\n",
              "      <td>2</td>\n",
              "    </tr>\n",
              "    <tr>\n",
              "      <th>2</th>\n",
              "      <td>glints</td>\n",
              "      <td>Frontend Developer</td>\n",
              "      <td>PT Mobilkamu Group Indonesia</td>\n",
              "      <td>Software Engineering</td>\n",
              "      <td>IDR 1,000,000-0 / month</td>\n",
              "      <td>INTERNSHIP</td>\n",
              "      <td>Teamwork, Microsoft Office, Good Communication...</td>\n",
              "      <td>Jakarta</td>\n",
              "      <td>Jawa</td>\n",
              "      <td>DKI Jakarta</td>\n",
              "      <td>tidak dicantumkan</td>\n",
              "      <td>3</td>\n",
              "    </tr>\n",
              "    <tr>\n",
              "      <th>3</th>\n",
              "      <td>glints</td>\n",
              "      <td>Backend Developer</td>\n",
              "      <td>Global Line Network</td>\n",
              "      <td>Software Engineering</td>\n",
              "      <td>Perusahaan tidak menampilkan gaji</td>\n",
              "      <td>FULL_TIME</td>\n",
              "      <td>Agile Scrum, English, Java, Hibernate, Communi...</td>\n",
              "      <td>Jakarta</td>\n",
              "      <td>Jawa</td>\n",
              "      <td>DKI Jakarta</td>\n",
              "      <td>tidak dicantumkan</td>\n",
              "      <td>4</td>\n",
              "    </tr>\n",
              "    <tr>\n",
              "      <th>4</th>\n",
              "      <td>glints</td>\n",
              "      <td>Frontend Developer</td>\n",
              "      <td>Web Imp</td>\n",
              "      <td>Software Engineering</td>\n",
              "      <td>Perusahaan tidak menampilkan gaji</td>\n",
              "      <td>FULL_TIME</td>\n",
              "      <td>Cms Wordpress, WordPress, Wordpress Development</td>\n",
              "      <td>Batam</td>\n",
              "      <td>Sumatera</td>\n",
              "      <td>Kepulauan Riau</td>\n",
              "      <td>tidak dicantumkan</td>\n",
              "      <td>5</td>\n",
              "    </tr>\n",
              "  </tbody>\n",
              "</table>\n",
              "</div>"
            ],
            "text/plain": [
              "  platform         job_position  ...         pendidikan id_loker\n",
              "0   glints       .Net Developer  ...                 d3        1\n",
              "1   glints  Fullstack Developer  ...                 d3        2\n",
              "2   glints   Frontend Developer  ...  tidak dicantumkan        3\n",
              "3   glints    Backend Developer  ...  tidak dicantumkan        4\n",
              "4   glints   Frontend Developer  ...  tidak dicantumkan        5\n",
              "\n",
              "[5 rows x 12 columns]"
            ]
          },
          "metadata": {
            "tags": []
          },
          "execution_count": 46
        }
      ]
    },
    {
      "cell_type": "code",
      "metadata": {
        "id": "HaRzkTeP3h7l",
        "outputId": "b7f2c62d-679f-4d47-c245-9642c060a60b",
        "colab": {
          "base_uri": "https://localhost:8080/",
          "height": 479
        }
      },
      "source": [
        "# rearrange cols\n",
        "cols = ['id_loker',\n",
        "        'pulau',\n",
        "        'provinsi',\n",
        "        'kota',\n",
        "        'job_position',\n",
        "        'skills_to_have',\n",
        "        'pendidikan',\n",
        "        'company_name',\n",
        "        'job_category',\n",
        "        'job_salary',\n",
        "        'job_type',\n",
        "        'platform']\n",
        "glints = glints[cols]\n",
        "\n",
        "glints.head()"
      ],
      "execution_count": 47,
      "outputs": [
        {
          "output_type": "execute_result",
          "data": {
            "text/html": [
              "<div>\n",
              "<style scoped>\n",
              "    .dataframe tbody tr th:only-of-type {\n",
              "        vertical-align: middle;\n",
              "    }\n",
              "\n",
              "    .dataframe tbody tr th {\n",
              "        vertical-align: top;\n",
              "    }\n",
              "\n",
              "    .dataframe thead th {\n",
              "        text-align: right;\n",
              "    }\n",
              "</style>\n",
              "<table border=\"1\" class=\"dataframe\">\n",
              "  <thead>\n",
              "    <tr style=\"text-align: right;\">\n",
              "      <th></th>\n",
              "      <th>id_loker</th>\n",
              "      <th>pulau</th>\n",
              "      <th>provinsi</th>\n",
              "      <th>kota</th>\n",
              "      <th>job_position</th>\n",
              "      <th>skills_to_have</th>\n",
              "      <th>pendidikan</th>\n",
              "      <th>company_name</th>\n",
              "      <th>job_category</th>\n",
              "      <th>job_salary</th>\n",
              "      <th>job_type</th>\n",
              "      <th>platform</th>\n",
              "    </tr>\n",
              "  </thead>\n",
              "  <tbody>\n",
              "    <tr>\n",
              "      <th>0</th>\n",
              "      <td>1</td>\n",
              "      <td>Sumatera</td>\n",
              "      <td>Kepulauan Riau</td>\n",
              "      <td>Batam</td>\n",
              "      <td>.Net Developer</td>\n",
              "      <td>.NET, English, Ado.net, Windows Azure, Saas, C...</td>\n",
              "      <td>d3</td>\n",
              "      <td>I-access Solution</td>\n",
              "      <td>Software Engineering</td>\n",
              "      <td>Perusahaan tidak menampilkan gaji</td>\n",
              "      <td>FULL_TIME</td>\n",
              "      <td>glints</td>\n",
              "    </tr>\n",
              "    <tr>\n",
              "      <th>1</th>\n",
              "      <td>2</td>\n",
              "      <td>Sumatera</td>\n",
              "      <td>Kepulauan Riau</td>\n",
              "      <td>Batam</td>\n",
              "      <td>Fullstack Developer</td>\n",
              "      <td>ReactJS, HTML, Express.js, Vue.js, Cloud Platf...</td>\n",
              "      <td>d3</td>\n",
              "      <td>Mossery</td>\n",
              "      <td>Software Engineering</td>\n",
              "      <td>Perusahaan tidak menampilkan gaji</td>\n",
              "      <td>FULL_TIME</td>\n",
              "      <td>glints</td>\n",
              "    </tr>\n",
              "    <tr>\n",
              "      <th>2</th>\n",
              "      <td>3</td>\n",
              "      <td>Jawa</td>\n",
              "      <td>DKI Jakarta</td>\n",
              "      <td>Jakarta</td>\n",
              "      <td>Frontend Developer</td>\n",
              "      <td>Teamwork, Microsoft Office, Good Communication...</td>\n",
              "      <td>tidak dicantumkan</td>\n",
              "      <td>PT Mobilkamu Group Indonesia</td>\n",
              "      <td>Software Engineering</td>\n",
              "      <td>IDR 1,000,000-0 / month</td>\n",
              "      <td>INTERNSHIP</td>\n",
              "      <td>glints</td>\n",
              "    </tr>\n",
              "    <tr>\n",
              "      <th>3</th>\n",
              "      <td>4</td>\n",
              "      <td>Jawa</td>\n",
              "      <td>DKI Jakarta</td>\n",
              "      <td>Jakarta</td>\n",
              "      <td>Backend Developer</td>\n",
              "      <td>Agile Scrum, English, Java, Hibernate, Communi...</td>\n",
              "      <td>tidak dicantumkan</td>\n",
              "      <td>Global Line Network</td>\n",
              "      <td>Software Engineering</td>\n",
              "      <td>Perusahaan tidak menampilkan gaji</td>\n",
              "      <td>FULL_TIME</td>\n",
              "      <td>glints</td>\n",
              "    </tr>\n",
              "    <tr>\n",
              "      <th>4</th>\n",
              "      <td>5</td>\n",
              "      <td>Sumatera</td>\n",
              "      <td>Kepulauan Riau</td>\n",
              "      <td>Batam</td>\n",
              "      <td>Frontend Developer</td>\n",
              "      <td>Cms Wordpress, WordPress, Wordpress Development</td>\n",
              "      <td>tidak dicantumkan</td>\n",
              "      <td>Web Imp</td>\n",
              "      <td>Software Engineering</td>\n",
              "      <td>Perusahaan tidak menampilkan gaji</td>\n",
              "      <td>FULL_TIME</td>\n",
              "      <td>glints</td>\n",
              "    </tr>\n",
              "  </tbody>\n",
              "</table>\n",
              "</div>"
            ],
            "text/plain": [
              "   id_loker     pulau  ...    job_type platform\n",
              "0         1  Sumatera  ...   FULL_TIME   glints\n",
              "1         2  Sumatera  ...   FULL_TIME   glints\n",
              "2         3      Jawa  ...  INTERNSHIP   glints\n",
              "3         4      Jawa  ...   FULL_TIME   glints\n",
              "4         5  Sumatera  ...   FULL_TIME   glints\n",
              "\n",
              "[5 rows x 12 columns]"
            ]
          },
          "metadata": {
            "tags": []
          },
          "execution_count": 47
        }
      ]
    },
    {
      "cell_type": "markdown",
      "metadata": {
        "id": "V4maTmpJGZq5"
      },
      "source": [
        "## Export data_loker_glints"
      ]
    },
    {
      "cell_type": "code",
      "metadata": {
        "id": "lOydP3fP4DPT"
      },
      "source": [
        "# export data_loker\n",
        "glints.to_csv(\"data_loker_glints_16oct.csv\", index=False)"
      ],
      "execution_count": 48,
      "outputs": []
    },
    {
      "cell_type": "markdown",
      "metadata": {
        "id": "ILiLqJaTGh-p"
      },
      "source": [
        "## Export data_pendidikan_glints"
      ]
    },
    {
      "cell_type": "code",
      "metadata": {
        "id": "sD1qVAHQ4N-H"
      },
      "source": [
        "# reformat data pendidikan menjadi csv baru\n",
        "df_pendidikan = pd.DataFrame(columns=['id_loker', 'provinsi', 'pendidikan'])\n",
        "\n",
        "for idx, row in glints.iterrows():\n",
        "\n",
        "    split_pendidikan = [data.strip().upper() for data in row['pendidikan'].split(',')]\n",
        "    \n",
        "    for pend in split_pendidikan:\n",
        "        df_pendidikan = df_pendidikan.append({'id_loker': row['id_loker'],\n",
        "                                              'provinsi': row['provinsi'],\n",
        "                                              'pendidikan': pend}, ignore_index=True)"
      ],
      "execution_count": 49,
      "outputs": []
    },
    {
      "cell_type": "code",
      "metadata": {
        "id": "rh2EoPRz4gOZ"
      },
      "source": [
        "df_pendidikan.to_csv('data_pendidikan_glints_16oct.csv', index=False)"
      ],
      "execution_count": 50,
      "outputs": []
    },
    {
      "cell_type": "markdown",
      "metadata": {
        "id": "tRoOvMNuGpqp"
      },
      "source": [
        "## Export data_skill_glints"
      ]
    },
    {
      "cell_type": "code",
      "metadata": {
        "id": "GPgLCErj4i60"
      },
      "source": [
        "# reformat data skill menjadi csv baru\n",
        "df_skill = pd.DataFrame(columns=['id_loker', 'provinsi', 'skills'])\n",
        "\n",
        "for idx, row in glints.iterrows():\n",
        "\n",
        "    split_skill = [data.strip() for data in row['skills_to_have'].split(',')]\n",
        "    \n",
        "    for skill in split_skill:\n",
        "        df_skill = df_skill.append({'id_loker': row['id_loker'],\n",
        "                                    'provinsi': row['provinsi'],\n",
        "                                    'skills': skill}, ignore_index=True)"
      ],
      "execution_count": 51,
      "outputs": []
    },
    {
      "cell_type": "code",
      "metadata": {
        "id": "tU0u4fHu49qW",
        "outputId": "4d04096d-78ea-4787-fc2c-87ad1227c83c",
        "colab": {
          "base_uri": "https://localhost:8080/",
          "height": 204
        }
      },
      "source": [
        "df_skill.head()"
      ],
      "execution_count": 52,
      "outputs": [
        {
          "output_type": "execute_result",
          "data": {
            "text/html": [
              "<div>\n",
              "<style scoped>\n",
              "    .dataframe tbody tr th:only-of-type {\n",
              "        vertical-align: middle;\n",
              "    }\n",
              "\n",
              "    .dataframe tbody tr th {\n",
              "        vertical-align: top;\n",
              "    }\n",
              "\n",
              "    .dataframe thead th {\n",
              "        text-align: right;\n",
              "    }\n",
              "</style>\n",
              "<table border=\"1\" class=\"dataframe\">\n",
              "  <thead>\n",
              "    <tr style=\"text-align: right;\">\n",
              "      <th></th>\n",
              "      <th>id_loker</th>\n",
              "      <th>provinsi</th>\n",
              "      <th>skills</th>\n",
              "    </tr>\n",
              "  </thead>\n",
              "  <tbody>\n",
              "    <tr>\n",
              "      <th>0</th>\n",
              "      <td>1</td>\n",
              "      <td>Kepulauan Riau</td>\n",
              "      <td>.NET</td>\n",
              "    </tr>\n",
              "    <tr>\n",
              "      <th>1</th>\n",
              "      <td>1</td>\n",
              "      <td>Kepulauan Riau</td>\n",
              "      <td>English</td>\n",
              "    </tr>\n",
              "    <tr>\n",
              "      <th>2</th>\n",
              "      <td>1</td>\n",
              "      <td>Kepulauan Riau</td>\n",
              "      <td>Ado.net</td>\n",
              "    </tr>\n",
              "    <tr>\n",
              "      <th>3</th>\n",
              "      <td>1</td>\n",
              "      <td>Kepulauan Riau</td>\n",
              "      <td>Windows Azure</td>\n",
              "    </tr>\n",
              "    <tr>\n",
              "      <th>4</th>\n",
              "      <td>1</td>\n",
              "      <td>Kepulauan Riau</td>\n",
              "      <td>Saas</td>\n",
              "    </tr>\n",
              "  </tbody>\n",
              "</table>\n",
              "</div>"
            ],
            "text/plain": [
              "  id_loker        provinsi         skills\n",
              "0        1  Kepulauan Riau           .NET\n",
              "1        1  Kepulauan Riau        English\n",
              "2        1  Kepulauan Riau        Ado.net\n",
              "3        1  Kepulauan Riau  Windows Azure\n",
              "4        1  Kepulauan Riau           Saas"
            ]
          },
          "metadata": {
            "tags": []
          },
          "execution_count": 52
        }
      ]
    },
    {
      "cell_type": "code",
      "metadata": {
        "id": "Zkp80KBl4-1p",
        "outputId": "1c03af55-27bd-4b01-b134-a36966aecc0f",
        "colab": {
          "base_uri": "https://localhost:8080/",
          "height": 34
        }
      },
      "source": [
        "df_skill.shape"
      ],
      "execution_count": 53,
      "outputs": [
        {
          "output_type": "execute_result",
          "data": {
            "text/plain": [
              "(11641, 3)"
            ]
          },
          "metadata": {
            "tags": []
          },
          "execution_count": 53
        }
      ]
    },
    {
      "cell_type": "code",
      "metadata": {
        "id": "0xTlUPzp5Guq"
      },
      "source": [
        "df_skill.to_csv(\"data_skill_glints_16oct.csv\", index=False)"
      ],
      "execution_count": 54,
      "outputs": []
    },
    {
      "cell_type": "code",
      "metadata": {
        "id": "S9Q0j4zd5Qd9"
      },
      "source": [
        ""
      ],
      "execution_count": null,
      "outputs": []
    }
  ]
}