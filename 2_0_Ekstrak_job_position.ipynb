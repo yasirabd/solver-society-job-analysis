{
  "nbformat": 4,
  "nbformat_minor": 0,
  "metadata": {
    "colab": {
      "name": "2_0 - Ekstrak job_position",
      "provenance": [],
      "collapsed_sections": [],
      "toc_visible": true,
      "mount_file_id": "1Mu-AeZdReKU5u7-_xyX7gaOXVqOMYZ5M",
      "authorship_tag": "ABX9TyMMtUwktBDlsaQxL9hN98uM",
      "include_colab_link": true
    },
    "kernelspec": {
      "display_name": "Python 3",
      "name": "python3"
    }
  },
  "cells": [
    {
      "cell_type": "markdown",
      "metadata": {
        "id": "view-in-github",
        "colab_type": "text"
      },
      "source": [
        "<a href=\"https://colab.research.google.com/github/yasirabd/solver-society-job-data/blob/main/2_0_Ekstrak_job_position.ipynb\" target=\"_parent\"><img src=\"https://colab.research.google.com/assets/colab-badge.svg\" alt=\"Open In Colab\"/></a>"
      ]
    },
    {
      "cell_type": "markdown",
      "metadata": {
        "id": "_-h9btkoUP5G"
      },
      "source": [
        "# Objective\n",
        "Ekstrak job_position, semakin sedikit jumlah unique semakin bagus.\n",
        "\n",
        "Data input yang dibutuhkan:\n",
        "1. jobstreet_clean_tahap1.csv\n",
        "\n",
        "Data output yang dihasilkan:\n",
        "1. jobstreet_clean_tahap2.csv"
      ]
    },
    {
      "cell_type": "code",
      "metadata": {
        "id": "UQro1vgDVFKd"
      },
      "source": [
        "import pandas as pd\n",
        "import numpy as np\n",
        "import matplotlib.pyplot as plt\n",
        "import re"
      ],
      "execution_count": 1,
      "outputs": []
    },
    {
      "cell_type": "code",
      "metadata": {
        "id": "QmbyhWhAUSC5",
        "outputId": "21964ece-891a-4b16-f86a-d6f64d6031e8",
        "colab": {
          "base_uri": "https://localhost:8080/",
          "height": 434
        }
      },
      "source": [
        "data = pd.read_csv(\"/content/drive/My Drive/Data Loker/jobstreet_clean_tahap1.csv\")\n",
        "data.head()"
      ],
      "execution_count": 2,
      "outputs": [
        {
          "output_type": "execute_result",
          "data": {
            "text/html": [
              "<div>\n",
              "<style scoped>\n",
              "    .dataframe tbody tr th:only-of-type {\n",
              "        vertical-align: middle;\n",
              "    }\n",
              "\n",
              "    .dataframe tbody tr th {\n",
              "        vertical-align: top;\n",
              "    }\n",
              "\n",
              "    .dataframe thead th {\n",
              "        text-align: right;\n",
              "    }\n",
              "</style>\n",
              "<table border=\"1\" class=\"dataframe\">\n",
              "  <thead>\n",
              "    <tr style=\"text-align: right;\">\n",
              "      <th></th>\n",
              "      <th>id_loker</th>\n",
              "      <th>pulau</th>\n",
              "      <th>provinsi</th>\n",
              "      <th>job_position</th>\n",
              "      <th>company_name</th>\n",
              "      <th>years_of_experience</th>\n",
              "      <th>years_of_experience_cat</th>\n",
              "      <th>job_description</th>\n",
              "      <th>average_processing_time</th>\n",
              "      <th>company_industry</th>\n",
              "      <th>company_size</th>\n",
              "      <th>work_environment_waktu_bekerja</th>\n",
              "      <th>work_environment_gaya_berpakaian</th>\n",
              "      <th>work_environment_gaya_berpakaian_contoh</th>\n",
              "      <th>work_environment_tunjangan</th>\n",
              "      <th>work_environment_bahasa</th>\n",
              "      <th>platform</th>\n",
              "    </tr>\n",
              "  </thead>\n",
              "  <tbody>\n",
              "    <tr>\n",
              "      <th>0</th>\n",
              "      <td>1</td>\n",
              "      <td>jawa</td>\n",
              "      <td>dki jakarta</td>\n",
              "      <td>SPV FINANCE</td>\n",
              "      <td>PT Axindo Infotama</td>\n",
              "      <td>3</td>\n",
              "      <td>0 - 4 tahun</td>\n",
              "      <td>[SEP][SEP]Usia Max. 35 tahun[SEP]Pendidikan Mi...</td>\n",
              "      <td>6</td>\n",
              "      <td>Retail/Merchandise</td>\n",
              "      <td>51 - 200 pekerja</td>\n",
              "      <td>sabtu</td>\n",
              "      <td>formal</td>\n",
              "      <td>kemeja polos &amp; dasi</td>\n",
              "      <td>kesehatan, umum</td>\n",
              "      <td>indonesia</td>\n",
              "      <td>jobstreet</td>\n",
              "    </tr>\n",
              "    <tr>\n",
              "      <th>1</th>\n",
              "      <td>2</td>\n",
              "      <td>jawa</td>\n",
              "      <td>dki jakarta</td>\n",
              "      <td>Qualitative Research Executive</td>\n",
              "      <td>Perusahaan Dirahasiakan</td>\n",
              "      <td>3</td>\n",
              "      <td>0 - 4 tahun</td>\n",
              "      <td>RESPONSIBILITIES:[SEP]Brief Description of Dut...</td>\n",
              "      <td>tidak tersedia</td>\n",
              "      <td>tidak tersedia</td>\n",
              "      <td>tidak spesifik</td>\n",
              "      <td>tidak tersedia</td>\n",
              "      <td>tidak spesifik</td>\n",
              "      <td>tidak spesifik</td>\n",
              "      <td>tidak tersedia</td>\n",
              "      <td>tidak dicantumkan</td>\n",
              "      <td>jobstreet</td>\n",
              "    </tr>\n",
              "    <tr>\n",
              "      <th>2</th>\n",
              "      <td>3</td>\n",
              "      <td>jawa</td>\n",
              "      <td>jawa tengah</td>\n",
              "      <td>Field Collection (JS - FC) Wonogiri</td>\n",
              "      <td>OTO Group</td>\n",
              "      <td>0</td>\n",
              "      <td>0 - 4 tahun</td>\n",
              "      <td>[SEP]Lingkup pekerjaan: [SEP]Menjaga account d...</td>\n",
              "      <td>14</td>\n",
              "      <td>Perbankan/Pelayanan Keuangan</td>\n",
              "      <td>lebih dari 5000 pekerja</td>\n",
              "      <td>senin - jumat</td>\n",
              "      <td>bisnis</td>\n",
              "      <td>kemeja</td>\n",
              "      <td>kesehatan, bonus</td>\n",
              "      <td>indonesia</td>\n",
              "      <td>jobstreet</td>\n",
              "    </tr>\n",
              "    <tr>\n",
              "      <th>3</th>\n",
              "      <td>4</td>\n",
              "      <td>jawa</td>\n",
              "      <td>dki jakarta</td>\n",
              "      <td>Perawat di Negara Jerman</td>\n",
              "      <td>PT Jerman Manajemen</td>\n",
              "      <td>1</td>\n",
              "      <td>0 - 4 tahun</td>\n",
              "      <td>[SEP]Candidate must possess at least Diploma i...</td>\n",
              "      <td>11</td>\n",
              "      <td>Pendidikan</td>\n",
              "      <td>51 - 200 pekerja</td>\n",
              "      <td>sabtu - kamis</td>\n",
              "      <td>formal</td>\n",
              "      <td>kemeja polos &amp; dasi</td>\n",
              "      <td>kesehatan</td>\n",
              "      <td>indonesia</td>\n",
              "      <td>jobstreet</td>\n",
              "    </tr>\n",
              "    <tr>\n",
              "      <th>4</th>\n",
              "      <td>5</td>\n",
              "      <td>jawa</td>\n",
              "      <td>jawa tengah</td>\n",
              "      <td>Field Collection (JS - FC) Pati</td>\n",
              "      <td>OTO Group</td>\n",
              "      <td>0</td>\n",
              "      <td>0 - 4 tahun</td>\n",
              "      <td>[SEP]Lingkup pekerjaan: [SEP]Menjaga account d...</td>\n",
              "      <td>14</td>\n",
              "      <td>Perbankan/Pelayanan Keuangan</td>\n",
              "      <td>lebih dari 5000 pekerja</td>\n",
              "      <td>senin - jumat</td>\n",
              "      <td>bisnis</td>\n",
              "      <td>kemeja</td>\n",
              "      <td>kesehatan, bonus</td>\n",
              "      <td>indonesia</td>\n",
              "      <td>jobstreet</td>\n",
              "    </tr>\n",
              "  </tbody>\n",
              "</table>\n",
              "</div>"
            ],
            "text/plain": [
              "   id_loker pulau  ... work_environment_bahasa   platform\n",
              "0         1  jawa  ...               indonesia  jobstreet\n",
              "1         2  jawa  ...       tidak dicantumkan  jobstreet\n",
              "2         3  jawa  ...               indonesia  jobstreet\n",
              "3         4  jawa  ...               indonesia  jobstreet\n",
              "4         5  jawa  ...               indonesia  jobstreet\n",
              "\n",
              "[5 rows x 17 columns]"
            ]
          },
          "metadata": {
            "tags": []
          },
          "execution_count": 2
        }
      ]
    },
    {
      "cell_type": "code",
      "metadata": {
        "id": "4Gji8HU_30Kv",
        "outputId": "18f399c6-a897-4aa4-e296-7caf1b69acf4",
        "colab": {
          "base_uri": "https://localhost:8080/",
          "height": 319
        }
      },
      "source": [
        "# check null values\n",
        "data.isnull().sum()"
      ],
      "execution_count": 3,
      "outputs": [
        {
          "output_type": "execute_result",
          "data": {
            "text/plain": [
              "id_loker                                   0\n",
              "pulau                                      0\n",
              "provinsi                                   0\n",
              "job_position                               0\n",
              "company_name                               0\n",
              "years_of_experience                        0\n",
              "years_of_experience_cat                    0\n",
              "job_description                            0\n",
              "average_processing_time                    0\n",
              "company_industry                           0\n",
              "company_size                               0\n",
              "work_environment_waktu_bekerja             0\n",
              "work_environment_gaya_berpakaian           0\n",
              "work_environment_gaya_berpakaian_contoh    0\n",
              "work_environment_tunjangan                 0\n",
              "work_environment_bahasa                    0\n",
              "platform                                   0\n",
              "dtype: int64"
            ]
          },
          "metadata": {
            "tags": []
          },
          "execution_count": 3
        }
      ]
    },
    {
      "cell_type": "markdown",
      "metadata": {
        "id": "QUGdzIo-HMnf"
      },
      "source": [
        "## Explore data"
      ]
    },
    {
      "cell_type": "code",
      "metadata": {
        "id": "iAGlIoBhGw2x",
        "outputId": "a05e7ed6-cf6d-4e81-99ef-9cad9aedcff6",
        "colab": {
          "base_uri": "https://localhost:8080/",
          "height": 34
        }
      },
      "source": [
        "# check null values\n",
        "data['job_position'].isnull().sum()"
      ],
      "execution_count": 4,
      "outputs": [
        {
          "output_type": "execute_result",
          "data": {
            "text/plain": [
              "0"
            ]
          },
          "metadata": {
            "tags": []
          },
          "execution_count": 4
        }
      ]
    },
    {
      "cell_type": "code",
      "metadata": {
        "id": "9oyR7-op0bj3",
        "outputId": "64ec9b6f-877b-4126-9217-35624d699b7f",
        "colab": {
          "base_uri": "https://localhost:8080/",
          "height": 218
        }
      },
      "source": [
        "# convert to lower case \n",
        "job_position = data['job_position'].str.lower()\n",
        "job_position.value_counts()"
      ],
      "execution_count": 5,
      "outputs": [
        {
          "output_type": "execute_result",
          "data": {
            "text/plain": [
              "sales executive                      79\n",
              "accounting staff                     68\n",
              "digital marketing                    56\n",
              "marketing                            49\n",
              "sales manager                        48\n",
              "                                     ..\n",
              "programmer java                       1\n",
              "spv marketing                         1\n",
              "strategist                            1\n",
              "warehouse crew (pemuatan)             1\n",
              "epo analyst & documentation staff     1\n",
              "Name: job_position, Length: 10056, dtype: int64"
            ]
          },
          "metadata": {
            "tags": []
          },
          "execution_count": 5
        }
      ]
    },
    {
      "cell_type": "markdown",
      "metadata": {
        "id": "k4XS7m8hHBn5"
      },
      "source": [
        "> Terdapat 10056 data unique, sangat kotor sekali."
      ]
    },
    {
      "cell_type": "code",
      "metadata": {
        "id": "ugOxCRlyHIHA",
        "outputId": "a70aa55c-6aca-4ad1-c9ab-609e0e2760cb",
        "colab": {
          "base_uri": "https://localhost:8080/",
          "height": 874
        }
      },
      "source": [
        "# top 50 job_position\n",
        "job_position.value_counts()[:50]"
      ],
      "execution_count": 6,
      "outputs": [
        {
          "output_type": "execute_result",
          "data": {
            "text/plain": [
              "sales executive                 79\n",
              "accounting staff                68\n",
              "digital marketing               56\n",
              "marketing                       49\n",
              "sales manager                   48\n",
              "accounting                      44\n",
              "project manager                 43\n",
              "sales                           42\n",
              "graphic designer                42\n",
              "staff accounting                38\n",
              "marketing manager               37\n",
              "marketing executive             36\n",
              "sales engineer                  34\n",
              "accounting supervisor           32\n",
              "web developer                   32\n",
              "account executive               31\n",
              "sales marketing                 30\n",
              "finance staff                   28\n",
              "drafter                         27\n",
              "sales supervisor                27\n",
              "it programmer                   26\n",
              "it support                      26\n",
              "purchasing staff                26\n",
              "customer service                25\n",
              "account manager                 25\n",
              "brand manager                   24\n",
              "programmer                      24\n",
              "supervisor produksi             23\n",
              "personal assistant              22\n",
              "social media specialist         21\n",
              "accounting manager              20\n",
              "tax staff                       20\n",
              "business development manager    20\n",
              "it staff                        20\n",
              "management trainee              19\n",
              "branch manager                  19\n",
              "content creator                 19\n",
              "finance manager                 18\n",
              "business analyst                18\n",
              "admin                           18\n",
              "salesman                        17\n",
              "kepala gudang                   17\n",
              "product manager                 17\n",
              "accounting officer              16\n",
              "digital marketing specialist    16\n",
              "full stack developer            16\n",
              "ppic staff                      15\n",
              "secretary                       15\n",
              "finance accounting manager      15\n",
              "admin sales                     15\n",
              "Name: job_position, dtype: int64"
            ]
          },
          "metadata": {
            "tags": []
          },
          "execution_count": 6
        }
      ]
    },
    {
      "cell_type": "code",
      "metadata": {
        "id": "1_hWV7Tm_0K9"
      },
      "source": [
        "# convert menjadi list\n",
        "temp = job_position.tolist()"
      ],
      "execution_count": 7,
      "outputs": []
    },
    {
      "cell_type": "markdown",
      "metadata": {
        "id": "zPBcPy_UBU0w"
      },
      "source": [
        "## Cleaning data penjelas"
      ]
    },
    {
      "cell_type": "code",
      "metadata": {
        "id": "Xd8avf_-AY5U"
      },
      "source": [
        "# cari data yang terdapat bracket () dan []\n",
        "brackets = ['(', ')', '[', ']']\n",
        "    \n",
        "# remove data in brackets\n",
        "# alasan terdapat data -> \"marketing executive (jakarta/cikarang)\"\"\n",
        "# pada bracket ada lokasi, tidak perlu\n",
        "\n",
        "for idx, pos in enumerate(temp):\n",
        "    for b in brackets:\n",
        "        if b in pos:\n",
        "            pos = re.sub(\"[\\(\\[].*?[\\)\\]]\", \"\", pos)\n",
        "    temp[idx] = pos"
      ],
      "execution_count": 8,
      "outputs": []
    },
    {
      "cell_type": "code",
      "metadata": {
        "id": "9CbwtZYlArov"
      },
      "source": [
        "# remove data setelah \"-\"\n",
        "# alasan terdapat data -> \"tukang bubut manual - cikarang\"\n",
        "# setelah '-' menunjukkan lokasi atau penjelas\n",
        "\n",
        "for idx, pos in enumerate(temp):\n",
        "   if '-' in pos:\n",
        "       temp[idx] = pos.split('-')[0]"
      ],
      "execution_count": 9,
      "outputs": []
    },
    {
      "cell_type": "code",
      "metadata": {
        "id": "AiF-7_uRAzIH"
      },
      "source": [
        "# remove data setelah \":\"\n",
        "# alasan -> \"finance supervisor: bandar lampung\"\n",
        "# setelah ':' menunjukkan lokasi atau penjelas\n",
        "for idx, pos in enumerate(temp):\n",
        "   if ':' in pos:\n",
        "       temp[idx] = pos.split(':')[0]"
      ],
      "execution_count": 10,
      "outputs": []
    },
    {
      "cell_type": "code",
      "metadata": {
        "id": "Y_r1hZIOA2j8"
      },
      "source": [
        "# remove extra space\n",
        "for idx, pos in enumerate(temp):\n",
        "    temp[idx] = ' '.join(pos.split())"
      ],
      "execution_count": 11,
      "outputs": []
    },
    {
      "cell_type": "markdown",
      "metadata": {
        "id": "1aLjNZrSBcTv"
      },
      "source": [
        "## Kelompokkan job_position yang mirip"
      ]
    },
    {
      "cell_type": "markdown",
      "metadata": {
        "id": "dK0IZEolJHeN"
      },
      "source": [
        "### Sales Executive"
      ]
    },
    {
      "cell_type": "code",
      "metadata": {
        "id": "EUQxZi7tA8FQ",
        "outputId": "243aef39-a593-4d02-a215-b906ed191290",
        "colab": {
          "base_uri": "https://localhost:8080/",
          "height": 638
        }
      },
      "source": [
        "# check banyak jenis job_position sales executive\n",
        "sales_exec = list()\n",
        "for pos in temp:\n",
        "    if 'sales executive' in pos:\n",
        "        sales_exec.append(pos)\n",
        "pd.Series(sales_exec).unique()"
      ],
      "execution_count": 12,
      "outputs": [
        {
          "output_type": "execute_result",
          "data": {
            "text/plain": [
              "array(['sales executive', 'sales executive veteriner',\n",
              "       'sales executive supplement division',\n",
              "       'sales executive horeka & b2b semarang',\n",
              "       'sales executive horeka & b2b',\n",
              "       'sales executive horeka & b2b jawa barat',\n",
              "       'sales executive new channel', 'sales executive solo',\n",
              "       'technical sales executive', 'sales executive pontianak',\n",
              "       'sales executive it', 'it sales field/sales executive',\n",
              "       'senior sales executive', 'telesales executives',\n",
              "       'sales executive staff', 'sales executive corporate',\n",
              "       'sales executive retail', 'marketing sales executive',\n",
              "       'sales executive property', 'corporate sales executive',\n",
              "       'sales executive area jawa barat', 'ecommerce sales executive',\n",
              "       'sales executive cabang kudus', 'sales executive resin',\n",
              "       'supervisor sales executive',\n",
              "       'sales executive speciality from coffee/ ice cream machine or kitchen equip',\n",
              "       'sales executive personal care', 'sales executive horeca',\n",
              "       'industrial sales executive',\n",
              "       'sales executive property dan perumahan di bogor',\n",
              "       'project / residential sales executive',\n",
              "       'business sales executive',\n",
              "       'telesales executive – training provided',\n",
              "       'sales executive bintaro', 'regional sales executive',\n",
              "       'sales executive kosmetik', 'senior sales executive/manager',\n",
              "       'tele sales executive', 'sales executive_warehouse truck',\n",
              "       'sales executive_forklift', 'sales executive padang',\n",
              "       'sales executive officer', 'sales executive cabang',\n",
              "       'sales executive aquaculture kalimantan area',\n",
              "       'senior project sales executive bogor',\n",
              "       'sales executive cabang surabaya',\n",
              "       'sales executive for wholesales', 'project sales executive',\n",
              "       'kia big up sales executive', 'sales executive jakarta',\n",
              "       'sales executive surabaya', 'sales executive for offset ink',\n",
              "       'sales executive pekalongan',\n",
              "       'key account senior sales executive bali',\n",
              "       'sales executive area jawa tengah', 'sales executives',\n",
              "       'sales executive bakery & peralatan pendingin'], dtype=object)"
            ]
          },
          "metadata": {
            "tags": []
          },
          "execution_count": 12
        }
      ]
    },
    {
      "cell_type": "code",
      "metadata": {
        "id": "QxEf8s-AA_f5"
      },
      "source": [
        "# replace dengan hanya sales executive\n",
        "for idx,pos in enumerate(temp):\n",
        "    if 'sales executive' in pos:\n",
        "        temp[idx] = 'sales executive'"
      ],
      "execution_count": 13,
      "outputs": []
    },
    {
      "cell_type": "markdown",
      "metadata": {
        "id": "YPel23H2JNcm"
      },
      "source": [
        "### Accounting Staff"
      ]
    },
    {
      "cell_type": "code",
      "metadata": {
        "id": "tmGV_kFnB5QJ",
        "outputId": "e7966675-0f78-4a39-f001-5309ce7ebca3",
        "colab": {
          "base_uri": "https://localhost:8080/",
          "height": 101
        }
      },
      "source": [
        "# check banyak jenis accounting staff\n",
        "acc_staff = list()\n",
        "for pos in temp:\n",
        "    if 'accounting staff' in pos and 'finance' not in pos:\n",
        "        acc_staff.append(pos)\n",
        "pd.Series(acc_staff).unique()"
      ],
      "execution_count": 14,
      "outputs": [
        {
          "output_type": "execute_result",
          "data": {
            "text/plain": [
              "array(['accounting staff', 'mandarin accounting staff',\n",
              "       'accounting staff medan deli tua', 'senior accounting staff',\n",
              "       'accounting staff pabarik stainless steel', 'tax accounting staff',\n",
              "       'accounting staff tangerang', 'accounting staff citeureup',\n",
              "       'accounting staff semarang'], dtype=object)"
            ]
          },
          "metadata": {
            "tags": []
          },
          "execution_count": 14
        }
      ]
    },
    {
      "cell_type": "code",
      "metadata": {
        "id": "_DRiDi9qCAzg"
      },
      "source": [
        "# replace dengan hanya accounting staff\n",
        "for idx, pos in enumerate(temp):\n",
        "    if 'accounting staff' in pos and 'finance' not in pos:\n",
        "        temp[idx] = 'accounting staff'"
      ],
      "execution_count": 15,
      "outputs": []
    },
    {
      "cell_type": "markdown",
      "metadata": {
        "id": "y_4HV-ccJdz7"
      },
      "source": [
        "### Digital Marketing"
      ]
    },
    {
      "cell_type": "code",
      "metadata": {
        "id": "vq2tcQEKCVaX",
        "outputId": "af975d33-5235-47b6-e358-4efa1675bbcd",
        "colab": {
          "base_uri": "https://localhost:8080/",
          "height": 605
        }
      },
      "source": [
        "# check banyak jenis digital marketing\n",
        "digital_marketing = list()\n",
        "for pos in temp:\n",
        "    if 'digital marketing' in pos:\n",
        "        digital_marketing.append(pos)\n",
        "pd.Series(digital_marketing).unique()"
      ],
      "execution_count": 16,
      "outputs": [
        {
          "output_type": "execute_result",
          "data": {
            "text/plain": [
              "array(['digital marketing specialist', 'digital marketing',\n",
              "       'digital marketing officer', 'professional digital marketing',\n",
              "       'digital marketing manager', 'head of digital marketing',\n",
              "       'assistant personal digital marketing', 'senior digital marketing',\n",
              "       'digital marketing executive',\n",
              "       'digital marketing optimizer manager', 'digital marketing staff',\n",
              "       'digital marketing admin', 'supervisor digital marketing',\n",
              "       'staf digital marketing',\n",
              "       'graphic designer or video editor for digital marketing advertising',\n",
              "       'digital marketing & content writer', 'staff digital marketing',\n",
              "       'digital marketing manager or head of digital marketing',\n",
              "       'digital marketing assistant',\n",
              "       'digital marketing communication manager',\n",
              "       'junior digital marketing assistant at japanese advertising agency location free',\n",
              "       'digital marketing for online shop', 'digital marketing campaign',\n",
              "       'digital marketing and customer relation assistant manager',\n",
              "       'digital marketing coordinator', 'digital marketing leader',\n",
              "       'digital marketing trainer', 'brand and digital marketing',\n",
              "       'content creator digital marketing', 'digital marketing lead',\n",
              "       'digital marketing & e', 'social media digital marketing officer',\n",
              "       'digital marketing, seo & sem junior',\n",
              "       'digital marketing procurement', 'digital marketing strategist',\n",
              "       'marketplace digital marketing specialist',\n",
              "       'digital marketing & graphic design',\n",
              "       'digital marketing tribunnetwork',\n",
              "       'digital marketing junior manager', 'digital marketing supervisor',\n",
              "       'supervisor digital marketing strategist',\n",
              "       'staff digital marketing online dan marketplace',\n",
              "       'digital marketing & content creator specialist',\n",
              "       'senior digital marketing manager',\n",
              "       'digital marketing, seo & sem experts',\n",
              "       'junior digital marketing specialist and content creator',\n",
              "       'graphic design & digital marketing',\n",
              "       'digital marketing_sosial media specialist',\n",
              "       'telesales digital marketing'], dtype=object)"
            ]
          },
          "metadata": {
            "tags": []
          },
          "execution_count": 16
        }
      ]
    },
    {
      "cell_type": "code",
      "metadata": {
        "id": "Cl2JwVGcCbFA"
      },
      "source": [
        "# replace dengan hanya digital marketing\n",
        "for idx,pos in enumerate(temp):\n",
        "    if 'digital marketing' in pos:\n",
        "        temp[idx] = 'digital marketing'"
      ],
      "execution_count": 17,
      "outputs": []
    },
    {
      "cell_type": "markdown",
      "metadata": {
        "id": "0W8bLtWwJZyb"
      },
      "source": [
        "### Sales Manager"
      ]
    },
    {
      "cell_type": "code",
      "metadata": {
        "id": "DGMhy38VCIUy",
        "outputId": "617b17eb-ab37-40af-b27d-58fb8085b828",
        "colab": {
          "base_uri": "https://localhost:8080/",
          "height": 1000
        }
      },
      "source": [
        "# check banyak jenis sales manager\n",
        "sales_manager = list()\n",
        "for pos in temp:\n",
        "    if 'sales manager' in pos:\n",
        "        sales_manager.append(pos)\n",
        "pd.Series(sales_manager).unique()"
      ],
      "execution_count": 18,
      "outputs": [
        {
          "output_type": "execute_result",
          "data": {
            "text/plain": [
              "array(['marketing sales manager', 'sales manager',\n",
              "       'project sales manager', 'area sales manager horeka sumsel',\n",
              "       'area sales manager fmcg', 'area sales manager',\n",
              "       'sales manager / account manager', 'country sales manager',\n",
              "       'regional sales manager fmcg', 'asisten sales manager',\n",
              "       'account manager / area sales manager',\n",
              "       'smb sales manager for it hardware',\n",
              "       'regional sales manager for east region', 'district sales manager',\n",
              "       'event sales manager', 'field sales manager bandung',\n",
              "       'regional sales manager', 'channel sales manager',\n",
              "       'food product category sales manager', 'sales manager property',\n",
              "       'asistan sales manager', 'feedmill sales manager',\n",
              "       'assistant area sales manager',\n",
              "       'assistant sales manager foodstores',\n",
              "       'area sales manager jawa barat', 'retail sales manager kalimantan',\n",
              "       'sales manager industrial', 'area sales manager jawa timur',\n",
              "       'region sales manager of kalimantan & sulawesi',\n",
              "       'area sales manager balikpapan', 'national sales manager',\n",
              "       'sales manager semarang', 'government sales manager',\n",
              "       'senior sales manager', 'field sales manager',\n",
              "       'area sales manager makasar', 'area sales manager jakarta',\n",
              "       'sales manager area bogor11', 'area sales manager 2w',\n",
              "       'sales manager handphone area jambi',\n",
              "       'area sales manager sumatera smartphone',\n",
              "       'corporate sales manager',\n",
              "       'online sales manager beauty and skincare',\n",
              "       'warehouse sales manager', 'sales manager for industry',\n",
              "       'assistant sales manager', 'sales manager engineering',\n",
              "       'component sales manager', 'sales manager houseware plastic',\n",
              "       'regional sales manager automotive jawa barat',\n",
              "       'regional sales manager fmcg kalimantan',\n",
              "       'assistant area sales manager vinyl flooring',\n",
              "       'sales manager automotive', 'sales manager packaging',\n",
              "       'mt sales manager', 'area sales manager surabaya',\n",
              "       'area sales manager medan', '销售经理助理 assistant sales manager',\n",
              "       '销售经理助理（中文和英文）assistant sales manager', 'parts sales manager',\n",
              "       'retail area sales manager', 'sales manager freight forwarding',\n",
              "       'regional sales manager for food ingredients',\n",
              "       'area sales manager general trade & local modern trade',\n",
              "       'general sales manager poultry',\n",
              "       'sales manager for livestock business', 'sales manager vape',\n",
              "       'branch sales manager', 'japanese speaker sales manager',\n",
              "       'sales manager nsm', 'turbine / engine project sales manager',\n",
              "       'executive sales manager', 'nasional sales manager',\n",
              "       'restaurant sales manager', 'sales manager pkrt industri',\n",
              "       'sales manager food service & gt', 'franchise sales manager',\n",
              "       'area sales manager tasik,malang',\n",
              "       'area sales manager medan, pekanbaru, palembang, bengkulu dan jambi',\n",
              "       'area sales manager kendari, sampit, samarinda',\n",
              "       'regional sales manager easst',\n",
              "       'sales manager chemicals personal care',\n",
              "       'sales manager metal fabrication company',\n",
              "       'area sales manager kpw jawa tengah',\n",
              "       'sales manager cabang surabaya', 'cluster sales manager',\n",
              "       'nasional sales manager laboratory',\n",
              "       'sales manager packaging for pharmaceuticals',\n",
              "       'sales manager packaging for personal care',\n",
              "       'assistant sales manager funding',\n",
              "       'sales manager/asisten sales manager'], dtype=object)"
            ]
          },
          "metadata": {
            "tags": []
          },
          "execution_count": 18
        }
      ]
    },
    {
      "cell_type": "code",
      "metadata": {
        "id": "wZT7VX9rCQCW"
      },
      "source": [
        "# replace dengan hanya sales manager\n",
        "for idx,pos in enumerate(temp):\n",
        "    if 'sales manager' in pos:\n",
        "        temp[idx] = 'sales manager'"
      ],
      "execution_count": 19,
      "outputs": []
    },
    {
      "cell_type": "markdown",
      "metadata": {
        "id": "QuNDVwZZJ4Vz"
      },
      "source": [
        "### Project Manager"
      ]
    },
    {
      "cell_type": "code",
      "metadata": {
        "id": "P6bn5VgGJ6ba",
        "outputId": "85ef7e13-a804-43ed-98ae-788f7978332c",
        "colab": {
          "base_uri": "https://localhost:8080/",
          "height": 302
        }
      },
      "source": [
        "# check banyak jenis project manager\n",
        "proj_manager = list()\n",
        "for pos in temp:\n",
        "    if 'project manager' in pos:\n",
        "        proj_manager.append(pos)\n",
        "pd.Series(proj_manager).unique()"
      ],
      "execution_count": 20,
      "outputs": [
        {
          "output_type": "execute_result",
          "data": {
            "text/plain": [
              "array(['project manager', 'it project manager',\n",
              "       'project manager fiber optic', 'project manager security',\n",
              "       'cloud project manager', 'project manager civil',\n",
              "       'junior project manager', 'software project manager',\n",
              "       'project manager software', 'capex project manager',\n",
              "       'senior project manager', 'programme & project manager',\n",
              "       'project manager assistant', 'associate project manager',\n",
              "       'project manager for mall projects',\n",
              "       'project manager it / komputer',\n",
              "       'senior technical project manager',\n",
              "       'project manager for social media marketing',\n",
              "       'project manager interior', 'cx project manager',\n",
              "       'regional project manager', 'project manager sipil',\n",
              "       'chemical engineering project manager',\n",
              "       'engineering and project manager',\n",
              "       'business analyst / project manager', 'project manager me',\n",
              "       'strategic project manager'], dtype=object)"
            ]
          },
          "metadata": {
            "tags": []
          },
          "execution_count": 20
        }
      ]
    },
    {
      "cell_type": "code",
      "metadata": {
        "id": "FZjyTHMqKFqf"
      },
      "source": [
        "# replace dengan hanya project manager\n",
        "for idx,pos in enumerate(temp):\n",
        "    if 'project manager' in pos:\n",
        "        temp[idx] = 'project manager'"
      ],
      "execution_count": 21,
      "outputs": []
    },
    {
      "cell_type": "markdown",
      "metadata": {
        "id": "t0rHkxx1KLXE"
      },
      "source": [
        "### Graphic Designer"
      ]
    },
    {
      "cell_type": "code",
      "metadata": {
        "id": "RF6xSzttKNbq",
        "outputId": "74317f9d-4888-4dcc-e078-0d9d4df5a23c",
        "colab": {
          "base_uri": "https://localhost:8080/",
          "height": 403
        }
      },
      "source": [
        "# check banyak jenis graphic designer\n",
        "graph_designer = list()\n",
        "for pos in temp:\n",
        "    if 'graphic designer' in pos:\n",
        "        graph_designer.append(pos)\n",
        "pd.Series(graph_designer).unique()"
      ],
      "execution_count": 22,
      "outputs": [
        {
          "output_type": "execute_result",
          "data": {
            "text/plain": [
              "array(['graphic designer', 'graphic designer intern',\n",
              "       'full time graphic designer', 'graphic designer staff',\n",
              "       'social media graphic designer freelance',\n",
              "       'motion graphic designer staff', 'dibutuhkan graphic designer',\n",
              "       'graphic designer specialist', 'multimedia graphic designer',\n",
              "       '3d animator motion graphic designer bandung',\n",
              "       'multimedia & graphic designer officer',\n",
              "       'illustrator graphic designer desain grafis layout specialist storyboard artist',\n",
              "       'junior graphic designer', 'graphic designer content creator',\n",
              "       'graphic designer internship', 'graphic designer supervisor',\n",
              "       'graphic designer & administration allrounder',\n",
              "       'graphic designer & prepress', 'graphic designer or illustrator',\n",
              "       'conten creator graphic designer',\n",
              "       'graphic designer content creator web design',\n",
              "       'graphic designer and content creator',\n",
              "       'senior graphic designer and video editor',\n",
              "       'customer service graphic designer',\n",
              "       'social media graphic designer',\n",
              "       'senior graphic designer & branding',\n",
              "       '3d animator motion graphic designer',\n",
              "       'photographer graphic designer furniture interior online',\n",
              "       'fashion graphic designer', 'senior graphic designer'],\n",
              "      dtype=object)"
            ]
          },
          "metadata": {
            "tags": []
          },
          "execution_count": 22
        }
      ]
    },
    {
      "cell_type": "code",
      "metadata": {
        "id": "UVuF_7j5KdeA"
      },
      "source": [
        "# replace dengan hanya graphic designer\n",
        "for idx,pos in enumerate(temp):\n",
        "    if 'graphic designer' in pos:\n",
        "        temp[idx] = 'graphic designer'"
      ],
      "execution_count": 23,
      "outputs": []
    },
    {
      "cell_type": "markdown",
      "metadata": {
        "id": "ysrnvv95KkDv"
      },
      "source": [
        "### Staff Accounting"
      ]
    },
    {
      "cell_type": "code",
      "metadata": {
        "id": "JD1lmzRZKm9o",
        "outputId": "376aad9c-efea-4602-bcb2-6020a007e611",
        "colab": {
          "base_uri": "https://localhost:8080/",
          "height": 185
        }
      },
      "source": [
        "# check banyak jenis staff accounting\n",
        "staff_acc = list()\n",
        "for pos in temp:\n",
        "    if 'staff accounting' in pos:\n",
        "        staff_acc.append(pos)\n",
        "pd.Series(staff_acc).unique()"
      ],
      "execution_count": 24,
      "outputs": [
        {
          "output_type": "execute_result",
          "data": {
            "text/plain": [
              "array(['staff accounting', 'staff accounting & administration',\n",
              "       'staff accounting and tax for restaurant',\n",
              "       'staff accounting and tax', 'staff accounting & finance',\n",
              "       'staff accounting / admin pembukuan',\n",
              "       'staff accounting & finance_wilayah kopo',\n",
              "       'staff accounting finance', 'senior staff accounting finance',\n",
              "       'senior staff accounting', 'senior staff accounting konsolidasi',\n",
              "       'staff accounting / finance', 'staff accounting pajak',\n",
              "       'staff accounting pajak jakarta', 'staff accounting & tax',\n",
              "       'staff accounting & tax untuk restaurant'], dtype=object)"
            ]
          },
          "metadata": {
            "tags": []
          },
          "execution_count": 24
        }
      ]
    },
    {
      "cell_type": "code",
      "metadata": {
        "id": "G21xMQ7nKvkp"
      },
      "source": [
        "# replace dengan hanya staff accounting\n",
        "for idx,pos in enumerate(temp):\n",
        "    if 'staff accounting' in pos:\n",
        "        temp[idx] = 'staff accounting'"
      ],
      "execution_count": 25,
      "outputs": []
    },
    {
      "cell_type": "markdown",
      "metadata": {
        "id": "eUEApZ3sK01b"
      },
      "source": [
        "### Marketing Manager"
      ]
    },
    {
      "cell_type": "code",
      "metadata": {
        "id": "cyBG_sowK2vX",
        "outputId": "efa2df03-7b46-419f-bd70-b24f66712c30",
        "colab": {
          "base_uri": "https://localhost:8080/",
          "height": 336
        }
      },
      "source": [
        "# check banyak jenis marketing manager\n",
        "mark_manager = list()\n",
        "for pos in temp:\n",
        "    if 'marketing manager' in pos:\n",
        "        mark_manager.append(pos)\n",
        "pd.Series(mark_manager).unique()"
      ],
      "execution_count": 26,
      "outputs": [
        {
          "output_type": "execute_result",
          "data": {
            "text/plain": [
              "array(['lead marketing manager', 'marketing manager',\n",
              "       'senior marketing manager',\n",
              "       'marketing manager property cabang semarang',\n",
              "       'branch marketing manager', 'marketing manager property',\n",
              "       'marketing manager property cabang depok',\n",
              "       'sales & marketing manager', 'sales marketing manager',\n",
              "       'trade marketing manager', 'pet food marketing manager',\n",
              "       'assistant marketing manager',\n",
              "       'modern channels sales marketing manager', 'sr marketing manager',\n",
              "       'assistant sales and marketing manager',\n",
              "       'sales and marketing manager',\n",
              "       'area marketing manager product yamaha',\n",
              "       'marketing manager properti', 'mobile game marketing manager',\n",
              "       'social media marketing manager', 'area marketing manager',\n",
              "       'influencer marketing manager', 'pr and marketing manager',\n",
              "       'partnership marketing manager', 'brand marketing manager',\n",
              "       'marketing manager roda 2', 'marketing manager building material',\n",
              "       'telemarketing manager', 'marketing manager farmasi',\n",
              "       'brand, sales and marketing manager'], dtype=object)"
            ]
          },
          "metadata": {
            "tags": []
          },
          "execution_count": 26
        }
      ]
    },
    {
      "cell_type": "code",
      "metadata": {
        "id": "3K1k48CmLBYP"
      },
      "source": [
        "# replace dengan hanya marketing manager\n",
        "for idx,pos in enumerate(temp):\n",
        "    if 'marketing manager' in pos:\n",
        "        temp[idx] = 'marketing manager'"
      ],
      "execution_count": 27,
      "outputs": []
    },
    {
      "cell_type": "markdown",
      "metadata": {
        "id": "K2vRXiUeLHZc"
      },
      "source": [
        "### Marketing Executive"
      ]
    },
    {
      "cell_type": "code",
      "metadata": {
        "id": "FNqFG1clLNMn",
        "outputId": "8a87f794-eca0-40d7-e069-546a93e21f35",
        "colab": {
          "base_uri": "https://localhost:8080/",
          "height": 235
        }
      },
      "source": [
        "# check banyak jenis marketing executive\n",
        "mark_exec = list()\n",
        "for pos in temp:\n",
        "    if 'marketing executive' in pos:\n",
        "        mark_exec.append(pos)\n",
        "pd.Series(mark_exec).unique()"
      ],
      "execution_count": 28,
      "outputs": [
        {
          "output_type": "execute_result",
          "data": {
            "text/plain": [
              "array(['marketing executive',\n",
              "       'marketing executive for ray white simatupang',\n",
              "       'area marketing executive', 'sales/marketing executive',\n",
              "       'marketing executive makassar', 'marketing executive semarang',\n",
              "       'consumer marketing executive', 'marketing executive manager',\n",
              "       'sales and marketing executive',\n",
              "       'marketing executive alpha omega property',\n",
              "       'marketing executive property', 'trade marketing executive',\n",
              "       'marketing executive mataram', 'sales & marketing executive',\n",
              "       'telemarketing executive staff', 'marketing executives',\n",
              "       'field marketing executive', 'marketing executive officer',\n",
              "       'senior marketing executive', 'sales marketing executive'],\n",
              "      dtype=object)"
            ]
          },
          "metadata": {
            "tags": []
          },
          "execution_count": 28
        }
      ]
    },
    {
      "cell_type": "code",
      "metadata": {
        "id": "zOGbpo18LSWo"
      },
      "source": [
        "# replace dengan hanya marketing executive\n",
        "for idx,pos in enumerate(temp):\n",
        "    if 'marketing executive' in pos:\n",
        "        temp[idx] = 'marketing executive'"
      ],
      "execution_count": 29,
      "outputs": []
    },
    {
      "cell_type": "markdown",
      "metadata": {
        "id": "xHK5tniWJhtG"
      },
      "source": [
        "### Sales Engineer"
      ]
    },
    {
      "cell_type": "code",
      "metadata": {
        "id": "70ccFQFoCiqB",
        "outputId": "b68e91c8-b30f-47b8-ba5a-cce5272c1f2c",
        "colab": {
          "base_uri": "https://localhost:8080/",
          "height": 386
        }
      },
      "source": [
        "# check banyak jenis sales engineer\n",
        "sales_engineer = list()\n",
        "for pos in temp:\n",
        "    if 'sales engineer' in pos:\n",
        "        sales_engineer.append(pos)\n",
        "pd.Series(sales_engineer).unique()"
      ],
      "execution_count": 30,
      "outputs": [
        {
          "output_type": "execute_result",
          "data": {
            "text/plain": [
              "array(['sales engineer', 'sales engineer cikampek',\n",
              "       'it hardware presales / sales engineer / sales technical',\n",
              "       'senior sales engineer, aftermarket o&g indonesia',\n",
              "       'senior presales engineer', 'sales engineer – malang',\n",
              "       'project sales engineer', 'sales engineer jakarta',\n",
              "       'sales engineer – absorption chiller/variable speed drives',\n",
              "       'sales engineering', 'food & commercial senior sales engineer',\n",
              "       'senior sales engineer', 'technical sales engineer & specifier',\n",
              "       'digital sales engineer', 'infrastructure sales engineer',\n",
              "       'sales engineer for oil gas power plant epc industries',\n",
              "       'marketing & sales engineer', 'automation sales engineer',\n",
              "       'senior product sales engineer – dcs', 'technical sales engineer',\n",
              "       'sales engineer hydraulic', 'sales engineer for surabaya area',\n",
              "       'sales engineering ~ product inspection surabaya',\n",
              "       'senior technical sales engineer', 'pre sales engineer',\n",
              "       'sales engineer project tangerang cilegon area',\n",
              "       'sales engineer balikpapan', 'sales engineering cilacap area',\n",
              "       'inside sales engineer', 'sales engineer pekanbaru',\n",
              "       'field sales engineer', 'sales engineer surakarta',\n",
              "       'sales engineer semarang', 'sales engineer medan',\n",
              "       'sales engineer compressor', 'sales engineer welding',\n",
              "       'presales engineer', 'sales engineer & marketing'], dtype=object)"
            ]
          },
          "metadata": {
            "tags": []
          },
          "execution_count": 30
        }
      ]
    },
    {
      "cell_type": "code",
      "metadata": {
        "id": "R-pQ5flMCpS-"
      },
      "source": [
        "# replace dengan hanya sales engineer\n",
        "for idx,pos in enumerate(temp):\n",
        "    if 'sales engineer' in pos:\n",
        "        temp[idx] = 'sales engineer'"
      ],
      "execution_count": 31,
      "outputs": []
    },
    {
      "cell_type": "markdown",
      "metadata": {
        "id": "GpXYkRy5LaA4"
      },
      "source": [
        "### Web Developer"
      ]
    },
    {
      "cell_type": "code",
      "metadata": {
        "id": "-47HnUGdLdqg",
        "outputId": "eb50d27c-e919-4277-b0ad-e4af5aebfc00",
        "colab": {
          "base_uri": "https://localhost:8080/",
          "height": 168
        }
      },
      "source": [
        "# check banyak jenis web developer\n",
        "web_dev = list()\n",
        "for pos in temp:\n",
        "    if 'web developer' in pos:\n",
        "        web_dev.append(pos)\n",
        "pd.Series(web_dev).unique()"
      ],
      "execution_count": 32,
      "outputs": [
        {
          "output_type": "execute_result",
          "data": {
            "text/plain": [
              "array(['.net web developer', 'web developer', 'full stack web developer',\n",
              "       'java web developer', 'it web developer',\n",
              "       'backend web developer jogja', 'junior php web developer',\n",
              "       'web developer back end', 'frontend web developer',\n",
              "       'front end web developer', 'java web developer for salesforce.com',\n",
              "       'senior web developer', 'senior php web developer',\n",
              "       'magento web developer', 'php web developer',\n",
              "       'web developer in bali denpasar',\n",
              "       'frontend web developer | javascript'], dtype=object)"
            ]
          },
          "metadata": {
            "tags": []
          },
          "execution_count": 32
        }
      ]
    },
    {
      "cell_type": "code",
      "metadata": {
        "id": "Qrkrk2zxLltX"
      },
      "source": [
        "# replace dengan hanya web developer\n",
        "for idx,pos in enumerate(temp):\n",
        "    if 'web developer' in pos:\n",
        "        temp[idx] = 'web developer'"
      ],
      "execution_count": 33,
      "outputs": []
    },
    {
      "cell_type": "markdown",
      "metadata": {
        "id": "d5zwMZrFLzkC"
      },
      "source": [
        "### Accounting Supervisor"
      ]
    },
    {
      "cell_type": "code",
      "metadata": {
        "id": "PqX4rrIRL1-4",
        "outputId": "0116b398-9f61-48f3-90ca-e7190499f0fe",
        "colab": {
          "base_uri": "https://localhost:8080/",
          "height": 168
        }
      },
      "source": [
        "# check banyak jenis accounting supervisor\n",
        "job_list = list()\n",
        "for pos in temp:\n",
        "    if 'accounting supervisor' in pos:\n",
        "        job_list.append(pos)\n",
        "pd.Series(job_list).unique()"
      ],
      "execution_count": 34,
      "outputs": [
        {
          "output_type": "execute_result",
          "data": {
            "text/plain": [
              "array(['finance and accounting supervisor', 'accounting supervisor',\n",
              "       'general accounting supervisor', 'finance & accounting supervisor',\n",
              "       'finance accounting supervisor',\n",
              "       'finance accounting supervisor ecommerce',\n",
              "       'finance dan accounting supervisor', 'cost accounting supervisor',\n",
              "       'finance & accounting supervisor jambi',\n",
              "       'senior accounting supervisor', 'tax accounting supervisor',\n",
              "       'area finance & accounting supervisor',\n",
              "       'tax & accounting supervisor'], dtype=object)"
            ]
          },
          "metadata": {
            "tags": []
          },
          "execution_count": 34
        }
      ]
    },
    {
      "cell_type": "code",
      "metadata": {
        "id": "d_SVaI2oL-4o"
      },
      "source": [
        "# replace dengan hanya accounting supervisor\n",
        "for idx,pos in enumerate(temp):\n",
        "    if 'accounting supervisor' in pos:\n",
        "        temp[idx] = 'accounting supervisor'"
      ],
      "execution_count": 35,
      "outputs": []
    },
    {
      "cell_type": "markdown",
      "metadata": {
        "id": "rJizN-QOME05"
      },
      "source": [
        "### Account Executive"
      ]
    },
    {
      "cell_type": "code",
      "metadata": {
        "id": "nkCOu6-0MICM",
        "outputId": "35fca932-3ad5-4273-84eb-5bcf8140582c",
        "colab": {
          "base_uri": "https://localhost:8080/",
          "height": 403
        }
      },
      "source": [
        "# check banyak jenis account executive\n",
        "job_list = list()\n",
        "for pos in temp:\n",
        "    if 'account executive' in pos:\n",
        "        job_list.append(pos)\n",
        "pd.Series(job_list).unique()"
      ],
      "execution_count": 36,
      "outputs": [
        {
          "output_type": "execute_result",
          "data": {
            "text/plain": [
              "array(['junior technical account executive', 'account executive',\n",
              "       'account executive/sales marketing', 'key account executive',\n",
              "       'presales & account executive enterprise',\n",
              "       'enterprise sales account executive',\n",
              "       'account executive semarang area', 'cloud account executive',\n",
              "       'key account executive food & beverages',\n",
              "       'key account executive water treatment',\n",
              "       'key account executive pharma & cosmetics industry',\n",
              "       'account executive staff', 'store account executive',\n",
              "       'key account executive fmcg',\n",
              "       'medical account executive yogyakarta',\n",
              "       'account executive / business development',\n",
              "       'key account executive food service',\n",
              "       'account executive tribun network',\n",
              "       'enterprise sales account executive bali',\n",
              "       'ict key account executive', 'senior account executive',\n",
              "       'insurance account executive', 'senior digital account executive',\n",
              "       'key account executive makassar dan manado',\n",
              "       'supervisor medical account executive',\n",
              "       'account executive influencer marketing', 'erp account executive',\n",
              "       'account executive for pos devices',\n",
              "       'account executive digital grid network',\n",
              "       'account executive cabang jawa tengah'], dtype=object)"
            ]
          },
          "metadata": {
            "tags": []
          },
          "execution_count": 36
        }
      ]
    },
    {
      "cell_type": "code",
      "metadata": {
        "id": "Eos4EYfTMOX-"
      },
      "source": [
        "# replace dengan hanya account executive\n",
        "for idx,pos in enumerate(temp):\n",
        "    if 'account executive' in pos:\n",
        "        temp[idx] = 'account executive'"
      ],
      "execution_count": 37,
      "outputs": []
    },
    {
      "cell_type": "markdown",
      "metadata": {
        "id": "_QQYX-KnMTx_"
      },
      "source": [
        "### Sales Marketing"
      ]
    },
    {
      "cell_type": "code",
      "metadata": {
        "id": "byBkEr3pMW-5",
        "outputId": "d2bdf73a-4187-4fd7-e9af-2f9ef092bc49",
        "colab": {
          "base_uri": "https://localhost:8080/",
          "height": 437
        }
      },
      "source": [
        "# check banyak jenis sales marketing\n",
        "job_list = list()\n",
        "for pos in temp:\n",
        "    if 'sales marketing' in pos:\n",
        "        job_list.append(pos)\n",
        "pd.Series(job_list).unique()"
      ],
      "execution_count": 38,
      "outputs": [
        {
          "output_type": "execute_result",
          "data": {
            "text/plain": [
              "array(['sales marketing project', 'sales marketing',\n",
              "       'sales marketing senior staff', 'sales marketing fmcg ecommerce',\n",
              "       'sales marketing untuk produk kantong sampah',\n",
              "       'supervisor sales marketing', 'sales marketing leadership program',\n",
              "       'sales marketing admin for online brand',\n",
              "       'sales marketing wrought iron', 'sales marketing bahan bangunan',\n",
              "       'sales marketing b2b', 'sales marketing bdo',\n",
              "       'head of sales marketing', 'sales marketing associate',\n",
              "       'sales marketing toys stationary', 'staff sales marketing',\n",
              "       'sales marketing alat berat', 'supervisor sales marketing fmcg',\n",
              "       'digital online sales marketing',\n",
              "       'sales marketing emkl freight forwarding',\n",
              "       'sales marketing officer for fashion division',\n",
              "       'sales marketing staff', 'sales marketing cleaning equipment',\n",
              "       'sales marketing heavy equipment',\n",
              "       'senior sales marketing percetakan', 'sales marketing marine',\n",
              "       'sales marketing representative', 'administrasi sales marketing',\n",
              "       'sales marketing retail', 'organics farm sales marketing',\n",
              "       'sales marketing supervisor', 'sales marketing senior',\n",
              "       'sales marketing seluruh indonesia', 'sales marketing lapangan',\n",
              "       'sales marketing b2b cikarang', 'sales marketing semarang',\n",
              "       'sales marketing logistik / emkl / forwarding',\n",
              "       'sales marketing digital',\n",
              "       'sales marketing supervisor tangerang tigaraksa cisoka',\n",
              "       'sales marketing junior'], dtype=object)"
            ]
          },
          "metadata": {
            "tags": []
          },
          "execution_count": 38
        }
      ]
    },
    {
      "cell_type": "code",
      "metadata": {
        "id": "Px2lOn_kMbSZ"
      },
      "source": [
        "# replace dengan hanya sales marketing\n",
        "for idx,pos in enumerate(temp):\n",
        "    if 'sales marketing' in pos:\n",
        "        temp[idx] = 'sales marketing'"
      ],
      "execution_count": 39,
      "outputs": []
    },
    {
      "cell_type": "markdown",
      "metadata": {
        "id": "FOKgZneUMi60"
      },
      "source": [
        "### Finance Staff"
      ]
    },
    {
      "cell_type": "code",
      "metadata": {
        "id": "FtK_e77RMlAh",
        "outputId": "2709ab18-f8fe-412b-9350-0ed87414ecc4",
        "colab": {
          "base_uri": "https://localhost:8080/",
          "height": 118
        }
      },
      "source": [
        "# check banyak jenis finance staff\n",
        "job_list = list()\n",
        "for pos in temp:\n",
        "    if 'finance staff' in pos:\n",
        "        job_list.append(pos)\n",
        "pd.Series(job_list).unique()"
      ],
      "execution_count": 40,
      "outputs": [
        {
          "output_type": "execute_result",
          "data": {
            "text/plain": [
              "array(['kasir/finance staff', 'finance staff', 'accounting finance staff',\n",
              "       'accounting & finance staff', 'finance staff （财务助理）location',\n",
              "       'admin finance staff serang', 'accounting/finance staff',\n",
              "       'accounting and finance staff', 'finance staff ap',\n",
              "       'finance staff cabang palembang', 'admin finance staff',\n",
              "       'accounting staff / finance staff'], dtype=object)"
            ]
          },
          "metadata": {
            "tags": []
          },
          "execution_count": 40
        }
      ]
    },
    {
      "cell_type": "code",
      "metadata": {
        "id": "ba_XTCCNMrSb"
      },
      "source": [
        "# replace dengan hanya finance staff\n",
        "for idx,pos in enumerate(temp):\n",
        "    if 'finance staff' in pos:\n",
        "        temp[idx] = 'finance staff'"
      ],
      "execution_count": 41,
      "outputs": []
    },
    {
      "cell_type": "markdown",
      "metadata": {
        "id": "ckVG8hslMy0U"
      },
      "source": [
        "### Drafter"
      ]
    },
    {
      "cell_type": "code",
      "metadata": {
        "id": "Ssd79EPgM45Y",
        "outputId": "297a2240-bf5d-4248-90c9-f0fd5b40a2ef",
        "colab": {
          "base_uri": "https://localhost:8080/",
          "height": 252
        }
      },
      "source": [
        "# check banyak jenis drafter\n",
        "job_list = list()\n",
        "for pos in temp:\n",
        "    if 'drafter' in pos:\n",
        "        job_list.append(pos)\n",
        "pd.Series(job_list).unique()"
      ],
      "execution_count": 42,
      "outputs": [
        {
          "output_type": "execute_result",
          "data": {
            "text/plain": [
              "array(['drafter cad', 'drafter', 'drafter & engineering',\n",
              "       'design drafter', 'drafter sipil & interior', 'staf drafter',\n",
              "       'drafter furniture', 'drafter/ designer', 'drafter mep',\n",
              "       'drafter pelaksana', 'drafter arsitek & interior',\n",
              "       'm/e drafter design engineer', 'drafter arsitektur',\n",
              "       'drafter struktur', 'drafter elektrikal',\n",
              "       'drafter sipil & furniture', 'drafter interior',\n",
              "       'drafter head office', 'drafter dan project engineer support',\n",
              "       'drafter & document controller', 'drafter*site manager*supervisor',\n",
              "       'wood construction drafter', 'interior designer/drafter',\n",
              "       'drafter aluminium, pintu besi dan facade', 'designer / drafter',\n",
              "       'drafter export import', 'design product drafter',\n",
              "       'drafter auto cad & 3d', 'drafter interior & furniture'],\n",
              "      dtype=object)"
            ]
          },
          "metadata": {
            "tags": []
          },
          "execution_count": 42
        }
      ]
    },
    {
      "cell_type": "code",
      "metadata": {
        "id": "XTuviDZyM86I"
      },
      "source": [
        "# replace dengan hanya drafter\n",
        "for idx,pos in enumerate(temp):\n",
        "    if 'drafter' in pos:\n",
        "        temp[idx] = 'drafter'"
      ],
      "execution_count": 43,
      "outputs": []
    },
    {
      "cell_type": "markdown",
      "metadata": {
        "id": "fbfm7oklNKry"
      },
      "source": [
        "### Sales Supervisor"
      ]
    },
    {
      "cell_type": "code",
      "metadata": {
        "id": "oigsRFrWNOEq",
        "outputId": "4b539bc1-8e77-4577-e467-c712efd5c214",
        "colab": {
          "base_uri": "https://localhost:8080/",
          "height": 806
        }
      },
      "source": [
        "# check banyak jenis sales supervisor\n",
        "job_list = list()\n",
        "for pos in temp:\n",
        "    if 'sales supervisor' in pos:\n",
        "        job_list.append(pos)\n",
        "pd.Series(job_list).unique()"
      ],
      "execution_count": 44,
      "outputs": [
        {
          "output_type": "execute_result",
          "data": {
            "text/plain": [
              "array(['distributor sales supervisor', 'area sales supervisor fmcg',\n",
              "       'sales supervisor', 'mt sales supervisor',\n",
              "       'consumer products sales supervisor di yogya, purwokerto',\n",
              "       'consumer products sales supervisor di padang',\n",
              "       'consumer products sales supervisor di bandung, cirebon',\n",
              "       'consumer products sales supervisor di bekasi, tangerang',\n",
              "       'sales supervisor alat kesehatan di medan',\n",
              "       'consumer products sales supervisor di kalimantan',\n",
              "       'sales supervisor fmcg area surabaya',\n",
              "       'territory sales supervisor',\n",
              "       'sales supervisor for rental apartment in senopati and kemang',\n",
              "       'area sales supervisor', 'sales supervisor depo labuan',\n",
              "       'area sales supervisor samarinda', 'sales supervisor bali',\n",
              "       'sales supervisor jawa tengah', 'senior sales supervisor',\n",
              "       'direct sales supervisor', 'area sales supervisor palu',\n",
              "       'sales supervisor sulawesi', 'sales supervisor modern market',\n",
              "       'territorial sales supervisor ntt', 'marketing & sales supervisor',\n",
              "       'sales supervisor logistic import',\n",
              "       'sales supervisor food service', 'sales supervisor ogb',\n",
              "       'sales supervisor modern trade area solo',\n",
              "       'territory sales supervisor pt. belfoods indonesia',\n",
              "       'sales supervisor area kalimantan tengah',\n",
              "       'sales supervisor warehouse', 'regional sales supervisor',\n",
              "       'area sales supervisor semarang', 'property sales supervisor',\n",
              "       'sales supervisor kp yogyakarta', 'modern trade sales supervisor',\n",
              "       'territory sales supervisor general trade',\n",
              "       'teritorial sales supervisor', 'sales supervisor subdistributor',\n",
              "       'area sales supervisor skincare', 'sales supervisor solo',\n",
              "       'telesales supervisor', 'rice sales supervisor',\n",
              "       'sales supervisor area lampung', 'sales supervisor area aceh',\n",
              "       'sales supervisor area sumatera barat',\n",
              "       'sales supervisor area tangerang',\n",
              "       'sales supervisor area jawa barat',\n",
              "       'sales supervisor area kalimantan timur',\n",
              "       'sales supervisor area jawa tengah',\n",
              "       'area / regional sales supervisor',\n",
              "       'area sales supervisor di medan', 'area sales supervisor jambi',\n",
              "       'sales supervisor serang', 'sales supervisor kpw jakarta',\n",
              "       'sales supervisor general trade', 'sales supervisor modern trade',\n",
              "       'sales supervisor gt',\n",
              "       'sales supervisor untuk perusahaan distribusi air minum',\n",
              "       'sales supervisor, kepala gudang, driver', 'sales supervisor depo',\n",
              "       'area sales supervisor purwokerto', 'field sales supervisor',\n",
              "       'sales supervisor team leader', 'sales supervisor jabodetabek',\n",
              "       'sales supervisor property',\n",
              "       'sales supervisor area sulawesi selatan', 'sales supervisor area'],\n",
              "      dtype=object)"
            ]
          },
          "metadata": {
            "tags": []
          },
          "execution_count": 44
        }
      ]
    },
    {
      "cell_type": "code",
      "metadata": {
        "id": "rWbcW1jUNTke"
      },
      "source": [
        "# replace dengan hanya sales supervisor\n",
        "for idx,pos in enumerate(temp):\n",
        "    if 'sales supervisor' in pos:\n",
        "        temp[idx] = 'sales supervisor'"
      ],
      "execution_count": 45,
      "outputs": []
    },
    {
      "cell_type": "markdown",
      "metadata": {
        "id": "noZwVUAfNcbh"
      },
      "source": [
        "### Purchasing Staff"
      ]
    },
    {
      "cell_type": "code",
      "metadata": {
        "id": "ETA20ZsCNehT",
        "outputId": "e2414f99-8e99-487b-d8ac-04cb165e74f1",
        "colab": {
          "base_uri": "https://localhost:8080/",
          "height": 67
        }
      },
      "source": [
        "# check banyak jenis purchasing staff\n",
        "job_list = list()\n",
        "for pos in temp:\n",
        "    if 'purchasing staff' in pos:\n",
        "        job_list.append(pos)\n",
        "pd.Series(job_list).unique()"
      ],
      "execution_count": 46,
      "outputs": [
        {
          "output_type": "execute_result",
          "data": {
            "text/plain": [
              "array(['purchasing staff', 'hrd, ga & purchasing staff',\n",
              "       'cosmetics developement / purchasing staff',\n",
              "       'export import purchasing staff'], dtype=object)"
            ]
          },
          "metadata": {
            "tags": []
          },
          "execution_count": 46
        }
      ]
    },
    {
      "cell_type": "code",
      "metadata": {
        "id": "-1CbiKwbNlWS"
      },
      "source": [
        "# replace dengan hanya purchasing staff\n",
        "for idx,pos in enumerate(temp):\n",
        "    if 'purchasing staff' in pos:\n",
        "        temp[idx] = 'purchasing staff'"
      ],
      "execution_count": 47,
      "outputs": []
    },
    {
      "cell_type": "markdown",
      "metadata": {
        "id": "IXvb7At4Nrvc"
      },
      "source": [
        "### IT Programmer"
      ]
    },
    {
      "cell_type": "code",
      "metadata": {
        "id": "rXQKfRU8Ntee",
        "outputId": "e8148209-0012-49a0-e966-0442474707fc",
        "colab": {
          "base_uri": "https://localhost:8080/",
          "height": 84
        }
      },
      "source": [
        "# check banyak jenis it programmer\n",
        "job_list = list()\n",
        "for pos in temp:\n",
        "    if 'it programmer' in pos:\n",
        "        job_list.append(pos)\n",
        "pd.Series(job_list).unique()"
      ],
      "execution_count": 48,
      "outputs": [
        {
          "output_type": "execute_result",
          "data": {
            "text/plain": [
              "array(['it programmer', 'it programmer webbase',\n",
              "       'senior it programmer and system', 'junior it programmer',\n",
              "       'staff it programmer', 'it programmer abap', 'it programmer as400',\n",
              "       'it programmer / developer'], dtype=object)"
            ]
          },
          "metadata": {
            "tags": []
          },
          "execution_count": 48
        }
      ]
    },
    {
      "cell_type": "code",
      "metadata": {
        "id": "tSEt0BdaNxRO"
      },
      "source": [
        "# replace dengan hanya it programmer\n",
        "for idx,pos in enumerate(temp):\n",
        "    if 'it programmer' in pos:\n",
        "        temp[idx] = 'it programmer'"
      ],
      "execution_count": 49,
      "outputs": []
    },
    {
      "cell_type": "markdown",
      "metadata": {
        "id": "QV1Ma_OMN9n1"
      },
      "source": [
        "### IT Support"
      ]
    },
    {
      "cell_type": "code",
      "metadata": {
        "id": "AopYlmAdN_cf",
        "outputId": "b3a3dadf-5774-4e81-e023-bda5defeaf6e",
        "colab": {
          "base_uri": "https://localhost:8080/",
          "height": 101
        }
      },
      "source": [
        "# check banyak jenis it support\n",
        "job_list = list()\n",
        "for pos in temp:\n",
        "    if 'it support' in pos:\n",
        "        job_list.append(pos)\n",
        "pd.Series(job_list).unique()"
      ],
      "execution_count": 50,
      "outputs": [
        {
          "output_type": "execute_result",
          "data": {
            "text/plain": [
              "array(['it support', 'it support staff', 'it support / it helpdesk',\n",
              "       'it support officer', 'it support specialist',\n",
              "       'it support & networking', 'it support freelance',\n",
              "       'it support programmer', 'web programmer & it support',\n",
              "       'junior it support'], dtype=object)"
            ]
          },
          "metadata": {
            "tags": []
          },
          "execution_count": 50
        }
      ]
    },
    {
      "cell_type": "code",
      "metadata": {
        "id": "nG8Xm-HqODeR"
      },
      "source": [
        "# replace dengan hanya it support\n",
        "for idx,pos in enumerate(temp):\n",
        "    if 'it support' in pos:\n",
        "        temp[idx] = 'it support'"
      ],
      "execution_count": 51,
      "outputs": []
    },
    {
      "cell_type": "markdown",
      "metadata": {
        "id": "jSiWjSv1ONfD"
      },
      "source": [
        "### Account Manager"
      ]
    },
    {
      "cell_type": "code",
      "metadata": {
        "id": "0oUBslzTOL-J",
        "outputId": "495507cc-d7c0-4005-d882-21e0366c7442",
        "colab": {
          "base_uri": "https://localhost:8080/",
          "height": 269
        }
      },
      "source": [
        "# check banyak jenis account manager\n",
        "job_list = list()\n",
        "for pos in temp:\n",
        "    if 'account manager' in pos:\n",
        "        job_list.append(pos)\n",
        "pd.Series(job_list).unique()"
      ],
      "execution_count": 52,
      "outputs": [
        {
          "output_type": "execute_result",
          "data": {
            "text/plain": [
              "array(['account manager', 'key account manager', 'senior account manager',\n",
              "       'b2b account manager', 'sales account manager',\n",
              "       'it account manager',\n",
              "       'account manager regional bandung & surabaya',\n",
              "       'power quality account manager',\n",
              "       'power distribution account manager', 'digital account manager',\n",
              "       'key account manager east indonesia', 'enterprise account manager',\n",
              "       'technical account manager chemical', 'corporate account manager',\n",
              "       'executive account manager', 'insurance account manager',\n",
              "       'crossborder key account manager',\n",
              "       'corporate account manager kc. bandung',\n",
              "       'account manager sektor edukasi', 'national key account manager',\n",
              "       'key account manager for global pharmaceutical company',\n",
              "       'account manager it solutions', 'online account manager',\n",
              "       'sales it or account manager'], dtype=object)"
            ]
          },
          "metadata": {
            "tags": []
          },
          "execution_count": 52
        }
      ]
    },
    {
      "cell_type": "code",
      "metadata": {
        "id": "x4PP89akOSbH"
      },
      "source": [
        "# replace dengan hanya account manager\n",
        "for idx,pos in enumerate(temp):\n",
        "    if 'account manager' in pos:\n",
        "        temp[idx] = 'account manager'"
      ],
      "execution_count": 53,
      "outputs": []
    },
    {
      "cell_type": "markdown",
      "metadata": {
        "id": "Vgv-ZyZ3ObwT"
      },
      "source": [
        "### Customer Service"
      ]
    },
    {
      "cell_type": "code",
      "metadata": {
        "id": "tU9lSQSzOdbQ",
        "outputId": "0d8311f3-11e4-422f-f9df-7eb121873eb0",
        "colab": {
          "base_uri": "https://localhost:8080/",
          "height": 437
        }
      },
      "source": [
        "# check banyak jenis customer service\n",
        "job_list = list()\n",
        "for pos in temp:\n",
        "    if 'customer service' in pos:\n",
        "        job_list.append(pos)\n",
        "print(pd.Series(job_list).unique())\n",
        "\n",
        "# replace dengan hanya customer service\n",
        "for idx,pos in enumerate(temp):\n",
        "    if 'customer service' in pos:\n",
        "        temp[idx] = 'customer service'"
      ],
      "execution_count": 54,
      "outputs": [
        {
          "output_type": "stream",
          "text": [
            "['customer service freelance' 'customer service'\n",
            " 'customer service and experience' 'supervisor customer service & sales'\n",
            " 'customer service leader' 'customer service officer'\n",
            " 'customer service team' 'customer service specialist'\n",
            " 'customer service, alam sutera' 'customer service officer for google ads'\n",
            " 'customer service export import'\n",
            " 'senior customer service – exim sea freight' 'cashier customer service'\n",
            " 'supervisor customer service' 'customer service supervisor'\n",
            " 'customer service manager' 'admin cum customer service toko online'\n",
            " 'head customer service & sales' 'customer service representative'\n",
            " 'customer service & document' 'customer service executive'\n",
            " 'head of customer service & sales beauty and skincare'\n",
            " 'customer services agent' 'customer service advisor'\n",
            " 'customer service & pharmacist leader' 'airfreight customer service'\n",
            " 'customer services' 'customer service & collection supervisor'\n",
            " 'customer service officer palu' 'customer service officer kendari'\n",
            " 'customer service & export import documentation staff'\n",
            " 'admin customer service' 'customer service operation'\n",
            " 'customer service officer cilegon'\n",
            " 'game master quality assurance customer service'\n",
            " 'admin dan customer service' 'customer service freight forwarding'\n",
            " 'customer service ecommerce' 'head of customer service'\n",
            " 'admin online shop dan customer service' 'customer service staff'\n",
            " 'customer service quality control' 'online shop customer services'\n",
            " 'customer service & relationship manager']\n"
          ],
          "name": "stdout"
        }
      ]
    },
    {
      "cell_type": "markdown",
      "metadata": {
        "id": "jOP0sx8POugQ"
      },
      "source": [
        "### Brand Manager"
      ]
    },
    {
      "cell_type": "code",
      "metadata": {
        "id": "kT0uJFwCOwbs",
        "outputId": "94066617-368d-4a70-c0a0-6c91552545de",
        "colab": {
          "base_uri": "https://localhost:8080/",
          "height": 84
        }
      },
      "source": [
        "# check banyak jenis brand manager\n",
        "job_list = list()\n",
        "for pos in temp:\n",
        "    if 'brand manager' in pos:\n",
        "        job_list.append(pos)\n",
        "print(pd.Series(job_list).unique())\n",
        "\n",
        "# replace dengan hanya brand manager\n",
        "for idx,pos in enumerate(temp):\n",
        "    if 'brand manager' in pos:\n",
        "        temp[idx] = 'brand manager'"
      ],
      "execution_count": 55,
      "outputs": [
        {
          "output_type": "stream",
          "text": [
            "['brand manager' 'junior brand manager' 'assistant brand manager'\n",
            " 'junior brand manager marketing' 'haircare brand manager'\n",
            " 'marketing brand manager' 'brand manager building material'\n",
            " 'brand manager fmcg' 'marketing/brand manager']\n"
          ],
          "name": "stdout"
        }
      ]
    },
    {
      "cell_type": "markdown",
      "metadata": {
        "id": "S4qXJP3GO4nq"
      },
      "source": [
        "### Programmer"
      ]
    },
    {
      "cell_type": "code",
      "metadata": {
        "id": "UQ3gYj9cO6GD",
        "outputId": "06309ff1-8327-4e64-adbb-5688dd1867d6",
        "colab": {
          "base_uri": "https://localhost:8080/",
          "height": 689
        }
      },
      "source": [
        "# check banyak jenis programmer\n",
        "job_list = list()\n",
        "for pos in temp:\n",
        "    if 'programmer' in pos:\n",
        "        job_list.append(pos)\n",
        "print(pd.Series(job_list).unique())\n",
        "\n",
        "# replace dengan hanya programmer\n",
        "for idx,pos in enumerate(temp):\n",
        "    if 'programmer' in pos:\n",
        "        temp[idx] = 'programmer'"
      ],
      "execution_count": 56,
      "outputs": [
        {
          "output_type": "stream",
          "text": [
            "['programmer' 'full stack developer programmer engineer'\n",
            " 'web & mobile app programmer' 'lead programmer' 'mobile game programmer'\n",
            " 'web programmer' 'programmer freelance' 'java programmer senior'\n",
            " 'senior c# .net programmer' 'mobile programmer' 'full stack programmer'\n",
            " 'programmer asp.net' 'it senior java developer / programmer'\n",
            " 'backend programmer' 'it programmer' 'front end programmer'\n",
            " 'programmer developer)' 'programmer staff' 'programmer .net'\n",
            " 'java programmer' 'jr java programmer' 'software programmer'\n",
            " 'android programmer' '.net programmer' 'programmer support .net'\n",
            " 'full time programmer' 'senior programmer java' 'web & api programmer'\n",
            " 'php programmer' 'senior programmer' 'intermediate level programmer'\n",
            " 'senior php programmer' 'it java programmer' 'senior java programmer'\n",
            " 'web react js programmer' '3d programmer' 'programmer supervisor'\n",
            " 'odoo programmer' 'cnc programmer' 'programmer web & mobile apps'\n",
            " 'software developer programmer engineer –' 'mobile apps programmer'\n",
            " 'back end website developer programmer'\n",
            " 'full stack php or wordpress programmer'\n",
            " 'mobile apps designer/programmer using react native with 5 years of experience'\n",
            " 'senior javascript programmer' 'programmer web'\n",
            " 'programmer staff di jakarta' 'bootcamp it consultant / programmer'\n",
            " 'programmer and software developer' 'golang programmer bootcamp'\n",
            " 'senior staff programmer' 'senior it coder programmer manager'\n",
            " 'java software developer programmer' 'supervisor programmer it'\n",
            " 'it technical analyst & programmer' 'senior .net programmer'\n",
            " 'web programmer/ it developer'\n",
            " 'programmer dotnet penempatan karawang/jakarta'\n",
            " 'system analyst / programmer' '.net senior programmer'\n",
            " 'financial system application programmer specialist' 'asp.net programmer'\n",
            " 'fullstack programmer' 'senior frontend programmer'\n",
            " 'web application programmer specialist' 'programmer python'\n",
            " 'web integration programmer specialist' 'it web programmer'\n",
            " 'programmer java' 'senior full stack developer programmer php java'\n",
            " 'desktop programmer' 'it junior java developer / programmer'\n",
            " 'programmer officer' 'programmer web dan android'\n",
            " 'programmer visual basic' 'application programmer' 'junior programmer'\n",
            " 'open source programmer' 'web application programmer'\n",
            " 'it atau programmer' 'programmer php' 'back end programmer'\n",
            " 'boot camp programmer' 'php developer programmer senior level'\n",
            " 'junior .net programmer' 'support programmer' 'programmer it'\n",
            " 'operator dan programmer cnc bubut' 'middle php programmer']\n"
          ],
          "name": "stdout"
        }
      ]
    },
    {
      "cell_type": "markdown",
      "metadata": {
        "id": "ewLE7PPaPCi6"
      },
      "source": [
        "### Supervisor Produksi"
      ]
    },
    {
      "cell_type": "code",
      "metadata": {
        "id": "zCCIaLeZPFHb",
        "outputId": "d2720b11-5226-4e6b-d3bd-a39937839bea",
        "colab": {
          "base_uri": "https://localhost:8080/",
          "height": 101
        }
      },
      "source": [
        "# check banyak jenis supervisor produksi\n",
        "job_list = list()\n",
        "for pos in temp:\n",
        "    if 'supervisor produksi' in pos:\n",
        "        job_list.append(pos)\n",
        "print(pd.Series(job_list).unique())\n",
        "\n",
        "# replace dengan hanya supervisor produksi\n",
        "for idx,pos in enumerate(temp):\n",
        "    if 'supervisor produksi' in pos:\n",
        "        temp[idx] = 'supervisor produksi'"
      ],
      "execution_count": 57,
      "outputs": [
        {
          "output_type": "stream",
          "text": [
            "['supervisor produksi' 'supervisor produksi farmasi'\n",
            " 'supervisor produksi injection plastik' 'supervisor produksi pabrik'\n",
            " 'supervisor produksi feedmill' 'supervisor produksi alkes'\n",
            " 'senior supervisor produksi' 'supervisor produksi plating & painting'\n",
            " 'supervisor produksi furniture' 'supervisor produksi obat']\n"
          ],
          "name": "stdout"
        }
      ]
    },
    {
      "cell_type": "markdown",
      "metadata": {
        "id": "iYg-w70fPRWE"
      },
      "source": [
        "### Personal Assistant"
      ]
    },
    {
      "cell_type": "code",
      "metadata": {
        "id": "DqGUabOAPTsk",
        "outputId": "80307f67-2a0b-4c56-f531-b94b9373c8bf",
        "colab": {
          "base_uri": "https://localhost:8080/",
          "height": 185
        }
      },
      "source": [
        "# check banyak jenis personal assistant\n",
        "job_list = list()\n",
        "for pos in temp:\n",
        "    if 'personal assistant' in pos:\n",
        "        job_list.append(pos)\n",
        "print(pd.Series(job_list).unique())\n",
        "\n",
        "# replace dengan hanya personal assistant\n",
        "for idx,pos in enumerate(temp):\n",
        "    if 'personal assistant' in pos:\n",
        "        temp[idx] = 'personal assistant'"
      ],
      "execution_count": 58,
      "outputs": [
        {
          "output_type": "stream",
          "text": [
            "['personal assistant' 'personal assistant to director'\n",
            " 'personal assistant to bod' 'personal assistant general affair ceo'\n",
            " 'executive personal assistant' 'personal assistant to directors'\n",
            " 'mandarin personal assistant/ translator'\n",
            " 'personal assistant to vice president'\n",
            " 'personal assistant to manager mandarin speaker'\n",
            " 'secretary and personal assistant'\n",
            " 'secretary / personal assistant director' 'personal assistant for ceo'\n",
            " 'secretary / personal assistant'\n",
            " 'accounting and personal assistant staff']\n"
          ],
          "name": "stdout"
        }
      ]
    },
    {
      "cell_type": "markdown",
      "metadata": {
        "id": "B3KK6OvnPmLU"
      },
      "source": [
        "## Kelompokkan job_position dengan jumlah kata\n",
        "Note: pada tahap ini belum dilakukan, mengingat waktu yang sudah mepet."
      ]
    },
    {
      "cell_type": "code",
      "metadata": {
        "id": "a_Hc8vM3PuNd",
        "outputId": "77f4a4e8-351f-48d6-9f93-3fe60f608e97",
        "colab": {
          "base_uri": "https://localhost:8080/",
          "height": 34
        }
      },
      "source": [
        "job_pos_satu = list()\n",
        "job_pos_dua = list()\n",
        "job_pos_banyak = list()\n",
        "\n",
        "for job in temp:\n",
        "    split = job.split()\n",
        "    if len(split) == 1:\n",
        "        job_pos_satu.append(job)\n",
        "    elif len(split) == 2:\n",
        "        job_pos_dua.append(job)\n",
        "    else:\n",
        "        job_pos_banyak.append(job)\n",
        "\n",
        "len(job_pos_satu), len(job_pos_dua), len(job_pos_banyak)"
      ],
      "execution_count": 59,
      "outputs": [
        {
          "output_type": "execute_result",
          "data": {
            "text/plain": [
              "(1200, 7113, 5723)"
            ]
          },
          "metadata": {
            "tags": []
          },
          "execution_count": 59
        }
      ]
    },
    {
      "cell_type": "code",
      "metadata": {
        "id": "3dlS74DSQaF_",
        "outputId": "ff1e4006-c294-4ebf-811b-2a7a2eae1e1b",
        "colab": {
          "base_uri": "https://localhost:8080/",
          "height": 218
        }
      },
      "source": [
        "# lihat unique pada satu kata\n",
        "pd.Series(job_pos_satu).value_counts()"
      ],
      "execution_count": 60,
      "outputs": [
        {
          "output_type": "execute_result",
          "data": {
            "text/plain": [
              "programmer      215\n",
              "sales            63\n",
              "drafter          60\n",
              "marketing        59\n",
              "accounting       48\n",
              "               ... \n",
              "pmo               1\n",
              "akuntan           1\n",
              "bu                1\n",
              "boostpreneur      1\n",
              "hrga              1\n",
              "Length: 263, dtype: int64"
            ]
          },
          "metadata": {
            "tags": []
          },
          "execution_count": 60
        }
      ]
    },
    {
      "cell_type": "code",
      "metadata": {
        "id": "JXBlPdH4QuSl",
        "outputId": "ae780374-8a54-4074-b3fe-ab2f65a2ea1c",
        "colab": {
          "base_uri": "https://localhost:8080/",
          "height": 218
        }
      },
      "source": [
        "# lihat unique pada dua kata\n",
        "pd.Series(job_pos_dua).value_counts()"
      ],
      "execution_count": 61,
      "outputs": [
        {
          "output_type": "execute_result",
          "data": {
            "text/plain": [
              "sales manager        215\n",
              "sales executive      214\n",
              "sales supervisor     161\n",
              "digital marketing    147\n",
              "marketing manager    103\n",
              "                    ... \n",
              "anggota security       1\n",
              "sharia governance      1\n",
              "sales bandung          1\n",
              "field salesman         1\n",
              "ga admin               1\n",
              "Length: 2375, dtype: int64"
            ]
          },
          "metadata": {
            "tags": []
          },
          "execution_count": 61
        }
      ]
    },
    {
      "cell_type": "code",
      "metadata": {
        "id": "lKm1ITRIQ0Ki",
        "outputId": "c323209b-bd07-4320-ee74-59e68cc8796c",
        "colab": {
          "base_uri": "https://localhost:8080/",
          "height": 218
        }
      },
      "source": [
        "# lihat unique pada banyak kata\n",
        "pd.Series(job_pos_banyak).value_counts()"
      ],
      "execution_count": 62,
      "outputs": [
        {
          "output_type": "execute_result",
          "data": {
            "text/plain": [
              "business development manager            30\n",
              "social media specialist                 24\n",
              "full stack developer                    21\n",
              "finance accounting manager              17\n",
              "credit marketing officer                16\n",
              "                                        ..\n",
              "admin project property                   1\n",
              "junior information security engineer     1\n",
              "staff qc analisis                        1\n",
              "2d senior artist                         1\n",
              "epo analyst & documentation staff        1\n",
              "Length: 4776, dtype: int64"
            ]
          },
          "metadata": {
            "tags": []
          },
          "execution_count": 62
        }
      ]
    },
    {
      "cell_type": "markdown",
      "metadata": {
        "id": "V4PeIu4KQ_FD"
      },
      "source": [
        "### Mapping job satu kata"
      ]
    },
    {
      "cell_type": "code",
      "metadata": {
        "id": "6pL-4Jc0RD9J"
      },
      "source": [
        "# pd.Series(job_pos_satu).value_counts().to_csv('job_pos_satu.csv')\n",
        "# pd.Series(job_pos_dua).value_counts().to_csv('job_pos_dua.csv')\n",
        "# pd.Series(job_pos_banyak).value_counts().to_csv('job_pos_banyak.csv')"
      ],
      "execution_count": 63,
      "outputs": []
    },
    {
      "cell_type": "markdown",
      "metadata": {
        "id": "X61fcgPtC2h6"
      },
      "source": [
        "## Hasil akhir"
      ]
    },
    {
      "cell_type": "code",
      "metadata": {
        "id": "W48_IkhcC0vm",
        "outputId": "7c899db8-8fd2-4762-a539-89845cb37fa9",
        "colab": {
          "base_uri": "https://localhost:8080/",
          "height": 218
        }
      },
      "source": [
        "pd.Series(temp).value_counts()"
      ],
      "execution_count": 64,
      "outputs": [
        {
          "output_type": "execute_result",
          "data": {
            "text/plain": [
              "programmer                                215\n",
              "sales manager                             215\n",
              "sales executive                           214\n",
              "sales supervisor                          161\n",
              "digital marketing                         147\n",
              "                                         ... \n",
              "telemarketer / phone dating consultant      1\n",
              "supervisor sortation bandung                1\n",
              "is developer                                1\n",
              "product development staff                   1\n",
              "epo analyst & documentation staff           1\n",
              "Length: 7414, dtype: int64"
            ]
          },
          "metadata": {
            "tags": []
          },
          "execution_count": 64
        }
      ]
    },
    {
      "cell_type": "code",
      "metadata": {
        "id": "vlalCzwhloQt"
      },
      "source": [
        "# pd.Series(temp).value_counts().to_csv('job_position_distinct.csv')"
      ],
      "execution_count": 65,
      "outputs": []
    },
    {
      "cell_type": "markdown",
      "metadata": {
        "id": "OFHwxqL7DG0D"
      },
      "source": [
        "> Yang semula distinct 10078, menjadi 7414 distinct"
      ]
    },
    {
      "cell_type": "code",
      "metadata": {
        "id": "DDwKhmTcCuuD",
        "outputId": "ee9f9f45-bbab-42eb-c5f6-852968cfbf54",
        "colab": {
          "base_uri": "https://localhost:8080/",
          "height": 34
        }
      },
      "source": [
        "# insert into dataframe dan check null values\n",
        "data['job_position'] = temp\n",
        "data['job_position'].isnull().sum()"
      ],
      "execution_count": 66,
      "outputs": [
        {
          "output_type": "execute_result",
          "data": {
            "text/plain": [
              "0"
            ]
          },
          "metadata": {
            "tags": []
          },
          "execution_count": 66
        }
      ]
    },
    {
      "cell_type": "code",
      "metadata": {
        "id": "PfVRChGQTUZF",
        "outputId": "8ebe2720-e7fb-48a4-cda7-129f2a611998",
        "colab": {
          "base_uri": "https://localhost:8080/",
          "height": 434
        }
      },
      "source": [
        "data.head()"
      ],
      "execution_count": 67,
      "outputs": [
        {
          "output_type": "execute_result",
          "data": {
            "text/html": [
              "<div>\n",
              "<style scoped>\n",
              "    .dataframe tbody tr th:only-of-type {\n",
              "        vertical-align: middle;\n",
              "    }\n",
              "\n",
              "    .dataframe tbody tr th {\n",
              "        vertical-align: top;\n",
              "    }\n",
              "\n",
              "    .dataframe thead th {\n",
              "        text-align: right;\n",
              "    }\n",
              "</style>\n",
              "<table border=\"1\" class=\"dataframe\">\n",
              "  <thead>\n",
              "    <tr style=\"text-align: right;\">\n",
              "      <th></th>\n",
              "      <th>id_loker</th>\n",
              "      <th>pulau</th>\n",
              "      <th>provinsi</th>\n",
              "      <th>job_position</th>\n",
              "      <th>company_name</th>\n",
              "      <th>years_of_experience</th>\n",
              "      <th>years_of_experience_cat</th>\n",
              "      <th>job_description</th>\n",
              "      <th>average_processing_time</th>\n",
              "      <th>company_industry</th>\n",
              "      <th>company_size</th>\n",
              "      <th>work_environment_waktu_bekerja</th>\n",
              "      <th>work_environment_gaya_berpakaian</th>\n",
              "      <th>work_environment_gaya_berpakaian_contoh</th>\n",
              "      <th>work_environment_tunjangan</th>\n",
              "      <th>work_environment_bahasa</th>\n",
              "      <th>platform</th>\n",
              "    </tr>\n",
              "  </thead>\n",
              "  <tbody>\n",
              "    <tr>\n",
              "      <th>0</th>\n",
              "      <td>1</td>\n",
              "      <td>jawa</td>\n",
              "      <td>dki jakarta</td>\n",
              "      <td>spv finance</td>\n",
              "      <td>PT Axindo Infotama</td>\n",
              "      <td>3</td>\n",
              "      <td>0 - 4 tahun</td>\n",
              "      <td>[SEP][SEP]Usia Max. 35 tahun[SEP]Pendidikan Mi...</td>\n",
              "      <td>6</td>\n",
              "      <td>Retail/Merchandise</td>\n",
              "      <td>51 - 200 pekerja</td>\n",
              "      <td>sabtu</td>\n",
              "      <td>formal</td>\n",
              "      <td>kemeja polos &amp; dasi</td>\n",
              "      <td>kesehatan, umum</td>\n",
              "      <td>indonesia</td>\n",
              "      <td>jobstreet</td>\n",
              "    </tr>\n",
              "    <tr>\n",
              "      <th>1</th>\n",
              "      <td>2</td>\n",
              "      <td>jawa</td>\n",
              "      <td>dki jakarta</td>\n",
              "      <td>qualitative research executive</td>\n",
              "      <td>Perusahaan Dirahasiakan</td>\n",
              "      <td>3</td>\n",
              "      <td>0 - 4 tahun</td>\n",
              "      <td>RESPONSIBILITIES:[SEP]Brief Description of Dut...</td>\n",
              "      <td>tidak tersedia</td>\n",
              "      <td>tidak tersedia</td>\n",
              "      <td>tidak spesifik</td>\n",
              "      <td>tidak tersedia</td>\n",
              "      <td>tidak spesifik</td>\n",
              "      <td>tidak spesifik</td>\n",
              "      <td>tidak tersedia</td>\n",
              "      <td>tidak dicantumkan</td>\n",
              "      <td>jobstreet</td>\n",
              "    </tr>\n",
              "    <tr>\n",
              "      <th>2</th>\n",
              "      <td>3</td>\n",
              "      <td>jawa</td>\n",
              "      <td>jawa tengah</td>\n",
              "      <td>field collection wonogiri</td>\n",
              "      <td>OTO Group</td>\n",
              "      <td>0</td>\n",
              "      <td>0 - 4 tahun</td>\n",
              "      <td>[SEP]Lingkup pekerjaan: [SEP]Menjaga account d...</td>\n",
              "      <td>14</td>\n",
              "      <td>Perbankan/Pelayanan Keuangan</td>\n",
              "      <td>lebih dari 5000 pekerja</td>\n",
              "      <td>senin - jumat</td>\n",
              "      <td>bisnis</td>\n",
              "      <td>kemeja</td>\n",
              "      <td>kesehatan, bonus</td>\n",
              "      <td>indonesia</td>\n",
              "      <td>jobstreet</td>\n",
              "    </tr>\n",
              "    <tr>\n",
              "      <th>3</th>\n",
              "      <td>4</td>\n",
              "      <td>jawa</td>\n",
              "      <td>dki jakarta</td>\n",
              "      <td>perawat di negara jerman</td>\n",
              "      <td>PT Jerman Manajemen</td>\n",
              "      <td>1</td>\n",
              "      <td>0 - 4 tahun</td>\n",
              "      <td>[SEP]Candidate must possess at least Diploma i...</td>\n",
              "      <td>11</td>\n",
              "      <td>Pendidikan</td>\n",
              "      <td>51 - 200 pekerja</td>\n",
              "      <td>sabtu - kamis</td>\n",
              "      <td>formal</td>\n",
              "      <td>kemeja polos &amp; dasi</td>\n",
              "      <td>kesehatan</td>\n",
              "      <td>indonesia</td>\n",
              "      <td>jobstreet</td>\n",
              "    </tr>\n",
              "    <tr>\n",
              "      <th>4</th>\n",
              "      <td>5</td>\n",
              "      <td>jawa</td>\n",
              "      <td>jawa tengah</td>\n",
              "      <td>field collection pati</td>\n",
              "      <td>OTO Group</td>\n",
              "      <td>0</td>\n",
              "      <td>0 - 4 tahun</td>\n",
              "      <td>[SEP]Lingkup pekerjaan: [SEP]Menjaga account d...</td>\n",
              "      <td>14</td>\n",
              "      <td>Perbankan/Pelayanan Keuangan</td>\n",
              "      <td>lebih dari 5000 pekerja</td>\n",
              "      <td>senin - jumat</td>\n",
              "      <td>bisnis</td>\n",
              "      <td>kemeja</td>\n",
              "      <td>kesehatan, bonus</td>\n",
              "      <td>indonesia</td>\n",
              "      <td>jobstreet</td>\n",
              "    </tr>\n",
              "  </tbody>\n",
              "</table>\n",
              "</div>"
            ],
            "text/plain": [
              "   id_loker pulau  ... work_environment_bahasa   platform\n",
              "0         1  jawa  ...               indonesia  jobstreet\n",
              "1         2  jawa  ...       tidak dicantumkan  jobstreet\n",
              "2         3  jawa  ...               indonesia  jobstreet\n",
              "3         4  jawa  ...               indonesia  jobstreet\n",
              "4         5  jawa  ...               indonesia  jobstreet\n",
              "\n",
              "[5 rows x 17 columns]"
            ]
          },
          "metadata": {
            "tags": []
          },
          "execution_count": 67
        }
      ]
    },
    {
      "cell_type": "markdown",
      "metadata": {
        "id": "60dhao0OEY5A"
      },
      "source": [
        "# Export csv"
      ]
    },
    {
      "cell_type": "code",
      "metadata": {
        "id": "VenIYNtoFElN",
        "outputId": "ca7bb2e0-c889-4e96-cac0-46c4e3603fd3",
        "colab": {
          "base_uri": "https://localhost:8080/",
          "height": 34
        }
      },
      "source": [
        "data.shape"
      ],
      "execution_count": 68,
      "outputs": [
        {
          "output_type": "execute_result",
          "data": {
            "text/plain": [
              "(14036, 17)"
            ]
          },
          "metadata": {
            "tags": []
          },
          "execution_count": 68
        }
      ]
    },
    {
      "cell_type": "code",
      "metadata": {
        "id": "qPBvC7mjEaEB"
      },
      "source": [
        "data.to_csv('jobstreet_clean_tahap2.csv', index=False)"
      ],
      "execution_count": 69,
      "outputs": []
    },
    {
      "cell_type": "code",
      "metadata": {
        "id": "zYiTxgmJB-wG"
      },
      "source": [
        ""
      ],
      "execution_count": 69,
      "outputs": []
    }
  ]
}