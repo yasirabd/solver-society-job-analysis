{
  "nbformat": 4,
  "nbformat_minor": 0,
  "metadata": {
    "colab": {
      "name": "2_3_2 - Ekstrak job_description (skill - english)",
      "provenance": [],
      "collapsed_sections": [],
      "toc_visible": true,
      "mount_file_id": "13OT_WSJYNh0D0vkBPfFWEME8Za5Ojblh",
      "authorship_tag": "ABX9TyP9vrh5BPFXzz1eeYFncKmi",
      "include_colab_link": true
    },
    "kernelspec": {
      "name": "python3",
      "display_name": "Python 3"
    },
    "widgets": {
      "application/vnd.jupyter.widget-state+json": {
        "765acc00c8064b8da62d721268a3e0ba": {
          "model_module": "@jupyter-widgets/controls",
          "model_name": "HBoxModel",
          "state": {
            "_view_name": "HBoxView",
            "_dom_classes": [],
            "_model_name": "HBoxModel",
            "_view_module": "@jupyter-widgets/controls",
            "_model_module_version": "1.5.0",
            "_view_count": null,
            "_view_module_version": "1.5.0",
            "box_style": "",
            "layout": "IPY_MODEL_2c56c5a1618145d5aaa7613e545ae48d",
            "_model_module": "@jupyter-widgets/controls",
            "children": [
              "IPY_MODEL_9bc60cb058684867aba3a6cb12115575",
              "IPY_MODEL_5aae62731f3e406e801d008f93541b76"
            ]
          }
        },
        "2c56c5a1618145d5aaa7613e545ae48d": {
          "model_module": "@jupyter-widgets/base",
          "model_name": "LayoutModel",
          "state": {
            "_view_name": "LayoutView",
            "grid_template_rows": null,
            "right": null,
            "justify_content": null,
            "_view_module": "@jupyter-widgets/base",
            "overflow": null,
            "_model_module_version": "1.2.0",
            "_view_count": null,
            "flex_flow": null,
            "width": null,
            "min_width": null,
            "border": null,
            "align_items": null,
            "bottom": null,
            "_model_module": "@jupyter-widgets/base",
            "top": null,
            "grid_column": null,
            "overflow_y": null,
            "overflow_x": null,
            "grid_auto_flow": null,
            "grid_area": null,
            "grid_template_columns": null,
            "flex": null,
            "_model_name": "LayoutModel",
            "justify_items": null,
            "grid_row": null,
            "max_height": null,
            "align_content": null,
            "visibility": null,
            "align_self": null,
            "height": null,
            "min_height": null,
            "padding": null,
            "grid_auto_rows": null,
            "grid_gap": null,
            "max_width": null,
            "order": null,
            "_view_module_version": "1.2.0",
            "grid_template_areas": null,
            "object_position": null,
            "object_fit": null,
            "grid_auto_columns": null,
            "margin": null,
            "display": null,
            "left": null
          }
        },
        "9bc60cb058684867aba3a6cb12115575": {
          "model_module": "@jupyter-widgets/controls",
          "model_name": "FloatProgressModel",
          "state": {
            "_view_name": "ProgressView",
            "style": "IPY_MODEL_5d14b5ce98854f01a9438d8a4f36e0e8",
            "_dom_classes": [],
            "description": "Downloading: 100%",
            "_model_name": "FloatProgressModel",
            "bar_style": "success",
            "max": 433,
            "_view_module": "@jupyter-widgets/controls",
            "_model_module_version": "1.5.0",
            "value": 433,
            "_view_count": null,
            "_view_module_version": "1.5.0",
            "orientation": "horizontal",
            "min": 0,
            "description_tooltip": null,
            "_model_module": "@jupyter-widgets/controls",
            "layout": "IPY_MODEL_0edc889ec1fe4a27a33fc09974b83cfd"
          }
        },
        "5aae62731f3e406e801d008f93541b76": {
          "model_module": "@jupyter-widgets/controls",
          "model_name": "HTMLModel",
          "state": {
            "_view_name": "HTMLView",
            "style": "IPY_MODEL_c4d002db4c634b3aa9b6b7ace107177a",
            "_dom_classes": [],
            "description": "",
            "_model_name": "HTMLModel",
            "placeholder": "​",
            "_view_module": "@jupyter-widgets/controls",
            "_model_module_version": "1.5.0",
            "value": " 433/433 [00:02&lt;00:00, 194B/s]",
            "_view_count": null,
            "_view_module_version": "1.5.0",
            "description_tooltip": null,
            "_model_module": "@jupyter-widgets/controls",
            "layout": "IPY_MODEL_2ca2b3e5588f4d8a9a8a88937a9848a0"
          }
        },
        "5d14b5ce98854f01a9438d8a4f36e0e8": {
          "model_module": "@jupyter-widgets/controls",
          "model_name": "ProgressStyleModel",
          "state": {
            "_view_name": "StyleView",
            "_model_name": "ProgressStyleModel",
            "description_width": "initial",
            "_view_module": "@jupyter-widgets/base",
            "_model_module_version": "1.5.0",
            "_view_count": null,
            "_view_module_version": "1.2.0",
            "bar_color": null,
            "_model_module": "@jupyter-widgets/controls"
          }
        },
        "0edc889ec1fe4a27a33fc09974b83cfd": {
          "model_module": "@jupyter-widgets/base",
          "model_name": "LayoutModel",
          "state": {
            "_view_name": "LayoutView",
            "grid_template_rows": null,
            "right": null,
            "justify_content": null,
            "_view_module": "@jupyter-widgets/base",
            "overflow": null,
            "_model_module_version": "1.2.0",
            "_view_count": null,
            "flex_flow": null,
            "width": null,
            "min_width": null,
            "border": null,
            "align_items": null,
            "bottom": null,
            "_model_module": "@jupyter-widgets/base",
            "top": null,
            "grid_column": null,
            "overflow_y": null,
            "overflow_x": null,
            "grid_auto_flow": null,
            "grid_area": null,
            "grid_template_columns": null,
            "flex": null,
            "_model_name": "LayoutModel",
            "justify_items": null,
            "grid_row": null,
            "max_height": null,
            "align_content": null,
            "visibility": null,
            "align_self": null,
            "height": null,
            "min_height": null,
            "padding": null,
            "grid_auto_rows": null,
            "grid_gap": null,
            "max_width": null,
            "order": null,
            "_view_module_version": "1.2.0",
            "grid_template_areas": null,
            "object_position": null,
            "object_fit": null,
            "grid_auto_columns": null,
            "margin": null,
            "display": null,
            "left": null
          }
        },
        "c4d002db4c634b3aa9b6b7ace107177a": {
          "model_module": "@jupyter-widgets/controls",
          "model_name": "DescriptionStyleModel",
          "state": {
            "_view_name": "StyleView",
            "_model_name": "DescriptionStyleModel",
            "description_width": "",
            "_view_module": "@jupyter-widgets/base",
            "_model_module_version": "1.5.0",
            "_view_count": null,
            "_view_module_version": "1.2.0",
            "_model_module": "@jupyter-widgets/controls"
          }
        },
        "2ca2b3e5588f4d8a9a8a88937a9848a0": {
          "model_module": "@jupyter-widgets/base",
          "model_name": "LayoutModel",
          "state": {
            "_view_name": "LayoutView",
            "grid_template_rows": null,
            "right": null,
            "justify_content": null,
            "_view_module": "@jupyter-widgets/base",
            "overflow": null,
            "_model_module_version": "1.2.0",
            "_view_count": null,
            "flex_flow": null,
            "width": null,
            "min_width": null,
            "border": null,
            "align_items": null,
            "bottom": null,
            "_model_module": "@jupyter-widgets/base",
            "top": null,
            "grid_column": null,
            "overflow_y": null,
            "overflow_x": null,
            "grid_auto_flow": null,
            "grid_area": null,
            "grid_template_columns": null,
            "flex": null,
            "_model_name": "LayoutModel",
            "justify_items": null,
            "grid_row": null,
            "max_height": null,
            "align_content": null,
            "visibility": null,
            "align_self": null,
            "height": null,
            "min_height": null,
            "padding": null,
            "grid_auto_rows": null,
            "grid_gap": null,
            "max_width": null,
            "order": null,
            "_view_module_version": "1.2.0",
            "grid_template_areas": null,
            "object_position": null,
            "object_fit": null,
            "grid_auto_columns": null,
            "margin": null,
            "display": null,
            "left": null
          }
        },
        "999bfb93bd004f028d6da901d632bb8e": {
          "model_module": "@jupyter-widgets/controls",
          "model_name": "HBoxModel",
          "state": {
            "_view_name": "HBoxView",
            "_dom_classes": [],
            "_model_name": "HBoxModel",
            "_view_module": "@jupyter-widgets/controls",
            "_model_module_version": "1.5.0",
            "_view_count": null,
            "_view_module_version": "1.5.0",
            "box_style": "",
            "layout": "IPY_MODEL_f9f80ebdef454c35b0ed1d365c406320",
            "_model_module": "@jupyter-widgets/controls",
            "children": [
              "IPY_MODEL_5a8fc92cd3b74b7787ab136c17be19bf",
              "IPY_MODEL_7ef18d88be444c349184372d470e5798"
            ]
          }
        },
        "f9f80ebdef454c35b0ed1d365c406320": {
          "model_module": "@jupyter-widgets/base",
          "model_name": "LayoutModel",
          "state": {
            "_view_name": "LayoutView",
            "grid_template_rows": null,
            "right": null,
            "justify_content": null,
            "_view_module": "@jupyter-widgets/base",
            "overflow": null,
            "_model_module_version": "1.2.0",
            "_view_count": null,
            "flex_flow": null,
            "width": null,
            "min_width": null,
            "border": null,
            "align_items": null,
            "bottom": null,
            "_model_module": "@jupyter-widgets/base",
            "top": null,
            "grid_column": null,
            "overflow_y": null,
            "overflow_x": null,
            "grid_auto_flow": null,
            "grid_area": null,
            "grid_template_columns": null,
            "flex": null,
            "_model_name": "LayoutModel",
            "justify_items": null,
            "grid_row": null,
            "max_height": null,
            "align_content": null,
            "visibility": null,
            "align_self": null,
            "height": null,
            "min_height": null,
            "padding": null,
            "grid_auto_rows": null,
            "grid_gap": null,
            "max_width": null,
            "order": null,
            "_view_module_version": "1.2.0",
            "grid_template_areas": null,
            "object_position": null,
            "object_fit": null,
            "grid_auto_columns": null,
            "margin": null,
            "display": null,
            "left": null
          }
        },
        "5a8fc92cd3b74b7787ab136c17be19bf": {
          "model_module": "@jupyter-widgets/controls",
          "model_name": "FloatProgressModel",
          "state": {
            "_view_name": "ProgressView",
            "style": "IPY_MODEL_f4a23d0983534f2a80ba55dbe08faf3f",
            "_dom_classes": [],
            "description": "Downloading: 100%",
            "_model_name": "FloatProgressModel",
            "bar_style": "success",
            "max": 213450,
            "_view_module": "@jupyter-widgets/controls",
            "_model_module_version": "1.5.0",
            "value": 213450,
            "_view_count": null,
            "_view_module_version": "1.5.0",
            "orientation": "horizontal",
            "min": 0,
            "description_tooltip": null,
            "_model_module": "@jupyter-widgets/controls",
            "layout": "IPY_MODEL_dc3fbda0e83b47eaa080cf0da1c9a84a"
          }
        },
        "7ef18d88be444c349184372d470e5798": {
          "model_module": "@jupyter-widgets/controls",
          "model_name": "HTMLModel",
          "state": {
            "_view_name": "HTMLView",
            "style": "IPY_MODEL_25e653fd81e84d19b90f8cd8dfddd508",
            "_dom_classes": [],
            "description": "",
            "_model_name": "HTMLModel",
            "placeholder": "​",
            "_view_module": "@jupyter-widgets/controls",
            "_model_module_version": "1.5.0",
            "value": " 213k/213k [00:00&lt;00:00, 354kB/s]",
            "_view_count": null,
            "_view_module_version": "1.5.0",
            "description_tooltip": null,
            "_model_module": "@jupyter-widgets/controls",
            "layout": "IPY_MODEL_9705df71ec804a4ba26ea08160ec24a0"
          }
        },
        "f4a23d0983534f2a80ba55dbe08faf3f": {
          "model_module": "@jupyter-widgets/controls",
          "model_name": "ProgressStyleModel",
          "state": {
            "_view_name": "StyleView",
            "_model_name": "ProgressStyleModel",
            "description_width": "initial",
            "_view_module": "@jupyter-widgets/base",
            "_model_module_version": "1.5.0",
            "_view_count": null,
            "_view_module_version": "1.2.0",
            "bar_color": null,
            "_model_module": "@jupyter-widgets/controls"
          }
        },
        "dc3fbda0e83b47eaa080cf0da1c9a84a": {
          "model_module": "@jupyter-widgets/base",
          "model_name": "LayoutModel",
          "state": {
            "_view_name": "LayoutView",
            "grid_template_rows": null,
            "right": null,
            "justify_content": null,
            "_view_module": "@jupyter-widgets/base",
            "overflow": null,
            "_model_module_version": "1.2.0",
            "_view_count": null,
            "flex_flow": null,
            "width": null,
            "min_width": null,
            "border": null,
            "align_items": null,
            "bottom": null,
            "_model_module": "@jupyter-widgets/base",
            "top": null,
            "grid_column": null,
            "overflow_y": null,
            "overflow_x": null,
            "grid_auto_flow": null,
            "grid_area": null,
            "grid_template_columns": null,
            "flex": null,
            "_model_name": "LayoutModel",
            "justify_items": null,
            "grid_row": null,
            "max_height": null,
            "align_content": null,
            "visibility": null,
            "align_self": null,
            "height": null,
            "min_height": null,
            "padding": null,
            "grid_auto_rows": null,
            "grid_gap": null,
            "max_width": null,
            "order": null,
            "_view_module_version": "1.2.0",
            "grid_template_areas": null,
            "object_position": null,
            "object_fit": null,
            "grid_auto_columns": null,
            "margin": null,
            "display": null,
            "left": null
          }
        },
        "25e653fd81e84d19b90f8cd8dfddd508": {
          "model_module": "@jupyter-widgets/controls",
          "model_name": "DescriptionStyleModel",
          "state": {
            "_view_name": "StyleView",
            "_model_name": "DescriptionStyleModel",
            "description_width": "",
            "_view_module": "@jupyter-widgets/base",
            "_model_module_version": "1.5.0",
            "_view_count": null,
            "_view_module_version": "1.2.0",
            "_model_module": "@jupyter-widgets/controls"
          }
        },
        "9705df71ec804a4ba26ea08160ec24a0": {
          "model_module": "@jupyter-widgets/base",
          "model_name": "LayoutModel",
          "state": {
            "_view_name": "LayoutView",
            "grid_template_rows": null,
            "right": null,
            "justify_content": null,
            "_view_module": "@jupyter-widgets/base",
            "overflow": null,
            "_model_module_version": "1.2.0",
            "_view_count": null,
            "flex_flow": null,
            "width": null,
            "min_width": null,
            "border": null,
            "align_items": null,
            "bottom": null,
            "_model_module": "@jupyter-widgets/base",
            "top": null,
            "grid_column": null,
            "overflow_y": null,
            "overflow_x": null,
            "grid_auto_flow": null,
            "grid_area": null,
            "grid_template_columns": null,
            "flex": null,
            "_model_name": "LayoutModel",
            "justify_items": null,
            "grid_row": null,
            "max_height": null,
            "align_content": null,
            "visibility": null,
            "align_self": null,
            "height": null,
            "min_height": null,
            "padding": null,
            "grid_auto_rows": null,
            "grid_gap": null,
            "max_width": null,
            "order": null,
            "_view_module_version": "1.2.0",
            "grid_template_areas": null,
            "object_position": null,
            "object_fit": null,
            "grid_auto_columns": null,
            "margin": null,
            "display": null,
            "left": null
          }
        },
        "8388e31648304e32972088951d5e3f35": {
          "model_module": "@jupyter-widgets/controls",
          "model_name": "HBoxModel",
          "state": {
            "_view_name": "HBoxView",
            "_dom_classes": [],
            "_model_name": "HBoxModel",
            "_view_module": "@jupyter-widgets/controls",
            "_model_module_version": "1.5.0",
            "_view_count": null,
            "_view_module_version": "1.5.0",
            "box_style": "",
            "layout": "IPY_MODEL_8153fc52927f4c1f85f7df05ed28efe6",
            "_model_module": "@jupyter-widgets/controls",
            "children": [
              "IPY_MODEL_aa57a314d7534b269b4b48ac8e12de9d",
              "IPY_MODEL_f7dbaae46f1c43009a3e01273a1e37fe"
            ]
          }
        },
        "8153fc52927f4c1f85f7df05ed28efe6": {
          "model_module": "@jupyter-widgets/base",
          "model_name": "LayoutModel",
          "state": {
            "_view_name": "LayoutView",
            "grid_template_rows": null,
            "right": null,
            "justify_content": null,
            "_view_module": "@jupyter-widgets/base",
            "overflow": null,
            "_model_module_version": "1.2.0",
            "_view_count": null,
            "flex_flow": null,
            "width": null,
            "min_width": null,
            "border": null,
            "align_items": null,
            "bottom": null,
            "_model_module": "@jupyter-widgets/base",
            "top": null,
            "grid_column": null,
            "overflow_y": null,
            "overflow_x": null,
            "grid_auto_flow": null,
            "grid_area": null,
            "grid_template_columns": null,
            "flex": null,
            "_model_name": "LayoutModel",
            "justify_items": null,
            "grid_row": null,
            "max_height": null,
            "align_content": null,
            "visibility": null,
            "align_self": null,
            "height": null,
            "min_height": null,
            "padding": null,
            "grid_auto_rows": null,
            "grid_gap": null,
            "max_width": null,
            "order": null,
            "_view_module_version": "1.2.0",
            "grid_template_areas": null,
            "object_position": null,
            "object_fit": null,
            "grid_auto_columns": null,
            "margin": null,
            "display": null,
            "left": null
          }
        },
        "aa57a314d7534b269b4b48ac8e12de9d": {
          "model_module": "@jupyter-widgets/controls",
          "model_name": "FloatProgressModel",
          "state": {
            "_view_name": "ProgressView",
            "style": "IPY_MODEL_4846be2d18e3495ca8da0d1ff8f89886",
            "_dom_classes": [],
            "description": "Downloading: 100%",
            "_model_name": "FloatProgressModel",
            "bar_style": "success",
            "max": 435779157,
            "_view_module": "@jupyter-widgets/controls",
            "_model_module_version": "1.5.0",
            "value": 435779157,
            "_view_count": null,
            "_view_module_version": "1.5.0",
            "orientation": "horizontal",
            "min": 0,
            "description_tooltip": null,
            "_model_module": "@jupyter-widgets/controls",
            "layout": "IPY_MODEL_9d5d6233f89d4902a80689c070c4be33"
          }
        },
        "f7dbaae46f1c43009a3e01273a1e37fe": {
          "model_module": "@jupyter-widgets/controls",
          "model_name": "HTMLModel",
          "state": {
            "_view_name": "HTMLView",
            "style": "IPY_MODEL_54caebd373034d03bb0cbac326974110",
            "_dom_classes": [],
            "description": "",
            "_model_name": "HTMLModel",
            "placeholder": "​",
            "_view_module": "@jupyter-widgets/controls",
            "_model_module_version": "1.5.0",
            "value": " 436M/436M [00:06&lt;00:00, 62.9MB/s]",
            "_view_count": null,
            "_view_module_version": "1.5.0",
            "description_tooltip": null,
            "_model_module": "@jupyter-widgets/controls",
            "layout": "IPY_MODEL_af0272b34307419abe1b5502dd0ba62e"
          }
        },
        "4846be2d18e3495ca8da0d1ff8f89886": {
          "model_module": "@jupyter-widgets/controls",
          "model_name": "ProgressStyleModel",
          "state": {
            "_view_name": "StyleView",
            "_model_name": "ProgressStyleModel",
            "description_width": "initial",
            "_view_module": "@jupyter-widgets/base",
            "_model_module_version": "1.5.0",
            "_view_count": null,
            "_view_module_version": "1.2.0",
            "bar_color": null,
            "_model_module": "@jupyter-widgets/controls"
          }
        },
        "9d5d6233f89d4902a80689c070c4be33": {
          "model_module": "@jupyter-widgets/base",
          "model_name": "LayoutModel",
          "state": {
            "_view_name": "LayoutView",
            "grid_template_rows": null,
            "right": null,
            "justify_content": null,
            "_view_module": "@jupyter-widgets/base",
            "overflow": null,
            "_model_module_version": "1.2.0",
            "_view_count": null,
            "flex_flow": null,
            "width": null,
            "min_width": null,
            "border": null,
            "align_items": null,
            "bottom": null,
            "_model_module": "@jupyter-widgets/base",
            "top": null,
            "grid_column": null,
            "overflow_y": null,
            "overflow_x": null,
            "grid_auto_flow": null,
            "grid_area": null,
            "grid_template_columns": null,
            "flex": null,
            "_model_name": "LayoutModel",
            "justify_items": null,
            "grid_row": null,
            "max_height": null,
            "align_content": null,
            "visibility": null,
            "align_self": null,
            "height": null,
            "min_height": null,
            "padding": null,
            "grid_auto_rows": null,
            "grid_gap": null,
            "max_width": null,
            "order": null,
            "_view_module_version": "1.2.0",
            "grid_template_areas": null,
            "object_position": null,
            "object_fit": null,
            "grid_auto_columns": null,
            "margin": null,
            "display": null,
            "left": null
          }
        },
        "54caebd373034d03bb0cbac326974110": {
          "model_module": "@jupyter-widgets/controls",
          "model_name": "DescriptionStyleModel",
          "state": {
            "_view_name": "StyleView",
            "_model_name": "DescriptionStyleModel",
            "description_width": "",
            "_view_module": "@jupyter-widgets/base",
            "_model_module_version": "1.5.0",
            "_view_count": null,
            "_view_module_version": "1.2.0",
            "_model_module": "@jupyter-widgets/controls"
          }
        },
        "af0272b34307419abe1b5502dd0ba62e": {
          "model_module": "@jupyter-widgets/base",
          "model_name": "LayoutModel",
          "state": {
            "_view_name": "LayoutView",
            "grid_template_rows": null,
            "right": null,
            "justify_content": null,
            "_view_module": "@jupyter-widgets/base",
            "overflow": null,
            "_model_module_version": "1.2.0",
            "_view_count": null,
            "flex_flow": null,
            "width": null,
            "min_width": null,
            "border": null,
            "align_items": null,
            "bottom": null,
            "_model_module": "@jupyter-widgets/base",
            "top": null,
            "grid_column": null,
            "overflow_y": null,
            "overflow_x": null,
            "grid_auto_flow": null,
            "grid_area": null,
            "grid_template_columns": null,
            "flex": null,
            "_model_name": "LayoutModel",
            "justify_items": null,
            "grid_row": null,
            "max_height": null,
            "align_content": null,
            "visibility": null,
            "align_self": null,
            "height": null,
            "min_height": null,
            "padding": null,
            "grid_auto_rows": null,
            "grid_gap": null,
            "max_width": null,
            "order": null,
            "_view_module_version": "1.2.0",
            "grid_template_areas": null,
            "object_position": null,
            "object_fit": null,
            "grid_auto_columns": null,
            "margin": null,
            "display": null,
            "left": null
          }
        }
      }
    }
  },
  "cells": [
    {
      "cell_type": "markdown",
      "metadata": {
        "id": "view-in-github",
        "colab_type": "text"
      },
      "source": [
        "<a href=\"https://colab.research.google.com/github/yasirabd/solver-society-job-data/blob/main/2_3_2_Ekstrak_job_description_(skill_english).ipynb\" target=\"_parent\"><img src=\"https://colab.research.google.com/assets/colab-badge.svg\" alt=\"Open In Colab\"/></a>"
      ]
    },
    {
      "cell_type": "markdown",
      "metadata": {
        "id": "E1ToFtdr67c-"
      },
      "source": [
        "# Objective\n",
        "Ekstrak job position, hasil ekstraksi adalah:\n",
        "1. **Skill**: keahlian yang dibutuhkan \n",
        "\n",
        "Data input yang dibutuhkan:\n",
        "1. jobstreet_clean_tahap3.csv\n",
        "\n",
        "Data output yang dihasilkan:\n",
        "-"
      ]
    },
    {
      "cell_type": "code",
      "metadata": {
        "id": "up0FFE5f66xs"
      },
      "source": [
        "import pandas as pd\n",
        "import numpy as np\n",
        "import matplotlib.pyplot as plt\n",
        "import re"
      ],
      "execution_count": 1,
      "outputs": []
    },
    {
      "cell_type": "code",
      "metadata": {
        "id": "mE3sOBFb6_9Q",
        "outputId": "448bed42-0875-418c-cf58-22086ff7a972",
        "colab": {
          "base_uri": "https://localhost:8080/",
          "height": 336
        }
      },
      "source": [
        "jobstreet = pd.read_csv(\"/content/drive/My Drive/Data Loker/jobstreet_clean_tahap3.csv\")\n",
        "\n",
        "# check null values\n",
        "jobstreet.isnull().sum()"
      ],
      "execution_count": 2,
      "outputs": [
        {
          "output_type": "execute_result",
          "data": {
            "text/plain": [
              "id_loker                                   0\n",
              "pulau                                      0\n",
              "provinsi                                   0\n",
              "job_position                               0\n",
              "company_name                               0\n",
              "years_of_experience                        0\n",
              "years_of_experience_cat                    0\n",
              "job_description                            0\n",
              "average_processing_time                    0\n",
              "company_industry                           0\n",
              "company_size                               0\n",
              "work_environment_waktu_bekerja             0\n",
              "work_environment_gaya_berpakaian           0\n",
              "work_environment_gaya_berpakaian_contoh    0\n",
              "work_environment_tunjangan                 0\n",
              "work_environment_bahasa                    0\n",
              "platform                                   0\n",
              "pendidikan                                 0\n",
              "dtype: int64"
            ]
          },
          "metadata": {
            "tags": []
          },
          "execution_count": 2
        }
      ]
    },
    {
      "cell_type": "code",
      "metadata": {
        "id": "QuQUPvy61BJ8",
        "outputId": "5057b263-05b4-4206-83d4-7c34810ad4ff",
        "colab": {
          "base_uri": "https://localhost:8080/",
          "height": 118
        }
      },
      "source": [
        "job_description = jobstreet['job_description'].str.lower().fillna('tidak tersedia')\n",
        "\n",
        "job_description.head()"
      ],
      "execution_count": 3,
      "outputs": [
        {
          "output_type": "execute_result",
          "data": {
            "text/plain": [
              "0    [sep][sep]usia max. 35 tahun[sep]pendidikan mi...\n",
              "1    responsibilities:[sep]brief description of dut...\n",
              "2    [sep]lingkup pekerjaan: [sep]menjaga account d...\n",
              "3    [sep]candidate must possess at least diploma i...\n",
              "4    [sep]lingkup pekerjaan: [sep]menjaga account d...\n",
              "Name: job_description, dtype: object"
            ]
          },
          "metadata": {
            "tags": []
          },
          "execution_count": 3
        }
      ]
    },
    {
      "cell_type": "markdown",
      "metadata": {
        "id": "Q7Em4LZewDah"
      },
      "source": [
        "## skill"
      ]
    },
    {
      "cell_type": "code",
      "metadata": {
        "id": "LjXJn-YnYnEP",
        "outputId": "05413c03-5d34-47b1-a871-206c1bef5ae6",
        "colab": {
          "base_uri": "https://localhost:8080/",
          "height": 118
        }
      },
      "source": [
        "test = job_description[3]\n",
        "test.split('[sep]')"
      ],
      "execution_count": 4,
      "outputs": [
        {
          "output_type": "execute_result",
          "data": {
            "text/plain": [
              "['',\n",
              " 'candidate must possess at least diploma in nursing or equivalent.',\n",
              " 'at least 1 year(s) of working experience in the related field is required for this position.',\n",
              " 'required skill(s): nurse',\n",
              " 'preferably staff (non-management & non-supervisor) specialized in healthcare - nurse/medical support & assistant or equivalent.',\n",
              " '']"
            ]
          },
          "metadata": {
            "tags": []
          },
          "execution_count": 4
        }
      ]
    },
    {
      "cell_type": "markdown",
      "metadata": {
        "id": "QzKIjXYE16tG"
      },
      "source": [
        "### Coba pakai metode cv/resume parser"
      ]
    },
    {
      "cell_type": "code",
      "metadata": {
        "id": "JeB7MpCYvls4",
        "outputId": "3b3120ed-b4c5-4c39-ad51-c4959d9db635",
        "colab": {
          "base_uri": "https://localhost:8080/",
          "height": 306
        }
      },
      "source": [
        "!pip install fpdf -q\n",
        "!pip install -q pyresparser\n",
        "\n",
        "# nltk\n",
        "!python -m nltk.downloader words -q"
      ],
      "execution_count": 5,
      "outputs": [
        {
          "output_type": "stream",
          "text": [
            "  Building wheel for fpdf (setup.py) ... \u001b[?25l\u001b[?25hdone\n",
            "\u001b[K     |████████████████████████████████| 4.2MB 2.8MB/s \n",
            "\u001b[K     |████████████████████████████████| 61kB 6.6MB/s \n",
            "\u001b[K     |████████████████████████████████| 1.4MB 39.9MB/s \n",
            "\u001b[K     |████████████████████████████████| 5.6MB 43.1MB/s \n",
            "\u001b[K     |████████████████████████████████| 133kB 51.2MB/s \n",
            "\u001b[K     |████████████████████████████████| 13.7MB 291kB/s \n",
            "\u001b[K     |████████████████████████████████| 512kB 49.9MB/s \n",
            "\u001b[K     |████████████████████████████████| 2.6MB 48.0MB/s \n",
            "\u001b[?25h  Building wheel for docx2txt (setup.py) ... \u001b[?25l\u001b[?25hdone\n",
            "  Building wheel for nltk (setup.py) ... \u001b[?25l\u001b[?25hdone\n",
            "\u001b[31mERROR: nbclient 0.5.0 has requirement jupyter-client>=6.1.5, but you'll have jupyter-client 5.3.5 which is incompatible.\u001b[0m\n",
            "\u001b[31mERROR: kaggle 1.5.8 has requirement urllib3<1.25,>=1.21.1, but you'll have urllib3 1.25.10 which is incompatible.\u001b[0m\n",
            "\u001b[31mERROR: datascience 0.10.6 has requirement folium==0.2.1, but you'll have folium 0.8.3 which is incompatible.\u001b[0m\n",
            "/usr/lib/python3.6/runpy.py:125: RuntimeWarning: 'nltk.downloader' found in sys.modules after import of package 'nltk', but prior to execution of 'nltk.downloader'; this may result in unpredictable behaviour\n",
            "  warn(RuntimeWarning(msg))\n"
          ],
          "name": "stdout"
        }
      ]
    },
    {
      "cell_type": "code",
      "metadata": {
        "id": "04Fu1b5ewvfU",
        "outputId": "c3959530-a5f8-41ca-d4cd-cdf6e1a41dd6",
        "colab": {
          "base_uri": "https://localhost:8080/",
          "height": 50
        }
      },
      "source": [
        "import nltk\n",
        "nltk.download('stopwords')\n",
        "from pyresparser import ResumeParser"
      ],
      "execution_count": 6,
      "outputs": [
        {
          "output_type": "stream",
          "text": [
            "[nltk_data] Downloading package stopwords to /root/nltk_data...\n",
            "[nltk_data]   Unzipping corpora/stopwords.zip.\n"
          ],
          "name": "stderr"
        }
      ]
    },
    {
      "cell_type": "code",
      "metadata": {
        "id": "69SdhVTsxrNc",
        "outputId": "944731f3-47e6-447f-ebdd-834a3eabc7e0",
        "colab": {
          "base_uri": "https://localhost:8080/",
          "height": 35
        }
      },
      "source": [
        "from fpdf import FPDF \n",
        "  \n",
        "# save FPDF() class into a  \n",
        "# variable pdf \n",
        "pdf = FPDF() \n",
        "  \n",
        "# Add a page \n",
        "pdf.add_page() \n",
        "  \n",
        "# set style and size of font  \n",
        "# that you want in the pdf \n",
        "pdf.set_font(\"Arial\", size = 9) \n",
        "  \n",
        "# create a cell\n",
        "for i,text in enumerate(test.split('[sep]')):\n",
        "    pdf.cell(0,10, txt=text, ln=i+1)\n",
        "  \n",
        "# save the pdf with name .pdf \n",
        "pdf.output(\"GFG.pdf\") "
      ],
      "execution_count": 7,
      "outputs": [
        {
          "output_type": "execute_result",
          "data": {
            "application/vnd.google.colaboratory.intrinsic+json": {
              "type": "string"
            },
            "text/plain": [
              "''"
            ]
          },
          "metadata": {
            "tags": []
          },
          "execution_count": 7
        }
      ]
    },
    {
      "cell_type": "code",
      "metadata": {
        "id": "3GwpZ3F9xKMH",
        "outputId": "9c12e3d2-fd12-420e-ef1d-5e9c66840228",
        "colab": {
          "base_uri": "https://localhost:8080/",
          "height": 218
        }
      },
      "source": [
        "data = ResumeParser('/content/GFG.pdf').get_extracted_data()\n",
        "data"
      ],
      "execution_count": 8,
      "outputs": [
        {
          "output_type": "execute_result",
          "data": {
            "text/plain": [
              "{'college_name': None,\n",
              " 'company_names': None,\n",
              " 'degree': None,\n",
              " 'designation': None,\n",
              " 'email': None,\n",
              " 'experience': ['required skill(s): nurse',\n",
              "  'preferably staff (non-management & non-supervisor) specialized in healthcare - nurse/medical support & assistant or equivalent.'],\n",
              " 'mobile_number': None,\n",
              " 'name': None,\n",
              " 'no_of_pages': 1,\n",
              " 'skills': ['Supervisor', 'Healthcare'],\n",
              " 'total_experience': 0.0}"
            ]
          },
          "metadata": {
            "tags": []
          },
          "execution_count": 8
        }
      ]
    },
    {
      "cell_type": "markdown",
      "metadata": {
        "id": "9BezJXP-2AQb"
      },
      "source": [
        "> kurang bagus hasilnya"
      ]
    },
    {
      "cell_type": "markdown",
      "metadata": {
        "id": "eNc4Ey1M2DSj"
      },
      "source": [
        "### NLP tasks\n",
        "- detect language: id/en\n",
        "- tokenization\n",
        "- remove stopwords\n",
        "- stemming/lemmatization\n",
        "- part-of-speech tagging\n",
        "- select only noun"
      ]
    },
    {
      "cell_type": "code",
      "metadata": {
        "id": "ZtHNGU5838kv",
        "outputId": "6268dcc0-8469-46d7-ca22-2ead0acf35e1",
        "colab": {
          "base_uri": "https://localhost:8080/",
          "height": 119
        }
      },
      "source": [
        "!pip install spacy-langdetect -q\n",
        "!pip install contextualSpellCheck -q\n",
        "!python -m spacy download xx_ent_wiki_sm -q\n",
        "!python -m spacy download en_core_web_lg -q\n",
        "!python -m spacy download en_core_web_sm -q\n",
        "!pip install spacy[lookups] -q\n",
        "!pip install transformers -q"
      ],
      "execution_count": null,
      "outputs": [
        {
          "output_type": "stream",
          "text": [
            "\u001b[38;5;2m✔ Download and installation successful\u001b[0m\n",
            "You can now load the model via spacy.load('xx_ent_wiki_sm')\n",
            "\u001b[38;5;2m✔ Download and installation successful\u001b[0m\n",
            "You can now load the model via spacy.load('en_core_web_lg')\n",
            "\u001b[38;5;2m✔ Download and installation successful\u001b[0m\n",
            "You can now load the model via spacy.load('en_core_web_sm')\n"
          ],
          "name": "stdout"
        }
      ]
    },
    {
      "cell_type": "code",
      "metadata": {
        "id": "ZqDLSELkz-fs",
        "outputId": "6d2c0cb4-9221-46a7-e5e5-4be7dfb6b1bd",
        "colab": {
          "base_uri": "https://localhost:8080/",
          "height": 119
        }
      },
      "source": [
        "import nltk\n",
        "from nltk.corpus import stopwords\n",
        "from nltk.stem import PorterStemmer\n",
        "nltk.download('stopwords')\n",
        "from nltk.tokenize import word_tokenize\n",
        "nltk.download('averaged_perceptron_tagger')\n",
        "\n",
        "import spacy\n",
        "from spacy_langdetect import LanguageDetector\n",
        "from spacy.lang.en.stop_words import STOP_WORDS\n",
        "from spacy.lang.id.stop_words import STOP_WORDS\n",
        "# from spacy.lang.id import LOOKUP\n",
        "import contextualSpellCheck"
      ],
      "execution_count": null,
      "outputs": [
        {
          "output_type": "stream",
          "text": [
            "[nltk_data] Downloading package stopwords to /root/nltk_data...\n",
            "[nltk_data]   Package stopwords is already up-to-date!\n",
            "[nltk_data] Downloading package averaged_perceptron_tagger to\n",
            "[nltk_data]     /root/nltk_data...\n",
            "[nltk_data]   Package averaged_perceptron_tagger is already up-to-\n",
            "[nltk_data]       date!\n"
          ],
          "name": "stderr"
        }
      ]
    },
    {
      "cell_type": "code",
      "metadata": {
        "id": "7w70yToG9j4F",
        "outputId": "5381af99-28f2-465d-a8a7-3f0156739508",
        "colab": {
          "base_uri": "https://localhost:8080/",
          "height": 69
        }
      },
      "source": [
        "# remove token [sep]\n",
        "tes = ', '.join(test.split('[sep]'))\n",
        "tes"
      ],
      "execution_count": null,
      "outputs": [
        {
          "output_type": "execute_result",
          "data": {
            "application/vnd.google.colaboratory.intrinsic+json": {
              "type": "string"
            },
            "text/plain": [
              "', candidate must possess at least diploma in nursing or equivalent., at least 1 year(s) of working experience in the related field is required for this position., required skill(s): nurse, preferably staff (non-management & non-supervisor) specialized in healthcare - nurse/medical support & assistant or equivalent., '"
            ]
          },
          "metadata": {
            "tags": []
          },
          "execution_count": 10
        }
      ]
    },
    {
      "cell_type": "code",
      "metadata": {
        "id": "V7ZK3sFhGnuY",
        "outputId": "ff992dad-8545-4f02-c494-a78812566bcd",
        "colab": {
          "base_uri": "https://localhost:8080/",
          "height": 171
        }
      },
      "source": [
        "tes2 = ', '.join(job_description[8].split('[sep]'))\n",
        "tes2"
      ],
      "execution_count": null,
      "outputs": [
        {
          "output_type": "execute_result",
          "data": {
            "application/vnd.google.colaboratory.intrinsic+json": {
              "type": "string"
            },
            "text/plain": [
              "'requirements :minimun 3 years’ experience creating user interfaces, large scale websites, or applicationsproven experience leading ux on projects with an exceptional portfolio showcasing innovative design solutionsbachelor or master in interaction design, cognitive science, hci, or equivalent experiencestrong attention to detail, aesthetic sensibility and organizational skillsstrong communication skills, both written and oral and able to articulate and defend design decisionproficient with adobe design softwarefamiliarity with wireframing and drafting tools such as axure, omnigraffle a plusmust have a thorough understanding of how to interpret user needs and translate them into requirementsability to multitask in a fast-paced/team setting environmenta team player that enjoys a collaborative design processself-motivated and able to work independently, making deadlines consistenlyable to prioritize and adapt to changing objectives with a flexible positive attituderesponsibilities :production of wireframes, interaction models, information architecture, visual design and supporting documentations.help define and gather ux requirements from stakeholder/business owner and drive innovative solutionscraft user stories, personas, storyboards and flows from requirementstay abreast of industry best practices for ux design and processes'"
            ]
          },
          "metadata": {
            "tags": []
          },
          "execution_count": 11
        }
      ]
    },
    {
      "cell_type": "code",
      "metadata": {
        "id": "dGqA9OJw3Pqb",
        "outputId": "61800bfd-053c-421a-93b8-6406b3c22caa",
        "colab": {
          "base_uri": "https://localhost:8080/",
          "height": 181,
          "referenced_widgets": [
            "765acc00c8064b8da62d721268a3e0ba",
            "2c56c5a1618145d5aaa7613e545ae48d",
            "9bc60cb058684867aba3a6cb12115575",
            "5aae62731f3e406e801d008f93541b76",
            "5d14b5ce98854f01a9438d8a4f36e0e8",
            "0edc889ec1fe4a27a33fc09974b83cfd",
            "c4d002db4c634b3aa9b6b7ace107177a",
            "2ca2b3e5588f4d8a9a8a88937a9848a0",
            "999bfb93bd004f028d6da901d632bb8e",
            "f9f80ebdef454c35b0ed1d365c406320",
            "5a8fc92cd3b74b7787ab136c17be19bf",
            "7ef18d88be444c349184372d470e5798",
            "f4a23d0983534f2a80ba55dbe08faf3f",
            "dc3fbda0e83b47eaa080cf0da1c9a84a",
            "25e653fd81e84d19b90f8cd8dfddd508",
            "9705df71ec804a4ba26ea08160ec24a0",
            "8388e31648304e32972088951d5e3f35",
            "8153fc52927f4c1f85f7df05ed28efe6",
            "aa57a314d7534b269b4b48ac8e12de9d",
            "f7dbaae46f1c43009a3e01273a1e37fe",
            "4846be2d18e3495ca8da0d1ff8f89886",
            "9d5d6233f89d4902a80689c070c4be33",
            "54caebd373034d03bb0cbac326974110",
            "af0272b34307419abe1b5502dd0ba62e"
          ]
        }
      },
      "source": [
        "nlp = spacy.load('en_core_web_lg')\n",
        "nlp.add_pipe(LanguageDetector(), name=\"language_detector\", last=True)\n",
        "contextualSpellCheck.add_to_pipe(nlp)\n",
        "\n",
        "doc = nlp(tes)\n",
        "result_spell_check = doc._.outcome_spellCheck\n",
        "\n",
        "doc = nlp(result_spell_check)\n",
        "# detect languange\n",
        "lang = doc._.language['language']\n",
        "print(lang)\n",
        "\n",
        "# English pipeline\n",
        "en_skills = list()\n",
        "for word in doc:\n",
        "    # jika punctuation\n",
        "    if word.is_punct:\n",
        "        continue\n",
        "    \n",
        "    # jika stop words\n",
        "    lexeme = nlp.vocab[word.text]\n",
        "    if lexeme.is_stop:\n",
        "        continue\n",
        "\n",
        "    # jika out-of-vocabulary\n",
        "    if word.is_oov:\n",
        "        continue\n",
        "    \n",
        "    # pilih noun\n",
        "    if word.pos_ == 'NOUN':\n",
        "        en_skills.append(word.lemma_)"
      ],
      "execution_count": null,
      "outputs": [
        {
          "output_type": "display_data",
          "data": {
            "application/vnd.jupyter.widget-view+json": {
              "model_id": "765acc00c8064b8da62d721268a3e0ba",
              "version_minor": 0,
              "version_major": 2
            },
            "text/plain": [
              "HBox(children=(FloatProgress(value=0.0, description='Downloading', max=433.0, style=ProgressStyle(description_…"
            ]
          },
          "metadata": {
            "tags": []
          }
        },
        {
          "output_type": "stream",
          "text": [
            "\n"
          ],
          "name": "stdout"
        },
        {
          "output_type": "display_data",
          "data": {
            "application/vnd.jupyter.widget-view+json": {
              "model_id": "999bfb93bd004f028d6da901d632bb8e",
              "version_minor": 0,
              "version_major": 2
            },
            "text/plain": [
              "HBox(children=(FloatProgress(value=0.0, description='Downloading', max=213450.0, style=ProgressStyle(descripti…"
            ]
          },
          "metadata": {
            "tags": []
          }
        },
        {
          "output_type": "stream",
          "text": [
            "\n"
          ],
          "name": "stdout"
        },
        {
          "output_type": "display_data",
          "data": {
            "application/vnd.jupyter.widget-view+json": {
              "model_id": "8388e31648304e32972088951d5e3f35",
              "version_minor": 0,
              "version_major": 2
            },
            "text/plain": [
              "HBox(children=(FloatProgress(value=0.0, description='Downloading', max=435779157.0, style=ProgressStyle(descri…"
            ]
          },
          "metadata": {
            "tags": []
          }
        },
        {
          "output_type": "stream",
          "text": [
            "\n",
            "en\n"
          ],
          "name": "stdout"
        }
      ]
    },
    {
      "cell_type": "code",
      "metadata": {
        "id": "4x9bckBRTEoj",
        "outputId": "ec19a155-e030-4a1c-e7dc-0aac764b6aa8",
        "colab": {
          "base_uri": "https://localhost:8080/",
          "height": 272
        }
      },
      "source": [
        "# hasil skills english\n",
        "pd.Series(en_skills).drop_duplicates().tolist()"
      ],
      "execution_count": null,
      "outputs": [
        {
          "output_type": "execute_result",
          "data": {
            "text/plain": [
              "['candidate',\n",
              " 'diploma',\n",
              " 'nursing',\n",
              " 'equivalent',\n",
              " 'year',\n",
              " 'experience',\n",
              " 'field',\n",
              " 'position',\n",
              " 'nurse',\n",
              " 'staff',\n",
              " 'non',\n",
              " 'supervisor',\n",
              " 'healthcare',\n",
              " 'support',\n",
              " 'assistant']"
            ]
          },
          "metadata": {
            "tags": []
          },
          "execution_count": 13
        }
      ]
    },
    {
      "cell_type": "markdown",
      "metadata": {
        "id": "iLMJA6uaoLxv"
      },
      "source": [
        "### Implement\n",
        "laukan looping pada data"
      ]
    },
    {
      "cell_type": "code",
      "metadata": {
        "id": "3KeJnjaIoLVx"
      },
      "source": [
        "lang_model = spacy.load('en_core_web_sm')\n",
        "lang_model.add_pipe(LanguageDetector(), name=\"language_detector\", last=True)\n",
        "\n",
        "nlp_en = spacy.load('en_core_web_lg')\n",
        "contextualSpellCheck.add_to_pipe(nlp_en)\n",
        "\n",
        "id_counter, en_counter = 0, 0\n",
        "result = list()\n",
        "for desc in job_description:\n",
        "    # remove token [sep]\n",
        "    d = ' '.join(desc.split('[sep]')).strip()\n",
        "\n",
        "    # check language\n",
        "    doc = lang_model(d)\n",
        "    lang = doc._.language['language']\n",
        "    if lang == 'en':\n",
        "\n",
        "        # spell check\n",
        "        doc = nlp_en(d)\n",
        "        result_spell_check = doc._.outcome_spellCheck\n",
        "        \n",
        "        doc = nlp_en(result_spell_check)\n",
        "        # English pipeline\n",
        "        en_skills = list()\n",
        "        for word in doc:\n",
        "            # jika punctuation\n",
        "            if word.is_punct:\n",
        "                continue\n",
        "            \n",
        "            # jika stop words\n",
        "            lexeme = nlp.vocab[word.text]\n",
        "            if lexeme.is_stop:\n",
        "                continue\n",
        "\n",
        "            # jika out-of-vocabulary\n",
        "            if word.is_oov:\n",
        "                continue\n",
        "            \n",
        "            # pilih noun\n",
        "            if word.pos_ == 'NOUN':\n",
        "                en_skills.append(word.lemma_)\n",
        "        result.append(en_skills)\n",
        "        en_counter += 1\n",
        "        \n",
        "        if en_counter == 2:\n",
        "            break\n",
        "    elif lang == 'id':\n",
        "        result.append(['id', desc])\n",
        "        id_counter += 1\n",
        "    else:\n",
        "        result.append(['other', desc])"
      ],
      "execution_count": null,
      "outputs": []
    },
    {
      "cell_type": "code",
      "metadata": {
        "id": "AHxG6rlrBf92",
        "outputId": "0b379dd1-3e73-4910-dfad-e243ca46b212",
        "colab": {
          "base_uri": "https://localhost:8080/",
          "height": 34
        }
      },
      "source": [
        "a = [['ab', 'cd'], ['as']]\n",
        "b = [['tidak termasuk']]\n",
        "res = list()\n",
        "for d in b:\n",
        "    res+=d\n",
        "res"
      ],
      "execution_count": null,
      "outputs": [
        {
          "output_type": "execute_result",
          "data": {
            "text/plain": [
              "['tidak termasuk']"
            ]
          },
          "metadata": {
            "tags": []
          },
          "execution_count": 31
        }
      ]
    },
    {
      "cell_type": "code",
      "metadata": {
        "id": "Ie40q6sH-iKW",
        "outputId": "3145c89d-fe82-4b28-da29-9cf4ee054a4c",
        "colab": {
          "base_uri": "https://localhost:8080/",
          "height": 1000
        }
      },
      "source": [
        "result"
      ],
      "execution_count": null,
      "outputs": [
        {
          "output_type": "execute_result",
          "data": {
            "text/plain": [
              "[['id',\n",
              "  '[sep][sep]usia max. 35 tahun[sep]pendidikan min. d3[sep]pengalaman min. 3 tahun sebagai senior staff atau spv finance dari perusahaan distributor atau sejenisnya[sep]mempunyai leadership yang kuat, bertanggung jawab & jujur[sep]memiliki pengelolaan dan analisa yg baik, teliti dan cekatan[sep]bersedia visit ke kantor cabang secara rutin[sep]penempatan head office cempaka mas jakarta pusat[sep][sep]tugas & tanggung jawab :[sep][sep]melakukan supervisi tim admin finance(a/r, retur, refund & a/p)[sep]melakukan kontrol aging a/r & limit a/r[sep]membuat schedule a/p payment[sep]melakukan kontrol terhadap retur/refund(cn/dn)[sep]melakukan follow up terkait program-program & point reward[sep]melakukan kordinasi dengan pihak terkait[sep]memaintance utang piutang terhadap dealer-dealer[sep][sep]'],\n",
              " ['responsibility',\n",
              "  'description',\n",
              "  'duty',\n",
              "  'research',\n",
              "  'project',\n",
              "  'management',\n",
              "  'supervision',\n",
              "  'research',\n",
              "  'manager',\n",
              "  'research',\n",
              "  'datum',\n",
              "  'method',\n",
              "  'team',\n",
              "  'work',\n",
              "  'requirement',\n",
              "  'bachelor',\n",
              "  'major',\n",
              "  'science',\n",
              "  'psychology',\n",
              "  'study',\n",
              "  'minimum',\n",
              "  'year',\n",
              "  'experience',\n",
              "  'market',\n",
              "  'research',\n",
              "  'field',\n",
              "  'communication',\n",
              "  'skill',\n",
              "  'detail',\n",
              "  'knowledge',\n",
              "  'hand',\n",
              "  'experience',\n",
              "  'research',\n",
              "  'methodology',\n",
              "  'advantage',\n",
              "  'g',\n",
              "  'preparation',\n",
              "  'excellent',\n",
              "  'office',\n",
              "  'skill',\n",
              "  'time',\n",
              "  'work'],\n",
              " ['id',\n",
              "  '[sep]lingkup pekerjaan: [sep]menjaga account dan memberikan solusi dalam penyelesaian pembayaran angsuran customer[sep] [sep]kualifikasi:[sep][sep] usia maksimal 28 tahun[sep] pendidikan d3/s1 (slta dipertimbangkan)[sep] memiliki kemampuan negosiasi yang baik[sep] dinamis dan komunikatif[sep] menyukai pekerjaan lapangan[sep] memiliki sepeda motor dan sim c[sep][sep]kompensasi & benefit:[sep][sep] gaji pokok[sep] tunjangan tetap[sep] bpjs ketenagakerjaan dan kesehatan[sep] insentif[sep] thr dan bonus[sep][sep]lokasi kerja : [sep]wonogiri[sep] [sep]daftar, lamar, serta tes online posisi tersebut di www.karir.oto.co.id.[sep]'],\n",
              " ['candidate',\n",
              "  'diploma',\n",
              "  'nursing',\n",
              "  'equivalent',\n",
              "  'year',\n",
              "  'experience',\n",
              "  'field',\n",
              "  'position',\n",
              "  'nurse',\n",
              "  'support',\n",
              "  'staff',\n",
              "  'non',\n",
              "  'supervisor',\n",
              "  'healthcare',\n",
              "  'nurse',\n",
              "  'support',\n",
              "  'assistant',\n",
              "  'equivalent']]"
            ]
          },
          "metadata": {
            "tags": []
          },
          "execution_count": 27
        }
      ]
    },
    {
      "cell_type": "code",
      "metadata": {
        "id": "86iXOfECuCQU"
      },
      "source": [
        ""
      ],
      "execution_count": null,
      "outputs": []
    }
  ]
}