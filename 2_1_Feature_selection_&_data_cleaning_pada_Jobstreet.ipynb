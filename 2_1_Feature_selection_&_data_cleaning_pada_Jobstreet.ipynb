{
  "nbformat": 4,
  "nbformat_minor": 0,
  "metadata": {
    "colab": {
      "name": "2_1 - Feature selection & data cleaning pada Jobstreet",
      "provenance": [],
      "collapsed_sections": [],
      "toc_visible": true,
      "mount_file_id": "14AUsETxvANkbdWtKBWHEImi2aggXs5XW",
      "authorship_tag": "ABX9TyO+AjaUYATLVkT6hiyXDeAW",
      "include_colab_link": true
    },
    "kernelspec": {
      "display_name": "Python 3",
      "name": "python3"
    }
  },
  "cells": [
    {
      "cell_type": "markdown",
      "metadata": {
        "id": "view-in-github",
        "colab_type": "text"
      },
      "source": [
        "<a href=\"https://colab.research.google.com/github/yasirabd/solver-society-job-data/blob/main/2_1_Feature_selection_%26_data_cleaning_pada_Jobstreet.ipynb\" target=\"_parent\"><img src=\"https://colab.research.google.com/assets/colab-badge.svg\" alt=\"Open In Colab\"/></a>"
      ]
    },
    {
      "cell_type": "markdown",
      "metadata": {
        "id": "_-h9btkoUP5G"
      },
      "source": [
        "# Objective\n",
        "Feature selection dan cleaning data.\n",
        "\n",
        "Data input yang dibutuhkan:\n",
        "1. jobstreet_4_oct.csv\n",
        "2. waktu_bekerja_manual_perbaikan.csv\n",
        "3. gaya_berpakaian_mapper.csv\n",
        "4. tunjangan_item_mapper2.csv\n",
        "5. tunjangan_item_mapper3.csv\n",
        "6. bahasa_mapper.csv\n",
        "7. daftar_kota_kabupaten_id.csv\n",
        "\n",
        "\n",
        "Data output yang dihasilkan:\n",
        "1. jobstreet_clean_tahap1.csv"
      ]
    },
    {
      "cell_type": "code",
      "metadata": {
        "id": "UQro1vgDVFKd"
      },
      "source": [
        "import pandas as pd\n",
        "import numpy as np\n",
        "import matplotlib.pyplot as plt\n",
        "import re"
      ],
      "execution_count": null,
      "outputs": []
    },
    {
      "cell_type": "code",
      "metadata": {
        "id": "QmbyhWhAUSC5",
        "outputId": "b61b48f0-d74a-4876-998b-2b1e2135ce76",
        "colab": {
          "base_uri": "https://localhost:8080/",
          "height": 450
        }
      },
      "source": [
        "jobstreet = pd.read_csv(\"/content/drive/My Drive/Data Loker/jobstreet_4oct.csv\")\n",
        "jobstreet.head()"
      ],
      "execution_count": null,
      "outputs": [
        {
          "output_type": "execute_result",
          "data": {
            "text/html": [
              "<div>\n",
              "<style scoped>\n",
              "    .dataframe tbody tr th:only-of-type {\n",
              "        vertical-align: middle;\n",
              "    }\n",
              "\n",
              "    .dataframe tbody tr th {\n",
              "        vertical-align: top;\n",
              "    }\n",
              "\n",
              "    .dataframe thead th {\n",
              "        text-align: right;\n",
              "    }\n",
              "</style>\n",
              "<table border=\"1\" class=\"dataframe\">\n",
              "  <thead>\n",
              "    <tr style=\"text-align: right;\">\n",
              "      <th></th>\n",
              "      <th>platform</th>\n",
              "      <th>job_position</th>\n",
              "      <th>company_name</th>\n",
              "      <th>years_of_experience</th>\n",
              "      <th>company_location</th>\n",
              "      <th>company_address</th>\n",
              "      <th>posting_date</th>\n",
              "      <th>closing_date</th>\n",
              "      <th>job_description</th>\n",
              "      <th>average_processing_time</th>\n",
              "      <th>company_industry</th>\n",
              "      <th>company_site</th>\n",
              "      <th>company_size</th>\n",
              "      <th>work_environment_waktu_bekerja</th>\n",
              "      <th>work_environment_gaya_berpakaian</th>\n",
              "      <th>work_environment_tunjangan</th>\n",
              "      <th>work_environment_bahasa</th>\n",
              "      <th>company_overview</th>\n",
              "    </tr>\n",
              "  </thead>\n",
              "  <tbody>\n",
              "    <tr>\n",
              "      <th>0</th>\n",
              "      <td>jobstreet</td>\n",
              "      <td>SPV FINANCE</td>\n",
              "      <td>PT Axindo Infotama</td>\n",
              "      <td>Min 3 tahun (Supervisor/Koordinator)</td>\n",
              "      <td>Indonesia - Jakarta Raya - Jakarta Pusat - Ruk...</td>\n",
              "      <td>Ruko Mega Grosir Cempaka Mas Blok K No. 29-30</td>\n",
              "      <td>04-October-2020</td>\n",
              "      <td>Tutup pada 03-November-2020</td>\n",
              "      <td>[SEP][SEP]Usia Max. 35 tahun[SEP]Pendidikan Mi...</td>\n",
              "      <td>6 hari</td>\n",
              "      <td>Retail/Merchandise</td>\n",
              "      <td>http://axindo.co.id</td>\n",
              "      <td>51 - 200 pekerja</td>\n",
              "      <td>Sabtu atau memerlukan shift</td>\n",
              "      <td>Formil (contoh: Kemeja + Dasi)</td>\n",
              "      <td>Kesehatan, Parkir</td>\n",
              "      <td>Bahasa Indonesia</td>\n",
              "      <td>[SEP][SEP] PT. Axindo Infotama didirikan di Ja...</td>\n",
              "    </tr>\n",
              "    <tr>\n",
              "      <th>1</th>\n",
              "      <td>jobstreet</td>\n",
              "      <td>Qualitative Research Executive</td>\n",
              "      <td>Perusahaan Dirahasiakan</td>\n",
              "      <td>Min 3 tahun (Pegawai (non-manajemen &amp; non-supe...</td>\n",
              "      <td>Indonesia - Jakarta Raya</td>\n",
              "      <td>NaN</td>\n",
              "      <td>04-October-2020</td>\n",
              "      <td>Tutup pada 03-November-2020</td>\n",
              "      <td>RESPONSIBILITIES:[SEP]Brief Description of Dut...</td>\n",
              "      <td>NaN</td>\n",
              "      <td>NaN</td>\n",
              "      <td>NaN</td>\n",
              "      <td>NaN</td>\n",
              "      <td>NaN</td>\n",
              "      <td>NaN</td>\n",
              "      <td>NaN</td>\n",
              "      <td>NaN</td>\n",
              "      <td>[SEP]We are an international market research c...</td>\n",
              "    </tr>\n",
              "    <tr>\n",
              "      <th>2</th>\n",
              "      <td>jobstreet</td>\n",
              "      <td>Field Collection (JS - FC) Wonogiri</td>\n",
              "      <td>OTO Group</td>\n",
              "      <td>Lulusan baru/Pengalaman kerja kurang dari 1 tahun</td>\n",
              "      <td>Indonesia - Jawa Tengah - Wonogiri Wonogoro - ...</td>\n",
              "      <td>Gedung Summit Mas II lantai 18, Jl. Jend Soedi...</td>\n",
              "      <td>24-September-2020</td>\n",
              "      <td>Tutup pada 24-October-2020</td>\n",
              "      <td>[SEP]Lingkup pekerjaan: [SEP]Menjaga account d...</td>\n",
              "      <td>Lebih dari 2 minggu</td>\n",
              "      <td>Perbankan/Pelayanan Keuangan</td>\n",
              "      <td>http://www.karir.oto.co.id</td>\n",
              "      <td>Lebih dari 5000 pekerja</td>\n",
              "      <td>Waktu regular, Senin - Jumat</td>\n",
              "      <td>Bisnis (contoh: Kemeja)</td>\n",
              "      <td>Kesehatan, Gigi, bonus tahunan</td>\n",
              "      <td>Bahasa Indonesia</td>\n",
              "      <td>[SEP]OTO Group is a subsidiary company of SUMI...</td>\n",
              "    </tr>\n",
              "    <tr>\n",
              "      <th>3</th>\n",
              "      <td>jobstreet</td>\n",
              "      <td>Perawat di Negara Jerman</td>\n",
              "      <td>PT Jerman Manajemen</td>\n",
              "      <td>Min 1 tahun (Pegawai (non-manajemen &amp; non-supe...</td>\n",
              "      <td>Indonesia - Jakarta Raya</td>\n",
              "      <td>Komplek Balikpapan Baru, Ruko Sentra Eropa Blo...</td>\n",
              "      <td>04-October-2020</td>\n",
              "      <td>Tutup pada 03-November-2020</td>\n",
              "      <td>[SEP]Candidate must possess at least Diploma i...</td>\n",
              "      <td>11 hari</td>\n",
              "      <td>Pendidikan</td>\n",
              "      <td>http://www.jermanmanajemen.de</td>\n",
              "      <td>51 - 200 pekerja</td>\n",
              "      <td>SABTU-KAMIS</td>\n",
              "      <td>Formil (contoh: Kemeja + Dasi)</td>\n",
              "      <td>Kesehatan</td>\n",
              "      <td>Bahasa Indonesia</td>\n",
              "      <td>[SEP]Kami menghimbau agar Anda berhati-hati sa...</td>\n",
              "    </tr>\n",
              "    <tr>\n",
              "      <th>4</th>\n",
              "      <td>jobstreet</td>\n",
              "      <td>Field Collection (JS - FC) Pati</td>\n",
              "      <td>OTO Group</td>\n",
              "      <td>Lulusan baru/Pengalaman kerja kurang dari 1 tahun</td>\n",
              "      <td>Indonesia - Jawa Tengah - Pati</td>\n",
              "      <td>Gedung Summit Mas II lantai 18, Jl. Jend Soedi...</td>\n",
              "      <td>24-September-2020</td>\n",
              "      <td>Tutup pada 24-October-2020</td>\n",
              "      <td>[SEP]Lingkup pekerjaan: [SEP]Menjaga account d...</td>\n",
              "      <td>Lebih dari 2 minggu</td>\n",
              "      <td>Perbankan/Pelayanan Keuangan</td>\n",
              "      <td>http://www.karir.oto.co.id</td>\n",
              "      <td>Lebih dari 5000 pekerja</td>\n",
              "      <td>Waktu regular, Senin - Jumat</td>\n",
              "      <td>Bisnis (contoh: Kemeja)</td>\n",
              "      <td>Kesehatan, Gigi, bonus tahunan</td>\n",
              "      <td>Bahasa Indonesia</td>\n",
              "      <td>[SEP]OTO Group is a subsidiary company of SUMI...</td>\n",
              "    </tr>\n",
              "  </tbody>\n",
              "</table>\n",
              "</div>"
            ],
            "text/plain": [
              "    platform  ...                                   company_overview\n",
              "0  jobstreet  ...  [SEP][SEP] PT. Axindo Infotama didirikan di Ja...\n",
              "1  jobstreet  ...  [SEP]We are an international market research c...\n",
              "2  jobstreet  ...  [SEP]OTO Group is a subsidiary company of SUMI...\n",
              "3  jobstreet  ...  [SEP]Kami menghimbau agar Anda berhati-hati sa...\n",
              "4  jobstreet  ...  [SEP]OTO Group is a subsidiary company of SUMI...\n",
              "\n",
              "[5 rows x 18 columns]"
            ]
          },
          "metadata": {
            "tags": []
          },
          "execution_count": 2
        }
      ]
    },
    {
      "cell_type": "markdown",
      "metadata": {
        "id": "FL80i4xzrjQK"
      },
      "source": [
        "# Feature selection\n",
        "\n",
        "| No | Attributes                       | Keterangan                                                  |\n",
        "|----|----------------------------------|-------------------------------------------------------------|\n",
        "| 1  | platform                         | Tempat data diambil (jobstreet)                             |\n",
        "| 2  | job_position                     | Posisi pekerjaan yang dicari perusahaan                     |\n",
        "| 3  | company_name                     | Nama perusahaan yang membuka lowongan kerja                 |\n",
        "| 4  | years_of_experience              | Lama pengalaman yang dibutuhkan untuk apply pekerjaan       |\n",
        "| 5  | company_location                 | Lokasi perusahaan yang membuka lowongan kerja               |\n",
        "| 6  | company_address                  | Alamat perusahaan                                           |\n",
        "| 7  | posting_date                     | Waktu perusahaan posting lowongan kerja pada platform       |\n",
        "| 8  | closing_date                     | Waktu post lowongan kerja selesai ditampilkan pada platform |\n",
        "| 9  | job_description                  | Deskripsi dari kualifikasi dan tanggung jawab pekerjaan     |\n",
        "| 10 | average_processing_time          | Lama waktu perusahaan memproses lamaran kerja               |\n",
        "| 11 | company_industry                 | Jenis industri perusahaan                                   |\n",
        "| 12 | company_site                     | Website perusahaan                                          |\n",
        "| 13 | company_size                     | Ukuran perusahaan dari jumlah karyawan                      |\n",
        "| 14 | work_environment_waktu_bekerja   | Waktu bekerja karyawan                                      |\n",
        "| 15 | work_environment_gaya_berpakaian | Pakaian yang digunakan karyawan formal/non-formal           |\n",
        "| 16 | work_environment_tunjangan       | Tunjangan yang diberikan pada karyawan                      |\n",
        "| 17 | work_environment_bahasa          | Bahasa yang digunakan pada perusahaan                       |\n",
        "| 18 | company_overview                 | Deskripsi perusahaan                                        |"
      ]
    },
    {
      "cell_type": "markdown",
      "metadata": {
        "id": "oTv7fgwYt3MI"
      },
      "source": [
        "Berdasarkan diskusi 5 Oktober 2020, atribut yang **tidak dibutuhkan** adalah:\n",
        "1. company_address\n",
        "2. posting_date\n",
        "3. closing_date\n",
        "4. company_site\n",
        "5. company_overview"
      ]
    },
    {
      "cell_type": "code",
      "metadata": {
        "id": "xOXHQC4BrvZO",
        "outputId": "25a1d24b-a50d-4a41-a42e-8cf4b434844d",
        "colab": {
          "base_uri": "https://localhost:8080/",
          "height": 434
        }
      },
      "source": [
        "att_removed = ['company_address', 'posting_date', 'closing_date', \n",
        "               'company_site', 'company_overview']\n",
        "\n",
        "data = jobstreet.drop(att_removed, axis=1)\n",
        "data.head()"
      ],
      "execution_count": null,
      "outputs": [
        {
          "output_type": "execute_result",
          "data": {
            "text/html": [
              "<div>\n",
              "<style scoped>\n",
              "    .dataframe tbody tr th:only-of-type {\n",
              "        vertical-align: middle;\n",
              "    }\n",
              "\n",
              "    .dataframe tbody tr th {\n",
              "        vertical-align: top;\n",
              "    }\n",
              "\n",
              "    .dataframe thead th {\n",
              "        text-align: right;\n",
              "    }\n",
              "</style>\n",
              "<table border=\"1\" class=\"dataframe\">\n",
              "  <thead>\n",
              "    <tr style=\"text-align: right;\">\n",
              "      <th></th>\n",
              "      <th>platform</th>\n",
              "      <th>job_position</th>\n",
              "      <th>company_name</th>\n",
              "      <th>years_of_experience</th>\n",
              "      <th>company_location</th>\n",
              "      <th>job_description</th>\n",
              "      <th>average_processing_time</th>\n",
              "      <th>company_industry</th>\n",
              "      <th>company_size</th>\n",
              "      <th>work_environment_waktu_bekerja</th>\n",
              "      <th>work_environment_gaya_berpakaian</th>\n",
              "      <th>work_environment_tunjangan</th>\n",
              "      <th>work_environment_bahasa</th>\n",
              "    </tr>\n",
              "  </thead>\n",
              "  <tbody>\n",
              "    <tr>\n",
              "      <th>0</th>\n",
              "      <td>jobstreet</td>\n",
              "      <td>SPV FINANCE</td>\n",
              "      <td>PT Axindo Infotama</td>\n",
              "      <td>Min 3 tahun (Supervisor/Koordinator)</td>\n",
              "      <td>Indonesia - Jakarta Raya - Jakarta Pusat - Ruk...</td>\n",
              "      <td>[SEP][SEP]Usia Max. 35 tahun[SEP]Pendidikan Mi...</td>\n",
              "      <td>6 hari</td>\n",
              "      <td>Retail/Merchandise</td>\n",
              "      <td>51 - 200 pekerja</td>\n",
              "      <td>Sabtu atau memerlukan shift</td>\n",
              "      <td>Formil (contoh: Kemeja + Dasi)</td>\n",
              "      <td>Kesehatan, Parkir</td>\n",
              "      <td>Bahasa Indonesia</td>\n",
              "    </tr>\n",
              "    <tr>\n",
              "      <th>1</th>\n",
              "      <td>jobstreet</td>\n",
              "      <td>Qualitative Research Executive</td>\n",
              "      <td>Perusahaan Dirahasiakan</td>\n",
              "      <td>Min 3 tahun (Pegawai (non-manajemen &amp; non-supe...</td>\n",
              "      <td>Indonesia - Jakarta Raya</td>\n",
              "      <td>RESPONSIBILITIES:[SEP]Brief Description of Dut...</td>\n",
              "      <td>NaN</td>\n",
              "      <td>NaN</td>\n",
              "      <td>NaN</td>\n",
              "      <td>NaN</td>\n",
              "      <td>NaN</td>\n",
              "      <td>NaN</td>\n",
              "      <td>NaN</td>\n",
              "    </tr>\n",
              "    <tr>\n",
              "      <th>2</th>\n",
              "      <td>jobstreet</td>\n",
              "      <td>Field Collection (JS - FC) Wonogiri</td>\n",
              "      <td>OTO Group</td>\n",
              "      <td>Lulusan baru/Pengalaman kerja kurang dari 1 tahun</td>\n",
              "      <td>Indonesia - Jawa Tengah - Wonogiri Wonogoro - ...</td>\n",
              "      <td>[SEP]Lingkup pekerjaan: [SEP]Menjaga account d...</td>\n",
              "      <td>Lebih dari 2 minggu</td>\n",
              "      <td>Perbankan/Pelayanan Keuangan</td>\n",
              "      <td>Lebih dari 5000 pekerja</td>\n",
              "      <td>Waktu regular, Senin - Jumat</td>\n",
              "      <td>Bisnis (contoh: Kemeja)</td>\n",
              "      <td>Kesehatan, Gigi, bonus tahunan</td>\n",
              "      <td>Bahasa Indonesia</td>\n",
              "    </tr>\n",
              "    <tr>\n",
              "      <th>3</th>\n",
              "      <td>jobstreet</td>\n",
              "      <td>Perawat di Negara Jerman</td>\n",
              "      <td>PT Jerman Manajemen</td>\n",
              "      <td>Min 1 tahun (Pegawai (non-manajemen &amp; non-supe...</td>\n",
              "      <td>Indonesia - Jakarta Raya</td>\n",
              "      <td>[SEP]Candidate must possess at least Diploma i...</td>\n",
              "      <td>11 hari</td>\n",
              "      <td>Pendidikan</td>\n",
              "      <td>51 - 200 pekerja</td>\n",
              "      <td>SABTU-KAMIS</td>\n",
              "      <td>Formil (contoh: Kemeja + Dasi)</td>\n",
              "      <td>Kesehatan</td>\n",
              "      <td>Bahasa Indonesia</td>\n",
              "    </tr>\n",
              "    <tr>\n",
              "      <th>4</th>\n",
              "      <td>jobstreet</td>\n",
              "      <td>Field Collection (JS - FC) Pati</td>\n",
              "      <td>OTO Group</td>\n",
              "      <td>Lulusan baru/Pengalaman kerja kurang dari 1 tahun</td>\n",
              "      <td>Indonesia - Jawa Tengah - Pati</td>\n",
              "      <td>[SEP]Lingkup pekerjaan: [SEP]Menjaga account d...</td>\n",
              "      <td>Lebih dari 2 minggu</td>\n",
              "      <td>Perbankan/Pelayanan Keuangan</td>\n",
              "      <td>Lebih dari 5000 pekerja</td>\n",
              "      <td>Waktu regular, Senin - Jumat</td>\n",
              "      <td>Bisnis (contoh: Kemeja)</td>\n",
              "      <td>Kesehatan, Gigi, bonus tahunan</td>\n",
              "      <td>Bahasa Indonesia</td>\n",
              "    </tr>\n",
              "  </tbody>\n",
              "</table>\n",
              "</div>"
            ],
            "text/plain": [
              "    platform  ... work_environment_bahasa\n",
              "0  jobstreet  ...        Bahasa Indonesia\n",
              "1  jobstreet  ...                     NaN\n",
              "2  jobstreet  ...        Bahasa Indonesia\n",
              "3  jobstreet  ...        Bahasa Indonesia\n",
              "4  jobstreet  ...        Bahasa Indonesia\n",
              "\n",
              "[5 rows x 13 columns]"
            ]
          },
          "metadata": {
            "tags": []
          },
          "execution_count": 3
        }
      ]
    },
    {
      "cell_type": "markdown",
      "metadata": {
        "id": "jGoPK60Lu2Rq"
      },
      "source": [
        "# Data cleaning\n",
        "Terdapat beberapa hal yang dilakukan:\n",
        "\n",
        "A. Common cleaning\n",
        "1. Convert to lowercase\n",
        "2. Fillna dengan string 'Tidak tersedia'\n",
        "\n",
        "B. Ekstrak data\n",
        "\n",
        "1. <code>job_position</code>: dilakukan pengelompokkan/cluster supaya lebih unique menjadi job type.\n",
        "    - Example: 'sales executive veteriner', 'corporate sales executive' menjadi -> 'sales executive'\n",
        "2. <code>company_location</code>: dapat diekstrak menjadi attribut <code>pulau</code> dan <code>provinsi</code>\n",
        "3. <code>job_description</code>: dapat diekstrak menjadi atribut <code>skill</code> dan <code>pendidikan</code>"
      ]
    },
    {
      "cell_type": "code",
      "metadata": {
        "id": "KTeid8ruw5kx",
        "outputId": "e37c8f93-d501-47dc-83b2-c160eb486ac1",
        "colab": {
          "base_uri": "https://localhost:8080/",
          "height": 432
        }
      },
      "source": [
        "data.describe().T"
      ],
      "execution_count": null,
      "outputs": [
        {
          "output_type": "execute_result",
          "data": {
            "text/html": [
              "<div>\n",
              "<style scoped>\n",
              "    .dataframe tbody tr th:only-of-type {\n",
              "        vertical-align: middle;\n",
              "    }\n",
              "\n",
              "    .dataframe tbody tr th {\n",
              "        vertical-align: top;\n",
              "    }\n",
              "\n",
              "    .dataframe thead th {\n",
              "        text-align: right;\n",
              "    }\n",
              "</style>\n",
              "<table border=\"1\" class=\"dataframe\">\n",
              "  <thead>\n",
              "    <tr style=\"text-align: right;\">\n",
              "      <th></th>\n",
              "      <th>count</th>\n",
              "      <th>unique</th>\n",
              "      <th>top</th>\n",
              "      <th>freq</th>\n",
              "    </tr>\n",
              "  </thead>\n",
              "  <tbody>\n",
              "    <tr>\n",
              "      <th>platform</th>\n",
              "      <td>14150</td>\n",
              "      <td>1</td>\n",
              "      <td>jobstreet</td>\n",
              "      <td>14150</td>\n",
              "    </tr>\n",
              "    <tr>\n",
              "      <th>job_position</th>\n",
              "      <td>14141</td>\n",
              "      <td>10582</td>\n",
              "      <td>Sales Executive</td>\n",
              "      <td>60</td>\n",
              "    </tr>\n",
              "    <tr>\n",
              "      <th>company_name</th>\n",
              "      <td>14141</td>\n",
              "      <td>5106</td>\n",
              "      <td>Perusahaan Dirahasiakan</td>\n",
              "      <td>548</td>\n",
              "    </tr>\n",
              "    <tr>\n",
              "      <th>years_of_experience</th>\n",
              "      <td>14137</td>\n",
              "      <td>77</td>\n",
              "      <td>Min 1 tahun (Pegawai (non-manajemen &amp; non-supe...</td>\n",
              "      <td>3417</td>\n",
              "    </tr>\n",
              "    <tr>\n",
              "      <th>company_location</th>\n",
              "      <td>12720</td>\n",
              "      <td>3111</td>\n",
              "      <td>Indonesia - Jakarta Raya</td>\n",
              "      <td>1786</td>\n",
              "    </tr>\n",
              "    <tr>\n",
              "      <th>job_description</th>\n",
              "      <td>14141</td>\n",
              "      <td>13907</td>\n",
              "      <td>Dicari Marketing Freelance bidang Property Kua...</td>\n",
              "      <td>10</td>\n",
              "    </tr>\n",
              "    <tr>\n",
              "      <th>average_processing_time</th>\n",
              "      <td>13171</td>\n",
              "      <td>14</td>\n",
              "      <td>Lebih dari 2 minggu</td>\n",
              "      <td>10089</td>\n",
              "    </tr>\n",
              "    <tr>\n",
              "      <th>company_industry</th>\n",
              "      <td>13593</td>\n",
              "      <td>58</td>\n",
              "      <td>Manufaktur/Produksi</td>\n",
              "      <td>1712</td>\n",
              "    </tr>\n",
              "    <tr>\n",
              "      <th>company_size</th>\n",
              "      <td>13579</td>\n",
              "      <td>8</td>\n",
              "      <td>51 - 200 pekerja</td>\n",
              "      <td>3578</td>\n",
              "    </tr>\n",
              "    <tr>\n",
              "      <th>work_environment_waktu_bekerja</th>\n",
              "      <td>12519</td>\n",
              "      <td>715</td>\n",
              "      <td>Waktu regular, Senin - Jumat</td>\n",
              "      <td>7999</td>\n",
              "    </tr>\n",
              "    <tr>\n",
              "      <th>work_environment_gaya_berpakaian</th>\n",
              "      <td>12430</td>\n",
              "      <td>292</td>\n",
              "      <td>Bisnis (contoh: Kemeja)</td>\n",
              "      <td>7042</td>\n",
              "    </tr>\n",
              "    <tr>\n",
              "      <th>work_environment_tunjangan</th>\n",
              "      <td>11426</td>\n",
              "      <td>1104</td>\n",
              "      <td>Kesehatan</td>\n",
              "      <td>2812</td>\n",
              "    </tr>\n",
              "    <tr>\n",
              "      <th>work_environment_bahasa</th>\n",
              "      <td>12491</td>\n",
              "      <td>162</td>\n",
              "      <td>Bahasa Indonesia</td>\n",
              "      <td>9215</td>\n",
              "    </tr>\n",
              "  </tbody>\n",
              "</table>\n",
              "</div>"
            ],
            "text/plain": [
              "                                  count  ...   freq\n",
              "platform                          14150  ...  14150\n",
              "job_position                      14141  ...     60\n",
              "company_name                      14141  ...    548\n",
              "years_of_experience               14137  ...   3417\n",
              "company_location                  12720  ...   1786\n",
              "job_description                   14141  ...     10\n",
              "average_processing_time           13171  ...  10089\n",
              "company_industry                  13593  ...   1712\n",
              "company_size                      13579  ...   3578\n",
              "work_environment_waktu_bekerja    12519  ...   7999\n",
              "work_environment_gaya_berpakaian  12430  ...   7042\n",
              "work_environment_tunjangan        11426  ...   2812\n",
              "work_environment_bahasa           12491  ...   9215\n",
              "\n",
              "[13 rows x 4 columns]"
            ]
          },
          "metadata": {
            "tags": []
          },
          "execution_count": 4
        }
      ]
    },
    {
      "cell_type": "code",
      "metadata": {
        "id": "SOipqhETldSG",
        "outputId": "eaf7fcde-4a10-4e12-fa06-12a69a0a72b9",
        "colab": {
          "base_uri": "https://localhost:8080/",
          "height": 252
        }
      },
      "source": [
        "# check missing values\n",
        "data.isnull().sum()"
      ],
      "execution_count": null,
      "outputs": [
        {
          "output_type": "execute_result",
          "data": {
            "text/plain": [
              "platform                               0\n",
              "job_position                           9\n",
              "company_name                           9\n",
              "years_of_experience                   13\n",
              "company_location                    1430\n",
              "job_description                        9\n",
              "average_processing_time              979\n",
              "company_industry                     557\n",
              "company_size                         571\n",
              "work_environment_waktu_bekerja      1631\n",
              "work_environment_gaya_berpakaian    1720\n",
              "work_environment_tunjangan          2724\n",
              "work_environment_bahasa             1659\n",
              "dtype: int64"
            ]
          },
          "metadata": {
            "tags": []
          },
          "execution_count": 5
        }
      ]
    },
    {
      "cell_type": "markdown",
      "metadata": {
        "id": "BgXYq1TM-Ayy"
      },
      "source": [
        "## Dropna dan duplicate\n",
        "- Lakukan dropna() pada row yang kosong berdasarkan job_position (9 data)."
      ]
    },
    {
      "cell_type": "code",
      "metadata": {
        "id": "3csiFuRW-D6-",
        "outputId": "2ef73422-b5d3-4a33-838f-fea451857c19",
        "colab": {
          "base_uri": "https://localhost:8080/",
          "height": 252
        }
      },
      "source": [
        "data = data.dropna(subset=['job_position'])\n",
        "data.isnull().sum()"
      ],
      "execution_count": null,
      "outputs": [
        {
          "output_type": "execute_result",
          "data": {
            "text/plain": [
              "platform                               0\n",
              "job_position                           0\n",
              "company_name                           0\n",
              "years_of_experience                    4\n",
              "company_location                    1421\n",
              "job_description                        0\n",
              "average_processing_time              970\n",
              "company_industry                     548\n",
              "company_size                         562\n",
              "work_environment_waktu_bekerja      1622\n",
              "work_environment_gaya_berpakaian    1711\n",
              "work_environment_tunjangan          2715\n",
              "work_environment_bahasa             1650\n",
              "dtype: int64"
            ]
          },
          "metadata": {
            "tags": []
          },
          "execution_count": 6
        }
      ]
    },
    {
      "cell_type": "code",
      "metadata": {
        "id": "7oFo6oLHBZBE",
        "outputId": "6a20bbcc-3e30-41f8-e790-d95c5f4f8920",
        "colab": {
          "base_uri": "https://localhost:8080/",
          "height": 909
        }
      },
      "source": [
        "# check duplicate\n",
        "duplicate = data[data.duplicated()]\n",
        "duplicate"
      ],
      "execution_count": null,
      "outputs": [
        {
          "output_type": "execute_result",
          "data": {
            "text/html": [
              "<div>\n",
              "<style scoped>\n",
              "    .dataframe tbody tr th:only-of-type {\n",
              "        vertical-align: middle;\n",
              "    }\n",
              "\n",
              "    .dataframe tbody tr th {\n",
              "        vertical-align: top;\n",
              "    }\n",
              "\n",
              "    .dataframe thead th {\n",
              "        text-align: right;\n",
              "    }\n",
              "</style>\n",
              "<table border=\"1\" class=\"dataframe\">\n",
              "  <thead>\n",
              "    <tr style=\"text-align: right;\">\n",
              "      <th></th>\n",
              "      <th>platform</th>\n",
              "      <th>job_position</th>\n",
              "      <th>company_name</th>\n",
              "      <th>years_of_experience</th>\n",
              "      <th>company_location</th>\n",
              "      <th>job_description</th>\n",
              "      <th>average_processing_time</th>\n",
              "      <th>company_industry</th>\n",
              "      <th>company_size</th>\n",
              "      <th>work_environment_waktu_bekerja</th>\n",
              "      <th>work_environment_gaya_berpakaian</th>\n",
              "      <th>work_environment_tunjangan</th>\n",
              "      <th>work_environment_bahasa</th>\n",
              "    </tr>\n",
              "  </thead>\n",
              "  <tbody>\n",
              "    <tr>\n",
              "      <th>193</th>\n",
              "      <td>jobstreet</td>\n",
              "      <td>Warehouse Superintendent</td>\n",
              "      <td>PT Matahari Putra Makmur</td>\n",
              "      <td>Min 5 tahun (Manajer/Asisten Manajer)</td>\n",
              "      <td>Indonesia - Jawa Timur - Pasuruan - GEMPOL</td>\n",
              "      <td>Uraian Pekerjaan :[SEP][SEP][SEP][SEP][SEP]Mer...</td>\n",
              "      <td>Lebih dari 2 minggu</td>\n",
              "      <td>Manufaktur/Produksi</td>\n",
              "      <td>501 - 1000 pekerja</td>\n",
              "      <td>Mondays-Saturdays</td>\n",
              "      <td>Bisnis (contoh: Kemeja)</td>\n",
              "      <td>Kesehatan</td>\n",
              "      <td>Bahasa Indonesia</td>\n",
              "    </tr>\n",
              "    <tr>\n",
              "      <th>2384</th>\n",
              "      <td>jobstreet</td>\n",
              "      <td>Administration Staff</td>\n",
              "      <td>PT Relasi Abadi</td>\n",
              "      <td>Min 1 tahun (Pegawai (non-manajemen &amp; non-supe...</td>\n",
              "      <td>Indonesia - Jakarta Raya - Jakarta Utara - Pan...</td>\n",
              "      <td>[SEP][SEP]Preparing (extract, correct, sort, e...</td>\n",
              "      <td>Lebih dari 2 minggu</td>\n",
              "      <td>Konsultasi (Bisnis &amp; Manajemen)</td>\n",
              "      <td>1- 50 pekerja</td>\n",
              "      <td>Waktu regular, Senin - Jumat</td>\n",
              "      <td>Kasual (contoh: Kaos)</td>\n",
              "      <td>Parkir</td>\n",
              "      <td>Bahasa Indonesia</td>\n",
              "    </tr>\n",
              "    <tr>\n",
              "      <th>2940</th>\n",
              "      <td>jobstreet</td>\n",
              "      <td>INTERNET DATA CENTER TECHNICIAN</td>\n",
              "      <td>PT Cakra Persada Utama</td>\n",
              "      <td>Min 1 tahun (Pegawai (non-manajemen &amp; non-supe...</td>\n",
              "      <td>Indonesia - Banten - Tangerang - SERPONG</td>\n",
              "      <td>[SEP]Installing servers and networking equipme...</td>\n",
              "      <td>1 hari</td>\n",
              "      <td>Komputer/Teknik Informatika (Perangkat Keras)</td>\n",
              "      <td>1- 50 pekerja</td>\n",
              "      <td>Waktu regular, Senin - Jumat</td>\n",
              "      <td>Kasual (contoh: Kaos)</td>\n",
              "      <td>NaN</td>\n",
              "      <td>Bahasa Indonesia</td>\n",
              "    </tr>\n",
              "    <tr>\n",
              "      <th>3065</th>\n",
              "      <td>jobstreet</td>\n",
              "      <td>Insurance Specialist (Jakarta)</td>\n",
              "      <td>PT PFI Mega Life Insurance</td>\n",
              "      <td>Min 1 tahun (Pegawai (non-manajemen &amp; non-supe...</td>\n",
              "      <td>NaN</td>\n",
              "      <td>[SEP]Initiate and bridge cooperation with Part...</td>\n",
              "      <td>Lebih dari 2 minggu</td>\n",
              "      <td>Asuransi</td>\n",
              "      <td>51 - 200 pekerja</td>\n",
              "      <td>Waktu regular, Senin - Jumat</td>\n",
              "      <td>Bisnis (contoh: Kemeja)</td>\n",
              "      <td>Kesehatan</td>\n",
              "      <td>Bahasa Indonesia</td>\n",
              "    </tr>\n",
              "    <tr>\n",
              "      <th>3200</th>\n",
              "      <td>jobstreet</td>\n",
              "      <td>SAP Business One Technical Consultant</td>\n",
              "      <td>PT. Metrodata Electronics, Tbk</td>\n",
              "      <td>Min 2 tahun (Pegawai (non-manajemen &amp; non-supe...</td>\n",
              "      <td>Indonesia - Jakarta Raya - Jakarta Barat</td>\n",
              "      <td>[SEP]Job Description:[SEP][SEP][SEP]Melakukan ...</td>\n",
              "      <td>Lebih dari 2 minggu</td>\n",
              "      <td>Konsultasi (IT, Ilmu Pengetahuan, Teknis &amp; Tek...</td>\n",
              "      <td>1001 - 2000 pekerja</td>\n",
              "      <td>Waktu regular, Senin - Jumat</td>\n",
              "      <td>Bisnis (contoh: Kemeja)</td>\n",
              "      <td>Kesehatan, Parkir</td>\n",
              "      <td>Bahasa Indonesia</td>\n",
              "    </tr>\n",
              "    <tr>\n",
              "      <th>...</th>\n",
              "      <td>...</td>\n",
              "      <td>...</td>\n",
              "      <td>...</td>\n",
              "      <td>...</td>\n",
              "      <td>...</td>\n",
              "      <td>...</td>\n",
              "      <td>...</td>\n",
              "      <td>...</td>\n",
              "      <td>...</td>\n",
              "      <td>...</td>\n",
              "      <td>...</td>\n",
              "      <td>...</td>\n",
              "      <td>...</td>\n",
              "    </tr>\n",
              "    <tr>\n",
              "      <th>13552</th>\n",
              "      <td>jobstreet</td>\n",
              "      <td>Sales Executive</td>\n",
              "      <td>Sejati Stationery Co.</td>\n",
              "      <td>Min 1 tahun (Pegawai (non-manajemen &amp; non-supe...</td>\n",
              "      <td>Indonesia - Jakarta Raya</td>\n",
              "      <td>[SEP]Candidate must possess at least SMU, Dipl...</td>\n",
              "      <td>6 hari</td>\n",
              "      <td>Periklanan/Marketing/Promosi/Hubungan Masyarakat</td>\n",
              "      <td>1- 50 pekerja</td>\n",
              "      <td>Waktu regular, Senin - Jumat</td>\n",
              "      <td>Bisnis (contoh: Kemeja)</td>\n",
              "      <td>Kesehatan</td>\n",
              "      <td>Bahasa Indonesia</td>\n",
              "    </tr>\n",
              "    <tr>\n",
              "      <th>13722</th>\n",
              "      <td>jobstreet</td>\n",
              "      <td>Merchandising Manager</td>\n",
              "      <td>Kurnia Ciptamoda Gemilang</td>\n",
              "      <td>Min 3 tahun (Manajer/Asisten Manajer)</td>\n",
              "      <td>Indonesia - Jakarta Raya - Jakarta Selatan - J...</td>\n",
              "      <td>[SEP][SEP]Reporting to Brand Manager, you will...</td>\n",
              "      <td>1 hari</td>\n",
              "      <td>Retail/Merchandise</td>\n",
              "      <td>501 - 1000 pekerja</td>\n",
              "      <td>Mon - Friday, Flexible working hours</td>\n",
              "      <td>Smart Casual</td>\n",
              "      <td>Kesehatan, Tunjangan Lainnya, BPJS</td>\n",
              "      <td>Bahasa Indonesia and English</td>\n",
              "    </tr>\n",
              "    <tr>\n",
              "      <th>13912</th>\n",
              "      <td>jobstreet</td>\n",
              "      <td>BUSSINESS DEVELOPMENT MANAGER / CLIENT SERVICING</td>\n",
              "      <td>PT Spire Indonesia</td>\n",
              "      <td>Min 3 tahun (Manajer/Asisten Manajer)</td>\n",
              "      <td>Indonesia - Jakarta Raya - Jl Jend Sudirman ka...</td>\n",
              "      <td>[SEP][SEP][SEP]Job Scope and Roles[SEP][SEP]De...</td>\n",
              "      <td>Lebih dari 2 minggu</td>\n",
              "      <td>Konsultasi (Bisnis &amp; Manajemen)</td>\n",
              "      <td>1- 50 pekerja</td>\n",
              "      <td>Waktu regular, Senin - Jumat</td>\n",
              "      <td>Bisnis (contoh: Kemeja)</td>\n",
              "      <td>Kesehatan, Tunjangan Lainnya, Bantuan Pendidikan</td>\n",
              "      <td>Bahasa Inggris</td>\n",
              "    </tr>\n",
              "    <tr>\n",
              "      <th>13927</th>\n",
              "      <td>jobstreet</td>\n",
              "      <td>Accounting &amp; General Admin</td>\n",
              "      <td>PT Berkat Jaya Damai</td>\n",
              "      <td>Min 3 tahun (Pegawai (non-manajemen &amp; non-supe...</td>\n",
              "      <td>Indonesia - Jakarta Raya - Jakarta Utara - Kam...</td>\n",
              "      <td>a. Usia maksimal 35 tahun [SEP]b. Pendidikan m...</td>\n",
              "      <td>Lebih dari 2 minggu</td>\n",
              "      <td>Makanan &amp; Minuman/Katering/Restoran</td>\n",
              "      <td>1- 50 pekerja</td>\n",
              "      <td>Waktu regular, Senin - Jumat</td>\n",
              "      <td>Kasual (contoh: Kaos)</td>\n",
              "      <td>NaN</td>\n",
              "      <td>Bahasa Indonesia</td>\n",
              "    </tr>\n",
              "    <tr>\n",
              "      <th>14013</th>\n",
              "      <td>jobstreet</td>\n",
              "      <td>AP Supervisor</td>\n",
              "      <td>PT Jakarta Indah Makmur</td>\n",
              "      <td>Min 5 tahun (Pegawai (non-manajemen &amp; non-supe...</td>\n",
              "      <td>Indonesia - Jakarta Raya - Jakarta Barat</td>\n",
              "      <td>[SEP][SEP]Bachelor Degree majoring in Accounti...</td>\n",
              "      <td>9 hari</td>\n",
              "      <td>Properti/Real Estate</td>\n",
              "      <td>1- 50 pekerja</td>\n",
              "      <td>Sabtu atau memerlukan shift</td>\n",
              "      <td>Formil (contoh: Kemeja + Dasi)</td>\n",
              "      <td>Tunjangan Lainnya</td>\n",
              "      <td>Bahasa Inggris</td>\n",
              "    </tr>\n",
              "  </tbody>\n",
              "</table>\n",
              "<p>82 rows × 13 columns</p>\n",
              "</div>"
            ],
            "text/plain": [
              "        platform  ...       work_environment_bahasa\n",
              "193    jobstreet  ...              Bahasa Indonesia\n",
              "2384   jobstreet  ...              Bahasa Indonesia\n",
              "2940   jobstreet  ...              Bahasa Indonesia\n",
              "3065   jobstreet  ...              Bahasa Indonesia\n",
              "3200   jobstreet  ...              Bahasa Indonesia\n",
              "...          ...  ...                           ...\n",
              "13552  jobstreet  ...              Bahasa Indonesia\n",
              "13722  jobstreet  ...  Bahasa Indonesia and English\n",
              "13912  jobstreet  ...                Bahasa Inggris\n",
              "13927  jobstreet  ...              Bahasa Indonesia\n",
              "14013  jobstreet  ...                Bahasa Inggris\n",
              "\n",
              "[82 rows x 13 columns]"
            ]
          },
          "metadata": {
            "tags": []
          },
          "execution_count": 7
        }
      ]
    },
    {
      "cell_type": "code",
      "metadata": {
        "id": "TPkWcnlkCSFx",
        "outputId": "23ab90c4-ba46-4256-9023-6c9bb2971902",
        "colab": {
          "base_uri": "https://localhost:8080/",
          "height": 34
        }
      },
      "source": [
        "# drop duplicate data\n",
        "data = data.drop_duplicates().reset_index(drop=True)\n",
        "\n",
        "# check duplicate lagi\n",
        "len(data[data.duplicated()])"
      ],
      "execution_count": null,
      "outputs": [
        {
          "output_type": "execute_result",
          "data": {
            "text/plain": [
              "0"
            ]
          },
          "metadata": {
            "tags": []
          },
          "execution_count": 8
        }
      ]
    },
    {
      "cell_type": "code",
      "metadata": {
        "id": "iQfLyAthCxDf",
        "outputId": "344910f2-90a4-4470-d647-1b05d3d78086",
        "colab": {
          "base_uri": "https://localhost:8080/",
          "height": 432
        }
      },
      "source": [
        "data.describe().T"
      ],
      "execution_count": null,
      "outputs": [
        {
          "output_type": "execute_result",
          "data": {
            "text/html": [
              "<div>\n",
              "<style scoped>\n",
              "    .dataframe tbody tr th:only-of-type {\n",
              "        vertical-align: middle;\n",
              "    }\n",
              "\n",
              "    .dataframe tbody tr th {\n",
              "        vertical-align: top;\n",
              "    }\n",
              "\n",
              "    .dataframe thead th {\n",
              "        text-align: right;\n",
              "    }\n",
              "</style>\n",
              "<table border=\"1\" class=\"dataframe\">\n",
              "  <thead>\n",
              "    <tr style=\"text-align: right;\">\n",
              "      <th></th>\n",
              "      <th>count</th>\n",
              "      <th>unique</th>\n",
              "      <th>top</th>\n",
              "      <th>freq</th>\n",
              "    </tr>\n",
              "  </thead>\n",
              "  <tbody>\n",
              "    <tr>\n",
              "      <th>platform</th>\n",
              "      <td>14059</td>\n",
              "      <td>1</td>\n",
              "      <td>jobstreet</td>\n",
              "      <td>14059</td>\n",
              "    </tr>\n",
              "    <tr>\n",
              "      <th>job_position</th>\n",
              "      <td>14059</td>\n",
              "      <td>10582</td>\n",
              "      <td>Sales Executive</td>\n",
              "      <td>59</td>\n",
              "    </tr>\n",
              "    <tr>\n",
              "      <th>company_name</th>\n",
              "      <td>14059</td>\n",
              "      <td>5106</td>\n",
              "      <td>Perusahaan Dirahasiakan</td>\n",
              "      <td>545</td>\n",
              "    </tr>\n",
              "    <tr>\n",
              "      <th>years_of_experience</th>\n",
              "      <td>14055</td>\n",
              "      <td>77</td>\n",
              "      <td>Min 1 tahun (Pegawai (non-manajemen &amp; non-supe...</td>\n",
              "      <td>3401</td>\n",
              "    </tr>\n",
              "    <tr>\n",
              "      <th>company_location</th>\n",
              "      <td>12648</td>\n",
              "      <td>3111</td>\n",
              "      <td>Indonesia - Jakarta Raya</td>\n",
              "      <td>1778</td>\n",
              "    </tr>\n",
              "    <tr>\n",
              "      <th>job_description</th>\n",
              "      <td>14059</td>\n",
              "      <td>13907</td>\n",
              "      <td>Dicari Marketing Freelance bidang Property Kua...</td>\n",
              "      <td>10</td>\n",
              "    </tr>\n",
              "    <tr>\n",
              "      <th>average_processing_time</th>\n",
              "      <td>13096</td>\n",
              "      <td>14</td>\n",
              "      <td>Lebih dari 2 minggu</td>\n",
              "      <td>10031</td>\n",
              "    </tr>\n",
              "    <tr>\n",
              "      <th>company_industry</th>\n",
              "      <td>13514</td>\n",
              "      <td>58</td>\n",
              "      <td>Manufaktur/Produksi</td>\n",
              "      <td>1697</td>\n",
              "    </tr>\n",
              "    <tr>\n",
              "      <th>company_size</th>\n",
              "      <td>13500</td>\n",
              "      <td>8</td>\n",
              "      <td>51 - 200 pekerja</td>\n",
              "      <td>3555</td>\n",
              "    </tr>\n",
              "    <tr>\n",
              "      <th>work_environment_waktu_bekerja</th>\n",
              "      <td>12444</td>\n",
              "      <td>715</td>\n",
              "      <td>Waktu regular, Senin - Jumat</td>\n",
              "      <td>7952</td>\n",
              "    </tr>\n",
              "    <tr>\n",
              "      <th>work_environment_gaya_berpakaian</th>\n",
              "      <td>12355</td>\n",
              "      <td>292</td>\n",
              "      <td>Bisnis (contoh: Kemeja)</td>\n",
              "      <td>7001</td>\n",
              "    </tr>\n",
              "    <tr>\n",
              "      <th>work_environment_tunjangan</th>\n",
              "      <td>11357</td>\n",
              "      <td>1104</td>\n",
              "      <td>Kesehatan</td>\n",
              "      <td>2797</td>\n",
              "    </tr>\n",
              "    <tr>\n",
              "      <th>work_environment_bahasa</th>\n",
              "      <td>12417</td>\n",
              "      <td>162</td>\n",
              "      <td>Bahasa Indonesia</td>\n",
              "      <td>9162</td>\n",
              "    </tr>\n",
              "  </tbody>\n",
              "</table>\n",
              "</div>"
            ],
            "text/plain": [
              "                                  count  ...   freq\n",
              "platform                          14059  ...  14059\n",
              "job_position                      14059  ...     59\n",
              "company_name                      14059  ...    545\n",
              "years_of_experience               14055  ...   3401\n",
              "company_location                  12648  ...   1778\n",
              "job_description                   14059  ...     10\n",
              "average_processing_time           13096  ...  10031\n",
              "company_industry                  13514  ...   1697\n",
              "company_size                      13500  ...   3555\n",
              "work_environment_waktu_bekerja    12444  ...   7952\n",
              "work_environment_gaya_berpakaian  12355  ...   7001\n",
              "work_environment_tunjangan        11357  ...   2797\n",
              "work_environment_bahasa           12417  ...   9162\n",
              "\n",
              "[13 rows x 4 columns]"
            ]
          },
          "metadata": {
            "tags": []
          },
          "execution_count": 9
        }
      ]
    },
    {
      "cell_type": "markdown",
      "metadata": {
        "id": "gUSVHqyM6GkK"
      },
      "source": [
        "## Common cleaning"
      ]
    },
    {
      "cell_type": "markdown",
      "metadata": {
        "id": "C_-WDV_C7OBS"
      },
      "source": [
        "### company_name"
      ]
    },
    {
      "cell_type": "code",
      "metadata": {
        "id": "53u97Z-8EZzK",
        "outputId": "8b3afcfa-6897-498d-e890-7efebbab7ab4",
        "colab": {
          "base_uri": "https://localhost:8080/",
          "height": 34
        }
      },
      "source": [
        "# check null values\n",
        "data['company_name'].isnull().sum()"
      ],
      "execution_count": null,
      "outputs": [
        {
          "output_type": "execute_result",
          "data": {
            "text/plain": [
              "0"
            ]
          },
          "metadata": {
            "tags": []
          },
          "execution_count": 10
        }
      ]
    },
    {
      "cell_type": "code",
      "metadata": {
        "id": "V7547UPIDWRO",
        "outputId": "cedeeb5b-1540-40f5-ec72-bcc78c94b0f4",
        "colab": {
          "base_uri": "https://localhost:8080/",
          "height": 218
        }
      },
      "source": [
        "data['company_name'].value_counts()"
      ],
      "execution_count": null,
      "outputs": [
        {
          "output_type": "execute_result",
          "data": {
            "text/plain": [
              "Perusahaan Dirahasiakan                                       545\n",
              "OTO Group                                                     142\n",
              "PT Michael Page Internasional Indonesia (Recruitment Firm)     83\n",
              "PT. Aurora Group (Recruitment Firm)                            62\n",
              "PT AXA Mandiri Financial Services                              61\n",
              "                                                             ... \n",
              "PT Batavia Wine International                                   1\n",
              "PT Artha Jasakonsulindo                                         1\n",
              "PT Container Maritime Activities                                1\n",
              "LOCETTE                                                         1\n",
              "CV Indoganic Karyatama                                          1\n",
              "Name: company_name, Length: 5106, dtype: int64"
            ]
          },
          "metadata": {
            "tags": []
          },
          "execution_count": 11
        }
      ]
    },
    {
      "cell_type": "markdown",
      "metadata": {
        "id": "Apzp6G2JX1UF"
      },
      "source": [
        "> tidak dilakukan cleaning, karena sudah cukup bagus"
      ]
    },
    {
      "cell_type": "code",
      "metadata": {
        "id": "X27OBgRep3s9",
        "outputId": "3a3b8c7e-8cb9-4ddb-ea7a-ac486c19c181",
        "colab": {
          "base_uri": "https://localhost:8080/",
          "height": 434
        }
      },
      "source": [
        "data.head()"
      ],
      "execution_count": null,
      "outputs": [
        {
          "output_type": "execute_result",
          "data": {
            "text/html": [
              "<div>\n",
              "<style scoped>\n",
              "    .dataframe tbody tr th:only-of-type {\n",
              "        vertical-align: middle;\n",
              "    }\n",
              "\n",
              "    .dataframe tbody tr th {\n",
              "        vertical-align: top;\n",
              "    }\n",
              "\n",
              "    .dataframe thead th {\n",
              "        text-align: right;\n",
              "    }\n",
              "</style>\n",
              "<table border=\"1\" class=\"dataframe\">\n",
              "  <thead>\n",
              "    <tr style=\"text-align: right;\">\n",
              "      <th></th>\n",
              "      <th>platform</th>\n",
              "      <th>job_position</th>\n",
              "      <th>company_name</th>\n",
              "      <th>years_of_experience</th>\n",
              "      <th>company_location</th>\n",
              "      <th>job_description</th>\n",
              "      <th>average_processing_time</th>\n",
              "      <th>company_industry</th>\n",
              "      <th>company_size</th>\n",
              "      <th>work_environment_waktu_bekerja</th>\n",
              "      <th>work_environment_gaya_berpakaian</th>\n",
              "      <th>work_environment_tunjangan</th>\n",
              "      <th>work_environment_bahasa</th>\n",
              "    </tr>\n",
              "  </thead>\n",
              "  <tbody>\n",
              "    <tr>\n",
              "      <th>0</th>\n",
              "      <td>jobstreet</td>\n",
              "      <td>SPV FINANCE</td>\n",
              "      <td>PT Axindo Infotama</td>\n",
              "      <td>Min 3 tahun (Supervisor/Koordinator)</td>\n",
              "      <td>Indonesia - Jakarta Raya - Jakarta Pusat - Ruk...</td>\n",
              "      <td>[SEP][SEP]Usia Max. 35 tahun[SEP]Pendidikan Mi...</td>\n",
              "      <td>6 hari</td>\n",
              "      <td>Retail/Merchandise</td>\n",
              "      <td>51 - 200 pekerja</td>\n",
              "      <td>Sabtu atau memerlukan shift</td>\n",
              "      <td>Formil (contoh: Kemeja + Dasi)</td>\n",
              "      <td>Kesehatan, Parkir</td>\n",
              "      <td>Bahasa Indonesia</td>\n",
              "    </tr>\n",
              "    <tr>\n",
              "      <th>1</th>\n",
              "      <td>jobstreet</td>\n",
              "      <td>Qualitative Research Executive</td>\n",
              "      <td>Perusahaan Dirahasiakan</td>\n",
              "      <td>Min 3 tahun (Pegawai (non-manajemen &amp; non-supe...</td>\n",
              "      <td>Indonesia - Jakarta Raya</td>\n",
              "      <td>RESPONSIBILITIES:[SEP]Brief Description of Dut...</td>\n",
              "      <td>NaN</td>\n",
              "      <td>NaN</td>\n",
              "      <td>NaN</td>\n",
              "      <td>NaN</td>\n",
              "      <td>NaN</td>\n",
              "      <td>NaN</td>\n",
              "      <td>NaN</td>\n",
              "    </tr>\n",
              "    <tr>\n",
              "      <th>2</th>\n",
              "      <td>jobstreet</td>\n",
              "      <td>Field Collection (JS - FC) Wonogiri</td>\n",
              "      <td>OTO Group</td>\n",
              "      <td>Lulusan baru/Pengalaman kerja kurang dari 1 tahun</td>\n",
              "      <td>Indonesia - Jawa Tengah - Wonogiri Wonogoro - ...</td>\n",
              "      <td>[SEP]Lingkup pekerjaan: [SEP]Menjaga account d...</td>\n",
              "      <td>Lebih dari 2 minggu</td>\n",
              "      <td>Perbankan/Pelayanan Keuangan</td>\n",
              "      <td>Lebih dari 5000 pekerja</td>\n",
              "      <td>Waktu regular, Senin - Jumat</td>\n",
              "      <td>Bisnis (contoh: Kemeja)</td>\n",
              "      <td>Kesehatan, Gigi, bonus tahunan</td>\n",
              "      <td>Bahasa Indonesia</td>\n",
              "    </tr>\n",
              "    <tr>\n",
              "      <th>3</th>\n",
              "      <td>jobstreet</td>\n",
              "      <td>Perawat di Negara Jerman</td>\n",
              "      <td>PT Jerman Manajemen</td>\n",
              "      <td>Min 1 tahun (Pegawai (non-manajemen &amp; non-supe...</td>\n",
              "      <td>Indonesia - Jakarta Raya</td>\n",
              "      <td>[SEP]Candidate must possess at least Diploma i...</td>\n",
              "      <td>11 hari</td>\n",
              "      <td>Pendidikan</td>\n",
              "      <td>51 - 200 pekerja</td>\n",
              "      <td>SABTU-KAMIS</td>\n",
              "      <td>Formil (contoh: Kemeja + Dasi)</td>\n",
              "      <td>Kesehatan</td>\n",
              "      <td>Bahasa Indonesia</td>\n",
              "    </tr>\n",
              "    <tr>\n",
              "      <th>4</th>\n",
              "      <td>jobstreet</td>\n",
              "      <td>Field Collection (JS - FC) Pati</td>\n",
              "      <td>OTO Group</td>\n",
              "      <td>Lulusan baru/Pengalaman kerja kurang dari 1 tahun</td>\n",
              "      <td>Indonesia - Jawa Tengah - Pati</td>\n",
              "      <td>[SEP]Lingkup pekerjaan: [SEP]Menjaga account d...</td>\n",
              "      <td>Lebih dari 2 minggu</td>\n",
              "      <td>Perbankan/Pelayanan Keuangan</td>\n",
              "      <td>Lebih dari 5000 pekerja</td>\n",
              "      <td>Waktu regular, Senin - Jumat</td>\n",
              "      <td>Bisnis (contoh: Kemeja)</td>\n",
              "      <td>Kesehatan, Gigi, bonus tahunan</td>\n",
              "      <td>Bahasa Indonesia</td>\n",
              "    </tr>\n",
              "  </tbody>\n",
              "</table>\n",
              "</div>"
            ],
            "text/plain": [
              "    platform  ... work_environment_bahasa\n",
              "0  jobstreet  ...        Bahasa Indonesia\n",
              "1  jobstreet  ...                     NaN\n",
              "2  jobstreet  ...        Bahasa Indonesia\n",
              "3  jobstreet  ...        Bahasa Indonesia\n",
              "4  jobstreet  ...        Bahasa Indonesia\n",
              "\n",
              "[5 rows x 13 columns]"
            ]
          },
          "metadata": {
            "tags": []
          },
          "execution_count": 12
        }
      ]
    },
    {
      "cell_type": "markdown",
      "metadata": {
        "id": "AuxKbOk77F36"
      },
      "source": [
        "### years_of_experience"
      ]
    },
    {
      "cell_type": "markdown",
      "metadata": {
        "id": "aYw7JPeIHetJ"
      },
      "source": [
        "> **Question**: Apakah perlu dihilangkan teks seperti '(pegawai (non-manajemen & non-supervisor))' supaya data lebih distinct? **Iya**"
      ]
    },
    {
      "cell_type": "code",
      "metadata": {
        "id": "qWu3kg4gDzLu",
        "outputId": "5c701278-8e01-4c60-a1ad-31ca083bf014",
        "colab": {
          "base_uri": "https://localhost:8080/",
          "height": 34
        }
      },
      "source": [
        "# check null\n",
        "data['years_of_experience'].isnull().sum()"
      ],
      "execution_count": null,
      "outputs": [
        {
          "output_type": "execute_result",
          "data": {
            "text/plain": [
              "4"
            ]
          },
          "metadata": {
            "tags": []
          },
          "execution_count": 13
        }
      ]
    },
    {
      "cell_type": "code",
      "metadata": {
        "id": "05Sib5rFEP_H",
        "outputId": "2fb93e60-321f-419f-927f-015479ae4fba",
        "colab": {
          "base_uri": "https://localhost:8080/",
          "height": 218
        }
      },
      "source": [
        "# years_experience\n",
        "# convert to lower case dan fillna dengan string 'tidak tersedia'\n",
        "yoe = data['years_of_experience'].str.lower().fillna('kosong')\n",
        "\n",
        "yoe.value_counts()"
      ],
      "execution_count": null,
      "outputs": [
        {
          "output_type": "execute_result",
          "data": {
            "text/plain": [
              "min 1 tahun (pegawai (non-manajemen & non-supervisor))    3401\n",
              "min 2 tahun (pegawai (non-manajemen & non-supervisor))    2448\n",
              "min 3 tahun (pegawai (non-manajemen & non-supervisor))    1054\n",
              "min 2 tahun (supervisor/koordinator)                       931\n",
              "min 3 tahun (supervisor/koordinator)                       902\n",
              "                                                          ... \n",
              "min 8 tahun (senior manager)                                 1\n",
              "min 11 tahun (manajer/asisten manajer)                       1\n",
              "min 5 tahun (manager)                                        1\n",
              "min 3 tahun (senior executive)                               1\n",
              "min 14 tahun (ceo/gm/direktur/manajer senior)                1\n",
              "Name: years_of_experience, Length: 78, dtype: int64"
            ]
          },
          "metadata": {
            "tags": []
          },
          "execution_count": 14
        }
      ]
    },
    {
      "cell_type": "code",
      "metadata": {
        "id": "NYZ-GnYrHo4D",
        "outputId": "cdaadcab-f90d-4f7f-9c9b-a4a34ba42c1a",
        "colab": {
          "base_uri": "https://localhost:8080/",
          "height": 487
        }
      },
      "source": [
        "# coba lihat distinct data\n",
        "temp = yoe.values\n",
        "for idx, years in enumerate(temp):\n",
        "    temp[idx] = years.split('(')[0].strip()\n",
        "\n",
        "pd.Series(temp).value_counts()"
      ],
      "execution_count": null,
      "outputs": [
        {
          "output_type": "execute_result",
          "data": {
            "text/plain": [
              "min 1 tahun                                          4137\n",
              "min 2 tahun                                          3743\n",
              "min 3 tahun                                          2509\n",
              "min 5 tahun                                          1665\n",
              "lulusan baru/pengalaman kerja kurang dari 1 tahun     786\n",
              "min 4 tahun                                           439\n",
              "min 10 tahun                                          268\n",
              "min 8 tahun                                           150\n",
              "min 7 tahun                                           135\n",
              "min 6 tahun                                           100\n",
              "min 15 tahun                                           63\n",
              "min 12 tahun                                           24\n",
              "min 9 tahun                                             9\n",
              "min 13 tahun                                            4\n",
              "supervisor/koordinator                                  4\n",
              "kosong                                                  4\n",
              "pegawai                                                 3\n",
              "min 16 tahun                                            2\n",
              "min 18 tahun                                            2\n",
              "lebih dari 24 tahun                                     2\n",
              "min 20 tahun                                            2\n",
              "min 17 tahun                                            2\n",
              "ceo/gm/direktur/manajer senior                          2\n",
              "min 14 tahun                                            1\n",
              "manajer/asisten manajer                                 1\n",
              "entry level                                             1\n",
              "min 11 tahun                                            1\n",
              "dtype: int64"
            ]
          },
          "metadata": {
            "tags": []
          },
          "execution_count": 15
        }
      ]
    },
    {
      "cell_type": "code",
      "metadata": {
        "id": "0Ik0BlcQO6yf"
      },
      "source": [
        "# mapping data\n",
        "yoe_mapper = {\"lulusan baru/pengalaman kerja kurang dari 1 tahun\": 0,\n",
        "              \"min 1 tahun\": 1,\n",
        "              \"min 2 tahun\": 2,\n",
        "              \"min 3 tahun\": 3,\n",
        "              \"min 4 tahun\": 4,\n",
        "              \"min 5 tahun\": 5,\n",
        "              \"min 6 tahun\": 6,\n",
        "              \"min 7 tahun\": 7,\n",
        "              \"min 8 tahun\": 8,\n",
        "              \"min 9 tahun\": 9,\n",
        "              \"min 10 tahun\": 10,\n",
        "              \"min 11 tahun\": 11,\n",
        "              \"min 12 tahun\": 12,\n",
        "              \"min 13 tahun\": 13,\n",
        "              \"min 14 tahun\": 14,\n",
        "              \"min 15 tahun\": 15,\n",
        "              \"min 16 tahun\": 16,\n",
        "              \"min 17 tahun\": 17,\n",
        "              \"min 18 tahun\": 18,\n",
        "              \"min 20 tahun\": 20,\n",
        "              \"lebih dari 24 tahun\": 24,\n",
        "              \"kosong\": \"tidak dicantumkan\",\n",
        "              \"supervisor/koordinator\": \"tidak dicantumkan\",\n",
        "              \"pegawai\": \"tidak dicantumkan\",\n",
        "              \"ceo/gm/direktur/manajer senior\": \"tidak dicantumkan\",\n",
        "              \"entry level\": \"tidak dicantumkan\",\n",
        "              \"manajer/asisten manajer\": \"tidak dicantumkan\"}\n",
        "\n",
        "temp = pd.Series(temp).map(yoe_mapper)"
      ],
      "execution_count": null,
      "outputs": []
    },
    {
      "cell_type": "code",
      "metadata": {
        "id": "bVgyE5F8b061",
        "outputId": "e25e5aba-7592-4892-a8b5-ce2fb47064db",
        "colab": {
          "base_uri": "https://localhost:8080/",
          "height": 403
        }
      },
      "source": [
        "data['years_of_experience'] = temp\n",
        "data['years_of_experience'].value_counts()"
      ],
      "execution_count": null,
      "outputs": [
        {
          "output_type": "execute_result",
          "data": {
            "text/plain": [
              "1                    4137\n",
              "2                    3743\n",
              "3                    2509\n",
              "5                    1665\n",
              "0                     786\n",
              "4                     439\n",
              "10                    268\n",
              "8                     150\n",
              "7                     135\n",
              "6                     100\n",
              "15                     63\n",
              "12                     24\n",
              "tidak dicantumkan      15\n",
              "9                       9\n",
              "13                      4\n",
              "24                      2\n",
              "16                      2\n",
              "17                      2\n",
              "18                      2\n",
              "20                      2\n",
              "14                      1\n",
              "11                      1\n",
              "Name: years_of_experience, dtype: int64"
            ]
          },
          "metadata": {
            "tags": []
          },
          "execution_count": 17
        }
      ]
    },
    {
      "cell_type": "code",
      "metadata": {
        "id": "ZmvdLZ_mqAfE",
        "outputId": "de3aac3d-82dc-4b5b-e083-4961cf8394f8",
        "colab": {
          "base_uri": "https://localhost:8080/",
          "height": 434
        }
      },
      "source": [
        "data.head()"
      ],
      "execution_count": null,
      "outputs": [
        {
          "output_type": "execute_result",
          "data": {
            "text/html": [
              "<div>\n",
              "<style scoped>\n",
              "    .dataframe tbody tr th:only-of-type {\n",
              "        vertical-align: middle;\n",
              "    }\n",
              "\n",
              "    .dataframe tbody tr th {\n",
              "        vertical-align: top;\n",
              "    }\n",
              "\n",
              "    .dataframe thead th {\n",
              "        text-align: right;\n",
              "    }\n",
              "</style>\n",
              "<table border=\"1\" class=\"dataframe\">\n",
              "  <thead>\n",
              "    <tr style=\"text-align: right;\">\n",
              "      <th></th>\n",
              "      <th>platform</th>\n",
              "      <th>job_position</th>\n",
              "      <th>company_name</th>\n",
              "      <th>years_of_experience</th>\n",
              "      <th>company_location</th>\n",
              "      <th>job_description</th>\n",
              "      <th>average_processing_time</th>\n",
              "      <th>company_industry</th>\n",
              "      <th>company_size</th>\n",
              "      <th>work_environment_waktu_bekerja</th>\n",
              "      <th>work_environment_gaya_berpakaian</th>\n",
              "      <th>work_environment_tunjangan</th>\n",
              "      <th>work_environment_bahasa</th>\n",
              "    </tr>\n",
              "  </thead>\n",
              "  <tbody>\n",
              "    <tr>\n",
              "      <th>0</th>\n",
              "      <td>jobstreet</td>\n",
              "      <td>SPV FINANCE</td>\n",
              "      <td>PT Axindo Infotama</td>\n",
              "      <td>3</td>\n",
              "      <td>Indonesia - Jakarta Raya - Jakarta Pusat - Ruk...</td>\n",
              "      <td>[SEP][SEP]Usia Max. 35 tahun[SEP]Pendidikan Mi...</td>\n",
              "      <td>6 hari</td>\n",
              "      <td>Retail/Merchandise</td>\n",
              "      <td>51 - 200 pekerja</td>\n",
              "      <td>Sabtu atau memerlukan shift</td>\n",
              "      <td>Formil (contoh: Kemeja + Dasi)</td>\n",
              "      <td>Kesehatan, Parkir</td>\n",
              "      <td>Bahasa Indonesia</td>\n",
              "    </tr>\n",
              "    <tr>\n",
              "      <th>1</th>\n",
              "      <td>jobstreet</td>\n",
              "      <td>Qualitative Research Executive</td>\n",
              "      <td>Perusahaan Dirahasiakan</td>\n",
              "      <td>3</td>\n",
              "      <td>Indonesia - Jakarta Raya</td>\n",
              "      <td>RESPONSIBILITIES:[SEP]Brief Description of Dut...</td>\n",
              "      <td>NaN</td>\n",
              "      <td>NaN</td>\n",
              "      <td>NaN</td>\n",
              "      <td>NaN</td>\n",
              "      <td>NaN</td>\n",
              "      <td>NaN</td>\n",
              "      <td>NaN</td>\n",
              "    </tr>\n",
              "    <tr>\n",
              "      <th>2</th>\n",
              "      <td>jobstreet</td>\n",
              "      <td>Field Collection (JS - FC) Wonogiri</td>\n",
              "      <td>OTO Group</td>\n",
              "      <td>0</td>\n",
              "      <td>Indonesia - Jawa Tengah - Wonogiri Wonogoro - ...</td>\n",
              "      <td>[SEP]Lingkup pekerjaan: [SEP]Menjaga account d...</td>\n",
              "      <td>Lebih dari 2 minggu</td>\n",
              "      <td>Perbankan/Pelayanan Keuangan</td>\n",
              "      <td>Lebih dari 5000 pekerja</td>\n",
              "      <td>Waktu regular, Senin - Jumat</td>\n",
              "      <td>Bisnis (contoh: Kemeja)</td>\n",
              "      <td>Kesehatan, Gigi, bonus tahunan</td>\n",
              "      <td>Bahasa Indonesia</td>\n",
              "    </tr>\n",
              "    <tr>\n",
              "      <th>3</th>\n",
              "      <td>jobstreet</td>\n",
              "      <td>Perawat di Negara Jerman</td>\n",
              "      <td>PT Jerman Manajemen</td>\n",
              "      <td>1</td>\n",
              "      <td>Indonesia - Jakarta Raya</td>\n",
              "      <td>[SEP]Candidate must possess at least Diploma i...</td>\n",
              "      <td>11 hari</td>\n",
              "      <td>Pendidikan</td>\n",
              "      <td>51 - 200 pekerja</td>\n",
              "      <td>SABTU-KAMIS</td>\n",
              "      <td>Formil (contoh: Kemeja + Dasi)</td>\n",
              "      <td>Kesehatan</td>\n",
              "      <td>Bahasa Indonesia</td>\n",
              "    </tr>\n",
              "    <tr>\n",
              "      <th>4</th>\n",
              "      <td>jobstreet</td>\n",
              "      <td>Field Collection (JS - FC) Pati</td>\n",
              "      <td>OTO Group</td>\n",
              "      <td>0</td>\n",
              "      <td>Indonesia - Jawa Tengah - Pati</td>\n",
              "      <td>[SEP]Lingkup pekerjaan: [SEP]Menjaga account d...</td>\n",
              "      <td>Lebih dari 2 minggu</td>\n",
              "      <td>Perbankan/Pelayanan Keuangan</td>\n",
              "      <td>Lebih dari 5000 pekerja</td>\n",
              "      <td>Waktu regular, Senin - Jumat</td>\n",
              "      <td>Bisnis (contoh: Kemeja)</td>\n",
              "      <td>Kesehatan, Gigi, bonus tahunan</td>\n",
              "      <td>Bahasa Indonesia</td>\n",
              "    </tr>\n",
              "  </tbody>\n",
              "</table>\n",
              "</div>"
            ],
            "text/plain": [
              "    platform  ... work_environment_bahasa\n",
              "0  jobstreet  ...        Bahasa Indonesia\n",
              "1  jobstreet  ...                     NaN\n",
              "2  jobstreet  ...        Bahasa Indonesia\n",
              "3  jobstreet  ...        Bahasa Indonesia\n",
              "4  jobstreet  ...        Bahasa Indonesia\n",
              "\n",
              "[5 rows x 13 columns]"
            ]
          },
          "metadata": {
            "tags": []
          },
          "execution_count": 18
        }
      ]
    },
    {
      "cell_type": "markdown",
      "metadata": {
        "id": "q7caQhnpcHER"
      },
      "source": [
        "Dibuat categorical,\n",
        "- 0 to 4 \n",
        "- 5 to 9\n",
        "- 10 to 14\n",
        "- 15 to 19\n",
        "- 20 to 24\n",
        "- more than 24"
      ]
    },
    {
      "cell_type": "code",
      "metadata": {
        "id": "qfuaJuKPcFfq",
        "outputId": "e8c708e5-2f8e-4f94-fc5b-e4885b27f1d3",
        "colab": {
          "base_uri": "https://localhost:8080/",
          "height": 134
        }
      },
      "source": [
        "temp = data['years_of_experience'].copy()\n",
        "\n",
        "for i in range(len(temp)):\n",
        "    if temp[i] == 'tidak dicantumkan':\n",
        "        continue\n",
        "\n",
        "    year = temp[i]\n",
        "    if year >= 0 and year <= 4:\n",
        "        temp[i] = '0 - 4 tahun'\n",
        "    elif year >= 5 and year <= 9:\n",
        "        temp[i] = '5 - 9 tahun'\n",
        "    elif year >= 10 and year <= 14:\n",
        "        temp[i] = '10 - 14 tahun'\n",
        "    elif year >= 15 and year <= 19:\n",
        "        temp[i] = '15 - 19 tahun'\n",
        "    elif year >= 20 and year <=24:\n",
        "        temp[i] = '20 - 24 tahun'\n",
        "    else:\n",
        "        temp[i] = '> 24 tahun'\n",
        "\n",
        "temp.value_counts()"
      ],
      "execution_count": null,
      "outputs": [
        {
          "output_type": "execute_result",
          "data": {
            "text/plain": [
              "0 - 4 tahun          11614\n",
              "5 - 9 tahun           2059\n",
              "10 - 14 tahun          298\n",
              "15 - 19 tahun           69\n",
              "tidak dicantumkan       15\n",
              "20 - 24 tahun            4\n",
              "Name: years_of_experience, dtype: int64"
            ]
          },
          "metadata": {
            "tags": []
          },
          "execution_count": 19
        }
      ]
    },
    {
      "cell_type": "code",
      "metadata": {
        "id": "N3rsI-Cg8Hyy",
        "outputId": "2c653c44-c712-4164-99d3-4c129a166c06",
        "colab": {
          "base_uri": "https://localhost:8080/",
          "height": 34
        }
      },
      "source": [
        "# input data category years of experience into new column\n",
        "data['years_of_experience_cat'] = temp\n",
        "data['years_of_experience_cat'].isnull().sum()"
      ],
      "execution_count": null,
      "outputs": [
        {
          "output_type": "execute_result",
          "data": {
            "text/plain": [
              "0"
            ]
          },
          "metadata": {
            "tags": []
          },
          "execution_count": 20
        }
      ]
    },
    {
      "cell_type": "code",
      "metadata": {
        "id": "VFWdvy5TqJdf",
        "outputId": "1c52b8f7-4ff2-45fc-a529-ce00dff9837b",
        "colab": {
          "base_uri": "https://localhost:8080/",
          "height": 434
        }
      },
      "source": [
        "data.head()"
      ],
      "execution_count": null,
      "outputs": [
        {
          "output_type": "execute_result",
          "data": {
            "text/html": [
              "<div>\n",
              "<style scoped>\n",
              "    .dataframe tbody tr th:only-of-type {\n",
              "        vertical-align: middle;\n",
              "    }\n",
              "\n",
              "    .dataframe tbody tr th {\n",
              "        vertical-align: top;\n",
              "    }\n",
              "\n",
              "    .dataframe thead th {\n",
              "        text-align: right;\n",
              "    }\n",
              "</style>\n",
              "<table border=\"1\" class=\"dataframe\">\n",
              "  <thead>\n",
              "    <tr style=\"text-align: right;\">\n",
              "      <th></th>\n",
              "      <th>platform</th>\n",
              "      <th>job_position</th>\n",
              "      <th>company_name</th>\n",
              "      <th>years_of_experience</th>\n",
              "      <th>company_location</th>\n",
              "      <th>job_description</th>\n",
              "      <th>average_processing_time</th>\n",
              "      <th>company_industry</th>\n",
              "      <th>company_size</th>\n",
              "      <th>work_environment_waktu_bekerja</th>\n",
              "      <th>work_environment_gaya_berpakaian</th>\n",
              "      <th>work_environment_tunjangan</th>\n",
              "      <th>work_environment_bahasa</th>\n",
              "      <th>years_of_experience_cat</th>\n",
              "    </tr>\n",
              "  </thead>\n",
              "  <tbody>\n",
              "    <tr>\n",
              "      <th>0</th>\n",
              "      <td>jobstreet</td>\n",
              "      <td>SPV FINANCE</td>\n",
              "      <td>PT Axindo Infotama</td>\n",
              "      <td>3</td>\n",
              "      <td>Indonesia - Jakarta Raya - Jakarta Pusat - Ruk...</td>\n",
              "      <td>[SEP][SEP]Usia Max. 35 tahun[SEP]Pendidikan Mi...</td>\n",
              "      <td>6 hari</td>\n",
              "      <td>Retail/Merchandise</td>\n",
              "      <td>51 - 200 pekerja</td>\n",
              "      <td>Sabtu atau memerlukan shift</td>\n",
              "      <td>Formil (contoh: Kemeja + Dasi)</td>\n",
              "      <td>Kesehatan, Parkir</td>\n",
              "      <td>Bahasa Indonesia</td>\n",
              "      <td>0 - 4 tahun</td>\n",
              "    </tr>\n",
              "    <tr>\n",
              "      <th>1</th>\n",
              "      <td>jobstreet</td>\n",
              "      <td>Qualitative Research Executive</td>\n",
              "      <td>Perusahaan Dirahasiakan</td>\n",
              "      <td>3</td>\n",
              "      <td>Indonesia - Jakarta Raya</td>\n",
              "      <td>RESPONSIBILITIES:[SEP]Brief Description of Dut...</td>\n",
              "      <td>NaN</td>\n",
              "      <td>NaN</td>\n",
              "      <td>NaN</td>\n",
              "      <td>NaN</td>\n",
              "      <td>NaN</td>\n",
              "      <td>NaN</td>\n",
              "      <td>NaN</td>\n",
              "      <td>0 - 4 tahun</td>\n",
              "    </tr>\n",
              "    <tr>\n",
              "      <th>2</th>\n",
              "      <td>jobstreet</td>\n",
              "      <td>Field Collection (JS - FC) Wonogiri</td>\n",
              "      <td>OTO Group</td>\n",
              "      <td>0</td>\n",
              "      <td>Indonesia - Jawa Tengah - Wonogiri Wonogoro - ...</td>\n",
              "      <td>[SEP]Lingkup pekerjaan: [SEP]Menjaga account d...</td>\n",
              "      <td>Lebih dari 2 minggu</td>\n",
              "      <td>Perbankan/Pelayanan Keuangan</td>\n",
              "      <td>Lebih dari 5000 pekerja</td>\n",
              "      <td>Waktu regular, Senin - Jumat</td>\n",
              "      <td>Bisnis (contoh: Kemeja)</td>\n",
              "      <td>Kesehatan, Gigi, bonus tahunan</td>\n",
              "      <td>Bahasa Indonesia</td>\n",
              "      <td>0 - 4 tahun</td>\n",
              "    </tr>\n",
              "    <tr>\n",
              "      <th>3</th>\n",
              "      <td>jobstreet</td>\n",
              "      <td>Perawat di Negara Jerman</td>\n",
              "      <td>PT Jerman Manajemen</td>\n",
              "      <td>1</td>\n",
              "      <td>Indonesia - Jakarta Raya</td>\n",
              "      <td>[SEP]Candidate must possess at least Diploma i...</td>\n",
              "      <td>11 hari</td>\n",
              "      <td>Pendidikan</td>\n",
              "      <td>51 - 200 pekerja</td>\n",
              "      <td>SABTU-KAMIS</td>\n",
              "      <td>Formil (contoh: Kemeja + Dasi)</td>\n",
              "      <td>Kesehatan</td>\n",
              "      <td>Bahasa Indonesia</td>\n",
              "      <td>0 - 4 tahun</td>\n",
              "    </tr>\n",
              "    <tr>\n",
              "      <th>4</th>\n",
              "      <td>jobstreet</td>\n",
              "      <td>Field Collection (JS - FC) Pati</td>\n",
              "      <td>OTO Group</td>\n",
              "      <td>0</td>\n",
              "      <td>Indonesia - Jawa Tengah - Pati</td>\n",
              "      <td>[SEP]Lingkup pekerjaan: [SEP]Menjaga account d...</td>\n",
              "      <td>Lebih dari 2 minggu</td>\n",
              "      <td>Perbankan/Pelayanan Keuangan</td>\n",
              "      <td>Lebih dari 5000 pekerja</td>\n",
              "      <td>Waktu regular, Senin - Jumat</td>\n",
              "      <td>Bisnis (contoh: Kemeja)</td>\n",
              "      <td>Kesehatan, Gigi, bonus tahunan</td>\n",
              "      <td>Bahasa Indonesia</td>\n",
              "      <td>0 - 4 tahun</td>\n",
              "    </tr>\n",
              "  </tbody>\n",
              "</table>\n",
              "</div>"
            ],
            "text/plain": [
              "    platform  ... years_of_experience_cat\n",
              "0  jobstreet  ...             0 - 4 tahun\n",
              "1  jobstreet  ...             0 - 4 tahun\n",
              "2  jobstreet  ...             0 - 4 tahun\n",
              "3  jobstreet  ...             0 - 4 tahun\n",
              "4  jobstreet  ...             0 - 4 tahun\n",
              "\n",
              "[5 rows x 14 columns]"
            ]
          },
          "metadata": {
            "tags": []
          },
          "execution_count": 21
        }
      ]
    },
    {
      "cell_type": "markdown",
      "metadata": {
        "id": "72Ui8VvP8T4L"
      },
      "source": [
        "### average_processing_time"
      ]
    },
    {
      "cell_type": "code",
      "metadata": {
        "id": "qXyWzNbw8V5L",
        "outputId": "dd8abd69-1214-4c76-8a47-50b291714c92",
        "colab": {
          "base_uri": "https://localhost:8080/",
          "height": 286
        }
      },
      "source": [
        "# convert to lower case dan fillna dengan string 'tidak tersedia'\n",
        "avp = data['average_processing_time'].str.lower().fillna('tidak tersedia')\n",
        "\n",
        "avp.value_counts()"
      ],
      "execution_count": null,
      "outputs": [
        {
          "output_type": "execute_result",
          "data": {
            "text/plain": [
              "lebih dari 2 minggu    10031\n",
              "tidak tersedia           963\n",
              "1 hari                   715\n",
              "2 hari                   277\n",
              "6 hari                   249\n",
              "11 hari                  213\n",
              "3 hari                   213\n",
              "10 hari                  201\n",
              "4 hari                   194\n",
              "12 hari                  188\n",
              "5 hari                   188\n",
              "13 hari                  177\n",
              "8 hari                   173\n",
              "9 hari                   144\n",
              "7 hari                   133\n",
              "Name: average_processing_time, dtype: int64"
            ]
          },
          "metadata": {
            "tags": []
          },
          "execution_count": 22
        }
      ]
    },
    {
      "cell_type": "code",
      "metadata": {
        "id": "gmNt6f4ignrM",
        "outputId": "1bce3b1a-1c74-4543-e622-f97f238928a6",
        "colab": {
          "base_uri": "https://localhost:8080/",
          "height": 286
        }
      },
      "source": [
        "# disamakan satuan menjadi hari\n",
        "temp = avp\n",
        "\n",
        "for i in range(len(temp)):\n",
        "    if temp[i] == 'tidak tersedia':\n",
        "        continue\n",
        "    \n",
        "    if temp[i] == 'lebih dari 2 minggu':\n",
        "        temp[i] = 14\n",
        "    else:\n",
        "        temp[i] = temp[i].split()[0]\n",
        "\n",
        "temp.value_counts()"
      ],
      "execution_count": null,
      "outputs": [
        {
          "output_type": "execute_result",
          "data": {
            "text/plain": [
              "14                10031\n",
              "tidak tersedia      963\n",
              "1                   715\n",
              "2                   277\n",
              "6                   249\n",
              "3                   213\n",
              "11                  213\n",
              "10                  201\n",
              "4                   194\n",
              "12                  188\n",
              "5                   188\n",
              "13                  177\n",
              "8                   173\n",
              "9                   144\n",
              "7                   133\n",
              "Name: average_processing_time, dtype: int64"
            ]
          },
          "metadata": {
            "tags": []
          },
          "execution_count": 23
        }
      ]
    },
    {
      "cell_type": "code",
      "metadata": {
        "id": "IopFgBRI8upL",
        "outputId": "be727d4d-4834-4aa6-fd24-a40186f0843c",
        "colab": {
          "base_uri": "https://localhost:8080/",
          "height": 34
        }
      },
      "source": [
        "# check null values\n",
        "data['average_processing_time'] = avp\n",
        "data['average_processing_time'].isnull().sum()"
      ],
      "execution_count": null,
      "outputs": [
        {
          "output_type": "execute_result",
          "data": {
            "text/plain": [
              "0"
            ]
          },
          "metadata": {
            "tags": []
          },
          "execution_count": 24
        }
      ]
    },
    {
      "cell_type": "code",
      "metadata": {
        "id": "43s_OnWXqvvq",
        "outputId": "5aadae42-8282-4fe8-8a53-ae57bd22bd04",
        "colab": {
          "base_uri": "https://localhost:8080/",
          "height": 434
        }
      },
      "source": [
        "data.head()"
      ],
      "execution_count": null,
      "outputs": [
        {
          "output_type": "execute_result",
          "data": {
            "text/html": [
              "<div>\n",
              "<style scoped>\n",
              "    .dataframe tbody tr th:only-of-type {\n",
              "        vertical-align: middle;\n",
              "    }\n",
              "\n",
              "    .dataframe tbody tr th {\n",
              "        vertical-align: top;\n",
              "    }\n",
              "\n",
              "    .dataframe thead th {\n",
              "        text-align: right;\n",
              "    }\n",
              "</style>\n",
              "<table border=\"1\" class=\"dataframe\">\n",
              "  <thead>\n",
              "    <tr style=\"text-align: right;\">\n",
              "      <th></th>\n",
              "      <th>platform</th>\n",
              "      <th>job_position</th>\n",
              "      <th>company_name</th>\n",
              "      <th>years_of_experience</th>\n",
              "      <th>company_location</th>\n",
              "      <th>job_description</th>\n",
              "      <th>average_processing_time</th>\n",
              "      <th>company_industry</th>\n",
              "      <th>company_size</th>\n",
              "      <th>work_environment_waktu_bekerja</th>\n",
              "      <th>work_environment_gaya_berpakaian</th>\n",
              "      <th>work_environment_tunjangan</th>\n",
              "      <th>work_environment_bahasa</th>\n",
              "      <th>years_of_experience_cat</th>\n",
              "    </tr>\n",
              "  </thead>\n",
              "  <tbody>\n",
              "    <tr>\n",
              "      <th>0</th>\n",
              "      <td>jobstreet</td>\n",
              "      <td>SPV FINANCE</td>\n",
              "      <td>PT Axindo Infotama</td>\n",
              "      <td>3</td>\n",
              "      <td>Indonesia - Jakarta Raya - Jakarta Pusat - Ruk...</td>\n",
              "      <td>[SEP][SEP]Usia Max. 35 tahun[SEP]Pendidikan Mi...</td>\n",
              "      <td>6</td>\n",
              "      <td>Retail/Merchandise</td>\n",
              "      <td>51 - 200 pekerja</td>\n",
              "      <td>Sabtu atau memerlukan shift</td>\n",
              "      <td>Formil (contoh: Kemeja + Dasi)</td>\n",
              "      <td>Kesehatan, Parkir</td>\n",
              "      <td>Bahasa Indonesia</td>\n",
              "      <td>0 - 4 tahun</td>\n",
              "    </tr>\n",
              "    <tr>\n",
              "      <th>1</th>\n",
              "      <td>jobstreet</td>\n",
              "      <td>Qualitative Research Executive</td>\n",
              "      <td>Perusahaan Dirahasiakan</td>\n",
              "      <td>3</td>\n",
              "      <td>Indonesia - Jakarta Raya</td>\n",
              "      <td>RESPONSIBILITIES:[SEP]Brief Description of Dut...</td>\n",
              "      <td>tidak tersedia</td>\n",
              "      <td>NaN</td>\n",
              "      <td>NaN</td>\n",
              "      <td>NaN</td>\n",
              "      <td>NaN</td>\n",
              "      <td>NaN</td>\n",
              "      <td>NaN</td>\n",
              "      <td>0 - 4 tahun</td>\n",
              "    </tr>\n",
              "    <tr>\n",
              "      <th>2</th>\n",
              "      <td>jobstreet</td>\n",
              "      <td>Field Collection (JS - FC) Wonogiri</td>\n",
              "      <td>OTO Group</td>\n",
              "      <td>0</td>\n",
              "      <td>Indonesia - Jawa Tengah - Wonogiri Wonogoro - ...</td>\n",
              "      <td>[SEP]Lingkup pekerjaan: [SEP]Menjaga account d...</td>\n",
              "      <td>14</td>\n",
              "      <td>Perbankan/Pelayanan Keuangan</td>\n",
              "      <td>Lebih dari 5000 pekerja</td>\n",
              "      <td>Waktu regular, Senin - Jumat</td>\n",
              "      <td>Bisnis (contoh: Kemeja)</td>\n",
              "      <td>Kesehatan, Gigi, bonus tahunan</td>\n",
              "      <td>Bahasa Indonesia</td>\n",
              "      <td>0 - 4 tahun</td>\n",
              "    </tr>\n",
              "    <tr>\n",
              "      <th>3</th>\n",
              "      <td>jobstreet</td>\n",
              "      <td>Perawat di Negara Jerman</td>\n",
              "      <td>PT Jerman Manajemen</td>\n",
              "      <td>1</td>\n",
              "      <td>Indonesia - Jakarta Raya</td>\n",
              "      <td>[SEP]Candidate must possess at least Diploma i...</td>\n",
              "      <td>11</td>\n",
              "      <td>Pendidikan</td>\n",
              "      <td>51 - 200 pekerja</td>\n",
              "      <td>SABTU-KAMIS</td>\n",
              "      <td>Formil (contoh: Kemeja + Dasi)</td>\n",
              "      <td>Kesehatan</td>\n",
              "      <td>Bahasa Indonesia</td>\n",
              "      <td>0 - 4 tahun</td>\n",
              "    </tr>\n",
              "    <tr>\n",
              "      <th>4</th>\n",
              "      <td>jobstreet</td>\n",
              "      <td>Field Collection (JS - FC) Pati</td>\n",
              "      <td>OTO Group</td>\n",
              "      <td>0</td>\n",
              "      <td>Indonesia - Jawa Tengah - Pati</td>\n",
              "      <td>[SEP]Lingkup pekerjaan: [SEP]Menjaga account d...</td>\n",
              "      <td>14</td>\n",
              "      <td>Perbankan/Pelayanan Keuangan</td>\n",
              "      <td>Lebih dari 5000 pekerja</td>\n",
              "      <td>Waktu regular, Senin - Jumat</td>\n",
              "      <td>Bisnis (contoh: Kemeja)</td>\n",
              "      <td>Kesehatan, Gigi, bonus tahunan</td>\n",
              "      <td>Bahasa Indonesia</td>\n",
              "      <td>0 - 4 tahun</td>\n",
              "    </tr>\n",
              "  </tbody>\n",
              "</table>\n",
              "</div>"
            ],
            "text/plain": [
              "    platform  ... years_of_experience_cat\n",
              "0  jobstreet  ...             0 - 4 tahun\n",
              "1  jobstreet  ...             0 - 4 tahun\n",
              "2  jobstreet  ...             0 - 4 tahun\n",
              "3  jobstreet  ...             0 - 4 tahun\n",
              "4  jobstreet  ...             0 - 4 tahun\n",
              "\n",
              "[5 rows x 14 columns]"
            ]
          },
          "metadata": {
            "tags": []
          },
          "execution_count": 25
        }
      ]
    },
    {
      "cell_type": "markdown",
      "metadata": {
        "id": "UJIK7YT281BD"
      },
      "source": [
        "### company_industry"
      ]
    },
    {
      "cell_type": "code",
      "metadata": {
        "id": "3A6iYitS86le",
        "outputId": "16517af0-479d-4fc4-83c9-9cf09ab00deb",
        "colab": {
          "base_uri": "https://localhost:8080/",
          "height": 1000
        }
      },
      "source": [
        "# convert to lower case dan fillna dengan string 'tidak tersedia'\n",
        "ci = data['company_industry'].fillna('tidak tersedia')\n",
        "\n",
        "ci.value_counts()"
      ],
      "execution_count": null,
      "outputs": [
        {
          "output_type": "execute_result",
          "data": {
            "text/plain": [
              "Manufaktur/Produksi                                     1697\n",
              "Perbankan/Pelayanan Keuangan                             882\n",
              "Komputer/Teknik Informatika (Perangkat Lunak)            723\n",
              "Umum & Grosir                                            700\n",
              "Retail/Merchandise                                       684\n",
              "Produk Konsumen/Barang konsumen yang bergerak cepat      617\n",
              "Manajemen/Konsulting HR                                  613\n",
              "tidak tersedia                                           545\n",
              "Transportasi/Logistik                                    532\n",
              "Properti/Real Estate                                     513\n",
              "Makanan & Minuman/Katering/Restoran                      482\n",
              "Konstruksi/Bangunan/Teknik                               482\n",
              "Kesehatan/Medis                                          475\n",
              "Agrikultural/Perkebunan/Peternakan Unggas/Perikanan      397\n",
              "Konsultasi (IT, Ilmu Pengetahuan, Teknis & Teknikal)     377\n",
              "Asuransi                                                 357\n",
              "Telekomunikasi                                           290\n",
              "Elektrikal & Elektronik                                  288\n",
              "Lainnya                                                  283\n",
              "Konsultasi (Bisnis & Manajemen)                          282\n",
              "Pendidikan                                               281\n",
              "Industri Berat/Mesin/Peralatan                           213\n",
              "Automobil/Mesin Tambahan Automotif/Kendaraan             211\n",
              "BioTeknologi/Farmasi/Riset klinik                        204\n",
              "Tekstil/Garment                                          139\n",
              "Periklanan/Marketing/Promosi/Hubungan Masyarakat         129\n",
              "Minyak/Gas/Petroleum                                     128\n",
              "Pertambangan                                             124\n",
              "Perawatan/Kecantikan/Fitnes                              121\n",
              "Bahan Kimia/Pupuk/Pestisida                              120\n",
              "Komputer/Teknik Informatika (Perangkat Keras)            119\n",
              "Hiburan/Media                                            117\n",
              "Pelayanan Arsitek/Desain Interior                        107\n",
              "Akuntansi/Audit/Pelayanan Pajak                           98\n",
              "Percetakan/Penerbitan                                     95\n",
              "Hotel/Pariwisata                                          63\n",
              "Polymer/Plastik/Karet/Ban                                 51\n",
              "Call Center/IT-Enabled Services/BPO                       47\n",
              "Seni/Desain/Fashion                                       46\n",
              "Organisasi Nirlaba/Pelayanan Sosial/LSM                   46\n",
              "Jurnalisme                                                40\n",
              "Layanan Umum/Tenaga Penggerak                             38\n",
              "Kayu/Fiber/Kertas                                         36\n",
              "Pakaian                                                   33\n",
              "Travel/Pariwisata                                         27\n",
              "Jual Beli Saham/Sekuritas                                 27\n",
              "Lingkungan/Kesehatan/Keamanan                             23\n",
              "Pameran/Manajemen acara/PIKP                              23\n",
              "Permata/Perhiasan                                         22\n",
              "Pelayanan Perbaikan & Pemeliharaan                        21\n",
              "Hukum/Legal                                               19\n",
              "Keamanan/Penegak hukum                                    18\n",
              "Kelautan/Aquakultur                                       17\n",
              "Ilmu Pengetahuan & Teknologi                              11\n",
              "Olahraga                                                   8\n",
              "Tembakau                                                   7\n",
              "Luar Angkasa/Aviasi/Pesawat Terbang                        6\n",
              "Pemerintahan/Pertahanan                                    4\n",
              "Semikonduktor/Fabrikasi                                    1\n",
              "Name: company_industry, dtype: int64"
            ]
          },
          "metadata": {
            "tags": []
          },
          "execution_count": 26
        }
      ]
    },
    {
      "cell_type": "code",
      "metadata": {
        "id": "XGITrAov9L4T",
        "outputId": "8af4815e-848b-4d2b-b1e4-76c43a201e61",
        "colab": {
          "base_uri": "https://localhost:8080/",
          "height": 34
        }
      },
      "source": [
        "# check null values\n",
        "data['company_industry'] = ci\n",
        "data['company_industry'].isnull().sum()"
      ],
      "execution_count": null,
      "outputs": [
        {
          "output_type": "execute_result",
          "data": {
            "text/plain": [
              "0"
            ]
          },
          "metadata": {
            "tags": []
          },
          "execution_count": 27
        }
      ]
    },
    {
      "cell_type": "code",
      "metadata": {
        "id": "SicYg3FOq3h4",
        "outputId": "a891c348-002f-40a0-92e0-ed1e146748b5",
        "colab": {
          "base_uri": "https://localhost:8080/",
          "height": 434
        }
      },
      "source": [
        "data.head()"
      ],
      "execution_count": null,
      "outputs": [
        {
          "output_type": "execute_result",
          "data": {
            "text/html": [
              "<div>\n",
              "<style scoped>\n",
              "    .dataframe tbody tr th:only-of-type {\n",
              "        vertical-align: middle;\n",
              "    }\n",
              "\n",
              "    .dataframe tbody tr th {\n",
              "        vertical-align: top;\n",
              "    }\n",
              "\n",
              "    .dataframe thead th {\n",
              "        text-align: right;\n",
              "    }\n",
              "</style>\n",
              "<table border=\"1\" class=\"dataframe\">\n",
              "  <thead>\n",
              "    <tr style=\"text-align: right;\">\n",
              "      <th></th>\n",
              "      <th>platform</th>\n",
              "      <th>job_position</th>\n",
              "      <th>company_name</th>\n",
              "      <th>years_of_experience</th>\n",
              "      <th>company_location</th>\n",
              "      <th>job_description</th>\n",
              "      <th>average_processing_time</th>\n",
              "      <th>company_industry</th>\n",
              "      <th>company_size</th>\n",
              "      <th>work_environment_waktu_bekerja</th>\n",
              "      <th>work_environment_gaya_berpakaian</th>\n",
              "      <th>work_environment_tunjangan</th>\n",
              "      <th>work_environment_bahasa</th>\n",
              "      <th>years_of_experience_cat</th>\n",
              "    </tr>\n",
              "  </thead>\n",
              "  <tbody>\n",
              "    <tr>\n",
              "      <th>0</th>\n",
              "      <td>jobstreet</td>\n",
              "      <td>SPV FINANCE</td>\n",
              "      <td>PT Axindo Infotama</td>\n",
              "      <td>3</td>\n",
              "      <td>Indonesia - Jakarta Raya - Jakarta Pusat - Ruk...</td>\n",
              "      <td>[SEP][SEP]Usia Max. 35 tahun[SEP]Pendidikan Mi...</td>\n",
              "      <td>6</td>\n",
              "      <td>Retail/Merchandise</td>\n",
              "      <td>51 - 200 pekerja</td>\n",
              "      <td>Sabtu atau memerlukan shift</td>\n",
              "      <td>Formil (contoh: Kemeja + Dasi)</td>\n",
              "      <td>Kesehatan, Parkir</td>\n",
              "      <td>Bahasa Indonesia</td>\n",
              "      <td>0 - 4 tahun</td>\n",
              "    </tr>\n",
              "    <tr>\n",
              "      <th>1</th>\n",
              "      <td>jobstreet</td>\n",
              "      <td>Qualitative Research Executive</td>\n",
              "      <td>Perusahaan Dirahasiakan</td>\n",
              "      <td>3</td>\n",
              "      <td>Indonesia - Jakarta Raya</td>\n",
              "      <td>RESPONSIBILITIES:[SEP]Brief Description of Dut...</td>\n",
              "      <td>tidak tersedia</td>\n",
              "      <td>tidak tersedia</td>\n",
              "      <td>NaN</td>\n",
              "      <td>NaN</td>\n",
              "      <td>NaN</td>\n",
              "      <td>NaN</td>\n",
              "      <td>NaN</td>\n",
              "      <td>0 - 4 tahun</td>\n",
              "    </tr>\n",
              "    <tr>\n",
              "      <th>2</th>\n",
              "      <td>jobstreet</td>\n",
              "      <td>Field Collection (JS - FC) Wonogiri</td>\n",
              "      <td>OTO Group</td>\n",
              "      <td>0</td>\n",
              "      <td>Indonesia - Jawa Tengah - Wonogiri Wonogoro - ...</td>\n",
              "      <td>[SEP]Lingkup pekerjaan: [SEP]Menjaga account d...</td>\n",
              "      <td>14</td>\n",
              "      <td>Perbankan/Pelayanan Keuangan</td>\n",
              "      <td>Lebih dari 5000 pekerja</td>\n",
              "      <td>Waktu regular, Senin - Jumat</td>\n",
              "      <td>Bisnis (contoh: Kemeja)</td>\n",
              "      <td>Kesehatan, Gigi, bonus tahunan</td>\n",
              "      <td>Bahasa Indonesia</td>\n",
              "      <td>0 - 4 tahun</td>\n",
              "    </tr>\n",
              "    <tr>\n",
              "      <th>3</th>\n",
              "      <td>jobstreet</td>\n",
              "      <td>Perawat di Negara Jerman</td>\n",
              "      <td>PT Jerman Manajemen</td>\n",
              "      <td>1</td>\n",
              "      <td>Indonesia - Jakarta Raya</td>\n",
              "      <td>[SEP]Candidate must possess at least Diploma i...</td>\n",
              "      <td>11</td>\n",
              "      <td>Pendidikan</td>\n",
              "      <td>51 - 200 pekerja</td>\n",
              "      <td>SABTU-KAMIS</td>\n",
              "      <td>Formil (contoh: Kemeja + Dasi)</td>\n",
              "      <td>Kesehatan</td>\n",
              "      <td>Bahasa Indonesia</td>\n",
              "      <td>0 - 4 tahun</td>\n",
              "    </tr>\n",
              "    <tr>\n",
              "      <th>4</th>\n",
              "      <td>jobstreet</td>\n",
              "      <td>Field Collection (JS - FC) Pati</td>\n",
              "      <td>OTO Group</td>\n",
              "      <td>0</td>\n",
              "      <td>Indonesia - Jawa Tengah - Pati</td>\n",
              "      <td>[SEP]Lingkup pekerjaan: [SEP]Menjaga account d...</td>\n",
              "      <td>14</td>\n",
              "      <td>Perbankan/Pelayanan Keuangan</td>\n",
              "      <td>Lebih dari 5000 pekerja</td>\n",
              "      <td>Waktu regular, Senin - Jumat</td>\n",
              "      <td>Bisnis (contoh: Kemeja)</td>\n",
              "      <td>Kesehatan, Gigi, bonus tahunan</td>\n",
              "      <td>Bahasa Indonesia</td>\n",
              "      <td>0 - 4 tahun</td>\n",
              "    </tr>\n",
              "  </tbody>\n",
              "</table>\n",
              "</div>"
            ],
            "text/plain": [
              "    platform  ... years_of_experience_cat\n",
              "0  jobstreet  ...             0 - 4 tahun\n",
              "1  jobstreet  ...             0 - 4 tahun\n",
              "2  jobstreet  ...             0 - 4 tahun\n",
              "3  jobstreet  ...             0 - 4 tahun\n",
              "4  jobstreet  ...             0 - 4 tahun\n",
              "\n",
              "[5 rows x 14 columns]"
            ]
          },
          "metadata": {
            "tags": []
          },
          "execution_count": 28
        }
      ]
    },
    {
      "cell_type": "markdown",
      "metadata": {
        "id": "jb88JPTM9Y1j"
      },
      "source": [
        "### company_size"
      ]
    },
    {
      "cell_type": "code",
      "metadata": {
        "id": "SHVtO3mU9vTe",
        "outputId": "d30bb5ff-527e-4681-fee5-754515889fea",
        "colab": {
          "base_uri": "https://localhost:8080/",
          "height": 168
        }
      },
      "source": [
        "# convert to lower case dan fillna dengan string 'tidak spesifik'\n",
        "cs = data['company_size'].str.lower().fillna('tidak spesifik')\n",
        "\n",
        "cs.value_counts()"
      ],
      "execution_count": null,
      "outputs": [
        {
          "output_type": "execute_result",
          "data": {
            "text/plain": [
              "51 - 200 pekerja           3555\n",
              "1- 50 pekerja              2731\n",
              "201 - 500 pekerja          2149\n",
              "501 - 1000 pekerja         1501\n",
              "1001 - 2000 pekerja        1227\n",
              "lebih dari 5000 pekerja    1157\n",
              "2001 - 5000 pekerja         944\n",
              "tidak spesifik              795\n",
              "Name: company_size, dtype: int64"
            ]
          },
          "metadata": {
            "tags": []
          },
          "execution_count": 29
        }
      ]
    },
    {
      "cell_type": "code",
      "metadata": {
        "id": "A8-YK7RU957z",
        "outputId": "3a94be28-6396-48f9-e823-b2c1e42706f9",
        "colab": {
          "base_uri": "https://localhost:8080/",
          "height": 34
        }
      },
      "source": [
        "# check null values\n",
        "data['company_size'] = cs\n",
        "data['company_size'].isnull().sum()"
      ],
      "execution_count": null,
      "outputs": [
        {
          "output_type": "execute_result",
          "data": {
            "text/plain": [
              "0"
            ]
          },
          "metadata": {
            "tags": []
          },
          "execution_count": 30
        }
      ]
    },
    {
      "cell_type": "code",
      "metadata": {
        "id": "w92tmoJNq-Mc",
        "outputId": "0d2e199b-4931-46bf-d3ad-add4a6193a4f",
        "colab": {
          "base_uri": "https://localhost:8080/",
          "height": 434
        }
      },
      "source": [
        "data.head()"
      ],
      "execution_count": null,
      "outputs": [
        {
          "output_type": "execute_result",
          "data": {
            "text/html": [
              "<div>\n",
              "<style scoped>\n",
              "    .dataframe tbody tr th:only-of-type {\n",
              "        vertical-align: middle;\n",
              "    }\n",
              "\n",
              "    .dataframe tbody tr th {\n",
              "        vertical-align: top;\n",
              "    }\n",
              "\n",
              "    .dataframe thead th {\n",
              "        text-align: right;\n",
              "    }\n",
              "</style>\n",
              "<table border=\"1\" class=\"dataframe\">\n",
              "  <thead>\n",
              "    <tr style=\"text-align: right;\">\n",
              "      <th></th>\n",
              "      <th>platform</th>\n",
              "      <th>job_position</th>\n",
              "      <th>company_name</th>\n",
              "      <th>years_of_experience</th>\n",
              "      <th>company_location</th>\n",
              "      <th>job_description</th>\n",
              "      <th>average_processing_time</th>\n",
              "      <th>company_industry</th>\n",
              "      <th>company_size</th>\n",
              "      <th>work_environment_waktu_bekerja</th>\n",
              "      <th>work_environment_gaya_berpakaian</th>\n",
              "      <th>work_environment_tunjangan</th>\n",
              "      <th>work_environment_bahasa</th>\n",
              "      <th>years_of_experience_cat</th>\n",
              "    </tr>\n",
              "  </thead>\n",
              "  <tbody>\n",
              "    <tr>\n",
              "      <th>0</th>\n",
              "      <td>jobstreet</td>\n",
              "      <td>SPV FINANCE</td>\n",
              "      <td>PT Axindo Infotama</td>\n",
              "      <td>3</td>\n",
              "      <td>Indonesia - Jakarta Raya - Jakarta Pusat - Ruk...</td>\n",
              "      <td>[SEP][SEP]Usia Max. 35 tahun[SEP]Pendidikan Mi...</td>\n",
              "      <td>6</td>\n",
              "      <td>Retail/Merchandise</td>\n",
              "      <td>51 - 200 pekerja</td>\n",
              "      <td>Sabtu atau memerlukan shift</td>\n",
              "      <td>Formil (contoh: Kemeja + Dasi)</td>\n",
              "      <td>Kesehatan, Parkir</td>\n",
              "      <td>Bahasa Indonesia</td>\n",
              "      <td>0 - 4 tahun</td>\n",
              "    </tr>\n",
              "    <tr>\n",
              "      <th>1</th>\n",
              "      <td>jobstreet</td>\n",
              "      <td>Qualitative Research Executive</td>\n",
              "      <td>Perusahaan Dirahasiakan</td>\n",
              "      <td>3</td>\n",
              "      <td>Indonesia - Jakarta Raya</td>\n",
              "      <td>RESPONSIBILITIES:[SEP]Brief Description of Dut...</td>\n",
              "      <td>tidak tersedia</td>\n",
              "      <td>tidak tersedia</td>\n",
              "      <td>tidak spesifik</td>\n",
              "      <td>NaN</td>\n",
              "      <td>NaN</td>\n",
              "      <td>NaN</td>\n",
              "      <td>NaN</td>\n",
              "      <td>0 - 4 tahun</td>\n",
              "    </tr>\n",
              "    <tr>\n",
              "      <th>2</th>\n",
              "      <td>jobstreet</td>\n",
              "      <td>Field Collection (JS - FC) Wonogiri</td>\n",
              "      <td>OTO Group</td>\n",
              "      <td>0</td>\n",
              "      <td>Indonesia - Jawa Tengah - Wonogiri Wonogoro - ...</td>\n",
              "      <td>[SEP]Lingkup pekerjaan: [SEP]Menjaga account d...</td>\n",
              "      <td>14</td>\n",
              "      <td>Perbankan/Pelayanan Keuangan</td>\n",
              "      <td>lebih dari 5000 pekerja</td>\n",
              "      <td>Waktu regular, Senin - Jumat</td>\n",
              "      <td>Bisnis (contoh: Kemeja)</td>\n",
              "      <td>Kesehatan, Gigi, bonus tahunan</td>\n",
              "      <td>Bahasa Indonesia</td>\n",
              "      <td>0 - 4 tahun</td>\n",
              "    </tr>\n",
              "    <tr>\n",
              "      <th>3</th>\n",
              "      <td>jobstreet</td>\n",
              "      <td>Perawat di Negara Jerman</td>\n",
              "      <td>PT Jerman Manajemen</td>\n",
              "      <td>1</td>\n",
              "      <td>Indonesia - Jakarta Raya</td>\n",
              "      <td>[SEP]Candidate must possess at least Diploma i...</td>\n",
              "      <td>11</td>\n",
              "      <td>Pendidikan</td>\n",
              "      <td>51 - 200 pekerja</td>\n",
              "      <td>SABTU-KAMIS</td>\n",
              "      <td>Formil (contoh: Kemeja + Dasi)</td>\n",
              "      <td>Kesehatan</td>\n",
              "      <td>Bahasa Indonesia</td>\n",
              "      <td>0 - 4 tahun</td>\n",
              "    </tr>\n",
              "    <tr>\n",
              "      <th>4</th>\n",
              "      <td>jobstreet</td>\n",
              "      <td>Field Collection (JS - FC) Pati</td>\n",
              "      <td>OTO Group</td>\n",
              "      <td>0</td>\n",
              "      <td>Indonesia - Jawa Tengah - Pati</td>\n",
              "      <td>[SEP]Lingkup pekerjaan: [SEP]Menjaga account d...</td>\n",
              "      <td>14</td>\n",
              "      <td>Perbankan/Pelayanan Keuangan</td>\n",
              "      <td>lebih dari 5000 pekerja</td>\n",
              "      <td>Waktu regular, Senin - Jumat</td>\n",
              "      <td>Bisnis (contoh: Kemeja)</td>\n",
              "      <td>Kesehatan, Gigi, bonus tahunan</td>\n",
              "      <td>Bahasa Indonesia</td>\n",
              "      <td>0 - 4 tahun</td>\n",
              "    </tr>\n",
              "  </tbody>\n",
              "</table>\n",
              "</div>"
            ],
            "text/plain": [
              "    platform  ... years_of_experience_cat\n",
              "0  jobstreet  ...             0 - 4 tahun\n",
              "1  jobstreet  ...             0 - 4 tahun\n",
              "2  jobstreet  ...             0 - 4 tahun\n",
              "3  jobstreet  ...             0 - 4 tahun\n",
              "4  jobstreet  ...             0 - 4 tahun\n",
              "\n",
              "[5 rows x 14 columns]"
            ]
          },
          "metadata": {
            "tags": []
          },
          "execution_count": 31
        }
      ]
    },
    {
      "cell_type": "markdown",
      "metadata": {
        "id": "2a7U6-L39a5t"
      },
      "source": [
        "### work_environment_waktu_bekerja\n",
        "dapat dikelompokkan\n",
        "- senin - jum'at\n",
        "- senin - sabtu\n",
        "- flexible\n",
        "- shift"
      ]
    },
    {
      "cell_type": "code",
      "metadata": {
        "id": "4KoANXiE-AGz",
        "outputId": "f3ec4be9-d5cd-491c-e5aa-87cec45dd86b",
        "colab": {
          "base_uri": "https://localhost:8080/",
          "height": 218
        }
      },
      "source": [
        "# convert to lower case dan fillna dengan string 'tidak tersedia'\n",
        "waktu_bekerja = data['work_environment_waktu_bekerja'].str.lower().fillna('tidak tersedia')\n",
        "\n",
        "waktu_bekerja.value_counts()"
      ],
      "execution_count": null,
      "outputs": [
        {
          "output_type": "execute_result",
          "data": {
            "text/plain": [
              "waktu regular, senin - jumat                                                      7952\n",
              "tidak tersedia                                                                    1615\n",
              "sabtu atau memerlukan shift                                                       1127\n",
              "senin - sabtu                                                                      353\n",
              "monday - saturday                                                                  268\n",
              "                                                                                  ... \n",
              "senin (08.00-16.30) sabtu (08.00-14.30). 2 shift jika diperlukan (13.30-22.00)       1\n",
              "monday to saturday (half-day)                                                        1\n",
              "hari senin - sabtu,                                                                  1\n",
              "work is our life                                                                     1\n",
              "shifting, 1 hari libur dalam satu minggu, dan libur pada public holiday              1\n",
              "Name: work_environment_waktu_bekerja, Length: 678, dtype: int64"
            ]
          },
          "metadata": {
            "tags": []
          },
          "execution_count": 32
        }
      ]
    },
    {
      "cell_type": "code",
      "metadata": {
        "id": "NYot3I7eNuRU",
        "outputId": "1a8f228c-7105-4caf-b458-3cb410d8ab01",
        "colab": {
          "base_uri": "https://localhost:8080/",
          "height": 235
        }
      },
      "source": [
        "c = pd.read_csv('/content/drive/My Drive/Data Loker/waktu_bekerja_manual_perbaikan.csv')\n",
        "c['work_environment_waktu_bekerja'].value_counts()"
      ],
      "execution_count": null,
      "outputs": [
        {
          "output_type": "execute_result",
          "data": {
            "text/plain": [
              "senin - jumat      8555\n",
              "senin - sabtu      2219\n",
              "tidak tersedia     1621\n",
              "sabtu              1132\n",
              "tidak spesifik      339\n",
              "shift                71\n",
              "fleksibel            56\n",
              "senin - minggu       34\n",
              "roster               25\n",
              "selasa - minggu       4\n",
              "minggu - jumat        2\n",
              "sabtu - kamis         1\n",
              "Name: work_environment_waktu_bekerja, dtype: int64"
            ]
          },
          "metadata": {
            "tags": []
          },
          "execution_count": 33
        }
      ]
    },
    {
      "cell_type": "markdown",
      "metadata": {
        "id": "zPc-W1jErImF"
      },
      "source": [
        "ganti roster -> shift"
      ]
    },
    {
      "cell_type": "code",
      "metadata": {
        "id": "Xuk1C-LfrLc_",
        "outputId": "a9f6661e-c9f2-47d8-8641-0bad7432c0be",
        "colab": {
          "base_uri": "https://localhost:8080/",
          "height": 218
        }
      },
      "source": [
        "c['work_environment_waktu_bekerja'] = c['work_environment_waktu_bekerja'].str.replace('roster', 'shift', regex=False)\n",
        "c['work_environment_waktu_bekerja'].value_counts()"
      ],
      "execution_count": null,
      "outputs": [
        {
          "output_type": "execute_result",
          "data": {
            "text/plain": [
              "senin - jumat      8555\n",
              "senin - sabtu      2219\n",
              "tidak tersedia     1621\n",
              "sabtu              1132\n",
              "tidak spesifik      339\n",
              "shift                96\n",
              "fleksibel            56\n",
              "senin - minggu       34\n",
              "selasa - minggu       4\n",
              "minggu - jumat        2\n",
              "sabtu - kamis         1\n",
              "Name: work_environment_waktu_bekerja, dtype: int64"
            ]
          },
          "metadata": {
            "tags": []
          },
          "execution_count": 34
        }
      ]
    },
    {
      "cell_type": "code",
      "metadata": {
        "id": "bBGFLXtl-Pn-",
        "outputId": "b7e2ebb1-a8ed-4f24-d173-5e60b6d3b78a",
        "colab": {
          "base_uri": "https://localhost:8080/",
          "height": 34
        }
      },
      "source": [
        "# check null values\n",
        "data['work_environment_waktu_bekerja'] = c['work_environment_waktu_bekerja']\n",
        "data['work_environment_waktu_bekerja'].isnull().sum()"
      ],
      "execution_count": null,
      "outputs": [
        {
          "output_type": "execute_result",
          "data": {
            "text/plain": [
              "0"
            ]
          },
          "metadata": {
            "tags": []
          },
          "execution_count": 35
        }
      ]
    },
    {
      "cell_type": "code",
      "metadata": {
        "id": "0g6szUyJrE6Y",
        "outputId": "17edc65c-3244-48cc-cec0-9e266599565c",
        "colab": {
          "base_uri": "https://localhost:8080/",
          "height": 434
        }
      },
      "source": [
        "data.head()"
      ],
      "execution_count": null,
      "outputs": [
        {
          "output_type": "execute_result",
          "data": {
            "text/html": [
              "<div>\n",
              "<style scoped>\n",
              "    .dataframe tbody tr th:only-of-type {\n",
              "        vertical-align: middle;\n",
              "    }\n",
              "\n",
              "    .dataframe tbody tr th {\n",
              "        vertical-align: top;\n",
              "    }\n",
              "\n",
              "    .dataframe thead th {\n",
              "        text-align: right;\n",
              "    }\n",
              "</style>\n",
              "<table border=\"1\" class=\"dataframe\">\n",
              "  <thead>\n",
              "    <tr style=\"text-align: right;\">\n",
              "      <th></th>\n",
              "      <th>platform</th>\n",
              "      <th>job_position</th>\n",
              "      <th>company_name</th>\n",
              "      <th>years_of_experience</th>\n",
              "      <th>company_location</th>\n",
              "      <th>job_description</th>\n",
              "      <th>average_processing_time</th>\n",
              "      <th>company_industry</th>\n",
              "      <th>company_size</th>\n",
              "      <th>work_environment_waktu_bekerja</th>\n",
              "      <th>work_environment_gaya_berpakaian</th>\n",
              "      <th>work_environment_tunjangan</th>\n",
              "      <th>work_environment_bahasa</th>\n",
              "      <th>years_of_experience_cat</th>\n",
              "    </tr>\n",
              "  </thead>\n",
              "  <tbody>\n",
              "    <tr>\n",
              "      <th>0</th>\n",
              "      <td>jobstreet</td>\n",
              "      <td>SPV FINANCE</td>\n",
              "      <td>PT Axindo Infotama</td>\n",
              "      <td>3</td>\n",
              "      <td>Indonesia - Jakarta Raya - Jakarta Pusat - Ruk...</td>\n",
              "      <td>[SEP][SEP]Usia Max. 35 tahun[SEP]Pendidikan Mi...</td>\n",
              "      <td>6</td>\n",
              "      <td>Retail/Merchandise</td>\n",
              "      <td>51 - 200 pekerja</td>\n",
              "      <td>sabtu</td>\n",
              "      <td>Formil (contoh: Kemeja + Dasi)</td>\n",
              "      <td>Kesehatan, Parkir</td>\n",
              "      <td>Bahasa Indonesia</td>\n",
              "      <td>0 - 4 tahun</td>\n",
              "    </tr>\n",
              "    <tr>\n",
              "      <th>1</th>\n",
              "      <td>jobstreet</td>\n",
              "      <td>Qualitative Research Executive</td>\n",
              "      <td>Perusahaan Dirahasiakan</td>\n",
              "      <td>3</td>\n",
              "      <td>Indonesia - Jakarta Raya</td>\n",
              "      <td>RESPONSIBILITIES:[SEP]Brief Description of Dut...</td>\n",
              "      <td>tidak tersedia</td>\n",
              "      <td>tidak tersedia</td>\n",
              "      <td>tidak spesifik</td>\n",
              "      <td>tidak tersedia</td>\n",
              "      <td>NaN</td>\n",
              "      <td>NaN</td>\n",
              "      <td>NaN</td>\n",
              "      <td>0 - 4 tahun</td>\n",
              "    </tr>\n",
              "    <tr>\n",
              "      <th>2</th>\n",
              "      <td>jobstreet</td>\n",
              "      <td>Field Collection (JS - FC) Wonogiri</td>\n",
              "      <td>OTO Group</td>\n",
              "      <td>0</td>\n",
              "      <td>Indonesia - Jawa Tengah - Wonogiri Wonogoro - ...</td>\n",
              "      <td>[SEP]Lingkup pekerjaan: [SEP]Menjaga account d...</td>\n",
              "      <td>14</td>\n",
              "      <td>Perbankan/Pelayanan Keuangan</td>\n",
              "      <td>lebih dari 5000 pekerja</td>\n",
              "      <td>senin - jumat</td>\n",
              "      <td>Bisnis (contoh: Kemeja)</td>\n",
              "      <td>Kesehatan, Gigi, bonus tahunan</td>\n",
              "      <td>Bahasa Indonesia</td>\n",
              "      <td>0 - 4 tahun</td>\n",
              "    </tr>\n",
              "    <tr>\n",
              "      <th>3</th>\n",
              "      <td>jobstreet</td>\n",
              "      <td>Perawat di Negara Jerman</td>\n",
              "      <td>PT Jerman Manajemen</td>\n",
              "      <td>1</td>\n",
              "      <td>Indonesia - Jakarta Raya</td>\n",
              "      <td>[SEP]Candidate must possess at least Diploma i...</td>\n",
              "      <td>11</td>\n",
              "      <td>Pendidikan</td>\n",
              "      <td>51 - 200 pekerja</td>\n",
              "      <td>sabtu - kamis</td>\n",
              "      <td>Formil (contoh: Kemeja + Dasi)</td>\n",
              "      <td>Kesehatan</td>\n",
              "      <td>Bahasa Indonesia</td>\n",
              "      <td>0 - 4 tahun</td>\n",
              "    </tr>\n",
              "    <tr>\n",
              "      <th>4</th>\n",
              "      <td>jobstreet</td>\n",
              "      <td>Field Collection (JS - FC) Pati</td>\n",
              "      <td>OTO Group</td>\n",
              "      <td>0</td>\n",
              "      <td>Indonesia - Jawa Tengah - Pati</td>\n",
              "      <td>[SEP]Lingkup pekerjaan: [SEP]Menjaga account d...</td>\n",
              "      <td>14</td>\n",
              "      <td>Perbankan/Pelayanan Keuangan</td>\n",
              "      <td>lebih dari 5000 pekerja</td>\n",
              "      <td>senin - jumat</td>\n",
              "      <td>Bisnis (contoh: Kemeja)</td>\n",
              "      <td>Kesehatan, Gigi, bonus tahunan</td>\n",
              "      <td>Bahasa Indonesia</td>\n",
              "      <td>0 - 4 tahun</td>\n",
              "    </tr>\n",
              "  </tbody>\n",
              "</table>\n",
              "</div>"
            ],
            "text/plain": [
              "    platform  ... years_of_experience_cat\n",
              "0  jobstreet  ...             0 - 4 tahun\n",
              "1  jobstreet  ...             0 - 4 tahun\n",
              "2  jobstreet  ...             0 - 4 tahun\n",
              "3  jobstreet  ...             0 - 4 tahun\n",
              "4  jobstreet  ...             0 - 4 tahun\n",
              "\n",
              "[5 rows x 14 columns]"
            ]
          },
          "metadata": {
            "tags": []
          },
          "execution_count": 36
        }
      ]
    },
    {
      "cell_type": "markdown",
      "metadata": {
        "id": "AQuiCkIy9pW_"
      },
      "source": [
        "### work_environment_gaya_berpakaian\n",
        "Dilakukan pengelompokkan\n",
        "- bisnis\n",
        "- kasual\n",
        "- kasual cerdas\n",
        "- kasual bisnis\n",
        "- formal\n",
        "- semi formal\n",
        "- seragam\n",
        "- seragam lapangan\n",
        "- modis\n",
        "- pakaian muslim\n",
        "- tidak spesifik\n",
        "- tidak tersedia"
      ]
    },
    {
      "cell_type": "code",
      "metadata": {
        "id": "cDA8PvTx-VX0",
        "outputId": "f18b29ae-38e1-4db4-9a60-15285964bed8",
        "colab": {
          "base_uri": "https://localhost:8080/",
          "height": 218
        }
      },
      "source": [
        "# convert to lower case dan fillna dengan string 'tidak tersedia'\n",
        "gaya_berpakaian = data['work_environment_gaya_berpakaian'].str.lower().fillna('tidak tersedia')\n",
        "\n",
        "gaya_berpakaian.value_counts()"
      ],
      "execution_count": null,
      "outputs": [
        {
          "output_type": "execute_result",
          "data": {
            "text/plain": [
              "bisnis (contoh: kemeja)           7001\n",
              "kasual (contoh: kaos)             2283\n",
              "tidak tersedia                    1704\n",
              "formil (contoh: kemeja + dasi)    1538\n",
              "uniform                            307\n",
              "                                  ... \n",
              "smart casual bussiness               1\n",
              "bebas, rapih dan sopan               1\n",
              "seragam standar perusahaan           1\n",
              "xlc uniform                          1\n",
              "official (formal)                    1\n",
              "Name: work_environment_gaya_berpakaian, Length: 269, dtype: int64"
            ]
          },
          "metadata": {
            "tags": []
          },
          "execution_count": 37
        }
      ]
    },
    {
      "cell_type": "code",
      "metadata": {
        "id": "KGrXxR8ugthb"
      },
      "source": [
        "# gaya_berpakaian.value_counts().to_csv('gaya_berpakaian_distinct.csv')\n",
        "# gaya_berpakaian.to_csv('gaya_berpakaian_kotor.csv')"
      ],
      "execution_count": null,
      "outputs": []
    },
    {
      "cell_type": "markdown",
      "metadata": {
        "id": "prWr1NYbn_9x"
      },
      "source": [
        "Dari data distinct menggunakan .value_counts(), dilakukan manual mapping pada google sheet."
      ]
    },
    {
      "cell_type": "code",
      "metadata": {
        "id": "BfNt_6XvTJmD"
      },
      "source": [
        "c = pd.read_csv(\"/content/drive/My Drive/Data Loker/gaya_berpakaian_mapper.csv\")\n",
        "\n",
        "# sorting multiple data\n",
        "for index, row in c.iterrows():\n",
        "    values = row['value'].split(',')\n",
        "    values = [data.strip() for data in values]\n",
        "    result = sorted(values)\n",
        "\n",
        "    # update\n",
        "    row['value'] = ', '.join(result).strip()\n",
        "\n",
        "# create dict for mapper\n",
        "pakaian_mapper = dict()\n",
        "for idx, row in c.iterrows():\n",
        "    pakaian_mapper[row['key']] = row['value']"
      ],
      "execution_count": null,
      "outputs": []
    },
    {
      "cell_type": "code",
      "metadata": {
        "id": "GCY84O1hgsts",
        "outputId": "b2d682d8-2432-446f-b34e-f4dc1f299024",
        "colab": {
          "base_uri": "https://localhost:8080/",
          "height": 554
        }
      },
      "source": [
        "temp = gaya_berpakaian.map(pakaian_mapper)\n",
        "temp.value_counts()"
      ],
      "execution_count": null,
      "outputs": [
        {
          "output_type": "execute_result",
          "data": {
            "text/plain": [
              "bisnis                              7087\n",
              "kasual                              2433\n",
              "tidak tersedia                      1712\n",
              "formal                              1664\n",
              "seragam                              579\n",
              "kasual cerdas                        159\n",
              "bisnis, seragam                       82\n",
              "kasual bisnis                         67\n",
              "formal, kasual                        55\n",
              "bisnis, kasual                        42\n",
              "kasual, seragam                       30\n",
              "formal, seragam                       20\n",
              "kasual formal                         19\n",
              "seragam lapangan                      18\n",
              "semi formal                           16\n",
              "kasual cerdas, seragam                12\n",
              "pakaian muslim                        12\n",
              "tidak spesifik                        12\n",
              "bisnis, formal, seragam lapangan      10\n",
              "bisnis, formal                        10\n",
              "formal, modis                          7\n",
              "kasual, kasual bisnis                  3\n",
              "bisnis, seragam lapangan               2\n",
              "bisnis, kasual, seragam                1\n",
              "kasual, semi formal                    1\n",
              "bisnis, kasual cerdas                  1\n",
              "bisnis, modis                          1\n",
              "kasual, modis                          1\n",
              "modis                                  1\n",
              "formal, seragam lapangan               1\n",
              "olahraga                               1\n",
              "Name: work_environment_gaya_berpakaian, dtype: int64"
            ]
          },
          "metadata": {
            "tags": []
          },
          "execution_count": 40
        }
      ]
    },
    {
      "cell_type": "markdown",
      "metadata": {
        "id": "aRyjmipSr84t"
      },
      "source": [
        "Lakukan replace:\n",
        "- kasual cerdas -> semi formal\n",
        "- kasual bisnis -> semi formal\n",
        "- seragam lapangan -> seragam\n",
        "- modis -> kasual\n",
        "- tidak tersedia -> tidak spesifik"
      ]
    },
    {
      "cell_type": "code",
      "metadata": {
        "id": "cM92yxcCuzPV"
      },
      "source": [
        "style_mapper = {'bisnis': 'bisnis',\n",
        "                'kasual': 'kasual',\n",
        "                'kasual cerdas': 'kasual',\n",
        "                'kasual bisnis': 'semi formal',\n",
        "                'formal': 'formal',\n",
        "                'semi formal': 'semi formal',\n",
        "                'kasual formal': 'semi formal',\n",
        "                'seragam': 'seragam',\n",
        "                'seragam lapangan': 'seragam',\n",
        "                'modis': 'kasual',\n",
        "                'pakaian muslim': 'pakaian muslim',\n",
        "                'olahraga': 'olahraga',\n",
        "                'tidak spesifik': 'tidak spesifik',\n",
        "                'tidak tersedia': 'tidak spesifik'}"
      ],
      "execution_count": null,
      "outputs": []
    },
    {
      "cell_type": "code",
      "metadata": {
        "id": "KHAtRgZkuaM4"
      },
      "source": [
        "# style mapping\n",
        "result = list()\n",
        "i = 0\n",
        "for style in temp:\n",
        "    split = [data.strip() for data in style.split(',')]\n",
        "    mapping = pd.Series(split).map(style_mapper).dropna().drop_duplicates()\n",
        "    join = ', '.join(list(mapping)).strip()\n",
        "\n",
        "    result.append(join)"
      ],
      "execution_count": null,
      "outputs": []
    },
    {
      "cell_type": "code",
      "metadata": {
        "id": "1cL5DYHas6im",
        "outputId": "a330e4c8-45f5-4595-81af-22d11fb175ed",
        "colab": {
          "base_uri": "https://localhost:8080/",
          "height": 319
        }
      },
      "source": [
        "pd.Series(result).value_counts()"
      ],
      "execution_count": null,
      "outputs": [
        {
          "output_type": "execute_result",
          "data": {
            "text/plain": [
              "bisnis                     7087\n",
              "kasual                     2594\n",
              "tidak spesifik             1724\n",
              "formal                     1664\n",
              "seragam                     597\n",
              "semi formal                 102\n",
              "bisnis, seragam              84\n",
              "formal, kasual               62\n",
              "bisnis, kasual               44\n",
              "kasual, seragam              42\n",
              "formal, seragam              21\n",
              "pakaian muslim               12\n",
              "bisnis, formal               10\n",
              "bisnis, formal, seragam      10\n",
              "kasual, semi formal           4\n",
              "bisnis, kasual, seragam       1\n",
              "olahraga                      1\n",
              "dtype: int64"
            ]
          },
          "metadata": {
            "tags": []
          },
          "execution_count": 43
        }
      ]
    },
    {
      "cell_type": "code",
      "metadata": {
        "id": "45WcuYWV1B-F",
        "outputId": "cd8a69e7-d811-4a19-b791-8d6ab3e6bd38",
        "colab": {
          "base_uri": "https://localhost:8080/",
          "height": 34
        }
      },
      "source": [
        "# check null values\n",
        "data['work_environment_gaya_berpakaian'] = result\n",
        "data['work_environment_gaya_berpakaian'].isnull().sum()"
      ],
      "execution_count": null,
      "outputs": [
        {
          "output_type": "execute_result",
          "data": {
            "text/plain": [
              "0"
            ]
          },
          "metadata": {
            "tags": []
          },
          "execution_count": 44
        }
      ]
    },
    {
      "cell_type": "code",
      "metadata": {
        "id": "mwz2wYrX10ow",
        "outputId": "0cc43cd6-514a-4b9b-db16-bcb57daf634e",
        "colab": {
          "base_uri": "https://localhost:8080/",
          "height": 434
        }
      },
      "source": [
        "data.head()"
      ],
      "execution_count": null,
      "outputs": [
        {
          "output_type": "execute_result",
          "data": {
            "text/html": [
              "<div>\n",
              "<style scoped>\n",
              "    .dataframe tbody tr th:only-of-type {\n",
              "        vertical-align: middle;\n",
              "    }\n",
              "\n",
              "    .dataframe tbody tr th {\n",
              "        vertical-align: top;\n",
              "    }\n",
              "\n",
              "    .dataframe thead th {\n",
              "        text-align: right;\n",
              "    }\n",
              "</style>\n",
              "<table border=\"1\" class=\"dataframe\">\n",
              "  <thead>\n",
              "    <tr style=\"text-align: right;\">\n",
              "      <th></th>\n",
              "      <th>platform</th>\n",
              "      <th>job_position</th>\n",
              "      <th>company_name</th>\n",
              "      <th>years_of_experience</th>\n",
              "      <th>company_location</th>\n",
              "      <th>job_description</th>\n",
              "      <th>average_processing_time</th>\n",
              "      <th>company_industry</th>\n",
              "      <th>company_size</th>\n",
              "      <th>work_environment_waktu_bekerja</th>\n",
              "      <th>work_environment_gaya_berpakaian</th>\n",
              "      <th>work_environment_tunjangan</th>\n",
              "      <th>work_environment_bahasa</th>\n",
              "      <th>years_of_experience_cat</th>\n",
              "    </tr>\n",
              "  </thead>\n",
              "  <tbody>\n",
              "    <tr>\n",
              "      <th>0</th>\n",
              "      <td>jobstreet</td>\n",
              "      <td>SPV FINANCE</td>\n",
              "      <td>PT Axindo Infotama</td>\n",
              "      <td>3</td>\n",
              "      <td>Indonesia - Jakarta Raya - Jakarta Pusat - Ruk...</td>\n",
              "      <td>[SEP][SEP]Usia Max. 35 tahun[SEP]Pendidikan Mi...</td>\n",
              "      <td>6</td>\n",
              "      <td>Retail/Merchandise</td>\n",
              "      <td>51 - 200 pekerja</td>\n",
              "      <td>sabtu</td>\n",
              "      <td>formal</td>\n",
              "      <td>Kesehatan, Parkir</td>\n",
              "      <td>Bahasa Indonesia</td>\n",
              "      <td>0 - 4 tahun</td>\n",
              "    </tr>\n",
              "    <tr>\n",
              "      <th>1</th>\n",
              "      <td>jobstreet</td>\n",
              "      <td>Qualitative Research Executive</td>\n",
              "      <td>Perusahaan Dirahasiakan</td>\n",
              "      <td>3</td>\n",
              "      <td>Indonesia - Jakarta Raya</td>\n",
              "      <td>RESPONSIBILITIES:[SEP]Brief Description of Dut...</td>\n",
              "      <td>tidak tersedia</td>\n",
              "      <td>tidak tersedia</td>\n",
              "      <td>tidak spesifik</td>\n",
              "      <td>tidak tersedia</td>\n",
              "      <td>tidak spesifik</td>\n",
              "      <td>NaN</td>\n",
              "      <td>NaN</td>\n",
              "      <td>0 - 4 tahun</td>\n",
              "    </tr>\n",
              "    <tr>\n",
              "      <th>2</th>\n",
              "      <td>jobstreet</td>\n",
              "      <td>Field Collection (JS - FC) Wonogiri</td>\n",
              "      <td>OTO Group</td>\n",
              "      <td>0</td>\n",
              "      <td>Indonesia - Jawa Tengah - Wonogiri Wonogoro - ...</td>\n",
              "      <td>[SEP]Lingkup pekerjaan: [SEP]Menjaga account d...</td>\n",
              "      <td>14</td>\n",
              "      <td>Perbankan/Pelayanan Keuangan</td>\n",
              "      <td>lebih dari 5000 pekerja</td>\n",
              "      <td>senin - jumat</td>\n",
              "      <td>bisnis</td>\n",
              "      <td>Kesehatan, Gigi, bonus tahunan</td>\n",
              "      <td>Bahasa Indonesia</td>\n",
              "      <td>0 - 4 tahun</td>\n",
              "    </tr>\n",
              "    <tr>\n",
              "      <th>3</th>\n",
              "      <td>jobstreet</td>\n",
              "      <td>Perawat di Negara Jerman</td>\n",
              "      <td>PT Jerman Manajemen</td>\n",
              "      <td>1</td>\n",
              "      <td>Indonesia - Jakarta Raya</td>\n",
              "      <td>[SEP]Candidate must possess at least Diploma i...</td>\n",
              "      <td>11</td>\n",
              "      <td>Pendidikan</td>\n",
              "      <td>51 - 200 pekerja</td>\n",
              "      <td>sabtu - kamis</td>\n",
              "      <td>formal</td>\n",
              "      <td>Kesehatan</td>\n",
              "      <td>Bahasa Indonesia</td>\n",
              "      <td>0 - 4 tahun</td>\n",
              "    </tr>\n",
              "    <tr>\n",
              "      <th>4</th>\n",
              "      <td>jobstreet</td>\n",
              "      <td>Field Collection (JS - FC) Pati</td>\n",
              "      <td>OTO Group</td>\n",
              "      <td>0</td>\n",
              "      <td>Indonesia - Jawa Tengah - Pati</td>\n",
              "      <td>[SEP]Lingkup pekerjaan: [SEP]Menjaga account d...</td>\n",
              "      <td>14</td>\n",
              "      <td>Perbankan/Pelayanan Keuangan</td>\n",
              "      <td>lebih dari 5000 pekerja</td>\n",
              "      <td>senin - jumat</td>\n",
              "      <td>bisnis</td>\n",
              "      <td>Kesehatan, Gigi, bonus tahunan</td>\n",
              "      <td>Bahasa Indonesia</td>\n",
              "      <td>0 - 4 tahun</td>\n",
              "    </tr>\n",
              "  </tbody>\n",
              "</table>\n",
              "</div>"
            ],
            "text/plain": [
              "    platform  ... years_of_experience_cat\n",
              "0  jobstreet  ...             0 - 4 tahun\n",
              "1  jobstreet  ...             0 - 4 tahun\n",
              "2  jobstreet  ...             0 - 4 tahun\n",
              "3  jobstreet  ...             0 - 4 tahun\n",
              "4  jobstreet  ...             0 - 4 tahun\n",
              "\n",
              "[5 rows x 14 columns]"
            ]
          },
          "metadata": {
            "tags": []
          },
          "execution_count": 45
        }
      ]
    },
    {
      "cell_type": "markdown",
      "metadata": {
        "id": "rb179KmxzKYJ"
      },
      "source": [
        "Untuk mempermudah dipahami bagi jobseeker, berikan contoh dari gaya berpakaian:\n",
        "- bisnis: kemeja polos\n",
        "- kasual: kaos\n",
        "- formal: kemeja polos & dasi\n",
        "- semi formal: kemeja motif\n",
        "- pakaian muslim\n",
        "- seragam: seragam kantor\n",
        "- olahraga: olahraga"
      ]
    },
    {
      "cell_type": "code",
      "metadata": {
        "id": "CxWMqCmrssW9"
      },
      "source": [
        "contoh_style_mapper = {'bisnis': 'kemeja',\n",
        "                       'kasual': 'kaos',\n",
        "                       'formal': 'kemeja polos & dasi',\n",
        "                       'semi formal': 'kemeja motif',\n",
        "                       'pakaian muslim': 'pakaian muslim',\n",
        "                       'seragam': 'seragam kantor/lapangan',\n",
        "                       'olahraga': 'olahraga',\n",
        "                       'tidak spesifik': 'tidak spesifik'}"
      ],
      "execution_count": null,
      "outputs": []
    },
    {
      "cell_type": "code",
      "metadata": {
        "id": "Fha8swcjz8G-"
      },
      "source": [
        "# contoh style mapping\n",
        "result_style = list()\n",
        "\n",
        "for style in result:\n",
        "    split = [data.strip() for data in style.split(',')]\n",
        "    mapping = pd.Series(split).map(contoh_style_mapper).dropna().drop_duplicates()\n",
        "    join = ', '.join(list(mapping)).strip()\n",
        "\n",
        "    result_style.append(join)"
      ],
      "execution_count": null,
      "outputs": []
    },
    {
      "cell_type": "code",
      "metadata": {
        "id": "5WJ9O2iL0Npb",
        "outputId": "4083fd90-71a1-4978-98dd-532d65358c0f",
        "colab": {
          "base_uri": "https://localhost:8080/",
          "height": 319
        }
      },
      "source": [
        "pd.Series(result_style).value_counts()"
      ],
      "execution_count": null,
      "outputs": [
        {
          "output_type": "execute_result",
          "data": {
            "text/plain": [
              "kemeja                                                  7087\n",
              "kaos                                                    2594\n",
              "tidak spesifik                                          1724\n",
              "kemeja polos & dasi                                     1664\n",
              "seragam kantor/lapangan                                  597\n",
              "kemeja motif                                             102\n",
              "kemeja, seragam kantor/lapangan                           84\n",
              "kemeja polos & dasi, kaos                                 62\n",
              "kemeja, kaos                                              44\n",
              "kaos, seragam kantor/lapangan                             42\n",
              "kemeja polos & dasi, seragam kantor/lapangan              21\n",
              "pakaian muslim                                            12\n",
              "kemeja, kemeja polos & dasi                               10\n",
              "kemeja, kemeja polos & dasi, seragam kantor/lapangan      10\n",
              "kaos, kemeja motif                                         4\n",
              "kemeja, kaos, seragam kantor/lapangan                      1\n",
              "olahraga                                                   1\n",
              "dtype: int64"
            ]
          },
          "metadata": {
            "tags": []
          },
          "execution_count": 48
        }
      ]
    },
    {
      "cell_type": "code",
      "metadata": {
        "id": "ZnpW_12V-cws",
        "outputId": "b2051b2c-ffea-46f1-f37a-7ceaab79a053",
        "colab": {
          "base_uri": "https://localhost:8080/",
          "height": 34
        }
      },
      "source": [
        "# check null values\n",
        "data['work_environment_gaya_berpakaian_contoh'] = result_style\n",
        "data['work_environment_gaya_berpakaian_contoh'].isnull().sum()"
      ],
      "execution_count": null,
      "outputs": [
        {
          "output_type": "execute_result",
          "data": {
            "text/plain": [
              "0"
            ]
          },
          "metadata": {
            "tags": []
          },
          "execution_count": 49
        }
      ]
    },
    {
      "cell_type": "code",
      "metadata": {
        "id": "IF0pIe0501ey",
        "outputId": "621fa6c4-2e07-466a-9a37-980caf17e67b",
        "colab": {
          "base_uri": "https://localhost:8080/",
          "height": 434
        }
      },
      "source": [
        "data.head()"
      ],
      "execution_count": null,
      "outputs": [
        {
          "output_type": "execute_result",
          "data": {
            "text/html": [
              "<div>\n",
              "<style scoped>\n",
              "    .dataframe tbody tr th:only-of-type {\n",
              "        vertical-align: middle;\n",
              "    }\n",
              "\n",
              "    .dataframe tbody tr th {\n",
              "        vertical-align: top;\n",
              "    }\n",
              "\n",
              "    .dataframe thead th {\n",
              "        text-align: right;\n",
              "    }\n",
              "</style>\n",
              "<table border=\"1\" class=\"dataframe\">\n",
              "  <thead>\n",
              "    <tr style=\"text-align: right;\">\n",
              "      <th></th>\n",
              "      <th>platform</th>\n",
              "      <th>job_position</th>\n",
              "      <th>company_name</th>\n",
              "      <th>years_of_experience</th>\n",
              "      <th>company_location</th>\n",
              "      <th>job_description</th>\n",
              "      <th>average_processing_time</th>\n",
              "      <th>company_industry</th>\n",
              "      <th>company_size</th>\n",
              "      <th>work_environment_waktu_bekerja</th>\n",
              "      <th>work_environment_gaya_berpakaian</th>\n",
              "      <th>work_environment_tunjangan</th>\n",
              "      <th>work_environment_bahasa</th>\n",
              "      <th>years_of_experience_cat</th>\n",
              "      <th>work_environment_gaya_berpakaian_contoh</th>\n",
              "    </tr>\n",
              "  </thead>\n",
              "  <tbody>\n",
              "    <tr>\n",
              "      <th>0</th>\n",
              "      <td>jobstreet</td>\n",
              "      <td>SPV FINANCE</td>\n",
              "      <td>PT Axindo Infotama</td>\n",
              "      <td>3</td>\n",
              "      <td>Indonesia - Jakarta Raya - Jakarta Pusat - Ruk...</td>\n",
              "      <td>[SEP][SEP]Usia Max. 35 tahun[SEP]Pendidikan Mi...</td>\n",
              "      <td>6</td>\n",
              "      <td>Retail/Merchandise</td>\n",
              "      <td>51 - 200 pekerja</td>\n",
              "      <td>sabtu</td>\n",
              "      <td>formal</td>\n",
              "      <td>Kesehatan, Parkir</td>\n",
              "      <td>Bahasa Indonesia</td>\n",
              "      <td>0 - 4 tahun</td>\n",
              "      <td>kemeja polos &amp; dasi</td>\n",
              "    </tr>\n",
              "    <tr>\n",
              "      <th>1</th>\n",
              "      <td>jobstreet</td>\n",
              "      <td>Qualitative Research Executive</td>\n",
              "      <td>Perusahaan Dirahasiakan</td>\n",
              "      <td>3</td>\n",
              "      <td>Indonesia - Jakarta Raya</td>\n",
              "      <td>RESPONSIBILITIES:[SEP]Brief Description of Dut...</td>\n",
              "      <td>tidak tersedia</td>\n",
              "      <td>tidak tersedia</td>\n",
              "      <td>tidak spesifik</td>\n",
              "      <td>tidak tersedia</td>\n",
              "      <td>tidak spesifik</td>\n",
              "      <td>NaN</td>\n",
              "      <td>NaN</td>\n",
              "      <td>0 - 4 tahun</td>\n",
              "      <td>tidak spesifik</td>\n",
              "    </tr>\n",
              "    <tr>\n",
              "      <th>2</th>\n",
              "      <td>jobstreet</td>\n",
              "      <td>Field Collection (JS - FC) Wonogiri</td>\n",
              "      <td>OTO Group</td>\n",
              "      <td>0</td>\n",
              "      <td>Indonesia - Jawa Tengah - Wonogiri Wonogoro - ...</td>\n",
              "      <td>[SEP]Lingkup pekerjaan: [SEP]Menjaga account d...</td>\n",
              "      <td>14</td>\n",
              "      <td>Perbankan/Pelayanan Keuangan</td>\n",
              "      <td>lebih dari 5000 pekerja</td>\n",
              "      <td>senin - jumat</td>\n",
              "      <td>bisnis</td>\n",
              "      <td>Kesehatan, Gigi, bonus tahunan</td>\n",
              "      <td>Bahasa Indonesia</td>\n",
              "      <td>0 - 4 tahun</td>\n",
              "      <td>kemeja</td>\n",
              "    </tr>\n",
              "    <tr>\n",
              "      <th>3</th>\n",
              "      <td>jobstreet</td>\n",
              "      <td>Perawat di Negara Jerman</td>\n",
              "      <td>PT Jerman Manajemen</td>\n",
              "      <td>1</td>\n",
              "      <td>Indonesia - Jakarta Raya</td>\n",
              "      <td>[SEP]Candidate must possess at least Diploma i...</td>\n",
              "      <td>11</td>\n",
              "      <td>Pendidikan</td>\n",
              "      <td>51 - 200 pekerja</td>\n",
              "      <td>sabtu - kamis</td>\n",
              "      <td>formal</td>\n",
              "      <td>Kesehatan</td>\n",
              "      <td>Bahasa Indonesia</td>\n",
              "      <td>0 - 4 tahun</td>\n",
              "      <td>kemeja polos &amp; dasi</td>\n",
              "    </tr>\n",
              "    <tr>\n",
              "      <th>4</th>\n",
              "      <td>jobstreet</td>\n",
              "      <td>Field Collection (JS - FC) Pati</td>\n",
              "      <td>OTO Group</td>\n",
              "      <td>0</td>\n",
              "      <td>Indonesia - Jawa Tengah - Pati</td>\n",
              "      <td>[SEP]Lingkup pekerjaan: [SEP]Menjaga account d...</td>\n",
              "      <td>14</td>\n",
              "      <td>Perbankan/Pelayanan Keuangan</td>\n",
              "      <td>lebih dari 5000 pekerja</td>\n",
              "      <td>senin - jumat</td>\n",
              "      <td>bisnis</td>\n",
              "      <td>Kesehatan, Gigi, bonus tahunan</td>\n",
              "      <td>Bahasa Indonesia</td>\n",
              "      <td>0 - 4 tahun</td>\n",
              "      <td>kemeja</td>\n",
              "    </tr>\n",
              "  </tbody>\n",
              "</table>\n",
              "</div>"
            ],
            "text/plain": [
              "    platform  ... work_environment_gaya_berpakaian_contoh\n",
              "0  jobstreet  ...                     kemeja polos & dasi\n",
              "1  jobstreet  ...                          tidak spesifik\n",
              "2  jobstreet  ...                                  kemeja\n",
              "3  jobstreet  ...                     kemeja polos & dasi\n",
              "4  jobstreet  ...                                  kemeja\n",
              "\n",
              "[5 rows x 15 columns]"
            ]
          },
          "metadata": {
            "tags": []
          },
          "execution_count": 50
        }
      ]
    },
    {
      "cell_type": "markdown",
      "metadata": {
        "id": "Gg0gB7gK9sRz"
      },
      "source": [
        "### work_environment_tunjangan"
      ]
    },
    {
      "cell_type": "code",
      "metadata": {
        "id": "RJ-VtbZm-gze",
        "outputId": "c00e58bc-f2a9-4c3a-f32a-c8800122d1b2",
        "colab": {
          "base_uri": "https://localhost:8080/",
          "height": 218
        }
      },
      "source": [
        "# convert to lower case dan fillna dengan string 'tidak tersedia'\n",
        "tunjangan = data['work_environment_tunjangan'].str.lower().fillna('tidak tersedia')\n",
        "\n",
        "tunjangan.value_counts()"
      ],
      "execution_count": null,
      "outputs": [
        {
          "output_type": "execute_result",
          "data": {
            "text/plain": [
              "kesehatan                                                                                                2801\n",
              "tidak tersedia                                                                                           2702\n",
              "kesehatan, tunjangan lainnya                                                                              952\n",
              "kesehatan, parkir                                                                                         569\n",
              "tunjangan lainnya                                                                                         538\n",
              "                                                                                                         ... \n",
              "kesehatan, tunjangan lainnya, pinjaman, gigi, parkir, maternity, glasses                                    1\n",
              "kesehatan, parkir, jamsostek                                                                                1\n",
              "kesehatan, tunjangan lainnya, pinjaman, olahraga (contoh: pusat kebugaran), jamsostek (jht, jkk, jkm)       1\n",
              "kesehatan, gigi, holiday subsidy                                                                            1\n",
              "kesehatan, bonus tahunan, asuransi kesehatan double cover, mess, laundry, dan makan (site)                  1\n",
              "Name: work_environment_tunjangan, Length: 1081, dtype: int64"
            ]
          },
          "metadata": {
            "tags": []
          },
          "execution_count": 51
        }
      ]
    },
    {
      "cell_type": "code",
      "metadata": {
        "id": "e06O6YMGkGZi"
      },
      "source": [
        "# tunjangan.value_counts().to_csv('tunjangan_distinct.csv')\n",
        "# gaya_berpakaian.to_csv('gaya_berpakaian_kotor.csv')"
      ],
      "execution_count": null,
      "outputs": []
    },
    {
      "cell_type": "code",
      "metadata": {
        "id": "vgG1DP6dlpwC"
      },
      "source": [
        "temp = list()\n",
        "for i in range(len(tunjangan)):\n",
        "    split = [data.strip() for data in tunjangan[i].split(',')]\n",
        "    temp += split"
      ],
      "execution_count": null,
      "outputs": []
    },
    {
      "cell_type": "markdown",
      "metadata": {
        "id": "0u8iNDeqojjH"
      },
      "source": [
        "Lihat jenis tunjangan unique"
      ]
    },
    {
      "cell_type": "code",
      "metadata": {
        "id": "1DN81U4hmFri",
        "outputId": "fb7bb554-e667-4f6d-8808-7f8ac716eda5",
        "colab": {
          "base_uri": "https://localhost:8080/",
          "height": 1000
        }
      },
      "source": [
        "from collections import Counter\n",
        "a = Counter(temp)\n",
        "a\n",
        "# pd.Series(a).to_csv('tunjangan_item_mapper.csv')"
      ],
      "execution_count": null,
      "outputs": [
        {
          "output_type": "execute_result",
          "data": {
            "text/plain": [
              "Counter({'': 119,\n",
              "         '& bpjs kesehatan': 2,\n",
              "         '(sesuai dengan peraturan perusahaan)': 4,\n",
              "         '-': 194,\n",
              "         '- allowance (jika capai target)': 3,\n",
              "         '- bpjs kesehatan': 3,\n",
              "         '- bpjs kesehatan / bpjs ketenagakerjaan / asuransi kesehatan': 2,\n",
              "         '- employee loan': 4,\n",
              "         '- gaji pokok -closing fee': 1,\n",
              "         '- life insurance. - career path': 4,\n",
              "         '- monthly salary': 4,\n",
              "         '- s/d rp 10.000.000': 1,\n",
              "         '-bonus target': 1,\n",
              "         '-bpjs': 1,\n",
              "         '-bpjs ketenagakerjaan & kesehatan': 14,\n",
              "         '-gaji pokok': 1,\n",
              "         '-shuttle bus': 2,\n",
              "         '-uang bensin': 1,\n",
              "         '-uang kerajinan': 1,\n",
              "         '.': 1,\n",
              "         '12 days of annual leave': 2,\n",
              "         '14 days for annual leave per year': 1,\n",
              "         '16 days annual leave': 2,\n",
              "         '30% - 40% of burgreens product': 1,\n",
              "         '5-2%': 2,\n",
              "         'acara refreshing bulanan': 4,\n",
              "         'accommodation': 1,\n",
              "         'accomodation': 13,\n",
              "         'agricultural & home purpose': 6,\n",
              "         'akomodasi': 1,\n",
              "         'all bpjs': 16,\n",
              "         'all bpjs & asuransi lainya': 3,\n",
              "         'allowance': 9,\n",
              "         'allowance retired & allowance old day': 1,\n",
              "         'allowances': 1,\n",
              "         'also valid for spouse and up to 3 children': 2,\n",
              "         'and many more...': 3,\n",
              "         'and pension': 1,\n",
              "         'and thr': 10,\n",
              "         'annual / mid-term bonus': 1,\n",
              "         'annual adjustment': 4,\n",
              "         'annual bonus': 59,\n",
              "         'annual bonuses': 3,\n",
              "         'annual incentive based on kpi': 5,\n",
              "         'annual leave': 11,\n",
              "         'annual leaves': 5,\n",
              "         'annual return air ticket and performance bonus': 5,\n",
              "         'annual reward': 2,\n",
              "         'annual wage supplement': 3,\n",
              "         'apreciation trophy': 2,\n",
              "         'apresiasi': 1,\n",
              "         'as offered in package': 6,\n",
              "         'assurance': 2,\n",
              "         'astek': 2,\n",
              "         'asurance': 5,\n",
              "         'asuransi': 15,\n",
              "         'asuransi jiwa': 3,\n",
              "         'asuransi kecelakaan diri': 1,\n",
              "         'asuransi kesehatan': 25,\n",
              "         'asuransi kesehatan + bpjs kesehatan': 1,\n",
              "         'asuransi kesehatan dan bpjs': 1,\n",
              "         'asuransi kesehatan dan ketenagakerjaan': 2,\n",
              "         'asuransi kesehatan double cover': 1,\n",
              "         'asuransi komersial': 5,\n",
              "         'asuransi mandiri inhealth': 1,\n",
              "         'asuransi pensiun': 1,\n",
              "         'asuransi swasta': 6,\n",
              "         'asuransi tambahan swasta': 3,\n",
              "         'attendance': 1,\n",
              "         'attractive bonus scheme': 3,\n",
              "         'attractive bonuses': 1,\n",
              "         'attractive compensation (sales)': 2,\n",
              "         'attractive incentive / bonus': 1,\n",
              "         'attractive salary': 6,\n",
              "         'ausransi jiwa': 3,\n",
              "         'bagi hasil komisi penjualan.': 1,\n",
              "         'bahasa jepang': 1,\n",
              "         'bantuan pendidikan': 806,\n",
              "         'bantuan uang cuti': 1,\n",
              "         'based on company policy': 7,\n",
              "         'based on performance': 1,\n",
              "         'basic salary': 1,\n",
              "         'beasiswa': 2,\n",
              "         'benefit performance': 1,\n",
              "         'bensin': 1,\n",
              "         'beras': 1,\n",
              "         'biaya akomodasi': 1,\n",
              "         'biaya operasional': 1,\n",
              "         'biaya operasional kendaraan dan transportasi': 1,\n",
              "         'biaya transport': 1,\n",
              "         'billiards': 10,\n",
              "         'birthday leave': 6,\n",
              "         'bisa diskusi lebih detil': 1,\n",
              "         'bjps kesehatan': 3,\n",
              "         'bjps ketenagakerjaan': 1,\n",
              "         'board games': 1,\n",
              "         'bonus': 196,\n",
              "         'bonus & commission plan': 3,\n",
              "         'bonus & komisi yang besar/menarik. program training': 2,\n",
              "         'bonus & reward': 1,\n",
              "         'bonus (based on company performance)': 1,\n",
              "         'bonus akhir tahun': 3,\n",
              "         'bonus allowance': 2,\n",
              "         'bonus and incentive': 2,\n",
              "         'bonus by project': 1,\n",
              "         'bonus dan dana pensiun': 10,\n",
              "         'bonus dan incentive trip': 3,\n",
              "         'bonus dan kesempatan karier menarik': 2,\n",
              "         'bonus dan komisi': 2,\n",
              "         'bonus dan pulsa / kuota.': 1,\n",
              "         'bonus dan tunjangan lainnya': 2,\n",
              "         'bonus dari penjualan': 1,\n",
              "         'bonus disesuaikan dengan perusahaan (bergerak dibidang travel online)': 3,\n",
              "         'bonus dll': 2,\n",
              "         'bonus end of year': 1,\n",
              "         'bonus harian dan bonus bulanan': 1,\n",
              "         'bonus insentive': 6,\n",
              "         'bonus kinerja': 3,\n",
              "         'bonus kpi': 4,\n",
              "         'bonus lain-lain': 1,\n",
              "         'bonus omset bulanan': 1,\n",
              "         'bonus penjualan': 7,\n",
              "         'bonus performance by title': 2,\n",
              "         'bonus prestasi': 3,\n",
              "         'bonus project': 1,\n",
              "         'bonus sesuai target produksi dan project': 1,\n",
              "         'bonus system': 1,\n",
              "         'bonus tahunan': 156,\n",
              "         'bonus target': 2,\n",
              "         'bonus target penjualan': 1,\n",
              "         'bonus trip': 5,\n",
              "         'bonus.': 3,\n",
              "         'bonus/commission': 2,\n",
              "         'bp jamsostek': 3,\n",
              "         'bpjs': 366,\n",
              "         'bpjs & commisison': 7,\n",
              "         'bpjs & pph 21 paid by the company': 2,\n",
              "         'bpjs (kesehatan & ketenagakerjaan)': 12,\n",
              "         'bpjs dan jamsostek': 4,\n",
              "         'bpjs employment': 11,\n",
              "         'bpjs employment & thr': 2,\n",
              "         'bpjs health': 2,\n",
              "         'bpjs healthiness': 2,\n",
              "         'bpjs healthy': 10,\n",
              "         'bpjs insurance': 3,\n",
              "         'bpjs k & tk': 9,\n",
              "         'bpjs kes': 5,\n",
              "         'bpjs kesehaan': 2,\n",
              "         'bpjs kesehatan': 279,\n",
              "         'bpjs kesehatan & bpjamsostek': 6,\n",
              "         'bpjs kesehatan & bpjs ketenaga kerjaan': 1,\n",
              "         'bpjs kesehatan & bpjs ketenagakerjaan': 8,\n",
              "         'bpjs kesehatan & ketenagakerjaan': 50,\n",
              "         'bpjs kesehatan & tenaga kerja': 7,\n",
              "         'bpjs kesehatan + asuransi kesehatan': 4,\n",
              "         'bpjs kesehatan + ketenagakerjaan': 1,\n",
              "         'bpjs kesehatan . bpjs ketenagakerjaan': 2,\n",
              "         'bpjs kesehatan and bpjs ketenagakerjaan': 4,\n",
              "         'bpjs kesehatan bpjs tenaga kerja': 3,\n",
              "         'bpjs kesehatan dan bpjs ketenagakerjaan': 22,\n",
              "         'bpjs kesehatan dan bpjs ketenagakerjaan incentive/thr dan company car provided': 1,\n",
              "         'bpjs kesehatan dan bpjs tenaga kerja': 1,\n",
              "         'bpjs kesehatan dan bpjs tenaker': 1,\n",
              "         'bpjs kesehatan dan ketenaga kerjaan': 1,\n",
              "         'bpjs kesehatan dan ketenagakerjaan': 23,\n",
              "         'bpjs kesehatan setelah 3 bulan probation': 1,\n",
              "         'bpjs kesehatan&ketenagakerjaan': 1,\n",
              "         'bpjs kesehatan/asuransi kesehatan': 2,\n",
              "         'bpjs keten': 2,\n",
              "         'bpjs ketenaga kerjaan': 3,\n",
              "         'bpjs ketenaga kerjaan & kesehatan': 1,\n",
              "         'bpjs ketenagakerja': 2,\n",
              "         'bpjs ketenagakerjaan': 269,\n",
              "         'bpjs ketenagakerjaan & bpjs kesehatan': 5,\n",
              "         'bpjs ketenagakerjaan & kesehatan': 10,\n",
              "         'bpjs ketenagakerjaan & pensiun': 2,\n",
              "         'bpjs ketenagakerjaan + pension': 1,\n",
              "         'bpjs ketenagakerjaan and insentive': 1,\n",
              "         'bpjs ketenagakerjaan dan bpjs kesehatan': 10,\n",
              "         'bpjs ketenagakerjaan dan insentif (yang berkaitan dgn penjualan)': 2,\n",
              "         'bpjs ketenagakerjaan dan kesehatan': 4,\n",
              "         'bpjs ketenagakerjaan dan kesehatan. pinjaman': 3,\n",
              "         'bpjs ketenagakerjaan dan pensiun': 7,\n",
              "         'bpjs ketenagakerjaan/kesehatan/pensiun dan transportasi': 1,\n",
              "         'bpjs ketengakerjaan': 2,\n",
              "         'bpjs naker': 3,\n",
              "         'bpjs pension': 1,\n",
              "         'bpjs pensiun': 10,\n",
              "         'bpjs tenaga kerja': 40,\n",
              "         'bpjs tenaga kerja dan bpjs kesehatan': 2,\n",
              "         'bpjs tenagakerja': 3,\n",
              "         'bpjs tenaker': 1,\n",
              "         'bpjs tk': 24,\n",
              "         'bpjs tk dan bpjs kesehatan': 4,\n",
              "         'bpjs tk dan kes': 1,\n",
              "         'bpjs* sesuai ketentuan perusahaan': 1,\n",
              "         'bpjstk': 10,\n",
              "         'bpjstk & bpjs kesehatan': 3,\n",
              "         'bpjstk & kesehatan': 1,\n",
              "         'bpjstk dan bpjskes': 1,\n",
              "         'breakfast': 4,\n",
              "         'bus': 6,\n",
              "         'business trip': 1,\n",
              "         'cafetaria': 3,\n",
              "         'canteen': 1,\n",
              "         'canteen shuttle': 1,\n",
              "         'car loans for managerial positions': 2,\n",
              "         'career': 22,\n",
              "         'career development': 22,\n",
              "         'career path': 5,\n",
              "         'catering': 1,\n",
              "         'catering makan siang': 1,\n",
              "         'catering provided': 6,\n",
              "         'cemilan': 4,\n",
              "         'certificate': 1,\n",
              "         'certification programs and company sponsored sport group activities': 1,\n",
              "         'chance for global meeting at japan': 2,\n",
              "         'charity day leave': 6,\n",
              "         'child birth': 39,\n",
              "         'cinema': 3,\n",
              "         'clinic': 3,\n",
              "         'closing fee': 1,\n",
              "         'clubs & plenty of joyful events also celebrations.': 2,\n",
              "         'co-working with indonesian bumn': 2,\n",
              "         'coffee': 1,\n",
              "         'comfort office': 3,\n",
              "         'commision': 4,\n",
              "         'commision based on sales': 1,\n",
              "         'commission': 5,\n",
              "         'commission fee': 1,\n",
              "         'commission for marketing & account executive': 5,\n",
              "         'communication': 35,\n",
              "         'communication allowance': 46,\n",
              "         'commuter': 3,\n",
              "         'company': 2,\n",
              "         'company insurance': 2,\n",
              "         'company insurans': 5,\n",
              "         'company lunch': 1,\n",
              "         'company pick-up at certain area': 1,\n",
              "         'company reference': 4,\n",
              "         'company trip': 1,\n",
              "         'compensation': 1,\n",
              "         'competitive salary': 8,\n",
              "         'competitive salary & benefit': 1,\n",
              "         'cop': 9,\n",
              "         'cop/mop (car /motorcycle ownership program)': 11,\n",
              "         'corporate outing': 2,\n",
              "         'crucial experience': 1,\n",
              "         'cuti': 3,\n",
              "         'cuti sakit': 3,\n",
              "         'cuti tahunan': 5,\n",
              "         'cuti variabel': 5,\n",
              "         'daerah': 4,\n",
              "         'daily uses': 2,\n",
              "         'dan bonus tahunan': 1,\n",
              "         'dan insentif.': 1,\n",
              "         'dan kesehatan': 2,\n",
              "         'dan makan (site)': 1,\n",
              "         'dan pensiun': 1,\n",
              "         'dan thr.': 5,\n",
              "         'dan tunjangan lain': 4,\n",
              "         'dana pensiun': 6,\n",
              "         'dana pensiun dan bonus tahunan': 7,\n",
              "         'dental': 6,\n",
              "         'dental & optical': 1,\n",
              "         'depend on positions & level': 17,\n",
              "         'depend on the project regulation': 3,\n",
              "         'depends on working location': 19,\n",
              "         'dinas ke dalam dan luar negeri': 1,\n",
              "         'dinner': 3,\n",
              "         'dinner & snack break': 1,\n",
              "         'diskon karyawan': 9,\n",
              "         'dll': 4,\n",
              "         'dormitory': 4,\n",
              "         'dormitory and shuttle': 1,\n",
              "         'dplk': 7,\n",
              "         'dplk (pension fund)': 1,\n",
              "         'education support': 4,\n",
              "         'employee discount': 13,\n",
              "         'employment insurance': 4,\n",
              "         'english speaking company': 1,\n",
              "         'esop': 1,\n",
              "         'etc': 10,\n",
              "         'etc)': 6,\n",
              "         'etc.': 2,\n",
              "         'extra allowance': 1,\n",
              "         'extra fee for new project': 1,\n",
              "         'eyeglass benefit': 1,\n",
              "         'family gathering': 1,\n",
              "         'fasilitas perjalanan dinas': 1,\n",
              "         'fasilitas transportasi saat fieldbreak/cuti': 4,\n",
              "         'fave voucher': 1,\n",
              "         'fee': 1,\n",
              "         'fee comision': 1,\n",
              "         'fee penjualan': 1,\n",
              "         'festive allowance (thr)': 2,\n",
              "         'financial': 2,\n",
              "         'fixed salary': 1,\n",
              "         'flexi hours': 1,\n",
              "         'flexi-time': 3,\n",
              "         'flexible benefits': 2,\n",
              "         'flexible benefits.': 1,\n",
              "         'flexible hours': 1,\n",
              "         'flexible work hours': 13,\n",
              "         'flexible working hour.': 5,\n",
              "         'flexible working hours': 4,\n",
              "         'flexible working location': 1,\n",
              "         'flexible working time': 1,\n",
              "         'food': 3,\n",
              "         'food and refreshments': 1,\n",
              "         'food and transportation allowance': 4,\n",
              "         'frame and others': 1,\n",
              "         'free coffee': 3,\n",
              "         'free flow coffee': 2,\n",
              "         'free internet access': 1,\n",
              "         'free lunch': 15,\n",
              "         'free meal': 1,\n",
              "         'free meals': 1,\n",
              "         'free meals and accommodation provided': 1,\n",
              "         'free parking': 4,\n",
              "         'free snacks & coffee/tea': 1,\n",
              "         'free-flow espresso': 1,\n",
              "         'fruity & snack day': 3,\n",
              "         'full commission': 1,\n",
              "         'fun environment': 1,\n",
              "         'fun outing (quarterly)': 1,\n",
              "         'futsal activities': 1,\n",
              "         'gaji': 7,\n",
              "         'gaji + tunjangan kendaraan + insentive pencapaian target + komisi 0': 2,\n",
              "         'gaji all in': 1,\n",
              "         'gaji dan insentif': 27,\n",
              "         'gaji pokok': 10,\n",
              "         'gaji pokok + tunjangan kesehatan dan ketenagakerjaan + thr + annual bonus': 3,\n",
              "         'gaji pokok - uang makan - sewa motor- insentif': 1,\n",
              "         'gaji pokok sesuai dengan (umk)': 1,\n",
              "         'gaji umr': 3,\n",
              "         'gapok': 1,\n",
              "         'gas': 3,\n",
              "         'gathering': 2,\n",
              "         'gigi': 2337,\n",
              "         'glasses': 20,\n",
              "         'global career': 3,\n",
              "         'global exposure & learning': 4,\n",
              "         'good commission and other bonuses': 1,\n",
              "         'great experience': 2,\n",
              "         'hadir': 1,\n",
              "         'hajj': 2,\n",
              "         'hari raya': 1,\n",
              "         'healh insurance': 1,\n",
              "         'health': 4,\n",
              "         'health & pension insurance': 1,\n",
              "         'health benefits & bpjs': 1,\n",
              "         'health benefits & other benefits': 1,\n",
              "         'health care insurance': 4,\n",
              "         'health insurance': 12,\n",
              "         'health insurance and others': 2,\n",
              "         'high sales incentive': 1,\n",
              "         'hiring bonus': 2,\n",
              "         'holiday bonus to overseas': 1,\n",
              "         'holiday subsidy': 1,\n",
              "         'home allowance': 1,\n",
              "         'home stay': 1,\n",
              "         'hometrip': 7,\n",
              "         'hospital insurance': 2,\n",
              "         'hospital insurance (inpatient & outpatient)': 2,\n",
              "         'hospitalization and pa insurance': 1,\n",
              "         'housing': 18,\n",
              "         'housing costs': 2,\n",
              "         'hp': 2,\n",
              "         'ibadah on time': 2,\n",
              "         'in-house clinic': 2,\n",
              "         'incentive': 49,\n",
              "         'incentive (perfomance)': 4,\n",
              "         'incentive bonus': 1,\n",
              "         'incentive kerajinan': 2,\n",
              "         'incentive per-student': 1,\n",
              "         'incentive scheme': 3,\n",
              "         'incentive trip': 8,\n",
              "         'incentives': 5,\n",
              "         'income tax etc': 2,\n",
              "         'inpation insurance': 1,\n",
              "         'insentif': 38,\n",
              "         'insentif / bonus penjualan': 1,\n",
              "         'insentif bonus': 3,\n",
              "         'insentif dan bonus': 1,\n",
              "         'insentif kehadiran.': 1,\n",
              "         'insentif luar kota': 1,\n",
              "         'insentif mengajar': 5,\n",
              "         'insentif tahunan': 4,\n",
              "         'insentif target': 1,\n",
              "         'insentif tindakan': 1,\n",
              "         'insentif.': 1,\n",
              "         'insentif/komisi tidak terbatas': 5,\n",
              "         'insentive': 34,\n",
              "         'inssurance': 3,\n",
              "         'insurance': 54,\n",
              "         'insurance & optical': 1,\n",
              "         'insurance and social security': 10,\n",
              "         'insurance(bpjs)': 5,\n",
              "         'insurance. parking': 1,\n",
              "         'intensif (komisi)': 2,\n",
              "         'interesting remuneration': 1,\n",
              "         'internal & external training package': 2,\n",
              "         'international development': 3,\n",
              "         'international exposure': 3,\n",
              "         'internet': 1,\n",
              "         'internet & mobile': 1,\n",
              "         'itemku monthly platform voucher': 5,\n",
              "         'jabatan': 12,\n",
              "         'jaminan hari tua': 14,\n",
              "         'jaminan hari tua dan jaminan pensiun': 13,\n",
              "         'jaminan jamsostek / ketenagakerjaan': 1,\n",
              "         'jaminan kecelakaan kerja & jaminan kematian': 2,\n",
              "         'jaminan pensiun': 16,\n",
              "         'jamsostek': 90,\n",
              "         'jamsostek (jaminan hari tua)': 2,\n",
              "         'jamsostek (jht': 1,\n",
              "         'jamsostek / bpjs ketenagakerjaan': 10,\n",
              "         'jamsostek dan bpjs kesehatan': 1,\n",
              "         'jemputan area karawang': 2,\n",
              "         'jenjang karir': 9,\n",
              "         'jht': 6,\n",
              "         'jkk': 10,\n",
              "         'jkm)': 1,\n",
              "         'jkm.': 4,\n",
              "         'kacamata': 2,\n",
              "         'kantin': 1,\n",
              "         'karir': 2,\n",
              "         'karir.': 1,\n",
              "         'keanggotaan koperasi': 9,\n",
              "         'kecelakaan kerja': 13,\n",
              "         'kehadiran': 5,\n",
              "         'kelas bahasa jepang': 2,\n",
              "         'kendaraan': 1,\n",
              "         'kendaraan dinas': 3,\n",
              "         'kerajinan': 1,\n",
              "         'kesehatan': 9118,\n",
              "         'kesehatan & fasilitas olahraga (contoh : pusat kebugaran)': 2,\n",
              "         'kesehatan bonus': 1,\n",
              "         'kesehatan dan bonus': 1,\n",
              "         'kesehatan dan ketenagakerjaan': 4,\n",
              "         'kesempatan tour dalam dan luar negri': 1,\n",
              "         'kesempatan trip ke luar negeri': 3,\n",
              "         'ketenaga kerjaan': 1,\n",
              "         'ketenagakerjaan': 61,\n",
              "         'klinik': 2,\n",
              "         'komisi': 45,\n",
              "         'komisi (sales)': 2,\n",
              "         'komisi 1-2x gaji': 7,\n",
              "         'komisi berdasarkan performance': 1,\n",
              "         'komisi penjualan': 3,\n",
              "         'komisi penjualan dan bonus target': 1,\n",
              "         'komisi penjualan yang kompetitif': 3,\n",
              "         'komisi.': 1,\n",
              "         'komunikasi': 12,\n",
              "         'kontrak': 3,\n",
              "         'koperasi': 5,\n",
              "         'lain-lain': 2,\n",
              "         'laptop allowance': 3,\n",
              "         'laptop for work': 10,\n",
              "         'laptop ownership program': 1,\n",
              "         'laundry': 1,\n",
              "         'learning online support like udemy.com': 8,\n",
              "         'leave': 1,\n",
              "         'leave entitlements': 1,\n",
              "         'lembur': 10,\n",
              "         'library': 1,\n",
              "         'libur panjang di hari raya idul fitri': 1,\n",
              "         'life & accident insurance': 6,\n",
              "         'life insurance': 13,\n",
              "         'life.': 1,\n",
              "         'loans': 5,\n",
              "         'local & overseas training': 1,\n",
              "         'location free': 3,\n",
              "         'loyalty bonus': 1,\n",
              "         'lunch': 83,\n",
              "         'lunch and dinner': 2,\n",
              "         'lunch and private insurance': 13,\n",
              "         'lunch bpjs career path': 4,\n",
              "         'lunch catering': 1,\n",
              "         'lunch meal': 4,\n",
              "         'lunch provided': 2,\n",
              "         'machine': 1,\n",
              "         'makan': 20,\n",
              "         'makan & bpjs': 2,\n",
              "         'makan dan jemputan': 7,\n",
              "         'makan dan tiket mudik)': 10,\n",
              "         'makan malam': 2,\n",
              "         'makan siang': 26,\n",
              "         'makan siang & makan malam': 1,\n",
              "         'makan siang (katering hari senin - jumat)': 5,\n",
              "         'makan siang dan pengembangan diri': 1,\n",
              "         'makan siang di kantor': 1,\n",
              "         'makan siang disediakan.': 1,\n",
              "         'makan siang/malam disediakan': 1,\n",
              "         'makanan': 1,\n",
              "         'manpower': 1,\n",
              "         'marriage': 39,\n",
              "         'maternity': 23,\n",
              "         'maternity allowance': 3,\n",
              "         'maternity benefit': 3,\n",
              "         'maternity insurance': 9,\n",
              "         'maternity support': 6,\n",
              "         'meal': 48,\n",
              "         'meal & transport': 1,\n",
              "         'meal & transport allowance': 4,\n",
              "         'meal & transportation': 1,\n",
              "         'meal allowance': 25,\n",
              "         'meal and accomodation': 1,\n",
              "         'meal provisions': 1,\n",
              "         'meal voucher / lunch box': 12,\n",
              "         'meals': 28,\n",
              "         'meals & transport': 4,\n",
              "         'meals allowance': 15,\n",
              "         'meals and transport allowance': 1,\n",
              "         'medical': 37,\n",
              "         'medical (bpjs)': 2,\n",
              "         'medical (provider sinar mas)': 10,\n",
              "         'medical allowance': 1,\n",
              "         'medical and dental': 2,\n",
              "         'medical check up': 6,\n",
              "         'medical check up every year': 1,\n",
              "         'medical check up/tahun': 1,\n",
              "         'medical claim': 3,\n",
              "         'medical insurance': 14,\n",
              "         'medical insurance (certain positions)': 2,\n",
              "         'medical insurance: in-patient': 1,\n",
              "         'mess': 8,\n",
              "         'mess (tempat tinggal)': 2,\n",
              "         'mess karyawan': 4,\n",
              "         'miscellaneous allowance': 1,\n",
              "         'mobil dinas': 2,\n",
              "         'mobile': 1,\n",
              "         'mobile allowance': 1,\n",
              "         'mobile phone': 3,\n",
              "         'monthly birthday celebration': 1,\n",
              "         'monthly commission': 1,\n",
              "         'monthly incentive': 2,\n",
              "         'monthly salary': 3,\n",
              "         'motor ownership': 2,\n",
              "         'motorcycle/car': 1,\n",
              "         'mushola': 1,\n",
              "         'muslim culture': 1,\n",
              "         'negosiasi': 1,\n",
              "         'negotiable': 6,\n",
              "         'no commute': 3,\n",
              "         'offset': 1,\n",
              "         'olahraga': 6,\n",
              "         'olahraga (contoh: pusat kebugaran)': 895,\n",
              "         'olahraga.': 2,\n",
              "         'onsite allowance': 1,\n",
              "         'open discussion': 1,\n",
              "         'operational': 8,\n",
              "         'operational allowance': 1,\n",
              "         'optical benefit': 2,\n",
              "         'optics': 5,\n",
              "         'or': 1,\n",
              "         'other': 1,\n",
              "         'other benefits': 60,\n",
              "         'other benefits are applied to certain level.': 3,\n",
              "         'others': 4,\n",
              "         'others benefits': 33,\n",
              "         'our products are suitable used either by industrial': 6,\n",
              "         'out-patient': 1,\n",
              "         'outbond': 10,\n",
              "         'outbound': 1,\n",
              "         'outing': 3,\n",
              "         'outpatient & inpatient coverage': 2,\n",
              "         'outpatient & inpatient insurance': 2,\n",
              "         'outstanding award': 4,\n",
              "         'overseas exposure': 1,\n",
              "         'overseas t': 27,\n",
              "         'overseas training': 6,\n",
              "         'overseas trips': 2,\n",
              "         'overtime': 22,\n",
              "         'overtime allowance': 2,\n",
              "         'overtime cost': 2,\n",
              "         'overtime pay': 7,\n",
              "         'overtime payment': 1,\n",
              "         'paid leave': 1,\n",
              "         'pajak': 3,\n",
              "         'pajak dibayarkan oleh perusahaan': 1,\n",
              "         'pajak ditanggung perusahaan': 3,\n",
              "         'pajak pph21': 5,\n",
              "         'parking': 9,\n",
              "         'parkir': 2814,\n",
              "         'pelatihan': 1,\n",
              "         'pelatihan dan pengembangan': 5,\n",
              "         'pembantu': 4,\n",
              "         'pendampingan di lapangan': 1,\n",
              "         'pendidikan': 2,\n",
              "         'penempatan site : tunjangan site': 4,\n",
              "         'penghasilan tidak terbatas': 1,\n",
              "         'penglihatan': 1255,\n",
              "         'pension': 6,\n",
              "         'pension fund': 8,\n",
              "         'pension fund and social security': 2,\n",
              "         'pension funds (dplk)': 3,\n",
              "         'pension plan': 1,\n",
              "         'pension program': 1,\n",
              "         'pensiun': 4,\n",
              "         'perfomance bonus': 3,\n",
              "         'performance bonus': 31,\n",
              "         'performance bonus and other incentives': 2,\n",
              "         'performance bonuses': 8,\n",
              "         'performance incentive scheme': 51,\n",
              "         'performance incentive scheme (for store)': 1,\n",
              "         'performance insentive scheme': 11,\n",
              "         'performance rewards': 2,\n",
              "         'perjalanan dinas': 3,\n",
              "         'perjalanan ke eropa': 2,\n",
              "         'personal accident insurance': 8,\n",
              "         'personal care': 4,\n",
              "         'personal development': 3,\n",
              "         'phone': 1,\n",
              "         'phone allowance': 10,\n",
              "         'phone reimbursement': 3,\n",
              "         'pinjaman': 1184,\n",
              "         'pinjaman karyawan': 2,\n",
              "         'playing area': 1,\n",
              "         'prestation monthly bonus': 1,\n",
              "         'private health insurance': 2,\n",
              "         'private insurance': 3,\n",
              "         'production bonus based on sales target': 1,\n",
              "         'production fee': 1,\n",
              "         'profit sharing': 15,\n",
              "         'profit sharing.': 1,\n",
              "         'program reward': 2,\n",
              "         'project bonus': 5,\n",
              "         'project bonus & project efficiency bonus': 1,\n",
              "         'project incentive': 3,\n",
              "         'provide meal': 4,\n",
              "         'pulsa': 33,\n",
              "         'pulse': 1,\n",
              "         'quarter bonus': 1,\n",
              "         're-club (employee gathering) and guru cares (csr program)': 2,\n",
              "         'recreation': 3,\n",
              "         'recreational area': 6,\n",
              "         'recreational space': 2,\n",
              "         'reimbursement': 3,\n",
              "         'rekreasi dalam & luar negeri': 8,\n",
              "         'relocation support': 6,\n",
              "         'remote work': 1,\n",
              "         'retirement allowance': 3,\n",
              "         'retirement support': 2,\n",
              "         'retirement system': 1,\n",
              "         'reward': 3,\n",
              "         'reward karyawan berprestasi': 2,\n",
              "         'reward pencapaian target.': 3,\n",
              "         'rewards dan travel': 1,\n",
              "         'room': 1,\n",
              "         'safety measure services': 1,\n",
              "         'salary': 9,\n",
              "         'salary and incentives based on performance': 2,\n",
              "         'salary+insentive': 1,\n",
              "         'sales bonus': 2,\n",
              "         'sales commisions': 1,\n",
              "         'sales commission': 7,\n",
              "         'sales incentive': 1,\n",
              "         'sales incentives': 3,\n",
              "         'sales/profit-based bonus': 1,\n",
              "         'sallary competitive': 2,\n",
              "         'saving plan': 3,\n",
              "         'seasonal benefit': 5,\n",
              "         'selama wfh ada tunjangan internet': 1,\n",
              "         'service award': 6,\n",
              "         'service charge': 3,\n",
              "         'service charge.': 1,\n",
              "         'sesuai kesepakatan bersama': 1,\n",
              "         'shift (malam)': 3,\n",
              "         'site: perumahan': 2,\n",
              "         'skill (certification) allowance': 3,\n",
              "         'skill development': 4,\n",
              "         'skills development': 3,\n",
              "         'snack': 3,\n",
              "         'so many equipping seminars': 2,\n",
              "         'social': 2,\n",
              "         'soft loan motorcycle for the employee': 1,\n",
              "         'special products discount': 6,\n",
              "         'spectacles': 9,\n",
              "         'spiritual journey': 1,\n",
              "         'sport (futsal & badminton)': 1,\n",
              "         'sport activities': 1,\n",
              "         'sport activity': 5,\n",
              "         'sport station': 3,\n",
              "         'sports (e.g. gym)': 3,\n",
              "         'sports (swimming pool': 6,\n",
              "         'staff development plans': 1,\n",
              "         'staff gathering.': 1,\n",
              "         'staff outing': 2,\n",
              "         'standar perusahaan': 1,\n",
              "         'standard and non standard facilities': 1,\n",
              "         'status karyawan tetap': 4,\n",
              "         'structured training': 6,\n",
              "         'superannuation': 5,\n",
              "         'tarbiyah': 1,\n",
              "         'target bonus': 2,\n",
              "         'tax': 3,\n",
              "         'tax allowance': 5,\n",
              "         'team bonding activities': 1,\n",
              "         'team building': 2,\n",
              "         'teambonding allowance': 1,\n",
              "         'telecommunication': 4,\n",
              "         'telecommunication allowances': 2,\n",
              "         'telekomunikasi': 4,\n",
              "         'tempat kerja fleksibel': 1,\n",
              "         'tempat tinggal': 4,\n",
              "         'tempat tinggal (mess bersama)': 4,\n",
              "         'tempat tinggal (mess guru)': 1,\n",
              "         'tempat tinggal (mess)': 1,\n",
              "         'tempat tinggal dan transport': 5,\n",
              "         'tempat tinggal mes': 8,\n",
              "         'termasuk makan': 1,\n",
              "         'the office environment is comfortable and energetic': 2,\n",
              "         'thr': 155,\n",
              "         'thr & health allowance': 2,\n",
              "         'thr + jamsostek': 2,\n",
              "         'thr dan asuransi kecelakaan.': 7,\n",
              "         'thr dan bonus 5 thn': 2,\n",
              "         'thr dan bonus tahunan': 2,\n",
              "         'tidak tersedia': 2702,\n",
              "         'tiket pesawat dsb': 1,\n",
              "         'to be discussed': 2,\n",
              "         'to be discussed during the interview': 2,\n",
              "         'training': 39,\n",
              "         'training & certificate': 4,\n",
              "         'training & transport': 6,\n",
              "         'training allowance': 2,\n",
              "         'training and personal development': 1,\n",
              "         'training local/overseas': 5,\n",
              "         'training support & futsal': 1,\n",
              "         'trainings in indonesia and abroad': 1,\n",
              "         'tranportasi': 5,\n",
              "         'transport': 42,\n",
              "         'transport allowance': 69,\n",
              "         'transport allowance and health insurance': 2,\n",
              "         'transport allowance and meals allowance': 2,\n",
              "         'transport allowances': 2,\n",
              "         'transport and communication': 1,\n",
              "         'transport and meal allowance': 1,\n",
              "         'transport benefit': 1,\n",
              "         'transport dan bpjs': 1,\n",
              "         'transport dan pulsa': 3,\n",
              "         'transport/vehicle (for manager up)': 2,\n",
              "         'transportasi': 34,\n",
              "         'transportasi &uang makan': 1,\n",
              "         'transportasi meeting': 1,\n",
              "         'transportation': 41,\n",
              "         'transportation & meal allowance': 2,\n",
              "         'transportation (flight ticket)': 3,\n",
              "         'transportation allowance': 12,\n",
              "         'transportation allowance / operational car': 7,\n",
              "         'transportation allowance and performance rewards': 1,\n",
              "         'transportation allowances': 2,\n",
              "         'transportation and commission': 2,\n",
              "         'transportation and telephone': 2,\n",
              "         'transportation fee': 1,\n",
              "         'transportation from surabaya/sidoarjo applied for several departement': 5,\n",
              "         'trasnportasi': 1,\n",
              "         'travel': 5,\n",
              "         'travel & meal allowance': 2,\n",
              "         'travel allowance': 6,\n",
              "         'travel benefit': 1,\n",
              "         'travelling allowance': 11,\n",
              "         'trip / training to australia': 3,\n",
              "         'tunjangan': 5,\n",
              "         'tunjangan & jenjang karir': 4,\n",
              "         'tunjangan bpjs kesehatan & ketenagakerjaan': 1,\n",
              "         'tunjangan hari raya': 5,\n",
              "         'tunjangan hari raya idul fitri dan tunjangan hari raya natal': 1,\n",
              "         'tunjangan harian': 5,\n",
              "         'tunjangan harian dan kesehatan': 2,\n",
              "         'tunjangan jabatan': 7,\n",
              "         'tunjangan karyawan': 2,\n",
              "         'tunjangan kehadiran': 3,\n",
              "         'tunjangan kerajinan': 3,\n",
              "         'tunjangan kesehatan': 2,\n",
              "         'tunjangan kesehatan keluarga': 1,\n",
              "         'tunjangan ketenagakerjaan': 7,\n",
              "         'tunjangan kinerja dan lainnya': 1,\n",
              "         'tunjangan komunikasi': 1,\n",
              "         'tunjangan lainnya': 3739,\n",
              "         'tunjangan makan': 18,\n",
              "         'tunjangan makan dan jaminan kesehatan': 1,\n",
              "         'tunjangan makan dan tempat tinggal bpjs ketenagakerjaan dan kesehatan performanc': 1,\n",
              "         'tunjangan makan siang': 3,\n",
              "         'tunjangan operasional': 1,\n",
              "         'tunjangan penempatan': 1,\n",
              "         'tunjangan prestasi': 1,\n",
              "         'tunjangan rp 7.500.000': 1,\n",
              "         'tunjangan shift': 2,\n",
              "         'tunjangan site (perumahan': 10,\n",
              "         'tunjangan tranportasi': 3,\n",
              "         'tunjangan transport': 7,\n",
              "         'tunjangan transportasi': 2,\n",
              "         'uang lembur': 4,\n",
              "         'uang makan': 18,\n",
              "         'uang makan dan transport': 1,\n",
              "         'uang perjalanan dinas': 1,\n",
              "         'uang transport': 3,\n",
              "         'uang transport dan makan': 2,\n",
              "         'um': 3,\n",
              "         'uniform': 1,\n",
              "         'unlimited project - long term project': 1,\n",
              "         'vacation': 2,\n",
              "         'vaccination': 6,\n",
              "         'various free entertainments': 2,\n",
              "         'vision': 3,\n",
              "         'will be discused later': 14,\n",
              "         'work day off': 1,\n",
              "         'work facilities': 3,\n",
              "         'work from home': 1,\n",
              "         'work from home (during pandemic period)': 1,\n",
              "         'work insurance': 1,\n",
              "         'work life balanced': 4,\n",
              "         'work/life': 2,\n",
              "         \"worker's social security program\": 4,\n",
              "         'yearly bonus': 17,\n",
              "         'yearly transport allowance': 3,\n",
              "         'yoga & futsal club': 3,\n",
              "         'zumba': 6})"
            ]
          },
          "metadata": {
            "tags": []
          },
          "execution_count": 54
        }
      ]
    },
    {
      "cell_type": "code",
      "metadata": {
        "id": "CivsdwNtDvHk",
        "outputId": "0bf212e9-3907-4d4b-a850-893de1c3b9b7",
        "colab": {
          "base_uri": "https://localhost:8080/",
          "height": 118
        }
      },
      "source": [
        "temp = pd.Series(list(a))\n",
        "temp[27] = 'kosong'\n",
        "temp.head()"
      ],
      "execution_count": null,
      "outputs": [
        {
          "output_type": "execute_result",
          "data": {
            "text/plain": [
              "0         kesehatan\n",
              "1            parkir\n",
              "2    tidak tersedia\n",
              "3              gigi\n",
              "4     bonus tahunan\n",
              "dtype: object"
            ]
          },
          "metadata": {
            "tags": []
          },
          "execution_count": 55
        }
      ]
    },
    {
      "cell_type": "markdown",
      "metadata": {
        "id": "nzlAOOqXoqiM"
      },
      "source": [
        "Data tunjangan dilakukan perbaikan manual dengan google sheet."
      ]
    },
    {
      "cell_type": "code",
      "metadata": {
        "id": "9w-HaEsWDd3K",
        "outputId": "ecfb5775-146b-4efa-a505-c64bac6ad9e2",
        "colab": {
          "base_uri": "https://localhost:8080/",
          "height": 218
        }
      },
      "source": [
        "t1 = pd.read_csv(\"/content/drive/My Drive/Data Loker/tunjangan_item_mapper2.csv\")\n",
        "\n",
        "t1['Jenis Tunjangan2'] = t1['Jenis Tunjangan2'].str.lower()\n",
        "t1['Jenis Tunjangan2'].value_counts()"
      ],
      "execution_count": null,
      "outputs": [
        {
          "output_type": "execute_result",
          "data": {
            "text/plain": [
              "bonus                 138\n",
              "umum                  106\n",
              "bpjs-jamsostek         71\n",
              "makan                  49\n",
              "transportasi           46\n",
              "                     ... \n",
              "beras                   1\n",
              "flexible                1\n",
              "asuransi-jamsostek      1\n",
              "makanan                 1\n",
              "makan-pendidikan        1\n",
              "Name: Jenis Tunjangan2, Length: 79, dtype: int64"
            ]
          },
          "metadata": {
            "tags": []
          },
          "execution_count": 56
        }
      ]
    },
    {
      "cell_type": "code",
      "metadata": {
        "id": "wbRuXUk52PnH"
      },
      "source": [
        "# t['Jenis Tunjangan2'].value_counts().to_csv('tunjangan_distinct3.csv')"
      ],
      "execution_count": null,
      "outputs": []
    },
    {
      "cell_type": "code",
      "metadata": {
        "id": "iEtmE9c7EiE1"
      },
      "source": [
        "# create dict mapper\n",
        "tunjangan_mapper = dict()\n",
        "\n",
        "for idx, row in t1.iterrows():\n",
        "    tunjangan_mapper[row['Jenis Tunjangan dari data asli (Jangan dirubah)']] = row['Jenis Tunjangan2']"
      ],
      "execution_count": null,
      "outputs": []
    },
    {
      "cell_type": "code",
      "metadata": {
        "id": "6D4Zn6uQFHda"
      },
      "source": [
        "# iterate\n",
        "result = list()\n",
        "for i in range(len(tunjangan)):\n",
        "    split = [data.strip() for data in tunjangan[i].split(',')]\n",
        "    mapping = pd.Series(split).map(tunjangan_mapper).dropna().drop_duplicates()\n",
        "    join = ', '.join(list(mapping)).strip()\n",
        "    result.append(join)"
      ],
      "execution_count": null,
      "outputs": []
    },
    {
      "cell_type": "code",
      "metadata": {
        "id": "OnYcmcUA7CdH",
        "outputId": "74062238-5776-4e76-d677-f6fec4769bbc",
        "colab": {
          "base_uri": "https://localhost:8080/",
          "height": 218
        }
      },
      "source": [
        "pd.Series(result).value_counts()"
      ],
      "execution_count": null,
      "outputs": [
        {
          "output_type": "execute_result",
          "data": {
            "text/plain": [
              "kesehatan                                              3000\n",
              "tidak tersedia                                         2836\n",
              "kesehatan, umum                                        2578\n",
              "umum                                                    868\n",
              "kesehatan, umum, kacamata                               379\n",
              "                                                       ... \n",
              "tidak tersedia, pajak, bonus, kesehatan, pendidikan       1\n",
              "kesehatan, makan, umum, transportasi, komunikasi          1\n",
              "kesehatan, umum, kacamata, transportasi                   1\n",
              "pendidikan, wellnes, kacamata                             1\n",
              "                                                          1\n",
              "Length: 499, dtype: int64"
            ]
          },
          "metadata": {
            "tags": []
          },
          "execution_count": 60
        }
      ]
    },
    {
      "cell_type": "markdown",
      "metadata": {
        "id": "hOiJ7qpFpGPV"
      },
      "source": [
        "Data masih terdapat yang kotor, dilakukan cleaning manual lagi menggunakan google sheet."
      ]
    },
    {
      "cell_type": "code",
      "metadata": {
        "id": "3Fu942Db7O1k",
        "outputId": "9303346a-feaa-40a2-b1e6-84f4c9726b89",
        "colab": {
          "base_uri": "https://localhost:8080/",
          "height": 622
        }
      },
      "source": [
        "t2 = pd.read_csv(\"/content/drive/My Drive/Data Loker/tunjangan_mapper3.csv\")\n",
        "\n",
        "t2['target'] = t2['target'].str.lower()\n",
        "\n",
        "temp = list()\n",
        "for idx, row in t2.iterrows():\n",
        "    split = [data.strip() for data in row['target'].split(',')]\n",
        "    temp += split\n",
        "\n",
        "pd.Series(temp).value_counts()"
      ],
      "execution_count": null,
      "outputs": [
        {
          "output_type": "execute_result",
          "data": {
            "text/plain": [
              "makan                   13\n",
              "asuransi                12\n",
              "transportasi            11\n",
              "bpjs kesehatan          10\n",
              "thr                      9\n",
              "bpjs                     8\n",
              "bonus                    8\n",
              "perumahan                5\n",
              "pendidikan               5\n",
              "kesehatan                5\n",
              "flexible benefits        4\n",
              "traveling                4\n",
              "jht                      3\n",
              "komunikasi               3\n",
              "kacamata                 3\n",
              "gigi                     2\n",
              "jabatan                  2\n",
              "pernikahan               1\n",
              "saham                    1\n",
              "lembur                   1\n",
              "transport                1\n",
              "umum                     1\n",
              "negotiable               1\n",
              "member koperasi          1\n",
              "operasional              1\n",
              "bpjs ketenagakerjaan     1\n",
              "lainnya                  1\n",
              "pensiun                  1\n",
              "tidak tersedia           1\n",
              "promosi                  1\n",
              "daerah                   1\n",
              "pajak                    1\n",
              "lahiran                  1\n",
              "keluarga                 1\n",
              "cuti                     1\n",
              "dtype: int64"
            ]
          },
          "metadata": {
            "tags": []
          },
          "execution_count": 61
        }
      ]
    },
    {
      "cell_type": "code",
      "metadata": {
        "id": "yzPan1Ym8ZMf"
      },
      "source": [
        "# create dict mapper\n",
        "tunjangan_mapper2 = dict()\n",
        "\n",
        "for idx, row in t2.iterrows():\n",
        "    tunjangan_mapper2[row['asli']] = row['target']"
      ],
      "execution_count": null,
      "outputs": []
    },
    {
      "cell_type": "code",
      "metadata": {
        "id": "eDsWvWBG8ppC"
      },
      "source": [
        "# iterate\n",
        "result2 = list()\n",
        "for i in range(len(result)):\n",
        "    split = [data.strip() for data in result[i].split(',')]\n",
        "    mapping = pd.Series(split).map(tunjangan_mapper2).dropna().drop_duplicates()\n",
        "    join = ', '.join(list(mapping)).strip()\n",
        "    result2.append(join)"
      ],
      "execution_count": null,
      "outputs": []
    },
    {
      "cell_type": "code",
      "metadata": {
        "id": "4Mz0hSHj9CVa",
        "outputId": "532ed42b-2d8d-494c-f32e-115532677bef",
        "colab": {
          "base_uri": "https://localhost:8080/",
          "height": 638
        }
      },
      "source": [
        "# check unique\n",
        "temp = list()\n",
        "for i in range(len(result2)):\n",
        "    split = [data.strip() for data in result2[i].split(',')]\n",
        "    temp += split\n",
        "\n",
        "pd.Series(temp).value_counts()"
      ],
      "execution_count": null,
      "outputs": [
        {
          "output_type": "execute_result",
          "data": {
            "text/plain": [
              "kesehatan               9310\n",
              "umum                    5980\n",
              "tidak tersedia          2921\n",
              "kacamata                1290\n",
              "bpjs kesehatan          1248\n",
              "pendidikan               946\n",
              "bonus                    899\n",
              "makan                    436\n",
              "transportasi             335\n",
              "thr                      202\n",
              "asuransi                 197\n",
              "komunikasi               185\n",
              "jht                      129\n",
              "pensiun                  124\n",
              "traveling                 81\n",
              "jabatan                   80\n",
              "perumahan                 69\n",
              "lembur                    48\n",
              "bpjs                      47\n",
              "transport                 40\n",
              "cuti                      40\n",
              "lahiran                   39\n",
              "pernikahan                39\n",
              "lainnya                   37\n",
              "daerah                    33\n",
              "flexible benefits         29\n",
              "saham                     16\n",
              "member koperasi           14\n",
              "negotiable                13\n",
              "operasional               10\n",
              "pajak                      8\n",
              "promosi                    7\n",
              "gigi                       7\n",
              "bpjs ketenagakerjaan       4\n",
              "keluarga                   2\n",
              "                           1\n",
              "dtype: int64"
            ]
          },
          "metadata": {
            "tags": []
          },
          "execution_count": 64
        }
      ]
    },
    {
      "cell_type": "markdown",
      "metadata": {
        "id": "PmFTaokcpTTK"
      },
      "source": [
        "Terdapat data yang hanya berisi character titik '.', dilakukan replace dengan 'tidak tersedia'"
      ]
    },
    {
      "cell_type": "code",
      "metadata": {
        "id": "yk4d1do1_RGP",
        "outputId": "7c594ea4-5027-4c7a-c118-a9bd72c812b9",
        "colab": {
          "base_uri": "https://localhost:8080/",
          "height": 35
        }
      },
      "source": [
        "# data asli\n",
        "tunjangan[12045]"
      ],
      "execution_count": null,
      "outputs": [
        {
          "output_type": "execute_result",
          "data": {
            "application/vnd.google.colaboratory.intrinsic+json": {
              "type": "string"
            },
            "text/plain": [
              "'.'"
            ]
          },
          "metadata": {
            "tags": []
          },
          "execution_count": 65
        }
      ]
    },
    {
      "cell_type": "code",
      "metadata": {
        "id": "4t2lNoqZ-UHB",
        "outputId": "0fd98878-8b13-45e9-9077-20adbf69ec8b",
        "colab": {
          "base_uri": "https://localhost:8080/",
          "height": 50
        }
      },
      "source": [
        "result3 = pd.Series(result2)\n",
        "\n",
        "# cari indeks data kosong\n",
        "result3[result3 == '']"
      ],
      "execution_count": null,
      "outputs": [
        {
          "output_type": "execute_result",
          "data": {
            "text/plain": [
              "12045    \n",
              "dtype: object"
            ]
          },
          "metadata": {
            "tags": []
          },
          "execution_count": 66
        }
      ]
    },
    {
      "cell_type": "code",
      "metadata": {
        "id": "AE-Njrxk_c03"
      },
      "source": [
        "# replace kosong dengan 'tidak tersedia'\n",
        "result3.iloc[12045] = 'tidak tersedia'"
      ],
      "execution_count": null,
      "outputs": []
    },
    {
      "cell_type": "code",
      "metadata": {
        "id": "qbA7zAnI-kRL",
        "outputId": "0a03615f-bf9a-4183-b479-4e0dc70d98c4",
        "colab": {
          "base_uri": "https://localhost:8080/",
          "height": 622
        }
      },
      "source": [
        "# check unique\n",
        "temp = list()\n",
        "for i in range(len(result3)):\n",
        "    split = [data.strip() for data in result3[i].split(',')]\n",
        "    temp += split\n",
        "\n",
        "pd.Series(temp).value_counts()"
      ],
      "execution_count": null,
      "outputs": [
        {
          "output_type": "execute_result",
          "data": {
            "text/plain": [
              "kesehatan               9310\n",
              "umum                    5980\n",
              "tidak tersedia          2922\n",
              "kacamata                1290\n",
              "bpjs kesehatan          1248\n",
              "pendidikan               946\n",
              "bonus                    899\n",
              "makan                    436\n",
              "transportasi             335\n",
              "thr                      202\n",
              "asuransi                 197\n",
              "komunikasi               185\n",
              "jht                      129\n",
              "pensiun                  124\n",
              "traveling                 81\n",
              "jabatan                   80\n",
              "perumahan                 69\n",
              "lembur                    48\n",
              "bpjs                      47\n",
              "transport                 40\n",
              "cuti                      40\n",
              "pernikahan                39\n",
              "lahiran                   39\n",
              "lainnya                   37\n",
              "daerah                    33\n",
              "flexible benefits         29\n",
              "saham                     16\n",
              "member koperasi           14\n",
              "negotiable                13\n",
              "operasional               10\n",
              "pajak                      8\n",
              "promosi                    7\n",
              "gigi                       7\n",
              "bpjs ketenagakerjaan       4\n",
              "keluarga                   2\n",
              "dtype: int64"
            ]
          },
          "metadata": {
            "tags": []
          },
          "execution_count": 68
        }
      ]
    },
    {
      "cell_type": "code",
      "metadata": {
        "id": "o4xljQrM-nKC",
        "outputId": "8b1f583b-ac62-4cf0-9eca-ac2e785d4707",
        "colab": {
          "base_uri": "https://localhost:8080/",
          "height": 34
        }
      },
      "source": [
        "# check null values\n",
        "data['work_environment_tunjangan'] = result3.tolist()\n",
        "data['work_environment_tunjangan'].isnull().sum()"
      ],
      "execution_count": null,
      "outputs": [
        {
          "output_type": "execute_result",
          "data": {
            "text/plain": [
              "0"
            ]
          },
          "metadata": {
            "tags": []
          },
          "execution_count": 69
        }
      ]
    },
    {
      "cell_type": "code",
      "metadata": {
        "id": "0-u9HDgY9BkF",
        "outputId": "b479ad1b-c4a7-49ea-eb45-1cb1b335c9b0",
        "colab": {
          "base_uri": "https://localhost:8080/",
          "height": 434
        }
      },
      "source": [
        "data.head()"
      ],
      "execution_count": null,
      "outputs": [
        {
          "output_type": "execute_result",
          "data": {
            "text/html": [
              "<div>\n",
              "<style scoped>\n",
              "    .dataframe tbody tr th:only-of-type {\n",
              "        vertical-align: middle;\n",
              "    }\n",
              "\n",
              "    .dataframe tbody tr th {\n",
              "        vertical-align: top;\n",
              "    }\n",
              "\n",
              "    .dataframe thead th {\n",
              "        text-align: right;\n",
              "    }\n",
              "</style>\n",
              "<table border=\"1\" class=\"dataframe\">\n",
              "  <thead>\n",
              "    <tr style=\"text-align: right;\">\n",
              "      <th></th>\n",
              "      <th>platform</th>\n",
              "      <th>job_position</th>\n",
              "      <th>company_name</th>\n",
              "      <th>years_of_experience</th>\n",
              "      <th>company_location</th>\n",
              "      <th>job_description</th>\n",
              "      <th>average_processing_time</th>\n",
              "      <th>company_industry</th>\n",
              "      <th>company_size</th>\n",
              "      <th>work_environment_waktu_bekerja</th>\n",
              "      <th>work_environment_gaya_berpakaian</th>\n",
              "      <th>work_environment_tunjangan</th>\n",
              "      <th>work_environment_bahasa</th>\n",
              "      <th>years_of_experience_cat</th>\n",
              "      <th>work_environment_gaya_berpakaian_contoh</th>\n",
              "    </tr>\n",
              "  </thead>\n",
              "  <tbody>\n",
              "    <tr>\n",
              "      <th>0</th>\n",
              "      <td>jobstreet</td>\n",
              "      <td>SPV FINANCE</td>\n",
              "      <td>PT Axindo Infotama</td>\n",
              "      <td>3</td>\n",
              "      <td>Indonesia - Jakarta Raya - Jakarta Pusat - Ruk...</td>\n",
              "      <td>[SEP][SEP]Usia Max. 35 tahun[SEP]Pendidikan Mi...</td>\n",
              "      <td>6</td>\n",
              "      <td>Retail/Merchandise</td>\n",
              "      <td>51 - 200 pekerja</td>\n",
              "      <td>sabtu</td>\n",
              "      <td>formal</td>\n",
              "      <td>kesehatan, umum</td>\n",
              "      <td>Bahasa Indonesia</td>\n",
              "      <td>0 - 4 tahun</td>\n",
              "      <td>kemeja polos &amp; dasi</td>\n",
              "    </tr>\n",
              "    <tr>\n",
              "      <th>1</th>\n",
              "      <td>jobstreet</td>\n",
              "      <td>Qualitative Research Executive</td>\n",
              "      <td>Perusahaan Dirahasiakan</td>\n",
              "      <td>3</td>\n",
              "      <td>Indonesia - Jakarta Raya</td>\n",
              "      <td>RESPONSIBILITIES:[SEP]Brief Description of Dut...</td>\n",
              "      <td>tidak tersedia</td>\n",
              "      <td>tidak tersedia</td>\n",
              "      <td>tidak spesifik</td>\n",
              "      <td>tidak tersedia</td>\n",
              "      <td>tidak spesifik</td>\n",
              "      <td>tidak tersedia</td>\n",
              "      <td>NaN</td>\n",
              "      <td>0 - 4 tahun</td>\n",
              "      <td>tidak spesifik</td>\n",
              "    </tr>\n",
              "    <tr>\n",
              "      <th>2</th>\n",
              "      <td>jobstreet</td>\n",
              "      <td>Field Collection (JS - FC) Wonogiri</td>\n",
              "      <td>OTO Group</td>\n",
              "      <td>0</td>\n",
              "      <td>Indonesia - Jawa Tengah - Wonogiri Wonogoro - ...</td>\n",
              "      <td>[SEP]Lingkup pekerjaan: [SEP]Menjaga account d...</td>\n",
              "      <td>14</td>\n",
              "      <td>Perbankan/Pelayanan Keuangan</td>\n",
              "      <td>lebih dari 5000 pekerja</td>\n",
              "      <td>senin - jumat</td>\n",
              "      <td>bisnis</td>\n",
              "      <td>kesehatan, bonus</td>\n",
              "      <td>Bahasa Indonesia</td>\n",
              "      <td>0 - 4 tahun</td>\n",
              "      <td>kemeja</td>\n",
              "    </tr>\n",
              "    <tr>\n",
              "      <th>3</th>\n",
              "      <td>jobstreet</td>\n",
              "      <td>Perawat di Negara Jerman</td>\n",
              "      <td>PT Jerman Manajemen</td>\n",
              "      <td>1</td>\n",
              "      <td>Indonesia - Jakarta Raya</td>\n",
              "      <td>[SEP]Candidate must possess at least Diploma i...</td>\n",
              "      <td>11</td>\n",
              "      <td>Pendidikan</td>\n",
              "      <td>51 - 200 pekerja</td>\n",
              "      <td>sabtu - kamis</td>\n",
              "      <td>formal</td>\n",
              "      <td>kesehatan</td>\n",
              "      <td>Bahasa Indonesia</td>\n",
              "      <td>0 - 4 tahun</td>\n",
              "      <td>kemeja polos &amp; dasi</td>\n",
              "    </tr>\n",
              "    <tr>\n",
              "      <th>4</th>\n",
              "      <td>jobstreet</td>\n",
              "      <td>Field Collection (JS - FC) Pati</td>\n",
              "      <td>OTO Group</td>\n",
              "      <td>0</td>\n",
              "      <td>Indonesia - Jawa Tengah - Pati</td>\n",
              "      <td>[SEP]Lingkup pekerjaan: [SEP]Menjaga account d...</td>\n",
              "      <td>14</td>\n",
              "      <td>Perbankan/Pelayanan Keuangan</td>\n",
              "      <td>lebih dari 5000 pekerja</td>\n",
              "      <td>senin - jumat</td>\n",
              "      <td>bisnis</td>\n",
              "      <td>kesehatan, bonus</td>\n",
              "      <td>Bahasa Indonesia</td>\n",
              "      <td>0 - 4 tahun</td>\n",
              "      <td>kemeja</td>\n",
              "    </tr>\n",
              "  </tbody>\n",
              "</table>\n",
              "</div>"
            ],
            "text/plain": [
              "    platform  ... work_environment_gaya_berpakaian_contoh\n",
              "0  jobstreet  ...                     kemeja polos & dasi\n",
              "1  jobstreet  ...                          tidak spesifik\n",
              "2  jobstreet  ...                                  kemeja\n",
              "3  jobstreet  ...                     kemeja polos & dasi\n",
              "4  jobstreet  ...                                  kemeja\n",
              "\n",
              "[5 rows x 15 columns]"
            ]
          },
          "metadata": {
            "tags": []
          },
          "execution_count": 70
        }
      ]
    },
    {
      "cell_type": "markdown",
      "metadata": {
        "id": "2OA02wQX9uHL"
      },
      "source": [
        "### work_environment_bahasa"
      ]
    },
    {
      "cell_type": "code",
      "metadata": {
        "id": "8W3xX7BA-rg1",
        "outputId": "dd0c8b83-683c-430e-cb37-4177a3525c67",
        "colab": {
          "base_uri": "https://localhost:8080/",
          "height": 218
        }
      },
      "source": [
        "# convert to lower case dan fillna dengan string 'tidak tersedia'\n",
        "bahasa = data['work_environment_bahasa'].str.lower().fillna('tidak tersedia')\n",
        "\n",
        "bahasa.value_counts()"
      ],
      "execution_count": null,
      "outputs": [
        {
          "output_type": "execute_result",
          "data": {
            "text/plain": [
              "bahasa indonesia                      9162\n",
              "bahasa inggris                        1856\n",
              "tidak tersedia                        1642\n",
              "bahasa indonesia & english             208\n",
              "bahasa indonesia - english             162\n",
              "                                      ... \n",
              "inggris, indonesia, mandarin             1\n",
              "indonesia and mandarin                   1\n",
              "indonesia-inggris                        1\n",
              "english, chinese, bahasa indonesia       1\n",
              "english and korea                        1\n",
              "Name: work_environment_bahasa, Length: 150, dtype: int64"
            ]
          },
          "metadata": {
            "tags": []
          },
          "execution_count": 71
        }
      ]
    },
    {
      "cell_type": "code",
      "metadata": {
        "id": "OUcPabKLJMS-"
      },
      "source": [
        "# bahasa.value_counts().to_csv('bahasa_distinct.csv')"
      ],
      "execution_count": null,
      "outputs": []
    },
    {
      "cell_type": "markdown",
      "metadata": {
        "id": "rdHuwyNRpjh_"
      },
      "source": [
        "Lakukan cleaning secara manual dengan google sheet."
      ]
    },
    {
      "cell_type": "code",
      "metadata": {
        "id": "V4EcfMyzNLoj",
        "outputId": "e2a70b18-6392-4a41-c4db-d198bd2f035e",
        "colab": {
          "base_uri": "https://localhost:8080/",
          "height": 202
        }
      },
      "source": [
        "b = pd.read_csv(\"/content/drive/My Drive/Data Loker/bahasa_mapper.csv\")\n",
        "\n",
        "temp = list()\n",
        "for idx, row in b.iterrows():\n",
        "    split = [data.strip() for data in row['target'].split(',')]\n",
        "    temp += split\n",
        "\n",
        "pd.Series(temp).value_counts()"
      ],
      "execution_count": null,
      "outputs": [
        {
          "output_type": "execute_result",
          "data": {
            "text/plain": [
              "inggris           135\n",
              "indonesia         126\n",
              "mandarin           58\n",
              "jepang              9\n",
              "korea               5\n",
              "hokien              2\n",
              "arab                1\n",
              "tidak tersedia      1\n",
              "malay               1\n",
              "jerman              1\n",
              "dtype: int64"
            ]
          },
          "metadata": {
            "tags": []
          },
          "execution_count": 73
        }
      ]
    },
    {
      "cell_type": "code",
      "metadata": {
        "id": "gg1PeSVNO4iT",
        "outputId": "5634369f-a13b-4119-a711-e453d14c3690",
        "colab": {
          "base_uri": "https://localhost:8080/",
          "height": 195
        }
      },
      "source": [
        "b.head()"
      ],
      "execution_count": null,
      "outputs": [
        {
          "output_type": "execute_result",
          "data": {
            "text/html": [
              "<div>\n",
              "<style scoped>\n",
              "    .dataframe tbody tr th:only-of-type {\n",
              "        vertical-align: middle;\n",
              "    }\n",
              "\n",
              "    .dataframe tbody tr th {\n",
              "        vertical-align: top;\n",
              "    }\n",
              "\n",
              "    .dataframe thead th {\n",
              "        text-align: right;\n",
              "    }\n",
              "</style>\n",
              "<table border=\"1\" class=\"dataframe\">\n",
              "  <thead>\n",
              "    <tr style=\"text-align: right;\">\n",
              "      <th></th>\n",
              "      <th>asli</th>\n",
              "      <th>target</th>\n",
              "    </tr>\n",
              "  </thead>\n",
              "  <tbody>\n",
              "    <tr>\n",
              "      <th>0</th>\n",
              "      <td>bahasa indonesia</td>\n",
              "      <td>indonesia</td>\n",
              "    </tr>\n",
              "    <tr>\n",
              "      <th>1</th>\n",
              "      <td>bahasa inggris</td>\n",
              "      <td>inggris</td>\n",
              "    </tr>\n",
              "    <tr>\n",
              "      <th>2</th>\n",
              "      <td>tidak tersedia</td>\n",
              "      <td>tidak tersedia</td>\n",
              "    </tr>\n",
              "    <tr>\n",
              "      <th>3</th>\n",
              "      <td>bahasa indonesia &amp; english</td>\n",
              "      <td>indonesia, inggris</td>\n",
              "    </tr>\n",
              "    <tr>\n",
              "      <th>4</th>\n",
              "      <td>bahasa indonesia - english</td>\n",
              "      <td>indonesia, inggris</td>\n",
              "    </tr>\n",
              "  </tbody>\n",
              "</table>\n",
              "</div>"
            ],
            "text/plain": [
              "                         asli              target\n",
              "0            bahasa indonesia           indonesia\n",
              "1              bahasa inggris             inggris\n",
              "2              tidak tersedia      tidak tersedia\n",
              "3  bahasa indonesia & english  indonesia, inggris\n",
              "4  bahasa indonesia - english  indonesia, inggris"
            ]
          },
          "metadata": {
            "tags": []
          },
          "execution_count": 74
        }
      ]
    },
    {
      "cell_type": "code",
      "metadata": {
        "id": "EdWLePEUOy2r"
      },
      "source": [
        "# create dict mapper\n",
        "bahasa_mapper = dict()\n",
        "\n",
        "for idx, row in b.iterrows():\n",
        "    bahasa_mapper[row['asli']] = row['target']"
      ],
      "execution_count": null,
      "outputs": []
    },
    {
      "cell_type": "code",
      "metadata": {
        "id": "hs4wL5dNPFtw"
      },
      "source": [
        "# iterate\n",
        "result = list()\n",
        "for i in range(len(bahasa)):\n",
        "    split = [data.strip() for data in bahasa[i].split(',')]\n",
        "    mapping = pd.Series(split).map(bahasa_mapper).dropna().drop_duplicates()\n",
        "\n",
        "    result.append(list(mapping))"
      ],
      "execution_count": null,
      "outputs": []
    },
    {
      "cell_type": "code",
      "metadata": {
        "id": "ok1Bux5bPnGp"
      },
      "source": [
        "# join list\n",
        "result_bahasa = list()\n",
        "for res in result:\n",
        "    r = ', '.join(res).strip()\n",
        "    result_bahasa.append(r)"
      ],
      "execution_count": null,
      "outputs": []
    },
    {
      "cell_type": "code",
      "metadata": {
        "id": "JQUj1AGqyRoc"
      },
      "source": [
        "# cek nilai kosong dan isi dengan 'tidak dicantumkan'\n",
        "for idx, res in enumerate(result_bahasa):\n",
        "    if res == 'tidak tersedia':\n",
        "        result_bahasa[idx] = 'tidak dicantumkan'\n",
        "\n",
        "    if len(res) <= 1:\n",
        "        result_bahasa[idx] = 'tidak dicantumkan'"
      ],
      "execution_count": null,
      "outputs": []
    },
    {
      "cell_type": "code",
      "metadata": {
        "id": "k5UmNGyW-wGl",
        "outputId": "af248b17-553f-4eea-ba6a-42e1bec60dc3",
        "colab": {
          "base_uri": "https://localhost:8080/",
          "height": 34
        }
      },
      "source": [
        "# check null values\n",
        "data['work_environment_bahasa'] = result_bahasa\n",
        "data['work_environment_bahasa'].isnull().sum()"
      ],
      "execution_count": null,
      "outputs": [
        {
          "output_type": "execute_result",
          "data": {
            "text/plain": [
              "0"
            ]
          },
          "metadata": {
            "tags": []
          },
          "execution_count": 79
        }
      ]
    },
    {
      "cell_type": "code",
      "metadata": {
        "id": "pIrRCXFjBfpV",
        "outputId": "e09d98f3-956e-44c2-c7fb-abd013397933",
        "colab": {
          "base_uri": "https://localhost:8080/",
          "height": 434
        }
      },
      "source": [
        "data.head()"
      ],
      "execution_count": null,
      "outputs": [
        {
          "output_type": "execute_result",
          "data": {
            "text/html": [
              "<div>\n",
              "<style scoped>\n",
              "    .dataframe tbody tr th:only-of-type {\n",
              "        vertical-align: middle;\n",
              "    }\n",
              "\n",
              "    .dataframe tbody tr th {\n",
              "        vertical-align: top;\n",
              "    }\n",
              "\n",
              "    .dataframe thead th {\n",
              "        text-align: right;\n",
              "    }\n",
              "</style>\n",
              "<table border=\"1\" class=\"dataframe\">\n",
              "  <thead>\n",
              "    <tr style=\"text-align: right;\">\n",
              "      <th></th>\n",
              "      <th>platform</th>\n",
              "      <th>job_position</th>\n",
              "      <th>company_name</th>\n",
              "      <th>years_of_experience</th>\n",
              "      <th>company_location</th>\n",
              "      <th>job_description</th>\n",
              "      <th>average_processing_time</th>\n",
              "      <th>company_industry</th>\n",
              "      <th>company_size</th>\n",
              "      <th>work_environment_waktu_bekerja</th>\n",
              "      <th>work_environment_gaya_berpakaian</th>\n",
              "      <th>work_environment_tunjangan</th>\n",
              "      <th>work_environment_bahasa</th>\n",
              "      <th>years_of_experience_cat</th>\n",
              "      <th>work_environment_gaya_berpakaian_contoh</th>\n",
              "    </tr>\n",
              "  </thead>\n",
              "  <tbody>\n",
              "    <tr>\n",
              "      <th>0</th>\n",
              "      <td>jobstreet</td>\n",
              "      <td>SPV FINANCE</td>\n",
              "      <td>PT Axindo Infotama</td>\n",
              "      <td>3</td>\n",
              "      <td>Indonesia - Jakarta Raya - Jakarta Pusat - Ruk...</td>\n",
              "      <td>[SEP][SEP]Usia Max. 35 tahun[SEP]Pendidikan Mi...</td>\n",
              "      <td>6</td>\n",
              "      <td>Retail/Merchandise</td>\n",
              "      <td>51 - 200 pekerja</td>\n",
              "      <td>sabtu</td>\n",
              "      <td>formal</td>\n",
              "      <td>kesehatan, umum</td>\n",
              "      <td>indonesia</td>\n",
              "      <td>0 - 4 tahun</td>\n",
              "      <td>kemeja polos &amp; dasi</td>\n",
              "    </tr>\n",
              "    <tr>\n",
              "      <th>1</th>\n",
              "      <td>jobstreet</td>\n",
              "      <td>Qualitative Research Executive</td>\n",
              "      <td>Perusahaan Dirahasiakan</td>\n",
              "      <td>3</td>\n",
              "      <td>Indonesia - Jakarta Raya</td>\n",
              "      <td>RESPONSIBILITIES:[SEP]Brief Description of Dut...</td>\n",
              "      <td>tidak tersedia</td>\n",
              "      <td>tidak tersedia</td>\n",
              "      <td>tidak spesifik</td>\n",
              "      <td>tidak tersedia</td>\n",
              "      <td>tidak spesifik</td>\n",
              "      <td>tidak tersedia</td>\n",
              "      <td>tidak dicantumkan</td>\n",
              "      <td>0 - 4 tahun</td>\n",
              "      <td>tidak spesifik</td>\n",
              "    </tr>\n",
              "    <tr>\n",
              "      <th>2</th>\n",
              "      <td>jobstreet</td>\n",
              "      <td>Field Collection (JS - FC) Wonogiri</td>\n",
              "      <td>OTO Group</td>\n",
              "      <td>0</td>\n",
              "      <td>Indonesia - Jawa Tengah - Wonogiri Wonogoro - ...</td>\n",
              "      <td>[SEP]Lingkup pekerjaan: [SEP]Menjaga account d...</td>\n",
              "      <td>14</td>\n",
              "      <td>Perbankan/Pelayanan Keuangan</td>\n",
              "      <td>lebih dari 5000 pekerja</td>\n",
              "      <td>senin - jumat</td>\n",
              "      <td>bisnis</td>\n",
              "      <td>kesehatan, bonus</td>\n",
              "      <td>indonesia</td>\n",
              "      <td>0 - 4 tahun</td>\n",
              "      <td>kemeja</td>\n",
              "    </tr>\n",
              "    <tr>\n",
              "      <th>3</th>\n",
              "      <td>jobstreet</td>\n",
              "      <td>Perawat di Negara Jerman</td>\n",
              "      <td>PT Jerman Manajemen</td>\n",
              "      <td>1</td>\n",
              "      <td>Indonesia - Jakarta Raya</td>\n",
              "      <td>[SEP]Candidate must possess at least Diploma i...</td>\n",
              "      <td>11</td>\n",
              "      <td>Pendidikan</td>\n",
              "      <td>51 - 200 pekerja</td>\n",
              "      <td>sabtu - kamis</td>\n",
              "      <td>formal</td>\n",
              "      <td>kesehatan</td>\n",
              "      <td>indonesia</td>\n",
              "      <td>0 - 4 tahun</td>\n",
              "      <td>kemeja polos &amp; dasi</td>\n",
              "    </tr>\n",
              "    <tr>\n",
              "      <th>4</th>\n",
              "      <td>jobstreet</td>\n",
              "      <td>Field Collection (JS - FC) Pati</td>\n",
              "      <td>OTO Group</td>\n",
              "      <td>0</td>\n",
              "      <td>Indonesia - Jawa Tengah - Pati</td>\n",
              "      <td>[SEP]Lingkup pekerjaan: [SEP]Menjaga account d...</td>\n",
              "      <td>14</td>\n",
              "      <td>Perbankan/Pelayanan Keuangan</td>\n",
              "      <td>lebih dari 5000 pekerja</td>\n",
              "      <td>senin - jumat</td>\n",
              "      <td>bisnis</td>\n",
              "      <td>kesehatan, bonus</td>\n",
              "      <td>indonesia</td>\n",
              "      <td>0 - 4 tahun</td>\n",
              "      <td>kemeja</td>\n",
              "    </tr>\n",
              "  </tbody>\n",
              "</table>\n",
              "</div>"
            ],
            "text/plain": [
              "    platform  ... work_environment_gaya_berpakaian_contoh\n",
              "0  jobstreet  ...                     kemeja polos & dasi\n",
              "1  jobstreet  ...                          tidak spesifik\n",
              "2  jobstreet  ...                                  kemeja\n",
              "3  jobstreet  ...                     kemeja polos & dasi\n",
              "4  jobstreet  ...                                  kemeja\n",
              "\n",
              "[5 rows x 15 columns]"
            ]
          },
          "metadata": {
            "tags": []
          },
          "execution_count": 80
        }
      ]
    },
    {
      "cell_type": "markdown",
      "metadata": {
        "id": "jlvmQD11xXEi"
      },
      "source": [
        "## Ekstrak company_location\n",
        "Menghasilkan atribut baru yaitu <code>pulau</code> dan <code>provinsi</code>"
      ]
    },
    {
      "cell_type": "code",
      "metadata": {
        "id": "AK1ocavYxWgR",
        "outputId": "669c905a-0077-4692-9f62-ed12d0cd0cd7",
        "colab": {
          "base_uri": "https://localhost:8080/",
          "height": 195
        }
      },
      "source": [
        "# data bantuan \n",
        "kota_kab = pd.read_csv(\"/content/drive/My Drive/Data Loker/daftar_kota_kabupaten_id.csv\")\n",
        "kota_kab.head()"
      ],
      "execution_count": null,
      "outputs": [
        {
          "output_type": "execute_result",
          "data": {
            "text/html": [
              "<div>\n",
              "<style scoped>\n",
              "    .dataframe tbody tr th:only-of-type {\n",
              "        vertical-align: middle;\n",
              "    }\n",
              "\n",
              "    .dataframe tbody tr th {\n",
              "        vertical-align: top;\n",
              "    }\n",
              "\n",
              "    .dataframe thead th {\n",
              "        text-align: right;\n",
              "    }\n",
              "</style>\n",
              "<table border=\"1\" class=\"dataframe\">\n",
              "  <thead>\n",
              "    <tr style=\"text-align: right;\">\n",
              "      <th></th>\n",
              "      <th>Pulau</th>\n",
              "      <th>Provinsi</th>\n",
              "      <th>Kabupaten/Kota</th>\n",
              "    </tr>\n",
              "  </thead>\n",
              "  <tbody>\n",
              "    <tr>\n",
              "      <th>0</th>\n",
              "      <td>Sumatera</td>\n",
              "      <td>Aceh</td>\n",
              "      <td>Aceh Barat</td>\n",
              "    </tr>\n",
              "    <tr>\n",
              "      <th>1</th>\n",
              "      <td>Sumatera</td>\n",
              "      <td>Aceh</td>\n",
              "      <td>Aceh Barat Daya</td>\n",
              "    </tr>\n",
              "    <tr>\n",
              "      <th>2</th>\n",
              "      <td>Sumatera</td>\n",
              "      <td>Aceh</td>\n",
              "      <td>Aceh Besar</td>\n",
              "    </tr>\n",
              "    <tr>\n",
              "      <th>3</th>\n",
              "      <td>Sumatera</td>\n",
              "      <td>Aceh</td>\n",
              "      <td>Aceh Jaya</td>\n",
              "    </tr>\n",
              "    <tr>\n",
              "      <th>4</th>\n",
              "      <td>Sumatera</td>\n",
              "      <td>Aceh</td>\n",
              "      <td>Aceh Selatan</td>\n",
              "    </tr>\n",
              "  </tbody>\n",
              "</table>\n",
              "</div>"
            ],
            "text/plain": [
              "      Pulau Provinsi   Kabupaten/Kota\n",
              "0  Sumatera     Aceh       Aceh Barat\n",
              "1  Sumatera     Aceh  Aceh Barat Daya\n",
              "2  Sumatera     Aceh       Aceh Besar\n",
              "3  Sumatera     Aceh        Aceh Jaya\n",
              "4  Sumatera     Aceh     Aceh Selatan"
            ]
          },
          "metadata": {
            "tags": []
          },
          "execution_count": 81
        }
      ]
    },
    {
      "cell_type": "code",
      "metadata": {
        "id": "DhtNxC9Q1PVf",
        "outputId": "d9ec7df5-db36-4fc9-e080-ef9bbf345542",
        "colab": {
          "base_uri": "https://localhost:8080/",
          "height": 218
        }
      },
      "source": [
        "pulau = kota_kab.Pulau.unique()\n",
        "provinsi = kota_kab.Provinsi.unique()\n",
        "pulau, provinsi"
      ],
      "execution_count": null,
      "outputs": [
        {
          "output_type": "execute_result",
          "data": {
            "text/plain": [
              "(array(['Sumatera', 'Jawa', 'Nusa Tenggara', 'Kalimantan', 'Sulawesi',\n",
              "        'Maluku', 'Papua'], dtype=object),\n",
              " array(['Aceh', 'Sumatera Utara', 'Sumatera Barat', 'Riau',\n",
              "        'Kepulauan Riau', 'Jambi', 'Bengkulu', 'Sumatera Selatan',\n",
              "        'Kepulauan Bangka Belitung', 'Lampung', 'Banten', 'Jawa Barat',\n",
              "        'DKI Jakarta', 'Jawa Tengah', 'DI Yogyakarta', 'Jawa Timur',\n",
              "        'Bali', 'Nusa Tenggara Barat', 'Nusa Tenggara Timur',\n",
              "        'Kalimantan Barat', 'Kalimantan Selatan', 'Kalimantan Tengah',\n",
              "        'Kalimantan Timur', 'Kalimantan Utara', 'Gorontalo',\n",
              "        'Sulawesi Selatan', 'Sulawesi Barat', 'Sulawesi Tenggara',\n",
              "        'Sulawesi Tengah', 'Sulawesi Utara', 'Maluku', 'Maluku Utara',\n",
              "        'Papua', 'Papua Barat'], dtype=object))"
            ]
          },
          "metadata": {
            "tags": []
          },
          "execution_count": 82
        }
      ]
    },
    {
      "cell_type": "code",
      "metadata": {
        "id": "RrTZZLmM0mIa",
        "outputId": "569890de-1ea3-4d93-e025-87178b0c4a8f",
        "colab": {
          "base_uri": "https://localhost:8080/",
          "height": 1000
        }
      },
      "source": [
        "pulau_provinsi = kota_kab[['Pulau', 'Provinsi']].drop_duplicates(subset=['Provinsi']).reset_index(drop=True)\n",
        "pulau_provinsi['Pulau'] = pulau_provinsi['Pulau'].str.lower()\n",
        "pulau_provinsi['Provinsi'] = pulau_provinsi['Provinsi'].str.lower()\n",
        "pulau_provinsi"
      ],
      "execution_count": null,
      "outputs": [
        {
          "output_type": "execute_result",
          "data": {
            "text/html": [
              "<div>\n",
              "<style scoped>\n",
              "    .dataframe tbody tr th:only-of-type {\n",
              "        vertical-align: middle;\n",
              "    }\n",
              "\n",
              "    .dataframe tbody tr th {\n",
              "        vertical-align: top;\n",
              "    }\n",
              "\n",
              "    .dataframe thead th {\n",
              "        text-align: right;\n",
              "    }\n",
              "</style>\n",
              "<table border=\"1\" class=\"dataframe\">\n",
              "  <thead>\n",
              "    <tr style=\"text-align: right;\">\n",
              "      <th></th>\n",
              "      <th>Pulau</th>\n",
              "      <th>Provinsi</th>\n",
              "    </tr>\n",
              "  </thead>\n",
              "  <tbody>\n",
              "    <tr>\n",
              "      <th>0</th>\n",
              "      <td>sumatera</td>\n",
              "      <td>aceh</td>\n",
              "    </tr>\n",
              "    <tr>\n",
              "      <th>1</th>\n",
              "      <td>sumatera</td>\n",
              "      <td>sumatera utara</td>\n",
              "    </tr>\n",
              "    <tr>\n",
              "      <th>2</th>\n",
              "      <td>sumatera</td>\n",
              "      <td>sumatera barat</td>\n",
              "    </tr>\n",
              "    <tr>\n",
              "      <th>3</th>\n",
              "      <td>sumatera</td>\n",
              "      <td>riau</td>\n",
              "    </tr>\n",
              "    <tr>\n",
              "      <th>4</th>\n",
              "      <td>sumatera</td>\n",
              "      <td>kepulauan riau</td>\n",
              "    </tr>\n",
              "    <tr>\n",
              "      <th>5</th>\n",
              "      <td>sumatera</td>\n",
              "      <td>jambi</td>\n",
              "    </tr>\n",
              "    <tr>\n",
              "      <th>6</th>\n",
              "      <td>sumatera</td>\n",
              "      <td>bengkulu</td>\n",
              "    </tr>\n",
              "    <tr>\n",
              "      <th>7</th>\n",
              "      <td>sumatera</td>\n",
              "      <td>sumatera selatan</td>\n",
              "    </tr>\n",
              "    <tr>\n",
              "      <th>8</th>\n",
              "      <td>sumatera</td>\n",
              "      <td>kepulauan bangka belitung</td>\n",
              "    </tr>\n",
              "    <tr>\n",
              "      <th>9</th>\n",
              "      <td>sumatera</td>\n",
              "      <td>lampung</td>\n",
              "    </tr>\n",
              "    <tr>\n",
              "      <th>10</th>\n",
              "      <td>jawa</td>\n",
              "      <td>banten</td>\n",
              "    </tr>\n",
              "    <tr>\n",
              "      <th>11</th>\n",
              "      <td>jawa</td>\n",
              "      <td>jawa barat</td>\n",
              "    </tr>\n",
              "    <tr>\n",
              "      <th>12</th>\n",
              "      <td>jawa</td>\n",
              "      <td>dki jakarta</td>\n",
              "    </tr>\n",
              "    <tr>\n",
              "      <th>13</th>\n",
              "      <td>jawa</td>\n",
              "      <td>jawa tengah</td>\n",
              "    </tr>\n",
              "    <tr>\n",
              "      <th>14</th>\n",
              "      <td>jawa</td>\n",
              "      <td>di yogyakarta</td>\n",
              "    </tr>\n",
              "    <tr>\n",
              "      <th>15</th>\n",
              "      <td>jawa</td>\n",
              "      <td>jawa timur</td>\n",
              "    </tr>\n",
              "    <tr>\n",
              "      <th>16</th>\n",
              "      <td>nusa tenggara</td>\n",
              "      <td>bali</td>\n",
              "    </tr>\n",
              "    <tr>\n",
              "      <th>17</th>\n",
              "      <td>nusa tenggara</td>\n",
              "      <td>nusa tenggara barat</td>\n",
              "    </tr>\n",
              "    <tr>\n",
              "      <th>18</th>\n",
              "      <td>nusa tenggara</td>\n",
              "      <td>nusa tenggara timur</td>\n",
              "    </tr>\n",
              "    <tr>\n",
              "      <th>19</th>\n",
              "      <td>kalimantan</td>\n",
              "      <td>kalimantan barat</td>\n",
              "    </tr>\n",
              "    <tr>\n",
              "      <th>20</th>\n",
              "      <td>kalimantan</td>\n",
              "      <td>kalimantan selatan</td>\n",
              "    </tr>\n",
              "    <tr>\n",
              "      <th>21</th>\n",
              "      <td>kalimantan</td>\n",
              "      <td>kalimantan tengah</td>\n",
              "    </tr>\n",
              "    <tr>\n",
              "      <th>22</th>\n",
              "      <td>kalimantan</td>\n",
              "      <td>kalimantan timur</td>\n",
              "    </tr>\n",
              "    <tr>\n",
              "      <th>23</th>\n",
              "      <td>kalimantan</td>\n",
              "      <td>kalimantan utara</td>\n",
              "    </tr>\n",
              "    <tr>\n",
              "      <th>24</th>\n",
              "      <td>sulawesi</td>\n",
              "      <td>gorontalo</td>\n",
              "    </tr>\n",
              "    <tr>\n",
              "      <th>25</th>\n",
              "      <td>sulawesi</td>\n",
              "      <td>sulawesi selatan</td>\n",
              "    </tr>\n",
              "    <tr>\n",
              "      <th>26</th>\n",
              "      <td>sulawesi</td>\n",
              "      <td>sulawesi barat</td>\n",
              "    </tr>\n",
              "    <tr>\n",
              "      <th>27</th>\n",
              "      <td>sulawesi</td>\n",
              "      <td>sulawesi tenggara</td>\n",
              "    </tr>\n",
              "    <tr>\n",
              "      <th>28</th>\n",
              "      <td>sulawesi</td>\n",
              "      <td>sulawesi tengah</td>\n",
              "    </tr>\n",
              "    <tr>\n",
              "      <th>29</th>\n",
              "      <td>sulawesi</td>\n",
              "      <td>sulawesi utara</td>\n",
              "    </tr>\n",
              "    <tr>\n",
              "      <th>30</th>\n",
              "      <td>maluku</td>\n",
              "      <td>maluku</td>\n",
              "    </tr>\n",
              "    <tr>\n",
              "      <th>31</th>\n",
              "      <td>maluku</td>\n",
              "      <td>maluku utara</td>\n",
              "    </tr>\n",
              "    <tr>\n",
              "      <th>32</th>\n",
              "      <td>papua</td>\n",
              "      <td>papua</td>\n",
              "    </tr>\n",
              "    <tr>\n",
              "      <th>33</th>\n",
              "      <td>papua</td>\n",
              "      <td>papua barat</td>\n",
              "    </tr>\n",
              "  </tbody>\n",
              "</table>\n",
              "</div>"
            ],
            "text/plain": [
              "            Pulau                   Provinsi\n",
              "0        sumatera                       aceh\n",
              "1        sumatera             sumatera utara\n",
              "2        sumatera             sumatera barat\n",
              "3        sumatera                       riau\n",
              "4        sumatera             kepulauan riau\n",
              "5        sumatera                      jambi\n",
              "6        sumatera                   bengkulu\n",
              "7        sumatera           sumatera selatan\n",
              "8        sumatera  kepulauan bangka belitung\n",
              "9        sumatera                    lampung\n",
              "10           jawa                     banten\n",
              "11           jawa                 jawa barat\n",
              "12           jawa                dki jakarta\n",
              "13           jawa                jawa tengah\n",
              "14           jawa              di yogyakarta\n",
              "15           jawa                 jawa timur\n",
              "16  nusa tenggara                       bali\n",
              "17  nusa tenggara        nusa tenggara barat\n",
              "18  nusa tenggara        nusa tenggara timur\n",
              "19     kalimantan           kalimantan barat\n",
              "20     kalimantan         kalimantan selatan\n",
              "21     kalimantan          kalimantan tengah\n",
              "22     kalimantan           kalimantan timur\n",
              "23     kalimantan           kalimantan utara\n",
              "24       sulawesi                  gorontalo\n",
              "25       sulawesi           sulawesi selatan\n",
              "26       sulawesi             sulawesi barat\n",
              "27       sulawesi          sulawesi tenggara\n",
              "28       sulawesi            sulawesi tengah\n",
              "29       sulawesi             sulawesi utara\n",
              "30         maluku                     maluku\n",
              "31         maluku               maluku utara\n",
              "32          papua                      papua\n",
              "33          papua                papua barat"
            ]
          },
          "metadata": {
            "tags": []
          },
          "execution_count": 83
        }
      ]
    },
    {
      "cell_type": "code",
      "metadata": {
        "id": "Fw-qigUZw2H6",
        "outputId": "4d0461fd-5b26-4498-da1d-b921f77ba3d8",
        "colab": {
          "base_uri": "https://localhost:8080/",
          "height": 218
        }
      },
      "source": [
        "# lihat data company_location, fillna dengan 'tidak diketahui'\n",
        "location = data['company_location'].str.lower().fillna('tidak diketahui')\n",
        "\n",
        "location.value_counts()"
      ],
      "execution_count": null,
      "outputs": [
        {
          "output_type": "execute_result",
          "data": {
            "text/plain": [
              "indonesia - jakarta raya                                                                 1778\n",
              "tidak diketahui                                                                          1411\n",
              "indonesia - jakarta raya - jakarta selatan                                                685\n",
              "indonesia - jawa timur - surabaya                                                         418\n",
              "indonesia - jakarta raya - jakarta barat                                                  390\n",
              "                                                                                         ... \n",
              "indonesia - jawa timur - pasuruan - prigen                                                  1\n",
              "indonesia - jawa tengah - semarang, tegal, kudus                                            1\n",
              "indonesia - jawa timur - surabaya - menganti jeruk                                          1\n",
              "indonesia - jawa barat - jln. raya sarengseng pabuaran km.3 subang                          1\n",
              "indonesia - jawa barat - cikarang - pt prospect motor jl mh thamrin no 152 lippo ckrg       1\n",
              "Name: company_location, Length: 2857, dtype: int64"
            ]
          },
          "metadata": {
            "tags": []
          },
          "execution_count": 84
        }
      ]
    },
    {
      "cell_type": "markdown",
      "metadata": {
        "id": "yZ7mPVGoyLCB"
      },
      "source": [
        "- <code>provinsi</code> didapatkan pada data kedua\n",
        "- <code>pulau</code> didapatkan dengan mencocokkan pada data bantuan"
      ]
    },
    {
      "cell_type": "code",
      "metadata": {
        "id": "tJuRRf4eyGuW"
      },
      "source": [
        "# ambil provinsi, kemudian cocokkan dengan data bantuan untuk dapatkan pulau\n",
        "\n",
        "pulau, provinsi = list(), list()\n",
        "\n",
        "for idx, loc in enumerate(location):\n",
        "    split_text = loc.split('-')\n",
        "\n",
        "    prov = split_text[1:2][0].strip() if len(split_text) > 1 else split_text[0]\n",
        "\n",
        "    # replace 'jakarta raya' -> 'dki jakarta'\n",
        "    # replace 'yogyakarta' -> 'di yogyakarta'\n",
        "    # replace 'bangka belitung' -> 'kepulauan bangka belitung'\n",
        "    prov = 'dki jakarta' if prov == 'jakarta raya' else prov\n",
        "    prov = 'di yogyakarta' if prov == 'yogyakarta' else prov\n",
        "    prov = 'kepulauan bangka belitung' if prov == 'bangka belitung' else prov\n",
        "\n",
        "    if prov in pulau_provinsi['Provinsi'].values:\n",
        "        idx = pulau_provinsi.index[pulau_provinsi['Provinsi'] == prov][0]\n",
        "        pul = pulau_provinsi.iloc[idx]['Pulau']\n",
        "    else:\n",
        "        pul = 'tidak diketahui'\n",
        "\n",
        "    provinsi.append(prov)\n",
        "    pulau.append(pul)"
      ],
      "execution_count": null,
      "outputs": []
    },
    {
      "cell_type": "code",
      "metadata": {
        "id": "WR_7t-Rx5Yg_",
        "outputId": "7144aaac-23d4-4085-9834-5239d6853867",
        "colab": {
          "base_uri": "https://localhost:8080/",
          "height": 773
        }
      },
      "source": [
        "pd.Series(provinsi).value_counts()"
      ],
      "execution_count": null,
      "outputs": [
        {
          "output_type": "execute_result",
          "data": {
            "text/plain": [
              "dki jakarta                  5985\n",
              "jawa barat                   1771\n",
              "tidak diketahui              1411\n",
              "jawa timur                   1296\n",
              "banten                       1219\n",
              "jawa tengah                   548\n",
              "sumatera utara                225\n",
              "di yogyakarta                 216\n",
              "bali                          214\n",
              "kalimantan timur              159\n",
              "kepulauan riau                126\n",
              "sulawesi selatan              121\n",
              "sumatera selatan              120\n",
              "riau                           86\n",
              "kalimantan selatan             72\n",
              "kalimantan barat               54\n",
              "kalimantan tengah              45\n",
              "lampung                        43\n",
              "sulawesi utara                 42\n",
              "sulawesi tengah                40\n",
              "nusa tenggara barat            37\n",
              "jambi                          37\n",
              "kalimantan utara               22\n",
              "aceh                           21\n",
              "sulawesi tenggara              20\n",
              "nusa tenggara timur            18\n",
              "sumatera barat                 17\n",
              "papua                          16\n",
              "maluku utara                   14\n",
              "papua barat                    12\n",
              "seluruh singapore               9\n",
              "kepulauan bangka belitung       8\n",
              "gorontalo                       7\n",
              "bengkulu                        7\n",
              "maluku                          6\n",
              "national capital reg            5\n",
              "selangor                        3\n",
              "sulawesi barat                  1\n",
              "east                            1\n",
              "central                         1\n",
              "papua new guinea                1\n",
              "taipei                          1\n",
              "north                           1\n",
              "uganda                          1\n",
              "dtype: int64"
            ]
          },
          "metadata": {
            "tags": []
          },
          "execution_count": 86
        }
      ]
    },
    {
      "cell_type": "code",
      "metadata": {
        "id": "TzXre9NPC-DJ",
        "outputId": "95a55343-2e97-470a-bb30-be26fce69df6",
        "colab": {
          "base_uri": "https://localhost:8080/",
          "height": 168
        }
      },
      "source": [
        "pd.Series(pulau).value_counts()"
      ],
      "execution_count": null,
      "outputs": [
        {
          "output_type": "execute_result",
          "data": {
            "text/plain": [
              "jawa               11035\n",
              "tidak diketahui     1434\n",
              "sumatera             690\n",
              "kalimantan           352\n",
              "nusa tenggara        269\n",
              "sulawesi             231\n",
              "papua                 28\n",
              "maluku                20\n",
              "dtype: int64"
            ]
          },
          "metadata": {
            "tags": []
          },
          "execution_count": 87
        }
      ]
    },
    {
      "cell_type": "code",
      "metadata": {
        "id": "xrR_iP7K5pZT"
      },
      "source": [
        "# insert into dataframe\n",
        "data['provinsi'] = provinsi\n",
        "data['pulau'] = pulau\n",
        "\n",
        "# drop company_location\n",
        "data = data.drop(['company_location'], axis=1)"
      ],
      "execution_count": null,
      "outputs": []
    },
    {
      "cell_type": "code",
      "metadata": {
        "id": "-3AJJLur54mq",
        "outputId": "267c9dcb-a995-4b16-d651-8b7fd0c5dd9c",
        "colab": {
          "base_uri": "https://localhost:8080/",
          "height": 434
        }
      },
      "source": [
        "data.head()"
      ],
      "execution_count": null,
      "outputs": [
        {
          "output_type": "execute_result",
          "data": {
            "text/html": [
              "<div>\n",
              "<style scoped>\n",
              "    .dataframe tbody tr th:only-of-type {\n",
              "        vertical-align: middle;\n",
              "    }\n",
              "\n",
              "    .dataframe tbody tr th {\n",
              "        vertical-align: top;\n",
              "    }\n",
              "\n",
              "    .dataframe thead th {\n",
              "        text-align: right;\n",
              "    }\n",
              "</style>\n",
              "<table border=\"1\" class=\"dataframe\">\n",
              "  <thead>\n",
              "    <tr style=\"text-align: right;\">\n",
              "      <th></th>\n",
              "      <th>platform</th>\n",
              "      <th>job_position</th>\n",
              "      <th>company_name</th>\n",
              "      <th>years_of_experience</th>\n",
              "      <th>job_description</th>\n",
              "      <th>average_processing_time</th>\n",
              "      <th>company_industry</th>\n",
              "      <th>company_size</th>\n",
              "      <th>work_environment_waktu_bekerja</th>\n",
              "      <th>work_environment_gaya_berpakaian</th>\n",
              "      <th>work_environment_tunjangan</th>\n",
              "      <th>work_environment_bahasa</th>\n",
              "      <th>years_of_experience_cat</th>\n",
              "      <th>work_environment_gaya_berpakaian_contoh</th>\n",
              "      <th>provinsi</th>\n",
              "      <th>pulau</th>\n",
              "    </tr>\n",
              "  </thead>\n",
              "  <tbody>\n",
              "    <tr>\n",
              "      <th>0</th>\n",
              "      <td>jobstreet</td>\n",
              "      <td>SPV FINANCE</td>\n",
              "      <td>PT Axindo Infotama</td>\n",
              "      <td>3</td>\n",
              "      <td>[SEP][SEP]Usia Max. 35 tahun[SEP]Pendidikan Mi...</td>\n",
              "      <td>6</td>\n",
              "      <td>Retail/Merchandise</td>\n",
              "      <td>51 - 200 pekerja</td>\n",
              "      <td>sabtu</td>\n",
              "      <td>formal</td>\n",
              "      <td>kesehatan, umum</td>\n",
              "      <td>indonesia</td>\n",
              "      <td>0 - 4 tahun</td>\n",
              "      <td>kemeja polos &amp; dasi</td>\n",
              "      <td>dki jakarta</td>\n",
              "      <td>jawa</td>\n",
              "    </tr>\n",
              "    <tr>\n",
              "      <th>1</th>\n",
              "      <td>jobstreet</td>\n",
              "      <td>Qualitative Research Executive</td>\n",
              "      <td>Perusahaan Dirahasiakan</td>\n",
              "      <td>3</td>\n",
              "      <td>RESPONSIBILITIES:[SEP]Brief Description of Dut...</td>\n",
              "      <td>tidak tersedia</td>\n",
              "      <td>tidak tersedia</td>\n",
              "      <td>tidak spesifik</td>\n",
              "      <td>tidak tersedia</td>\n",
              "      <td>tidak spesifik</td>\n",
              "      <td>tidak tersedia</td>\n",
              "      <td>tidak dicantumkan</td>\n",
              "      <td>0 - 4 tahun</td>\n",
              "      <td>tidak spesifik</td>\n",
              "      <td>dki jakarta</td>\n",
              "      <td>jawa</td>\n",
              "    </tr>\n",
              "    <tr>\n",
              "      <th>2</th>\n",
              "      <td>jobstreet</td>\n",
              "      <td>Field Collection (JS - FC) Wonogiri</td>\n",
              "      <td>OTO Group</td>\n",
              "      <td>0</td>\n",
              "      <td>[SEP]Lingkup pekerjaan: [SEP]Menjaga account d...</td>\n",
              "      <td>14</td>\n",
              "      <td>Perbankan/Pelayanan Keuangan</td>\n",
              "      <td>lebih dari 5000 pekerja</td>\n",
              "      <td>senin - jumat</td>\n",
              "      <td>bisnis</td>\n",
              "      <td>kesehatan, bonus</td>\n",
              "      <td>indonesia</td>\n",
              "      <td>0 - 4 tahun</td>\n",
              "      <td>kemeja</td>\n",
              "      <td>jawa tengah</td>\n",
              "      <td>jawa</td>\n",
              "    </tr>\n",
              "    <tr>\n",
              "      <th>3</th>\n",
              "      <td>jobstreet</td>\n",
              "      <td>Perawat di Negara Jerman</td>\n",
              "      <td>PT Jerman Manajemen</td>\n",
              "      <td>1</td>\n",
              "      <td>[SEP]Candidate must possess at least Diploma i...</td>\n",
              "      <td>11</td>\n",
              "      <td>Pendidikan</td>\n",
              "      <td>51 - 200 pekerja</td>\n",
              "      <td>sabtu - kamis</td>\n",
              "      <td>formal</td>\n",
              "      <td>kesehatan</td>\n",
              "      <td>indonesia</td>\n",
              "      <td>0 - 4 tahun</td>\n",
              "      <td>kemeja polos &amp; dasi</td>\n",
              "      <td>dki jakarta</td>\n",
              "      <td>jawa</td>\n",
              "    </tr>\n",
              "    <tr>\n",
              "      <th>4</th>\n",
              "      <td>jobstreet</td>\n",
              "      <td>Field Collection (JS - FC) Pati</td>\n",
              "      <td>OTO Group</td>\n",
              "      <td>0</td>\n",
              "      <td>[SEP]Lingkup pekerjaan: [SEP]Menjaga account d...</td>\n",
              "      <td>14</td>\n",
              "      <td>Perbankan/Pelayanan Keuangan</td>\n",
              "      <td>lebih dari 5000 pekerja</td>\n",
              "      <td>senin - jumat</td>\n",
              "      <td>bisnis</td>\n",
              "      <td>kesehatan, bonus</td>\n",
              "      <td>indonesia</td>\n",
              "      <td>0 - 4 tahun</td>\n",
              "      <td>kemeja</td>\n",
              "      <td>jawa tengah</td>\n",
              "      <td>jawa</td>\n",
              "    </tr>\n",
              "  </tbody>\n",
              "</table>\n",
              "</div>"
            ],
            "text/plain": [
              "    platform                         job_position  ...     provinsi pulau\n",
              "0  jobstreet                          SPV FINANCE  ...  dki jakarta  jawa\n",
              "1  jobstreet       Qualitative Research Executive  ...  dki jakarta  jawa\n",
              "2  jobstreet  Field Collection (JS - FC) Wonogiri  ...  jawa tengah  jawa\n",
              "3  jobstreet             Perawat di Negara Jerman  ...  dki jakarta  jawa\n",
              "4  jobstreet      Field Collection (JS - FC) Pati  ...  jawa tengah  jawa\n",
              "\n",
              "[5 rows x 16 columns]"
            ]
          },
          "metadata": {
            "tags": []
          },
          "execution_count": 89
        }
      ]
    },
    {
      "cell_type": "markdown",
      "metadata": {
        "id": "HoGlP16LCFpw"
      },
      "source": [
        "Lakukan drop pada data yang berlokasi tidak di Indonesia:\n",
        "- seluruh singapore\n",
        "- national capital reg\n",
        "- selangor\n",
        "- papua new guinea\n",
        "- central\n",
        "- uganda\n",
        "- taipei\n",
        "- east\n",
        "- north"
      ]
    },
    {
      "cell_type": "code",
      "metadata": {
        "id": "kkGJ2pZaCnqQ",
        "outputId": "68c14558-88f4-4e99-87bb-db2d2ff02a39",
        "colab": {
          "base_uri": "https://localhost:8080/",
          "height": 622
        }
      },
      "source": [
        "deleted = ['seluruh singapore',\n",
        "           'national capital reg',\n",
        "           'selangor',\n",
        "           'papua new guinea',\n",
        "           'central',\n",
        "           'uganda',\n",
        "           'taipei',\n",
        "           'east',\n",
        "           'north']\n",
        "\n",
        "# select data yang tanpa nama provinsi di atas\n",
        "data = data[~data['provinsi'].isin(deleted)]\n",
        "\n",
        "data['provinsi'].value_counts()"
      ],
      "execution_count": null,
      "outputs": [
        {
          "output_type": "execute_result",
          "data": {
            "text/plain": [
              "dki jakarta                  5985\n",
              "jawa barat                   1771\n",
              "tidak diketahui              1411\n",
              "jawa timur                   1296\n",
              "banten                       1219\n",
              "jawa tengah                   548\n",
              "sumatera utara                225\n",
              "di yogyakarta                 216\n",
              "bali                          214\n",
              "kalimantan timur              159\n",
              "kepulauan riau                126\n",
              "sulawesi selatan              121\n",
              "sumatera selatan              120\n",
              "riau                           86\n",
              "kalimantan selatan             72\n",
              "kalimantan barat               54\n",
              "kalimantan tengah              45\n",
              "lampung                        43\n",
              "sulawesi utara                 42\n",
              "sulawesi tengah                40\n",
              "jambi                          37\n",
              "nusa tenggara barat            37\n",
              "kalimantan utara               22\n",
              "aceh                           21\n",
              "sulawesi tenggara              20\n",
              "nusa tenggara timur            18\n",
              "sumatera barat                 17\n",
              "papua                          16\n",
              "maluku utara                   14\n",
              "papua barat                    12\n",
              "kepulauan bangka belitung       8\n",
              "gorontalo                       7\n",
              "bengkulu                        7\n",
              "maluku                          6\n",
              "sulawesi barat                  1\n",
              "Name: provinsi, dtype: int64"
            ]
          },
          "metadata": {
            "tags": []
          },
          "execution_count": 90
        }
      ]
    },
    {
      "cell_type": "code",
      "metadata": {
        "id": "JBiIjVmbCBz4",
        "outputId": "8529bd46-c6cb-467d-d4ff-0a7b5c0f3966",
        "colab": {
          "base_uri": "https://localhost:8080/",
          "height": 34
        }
      },
      "source": [
        "data.shape"
      ],
      "execution_count": null,
      "outputs": [
        {
          "output_type": "execute_result",
          "data": {
            "text/plain": [
              "(14036, 16)"
            ]
          },
          "metadata": {
            "tags": []
          },
          "execution_count": 91
        }
      ]
    },
    {
      "cell_type": "code",
      "metadata": {
        "id": "Z3ilgMx9DL-R",
        "outputId": "931083a8-23cf-4ce3-dba2-69a17f9f4843",
        "colab": {
          "base_uri": "https://localhost:8080/",
          "height": 302
        }
      },
      "source": [
        "data.isnull().sum()"
      ],
      "execution_count": null,
      "outputs": [
        {
          "output_type": "execute_result",
          "data": {
            "text/plain": [
              "platform                                   0\n",
              "job_position                               0\n",
              "company_name                               0\n",
              "years_of_experience                        0\n",
              "job_description                            0\n",
              "average_processing_time                    0\n",
              "company_industry                           0\n",
              "company_size                               0\n",
              "work_environment_waktu_bekerja             0\n",
              "work_environment_gaya_berpakaian           0\n",
              "work_environment_tunjangan                 0\n",
              "work_environment_bahasa                    0\n",
              "years_of_experience_cat                    0\n",
              "work_environment_gaya_berpakaian_contoh    0\n",
              "provinsi                                   0\n",
              "pulau                                      0\n",
              "dtype: int64"
            ]
          },
          "metadata": {
            "tags": []
          },
          "execution_count": 92
        }
      ]
    },
    {
      "cell_type": "code",
      "metadata": {
        "id": "qZYXpvWDDlZ2",
        "outputId": "5bb51b61-51ea-4cc0-f948-109a0eda5b1f",
        "colab": {
          "base_uri": "https://localhost:8080/",
          "height": 434
        }
      },
      "source": [
        "data.head()"
      ],
      "execution_count": null,
      "outputs": [
        {
          "output_type": "execute_result",
          "data": {
            "text/html": [
              "<div>\n",
              "<style scoped>\n",
              "    .dataframe tbody tr th:only-of-type {\n",
              "        vertical-align: middle;\n",
              "    }\n",
              "\n",
              "    .dataframe tbody tr th {\n",
              "        vertical-align: top;\n",
              "    }\n",
              "\n",
              "    .dataframe thead th {\n",
              "        text-align: right;\n",
              "    }\n",
              "</style>\n",
              "<table border=\"1\" class=\"dataframe\">\n",
              "  <thead>\n",
              "    <tr style=\"text-align: right;\">\n",
              "      <th></th>\n",
              "      <th>platform</th>\n",
              "      <th>job_position</th>\n",
              "      <th>company_name</th>\n",
              "      <th>years_of_experience</th>\n",
              "      <th>job_description</th>\n",
              "      <th>average_processing_time</th>\n",
              "      <th>company_industry</th>\n",
              "      <th>company_size</th>\n",
              "      <th>work_environment_waktu_bekerja</th>\n",
              "      <th>work_environment_gaya_berpakaian</th>\n",
              "      <th>work_environment_tunjangan</th>\n",
              "      <th>work_environment_bahasa</th>\n",
              "      <th>years_of_experience_cat</th>\n",
              "      <th>work_environment_gaya_berpakaian_contoh</th>\n",
              "      <th>provinsi</th>\n",
              "      <th>pulau</th>\n",
              "    </tr>\n",
              "  </thead>\n",
              "  <tbody>\n",
              "    <tr>\n",
              "      <th>0</th>\n",
              "      <td>jobstreet</td>\n",
              "      <td>SPV FINANCE</td>\n",
              "      <td>PT Axindo Infotama</td>\n",
              "      <td>3</td>\n",
              "      <td>[SEP][SEP]Usia Max. 35 tahun[SEP]Pendidikan Mi...</td>\n",
              "      <td>6</td>\n",
              "      <td>Retail/Merchandise</td>\n",
              "      <td>51 - 200 pekerja</td>\n",
              "      <td>sabtu</td>\n",
              "      <td>formal</td>\n",
              "      <td>kesehatan, umum</td>\n",
              "      <td>indonesia</td>\n",
              "      <td>0 - 4 tahun</td>\n",
              "      <td>kemeja polos &amp; dasi</td>\n",
              "      <td>dki jakarta</td>\n",
              "      <td>jawa</td>\n",
              "    </tr>\n",
              "    <tr>\n",
              "      <th>1</th>\n",
              "      <td>jobstreet</td>\n",
              "      <td>Qualitative Research Executive</td>\n",
              "      <td>Perusahaan Dirahasiakan</td>\n",
              "      <td>3</td>\n",
              "      <td>RESPONSIBILITIES:[SEP]Brief Description of Dut...</td>\n",
              "      <td>tidak tersedia</td>\n",
              "      <td>tidak tersedia</td>\n",
              "      <td>tidak spesifik</td>\n",
              "      <td>tidak tersedia</td>\n",
              "      <td>tidak spesifik</td>\n",
              "      <td>tidak tersedia</td>\n",
              "      <td>tidak dicantumkan</td>\n",
              "      <td>0 - 4 tahun</td>\n",
              "      <td>tidak spesifik</td>\n",
              "      <td>dki jakarta</td>\n",
              "      <td>jawa</td>\n",
              "    </tr>\n",
              "    <tr>\n",
              "      <th>2</th>\n",
              "      <td>jobstreet</td>\n",
              "      <td>Field Collection (JS - FC) Wonogiri</td>\n",
              "      <td>OTO Group</td>\n",
              "      <td>0</td>\n",
              "      <td>[SEP]Lingkup pekerjaan: [SEP]Menjaga account d...</td>\n",
              "      <td>14</td>\n",
              "      <td>Perbankan/Pelayanan Keuangan</td>\n",
              "      <td>lebih dari 5000 pekerja</td>\n",
              "      <td>senin - jumat</td>\n",
              "      <td>bisnis</td>\n",
              "      <td>kesehatan, bonus</td>\n",
              "      <td>indonesia</td>\n",
              "      <td>0 - 4 tahun</td>\n",
              "      <td>kemeja</td>\n",
              "      <td>jawa tengah</td>\n",
              "      <td>jawa</td>\n",
              "    </tr>\n",
              "    <tr>\n",
              "      <th>3</th>\n",
              "      <td>jobstreet</td>\n",
              "      <td>Perawat di Negara Jerman</td>\n",
              "      <td>PT Jerman Manajemen</td>\n",
              "      <td>1</td>\n",
              "      <td>[SEP]Candidate must possess at least Diploma i...</td>\n",
              "      <td>11</td>\n",
              "      <td>Pendidikan</td>\n",
              "      <td>51 - 200 pekerja</td>\n",
              "      <td>sabtu - kamis</td>\n",
              "      <td>formal</td>\n",
              "      <td>kesehatan</td>\n",
              "      <td>indonesia</td>\n",
              "      <td>0 - 4 tahun</td>\n",
              "      <td>kemeja polos &amp; dasi</td>\n",
              "      <td>dki jakarta</td>\n",
              "      <td>jawa</td>\n",
              "    </tr>\n",
              "    <tr>\n",
              "      <th>4</th>\n",
              "      <td>jobstreet</td>\n",
              "      <td>Field Collection (JS - FC) Pati</td>\n",
              "      <td>OTO Group</td>\n",
              "      <td>0</td>\n",
              "      <td>[SEP]Lingkup pekerjaan: [SEP]Menjaga account d...</td>\n",
              "      <td>14</td>\n",
              "      <td>Perbankan/Pelayanan Keuangan</td>\n",
              "      <td>lebih dari 5000 pekerja</td>\n",
              "      <td>senin - jumat</td>\n",
              "      <td>bisnis</td>\n",
              "      <td>kesehatan, bonus</td>\n",
              "      <td>indonesia</td>\n",
              "      <td>0 - 4 tahun</td>\n",
              "      <td>kemeja</td>\n",
              "      <td>jawa tengah</td>\n",
              "      <td>jawa</td>\n",
              "    </tr>\n",
              "  </tbody>\n",
              "</table>\n",
              "</div>"
            ],
            "text/plain": [
              "    platform                         job_position  ...     provinsi pulau\n",
              "0  jobstreet                          SPV FINANCE  ...  dki jakarta  jawa\n",
              "1  jobstreet       Qualitative Research Executive  ...  dki jakarta  jawa\n",
              "2  jobstreet  Field Collection (JS - FC) Wonogiri  ...  jawa tengah  jawa\n",
              "3  jobstreet             Perawat di Negara Jerman  ...  dki jakarta  jawa\n",
              "4  jobstreet      Field Collection (JS - FC) Pati  ...  jawa tengah  jawa\n",
              "\n",
              "[5 rows x 16 columns]"
            ]
          },
          "metadata": {
            "tags": []
          },
          "execution_count": 93
        }
      ]
    },
    {
      "cell_type": "markdown",
      "metadata": {
        "id": "UHoG7BmE_eHP"
      },
      "source": [
        "## Ekstrak job_position\n",
        "Dilakukan pengelompokkan menjadi job type, supaya distinct.\n",
        "\n",
        "Menuju colab [2_2_Ekstrak_job_position](https://colab.research.google.com/drive/1Mu-AeZdReKU5u7-_xyX7gaOXVqOMYZ5M?usp=sharing)."
      ]
    },
    {
      "cell_type": "markdown",
      "metadata": {
        "id": "LtghWT48AF0M"
      },
      "source": [
        "> **Question:** necessary?"
      ]
    },
    {
      "cell_type": "code",
      "metadata": {
        "id": "9oyR7-op0bj3",
        "outputId": "f7314bf3-0898-4aa0-ed3f-b78e0e6304da",
        "colab": {
          "base_uri": "https://localhost:8080/",
          "height": 286
        }
      },
      "source": [
        "# convert to lower case dan fillna dengan string 'tidak tersedia'\n",
        "job_position = jobstreet['job_position'].str.lower().fillna('tidak tersedia')\n",
        "\n",
        "job_position.value_counts()[:15]"
      ],
      "execution_count": null,
      "outputs": [
        {
          "output_type": "execute_result",
          "data": {
            "text/plain": [
              "sales executive          80\n",
              "accounting staff         68\n",
              "digital marketing        56\n",
              "marketing                49\n",
              "sales manager            48\n",
              "accounting               44\n",
              "project manager          43\n",
              "graphic designer         42\n",
              "sales                    42\n",
              "staff accounting         38\n",
              "marketing manager        37\n",
              "marketing executive      36\n",
              "sales engineer           34\n",
              "accounting supervisor    32\n",
              "web developer            32\n",
              "Name: job_position, dtype: int64"
            ]
          },
          "metadata": {
            "tags": []
          },
          "execution_count": 94
        }
      ]
    },
    {
      "cell_type": "code",
      "metadata": {
        "id": "vlalCzwhloQt"
      },
      "source": [
        "# pd.Series(temp).value_counts().to_csv('job_position_distinct.csv')"
      ],
      "execution_count": null,
      "outputs": []
    },
    {
      "cell_type": "markdown",
      "metadata": {
        "id": "VnESGai-DfFP"
      },
      "source": [
        "## Ekstrak job_description\n",
        "\n",
        "Hasil ekstrak adalah:\n",
        "1. **Skill**: keahlian yang dibutuhkan\n",
        "2. **Pendidikan**: kualifikasi pendidikan\n",
        "\n",
        "Proses dilakukan pada\n",
        "- [Colab 2_3_1 Ekstrak job_description (pendidikan)](https://colab.research.google.com/drive/1Ddf22nhb-4CYBhlyO2Gl6xRkBAG4Fsst?usp=sharing)\n",
        "- [Colab 2_3_2 Ekstrak job_description (skill - english)](https://colab.research.google.com/drive/13OT_WSJYNh0D0vkBPfFWEME8Za5Ojblh?usp=sharing)\n",
        "- [Colab 2_3_3 Ekstrak job_description (skill - indonesia)](https://colab.research.google.com/drive/1UFUKEMnLU1JgWvSnYcvYNG71FiVeEd4-?usp=sharing)\n",
        "- [Colab 2_3_4 Ekstrak job_description (skill - en&id)](https://colab.research.google.com/drive/1KcdFkTxPW8c03txSBIXpS_fZEF73Ws77?usp=sharing)"
      ]
    },
    {
      "cell_type": "code",
      "metadata": {
        "id": "OXi_kllTDbN2",
        "outputId": "ba142684-b51b-4f8b-acbc-555bb100c377",
        "colab": {
          "base_uri": "https://localhost:8080/",
          "height": 118
        }
      },
      "source": [
        "# convert to lower case dan fillna dengan string 'kosong'\n",
        "job_description = jobstreet['job_description'].str.lower().fillna('kosong')\n",
        "\n",
        "job_description.head()"
      ],
      "execution_count": null,
      "outputs": [
        {
          "output_type": "execute_result",
          "data": {
            "text/plain": [
              "0    [sep][sep]usia max. 35 tahun[sep]pendidikan mi...\n",
              "1    responsibilities:[sep]brief description of dut...\n",
              "2    [sep]lingkup pekerjaan: [sep]menjaga account d...\n",
              "3    [sep]candidate must possess at least diploma i...\n",
              "4    [sep]lingkup pekerjaan: [sep]menjaga account d...\n",
              "Name: job_description, dtype: object"
            ]
          },
          "metadata": {
            "tags": []
          },
          "execution_count": 96
        }
      ]
    },
    {
      "cell_type": "code",
      "metadata": {
        "id": "VVkanz-zE86x",
        "outputId": "36420725-e302-44f9-d68d-1911fd09e08b",
        "colab": {
          "base_uri": "https://localhost:8080/",
          "height": 119
        }
      },
      "source": [
        "job_description[0]"
      ],
      "execution_count": null,
      "outputs": [
        {
          "output_type": "execute_result",
          "data": {
            "application/vnd.google.colaboratory.intrinsic+json": {
              "type": "string"
            },
            "text/plain": [
              "'[sep][sep]usia max. 35 tahun[sep]pendidikan min. d3[sep]pengalaman min. 3 tahun sebagai senior staff atau spv finance dari perusahaan distributor atau sejenisnya[sep]mempunyai leadership yang kuat, bertanggung jawab & jujur[sep]memiliki pengelolaan dan analisa yg baik, teliti dan cekatan[sep]bersedia visit ke kantor cabang secara rutin[sep]penempatan head office cempaka mas jakarta pusat[sep][sep]tugas & tanggung jawab :[sep][sep]melakukan supervisi tim admin finance(a/r, retur, refund & a/p)[sep]melakukan kontrol aging a/r & limit a/r[sep]membuat schedule a/p payment[sep]melakukan kontrol terhadap retur/refund(cn/dn)[sep]melakukan follow up terkait program-program & point reward[sep]melakukan kordinasi dengan pihak terkait[sep]memaintance utang piutang terhadap dealer-dealer[sep][sep]'"
            ]
          },
          "metadata": {
            "tags": []
          },
          "execution_count": 97
        }
      ]
    },
    {
      "cell_type": "code",
      "metadata": {
        "id": "wVV08r4HH3Yk",
        "outputId": "a857984e-b94f-4cdf-dd26-cc819d4538c0",
        "colab": {
          "base_uri": "https://localhost:8080/",
          "height": 102
        }
      },
      "source": [
        "z = jobstreet[jobstreet['job_position'] == 'Web Developer']\n",
        "f = z[['job_position', 'job_description']]\n",
        "f['job_description'][4013]"
      ],
      "execution_count": null,
      "outputs": [
        {
          "output_type": "execute_result",
          "data": {
            "application/vnd.google.colaboratory.intrinsic+json": {
              "type": "string"
            },
            "text/plain": [
              "'[SEP] Usia Maksimal 40 Tahun [SEP]Pengalaman minimal 1 Tahun [SEP]Menguasai /Familiar dengan PHP,,MYSQL,HTML,CSS,COREL,PHOTOSHOP,WEB PROGRAMMING, dan pengoperasian dengan IMAC [SEP]Diutamakan ASP, Java, PHP, Android,IOS[SEP]Komunikatif, Kreatif, dan inisiatif[SEP]Good Personal, Good looking [SEP]Bersedia membawa Company Profile personal saat ada proses seleksi [SEP]Penempatan di Tangerang [SEP][SEP]Tugas dan Tanggung Jawab [SEP][SEP]Membuat dan mengembangkan website[SEP]Melakukan Maintanance periodik terhadap website[SEP]Membuat konten website yang fungsional sehingga dapat menyiapkan informasi tentang produk/ program promosi , aktivitas Perusahaan dengan customer , Layanan kepada Customer [SEP][SEP] [SEP]'"
            ]
          },
          "metadata": {
            "tags": []
          },
          "execution_count": 98
        }
      ]
    },
    {
      "cell_type": "markdown",
      "metadata": {
        "id": "tTOvoan0D5YY"
      },
      "source": [
        "### pendidikan"
      ]
    },
    {
      "cell_type": "code",
      "metadata": {
        "id": "kkqQVm5wDwNl",
        "outputId": "c6d48ea8-8b3c-4219-953e-b8e773616ba3",
        "colab": {
          "base_uri": "https://localhost:8080/",
          "height": 34
        }
      },
      "source": [
        "# cari job description yang mengandung \n",
        "# kata kunci 'pendidikan', 'degree', 'lulusan'\n",
        "temp = list(job_description.values)\n",
        "\n",
        "count = 0\n",
        "for idx, job_desc in enumerate(temp):\n",
        "    if 'pendidikan' in job_desc:\n",
        "        count += 1\n",
        "    elif 'degree' in job_desc:\n",
        "        count += 1\n",
        "    elif 'lulusan' in job_desc:\n",
        "        count += 1\n",
        "count"
      ],
      "execution_count": null,
      "outputs": [
        {
          "output_type": "execute_result",
          "data": {
            "text/plain": [
              "9698"
            ]
          },
          "metadata": {
            "tags": []
          },
          "execution_count": 99
        }
      ]
    },
    {
      "cell_type": "markdown",
      "metadata": {
        "id": "1Wrx2GPdETCY"
      },
      "source": [
        "### skill"
      ]
    },
    {
      "cell_type": "code",
      "metadata": {
        "id": "z82Dnom5D62f"
      },
      "source": [
        "pass"
      ],
      "execution_count": null,
      "outputs": []
    },
    {
      "cell_type": "markdown",
      "metadata": {
        "id": "60dhao0OEY5A"
      },
      "source": [
        "# Export csv"
      ]
    },
    {
      "cell_type": "code",
      "metadata": {
        "id": "a_XBiT_TFcNm",
        "outputId": "035a6607-8b5e-43a5-d6fc-32c181ebf584",
        "colab": {
          "base_uri": "https://localhost:8080/",
          "height": 434
        }
      },
      "source": [
        "data.head()"
      ],
      "execution_count": null,
      "outputs": [
        {
          "output_type": "execute_result",
          "data": {
            "text/html": [
              "<div>\n",
              "<style scoped>\n",
              "    .dataframe tbody tr th:only-of-type {\n",
              "        vertical-align: middle;\n",
              "    }\n",
              "\n",
              "    .dataframe tbody tr th {\n",
              "        vertical-align: top;\n",
              "    }\n",
              "\n",
              "    .dataframe thead th {\n",
              "        text-align: right;\n",
              "    }\n",
              "</style>\n",
              "<table border=\"1\" class=\"dataframe\">\n",
              "  <thead>\n",
              "    <tr style=\"text-align: right;\">\n",
              "      <th></th>\n",
              "      <th>platform</th>\n",
              "      <th>job_position</th>\n",
              "      <th>company_name</th>\n",
              "      <th>years_of_experience</th>\n",
              "      <th>job_description</th>\n",
              "      <th>average_processing_time</th>\n",
              "      <th>company_industry</th>\n",
              "      <th>company_size</th>\n",
              "      <th>work_environment_waktu_bekerja</th>\n",
              "      <th>work_environment_gaya_berpakaian</th>\n",
              "      <th>work_environment_tunjangan</th>\n",
              "      <th>work_environment_bahasa</th>\n",
              "      <th>years_of_experience_cat</th>\n",
              "      <th>work_environment_gaya_berpakaian_contoh</th>\n",
              "      <th>provinsi</th>\n",
              "      <th>pulau</th>\n",
              "    </tr>\n",
              "  </thead>\n",
              "  <tbody>\n",
              "    <tr>\n",
              "      <th>0</th>\n",
              "      <td>jobstreet</td>\n",
              "      <td>SPV FINANCE</td>\n",
              "      <td>PT Axindo Infotama</td>\n",
              "      <td>3</td>\n",
              "      <td>[SEP][SEP]Usia Max. 35 tahun[SEP]Pendidikan Mi...</td>\n",
              "      <td>6</td>\n",
              "      <td>Retail/Merchandise</td>\n",
              "      <td>51 - 200 pekerja</td>\n",
              "      <td>sabtu</td>\n",
              "      <td>formal</td>\n",
              "      <td>kesehatan, umum</td>\n",
              "      <td>indonesia</td>\n",
              "      <td>0 - 4 tahun</td>\n",
              "      <td>kemeja polos &amp; dasi</td>\n",
              "      <td>dki jakarta</td>\n",
              "      <td>jawa</td>\n",
              "    </tr>\n",
              "    <tr>\n",
              "      <th>1</th>\n",
              "      <td>jobstreet</td>\n",
              "      <td>Qualitative Research Executive</td>\n",
              "      <td>Perusahaan Dirahasiakan</td>\n",
              "      <td>3</td>\n",
              "      <td>RESPONSIBILITIES:[SEP]Brief Description of Dut...</td>\n",
              "      <td>tidak tersedia</td>\n",
              "      <td>tidak tersedia</td>\n",
              "      <td>tidak spesifik</td>\n",
              "      <td>tidak tersedia</td>\n",
              "      <td>tidak spesifik</td>\n",
              "      <td>tidak tersedia</td>\n",
              "      <td>tidak dicantumkan</td>\n",
              "      <td>0 - 4 tahun</td>\n",
              "      <td>tidak spesifik</td>\n",
              "      <td>dki jakarta</td>\n",
              "      <td>jawa</td>\n",
              "    </tr>\n",
              "    <tr>\n",
              "      <th>2</th>\n",
              "      <td>jobstreet</td>\n",
              "      <td>Field Collection (JS - FC) Wonogiri</td>\n",
              "      <td>OTO Group</td>\n",
              "      <td>0</td>\n",
              "      <td>[SEP]Lingkup pekerjaan: [SEP]Menjaga account d...</td>\n",
              "      <td>14</td>\n",
              "      <td>Perbankan/Pelayanan Keuangan</td>\n",
              "      <td>lebih dari 5000 pekerja</td>\n",
              "      <td>senin - jumat</td>\n",
              "      <td>bisnis</td>\n",
              "      <td>kesehatan, bonus</td>\n",
              "      <td>indonesia</td>\n",
              "      <td>0 - 4 tahun</td>\n",
              "      <td>kemeja</td>\n",
              "      <td>jawa tengah</td>\n",
              "      <td>jawa</td>\n",
              "    </tr>\n",
              "    <tr>\n",
              "      <th>3</th>\n",
              "      <td>jobstreet</td>\n",
              "      <td>Perawat di Negara Jerman</td>\n",
              "      <td>PT Jerman Manajemen</td>\n",
              "      <td>1</td>\n",
              "      <td>[SEP]Candidate must possess at least Diploma i...</td>\n",
              "      <td>11</td>\n",
              "      <td>Pendidikan</td>\n",
              "      <td>51 - 200 pekerja</td>\n",
              "      <td>sabtu - kamis</td>\n",
              "      <td>formal</td>\n",
              "      <td>kesehatan</td>\n",
              "      <td>indonesia</td>\n",
              "      <td>0 - 4 tahun</td>\n",
              "      <td>kemeja polos &amp; dasi</td>\n",
              "      <td>dki jakarta</td>\n",
              "      <td>jawa</td>\n",
              "    </tr>\n",
              "    <tr>\n",
              "      <th>4</th>\n",
              "      <td>jobstreet</td>\n",
              "      <td>Field Collection (JS - FC) Pati</td>\n",
              "      <td>OTO Group</td>\n",
              "      <td>0</td>\n",
              "      <td>[SEP]Lingkup pekerjaan: [SEP]Menjaga account d...</td>\n",
              "      <td>14</td>\n",
              "      <td>Perbankan/Pelayanan Keuangan</td>\n",
              "      <td>lebih dari 5000 pekerja</td>\n",
              "      <td>senin - jumat</td>\n",
              "      <td>bisnis</td>\n",
              "      <td>kesehatan, bonus</td>\n",
              "      <td>indonesia</td>\n",
              "      <td>0 - 4 tahun</td>\n",
              "      <td>kemeja</td>\n",
              "      <td>jawa tengah</td>\n",
              "      <td>jawa</td>\n",
              "    </tr>\n",
              "  </tbody>\n",
              "</table>\n",
              "</div>"
            ],
            "text/plain": [
              "    platform                         job_position  ...     provinsi pulau\n",
              "0  jobstreet                          SPV FINANCE  ...  dki jakarta  jawa\n",
              "1  jobstreet       Qualitative Research Executive  ...  dki jakarta  jawa\n",
              "2  jobstreet  Field Collection (JS - FC) Wonogiri  ...  jawa tengah  jawa\n",
              "3  jobstreet             Perawat di Negara Jerman  ...  dki jakarta  jawa\n",
              "4  jobstreet      Field Collection (JS - FC) Pati  ...  jawa tengah  jawa\n",
              "\n",
              "[5 rows x 16 columns]"
            ]
          },
          "metadata": {
            "tags": []
          },
          "execution_count": 101
        }
      ]
    },
    {
      "cell_type": "code",
      "metadata": {
        "id": "y9SpQClh0L2g"
      },
      "source": [
        "# create column id_loker\n",
        "data['id_loker'] = [i+1 for i in range(len(data))]"
      ],
      "execution_count": null,
      "outputs": []
    },
    {
      "cell_type": "code",
      "metadata": {
        "id": "AXK7Q3vV1kgV",
        "outputId": "628aac2d-09af-427f-ece3-f2a7e376bfbe",
        "colab": {
          "base_uri": "https://localhost:8080/",
          "height": 151
        }
      },
      "source": [
        "data.columns"
      ],
      "execution_count": null,
      "outputs": [
        {
          "output_type": "execute_result",
          "data": {
            "text/plain": [
              "Index(['platform', 'job_position', 'company_name', 'years_of_experience',\n",
              "       'job_description', 'average_processing_time', 'company_industry',\n",
              "       'company_size', 'work_environment_waktu_bekerja',\n",
              "       'work_environment_gaya_berpakaian', 'work_environment_tunjangan',\n",
              "       'work_environment_bahasa', 'years_of_experience_cat',\n",
              "       'work_environment_gaya_berpakaian_contoh', 'provinsi', 'pulau',\n",
              "       'id_loker'],\n",
              "      dtype='object')"
            ]
          },
          "metadata": {
            "tags": []
          },
          "execution_count": 103
        }
      ]
    },
    {
      "cell_type": "code",
      "metadata": {
        "id": "Vq4xfuAvzruJ",
        "outputId": "8bad784a-18df-4a1d-e340-c8263c5441c3",
        "colab": {
          "base_uri": "https://localhost:8080/",
          "height": 434
        }
      },
      "source": [
        "# reorder column\n",
        "cols = ['id_loker',\n",
        "        'pulau',\n",
        "        'provinsi',\n",
        "        'job_position',\n",
        "        'company_name',\n",
        "        'years_of_experience',\n",
        "        'years_of_experience_cat',\n",
        "        'job_description',\n",
        "        'average_processing_time',\n",
        "        'company_industry',\n",
        "        'company_size',\n",
        "        'work_environment_waktu_bekerja',\n",
        "        'work_environment_gaya_berpakaian',\n",
        "        'work_environment_gaya_berpakaian_contoh',\n",
        "        'work_environment_tunjangan',\n",
        "        'work_environment_bahasa',\n",
        "        'platform']\n",
        "\n",
        "data = data[cols]\n",
        "data.head()"
      ],
      "execution_count": null,
      "outputs": [
        {
          "output_type": "execute_result",
          "data": {
            "text/html": [
              "<div>\n",
              "<style scoped>\n",
              "    .dataframe tbody tr th:only-of-type {\n",
              "        vertical-align: middle;\n",
              "    }\n",
              "\n",
              "    .dataframe tbody tr th {\n",
              "        vertical-align: top;\n",
              "    }\n",
              "\n",
              "    .dataframe thead th {\n",
              "        text-align: right;\n",
              "    }\n",
              "</style>\n",
              "<table border=\"1\" class=\"dataframe\">\n",
              "  <thead>\n",
              "    <tr style=\"text-align: right;\">\n",
              "      <th></th>\n",
              "      <th>id_loker</th>\n",
              "      <th>pulau</th>\n",
              "      <th>provinsi</th>\n",
              "      <th>job_position</th>\n",
              "      <th>company_name</th>\n",
              "      <th>years_of_experience</th>\n",
              "      <th>years_of_experience_cat</th>\n",
              "      <th>job_description</th>\n",
              "      <th>average_processing_time</th>\n",
              "      <th>company_industry</th>\n",
              "      <th>company_size</th>\n",
              "      <th>work_environment_waktu_bekerja</th>\n",
              "      <th>work_environment_gaya_berpakaian</th>\n",
              "      <th>work_environment_gaya_berpakaian_contoh</th>\n",
              "      <th>work_environment_tunjangan</th>\n",
              "      <th>work_environment_bahasa</th>\n",
              "      <th>platform</th>\n",
              "    </tr>\n",
              "  </thead>\n",
              "  <tbody>\n",
              "    <tr>\n",
              "      <th>0</th>\n",
              "      <td>1</td>\n",
              "      <td>jawa</td>\n",
              "      <td>dki jakarta</td>\n",
              "      <td>SPV FINANCE</td>\n",
              "      <td>PT Axindo Infotama</td>\n",
              "      <td>3</td>\n",
              "      <td>0 - 4 tahun</td>\n",
              "      <td>[SEP][SEP]Usia Max. 35 tahun[SEP]Pendidikan Mi...</td>\n",
              "      <td>6</td>\n",
              "      <td>Retail/Merchandise</td>\n",
              "      <td>51 - 200 pekerja</td>\n",
              "      <td>sabtu</td>\n",
              "      <td>formal</td>\n",
              "      <td>kemeja polos &amp; dasi</td>\n",
              "      <td>kesehatan, umum</td>\n",
              "      <td>indonesia</td>\n",
              "      <td>jobstreet</td>\n",
              "    </tr>\n",
              "    <tr>\n",
              "      <th>1</th>\n",
              "      <td>2</td>\n",
              "      <td>jawa</td>\n",
              "      <td>dki jakarta</td>\n",
              "      <td>Qualitative Research Executive</td>\n",
              "      <td>Perusahaan Dirahasiakan</td>\n",
              "      <td>3</td>\n",
              "      <td>0 - 4 tahun</td>\n",
              "      <td>RESPONSIBILITIES:[SEP]Brief Description of Dut...</td>\n",
              "      <td>tidak tersedia</td>\n",
              "      <td>tidak tersedia</td>\n",
              "      <td>tidak spesifik</td>\n",
              "      <td>tidak tersedia</td>\n",
              "      <td>tidak spesifik</td>\n",
              "      <td>tidak spesifik</td>\n",
              "      <td>tidak tersedia</td>\n",
              "      <td>tidak dicantumkan</td>\n",
              "      <td>jobstreet</td>\n",
              "    </tr>\n",
              "    <tr>\n",
              "      <th>2</th>\n",
              "      <td>3</td>\n",
              "      <td>jawa</td>\n",
              "      <td>jawa tengah</td>\n",
              "      <td>Field Collection (JS - FC) Wonogiri</td>\n",
              "      <td>OTO Group</td>\n",
              "      <td>0</td>\n",
              "      <td>0 - 4 tahun</td>\n",
              "      <td>[SEP]Lingkup pekerjaan: [SEP]Menjaga account d...</td>\n",
              "      <td>14</td>\n",
              "      <td>Perbankan/Pelayanan Keuangan</td>\n",
              "      <td>lebih dari 5000 pekerja</td>\n",
              "      <td>senin - jumat</td>\n",
              "      <td>bisnis</td>\n",
              "      <td>kemeja</td>\n",
              "      <td>kesehatan, bonus</td>\n",
              "      <td>indonesia</td>\n",
              "      <td>jobstreet</td>\n",
              "    </tr>\n",
              "    <tr>\n",
              "      <th>3</th>\n",
              "      <td>4</td>\n",
              "      <td>jawa</td>\n",
              "      <td>dki jakarta</td>\n",
              "      <td>Perawat di Negara Jerman</td>\n",
              "      <td>PT Jerman Manajemen</td>\n",
              "      <td>1</td>\n",
              "      <td>0 - 4 tahun</td>\n",
              "      <td>[SEP]Candidate must possess at least Diploma i...</td>\n",
              "      <td>11</td>\n",
              "      <td>Pendidikan</td>\n",
              "      <td>51 - 200 pekerja</td>\n",
              "      <td>sabtu - kamis</td>\n",
              "      <td>formal</td>\n",
              "      <td>kemeja polos &amp; dasi</td>\n",
              "      <td>kesehatan</td>\n",
              "      <td>indonesia</td>\n",
              "      <td>jobstreet</td>\n",
              "    </tr>\n",
              "    <tr>\n",
              "      <th>4</th>\n",
              "      <td>5</td>\n",
              "      <td>jawa</td>\n",
              "      <td>jawa tengah</td>\n",
              "      <td>Field Collection (JS - FC) Pati</td>\n",
              "      <td>OTO Group</td>\n",
              "      <td>0</td>\n",
              "      <td>0 - 4 tahun</td>\n",
              "      <td>[SEP]Lingkup pekerjaan: [SEP]Menjaga account d...</td>\n",
              "      <td>14</td>\n",
              "      <td>Perbankan/Pelayanan Keuangan</td>\n",
              "      <td>lebih dari 5000 pekerja</td>\n",
              "      <td>senin - jumat</td>\n",
              "      <td>bisnis</td>\n",
              "      <td>kemeja</td>\n",
              "      <td>kesehatan, bonus</td>\n",
              "      <td>indonesia</td>\n",
              "      <td>jobstreet</td>\n",
              "    </tr>\n",
              "  </tbody>\n",
              "</table>\n",
              "</div>"
            ],
            "text/plain": [
              "   id_loker pulau  ... work_environment_bahasa   platform\n",
              "0         1  jawa  ...               indonesia  jobstreet\n",
              "1         2  jawa  ...       tidak dicantumkan  jobstreet\n",
              "2         3  jawa  ...               indonesia  jobstreet\n",
              "3         4  jawa  ...               indonesia  jobstreet\n",
              "4         5  jawa  ...               indonesia  jobstreet\n",
              "\n",
              "[5 rows x 17 columns]"
            ]
          },
          "metadata": {
            "tags": []
          },
          "execution_count": 104
        }
      ]
    },
    {
      "cell_type": "code",
      "metadata": {
        "id": "qPBvC7mjEaEB"
      },
      "source": [
        "data.to_csv('jobstreet_clean_tahap1.csv', index=False)"
      ],
      "execution_count": null,
      "outputs": []
    },
    {
      "cell_type": "code",
      "metadata": {
        "id": "9SwKUjz2H3UI",
        "outputId": "67e9b039-a2bd-4d41-96f7-99568d3be552",
        "colab": {
          "base_uri": "https://localhost:8080/",
          "height": 319
        }
      },
      "source": [
        "data.isnull().sum()"
      ],
      "execution_count": null,
      "outputs": [
        {
          "output_type": "execute_result",
          "data": {
            "text/plain": [
              "id_loker                                   0\n",
              "pulau                                      0\n",
              "provinsi                                   0\n",
              "job_position                               0\n",
              "company_name                               0\n",
              "years_of_experience                        0\n",
              "years_of_experience_cat                    0\n",
              "job_description                            0\n",
              "average_processing_time                    0\n",
              "company_industry                           0\n",
              "company_size                               0\n",
              "work_environment_waktu_bekerja             0\n",
              "work_environment_gaya_berpakaian           0\n",
              "work_environment_gaya_berpakaian_contoh    0\n",
              "work_environment_tunjangan                 0\n",
              "work_environment_bahasa                    0\n",
              "platform                                   0\n",
              "dtype: int64"
            ]
          },
          "metadata": {
            "tags": []
          },
          "execution_count": 106
        }
      ]
    },
    {
      "cell_type": "code",
      "metadata": {
        "id": "fdguq8ZTKo22"
      },
      "source": [
        ""
      ],
      "execution_count": null,
      "outputs": []
    }
  ]
}