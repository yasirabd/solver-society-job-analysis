{
  "nbformat": 4,
  "nbformat_minor": 0,
  "metadata": {
    "colab": {
      "name": "1 - Eksplore data Jobstreet, Glints",
      "provenance": [],
      "collapsed_sections": [],
      "toc_visible": true,
      "mount_file_id": "1A4vw4pMqlxJJWIGB_CcvOQ_Abvp2e5Mi",
      "authorship_tag": "ABX9TyMOllK+XDosPvBPSgCz+qUz",
      "include_colab_link": true
    },
    "kernelspec": {
      "name": "python3",
      "display_name": "Python 3"
    }
  },
  "cells": [
    {
      "cell_type": "markdown",
      "metadata": {
        "id": "view-in-github",
        "colab_type": "text"
      },
      "source": [
        "<a href=\"https://colab.research.google.com/github/yasirabd/solver-society-job-data/blob/main/1_Eksplore_data_Jobstreet_Glints.ipynb\" target=\"_parent\"><img src=\"https://colab.research.google.com/assets/colab-badge.svg\" alt=\"Open In Colab\"/></a>"
      ]
    },
    {
      "cell_type": "markdown",
      "metadata": {
        "id": "_-h9btkoUP5G"
      },
      "source": [
        "# Objective\n",
        "Melakukan eksplorasi data Jobstreet dan Glints.\n",
        "\n",
        "Data yang dibutuhkan:\n",
        "1. jobstreet_4oct.csv\n",
        "2. glints_4_oct.csv"
      ]
    },
    {
      "cell_type": "code",
      "metadata": {
        "id": "UQro1vgDVFKd"
      },
      "source": [
        "import pandas as pd\n",
        "import numpy as np\n",
        "import matplotlib.pyplot as plt\n",
        "import re"
      ],
      "execution_count": null,
      "outputs": []
    },
    {
      "cell_type": "markdown",
      "metadata": {
        "id": "yUDbJ88RVDJE"
      },
      "source": [
        "# Jobstreet"
      ]
    },
    {
      "cell_type": "code",
      "metadata": {
        "id": "QmbyhWhAUSC5",
        "outputId": "d5f4289a-d9c7-49ff-e0d9-e123b50060af",
        "colab": {
          "base_uri": "https://localhost:8080/",
          "height": 450
        }
      },
      "source": [
        "jobstreet = pd.read_csv(\"/content/drive/My Drive/Data Loker/jobstreet_4oct.csv\")\n",
        "jobstreet.head()"
      ],
      "execution_count": null,
      "outputs": [
        {
          "output_type": "execute_result",
          "data": {
            "text/html": [
              "<div>\n",
              "<style scoped>\n",
              "    .dataframe tbody tr th:only-of-type {\n",
              "        vertical-align: middle;\n",
              "    }\n",
              "\n",
              "    .dataframe tbody tr th {\n",
              "        vertical-align: top;\n",
              "    }\n",
              "\n",
              "    .dataframe thead th {\n",
              "        text-align: right;\n",
              "    }\n",
              "</style>\n",
              "<table border=\"1\" class=\"dataframe\">\n",
              "  <thead>\n",
              "    <tr style=\"text-align: right;\">\n",
              "      <th></th>\n",
              "      <th>platform</th>\n",
              "      <th>job_position</th>\n",
              "      <th>company_name</th>\n",
              "      <th>years_of_experience</th>\n",
              "      <th>company_location</th>\n",
              "      <th>company_address</th>\n",
              "      <th>posting_date</th>\n",
              "      <th>closing_date</th>\n",
              "      <th>job_description</th>\n",
              "      <th>average_processing_time</th>\n",
              "      <th>company_industry</th>\n",
              "      <th>company_site</th>\n",
              "      <th>company_size</th>\n",
              "      <th>work_environment_waktu_bekerja</th>\n",
              "      <th>work_environment_gaya_berpakaian</th>\n",
              "      <th>work_environment_tunjangan</th>\n",
              "      <th>work_environment_bahasa</th>\n",
              "      <th>company_overview</th>\n",
              "    </tr>\n",
              "  </thead>\n",
              "  <tbody>\n",
              "    <tr>\n",
              "      <th>0</th>\n",
              "      <td>jobstreet</td>\n",
              "      <td>SPV FINANCE</td>\n",
              "      <td>PT Axindo Infotama</td>\n",
              "      <td>Min 3 tahun (Supervisor/Koordinator)</td>\n",
              "      <td>Indonesia - Jakarta Raya - Jakarta Pusat - Ruk...</td>\n",
              "      <td>Ruko Mega Grosir Cempaka Mas Blok K No. 29-30</td>\n",
              "      <td>04-October-2020</td>\n",
              "      <td>Tutup pada 03-November-2020</td>\n",
              "      <td>[SEP][SEP]Usia Max. 35 tahun[SEP]Pendidikan Mi...</td>\n",
              "      <td>6 hari</td>\n",
              "      <td>Retail/Merchandise</td>\n",
              "      <td>http://axindo.co.id</td>\n",
              "      <td>51 - 200 pekerja</td>\n",
              "      <td>Sabtu atau memerlukan shift</td>\n",
              "      <td>Formil (contoh: Kemeja + Dasi)</td>\n",
              "      <td>Kesehatan, Parkir</td>\n",
              "      <td>Bahasa Indonesia</td>\n",
              "      <td>[SEP][SEP] PT. Axindo Infotama didirikan di Ja...</td>\n",
              "    </tr>\n",
              "    <tr>\n",
              "      <th>1</th>\n",
              "      <td>jobstreet</td>\n",
              "      <td>Qualitative Research Executive</td>\n",
              "      <td>Perusahaan Dirahasiakan</td>\n",
              "      <td>Min 3 tahun (Pegawai (non-manajemen &amp; non-supe...</td>\n",
              "      <td>Indonesia - Jakarta Raya</td>\n",
              "      <td>NaN</td>\n",
              "      <td>04-October-2020</td>\n",
              "      <td>Tutup pada 03-November-2020</td>\n",
              "      <td>RESPONSIBILITIES:[SEP]Brief Description of Dut...</td>\n",
              "      <td>NaN</td>\n",
              "      <td>NaN</td>\n",
              "      <td>NaN</td>\n",
              "      <td>NaN</td>\n",
              "      <td>NaN</td>\n",
              "      <td>NaN</td>\n",
              "      <td>NaN</td>\n",
              "      <td>NaN</td>\n",
              "      <td>[SEP]We are an international market research c...</td>\n",
              "    </tr>\n",
              "    <tr>\n",
              "      <th>2</th>\n",
              "      <td>jobstreet</td>\n",
              "      <td>Field Collection (JS - FC) Wonogiri</td>\n",
              "      <td>OTO Group</td>\n",
              "      <td>Lulusan baru/Pengalaman kerja kurang dari 1 tahun</td>\n",
              "      <td>Indonesia - Jawa Tengah - Wonogiri Wonogoro - ...</td>\n",
              "      <td>Gedung Summit Mas II lantai 18, Jl. Jend Soedi...</td>\n",
              "      <td>24-September-2020</td>\n",
              "      <td>Tutup pada 24-October-2020</td>\n",
              "      <td>[SEP]Lingkup pekerjaan: [SEP]Menjaga account d...</td>\n",
              "      <td>Lebih dari 2 minggu</td>\n",
              "      <td>Perbankan/Pelayanan Keuangan</td>\n",
              "      <td>http://www.karir.oto.co.id</td>\n",
              "      <td>Lebih dari 5000 pekerja</td>\n",
              "      <td>Waktu regular, Senin - Jumat</td>\n",
              "      <td>Bisnis (contoh: Kemeja)</td>\n",
              "      <td>Kesehatan, Gigi, bonus tahunan</td>\n",
              "      <td>Bahasa Indonesia</td>\n",
              "      <td>[SEP]OTO Group is a subsidiary company of SUMI...</td>\n",
              "    </tr>\n",
              "    <tr>\n",
              "      <th>3</th>\n",
              "      <td>jobstreet</td>\n",
              "      <td>Perawat di Negara Jerman</td>\n",
              "      <td>PT Jerman Manajemen</td>\n",
              "      <td>Min 1 tahun (Pegawai (non-manajemen &amp; non-supe...</td>\n",
              "      <td>Indonesia - Jakarta Raya</td>\n",
              "      <td>Komplek Balikpapan Baru, Ruko Sentra Eropa Blo...</td>\n",
              "      <td>04-October-2020</td>\n",
              "      <td>Tutup pada 03-November-2020</td>\n",
              "      <td>[SEP]Candidate must possess at least Diploma i...</td>\n",
              "      <td>11 hari</td>\n",
              "      <td>Pendidikan</td>\n",
              "      <td>http://www.jermanmanajemen.de</td>\n",
              "      <td>51 - 200 pekerja</td>\n",
              "      <td>SABTU-KAMIS</td>\n",
              "      <td>Formil (contoh: Kemeja + Dasi)</td>\n",
              "      <td>Kesehatan</td>\n",
              "      <td>Bahasa Indonesia</td>\n",
              "      <td>[SEP]Kami menghimbau agar Anda berhati-hati sa...</td>\n",
              "    </tr>\n",
              "    <tr>\n",
              "      <th>4</th>\n",
              "      <td>jobstreet</td>\n",
              "      <td>Field Collection (JS - FC) Pati</td>\n",
              "      <td>OTO Group</td>\n",
              "      <td>Lulusan baru/Pengalaman kerja kurang dari 1 tahun</td>\n",
              "      <td>Indonesia - Jawa Tengah - Pati</td>\n",
              "      <td>Gedung Summit Mas II lantai 18, Jl. Jend Soedi...</td>\n",
              "      <td>24-September-2020</td>\n",
              "      <td>Tutup pada 24-October-2020</td>\n",
              "      <td>[SEP]Lingkup pekerjaan: [SEP]Menjaga account d...</td>\n",
              "      <td>Lebih dari 2 minggu</td>\n",
              "      <td>Perbankan/Pelayanan Keuangan</td>\n",
              "      <td>http://www.karir.oto.co.id</td>\n",
              "      <td>Lebih dari 5000 pekerja</td>\n",
              "      <td>Waktu regular, Senin - Jumat</td>\n",
              "      <td>Bisnis (contoh: Kemeja)</td>\n",
              "      <td>Kesehatan, Gigi, bonus tahunan</td>\n",
              "      <td>Bahasa Indonesia</td>\n",
              "      <td>[SEP]OTO Group is a subsidiary company of SUMI...</td>\n",
              "    </tr>\n",
              "  </tbody>\n",
              "</table>\n",
              "</div>"
            ],
            "text/plain": [
              "    platform  ...                                   company_overview\n",
              "0  jobstreet  ...  [SEP][SEP] PT. Axindo Infotama didirikan di Ja...\n",
              "1  jobstreet  ...  [SEP]We are an international market research c...\n",
              "2  jobstreet  ...  [SEP]OTO Group is a subsidiary company of SUMI...\n",
              "3  jobstreet  ...  [SEP]Kami menghimbau agar Anda berhati-hati sa...\n",
              "4  jobstreet  ...  [SEP]OTO Group is a subsidiary company of SUMI...\n",
              "\n",
              "[5 rows x 18 columns]"
            ]
          },
          "metadata": {
            "tags": []
          },
          "execution_count": 2
        }
      ]
    },
    {
      "cell_type": "code",
      "metadata": {
        "id": "kMipzR4x8zJL",
        "outputId": "b2dd54e2-870d-4df9-e034-0571ff2beda6",
        "colab": {
          "base_uri": "https://localhost:8080/",
          "height": 34
        }
      },
      "source": [
        "jobstreet.shape"
      ],
      "execution_count": null,
      "outputs": [
        {
          "output_type": "execute_result",
          "data": {
            "text/plain": [
              "(14150, 18)"
            ]
          },
          "metadata": {
            "tags": []
          },
          "execution_count": 3
        }
      ]
    },
    {
      "cell_type": "code",
      "metadata": {
        "id": "8k6abykEbYBH",
        "outputId": "f7180db8-ffc1-4521-f8a8-cf2388bc1b26",
        "colab": {
          "base_uri": "https://localhost:8080/",
          "height": 580
        }
      },
      "source": [
        "jobstreet.describe().T"
      ],
      "execution_count": null,
      "outputs": [
        {
          "output_type": "execute_result",
          "data": {
            "text/html": [
              "<div>\n",
              "<style scoped>\n",
              "    .dataframe tbody tr th:only-of-type {\n",
              "        vertical-align: middle;\n",
              "    }\n",
              "\n",
              "    .dataframe tbody tr th {\n",
              "        vertical-align: top;\n",
              "    }\n",
              "\n",
              "    .dataframe thead th {\n",
              "        text-align: right;\n",
              "    }\n",
              "</style>\n",
              "<table border=\"1\" class=\"dataframe\">\n",
              "  <thead>\n",
              "    <tr style=\"text-align: right;\">\n",
              "      <th></th>\n",
              "      <th>count</th>\n",
              "      <th>unique</th>\n",
              "      <th>top</th>\n",
              "      <th>freq</th>\n",
              "    </tr>\n",
              "  </thead>\n",
              "  <tbody>\n",
              "    <tr>\n",
              "      <th>platform</th>\n",
              "      <td>14150</td>\n",
              "      <td>1</td>\n",
              "      <td>jobstreet</td>\n",
              "      <td>14150</td>\n",
              "    </tr>\n",
              "    <tr>\n",
              "      <th>job_position</th>\n",
              "      <td>14141</td>\n",
              "      <td>10582</td>\n",
              "      <td>Sales Executive</td>\n",
              "      <td>60</td>\n",
              "    </tr>\n",
              "    <tr>\n",
              "      <th>company_name</th>\n",
              "      <td>14141</td>\n",
              "      <td>5106</td>\n",
              "      <td>Perusahaan Dirahasiakan</td>\n",
              "      <td>548</td>\n",
              "    </tr>\n",
              "    <tr>\n",
              "      <th>years_of_experience</th>\n",
              "      <td>14137</td>\n",
              "      <td>77</td>\n",
              "      <td>Min 1 tahun (Pegawai (non-manajemen &amp; non-supe...</td>\n",
              "      <td>3417</td>\n",
              "    </tr>\n",
              "    <tr>\n",
              "      <th>company_location</th>\n",
              "      <td>12720</td>\n",
              "      <td>3111</td>\n",
              "      <td>Indonesia - Jakarta Raya</td>\n",
              "      <td>1786</td>\n",
              "    </tr>\n",
              "    <tr>\n",
              "      <th>company_address</th>\n",
              "      <td>11290</td>\n",
              "      <td>4893</td>\n",
              "      <td>Gedung Summit Mas II lantai 18, Jl. Jend Soedi...</td>\n",
              "      <td>114</td>\n",
              "    </tr>\n",
              "    <tr>\n",
              "      <th>posting_date</th>\n",
              "      <td>14141</td>\n",
              "      <td>31</td>\n",
              "      <td>01-October-2020</td>\n",
              "      <td>782</td>\n",
              "    </tr>\n",
              "    <tr>\n",
              "      <th>closing_date</th>\n",
              "      <td>14141</td>\n",
              "      <td>47</td>\n",
              "      <td>Tutup pada 22-October-2020</td>\n",
              "      <td>764</td>\n",
              "    </tr>\n",
              "    <tr>\n",
              "      <th>job_description</th>\n",
              "      <td>14141</td>\n",
              "      <td>13907</td>\n",
              "      <td>Dicari Marketing Freelance bidang Property Kua...</td>\n",
              "      <td>10</td>\n",
              "    </tr>\n",
              "    <tr>\n",
              "      <th>average_processing_time</th>\n",
              "      <td>13171</td>\n",
              "      <td>14</td>\n",
              "      <td>Lebih dari 2 minggu</td>\n",
              "      <td>10089</td>\n",
              "    </tr>\n",
              "    <tr>\n",
              "      <th>company_industry</th>\n",
              "      <td>13593</td>\n",
              "      <td>58</td>\n",
              "      <td>Manufaktur/Produksi</td>\n",
              "      <td>1712</td>\n",
              "    </tr>\n",
              "    <tr>\n",
              "      <th>company_site</th>\n",
              "      <td>10242</td>\n",
              "      <td>3245</td>\n",
              "      <td>http://www.karir.oto.co.id</td>\n",
              "      <td>142</td>\n",
              "    </tr>\n",
              "    <tr>\n",
              "      <th>company_size</th>\n",
              "      <td>13579</td>\n",
              "      <td>8</td>\n",
              "      <td>51 - 200 pekerja</td>\n",
              "      <td>3578</td>\n",
              "    </tr>\n",
              "    <tr>\n",
              "      <th>work_environment_waktu_bekerja</th>\n",
              "      <td>12519</td>\n",
              "      <td>715</td>\n",
              "      <td>Waktu regular, Senin - Jumat</td>\n",
              "      <td>7999</td>\n",
              "    </tr>\n",
              "    <tr>\n",
              "      <th>work_environment_gaya_berpakaian</th>\n",
              "      <td>12430</td>\n",
              "      <td>292</td>\n",
              "      <td>Bisnis (contoh: Kemeja)</td>\n",
              "      <td>7042</td>\n",
              "    </tr>\n",
              "    <tr>\n",
              "      <th>work_environment_tunjangan</th>\n",
              "      <td>11426</td>\n",
              "      <td>1104</td>\n",
              "      <td>Kesehatan</td>\n",
              "      <td>2812</td>\n",
              "    </tr>\n",
              "    <tr>\n",
              "      <th>work_environment_bahasa</th>\n",
              "      <td>12491</td>\n",
              "      <td>162</td>\n",
              "      <td>Bahasa Indonesia</td>\n",
              "      <td>9215</td>\n",
              "    </tr>\n",
              "    <tr>\n",
              "      <th>company_overview</th>\n",
              "      <td>14141</td>\n",
              "      <td>5519</td>\n",
              "      <td>[SEP]OTO Group is a subsidiary company of SUMI...</td>\n",
              "      <td>139</td>\n",
              "    </tr>\n",
              "  </tbody>\n",
              "</table>\n",
              "</div>"
            ],
            "text/plain": [
              "                                  count  ...   freq\n",
              "platform                          14150  ...  14150\n",
              "job_position                      14141  ...     60\n",
              "company_name                      14141  ...    548\n",
              "years_of_experience               14137  ...   3417\n",
              "company_location                  12720  ...   1786\n",
              "company_address                   11290  ...    114\n",
              "posting_date                      14141  ...    782\n",
              "closing_date                      14141  ...    764\n",
              "job_description                   14141  ...     10\n",
              "average_processing_time           13171  ...  10089\n",
              "company_industry                  13593  ...   1712\n",
              "company_site                      10242  ...    142\n",
              "company_size                      13579  ...   3578\n",
              "work_environment_waktu_bekerja    12519  ...   7999\n",
              "work_environment_gaya_berpakaian  12430  ...   7042\n",
              "work_environment_tunjangan        11426  ...   2812\n",
              "work_environment_bahasa           12491  ...   9215\n",
              "company_overview                  14141  ...    139\n",
              "\n",
              "[18 rows x 4 columns]"
            ]
          },
          "metadata": {
            "tags": []
          },
          "execution_count": 4
        }
      ]
    },
    {
      "cell_type": "code",
      "metadata": {
        "id": "uJ-xvJT0Ver5",
        "outputId": "85703853-154c-4d45-daca-61022bd945c3",
        "colab": {
          "base_uri": "https://localhost:8080/",
          "height": 336
        }
      },
      "source": [
        "# check null value\n",
        "\n",
        "jobstreet.isnull().sum()"
      ],
      "execution_count": null,
      "outputs": [
        {
          "output_type": "execute_result",
          "data": {
            "text/plain": [
              "platform                               0\n",
              "job_position                           9\n",
              "company_name                           9\n",
              "years_of_experience                   13\n",
              "company_location                    1430\n",
              "company_address                     2860\n",
              "posting_date                           9\n",
              "closing_date                           9\n",
              "job_description                        9\n",
              "average_processing_time              979\n",
              "company_industry                     557\n",
              "company_site                        3908\n",
              "company_size                         571\n",
              "work_environment_waktu_bekerja      1631\n",
              "work_environment_gaya_berpakaian    1720\n",
              "work_environment_tunjangan          2724\n",
              "work_environment_bahasa             1659\n",
              "company_overview                       9\n",
              "dtype: int64"
            ]
          },
          "metadata": {
            "tags": []
          },
          "execution_count": 5
        }
      ]
    },
    {
      "cell_type": "markdown",
      "metadata": {
        "id": "7xVH0IcR7njG"
      },
      "source": [
        "> Banyak terdapat data kosong, perlu cleaning data."
      ]
    },
    {
      "cell_type": "markdown",
      "metadata": {
        "id": "epvcxYOn7vFY"
      },
      "source": [
        "Kita coba, lakukan eksplorasi sederhana tiap parameter pada Jobstreet.\n",
        "\n",
        "| No | Attributes                       | Keterangan                                                  |\n",
        "|----|----------------------------------|-------------------------------------------------------------|\n",
        "| 1  | platform                         | Tempat data diambil (jobstreet)                             |\n",
        "| 2  | job_position                     | Posisi pekerjaan yang dicari perusahaan                     |\n",
        "| 3  | company_name                     | Nama perusahaan yang membuka lowongan kerja                 |\n",
        "| 4  | years_of_experience              | Lama pengalaman yang dibutuhkan untuk apply pekerjaan       |\n",
        "| 5  | company_location                 | Lokasi perusahaan yang membuka lowongan kerja               |\n",
        "| 6  | company_address                  | Alamat perusahaan                                           |\n",
        "| 7  | posting_date                     | Waktu perusahaan posting lowongan kerja pada platform       |\n",
        "| 8  | closing_date                     | Waktu post lowongan kerja selesai ditampilkan pada platform |\n",
        "| 9  | job_description                  | Deskripsi dari kualifikasi dan tanggung jawab pekerjaan     |\n",
        "| 10 | average_processing_time          | Lama waktu perusahaan memproses lamaran kerja               |\n",
        "| 11 | company_industry                 | Jenis industri perusahaan                                   |\n",
        "| 12 | company_site                     | Website perusahaan                                          |\n",
        "| 13 | company_size                     | Ukuran perusahaan dari jumlah karyawan                      |\n",
        "| 14 | work_environment_waktu_bekerja   | Waktu bekerja karyawan                                      |\n",
        "| 15 | work_environment_gaya_berpakaian | Pakaian yang digunakan karyawan formal/non-formal           |\n",
        "| 16 | work_environment_tunjangan       | Tunjangan yang diberikan pada karyawan                      |\n",
        "| 17 | work_environment_bahasa          | Bahasa yang digunakan pada perusahaan                       |\n",
        "| 18 | company_overview                 | Deskripsi perusahaan                                        |"
      ]
    },
    {
      "cell_type": "markdown",
      "metadata": {
        "id": "JgweWq2JWmcd"
      },
      "source": [
        "## job_position"
      ]
    },
    {
      "cell_type": "code",
      "metadata": {
        "id": "Vac3WJ-wVlKU",
        "outputId": "821e4f7e-10ae-4724-cac3-03682a443ce4",
        "colab": {
          "base_uri": "https://localhost:8080/",
          "height": 218
        }
      },
      "source": [
        "# convert to lower case dan fillna dengan string 'kosong'\n",
        "job_position = jobstreet['job_position'].str.lower().fillna('kosong')\n",
        "\n",
        "job_position.value_counts()"
      ],
      "execution_count": null,
      "outputs": [
        {
          "output_type": "execute_result",
          "data": {
            "text/plain": [
              "sales executive                                    80\n",
              "accounting staff                                   68\n",
              "digital marketing                                  56\n",
              "marketing                                          49\n",
              "sales manager                                      48\n",
              "                                                   ..\n",
              "marketing head (parung)                             1\n",
              "assistant sales staff (yl palembang)                1\n",
              "(jv1912003) account officer - sales - pekanbaru     1\n",
              "seo content specialist                              1\n",
              "project director (id: 501476)                       1\n",
              "Name: job_position, Length: 10078, dtype: int64"
            ]
          },
          "metadata": {
            "tags": []
          },
          "execution_count": 6
        }
      ]
    },
    {
      "cell_type": "markdown",
      "metadata": {
        "id": "zGFUcW0p8d2h"
      },
      "source": [
        "**Sales Executive** merupakan job_position yang paling banyak jumlah kemunculan pada data.\n",
        "\n",
        "Jika kita perhatikan data unique pada job_position adalah **10078** dari total data kita **14150**. Artinya data job_position masih kotor dan perlu cleaning.\n",
        "\n",
        "Kita coba cek kemunculan jenis pekerjaan **sales executive** pada data."
      ]
    },
    {
      "cell_type": "code",
      "metadata": {
        "id": "GvH8JqbB8UfM",
        "outputId": "9c6f85f8-a5c4-45de-fb65-f4c7f83d31d3",
        "colab": {
          "base_uri": "https://localhost:8080/",
          "height": 1000
        }
      },
      "source": [
        "# check banyak jenis sales executive\n",
        "temp = list()\n",
        "for pos in job_position:\n",
        "    if 'sales executive' in pos:\n",
        "        temp.append(pos)\n",
        "pd.Series(temp).unique()"
      ],
      "execution_count": null,
      "outputs": [
        {
          "output_type": "execute_result",
          "data": {
            "text/plain": [
              "array(['sales executive (mandarin speaking)', 'sales executive',\n",
              "       'sales executive (cirebon)', 'sales executive (pontianak)',\n",
              "       'sales executive veteriner', 'sales executive (pekanbaru)',\n",
              "       'sales executive supplement division',\n",
              "       'sales executive horeka & b2b semarang',\n",
              "       'sales executive horeka & b2b - yogyakarta',\n",
              "       'sales executive horeka & b2b jawa barat - bandung',\n",
              "       'sales executive (penempatan berau)',\n",
              "       'sales executive - enclosure, rack & cooling unit mnc',\n",
              "       'sales executive (financial services)',\n",
              "       'sales executive new channel',\n",
              "       'sales executive - food service (hotel, restaurant, catering) balikpapan branch',\n",
              "       'sales executive ( penempatan depok )', 'sales executive solo',\n",
              "       'technical sales executive (jabodetabek & semarang)',\n",
              "       'sales executive pontianak', 'sales executive it',\n",
              "       'it sales field/sales executive',\n",
              "       'sales executive - personal care (bogor)',\n",
              "       'senior sales executive', 'sales executive (jakarta)',\n",
              "       'sales executive (plantation)', 'telesales executives',\n",
              "       'sales executive (makassar)', 'sales executive staff',\n",
              "       'sales executive corporate', 'sales executive retail',\n",
              "       'sales executive (flexible packaging)',\n",
              "       'marketing sales executive', 'sales executive property',\n",
              "       'corporate sales executive', 'sales executive (cianjur)',\n",
              "       'sales executive - personal care (pandeglang)',\n",
              "       'sales executive - palembang', 'sales executive (kemang)',\n",
              "       'sales executive area jawa barat', 'ecommerce sales executive',\n",
              "       'sales executive (penempatan berau-sanggata)',\n",
              "       'sales executive cabang kudus',\n",
              "       'sales executive - food service (hotel, restaurant, catering) banjarmasin branch',\n",
              "       'sales executive (jakarta, jabar, jateng)',\n",
              "       'sales executive resin (jakarta office)',\n",
              "       'sales executive (nusa tenggara barat & nusa tenggara timur)',\n",
              "       'sales executive (bali)',\n",
              "       'supervisor sales executive (citra raya-tangerang)',\n",
              "       'sales executive (surabaya office)',\n",
              "       'sales executive speciality from coffee/ ice cream machine or kitchen equip',\n",
              "       'sales executive personal care (tangerang)',\n",
              "       'sales executive (personal care) - blitar',\n",
              "       'senior sales executive (banjarmasin)',\n",
              "       'sales executive - food ingredients (id: 500805)',\n",
              "       'sales executive horeca', 'sales executive (batam)',\n",
              "       'industrial sales executive - jakarta',\n",
              "       'sales executive (freight forwarding & logistics)',\n",
              "       'sales executive (surabaya)',\n",
              "       'sales executive - (cikarang & solo)', 'sales executive (to)',\n",
              "       'sales executive property dan perumahan di bogor',\n",
              "       'sales executive (personal consultant)',\n",
              "       'project / residential sales executive',\n",
              "       'technical sales for gps tracker (sales executive staff)',\n",
              "       'sales executive - personal care (pamekasan)',\n",
              "       'sales executive (lombok)', 'business sales executive',\n",
              "       'telesales executive (saas/it sales) – training provided',\n",
              "       'senior sales executive - freight forwarding',\n",
              "       'sales executive bintaro', 'sales executive (import / export)',\n",
              "       'regional sales executive', 'sales executive kosmetik (kediri)',\n",
              "       'sales executive (in bintan)', 'senior sales executive/manager',\n",
              "       'sales executive - foods trading (b-55517)',\n",
              "       'tele sales executive', 'sales executive_warehouse truck',\n",
              "       'sales executive_forklift', 'sales executive (deal merchant)',\n",
              "       'sales executive (education consultant)', 'sales executive padang',\n",
              "       'sales executive (dki jakarta)',\n",
              "       'sales executive (aesthetic consumable division)',\n",
              "       'sales executive - personal care (cileungsi)',\n",
              "       'sales executive officer',\n",
              "       'sales executive - personal care (tasikmalaya)',\n",
              "       'sales executive - personal care (sukabumi)',\n",
              "       'sales executive cabang',\n",
              "       'sales executive - personal care (cimareme)',\n",
              "       'sales executive aquaculture kalimantan area (id: 494943)',\n",
              "       'senior project sales executive bogor',\n",
              "       'sales executive (oem business for skincare)',\n",
              "       'sales executive cabang surabaya',\n",
              "       'sales executive for wholesales', 'project sales executive',\n",
              "       'kia big up sales executive',\n",
              "       'corporate sales executive (cabang manado)',\n",
              "       'corporate sales executive (cabang palembang & lampung)',\n",
              "       'corporate sales executive (cabang batam)',\n",
              "       'corporate sales executive (cabang medan)',\n",
              "       'sales executive jakarta', 'sales executive surabaya',\n",
              "       'sales executive (pondok gede showroom)',\n",
              "       'sales executive for offset ink', 'sales executive pekalongan',\n",
              "       'key account senior sales executive bali',\n",
              "       'sales executive (makassar placement)',\n",
              "       'sales executive (jakarta pusat)',\n",
              "       'sales executive (paper division)',\n",
              "       'sales executive (surabaya & jakarta based)',\n",
              "       'sales executive (jabodetabek)',\n",
              "       'sales executive area jawa tengah (bahan bangunan)',\n",
              "       'sales executives',\n",
              "       'sales executive (bekasi, sidoarjo, & semarang)',\n",
              "       'sales executive bakery & peralatan pendingin (kulkas komersil)',\n",
              "       'sales executive - shipping', 'sales executive (retail)',\n",
              "       'regional sales executive (surabaya)',\n",
              "       'sales executive (id : 500805)', 'sales executive - digital media',\n",
              "       'sales executive ( premium showroom )',\n",
              "       'sales executive (bandung)',\n",
              "       'sales executive - personal care (surabaya)',\n",
              "       'sales executive - garut', 'sales executive (sentul showroom)',\n",
              "       'sales executive (pamulang showroom)',\n",
              "       'senior sales executive (manado)'], dtype=object)"
            ]
          },
          "metadata": {
            "tags": []
          },
          "execution_count": 7
        }
      ]
    },
    {
      "cell_type": "markdown",
      "metadata": {
        "id": "uc9BkINB9aNk"
      },
      "source": [
        "> Terlihat sales executive sendiri memiliki beragam jenis dengan penjelas. Perlu kita bersihkan data penjelas. "
      ]
    },
    {
      "cell_type": "markdown",
      "metadata": {
        "id": "wSYIg1tW9-E0"
      },
      "source": [
        "Untuk membersihkan data, kita dapat menggunakan regex."
      ]
    },
    {
      "cell_type": "code",
      "metadata": {
        "id": "8QqpHSNDWs4m",
        "outputId": "389fff83-cfb1-411e-8473-90d68533bce5",
        "colab": {
          "base_uri": "https://localhost:8080/",
          "height": 35
        }
      },
      "source": [
        "a = \"sales executive (education consultant)\"\n",
        "\n",
        "regex = re.compile(\".*?\\((.*?)\\)\")\n",
        "re.sub(\"[\\(\\[].*?[\\)\\]]\", \"\", a).strip()"
      ],
      "execution_count": null,
      "outputs": [
        {
          "output_type": "execute_result",
          "data": {
            "application/vnd.google.colaboratory.intrinsic+json": {
              "type": "string"
            },
            "text/plain": [
              "'sales executive'"
            ]
          },
          "metadata": {
            "tags": []
          },
          "execution_count": 8
        }
      ]
    },
    {
      "cell_type": "markdown",
      "metadata": {
        "id": "kI4wgM40wPzH"
      },
      "source": [
        "## company_name"
      ]
    },
    {
      "cell_type": "code",
      "metadata": {
        "id": "pxbyEddW-QA6",
        "outputId": "0e032483-b35b-42ec-86b2-cc76a502cbef",
        "colab": {
          "base_uri": "https://localhost:8080/",
          "height": 34
        }
      },
      "source": [
        "# check null value\n",
        "jobstreet['company_name'].isnull().sum()"
      ],
      "execution_count": null,
      "outputs": [
        {
          "output_type": "execute_result",
          "data": {
            "text/plain": [
              "9"
            ]
          },
          "metadata": {
            "tags": []
          },
          "execution_count": 9
        }
      ]
    },
    {
      "cell_type": "code",
      "metadata": {
        "id": "2rJA71LBXtnu",
        "outputId": "97117526-275c-44e1-8f13-413ab605ccae",
        "colab": {
          "base_uri": "https://localhost:8080/",
          "height": 218
        }
      },
      "source": [
        "# fillna dengan string 'kosong'\n",
        "company_name = jobstreet['company_name'].fillna('kosong')\n",
        "\n",
        "company_name.value_counts()"
      ],
      "execution_count": null,
      "outputs": [
        {
          "output_type": "execute_result",
          "data": {
            "text/plain": [
              "Perusahaan Dirahasiakan                                       548\n",
              "OTO Group                                                     142\n",
              "PT Michael Page Internasional Indonesia (Recruitment Firm)     83\n",
              "PT AXA Mandiri Financial Services                              62\n",
              "PT. Aurora Group (Recruitment Firm)                            62\n",
              "                                                             ... \n",
              "PT Bina Persada Jaya                                            1\n",
              "Century 21 Indonesia                                            1\n",
              "PT Masjidpedia Inovasi Bersama                                  1\n",
              "PT Tolan Tiga Indonesia                                         1\n",
              "PT Alistor Jaya Mandiri                                         1\n",
              "Name: company_name, Length: 5107, dtype: int64"
            ]
          },
          "metadata": {
            "tags": []
          },
          "execution_count": 10
        }
      ]
    },
    {
      "cell_type": "markdown",
      "metadata": {
        "id": "ygRFomA4w5_W"
      },
      "source": [
        "> gakada masalah"
      ]
    },
    {
      "cell_type": "markdown",
      "metadata": {
        "id": "g3ebXWWbw9x3"
      },
      "source": [
        "## years_of_experience"
      ]
    },
    {
      "cell_type": "code",
      "metadata": {
        "id": "I0JqgO4Iww4x",
        "outputId": "d6926421-2658-40c9-9618-a97e6f26e1c9",
        "colab": {
          "base_uri": "https://localhost:8080/",
          "height": 1000
        }
      },
      "source": [
        "# convert to lower case dan fillna dengan string 'kosong'\n",
        "yoe = jobstreet['years_of_experience'].str.lower().fillna('kosong')\n",
        "\n",
        "yoe.value_counts()[:60]"
      ],
      "execution_count": null,
      "outputs": [
        {
          "output_type": "execute_result",
          "data": {
            "text/plain": [
              "min 1 tahun (pegawai (non-manajemen & non-supervisor))             3417\n",
              "min 2 tahun (pegawai (non-manajemen & non-supervisor))             2464\n",
              "min 3 tahun (pegawai (non-manajemen & non-supervisor))             1064\n",
              "min 2 tahun (supervisor/koordinator)                                936\n",
              "min 3 tahun (supervisor/koordinator)                                907\n",
              "min 5 tahun (manajer/asisten manajer)                               839\n",
              "lulusan baru/pengalaman kerja kurang dari 1 tahun                   791\n",
              "min 3 tahun (manajer/asisten manajer)                               522\n",
              "min 5 tahun (supervisor/koordinator)                                453\n",
              "min 1 tahun (supervisor/koordinator)                                370\n",
              "min 2 tahun (manajer/asisten manajer)                               310\n",
              "min 5 tahun (pegawai (non-manajemen & non-supervisor))              306\n",
              "min 1 tahun (lulusan baru/pengalaman kerja kurang dari 1 tahun)     265\n",
              "min 4 tahun (supervisor/koordinator)                                178\n",
              "min 10 tahun (manajer/asisten manajer)                              169\n",
              "min 4 tahun (manajer/asisten manajer)                               140\n",
              "min 4 tahun (pegawai (non-manajemen & non-supervisor))              118\n",
              "min 8 tahun (manajer/asisten manajer)                               106\n",
              "min 1 tahun (manajer/asisten manajer)                                97\n",
              "min 7 tahun (manajer/asisten manajer)                                86\n",
              "min 5 tahun (ceo/gm/direktur/manajer senior)                         68\n",
              "min 10 tahun (ceo/gm/direktur/manajer senior)                        68\n",
              "min 6 tahun (manajer/asisten manajer)                                50\n",
              "min 2 tahun (lulusan baru/pengalaman kerja kurang dari 1 tahun)      39\n",
              "min 15 tahun (ceo/gm/direktur/manajer senior)                        33\n",
              "min 15 tahun (manajer/asisten manajer)                               30\n",
              "min 10 tahun (supervisor/koordinator)                                24\n",
              "min 7 tahun (supervisor/koordinator)                                 21\n",
              "min 6 tahun (supervisor/koordinator)                                 21\n",
              "min 8 tahun (supervisor/koordinator)                                 20\n",
              "min 3 tahun (ceo/gm/direktur/manajer senior)                         20\n",
              "min 6 tahun (pegawai (non-manajemen & non-supervisor))               18\n",
              "min 7 tahun (ceo/gm/direktur/manajer senior)                         18\n",
              "min 8 tahun (ceo/gm/direktur/manajer senior)                         17\n",
              "kosong                                                               13\n",
              "min 7 tahun (pegawai (non-manajemen & non-supervisor))               12\n",
              "min 12 tahun (manajer/asisten manajer)                               12\n",
              "min 2 tahun (ceo/gm/direktur/manajer senior)                         11\n",
              "min 6 tahun (ceo/gm/direktur/manajer senior)                          9\n",
              "min 12 tahun (ceo/gm/direktur/manajer senior)                         9\n",
              "min 10 tahun (pegawai (non-manajemen & non-supervisor))               8\n",
              "min 3 tahun (lulusan baru/pengalaman kerja kurang dari 1 tahun)       7\n",
              "min 9 tahun (manajer/asisten manajer)                                 7\n",
              "min 4 tahun (ceo/gm/direktur/manajer senior)                          7\n",
              "min 8 tahun (pegawai (non-manajemen & non-supervisor))                6\n",
              "min 3 tahun (non-eksekutif)                                           6\n",
              "min 2 tahun (non-eksekutif)                                           5\n",
              "supervisor/koordinator                                                4\n",
              "min 1 tahun (ceo/gm/direktur/manajer senior)                          4\n",
              "min 13 tahun (manajer/asisten manajer)                                3\n",
              "min 5 tahun (non-eksekutif)                                           3\n",
              "pegawai (non-manajemen & non-supervisor)                              3\n",
              "min 18 tahun (ceo/gm/direktur/manajer senior)                         2\n",
              "lebih dari 24 tahun (ceo/gm/direktur/manajer senior)                  2\n",
              "min 16 tahun (manajer/asisten manajer)                                2\n",
              "min 3 tahun (junior executive)                                        2\n",
              "min 6 tahun (non-eksekutif)                                           2\n",
              "min 20 tahun (ceo/gm/direktur/manajer senior)                         2\n",
              "ceo/gm/direktur/manajer senior                                        2\n",
              "min 12 tahun (supervisor/koordinator)                                 2\n",
              "Name: years_of_experience, dtype: int64"
            ]
          },
          "metadata": {
            "tags": []
          },
          "execution_count": 11
        }
      ]
    },
    {
      "cell_type": "markdown",
      "metadata": {
        "id": "5TRrFZckZHOj"
      },
      "source": [
        "Kita tidak perlu data posisi pada bracket ()"
      ]
    },
    {
      "cell_type": "code",
      "metadata": {
        "id": "bufz1FiCy0EV",
        "outputId": "73aaf530-774d-441a-a666-3365883b6ac8",
        "colab": {
          "base_uri": "https://localhost:8080/",
          "height": 35
        }
      },
      "source": [
        "\"min 8 tahun (ceo/gm/direktur/manajer senior)\".split('(')[0].strip()"
      ],
      "execution_count": null,
      "outputs": [
        {
          "output_type": "execute_result",
          "data": {
            "application/vnd.google.colaboratory.intrinsic+json": {
              "type": "string"
            },
            "text/plain": [
              "'min 8 tahun'"
            ]
          },
          "metadata": {
            "tags": []
          },
          "execution_count": 12
        }
      ]
    },
    {
      "cell_type": "code",
      "metadata": {
        "id": "hCD9wGtVzx6Z"
      },
      "source": [
        "result = yoe.values\n",
        "for idx, years in enumerate(yoe):\n",
        "    result[idx] = years.split('(')[0].strip()"
      ],
      "execution_count": null,
      "outputs": []
    },
    {
      "cell_type": "code",
      "metadata": {
        "id": "wGZAHfHH0KRy",
        "outputId": "5228f0ce-be29-40a6-f61f-0440375c6b15",
        "colab": {
          "base_uri": "https://localhost:8080/",
          "height": 487
        }
      },
      "source": [
        "pd.Series(result).value_counts()"
      ],
      "execution_count": null,
      "outputs": [
        {
          "output_type": "execute_result",
          "data": {
            "text/plain": [
              "min 1 tahun                                          4154\n",
              "min 2 tahun                                          3766\n",
              "min 3 tahun                                          2529\n",
              "min 5 tahun                                          1675\n",
              "lulusan baru/pengalaman kerja kurang dari 1 tahun     791\n",
              "min 4 tahun                                           443\n",
              "min 10 tahun                                          269\n",
              "min 8 tahun                                           150\n",
              "min 7 tahun                                           137\n",
              "min 6 tahun                                           100\n",
              "min 15 tahun                                           63\n",
              "min 12 tahun                                           24\n",
              "kosong                                                 13\n",
              "min 9 tahun                                             9\n",
              "min 13 tahun                                            4\n",
              "supervisor/koordinator                                  4\n",
              "pegawai                                                 3\n",
              "lebih dari 24 tahun                                     2\n",
              "min 18 tahun                                            2\n",
              "min 16 tahun                                            2\n",
              "min 20 tahun                                            2\n",
              "ceo/gm/direktur/manajer senior                          2\n",
              "min 17 tahun                                            2\n",
              "min 14 tahun                                            1\n",
              "entry level                                             1\n",
              "min 11 tahun                                            1\n",
              "manajer/asisten manajer                                 1\n",
              "dtype: int64"
            ]
          },
          "metadata": {
            "tags": []
          },
          "execution_count": 14
        }
      ]
    },
    {
      "cell_type": "markdown",
      "metadata": {
        "id": "UWwBXPPS0aMI"
      },
      "source": [
        "## company_location"
      ]
    },
    {
      "cell_type": "code",
      "metadata": {
        "id": "juOI-YZJ0SHD",
        "outputId": "b725ec29-bc5f-4cd7-989f-cfa270edf343",
        "colab": {
          "base_uri": "https://localhost:8080/",
          "height": 1000
        }
      },
      "source": [
        "# convert to lower case dan fillna dengan string 'kosong'\n",
        "company_location = jobstreet['company_location'].str.lower().fillna('kosong')\n",
        "\n",
        "company_location.value_counts()[:60]"
      ],
      "execution_count": null,
      "outputs": [
        {
          "output_type": "execute_result",
          "data": {
            "text/plain": [
              "indonesia - jakarta raya                                         1786\n",
              "kosong                                                           1430\n",
              "indonesia - jakarta raya - jakarta selatan                        689\n",
              "indonesia - jawa timur - surabaya                                 419\n",
              "indonesia - jakarta raya - jakarta barat                          395\n",
              "indonesia - jakarta raya - jakarta pusat                          378\n",
              "indonesia - banten - tangerang                                    357\n",
              "indonesia - jawa barat - bandung                                  255\n",
              "indonesia - jakarta raya - jakarta utara                          207\n",
              "indonesia - jawa tengah - semarang                                183\n",
              "indonesia - jawa barat - cikarang                                 125\n",
              "indonesia - jakarta raya - jakarta timur                          113\n",
              "indonesia - yogyakarta                                            112\n",
              "indonesia - jawa barat - bekasi                                   110\n",
              "indonesia - jakarta raya - jakarta utara - kelapa gading           99\n",
              "indonesia - sumatera utara - medan                                 92\n",
              "indonesia - jawa timur - surabaya - surabaya                       92\n",
              "indonesia - jawa barat - bogor                                     84\n",
              "indonesia - jawa timur - sidoarjo                                  76\n",
              "indonesia - jawa barat - karawang                                  73\n",
              "indonesia - sulawesi selatan - makassar                            69\n",
              "indonesia - jawa barat                                             66\n",
              "indonesia - jawa timur                                             60\n",
              "indonesia - kalimantan timur - balikpapan                          56\n",
              "indonesia - kepulauan riau - batam                                 56\n",
              "indonesia - jawa tengah                                            55\n",
              "indonesia - jawa timur - malang                                    53\n",
              "indonesia - bali - denpasar                                        53\n",
              "indonesia - banten - tangerang - alam sutera                       51\n",
              "indonesia - jakarta raya - jakarta utara - pantai indah kapuk      50\n",
              "indonesia - banten                                                 49\n",
              "indonesia - sumatera selatan - palembang                           48\n",
              "indonesia - jakarta raya - jakarta utara - pluit                   48\n",
              "indonesia - bali                                                   48\n",
              "indonesia - jakarta raya - jakarta utara - sunter                  48\n",
              "indonesia - banten - tangerang - gading serpong                    47\n",
              "indonesia - jawa barat - depok                                     45\n",
              "indonesia - banten - tangerang - bsd                               43\n",
              "indonesia - jawa timur - gresik                                    39\n",
              "indonesia - jakarta raya - jakarta barat - cengkareng              38\n",
              "indonesia - riau - pekanbaru                                       38\n",
              "indonesia - jakarta raya - jakarta barat - kebon jeruk             38\n",
              "indonesia - jawa barat - purwakarta                                36\n",
              "indonesia - kalimantan timur                                       33\n",
              "indonesia - jakarta raya - jakarta selatan - kuningan              33\n",
              "indonesia - jakarta raya - jakarta                                 33\n",
              "indonesia - jawa tengah - semarang - semarang                      32\n",
              "indonesia - jawa barat - cirebon                                   29\n",
              "indonesia - banten - tangerang - tangerang selatan                 29\n",
              "indonesia - jawa barat - bekasi - cibitung                         29\n",
              "indonesia - kalimantan selatan - banjarmasin                       27\n",
              "indonesia - banten - serang                                        27\n",
              "indonesia - jawa barat - bandung - bandung                         26\n",
              "indonesia - yogyakarta - yogyakarta                                25\n",
              "indonesia - jawa tengah - surakarta                                25\n",
              "indonesia - jakarta raya - jakarta pusat - kemayoran               23\n",
              "indonesia - banten - cikupa                                        23\n",
              "indonesia - sumatera selatan                                       23\n",
              "indonesia - sumatera utara                                         23\n",
              "indonesia - jambi                                                  23\n",
              "Name: company_location, dtype: int64"
            ]
          },
          "metadata": {
            "tags": []
          },
          "execution_count": 15
        }
      ]
    },
    {
      "cell_type": "markdown",
      "metadata": {
        "id": "ai-S_lmO04zj"
      },
      "source": [
        "perlu di ekstrak hanya untuk kota/province saja"
      ]
    },
    {
      "cell_type": "markdown",
      "metadata": {
        "id": "cqxeCosR6b0x"
      },
      "source": [
        "## company_address\n",
        "tidak digunakan, karena kurang berguna"
      ]
    },
    {
      "cell_type": "markdown",
      "metadata": {
        "id": "UgXbBpqF6sau"
      },
      "source": [
        "## posting_date"
      ]
    },
    {
      "cell_type": "code",
      "metadata": {
        "id": "0QeT6gXO4IMM",
        "outputId": "caa038d5-33d5-4cd7-e29f-8461228b6861",
        "colab": {
          "base_uri": "https://localhost:8080/",
          "height": 571
        }
      },
      "source": [
        "# convert to lower case dan fillna dengan string 'kosong'\n",
        "posting_date = jobstreet['posting_date'].str.lower().fillna('kosong')\n",
        "\n",
        "posting_date.value_counts()"
      ],
      "execution_count": null,
      "outputs": [
        {
          "output_type": "execute_result",
          "data": {
            "text/plain": [
              "01-october-2020      782\n",
              "02-october-2020      726\n",
              "28-september-2020    716\n",
              "24-september-2020    708\n",
              "30-september-2020    685\n",
              "29-september-2020    682\n",
              "22-september-2020    678\n",
              "25-september-2020    665\n",
              "07-september-2020    663\n",
              "21-september-2020    602\n",
              "23-september-2020    600\n",
              "09-september-2020    595\n",
              "08-september-2020    592\n",
              "04-september-2020    582\n",
              "14-september-2020    575\n",
              "15-september-2020    560\n",
              "16-september-2020    560\n",
              "17-september-2020    543\n",
              "18-september-2020    525\n",
              "11-september-2020    468\n",
              "10-september-2020    402\n",
              "03-october-2020      228\n",
              "26-september-2020    184\n",
              "19-september-2020    158\n",
              "27-september-2020    134\n",
              "20-september-2020    113\n",
              "04-october-2020      110\n",
              "05-september-2020    109\n",
              "12-september-2020    106\n",
              "13-september-2020     50\n",
              "06-september-2020     40\n",
              "kosong                 9\n",
              "Name: posting_date, dtype: int64"
            ]
          },
          "metadata": {
            "tags": []
          },
          "execution_count": 16
        }
      ]
    },
    {
      "cell_type": "markdown",
      "metadata": {
        "id": "dH_hG7mo673C"
      },
      "source": [
        "> data oke"
      ]
    },
    {
      "cell_type": "markdown",
      "metadata": {
        "id": "yKkodEIZ6-2a"
      },
      "source": [
        "## closing_date"
      ]
    },
    {
      "cell_type": "code",
      "metadata": {
        "id": "M8zttuva60fg",
        "outputId": "d6bdf7e1-3a87-4a8a-896d-0ecd23f5189d",
        "colab": {
          "base_uri": "https://localhost:8080/",
          "height": 840
        }
      },
      "source": [
        "# convert to lower case dan fillna dengan string 'kosong'\n",
        "closing_date = jobstreet['closing_date'].str.lower().fillna('kosong')\n",
        "\n",
        "closing_date.value_counts()"
      ],
      "execution_count": null,
      "outputs": [
        {
          "output_type": "execute_result",
          "data": {
            "text/plain": [
              "tutup pada 22-october-2020                        764\n",
              "tutup pada 3 hari | tutup pada 07-october-2020    734\n",
              "tutup pada 24-october-2020                        696\n",
              "tutup pada 5 hari | tutup pada 09-october-2020    686\n",
              "tutup pada 4 hari | tutup pada 08-october-2020    677\n",
              "tutup pada 28-october-2020                        667\n",
              "tutup pada 29-october-2020                        664\n",
              "tutup pada 31-october-2020                        660\n",
              "tutup pada 04-october-2020                        646\n",
              "tutup pada 21-october-2020                        646\n",
              "tutup pada 30-october-2020                        640\n",
              "tutup pada 16-october-2020                        629\n",
              "tutup pada 15-october-2020                        622\n",
              "tutup pada 14-october-2020                        617\n",
              "tutup pada 23-october-2020                        608\n",
              "tutup pada 17-october-2020                        598\n",
              "tutup pada 01-november-2020                       591\n",
              "tutup pada 25-october-2020                        588\n",
              "tutup pada 18-october-2020                        563\n",
              "tutup pada 7 hari | tutup pada 11-october-2020    519\n",
              "tutup pada 6 hari | tutup pada 10-october-2020    447\n",
              "tutup pada 02-november-2020                       132\n",
              "tutup pada 19-october-2020                        127\n",
              "tutup pada 1 hari | tutup pada 05-october-2020    113\n",
              "tutup pada 26-october-2020                        110\n",
              "tutup pada 12-october-2020                        100\n",
              "tutup pada 13-october-2020                         56\n",
              "tutup pada 27-october-2020                         54\n",
              "tutup pada 20-october-2020                         47\n",
              "tutup pada 2 hari | tutup pada 06-october-2020     40\n",
              "tutup pada 05-october-2020                         13\n",
              "tutup pada 7 hari | tutup pada 12-october-2020     10\n",
              "kosong                                              9\n",
              "tutup pada 2 hari | tutup pada 07-october-2020      9\n",
              "tutup pada 11-october-2020                          9\n",
              "tutup pada 7 hari | tutup pada 10-october-2020      8\n",
              "tutup pada 5 hari | tutup pada 10-october-2020      8\n",
              "tutup pada 6 hari | tutup pada 11-october-2020      7\n",
              "tutup pada 1 hari | tutup pada 06-october-2020      7\n",
              "tutup pada 3 hari | tutup pada 08-october-2020      6\n",
              "tutup pada 03-november-2020                         6\n",
              "tutup pada 4 hari | tutup pada 09-october-2020      5\n",
              "tutup pada 4 hari | tutup pada 07-october-2020      4\n",
              "tutup pada 6 hari | tutup pada 09-october-2020      3\n",
              "tutup pada 1 hari | tutup pada 04-october-2020      2\n",
              "tutup pada 5 hari | tutup pada 08-october-2020      1\n",
              "tutup pada 3 hari | tutup pada 06-october-2020      1\n",
              "tutup pada 2 hari | tutup pada 05-october-2020      1\n",
              "Name: closing_date, dtype: int64"
            ]
          },
          "metadata": {
            "tags": []
          },
          "execution_count": 17
        }
      ]
    },
    {
      "cell_type": "markdown",
      "metadata": {
        "id": "95zt7J6OZxol"
      },
      "source": [
        "> Kita perlu ambil tanggal saja"
      ]
    },
    {
      "cell_type": "code",
      "metadata": {
        "id": "k5ofI5AU7EKW"
      },
      "source": [
        "result = closing_date.values\n",
        "\n",
        "for idx, date_close in enumerate(result):\n",
        "    if \"|\" in date_close:\n",
        "        result[idx] = date_close.split('|')[1].split()[-1].strip()\n",
        "    else:\n",
        "        result[idx] = date_close.split()[-1].strip()"
      ],
      "execution_count": null,
      "outputs": []
    },
    {
      "cell_type": "code",
      "metadata": {
        "id": "TEGlmnOT7NF6",
        "outputId": "aee9fe00-c396-4519-809f-163096285a31",
        "colab": {
          "base_uri": "https://localhost:8080/",
          "height": 571
        }
      },
      "source": [
        "pd.Series(result).value_counts()"
      ],
      "execution_count": null,
      "outputs": [
        {
          "output_type": "execute_result",
          "data": {
            "text/plain": [
              "22-october-2020     764\n",
              "07-october-2020     747\n",
              "24-october-2020     696\n",
              "09-october-2020     694\n",
              "08-october-2020     684\n",
              "28-october-2020     667\n",
              "29-october-2020     664\n",
              "31-october-2020     660\n",
              "04-october-2020     648\n",
              "21-october-2020     646\n",
              "30-october-2020     640\n",
              "16-october-2020     629\n",
              "15-october-2020     622\n",
              "14-october-2020     617\n",
              "23-october-2020     608\n",
              "17-october-2020     598\n",
              "01-november-2020    591\n",
              "25-october-2020     588\n",
              "18-october-2020     563\n",
              "11-october-2020     535\n",
              "10-october-2020     463\n",
              "02-november-2020    132\n",
              "05-october-2020     127\n",
              "19-october-2020     127\n",
              "12-october-2020     110\n",
              "26-october-2020     110\n",
              "13-october-2020      56\n",
              "27-october-2020      54\n",
              "06-october-2020      48\n",
              "20-october-2020      47\n",
              "kosong                9\n",
              "03-november-2020      6\n",
              "dtype: int64"
            ]
          },
          "metadata": {
            "tags": []
          },
          "execution_count": 19
        }
      ]
    },
    {
      "cell_type": "markdown",
      "metadata": {
        "id": "bWB6w6V_8uU8"
      },
      "source": [
        "## job_description\n",
        "\n",
        "Kita perlu ekstraksi:\n",
        "1. pendidikan\n",
        "2. skill"
      ]
    },
    {
      "cell_type": "code",
      "metadata": {
        "id": "VTrG3lrQ79AT",
        "outputId": "e167a0c3-5b6f-4bdc-8115-0221d4209504",
        "colab": {
          "base_uri": "https://localhost:8080/",
          "height": 118
        }
      },
      "source": [
        "# convert to lower case dan fillna dengan string 'kosong'\n",
        "job_description = jobstreet['job_description'].str.lower().fillna('kosong')\n",
        "\n",
        "job_description.head()"
      ],
      "execution_count": null,
      "outputs": [
        {
          "output_type": "execute_result",
          "data": {
            "text/plain": [
              "0    [sep][sep]usia max. 35 tahun[sep]pendidikan mi...\n",
              "1    responsibilities:[sep]brief description of dut...\n",
              "2    [sep]lingkup pekerjaan: [sep]menjaga account d...\n",
              "3    [sep]candidate must possess at least diploma i...\n",
              "4    [sep]lingkup pekerjaan: [sep]menjaga account d...\n",
              "Name: job_description, dtype: object"
            ]
          },
          "metadata": {
            "tags": []
          },
          "execution_count": 20
        }
      ]
    },
    {
      "cell_type": "code",
      "metadata": {
        "id": "pyuTwgRd99cL",
        "outputId": "56f6bd4a-42ec-4eba-ac49-f402098fa5b4",
        "colab": {
          "base_uri": "https://localhost:8080/",
          "height": 34
        }
      },
      "source": [
        "# cari job description yang mengandung \n",
        "# kata kunci 'pendidikan', 'degree', 'lulusan'\n",
        "result = job_description.values\n",
        "\n",
        "count = 0\n",
        "for idx, job_desc in enumerate(result):\n",
        "    if 'pendidikan' in job_desc:\n",
        "        count += 1\n",
        "    elif 'degree' in job_desc:\n",
        "        count += 1\n",
        "    elif 'lulusan' in job_desc:\n",
        "        count += 1\n",
        "count"
      ],
      "execution_count": null,
      "outputs": [
        {
          "output_type": "execute_result",
          "data": {
            "text/plain": [
              "9698"
            ]
          },
          "metadata": {
            "tags": []
          },
          "execution_count": 21
        }
      ]
    },
    {
      "cell_type": "markdown",
      "metadata": {
        "id": "hIlfsZq2aC3b"
      },
      "source": [
        "Coba lihat pekerjaaan yang mencantumkan jenis kelamin."
      ]
    },
    {
      "cell_type": "code",
      "metadata": {
        "id": "WI-rKa1Kb5DV",
        "outputId": "9efa7ace-bd94-4c66-9087-aa99c4cc7060",
        "colab": {
          "base_uri": "https://localhost:8080/",
          "height": 34
        }
      },
      "source": [
        "# cari job description yang mengandung\n",
        "result = job_description.values\n",
        "\n",
        "count = 0\n",
        "for idx, job_desc in enumerate(result):\n",
        "    if 'laki-laki' in job_desc:\n",
        "        count += 1\n",
        "    elif 'pria' in job_desc:\n",
        "        count += 1\n",
        "    elif 'wanita' in job_desc:\n",
        "        count += 1\n",
        "    elif 'perempuan' in job_desc:\n",
        "        count += 1\n",
        "    elif 'woman' in job_desc:\n",
        "        count += 1\n",
        "count"
      ],
      "execution_count": null,
      "outputs": [
        {
          "output_type": "execute_result",
          "data": {
            "text/plain": [
              "317"
            ]
          },
          "metadata": {
            "tags": []
          },
          "execution_count": 22
        }
      ]
    },
    {
      "cell_type": "markdown",
      "metadata": {
        "id": "J7XGUWzgaIiw"
      },
      "source": [
        "Pada data job_description, terdapat 2 bahasa\n",
        "1. Inggris\n",
        "2. Indonesia\n",
        "\n",
        "Kita perlu deteksi bahasa dulu sebelum melakukan ekstraksi."
      ]
    },
    {
      "cell_type": "code",
      "metadata": {
        "id": "M9mW8YIM_BtO",
        "outputId": "ea4851b8-30b8-4cb0-8429-d7d6c080b4ec",
        "colab": {
          "base_uri": "https://localhost:8080/",
          "height": 69
        }
      },
      "source": [
        "job_description[3]"
      ],
      "execution_count": null,
      "outputs": [
        {
          "output_type": "execute_result",
          "data": {
            "application/vnd.google.colaboratory.intrinsic+json": {
              "type": "string"
            },
            "text/plain": [
              "'[sep]candidate must possess at least diploma in nursing or equivalent.[sep]at least 1 year(s) of working experience in the related field is required for this position.[sep]required skill(s): nurse[sep]preferably staff (non-management & non-supervisor) specialized in healthcare - nurse/medical support & assistant or equivalent.[sep]'"
            ]
          },
          "metadata": {
            "tags": []
          },
          "execution_count": 23
        }
      ]
    },
    {
      "cell_type": "code",
      "metadata": {
        "id": "3bYS6CekYnT6"
      },
      "source": [
        "!pip install spacy-langdetect -q"
      ],
      "execution_count": null,
      "outputs": []
    },
    {
      "cell_type": "markdown",
      "metadata": {
        "id": "E-ACp3zqaY5Y"
      },
      "source": [
        "Coba deteksi text pada beberapa text sample."
      ]
    },
    {
      "cell_type": "code",
      "metadata": {
        "id": "ZVrXIPXgYkTD",
        "outputId": "96569499-c67e-4bec-bce7-34ab065f32b1",
        "colab": {
          "base_uri": "https://localhost:8080/",
          "height": 34
        }
      },
      "source": [
        "import spacy\n",
        "from spacy_langdetect import LanguageDetector\n",
        "nlp = spacy.load(\"en\")\n",
        "\n",
        "nlp.add_pipe(LanguageDetector(), name=\"language_detector\", last=True)\n",
        "\n",
        "# text = \"This is English text. Er lebt mit seinen Eltern und seiner Schwester in Berlin. Yo me divierto todos los días en el parque. Je m'appelle Angélica Summer, j'ai 12 ans et je suis canadienne.\"\n",
        "# text = \"[sep]candidate must possess at least diploma in nursing or equivalent.[sep]at least 1 year(s) of working experience in the related field is required for this position.[sep]required skill(s): nurse[sep]preferably staff (non-management & non-supervisor) specialized in healthcare - nurse/medical support & assistant or equivalent.\"\n",
        "# text = \"saya suka makan nasi goreng\"\n",
        "text = \"[sep]lingkup pekerjaan: [sep]menjaga account dan memberikan solusi dalam penyelesaian pembayaran angsuran customer[sep] [sep]kualifikasi:[sep][sep] usia maksimal 28 tahun[sep] pendidikan d3/s1 (slta dipertimbangkan)[sep] memiliki kemampuan negosiasi yang baik[sep] dinamis dan komunikatif[sep] menyukai pekerjaan lapangan[sep] memiliki sepeda motor dan sim c[sep][sep]kompensasi & benefit:[sep][sep] gaji pokok[sep] tunjangan tetap[sep] bpjs ketenagakerjaan dan kesehatan[sep] insentif[sep] thr dan bonus[sep][sep]lokasi kerja : [sep]pati[sep] [sep]daftar, lamar, serta tes online posisi tersebut di www.karir.oto.co.id.[sep]\"\n",
        "\n",
        "doc = nlp(text)\n",
        "# document level language detection. Think of it like average language of document!\n",
        "print(doc._.language)"
      ],
      "execution_count": null,
      "outputs": [
        {
          "output_type": "stream",
          "text": [
            "{'language': 'id', 'score': 0.9999983578060843}\n"
          ],
          "name": "stdout"
        }
      ]
    },
    {
      "cell_type": "markdown",
      "metadata": {
        "id": "_CkAUrpuagbw"
      },
      "source": [
        "> spacy_lang dapat mendeteksi bahasa indonesia dan inggris"
      ]
    },
    {
      "cell_type": "markdown",
      "metadata": {
        "id": "nOatULZ58x4a"
      },
      "source": [
        "## average_processing_time"
      ]
    },
    {
      "cell_type": "code",
      "metadata": {
        "id": "IxT2E4Y08xXe",
        "outputId": "9218ccac-3605-4144-e52f-652303fb4bba",
        "colab": {
          "base_uri": "https://localhost:8080/",
          "height": 286
        }
      },
      "source": [
        "# convert to lower case dan fillna dengan string 'kosong'\n",
        "average_processing_time = jobstreet['average_processing_time'].str.lower().fillna('kosong')\n",
        "\n",
        "average_processing_time.value_counts()"
      ],
      "execution_count": null,
      "outputs": [
        {
          "output_type": "execute_result",
          "data": {
            "text/plain": [
              "lebih dari 2 minggu    10089\n",
              "kosong                   979\n",
              "1 hari                   720\n",
              "2 hari                   279\n",
              "6 hari                   251\n",
              "11 hari                  213\n",
              "3 hari                   213\n",
              "10 hari                  202\n",
              "4 hari                   194\n",
              "5 hari                   191\n",
              "12 hari                  189\n",
              "13 hari                  177\n",
              "8 hari                   173\n",
              "9 hari                   147\n",
              "7 hari                   133\n",
              "Name: average_processing_time, dtype: int64"
            ]
          },
          "metadata": {
            "tags": []
          },
          "execution_count": 26
        }
      ]
    },
    {
      "cell_type": "markdown",
      "metadata": {
        "id": "tmICuF-Fao6i"
      },
      "source": [
        "> Kita perlu menyamakan satuan menjadi **hari** semua serta cukup ambil numeric angka."
      ]
    },
    {
      "cell_type": "markdown",
      "metadata": {
        "id": "r1YhqrP08-eL"
      },
      "source": [
        "## company_industry\t"
      ]
    },
    {
      "cell_type": "code",
      "metadata": {
        "id": "9rXESRRl833s",
        "outputId": "eb22d19d-bce1-4270-9428-94b4184a5df4",
        "colab": {
          "base_uri": "https://localhost:8080/",
          "height": 1000
        }
      },
      "source": [
        "# convert to lower case dan fillna dengan string 'kosong'\n",
        "company_industry = jobstreet['company_industry'].str.lower().fillna('kosong')\n",
        "\n",
        "company_industry.value_counts()"
      ],
      "execution_count": null,
      "outputs": [
        {
          "output_type": "execute_result",
          "data": {
            "text/plain": [
              "manufaktur/produksi                                     1712\n",
              "perbankan/pelayanan keuangan                             883\n",
              "komputer/teknik informatika (perangkat lunak)            726\n",
              "umum & grosir                                            703\n",
              "retail/merchandise                                       691\n",
              "produk konsumen/barang konsumen yang bergerak cepat      621\n",
              "manajemen/konsulting hr                                  616\n",
              "kosong                                                   557\n",
              "transportasi/logistik                                    535\n",
              "properti/real estate                                     517\n",
              "makanan & minuman/katering/restoran                      485\n",
              "konstruksi/bangunan/teknik                               482\n",
              "kesehatan/medis                                          476\n",
              "agrikultural/perkebunan/peternakan unggas/perikanan      397\n",
              "konsultasi (it, ilmu pengetahuan, teknis & teknikal)     381\n",
              "asuransi                                                 360\n",
              "telekomunikasi                                           292\n",
              "elektrikal & elektronik                                  288\n",
              "konsultasi (bisnis & manajemen)                          285\n",
              "lainnya                                                  284\n",
              "pendidikan                                               282\n",
              "industri berat/mesin/peralatan                           213\n",
              "automobil/mesin tambahan automotif/kendaraan             211\n",
              "bioteknologi/farmasi/riset klinik                        204\n",
              "tekstil/garment                                          140\n",
              "periklanan/marketing/promosi/hubungan masyarakat         131\n",
              "minyak/gas/petroleum                                     128\n",
              "pertambangan                                             124\n",
              "perawatan/kecantikan/fitnes                              124\n",
              "komputer/teknik informatika (perangkat keras)            120\n",
              "bahan kimia/pupuk/pestisida                              120\n",
              "hiburan/media                                            117\n",
              "pelayanan arsitek/desain interior                        107\n",
              "akuntansi/audit/pelayanan pajak                          102\n",
              "percetakan/penerbitan                                     97\n",
              "hotel/pariwisata                                          64\n",
              "polymer/plastik/karet/ban                                 52\n",
              "seni/desain/fashion                                       47\n",
              "call center/it-enabled services/bpo                       47\n",
              "organisasi nirlaba/pelayanan sosial/lsm                   47\n",
              "jurnalisme                                                40\n",
              "layanan umum/tenaga penggerak                             38\n",
              "kayu/fiber/kertas                                         36\n",
              "pakaian                                                   33\n",
              "travel/pariwisata                                         28\n",
              "jual beli saham/sekuritas                                 27\n",
              "lingkungan/kesehatan/keamanan                             23\n",
              "pameran/manajemen acara/pikp                              23\n",
              "permata/perhiasan                                         22\n",
              "pelayanan perbaikan & pemeliharaan                        21\n",
              "hukum/legal                                               19\n",
              "keamanan/penegak hukum                                    18\n",
              "kelautan/aquakultur                                       17\n",
              "ilmu pengetahuan & teknologi                              11\n",
              "olahraga                                                   8\n",
              "tembakau                                                   7\n",
              "luar angkasa/aviasi/pesawat terbang                        6\n",
              "pemerintahan/pertahanan                                    4\n",
              "semikonduktor/fabrikasi                                    1\n",
              "Name: company_industry, dtype: int64"
            ]
          },
          "metadata": {
            "tags": []
          },
          "execution_count": 27
        }
      ]
    },
    {
      "cell_type": "markdown",
      "metadata": {
        "id": "SiLodRsua5UR"
      },
      "source": [
        "> Kita bisa klasifikasikan menjadi lebih sederhana berdasarkan [Klasifikasi Baku Lapangan Usaha Indonesia 2020](https://infiniti.id/kbli)"
      ]
    },
    {
      "cell_type": "markdown",
      "metadata": {
        "id": "V-KOt5OU9KwX"
      },
      "source": [
        "## company_site\n",
        "tidak dipakai"
      ]
    },
    {
      "cell_type": "markdown",
      "metadata": {
        "id": "uadeG7G49RcC"
      },
      "source": [
        "## company_size"
      ]
    },
    {
      "cell_type": "code",
      "metadata": {
        "id": "Ib4NI14l9Btq",
        "outputId": "48204121-dc0e-41a9-c7cb-b46d29547352",
        "colab": {
          "base_uri": "https://localhost:8080/",
          "height": 168
        }
      },
      "source": [
        "# convert to lower case dan fillna dengan string 'tidak spesifik'\n",
        "company_size = jobstreet['company_size'].str.lower().fillna('tidak spesifik')\n",
        "\n",
        "company_size.value_counts()"
      ],
      "execution_count": null,
      "outputs": [
        {
          "output_type": "execute_result",
          "data": {
            "text/plain": [
              "51 - 200 pekerja           3578\n",
              "1- 50 pekerja              2751\n",
              "201 - 500 pekerja          2165\n",
              "501 - 1000 pekerja         1511\n",
              "1001 - 2000 pekerja        1231\n",
              "lebih dari 5000 pekerja    1161\n",
              "2001 - 5000 pekerja         945\n",
              "tidak spesifik              808\n",
              "Name: company_size, dtype: int64"
            ]
          },
          "metadata": {
            "tags": []
          },
          "execution_count": 28
        }
      ]
    },
    {
      "cell_type": "markdown",
      "metadata": {
        "id": "qsEvMpzYbNho"
      },
      "source": [
        "> Data cukup bagus, ter-cluster."
      ]
    },
    {
      "cell_type": "markdown",
      "metadata": {
        "id": "XEn9dbhjcciC"
      },
      "source": [
        "## work_environment_waktu_bekerja"
      ]
    },
    {
      "cell_type": "code",
      "metadata": {
        "id": "du85D5hzcfnS",
        "outputId": "fc1be59a-9da4-430a-f3b7-c58390dc4f63",
        "colab": {
          "base_uri": "https://localhost:8080/",
          "height": 218
        }
      },
      "source": [
        "# convert to lower case dan fillna dengan string 'tidak spesifik'\n",
        "work_environment_waktu_bekerja = jobstreet['work_environment_waktu_bekerja'].str.lower().fillna('tidak spesifik')\n",
        "\n",
        "work_environment_waktu_bekerja.value_counts()"
      ],
      "execution_count": null,
      "outputs": [
        {
          "output_type": "execute_result",
          "data": {
            "text/plain": [
              "waktu regular, senin - jumat            7999\n",
              "tidak spesifik                          1631\n",
              "sabtu atau memerlukan shift             1130\n",
              "senin - sabtu                            355\n",
              "monday - saturday                        269\n",
              "                                        ... \n",
              "mondays - fridays/saturdays                1\n",
              "monday to saturday 8 am - 4 pm             1\n",
              "target based                               1\n",
              "regular, saturdays or shift required       1\n",
              "senin - minggu, jam 08.00 - 20.00          1\n",
              "Name: work_environment_waktu_bekerja, Length: 678, dtype: int64"
            ]
          },
          "metadata": {
            "tags": []
          },
          "execution_count": 29
        }
      ]
    },
    {
      "cell_type": "markdown",
      "metadata": {
        "id": "iHEv1GX4clO9"
      },
      "source": [
        "> Kita bisa lakukan cleaning dan cluster waktu bekerja."
      ]
    },
    {
      "cell_type": "markdown",
      "metadata": {
        "id": "Jgj5CEArbp7E"
      },
      "source": [
        "## work_environment_gaya_berpakaian"
      ]
    },
    {
      "cell_type": "code",
      "metadata": {
        "id": "yYiBTgM7b4ko",
        "outputId": "301a82c6-bc9e-4a6c-df1a-d757286a936a",
        "colab": {
          "base_uri": "https://localhost:8080/",
          "height": 218
        }
      },
      "source": [
        "# convert to lower case dan fillna dengan string 'kosong'\n",
        "work_environment_gaya_berpakaian = jobstreet['work_environment_gaya_berpakaian'].str.lower().fillna('kosong')\n",
        "\n",
        "work_environment_gaya_berpakaian.value_counts()"
      ],
      "execution_count": null,
      "outputs": [
        {
          "output_type": "execute_result",
          "data": {
            "text/plain": [
              "bisnis (contoh: kemeja)                                                7042\n",
              "kasual (contoh: kaos)                                                  2301\n",
              "kosong                                                                 1720\n",
              "formil (contoh: kemeja + dasi)                                         1546\n",
              "uniform                                                                 308\n",
              "                                                                       ... \n",
              "company’s dress code                                                      1\n",
              "formal in terms of meeting with other parties, casual in day to day       1\n",
              "formal & casual                                                           1\n",
              "casual (t-shirts, polo shirts, shirts)                                    1\n",
              "menyesuaikan                                                              1\n",
              "Name: work_environment_gaya_berpakaian, Length: 269, dtype: int64"
            ]
          },
          "metadata": {
            "tags": []
          },
          "execution_count": 30
        }
      ]
    },
    {
      "cell_type": "markdown",
      "metadata": {
        "id": "xHsl2CTZb-yr"
      },
      "source": [
        "> Kita perlu cleaning data dengan pengelompokkan jenis gaya berpakaian."
      ]
    },
    {
      "cell_type": "markdown",
      "metadata": {
        "id": "6ADJ7Rjsbt0W"
      },
      "source": [
        "## work_environment_tunjangan"
      ]
    },
    {
      "cell_type": "code",
      "metadata": {
        "id": "REb1zUMtcFQ4",
        "outputId": "e09c4fba-bd98-4540-d408-e195e92e3db0",
        "colab": {
          "base_uri": "https://localhost:8080/",
          "height": 218
        }
      },
      "source": [
        "# convert to lower case dan fillna dengan string 'kosong'\n",
        "work_environment_tunjangan = jobstreet['work_environment_tunjangan'].str.lower().fillna('kosong')\n",
        "\n",
        "work_environment_tunjangan.value_counts()"
      ],
      "execution_count": null,
      "outputs": [
        {
          "output_type": "execute_result",
          "data": {
            "text/plain": [
              "kesehatan                                 2816\n",
              "kosong                                    2724\n",
              "kesehatan, tunjangan lainnya               956\n",
              "kesehatan, parkir                          571\n",
              "tunjangan lainnya                          543\n",
              "                                          ... \n",
              "sales bonus                                  1\n",
              "kesehatan, tunjangan lainnya, asuransi       1\n",
              "kesehatan, dplk (pension fund)               1\n",
              "tunjangan kesehatan, tunjangan lainnya       1\n",
              "makan, tempat tinggal                        1\n",
              "Name: work_environment_tunjangan, Length: 1081, dtype: int64"
            ]
          },
          "metadata": {
            "tags": []
          },
          "execution_count": 31
        }
      ]
    },
    {
      "cell_type": "markdown",
      "metadata": {
        "id": "0au55q3XcJY2"
      },
      "source": [
        "> Kita bisa lakukan cluster tunjangan"
      ]
    },
    {
      "cell_type": "markdown",
      "metadata": {
        "id": "lXyeNKiS9enw"
      },
      "source": [
        "## work_environment_bahasa"
      ]
    },
    {
      "cell_type": "code",
      "metadata": {
        "id": "SLfCiY309VaN",
        "outputId": "9e9aa79e-9122-42ff-9e21-14541b7e0bf2",
        "colab": {
          "base_uri": "https://localhost:8080/",
          "height": 874
        }
      },
      "source": [
        "# convert to lower case dan fillna dengan string 'kosong'\n",
        "work_environment_bahasa = jobstreet['work_environment_bahasa'].str.lower().fillna('kosong')\n",
        "\n",
        "work_environment_bahasa.value_counts()[:50]"
      ],
      "execution_count": null,
      "outputs": [
        {
          "output_type": "execute_result",
          "data": {
            "text/plain": [
              "bahasa indonesia                                     9215\n",
              "bahasa inggris                                       1868\n",
              "kosong                                               1659\n",
              "bahasa indonesia & english                            208\n",
              "bahasa indonesia - english                            162\n",
              "bahasa indonesia and english                          140\n",
              "english & bahasa indonesia                             46\n",
              "bahasa indonesia dan english                           43\n",
              "bahasa indonesia, english                              42\n",
              "mandarin                                               38\n",
              "bahasa indonesia dan inggris                           31\n",
              "english & bahasa                                       28\n",
              "english and bahasa indonesia                           27\n",
              "indonesia - english                                    24\n",
              "bahasa indonesia & bahasa inggris                      24\n",
              "english-bahasa indonesia                               24\n",
              "indonesia & english                                    22\n",
              "bahasa indonesia dan bahasa inggris                    20\n",
              "indonesian and english                                 20\n",
              "bahasa and english                                     20\n",
              "indonesia, mandarin, english                           20\n",
              "bahasa indonesia, bahasa inggris                       20\n",
              "both english and bahasa indonesia                      19\n",
              "english                                                18\n",
              "indonesia                                              17\n",
              "indonesia, english                                     17\n",
              "bahasa indonesia, mandarin, english                    16\n",
              "mandarin, english, indonesia                           11\n",
              "english, bahasa indonesia                              11\n",
              "bahasa & english                                       11\n",
              "bahasa, english and mandarin                           10\n",
              "indonesia , inggris , mandarin                         10\n",
              "english - indonesia                                     9\n",
              "english and bahasa                                      8\n",
              "english & arabic                                        8\n",
              "bahasa indonesia, bahasa inggris, bahasa mandarin       8\n",
              "bahasa - english                                        7\n",
              "both bahasa indonesia and english                       7\n",
              "bahasa, english, mandarin                               7\n",
              "both - english and bahasa indonesia                     7\n",
              "english and indonesian                                  6\n",
              "english-indonesia                                       6\n",
              "english & indonesia                                     6\n",
              "indonesia & inggris                                     6\n",
              "indonesia and english                                   6\n",
              "bahasa , english                                        6\n",
              "english & mandarin                                      6\n",
              "mixed between bahasa indonesia and english              6\n",
              "bahasa indonesia dan mandarin                           5\n",
              "english, indonesia                                      5\n",
              "Name: work_environment_bahasa, dtype: int64"
            ]
          },
          "metadata": {
            "tags": []
          },
          "execution_count": 32
        }
      ]
    },
    {
      "cell_type": "markdown",
      "metadata": {
        "id": "6yEf2RrabXSl"
      },
      "source": [
        "> Kita perlu cleaning data dengan menyamakan kategori bahasa pada data."
      ]
    },
    {
      "cell_type": "markdown",
      "metadata": {
        "id": "oaAGalJ_b1c2"
      },
      "source": [
        "## company_overview\n",
        "tidak dipakai"
      ]
    },
    {
      "cell_type": "markdown",
      "metadata": {
        "id": "YbQHDPIUAbFD"
      },
      "source": [
        "# Glints"
      ]
    },
    {
      "cell_type": "code",
      "metadata": {
        "id": "-UNkstk_9hof",
        "outputId": "38d6034a-74c2-4462-a08c-6a5054bd503d",
        "colab": {
          "base_uri": "https://localhost:8080/",
          "height": 464
        }
      },
      "source": [
        "glints = pd.read_csv(\"/content/drive/My Drive/Data Loker/glints_4oct.csv\")\n",
        "glints.head()"
      ],
      "execution_count": null,
      "outputs": [
        {
          "output_type": "execute_result",
          "data": {
            "text/html": [
              "<div>\n",
              "<style scoped>\n",
              "    .dataframe tbody tr th:only-of-type {\n",
              "        vertical-align: middle;\n",
              "    }\n",
              "\n",
              "    .dataframe tbody tr th {\n",
              "        vertical-align: top;\n",
              "    }\n",
              "\n",
              "    .dataframe thead th {\n",
              "        text-align: right;\n",
              "    }\n",
              "</style>\n",
              "<table border=\"1\" class=\"dataframe\">\n",
              "  <thead>\n",
              "    <tr style=\"text-align: right;\">\n",
              "      <th></th>\n",
              "      <th>platform</th>\n",
              "      <th>job_position</th>\n",
              "      <th>company_name</th>\n",
              "      <th>job_category</th>\n",
              "      <th>company_location</th>\n",
              "      <th>job_salary</th>\n",
              "      <th>job_type</th>\n",
              "      <th>job_desc</th>\n",
              "      <th>skills_to_have</th>\n",
              "    </tr>\n",
              "  </thead>\n",
              "  <tbody>\n",
              "    <tr>\n",
              "      <th>0</th>\n",
              "      <td>glints</td>\n",
              "      <td>.Net Developer</td>\n",
              "      <td>I-access Solution</td>\n",
              "      <td>Software Engineering</td>\n",
              "      <td>Batam, Indonesia</td>\n",
              "      <td>Perusahaan tidak menampilkan gaji</td>\n",
              "      <td>FULL_TIME</td>\n",
              "      <td>Requirements: [SEP] Min Diploma / Degree in In...</td>\n",
              "      <td>Must Have Skills [SEP] .NET [SEP] English [SEP...</td>\n",
              "    </tr>\n",
              "    <tr>\n",
              "      <th>1</th>\n",
              "      <td>glints</td>\n",
              "      <td>Fullstack Developer (Remote)</td>\n",
              "      <td>Mossery</td>\n",
              "      <td>Software Engineering</td>\n",
              "      <td>Batam, Indonesia</td>\n",
              "      <td>Perusahaan tidak menampilkan gaji</td>\n",
              "      <td>FULL_TIME</td>\n",
              "      <td>What is this job about? [SEP] Mossery is an e-...</td>\n",
              "      <td>Must Have Skills [SEP] ReactJS [SEP] HTML [SEP...</td>\n",
              "    </tr>\n",
              "    <tr>\n",
              "      <th>2</th>\n",
              "      <td>glints</td>\n",
              "      <td>Front-End Internship</td>\n",
              "      <td>PT Mobilkamu Group Indonesia</td>\n",
              "      <td>Software Engineering</td>\n",
              "      <td>Jakarta, Indonesia</td>\n",
              "      <td>IDR 1,000,000 -0 / month</td>\n",
              "      <td>INTERNSHIP</td>\n",
              "      <td>Front-end Spec [SEP] Have experience with at l...</td>\n",
              "      <td>Must Have Skills [SEP] Teamwork [SEP] Microsof...</td>\n",
              "    </tr>\n",
              "    <tr>\n",
              "      <th>3</th>\n",
              "      <td>glints</td>\n",
              "      <td>Backend Developer (REMOTE)</td>\n",
              "      <td>Global Line Network</td>\n",
              "      <td>Software Engineering</td>\n",
              "      <td>Jakarta, Indonesia</td>\n",
              "      <td>Perusahaan tidak menampilkan gaji</td>\n",
              "      <td>FULL_TIME</td>\n",
              "      <td>Job Responsibilities: [SEP] • Designing and de...</td>\n",
              "      <td>Must Have Skills [SEP] Agile Scrum [SEP] Engli...</td>\n",
              "    </tr>\n",
              "    <tr>\n",
              "      <th>4</th>\n",
              "      <td>glints</td>\n",
              "      <td>Front-End Developer (Wordpress)</td>\n",
              "      <td>Web Imp</td>\n",
              "      <td>Software Engineering</td>\n",
              "      <td>Batam, Indonesia</td>\n",
              "      <td>Perusahaan tidak menampilkan gaji</td>\n",
              "      <td>FULL_TIME</td>\n",
              "      <td>[SEP] Wordpress Developer [SEP] Implement prot...</td>\n",
              "      <td>Must Have Skills [SEP] Cms Wordpress [SEP] Wor...</td>\n",
              "    </tr>\n",
              "  </tbody>\n",
              "</table>\n",
              "</div>"
            ],
            "text/plain": [
              "  platform  ...                                     skills_to_have\n",
              "0   glints  ...  Must Have Skills [SEP] .NET [SEP] English [SEP...\n",
              "1   glints  ...  Must Have Skills [SEP] ReactJS [SEP] HTML [SEP...\n",
              "2   glints  ...  Must Have Skills [SEP] Teamwork [SEP] Microsof...\n",
              "3   glints  ...  Must Have Skills [SEP] Agile Scrum [SEP] Engli...\n",
              "4   glints  ...  Must Have Skills [SEP] Cms Wordpress [SEP] Wor...\n",
              "\n",
              "[5 rows x 9 columns]"
            ]
          },
          "metadata": {
            "tags": []
          },
          "execution_count": 33
        }
      ]
    },
    {
      "cell_type": "code",
      "metadata": {
        "id": "B834UL28A2Hk",
        "outputId": "7221f9e8-c8e5-4f41-cb34-c8faeee55950",
        "colab": {
          "base_uri": "https://localhost:8080/",
          "height": 314
        }
      },
      "source": [
        "glints.describe().T"
      ],
      "execution_count": null,
      "outputs": [
        {
          "output_type": "execute_result",
          "data": {
            "text/html": [
              "<div>\n",
              "<style scoped>\n",
              "    .dataframe tbody tr th:only-of-type {\n",
              "        vertical-align: middle;\n",
              "    }\n",
              "\n",
              "    .dataframe tbody tr th {\n",
              "        vertical-align: top;\n",
              "    }\n",
              "\n",
              "    .dataframe thead th {\n",
              "        text-align: right;\n",
              "    }\n",
              "</style>\n",
              "<table border=\"1\" class=\"dataframe\">\n",
              "  <thead>\n",
              "    <tr style=\"text-align: right;\">\n",
              "      <th></th>\n",
              "      <th>count</th>\n",
              "      <th>unique</th>\n",
              "      <th>top</th>\n",
              "      <th>freq</th>\n",
              "    </tr>\n",
              "  </thead>\n",
              "  <tbody>\n",
              "    <tr>\n",
              "      <th>platform</th>\n",
              "      <td>1950</td>\n",
              "      <td>1</td>\n",
              "      <td>glints</td>\n",
              "      <td>1950</td>\n",
              "    </tr>\n",
              "    <tr>\n",
              "      <th>job_position</th>\n",
              "      <td>1950</td>\n",
              "      <td>1466</td>\n",
              "      <td>Backend Developer</td>\n",
              "      <td>24</td>\n",
              "    </tr>\n",
              "    <tr>\n",
              "      <th>company_name</th>\n",
              "      <td>1950</td>\n",
              "      <td>746</td>\n",
              "      <td>PT Paragon Pratama Teknologi (StickEarn)</td>\n",
              "      <td>30</td>\n",
              "    </tr>\n",
              "    <tr>\n",
              "      <th>job_category</th>\n",
              "      <td>1950</td>\n",
              "      <td>20</td>\n",
              "      <td>Software Engineering</td>\n",
              "      <td>609</td>\n",
              "    </tr>\n",
              "    <tr>\n",
              "      <th>company_location</th>\n",
              "      <td>1950</td>\n",
              "      <td>53</td>\n",
              "      <td>Jakarta, Indonesia</td>\n",
              "      <td>1198</td>\n",
              "    </tr>\n",
              "    <tr>\n",
              "      <th>job_salary</th>\n",
              "      <td>1950</td>\n",
              "      <td>247</td>\n",
              "      <td>Perusahaan tidak menampilkan gaji</td>\n",
              "      <td>1368</td>\n",
              "    </tr>\n",
              "    <tr>\n",
              "      <th>job_type</th>\n",
              "      <td>1950</td>\n",
              "      <td>4</td>\n",
              "      <td>FULL_TIME</td>\n",
              "      <td>1723</td>\n",
              "    </tr>\n",
              "    <tr>\n",
              "      <th>job_desc</th>\n",
              "      <td>1950</td>\n",
              "      <td>1880</td>\n",
              "      <td>Responsibilities [SEP] Work directly with oper...</td>\n",
              "      <td>15</td>\n",
              "    </tr>\n",
              "    <tr>\n",
              "      <th>skills_to_have</th>\n",
              "      <td>1950</td>\n",
              "      <td>1865</td>\n",
              "      <td>Must Have Skills [SEP] Operations Management [...</td>\n",
              "      <td>12</td>\n",
              "    </tr>\n",
              "  </tbody>\n",
              "</table>\n",
              "</div>"
            ],
            "text/plain": [
              "                 count  ...  freq\n",
              "platform          1950  ...  1950\n",
              "job_position      1950  ...    24\n",
              "company_name      1950  ...    30\n",
              "job_category      1950  ...   609\n",
              "company_location  1950  ...  1198\n",
              "job_salary        1950  ...  1368\n",
              "job_type          1950  ...  1723\n",
              "job_desc          1950  ...    15\n",
              "skills_to_have    1950  ...    12\n",
              "\n",
              "[9 rows x 4 columns]"
            ]
          },
          "metadata": {
            "tags": []
          },
          "execution_count": 34
        }
      ]
    },
    {
      "cell_type": "code",
      "metadata": {
        "id": "6zmuKPejAgWi",
        "outputId": "17a1190a-cd08-49d2-ab61-b9fbed3147f8",
        "colab": {
          "base_uri": "https://localhost:8080/",
          "height": 185
        }
      },
      "source": [
        "# check null values\n",
        "glints.isnull().sum()"
      ],
      "execution_count": null,
      "outputs": [
        {
          "output_type": "execute_result",
          "data": {
            "text/plain": [
              "platform            0\n",
              "job_position        0\n",
              "company_name        0\n",
              "job_category        0\n",
              "company_location    0\n",
              "job_salary          0\n",
              "job_type            0\n",
              "job_desc            0\n",
              "skills_to_have      0\n",
              "dtype: int64"
            ]
          },
          "metadata": {
            "tags": []
          },
          "execution_count": 35
        }
      ]
    },
    {
      "cell_type": "markdown",
      "metadata": {
        "id": "655nGpcbAst_"
      },
      "source": [
        "## job_position"
      ]
    },
    {
      "cell_type": "code",
      "metadata": {
        "id": "Yj-oUxTaAl08",
        "outputId": "52ce525e-f578-46a7-86b4-ddb4998074bb",
        "colab": {
          "base_uri": "https://localhost:8080/",
          "height": 218
        }
      },
      "source": [
        "# convert to lower case dan fillna dengan string 'kosong'\n",
        "job_position = glints['job_position'].str.lower()\n",
        "\n",
        "job_position.value_counts()"
      ],
      "execution_count": null,
      "outputs": [
        {
          "output_type": "execute_result",
          "data": {
            "text/plain": [
              "backend developer                            25\n",
              "fullstack developer                          15\n",
              "frontend developer                           13\n",
              "account executive                            13\n",
              "product manager                              12\n",
              "                                             ..\n",
              "warehouse manager                             1\n",
              "accounting and tax specialist                 1\n",
              "it project ops.                               1\n",
              "project engineer                              1\n",
              "customer service freelance (bekasi based)     1\n",
              "Name: job_position, Length: 1433, dtype: int64"
            ]
          },
          "metadata": {
            "tags": []
          },
          "execution_count": 36
        }
      ]
    },
    {
      "cell_type": "markdown",
      "metadata": {
        "id": "ZyiD6wv6c2a_"
      },
      "source": [
        "> Bisa kita cleaning agar data lebih distinct"
      ]
    },
    {
      "cell_type": "markdown",
      "metadata": {
        "id": "71bu-gqNBCS3"
      },
      "source": [
        "## company_name"
      ]
    },
    {
      "cell_type": "code",
      "metadata": {
        "id": "v78DD6LnA1gf",
        "outputId": "bac1fc0c-9ed1-4540-9785-7399ec7b567b",
        "colab": {
          "base_uri": "https://localhost:8080/",
          "height": 218
        }
      },
      "source": [
        "# convert to lower case dan fillna dengan string 'kosong'\n",
        "company_name = glints['company_name']\n",
        "\n",
        "company_name.value_counts()"
      ],
      "execution_count": null,
      "outputs": [
        {
          "output_type": "execute_result",
          "data": {
            "text/plain": [
              "PT Paragon Pratama Teknologi (StickEarn)          30\n",
              "PT. Bintang Jaya Unggul Sentosa                   23\n",
              "PT Hokinda Citralestari                           20\n",
              "AIA Singapore Pte Ltd                             20\n",
              "Confidential Company Talenthunt 1 -006            20\n",
              "                                                  ..\n",
              "Newcastle Institute (nuansa Edukasi Indonesia)     1\n",
              "Thinktive                                          1\n",
              "PT Bersama Zatta Jaya (elcorps)                    1\n",
              "Pt Vaganza Solusi Internasional                    1\n",
              "Urbanetic Pte Ltd                                  1\n",
              "Name: company_name, Length: 746, dtype: int64"
            ]
          },
          "metadata": {
            "tags": []
          },
          "execution_count": 37
        }
      ]
    },
    {
      "cell_type": "markdown",
      "metadata": {
        "id": "FB0caVoqc8op"
      },
      "source": [
        "> Cukup bagus"
      ]
    },
    {
      "cell_type": "markdown",
      "metadata": {
        "id": "92woeVoeBJ6s"
      },
      "source": [
        "## job_category"
      ]
    },
    {
      "cell_type": "code",
      "metadata": {
        "id": "o4HNFIcQBFwN",
        "outputId": "3d17d21a-5270-452f-9503-24d696a2141f",
        "colab": {
          "base_uri": "https://localhost:8080/",
          "height": 370
        }
      },
      "source": [
        "# convert to lower case dan fillna dengan string 'kosong'\n",
        "job_category = glints['job_category'].str.lower()\n",
        "\n",
        "job_category.value_counts()"
      ],
      "execution_count": null,
      "outputs": [
        {
          "output_type": "execute_result",
          "data": {
            "text/plain": [
              "software engineering            609\n",
              "business development / sales    294\n",
              "marketing                       209\n",
              "design                          135\n",
              "finance                          97\n",
              "operations                       90\n",
              "other                            75\n",
              "administrative                   74\n",
              "product management               68\n",
              "media & communications           61\n",
              "engineering                      56\n",
              "education                        55\n",
              "data science                     40\n",
              "human resource                   33\n",
              "consulting                       16\n",
              "legal                            15\n",
              "management                       15\n",
              "hospitality and travel            4\n",
              "healthcare                        3\n",
              "language and translation          1\n",
              "Name: job_category, dtype: int64"
            ]
          },
          "metadata": {
            "tags": []
          },
          "execution_count": 38
        }
      ]
    },
    {
      "cell_type": "markdown",
      "metadata": {
        "id": "vhMPJ7godAxe"
      },
      "source": [
        "> Sudah cukup bagus klasifikasi data."
      ]
    },
    {
      "cell_type": "markdown",
      "metadata": {
        "id": "X4QVIU69BRzq"
      },
      "source": [
        "## company_location"
      ]
    },
    {
      "cell_type": "code",
      "metadata": {
        "id": "Gbw_YqhbBNUF",
        "outputId": "b1285b13-2beb-4bc4-941f-ddcadcaf2052",
        "colab": {
          "base_uri": "https://localhost:8080/",
          "height": 924
        }
      },
      "source": [
        "# convert to lower case dan fillna dengan string 'kosong'\n",
        "company_location = glints['company_location'].str.lower()\n",
        "\n",
        "company_location.value_counts()"
      ],
      "execution_count": null,
      "outputs": [
        {
          "output_type": "execute_result",
          "data": {
            "text/plain": [
              "jakarta, indonesia            1198\n",
              "batam, indonesia               147\n",
              "bandung, indonesia             123\n",
              "yogyakarta, indonesia           88\n",
              "surabaya, indonesia             72\n",
              "tangerang, indonesia            63\n",
              "south tangerang, indonesia      42\n",
              "malang, indonesia               28\n",
              "medan, indonesia                24\n",
              "bekasi, indonesia               23\n",
              "depok, indonesia                19\n",
              "bogor, indonesia                17\n",
              "semarang, indonesia             14\n",
              "padang, indonesia                8\n",
              "pekanbaru, indonesia             7\n",
              "tulungagung, indonesia           6\n",
              "denpasar, indonesia              6\n",
              "badung, indonesia                5\n",
              "makassar, indonesia              5\n",
              "cirebon, indonesia               4\n",
              "serpong, indonesia               4\n",
              "balikpapan, indonesia            4\n",
              "mojokerto, indonesia             3\n",
              "solo, indonesia                  3\n",
              "cikarang, indonesia              3\n",
              "singaraja, indonesia             2\n",
              "sidoarjo, indonesia              2\n",
              "pandeglang, indonesia            2\n",
              "sentul, indonesia                2\n",
              "palembang, indonesia             2\n",
              "cilegon, indonesia               2\n",
              "samarinda, indonesia             1\n",
              "karawang, indonesia              1\n",
              "cikupa, indonesia                1\n",
              " indonesia                       1\n",
              "cimahi, indonesia                1\n",
              "gresik, indonesia                1\n",
              "bengkulu, indonesia              1\n",
              "subang, indonesia                1\n",
              "labuan lombok, indonesia         1\n",
              "pontianak, indonesia             1\n",
              "duri, indonesia                  1\n",
              "abepura, indonesia               1\n",
              "purwakarta, indonesia            1\n",
              "sukabumi, indonesia              1\n",
              "pantaimakasar, indonesia         1\n",
              "klaten, indonesia                1\n",
              "prabumulih, indonesia            1\n",
              "banjarmasin, indonesia           1\n",
              "cibitung, indonesia              1\n",
              "baturaja, indonesia              1\n",
              "manado, indonesia                1\n",
              "jambi city, indonesia            1\n",
              "Name: company_location, dtype: int64"
            ]
          },
          "metadata": {
            "tags": []
          },
          "execution_count": 39
        }
      ]
    },
    {
      "cell_type": "markdown",
      "metadata": {
        "id": "ifaHM3jQdEck"
      },
      "source": [
        "> Dapat kita ekstrak menjadi provinsi dan pulau"
      ]
    },
    {
      "cell_type": "markdown",
      "metadata": {
        "id": "fb5pWm2uBcJD"
      },
      "source": [
        "## job_salary"
      ]
    },
    {
      "cell_type": "code",
      "metadata": {
        "id": "-F4U5QqhBXgi",
        "outputId": "1e4c4fdf-c682-4380-f9cc-150529a283e7",
        "colab": {
          "base_uri": "https://localhost:8080/",
          "height": 218
        }
      },
      "source": [
        "# convert to lower case dan fillna dengan string 'kosong'\n",
        "job_salary = glints['job_salary'].str.lower()\n",
        "\n",
        "job_salary.value_counts()"
      ],
      "execution_count": null,
      "outputs": [
        {
          "output_type": "execute_result",
          "data": {
            "text/plain": [
              "perusahaan tidak menampilkan gaji     1368\n",
              "idr 4,000,000 -6,000,000 / month        22\n",
              "idr 4,000,000 -5,000,000 / month        18\n",
              "idr 5,000,000 -10,000,000 / month       15\n",
              "idr 3,500,000 -5,000,000 / month        15\n",
              "                                      ... \n",
              "idr 4,800,000 -5,000,000 / month         1\n",
              "idr 10,000,000 -16,000,000 / month       1\n",
              "idr 3,900,000 -4,500,000 / month         1\n",
              "idr 5,500,000 -6,000,000 / month         1\n",
              "idr 2,800,000 -2,850,000 / month         1\n",
              "Name: job_salary, Length: 247, dtype: int64"
            ]
          },
          "metadata": {
            "tags": []
          },
          "execution_count": 40
        }
      ]
    },
    {
      "cell_type": "markdown",
      "metadata": {
        "id": "tZuv6Zj6dMb1"
      },
      "source": [
        "> Perlu cleaning"
      ]
    },
    {
      "cell_type": "markdown",
      "metadata": {
        "id": "5VJCYF1YBgl0"
      },
      "source": [
        "## job_type"
      ]
    },
    {
      "cell_type": "code",
      "metadata": {
        "id": "Ceg0VeNDBf65",
        "outputId": "07938e18-7b9a-4388-cd7c-f2d75083d0b0",
        "colab": {
          "base_uri": "https://localhost:8080/",
          "height": 101
        }
      },
      "source": [
        "# convert to lower case dan fillna dengan string 'kosong'\n",
        "job_type = glints['job_type'].str.lower()\n",
        "\n",
        "job_type.value_counts()"
      ],
      "execution_count": null,
      "outputs": [
        {
          "output_type": "execute_result",
          "data": {
            "text/plain": [
              "full_time        1723\n",
              "internship        142\n",
              "project_based      58\n",
              "part_time          27\n",
              "Name: job_type, dtype: int64"
            ]
          },
          "metadata": {
            "tags": []
          },
          "execution_count": 41
        }
      ]
    },
    {
      "cell_type": "markdown",
      "metadata": {
        "id": "kC-ttwIwdOgl"
      },
      "source": [
        "> Data oke"
      ]
    },
    {
      "cell_type": "markdown",
      "metadata": {
        "id": "dtvv9lymBsth"
      },
      "source": [
        "## job_desc"
      ]
    },
    {
      "cell_type": "code",
      "metadata": {
        "id": "4pzd1u4HBnS0",
        "outputId": "c9156d9f-d8a5-4282-a8ff-aa85e1dd343a",
        "colab": {
          "base_uri": "https://localhost:8080/",
          "height": 118
        }
      },
      "source": [
        "# convert to lower case dan fillna dengan string 'kosong'\n",
        "job_desc = glints['job_desc'].str.lower()\n",
        "\n",
        "job_desc.head()"
      ],
      "execution_count": null,
      "outputs": [
        {
          "output_type": "execute_result",
          "data": {
            "text/plain": [
              "0    requirements: [sep] min diploma / degree in in...\n",
              "1    what is this job about? [sep] mossery is an e-...\n",
              "2    front-end spec [sep] have experience with at l...\n",
              "3    job responsibilities: [sep] • designing and de...\n",
              "4    [sep] wordpress developer [sep] implement prot...\n",
              "Name: job_desc, dtype: object"
            ]
          },
          "metadata": {
            "tags": []
          },
          "execution_count": 42
        }
      ]
    },
    {
      "cell_type": "markdown",
      "metadata": {
        "id": "wr8DDNL5dTas"
      },
      "source": [
        "> Kita perlu ekstrak untuk mendapatkan data pendidikan"
      ]
    },
    {
      "cell_type": "markdown",
      "metadata": {
        "id": "XwFsTfJNBua6"
      },
      "source": [
        "## skills_to_have"
      ]
    },
    {
      "cell_type": "code",
      "metadata": {
        "id": "wU3PXz3SBtt6",
        "outputId": "3cf5707c-ad85-4e26-de4e-784f815e6994",
        "colab": {
          "base_uri": "https://localhost:8080/",
          "height": 118
        }
      },
      "source": [
        "# convert to lower case dan fillna dengan string 'kosong'\n",
        "skills_to_have = glints['skills_to_have'].str.lower()\n",
        "\n",
        "skills_to_have.head()"
      ],
      "execution_count": null,
      "outputs": [
        {
          "output_type": "execute_result",
          "data": {
            "text/plain": [
              "0    must have skills [sep] .net [sep] english [sep...\n",
              "1    must have skills [sep] reactjs [sep] html [sep...\n",
              "2    must have skills [sep] teamwork [sep] microsof...\n",
              "3    must have skills [sep] agile scrum [sep] engli...\n",
              "4    must have skills [sep] cms wordpress [sep] wor...\n",
              "Name: skills_to_have, dtype: object"
            ]
          },
          "metadata": {
            "tags": []
          },
          "execution_count": 43
        }
      ]
    },
    {
      "cell_type": "markdown",
      "metadata": {
        "id": "b_Fw69VDdcJF"
      },
      "source": [
        "> Perlu kita cleaning dengan menghilangkan 'must have skills' dan 'nice to have skills' pada skill."
      ]
    },
    {
      "cell_type": "code",
      "metadata": {
        "id": "yZd7618JdiR7"
      },
      "source": [
        ""
      ],
      "execution_count": null,
      "outputs": []
    }
  ]
}