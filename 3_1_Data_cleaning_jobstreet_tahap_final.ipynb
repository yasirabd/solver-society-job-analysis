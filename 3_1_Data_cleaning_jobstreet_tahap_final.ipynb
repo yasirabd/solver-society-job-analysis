{
  "nbformat": 4,
  "nbformat_minor": 0,
  "metadata": {
    "colab": {
      "name": "3_1 - Data cleaning jobstreet tahap final",
      "provenance": [],
      "collapsed_sections": [],
      "toc_visible": true,
      "mount_file_id": "1zWyZwduBSbBCkgMNrBSPSCOOviaOGrmW",
      "authorship_tag": "ABX9TyPVYTxfU7i4+rD4hfpMjE0w",
      "include_colab_link": true
    },
    "kernelspec": {
      "name": "python3",
      "display_name": "Python 3"
    }
  },
  "cells": [
    {
      "cell_type": "markdown",
      "metadata": {
        "id": "view-in-github",
        "colab_type": "text"
      },
      "source": [
        "<a href=\"https://colab.research.google.com/github/yasirabd/solver-society-job-data/blob/main/3_1_Data_cleaning_jobstreet_tahap_final.ipynb\" target=\"_parent\"><img src=\"https://colab.research.google.com/assets/colab-badge.svg\" alt=\"Open In Colab\"/></a>"
      ]
    },
    {
      "cell_type": "markdown",
      "metadata": {
        "id": "XYdyQrQdHPmG"
      },
      "source": [
        "# Objectives\n",
        "Data cleaning tahap akhir pada jobstreet tahap akhir. Data output dipersiapkan agar dapat ditampilkan pada Carto.\n",
        "\n",
        "Data input yang dibutuhkan:\n",
        "1. jobstreet_clean_tahap3.csv\n",
        "2. jobstreet_clean_tahap4.csv (Karena proses ekstrak skill lama, dapat gunakan data pertama)\n",
        "3. company_industry_mapper.csv\n",
        "\n",
        "Data output yang dihasilkan:\n",
        "1. data_loker\n",
        "2. data_pendidikan\n",
        "3. data_loker_prov\n",
        "4. data_skill"
      ]
    },
    {
      "cell_type": "code",
      "metadata": {
        "id": "24uSy7-SRQ4p"
      },
      "source": [
        "import pandas as pd\n",
        "import numpy as np\n",
        "import matplotlib.pyplot as plt\n",
        "import seaborn as sns\n",
        "sns.set_style('whitegrid')"
      ],
      "execution_count": 1,
      "outputs": []
    },
    {
      "cell_type": "code",
      "metadata": {
        "id": "CkfSpCHXRcLQ",
        "outputId": "3d620615-db0c-41e7-a0a8-c31eb572c8c0",
        "colab": {
          "base_uri": "https://localhost:8080/",
          "height": 445
        }
      },
      "source": [
        "df = pd.read_csv('/content/drive/My Drive/Data Loker/jobstreet_clean_tahap3.csv')\n",
        "df.head()"
      ],
      "execution_count": 2,
      "outputs": [
        {
          "output_type": "execute_result",
          "data": {
            "text/html": [
              "<div>\n",
              "<style scoped>\n",
              "    .dataframe tbody tr th:only-of-type {\n",
              "        vertical-align: middle;\n",
              "    }\n",
              "\n",
              "    .dataframe tbody tr th {\n",
              "        vertical-align: top;\n",
              "    }\n",
              "\n",
              "    .dataframe thead th {\n",
              "        text-align: right;\n",
              "    }\n",
              "</style>\n",
              "<table border=\"1\" class=\"dataframe\">\n",
              "  <thead>\n",
              "    <tr style=\"text-align: right;\">\n",
              "      <th></th>\n",
              "      <th>id_loker</th>\n",
              "      <th>pulau</th>\n",
              "      <th>provinsi</th>\n",
              "      <th>job_position</th>\n",
              "      <th>company_name</th>\n",
              "      <th>years_of_experience</th>\n",
              "      <th>years_of_experience_cat</th>\n",
              "      <th>job_description</th>\n",
              "      <th>average_processing_time</th>\n",
              "      <th>company_industry</th>\n",
              "      <th>company_size</th>\n",
              "      <th>work_environment_waktu_bekerja</th>\n",
              "      <th>work_environment_gaya_berpakaian</th>\n",
              "      <th>work_environment_gaya_berpakaian_contoh</th>\n",
              "      <th>work_environment_tunjangan</th>\n",
              "      <th>work_environment_bahasa</th>\n",
              "      <th>platform</th>\n",
              "      <th>pendidikan</th>\n",
              "    </tr>\n",
              "  </thead>\n",
              "  <tbody>\n",
              "    <tr>\n",
              "      <th>0</th>\n",
              "      <td>1</td>\n",
              "      <td>jawa</td>\n",
              "      <td>dki jakarta</td>\n",
              "      <td>spv finance</td>\n",
              "      <td>PT Axindo Infotama</td>\n",
              "      <td>3</td>\n",
              "      <td>0 - 4 tahun</td>\n",
              "      <td>[SEP][SEP]Usia Max. 35 tahun[SEP]Pendidikan Mi...</td>\n",
              "      <td>6</td>\n",
              "      <td>Retail/Merchandise</td>\n",
              "      <td>51 - 200 pekerja</td>\n",
              "      <td>sabtu</td>\n",
              "      <td>formal</td>\n",
              "      <td>kemeja polos &amp; dasi</td>\n",
              "      <td>kesehatan, umum</td>\n",
              "      <td>indonesia</td>\n",
              "      <td>jobstreet</td>\n",
              "      <td>d3</td>\n",
              "    </tr>\n",
              "    <tr>\n",
              "      <th>1</th>\n",
              "      <td>2</td>\n",
              "      <td>jawa</td>\n",
              "      <td>dki jakarta</td>\n",
              "      <td>qualitative research executive</td>\n",
              "      <td>Perusahaan Dirahasiakan</td>\n",
              "      <td>3</td>\n",
              "      <td>0 - 4 tahun</td>\n",
              "      <td>RESPONSIBILITIES:[SEP]Brief Description of Dut...</td>\n",
              "      <td>tidak tersedia</td>\n",
              "      <td>tidak tersedia</td>\n",
              "      <td>tidak spesifik</td>\n",
              "      <td>tidak tersedia</td>\n",
              "      <td>tidak spesifik</td>\n",
              "      <td>tidak spesifik</td>\n",
              "      <td>tidak tersedia</td>\n",
              "      <td>tidak dicantumkan</td>\n",
              "      <td>jobstreet</td>\n",
              "      <td>s1</td>\n",
              "    </tr>\n",
              "    <tr>\n",
              "      <th>2</th>\n",
              "      <td>3</td>\n",
              "      <td>jawa</td>\n",
              "      <td>jawa tengah</td>\n",
              "      <td>field collection wonogiri</td>\n",
              "      <td>OTO Group</td>\n",
              "      <td>0</td>\n",
              "      <td>0 - 4 tahun</td>\n",
              "      <td>[SEP]Lingkup pekerjaan: [SEP]Menjaga account d...</td>\n",
              "      <td>14</td>\n",
              "      <td>Perbankan/Pelayanan Keuangan</td>\n",
              "      <td>lebih dari 5000 pekerja</td>\n",
              "      <td>senin - jumat</td>\n",
              "      <td>bisnis</td>\n",
              "      <td>kemeja</td>\n",
              "      <td>kesehatan, bonus</td>\n",
              "      <td>indonesia</td>\n",
              "      <td>jobstreet</td>\n",
              "      <td>d3, s1, sma</td>\n",
              "    </tr>\n",
              "    <tr>\n",
              "      <th>3</th>\n",
              "      <td>4</td>\n",
              "      <td>jawa</td>\n",
              "      <td>dki jakarta</td>\n",
              "      <td>perawat di negara jerman</td>\n",
              "      <td>PT Jerman Manajemen</td>\n",
              "      <td>1</td>\n",
              "      <td>0 - 4 tahun</td>\n",
              "      <td>[SEP]Candidate must possess at least Diploma i...</td>\n",
              "      <td>11</td>\n",
              "      <td>Pendidikan</td>\n",
              "      <td>51 - 200 pekerja</td>\n",
              "      <td>sabtu - kamis</td>\n",
              "      <td>formal</td>\n",
              "      <td>kemeja polos &amp; dasi</td>\n",
              "      <td>kesehatan</td>\n",
              "      <td>indonesia</td>\n",
              "      <td>jobstreet</td>\n",
              "      <td>d3</td>\n",
              "    </tr>\n",
              "    <tr>\n",
              "      <th>4</th>\n",
              "      <td>5</td>\n",
              "      <td>jawa</td>\n",
              "      <td>jawa tengah</td>\n",
              "      <td>field collection pati</td>\n",
              "      <td>OTO Group</td>\n",
              "      <td>0</td>\n",
              "      <td>0 - 4 tahun</td>\n",
              "      <td>[SEP]Lingkup pekerjaan: [SEP]Menjaga account d...</td>\n",
              "      <td>14</td>\n",
              "      <td>Perbankan/Pelayanan Keuangan</td>\n",
              "      <td>lebih dari 5000 pekerja</td>\n",
              "      <td>senin - jumat</td>\n",
              "      <td>bisnis</td>\n",
              "      <td>kemeja</td>\n",
              "      <td>kesehatan, bonus</td>\n",
              "      <td>indonesia</td>\n",
              "      <td>jobstreet</td>\n",
              "      <td>d3, s1, sma</td>\n",
              "    </tr>\n",
              "  </tbody>\n",
              "</table>\n",
              "</div>"
            ],
            "text/plain": [
              "   id_loker pulau     provinsi  ... work_environment_bahasa   platform   pendidikan\n",
              "0         1  jawa  dki jakarta  ...               indonesia  jobstreet           d3\n",
              "1         2  jawa  dki jakarta  ...       tidak dicantumkan  jobstreet           s1\n",
              "2         3  jawa  jawa tengah  ...               indonesia  jobstreet  d3, s1, sma\n",
              "3         4  jawa  dki jakarta  ...               indonesia  jobstreet           d3\n",
              "4         5  jawa  jawa tengah  ...               indonesia  jobstreet  d3, s1, sma\n",
              "\n",
              "[5 rows x 18 columns]"
            ]
          },
          "metadata": {
            "tags": []
          },
          "execution_count": 2
        }
      ]
    },
    {
      "cell_type": "code",
      "metadata": {
        "id": "P0jzhuCWIDTc"
      },
      "source": [
        "# drop job_description\n",
        "df = df.drop(['job_description'], axis=1)"
      ],
      "execution_count": 3,
      "outputs": []
    },
    {
      "cell_type": "code",
      "metadata": {
        "id": "-96S-8jzRfKj",
        "outputId": "13a72aae-39ae-4348-cb3e-c0e4c0624b52",
        "colab": {
          "base_uri": "https://localhost:8080/",
          "height": 323
        }
      },
      "source": [
        "# check null values\n",
        "df.isnull().sum()"
      ],
      "execution_count": 4,
      "outputs": [
        {
          "output_type": "execute_result",
          "data": {
            "text/plain": [
              "id_loker                                   0\n",
              "pulau                                      0\n",
              "provinsi                                   0\n",
              "job_position                               0\n",
              "company_name                               0\n",
              "years_of_experience                        0\n",
              "years_of_experience_cat                    0\n",
              "average_processing_time                    0\n",
              "company_industry                           0\n",
              "company_size                               0\n",
              "work_environment_waktu_bekerja             0\n",
              "work_environment_gaya_berpakaian           0\n",
              "work_environment_gaya_berpakaian_contoh    0\n",
              "work_environment_tunjangan                 0\n",
              "work_environment_bahasa                    0\n",
              "platform                                   0\n",
              "pendidikan                                 0\n",
              "dtype: int64"
            ]
          },
          "metadata": {
            "tags": []
          },
          "execution_count": 4
        }
      ]
    },
    {
      "cell_type": "code",
      "metadata": {
        "id": "45mJPz8nRlyM",
        "outputId": "e29a5404-577b-4b9f-ecff-ff46283eba9c",
        "colab": {
          "base_uri": "https://localhost:8080/",
          "height": 34
        }
      },
      "source": [
        "df.shape"
      ],
      "execution_count": 5,
      "outputs": [
        {
          "output_type": "execute_result",
          "data": {
            "text/plain": [
              "(14036, 17)"
            ]
          },
          "metadata": {
            "tags": []
          },
          "execution_count": 5
        }
      ]
    },
    {
      "cell_type": "code",
      "metadata": {
        "id": "_NaNtIafRnwn"
      },
      "source": [
        "data = df.copy()"
      ],
      "execution_count": 6,
      "outputs": []
    },
    {
      "cell_type": "markdown",
      "metadata": {
        "id": "W3_orZEPJD5Q"
      },
      "source": [
        "## Drop row data provinsi = 'tidak diketahui'"
      ]
    },
    {
      "cell_type": "code",
      "metadata": {
        "id": "6tOf31rERqTo",
        "outputId": "1788e21d-ba7a-470c-e223-bb5ffd5f62a3",
        "colab": {
          "base_uri": "https://localhost:8080/",
          "height": 34
        }
      },
      "source": [
        "# drop row provinsi tidak diketahui\n",
        "data = data[~data.provinsi.isin(['tidak diketahui'])]\n",
        "data.shape"
      ],
      "execution_count": 7,
      "outputs": [
        {
          "output_type": "execute_result",
          "data": {
            "text/plain": [
              "(12625, 17)"
            ]
          },
          "metadata": {
            "tags": []
          },
          "execution_count": 7
        }
      ]
    },
    {
      "cell_type": "markdown",
      "metadata": {
        "id": "8bBOwsevJMkE"
      },
      "source": [
        "## Rename nama provinsi"
      ]
    },
    {
      "cell_type": "code",
      "metadata": {
        "id": "MRyfAUQbRrbz",
        "outputId": "1beade5d-6979-4088-de85-42f4a37264ca",
        "colab": {
          "base_uri": "https://localhost:8080/",
          "height": 612
        }
      },
      "source": [
        "# Ubah nama provinsi supaya sama dengan data Geojson\n",
        "\n",
        "prov = data['provinsi']\n",
        "# capitalize first letter\n",
        "prov = prov.str.title()\n",
        "\n",
        "# replace dki jakarta\n",
        "prov = prov.str.replace('Dki Jakarta', 'Daerah Khusus Ibukota Jakarta', regex=False)\n",
        "\n",
        "# replace Daerah Istimewa Yogyakarta\n",
        "prov = prov.str.replace('Di Yogyakarta', 'Daerah Istimewa Yogyakarta', regex=False)\n",
        "\n",
        "prov.value_counts()"
      ],
      "execution_count": 8,
      "outputs": [
        {
          "output_type": "execute_result",
          "data": {
            "text/plain": [
              "Daerah Khusus Ibukota Jakarta    5985\n",
              "Jawa Barat                       1771\n",
              "Jawa Timur                       1296\n",
              "Banten                           1219\n",
              "Jawa Tengah                       548\n",
              "Sumatera Utara                    225\n",
              "Daerah Istimewa Yogyakarta        216\n",
              "Bali                              214\n",
              "Kalimantan Timur                  159\n",
              "Kepulauan Riau                    126\n",
              "Sulawesi Selatan                  121\n",
              "Sumatera Selatan                  120\n",
              "Riau                               86\n",
              "Kalimantan Selatan                 72\n",
              "Kalimantan Barat                   54\n",
              "Kalimantan Tengah                  45\n",
              "Lampung                            43\n",
              "Sulawesi Utara                     42\n",
              "Sulawesi Tengah                    40\n",
              "Jambi                              37\n",
              "Nusa Tenggara Barat                37\n",
              "Kalimantan Utara                   22\n",
              "Aceh                               21\n",
              "Sulawesi Tenggara                  20\n",
              "Nusa Tenggara Timur                18\n",
              "Sumatera Barat                     17\n",
              "Papua                              16\n",
              "Maluku Utara                       14\n",
              "Papua Barat                        12\n",
              "Kepulauan Bangka Belitung           8\n",
              "Bengkulu                            7\n",
              "Gorontalo                           7\n",
              "Maluku                              6\n",
              "Sulawesi Barat                      1\n",
              "Name: provinsi, dtype: int64"
            ]
          },
          "metadata": {
            "tags": []
          },
          "execution_count": 8
        }
      ]
    },
    {
      "cell_type": "code",
      "metadata": {
        "id": "9L5tweJHRsls"
      },
      "source": [
        "data['provinsi'] = prov"
      ],
      "execution_count": 9,
      "outputs": []
    },
    {
      "cell_type": "markdown",
      "metadata": {
        "id": "2-pUTW3oJQSC"
      },
      "source": [
        "## Capitalize column"
      ]
    },
    {
      "cell_type": "code",
      "metadata": {
        "id": "trrAVJJYRuJM",
        "outputId": "6564b3c3-f85f-413b-952e-692857ac52f4",
        "colab": {
          "base_uri": "https://localhost:8080/",
          "height": 530
        }
      },
      "source": [
        "# capitalize beberapa column\n",
        "data['pulau'] = data.pulau.str.title()\n",
        "data['job_position'] = data.job_position.str.title()\n",
        "data['work_environment_bahasa'] = data.work_environment_bahasa.str.title()\n",
        "data['pendidikan'] = data.pendidikan.str.upper()\n",
        "\n",
        "data.tail()"
      ],
      "execution_count": 10,
      "outputs": [
        {
          "output_type": "execute_result",
          "data": {
            "text/html": [
              "<div>\n",
              "<style scoped>\n",
              "    .dataframe tbody tr th:only-of-type {\n",
              "        vertical-align: middle;\n",
              "    }\n",
              "\n",
              "    .dataframe tbody tr th {\n",
              "        vertical-align: top;\n",
              "    }\n",
              "\n",
              "    .dataframe thead th {\n",
              "        text-align: right;\n",
              "    }\n",
              "</style>\n",
              "<table border=\"1\" class=\"dataframe\">\n",
              "  <thead>\n",
              "    <tr style=\"text-align: right;\">\n",
              "      <th></th>\n",
              "      <th>id_loker</th>\n",
              "      <th>pulau</th>\n",
              "      <th>provinsi</th>\n",
              "      <th>job_position</th>\n",
              "      <th>company_name</th>\n",
              "      <th>years_of_experience</th>\n",
              "      <th>years_of_experience_cat</th>\n",
              "      <th>average_processing_time</th>\n",
              "      <th>company_industry</th>\n",
              "      <th>company_size</th>\n",
              "      <th>work_environment_waktu_bekerja</th>\n",
              "      <th>work_environment_gaya_berpakaian</th>\n",
              "      <th>work_environment_gaya_berpakaian_contoh</th>\n",
              "      <th>work_environment_tunjangan</th>\n",
              "      <th>work_environment_bahasa</th>\n",
              "      <th>platform</th>\n",
              "      <th>pendidikan</th>\n",
              "    </tr>\n",
              "  </thead>\n",
              "  <tbody>\n",
              "    <tr>\n",
              "      <th>14031</th>\n",
              "      <td>14032</td>\n",
              "      <td>Jawa</td>\n",
              "      <td>Banten</td>\n",
              "      <td>Asisten Notaris</td>\n",
              "      <td>Kantor Notaris &amp; PPAT Fanny Felicia Chandra, S...</td>\n",
              "      <td>1</td>\n",
              "      <td>0 - 4 tahun</td>\n",
              "      <td>14</td>\n",
              "      <td>Hukum/Legal</td>\n",
              "      <td>1- 50 pekerja</td>\n",
              "      <td>senin - jumat</td>\n",
              "      <td>formal</td>\n",
              "      <td>kemeja polos &amp; dasi</td>\n",
              "      <td>tidak tersedia</td>\n",
              "      <td>Indonesia</td>\n",
              "      <td>jobstreet</td>\n",
              "      <td>TIDAK DICANTUMKAN</td>\n",
              "    </tr>\n",
              "    <tr>\n",
              "      <th>14032</th>\n",
              "      <td>14033</td>\n",
              "      <td>Nusa Tenggara</td>\n",
              "      <td>Bali</td>\n",
              "      <td>Client Service And Human Capital Officer</td>\n",
              "      <td>GRATYO® World's Leading Practical Business Coa...</td>\n",
              "      <td>1</td>\n",
              "      <td>0 - 4 tahun</td>\n",
              "      <td>14</td>\n",
              "      <td>Konsultasi (Bisnis &amp; Manajemen)</td>\n",
              "      <td>51 - 200 pekerja</td>\n",
              "      <td>senin - jumat</td>\n",
              "      <td>bisnis</td>\n",
              "      <td>kemeja</td>\n",
              "      <td>kesehatan, umum</td>\n",
              "      <td>Indonesia</td>\n",
              "      <td>jobstreet</td>\n",
              "      <td>S2, S1</td>\n",
              "    </tr>\n",
              "    <tr>\n",
              "      <th>14033</th>\n",
              "      <td>14034</td>\n",
              "      <td>Jawa</td>\n",
              "      <td>Daerah Khusus Ibukota Jakarta</td>\n",
              "      <td>Demi Chef</td>\n",
              "      <td>Perusahaan Dirahasiakan</td>\n",
              "      <td>4</td>\n",
              "      <td>0 - 4 tahun</td>\n",
              "      <td>tidak tersedia</td>\n",
              "      <td>tidak tersedia</td>\n",
              "      <td>tidak spesifik</td>\n",
              "      <td>tidak tersedia</td>\n",
              "      <td>tidak spesifik</td>\n",
              "      <td>tidak spesifik</td>\n",
              "      <td>tidak tersedia</td>\n",
              "      <td>Tidak Dicantumkan</td>\n",
              "      <td>jobstreet</td>\n",
              "      <td>D3</td>\n",
              "    </tr>\n",
              "    <tr>\n",
              "      <th>14034</th>\n",
              "      <td>14035</td>\n",
              "      <td>Jawa</td>\n",
              "      <td>Daerah Khusus Ibukota Jakarta</td>\n",
              "      <td>Business Development Officer</td>\n",
              "      <td>GRATYO® World's Leading Practical Business Coa...</td>\n",
              "      <td>1</td>\n",
              "      <td>0 - 4 tahun</td>\n",
              "      <td>14</td>\n",
              "      <td>Konsultasi (Bisnis &amp; Manajemen)</td>\n",
              "      <td>51 - 200 pekerja</td>\n",
              "      <td>senin - jumat</td>\n",
              "      <td>bisnis</td>\n",
              "      <td>kemeja</td>\n",
              "      <td>kesehatan, umum</td>\n",
              "      <td>Indonesia</td>\n",
              "      <td>jobstreet</td>\n",
              "      <td>S2</td>\n",
              "    </tr>\n",
              "    <tr>\n",
              "      <th>14035</th>\n",
              "      <td>14036</td>\n",
              "      <td>Jawa</td>\n",
              "      <td>Banten</td>\n",
              "      <td>Sales Dan Telemarketing</td>\n",
              "      <td>CV.Orion Metal Indonesia</td>\n",
              "      <td>1</td>\n",
              "      <td>0 - 4 tahun</td>\n",
              "      <td>14</td>\n",
              "      <td>Umum &amp; Grosir</td>\n",
              "      <td>1- 50 pekerja</td>\n",
              "      <td>tidak tersedia</td>\n",
              "      <td>tidak spesifik</td>\n",
              "      <td>tidak spesifik</td>\n",
              "      <td>tidak tersedia</td>\n",
              "      <td>Tidak Dicantumkan</td>\n",
              "      <td>jobstreet</td>\n",
              "      <td>SMA, D3, S1</td>\n",
              "    </tr>\n",
              "  </tbody>\n",
              "</table>\n",
              "</div>"
            ],
            "text/plain": [
              "       id_loker          pulau  ...   platform         pendidikan\n",
              "14031     14032           Jawa  ...  jobstreet  TIDAK DICANTUMKAN\n",
              "14032     14033  Nusa Tenggara  ...  jobstreet             S2, S1\n",
              "14033     14034           Jawa  ...  jobstreet                 D3\n",
              "14034     14035           Jawa  ...  jobstreet                 S2\n",
              "14035     14036           Jawa  ...  jobstreet        SMA, D3, S1\n",
              "\n",
              "[5 rows x 17 columns]"
            ]
          },
          "metadata": {
            "tags": []
          },
          "execution_count": 10
        }
      ]
    },
    {
      "cell_type": "markdown",
      "metadata": {
        "id": "604rbqlvJUH9"
      },
      "source": [
        "## Reset index dan id_loker"
      ]
    },
    {
      "cell_type": "code",
      "metadata": {
        "id": "2aSA3g9yS5p4",
        "outputId": "2e062970-491b-4894-86df-663bc113dafe",
        "colab": {
          "base_uri": "https://localhost:8080/",
          "height": 530
        }
      },
      "source": [
        "# reset index dan reset id_loker\n",
        "data = data.reset_index(drop=True)\n",
        "id_loker = [i+1 for i in range(len(data))]\n",
        "data['id_loker'] = id_loker\n",
        "\n",
        "data.tail()"
      ],
      "execution_count": 11,
      "outputs": [
        {
          "output_type": "execute_result",
          "data": {
            "text/html": [
              "<div>\n",
              "<style scoped>\n",
              "    .dataframe tbody tr th:only-of-type {\n",
              "        vertical-align: middle;\n",
              "    }\n",
              "\n",
              "    .dataframe tbody tr th {\n",
              "        vertical-align: top;\n",
              "    }\n",
              "\n",
              "    .dataframe thead th {\n",
              "        text-align: right;\n",
              "    }\n",
              "</style>\n",
              "<table border=\"1\" class=\"dataframe\">\n",
              "  <thead>\n",
              "    <tr style=\"text-align: right;\">\n",
              "      <th></th>\n",
              "      <th>id_loker</th>\n",
              "      <th>pulau</th>\n",
              "      <th>provinsi</th>\n",
              "      <th>job_position</th>\n",
              "      <th>company_name</th>\n",
              "      <th>years_of_experience</th>\n",
              "      <th>years_of_experience_cat</th>\n",
              "      <th>average_processing_time</th>\n",
              "      <th>company_industry</th>\n",
              "      <th>company_size</th>\n",
              "      <th>work_environment_waktu_bekerja</th>\n",
              "      <th>work_environment_gaya_berpakaian</th>\n",
              "      <th>work_environment_gaya_berpakaian_contoh</th>\n",
              "      <th>work_environment_tunjangan</th>\n",
              "      <th>work_environment_bahasa</th>\n",
              "      <th>platform</th>\n",
              "      <th>pendidikan</th>\n",
              "    </tr>\n",
              "  </thead>\n",
              "  <tbody>\n",
              "    <tr>\n",
              "      <th>12620</th>\n",
              "      <td>12621</td>\n",
              "      <td>Jawa</td>\n",
              "      <td>Banten</td>\n",
              "      <td>Asisten Notaris</td>\n",
              "      <td>Kantor Notaris &amp; PPAT Fanny Felicia Chandra, S...</td>\n",
              "      <td>1</td>\n",
              "      <td>0 - 4 tahun</td>\n",
              "      <td>14</td>\n",
              "      <td>Hukum/Legal</td>\n",
              "      <td>1- 50 pekerja</td>\n",
              "      <td>senin - jumat</td>\n",
              "      <td>formal</td>\n",
              "      <td>kemeja polos &amp; dasi</td>\n",
              "      <td>tidak tersedia</td>\n",
              "      <td>Indonesia</td>\n",
              "      <td>jobstreet</td>\n",
              "      <td>TIDAK DICANTUMKAN</td>\n",
              "    </tr>\n",
              "    <tr>\n",
              "      <th>12621</th>\n",
              "      <td>12622</td>\n",
              "      <td>Nusa Tenggara</td>\n",
              "      <td>Bali</td>\n",
              "      <td>Client Service And Human Capital Officer</td>\n",
              "      <td>GRATYO® World's Leading Practical Business Coa...</td>\n",
              "      <td>1</td>\n",
              "      <td>0 - 4 tahun</td>\n",
              "      <td>14</td>\n",
              "      <td>Konsultasi (Bisnis &amp; Manajemen)</td>\n",
              "      <td>51 - 200 pekerja</td>\n",
              "      <td>senin - jumat</td>\n",
              "      <td>bisnis</td>\n",
              "      <td>kemeja</td>\n",
              "      <td>kesehatan, umum</td>\n",
              "      <td>Indonesia</td>\n",
              "      <td>jobstreet</td>\n",
              "      <td>S2, S1</td>\n",
              "    </tr>\n",
              "    <tr>\n",
              "      <th>12622</th>\n",
              "      <td>12623</td>\n",
              "      <td>Jawa</td>\n",
              "      <td>Daerah Khusus Ibukota Jakarta</td>\n",
              "      <td>Demi Chef</td>\n",
              "      <td>Perusahaan Dirahasiakan</td>\n",
              "      <td>4</td>\n",
              "      <td>0 - 4 tahun</td>\n",
              "      <td>tidak tersedia</td>\n",
              "      <td>tidak tersedia</td>\n",
              "      <td>tidak spesifik</td>\n",
              "      <td>tidak tersedia</td>\n",
              "      <td>tidak spesifik</td>\n",
              "      <td>tidak spesifik</td>\n",
              "      <td>tidak tersedia</td>\n",
              "      <td>Tidak Dicantumkan</td>\n",
              "      <td>jobstreet</td>\n",
              "      <td>D3</td>\n",
              "    </tr>\n",
              "    <tr>\n",
              "      <th>12623</th>\n",
              "      <td>12624</td>\n",
              "      <td>Jawa</td>\n",
              "      <td>Daerah Khusus Ibukota Jakarta</td>\n",
              "      <td>Business Development Officer</td>\n",
              "      <td>GRATYO® World's Leading Practical Business Coa...</td>\n",
              "      <td>1</td>\n",
              "      <td>0 - 4 tahun</td>\n",
              "      <td>14</td>\n",
              "      <td>Konsultasi (Bisnis &amp; Manajemen)</td>\n",
              "      <td>51 - 200 pekerja</td>\n",
              "      <td>senin - jumat</td>\n",
              "      <td>bisnis</td>\n",
              "      <td>kemeja</td>\n",
              "      <td>kesehatan, umum</td>\n",
              "      <td>Indonesia</td>\n",
              "      <td>jobstreet</td>\n",
              "      <td>S2</td>\n",
              "    </tr>\n",
              "    <tr>\n",
              "      <th>12624</th>\n",
              "      <td>12625</td>\n",
              "      <td>Jawa</td>\n",
              "      <td>Banten</td>\n",
              "      <td>Sales Dan Telemarketing</td>\n",
              "      <td>CV.Orion Metal Indonesia</td>\n",
              "      <td>1</td>\n",
              "      <td>0 - 4 tahun</td>\n",
              "      <td>14</td>\n",
              "      <td>Umum &amp; Grosir</td>\n",
              "      <td>1- 50 pekerja</td>\n",
              "      <td>tidak tersedia</td>\n",
              "      <td>tidak spesifik</td>\n",
              "      <td>tidak spesifik</td>\n",
              "      <td>tidak tersedia</td>\n",
              "      <td>Tidak Dicantumkan</td>\n",
              "      <td>jobstreet</td>\n",
              "      <td>SMA, D3, S1</td>\n",
              "    </tr>\n",
              "  </tbody>\n",
              "</table>\n",
              "</div>"
            ],
            "text/plain": [
              "       id_loker          pulau  ...   platform         pendidikan\n",
              "12620     12621           Jawa  ...  jobstreet  TIDAK DICANTUMKAN\n",
              "12621     12622  Nusa Tenggara  ...  jobstreet             S2, S1\n",
              "12622     12623           Jawa  ...  jobstreet                 D3\n",
              "12623     12624           Jawa  ...  jobstreet                 S2\n",
              "12624     12625           Jawa  ...  jobstreet        SMA, D3, S1\n",
              "\n",
              "[5 rows x 17 columns]"
            ]
          },
          "metadata": {
            "tags": []
          },
          "execution_count": 11
        }
      ]
    },
    {
      "cell_type": "markdown",
      "metadata": {
        "id": "Kj-5uoX2JYHn"
      },
      "source": [
        "## Add jumlah_loker_per_provinsi"
      ]
    },
    {
      "cell_type": "code",
      "metadata": {
        "id": "7LSVz0f4TbjE"
      },
      "source": [
        "# tambah column jumlah_loker_per_provinsi\n",
        "jumlah_loker_per_provinsi = data.provinsi.value_counts()\n",
        "\n",
        "# create dictionary\n",
        "temp = list()\n",
        "for idx, row in data.iterrows():\n",
        "    prov = row['provinsi']\n",
        "    temp.append(jumlah_loker_per_provinsi[prov])"
      ],
      "execution_count": 12,
      "outputs": []
    },
    {
      "cell_type": "code",
      "metadata": {
        "id": "qBXuDgz8VGbe",
        "outputId": "c0c6afb5-3827-4a92-a031-99397d51b074",
        "colab": {
          "base_uri": "https://localhost:8080/",
          "height": 428
        }
      },
      "source": [
        "data['jumlah_loker_per_provinsi'] = temp\n",
        "data.head()"
      ],
      "execution_count": 13,
      "outputs": [
        {
          "output_type": "execute_result",
          "data": {
            "text/html": [
              "<div>\n",
              "<style scoped>\n",
              "    .dataframe tbody tr th:only-of-type {\n",
              "        vertical-align: middle;\n",
              "    }\n",
              "\n",
              "    .dataframe tbody tr th {\n",
              "        vertical-align: top;\n",
              "    }\n",
              "\n",
              "    .dataframe thead th {\n",
              "        text-align: right;\n",
              "    }\n",
              "</style>\n",
              "<table border=\"1\" class=\"dataframe\">\n",
              "  <thead>\n",
              "    <tr style=\"text-align: right;\">\n",
              "      <th></th>\n",
              "      <th>id_loker</th>\n",
              "      <th>pulau</th>\n",
              "      <th>provinsi</th>\n",
              "      <th>job_position</th>\n",
              "      <th>company_name</th>\n",
              "      <th>years_of_experience</th>\n",
              "      <th>years_of_experience_cat</th>\n",
              "      <th>average_processing_time</th>\n",
              "      <th>company_industry</th>\n",
              "      <th>company_size</th>\n",
              "      <th>work_environment_waktu_bekerja</th>\n",
              "      <th>work_environment_gaya_berpakaian</th>\n",
              "      <th>work_environment_gaya_berpakaian_contoh</th>\n",
              "      <th>work_environment_tunjangan</th>\n",
              "      <th>work_environment_bahasa</th>\n",
              "      <th>platform</th>\n",
              "      <th>pendidikan</th>\n",
              "      <th>jumlah_loker_per_provinsi</th>\n",
              "    </tr>\n",
              "  </thead>\n",
              "  <tbody>\n",
              "    <tr>\n",
              "      <th>0</th>\n",
              "      <td>1</td>\n",
              "      <td>Jawa</td>\n",
              "      <td>Daerah Khusus Ibukota Jakarta</td>\n",
              "      <td>Spv Finance</td>\n",
              "      <td>PT Axindo Infotama</td>\n",
              "      <td>3</td>\n",
              "      <td>0 - 4 tahun</td>\n",
              "      <td>6</td>\n",
              "      <td>Retail/Merchandise</td>\n",
              "      <td>51 - 200 pekerja</td>\n",
              "      <td>sabtu</td>\n",
              "      <td>formal</td>\n",
              "      <td>kemeja polos &amp; dasi</td>\n",
              "      <td>kesehatan, umum</td>\n",
              "      <td>Indonesia</td>\n",
              "      <td>jobstreet</td>\n",
              "      <td>D3</td>\n",
              "      <td>5985</td>\n",
              "    </tr>\n",
              "    <tr>\n",
              "      <th>1</th>\n",
              "      <td>2</td>\n",
              "      <td>Jawa</td>\n",
              "      <td>Daerah Khusus Ibukota Jakarta</td>\n",
              "      <td>Qualitative Research Executive</td>\n",
              "      <td>Perusahaan Dirahasiakan</td>\n",
              "      <td>3</td>\n",
              "      <td>0 - 4 tahun</td>\n",
              "      <td>tidak tersedia</td>\n",
              "      <td>tidak tersedia</td>\n",
              "      <td>tidak spesifik</td>\n",
              "      <td>tidak tersedia</td>\n",
              "      <td>tidak spesifik</td>\n",
              "      <td>tidak spesifik</td>\n",
              "      <td>tidak tersedia</td>\n",
              "      <td>Tidak Dicantumkan</td>\n",
              "      <td>jobstreet</td>\n",
              "      <td>S1</td>\n",
              "      <td>5985</td>\n",
              "    </tr>\n",
              "    <tr>\n",
              "      <th>2</th>\n",
              "      <td>3</td>\n",
              "      <td>Jawa</td>\n",
              "      <td>Jawa Tengah</td>\n",
              "      <td>Field Collection Wonogiri</td>\n",
              "      <td>OTO Group</td>\n",
              "      <td>0</td>\n",
              "      <td>0 - 4 tahun</td>\n",
              "      <td>14</td>\n",
              "      <td>Perbankan/Pelayanan Keuangan</td>\n",
              "      <td>lebih dari 5000 pekerja</td>\n",
              "      <td>senin - jumat</td>\n",
              "      <td>bisnis</td>\n",
              "      <td>kemeja</td>\n",
              "      <td>kesehatan, bonus</td>\n",
              "      <td>Indonesia</td>\n",
              "      <td>jobstreet</td>\n",
              "      <td>D3, S1, SMA</td>\n",
              "      <td>548</td>\n",
              "    </tr>\n",
              "    <tr>\n",
              "      <th>3</th>\n",
              "      <td>4</td>\n",
              "      <td>Jawa</td>\n",
              "      <td>Daerah Khusus Ibukota Jakarta</td>\n",
              "      <td>Perawat Di Negara Jerman</td>\n",
              "      <td>PT Jerman Manajemen</td>\n",
              "      <td>1</td>\n",
              "      <td>0 - 4 tahun</td>\n",
              "      <td>11</td>\n",
              "      <td>Pendidikan</td>\n",
              "      <td>51 - 200 pekerja</td>\n",
              "      <td>sabtu - kamis</td>\n",
              "      <td>formal</td>\n",
              "      <td>kemeja polos &amp; dasi</td>\n",
              "      <td>kesehatan</td>\n",
              "      <td>Indonesia</td>\n",
              "      <td>jobstreet</td>\n",
              "      <td>D3</td>\n",
              "      <td>5985</td>\n",
              "    </tr>\n",
              "    <tr>\n",
              "      <th>4</th>\n",
              "      <td>5</td>\n",
              "      <td>Jawa</td>\n",
              "      <td>Jawa Tengah</td>\n",
              "      <td>Field Collection Pati</td>\n",
              "      <td>OTO Group</td>\n",
              "      <td>0</td>\n",
              "      <td>0 - 4 tahun</td>\n",
              "      <td>14</td>\n",
              "      <td>Perbankan/Pelayanan Keuangan</td>\n",
              "      <td>lebih dari 5000 pekerja</td>\n",
              "      <td>senin - jumat</td>\n",
              "      <td>bisnis</td>\n",
              "      <td>kemeja</td>\n",
              "      <td>kesehatan, bonus</td>\n",
              "      <td>Indonesia</td>\n",
              "      <td>jobstreet</td>\n",
              "      <td>D3, S1, SMA</td>\n",
              "      <td>548</td>\n",
              "    </tr>\n",
              "  </tbody>\n",
              "</table>\n",
              "</div>"
            ],
            "text/plain": [
              "   id_loker pulau  ...   pendidikan jumlah_loker_per_provinsi\n",
              "0         1  Jawa  ...           D3                      5985\n",
              "1         2  Jawa  ...           S1                      5985\n",
              "2         3  Jawa  ...  D3, S1, SMA                       548\n",
              "3         4  Jawa  ...           D3                      5985\n",
              "4         5  Jawa  ...  D3, S1, SMA                       548\n",
              "\n",
              "[5 rows x 18 columns]"
            ]
          },
          "metadata": {
            "tags": []
          },
          "execution_count": 13
        }
      ]
    },
    {
      "cell_type": "code",
      "metadata": {
        "id": "wdBxIt4hZ_ih",
        "outputId": "c9fd1742-c67d-4e0a-bf5e-c8a2ed5a20e9",
        "colab": {
          "base_uri": "https://localhost:8080/",
          "height": 530
        }
      },
      "source": [
        "data.tail()"
      ],
      "execution_count": 14,
      "outputs": [
        {
          "output_type": "execute_result",
          "data": {
            "text/html": [
              "<div>\n",
              "<style scoped>\n",
              "    .dataframe tbody tr th:only-of-type {\n",
              "        vertical-align: middle;\n",
              "    }\n",
              "\n",
              "    .dataframe tbody tr th {\n",
              "        vertical-align: top;\n",
              "    }\n",
              "\n",
              "    .dataframe thead th {\n",
              "        text-align: right;\n",
              "    }\n",
              "</style>\n",
              "<table border=\"1\" class=\"dataframe\">\n",
              "  <thead>\n",
              "    <tr style=\"text-align: right;\">\n",
              "      <th></th>\n",
              "      <th>id_loker</th>\n",
              "      <th>pulau</th>\n",
              "      <th>provinsi</th>\n",
              "      <th>job_position</th>\n",
              "      <th>company_name</th>\n",
              "      <th>years_of_experience</th>\n",
              "      <th>years_of_experience_cat</th>\n",
              "      <th>average_processing_time</th>\n",
              "      <th>company_industry</th>\n",
              "      <th>company_size</th>\n",
              "      <th>work_environment_waktu_bekerja</th>\n",
              "      <th>work_environment_gaya_berpakaian</th>\n",
              "      <th>work_environment_gaya_berpakaian_contoh</th>\n",
              "      <th>work_environment_tunjangan</th>\n",
              "      <th>work_environment_bahasa</th>\n",
              "      <th>platform</th>\n",
              "      <th>pendidikan</th>\n",
              "      <th>jumlah_loker_per_provinsi</th>\n",
              "    </tr>\n",
              "  </thead>\n",
              "  <tbody>\n",
              "    <tr>\n",
              "      <th>12620</th>\n",
              "      <td>12621</td>\n",
              "      <td>Jawa</td>\n",
              "      <td>Banten</td>\n",
              "      <td>Asisten Notaris</td>\n",
              "      <td>Kantor Notaris &amp; PPAT Fanny Felicia Chandra, S...</td>\n",
              "      <td>1</td>\n",
              "      <td>0 - 4 tahun</td>\n",
              "      <td>14</td>\n",
              "      <td>Hukum/Legal</td>\n",
              "      <td>1- 50 pekerja</td>\n",
              "      <td>senin - jumat</td>\n",
              "      <td>formal</td>\n",
              "      <td>kemeja polos &amp; dasi</td>\n",
              "      <td>tidak tersedia</td>\n",
              "      <td>Indonesia</td>\n",
              "      <td>jobstreet</td>\n",
              "      <td>TIDAK DICANTUMKAN</td>\n",
              "      <td>1219</td>\n",
              "    </tr>\n",
              "    <tr>\n",
              "      <th>12621</th>\n",
              "      <td>12622</td>\n",
              "      <td>Nusa Tenggara</td>\n",
              "      <td>Bali</td>\n",
              "      <td>Client Service And Human Capital Officer</td>\n",
              "      <td>GRATYO® World's Leading Practical Business Coa...</td>\n",
              "      <td>1</td>\n",
              "      <td>0 - 4 tahun</td>\n",
              "      <td>14</td>\n",
              "      <td>Konsultasi (Bisnis &amp; Manajemen)</td>\n",
              "      <td>51 - 200 pekerja</td>\n",
              "      <td>senin - jumat</td>\n",
              "      <td>bisnis</td>\n",
              "      <td>kemeja</td>\n",
              "      <td>kesehatan, umum</td>\n",
              "      <td>Indonesia</td>\n",
              "      <td>jobstreet</td>\n",
              "      <td>S2, S1</td>\n",
              "      <td>214</td>\n",
              "    </tr>\n",
              "    <tr>\n",
              "      <th>12622</th>\n",
              "      <td>12623</td>\n",
              "      <td>Jawa</td>\n",
              "      <td>Daerah Khusus Ibukota Jakarta</td>\n",
              "      <td>Demi Chef</td>\n",
              "      <td>Perusahaan Dirahasiakan</td>\n",
              "      <td>4</td>\n",
              "      <td>0 - 4 tahun</td>\n",
              "      <td>tidak tersedia</td>\n",
              "      <td>tidak tersedia</td>\n",
              "      <td>tidak spesifik</td>\n",
              "      <td>tidak tersedia</td>\n",
              "      <td>tidak spesifik</td>\n",
              "      <td>tidak spesifik</td>\n",
              "      <td>tidak tersedia</td>\n",
              "      <td>Tidak Dicantumkan</td>\n",
              "      <td>jobstreet</td>\n",
              "      <td>D3</td>\n",
              "      <td>5985</td>\n",
              "    </tr>\n",
              "    <tr>\n",
              "      <th>12623</th>\n",
              "      <td>12624</td>\n",
              "      <td>Jawa</td>\n",
              "      <td>Daerah Khusus Ibukota Jakarta</td>\n",
              "      <td>Business Development Officer</td>\n",
              "      <td>GRATYO® World's Leading Practical Business Coa...</td>\n",
              "      <td>1</td>\n",
              "      <td>0 - 4 tahun</td>\n",
              "      <td>14</td>\n",
              "      <td>Konsultasi (Bisnis &amp; Manajemen)</td>\n",
              "      <td>51 - 200 pekerja</td>\n",
              "      <td>senin - jumat</td>\n",
              "      <td>bisnis</td>\n",
              "      <td>kemeja</td>\n",
              "      <td>kesehatan, umum</td>\n",
              "      <td>Indonesia</td>\n",
              "      <td>jobstreet</td>\n",
              "      <td>S2</td>\n",
              "      <td>5985</td>\n",
              "    </tr>\n",
              "    <tr>\n",
              "      <th>12624</th>\n",
              "      <td>12625</td>\n",
              "      <td>Jawa</td>\n",
              "      <td>Banten</td>\n",
              "      <td>Sales Dan Telemarketing</td>\n",
              "      <td>CV.Orion Metal Indonesia</td>\n",
              "      <td>1</td>\n",
              "      <td>0 - 4 tahun</td>\n",
              "      <td>14</td>\n",
              "      <td>Umum &amp; Grosir</td>\n",
              "      <td>1- 50 pekerja</td>\n",
              "      <td>tidak tersedia</td>\n",
              "      <td>tidak spesifik</td>\n",
              "      <td>tidak spesifik</td>\n",
              "      <td>tidak tersedia</td>\n",
              "      <td>Tidak Dicantumkan</td>\n",
              "      <td>jobstreet</td>\n",
              "      <td>SMA, D3, S1</td>\n",
              "      <td>1219</td>\n",
              "    </tr>\n",
              "  </tbody>\n",
              "</table>\n",
              "</div>"
            ],
            "text/plain": [
              "       id_loker          pulau  ...         pendidikan jumlah_loker_per_provinsi\n",
              "12620     12621           Jawa  ...  TIDAK DICANTUMKAN                      1219\n",
              "12621     12622  Nusa Tenggara  ...             S2, S1                       214\n",
              "12622     12623           Jawa  ...                 D3                      5985\n",
              "12623     12624           Jawa  ...                 S2                      5985\n",
              "12624     12625           Jawa  ...        SMA, D3, S1                      1219\n",
              "\n",
              "[5 rows x 18 columns]"
            ]
          },
          "metadata": {
            "tags": []
          },
          "execution_count": 14
        }
      ]
    },
    {
      "cell_type": "markdown",
      "metadata": {
        "id": "8IYhlUbtIf5G"
      },
      "source": [
        "Note: masih terdapat error perbedaan data setelah export."
      ]
    },
    {
      "cell_type": "code",
      "metadata": {
        "id": "mkwhc7WxYgP-",
        "outputId": "1e3fe4a8-cd51-4f87-d193-adf934d2c5e7",
        "colab": {
          "base_uri": "https://localhost:8080/",
          "height": 85
        }
      },
      "source": [
        "data[['id_loker','pendidikan', 'provinsi']].iloc[1312]"
      ],
      "execution_count": 15,
      "outputs": [
        {
          "output_type": "execute_result",
          "data": {
            "text/plain": [
              "id_loker            1313\n",
              "pendidikan            S1\n",
              "provinsi      Jawa Timur\n",
              "Name: 1312, dtype: object"
            ]
          },
          "metadata": {
            "tags": []
          },
          "execution_count": 15
        }
      ]
    },
    {
      "cell_type": "code",
      "metadata": {
        "id": "a8SR1e7sYlk1"
      },
      "source": [
        "# df_pendidikan[df_pendidikan.id_loker == 1313]"
      ],
      "execution_count": 16,
      "outputs": []
    },
    {
      "cell_type": "markdown",
      "metadata": {
        "id": "KSedPyQeJd1e"
      },
      "source": [
        "## Clustering industry"
      ]
    },
    {
      "cell_type": "code",
      "metadata": {
        "id": "BhFT3g44mR7e",
        "outputId": "64328ba4-09e4-4ea6-ea23-8c41b2bac8b3",
        "colab": {
          "base_uri": "https://localhost:8080/",
          "height": 1000
        }
      },
      "source": [
        "# lakukan cluster kelompok berdasarkan Klasifikasi Baku Lapangan Usaha Indonesia\n",
        "data.company_industry.value_counts()"
      ],
      "execution_count": 17,
      "outputs": [
        {
          "output_type": "execute_result",
          "data": {
            "text/plain": [
              "Manufaktur/Produksi                                     1543\n",
              "Perbankan/Pelayanan Keuangan                             749\n",
              "Komputer/Teknik Informatika (Perangkat Lunak)            660\n",
              "Retail/Merchandise                                       625\n",
              "Umum & Grosir                                            620\n",
              "Produk Konsumen/Barang konsumen yang bergerak cepat      549\n",
              "Manajemen/Konsulting HR                                  527\n",
              "tidak tersedia                                           486\n",
              "Properti/Real Estate                                     469\n",
              "Transportasi/Logistik                                    468\n",
              "Makanan & Minuman/Katering/Restoran                      454\n",
              "Konstruksi/Bangunan/Teknik                               442\n",
              "Kesehatan/Medis                                          400\n",
              "Agrikultural/Perkebunan/Peternakan Unggas/Perikanan      356\n",
              "Konsultasi (IT, Ilmu Pengetahuan, Teknis & Teknikal)     347\n",
              "Asuransi                                                 296\n",
              "Elektrikal & Elektronik                                  269\n",
              "Pendidikan                                               265\n",
              "Konsultasi (Bisnis & Manajemen)                          259\n",
              "Lainnya                                                  258\n",
              "Telekomunikasi                                           251\n",
              "Industri Berat/Mesin/Peralatan                           186\n",
              "Automobil/Mesin Tambahan Automotif/Kendaraan             185\n",
              "BioTeknologi/Farmasi/Riset klinik                        172\n",
              "Tekstil/Garment                                          133\n",
              "Periklanan/Marketing/Promosi/Hubungan Masyarakat         122\n",
              "Minyak/Gas/Petroleum                                     118\n",
              "Pertambangan                                             112\n",
              "Hiburan/Media                                            110\n",
              "Bahan Kimia/Pupuk/Pestisida                              110\n",
              "Perawatan/Kecantikan/Fitnes                              108\n",
              "Komputer/Teknik Informatika (Perangkat Keras)            104\n",
              "Pelayanan Arsitek/Desain Interior                        103\n",
              "Akuntansi/Audit/Pelayanan Pajak                           97\n",
              "Percetakan/Penerbitan                                     91\n",
              "Hotel/Pariwisata                                          61\n",
              "Organisasi Nirlaba/Pelayanan Sosial/LSM                   45\n",
              "Seni/Desain/Fashion                                       44\n",
              "Call Center/IT-Enabled Services/BPO                       42\n",
              "Jurnalisme                                                39\n",
              "Layanan Umum/Tenaga Penggerak                             36\n",
              "Polymer/Plastik/Karet/Ban                                 34\n",
              "Kayu/Fiber/Kertas                                         33\n",
              "Pakaian                                                   32\n",
              "Travel/Pariwisata                                         25\n",
              "Jual Beli Saham/Sekuritas                                 25\n",
              "Pameran/Manajemen acara/PIKP                              22\n",
              "Permata/Perhiasan                                         20\n",
              "Pelayanan Perbaikan & Pemeliharaan                        20\n",
              "Hukum/Legal                                               19\n",
              "Keamanan/Penegak hukum                                    17\n",
              "Kelautan/Aquakultur                                       16\n",
              "Lingkungan/Kesehatan/Keamanan                             15\n",
              "Ilmu Pengetahuan & Teknologi                              10\n",
              "Olahraga                                                   8\n",
              "Tembakau                                                   7\n",
              "Luar Angkasa/Aviasi/Pesawat Terbang                        6\n",
              "Pemerintahan/Pertahanan                                    4\n",
              "Semikonduktor/Fabrikasi                                    1\n",
              "Name: company_industry, dtype: int64"
            ]
          },
          "metadata": {
            "tags": []
          },
          "execution_count": 17
        }
      ]
    },
    {
      "cell_type": "markdown",
      "metadata": {
        "id": "484UQzDoI1fN"
      },
      "source": [
        "Proses dilakukan secara manual pada google sheet."
      ]
    },
    {
      "cell_type": "code",
      "metadata": {
        "id": "2D8avHvyXrI9"
      },
      "source": [
        "import re\n",
        "# export mapping industry\n",
        "ci_mapper = pd.read_csv(\"/content/drive/My Drive/Data Loker/company_industry_mapper.csv\", header=None)\n",
        "\n",
        "\n",
        "temp = list()\n",
        "for idx, row in ci_mapper.iterrows():\n",
        "    result = ''.join([i for i in row[0] if not i.isdigit()]).strip()\n",
        "    temp.append(result)\n",
        "\n",
        "ci_mapper[0] = temp"
      ],
      "execution_count": 18,
      "outputs": []
    },
    {
      "cell_type": "code",
      "metadata": {
        "id": "AbGWXdQ8YfxY"
      },
      "source": [
        "# create dict\n",
        "company_industry_mapper = dict()\n",
        "\n",
        "for idx, row in ci_mapper.iterrows():\n",
        "    company_industry_mapper[row[0]] = row[1]"
      ],
      "execution_count": 19,
      "outputs": []
    },
    {
      "cell_type": "code",
      "metadata": {
        "id": "DiCTDhruis1E",
        "outputId": "b652fd9d-ec43-4c2c-dd48-f0fd2b959cb3",
        "colab": {
          "base_uri": "https://localhost:8080/",
          "height": 34
        }
      },
      "source": [
        "data['company_industry'] = data['company_industry'].map(company_industry_mapper).fillna('TIDAK TERSEDIA')\n",
        "data.company_industry.isnull().sum()"
      ],
      "execution_count": 20,
      "outputs": [
        {
          "output_type": "execute_result",
          "data": {
            "text/plain": [
              "0"
            ]
          },
          "metadata": {
            "tags": []
          },
          "execution_count": 20
        }
      ]
    },
    {
      "cell_type": "code",
      "metadata": {
        "id": "tjY3LEFpjFmK",
        "outputId": "95d56996-6314-4285-a00d-1deb18d2ac86",
        "colab": {
          "base_uri": "https://localhost:8080/",
          "height": 428
        }
      },
      "source": [
        "data.head()"
      ],
      "execution_count": 21,
      "outputs": [
        {
          "output_type": "execute_result",
          "data": {
            "text/html": [
              "<div>\n",
              "<style scoped>\n",
              "    .dataframe tbody tr th:only-of-type {\n",
              "        vertical-align: middle;\n",
              "    }\n",
              "\n",
              "    .dataframe tbody tr th {\n",
              "        vertical-align: top;\n",
              "    }\n",
              "\n",
              "    .dataframe thead th {\n",
              "        text-align: right;\n",
              "    }\n",
              "</style>\n",
              "<table border=\"1\" class=\"dataframe\">\n",
              "  <thead>\n",
              "    <tr style=\"text-align: right;\">\n",
              "      <th></th>\n",
              "      <th>id_loker</th>\n",
              "      <th>pulau</th>\n",
              "      <th>provinsi</th>\n",
              "      <th>job_position</th>\n",
              "      <th>company_name</th>\n",
              "      <th>years_of_experience</th>\n",
              "      <th>years_of_experience_cat</th>\n",
              "      <th>average_processing_time</th>\n",
              "      <th>company_industry</th>\n",
              "      <th>company_size</th>\n",
              "      <th>work_environment_waktu_bekerja</th>\n",
              "      <th>work_environment_gaya_berpakaian</th>\n",
              "      <th>work_environment_gaya_berpakaian_contoh</th>\n",
              "      <th>work_environment_tunjangan</th>\n",
              "      <th>work_environment_bahasa</th>\n",
              "      <th>platform</th>\n",
              "      <th>pendidikan</th>\n",
              "      <th>jumlah_loker_per_provinsi</th>\n",
              "    </tr>\n",
              "  </thead>\n",
              "  <tbody>\n",
              "    <tr>\n",
              "      <th>0</th>\n",
              "      <td>1</td>\n",
              "      <td>Jawa</td>\n",
              "      <td>Daerah Khusus Ibukota Jakarta</td>\n",
              "      <td>Spv Finance</td>\n",
              "      <td>PT Axindo Infotama</td>\n",
              "      <td>3</td>\n",
              "      <td>0 - 4 tahun</td>\n",
              "      <td>6</td>\n",
              "      <td>INDUSTRI PENGOLAHAN</td>\n",
              "      <td>51 - 200 pekerja</td>\n",
              "      <td>sabtu</td>\n",
              "      <td>formal</td>\n",
              "      <td>kemeja polos &amp; dasi</td>\n",
              "      <td>kesehatan, umum</td>\n",
              "      <td>Indonesia</td>\n",
              "      <td>jobstreet</td>\n",
              "      <td>D3</td>\n",
              "      <td>5985</td>\n",
              "    </tr>\n",
              "    <tr>\n",
              "      <th>1</th>\n",
              "      <td>2</td>\n",
              "      <td>Jawa</td>\n",
              "      <td>Daerah Khusus Ibukota Jakarta</td>\n",
              "      <td>Qualitative Research Executive</td>\n",
              "      <td>Perusahaan Dirahasiakan</td>\n",
              "      <td>3</td>\n",
              "      <td>0 - 4 tahun</td>\n",
              "      <td>tidak tersedia</td>\n",
              "      <td>TIDAK TERSEDIA</td>\n",
              "      <td>tidak spesifik</td>\n",
              "      <td>tidak tersedia</td>\n",
              "      <td>tidak spesifik</td>\n",
              "      <td>tidak spesifik</td>\n",
              "      <td>tidak tersedia</td>\n",
              "      <td>Tidak Dicantumkan</td>\n",
              "      <td>jobstreet</td>\n",
              "      <td>S1</td>\n",
              "      <td>5985</td>\n",
              "    </tr>\n",
              "    <tr>\n",
              "      <th>2</th>\n",
              "      <td>3</td>\n",
              "      <td>Jawa</td>\n",
              "      <td>Jawa Tengah</td>\n",
              "      <td>Field Collection Wonogiri</td>\n",
              "      <td>OTO Group</td>\n",
              "      <td>0</td>\n",
              "      <td>0 - 4 tahun</td>\n",
              "      <td>14</td>\n",
              "      <td>KEUANGAN DAN ASURANSI</td>\n",
              "      <td>lebih dari 5000 pekerja</td>\n",
              "      <td>senin - jumat</td>\n",
              "      <td>bisnis</td>\n",
              "      <td>kemeja</td>\n",
              "      <td>kesehatan, bonus</td>\n",
              "      <td>Indonesia</td>\n",
              "      <td>jobstreet</td>\n",
              "      <td>D3, S1, SMA</td>\n",
              "      <td>548</td>\n",
              "    </tr>\n",
              "    <tr>\n",
              "      <th>3</th>\n",
              "      <td>4</td>\n",
              "      <td>Jawa</td>\n",
              "      <td>Daerah Khusus Ibukota Jakarta</td>\n",
              "      <td>Perawat Di Negara Jerman</td>\n",
              "      <td>PT Jerman Manajemen</td>\n",
              "      <td>1</td>\n",
              "      <td>0 - 4 tahun</td>\n",
              "      <td>11</td>\n",
              "      <td>PENDIDIKAN</td>\n",
              "      <td>51 - 200 pekerja</td>\n",
              "      <td>sabtu - kamis</td>\n",
              "      <td>formal</td>\n",
              "      <td>kemeja polos &amp; dasi</td>\n",
              "      <td>kesehatan</td>\n",
              "      <td>Indonesia</td>\n",
              "      <td>jobstreet</td>\n",
              "      <td>D3</td>\n",
              "      <td>5985</td>\n",
              "    </tr>\n",
              "    <tr>\n",
              "      <th>4</th>\n",
              "      <td>5</td>\n",
              "      <td>Jawa</td>\n",
              "      <td>Jawa Tengah</td>\n",
              "      <td>Field Collection Pati</td>\n",
              "      <td>OTO Group</td>\n",
              "      <td>0</td>\n",
              "      <td>0 - 4 tahun</td>\n",
              "      <td>14</td>\n",
              "      <td>KEUANGAN DAN ASURANSI</td>\n",
              "      <td>lebih dari 5000 pekerja</td>\n",
              "      <td>senin - jumat</td>\n",
              "      <td>bisnis</td>\n",
              "      <td>kemeja</td>\n",
              "      <td>kesehatan, bonus</td>\n",
              "      <td>Indonesia</td>\n",
              "      <td>jobstreet</td>\n",
              "      <td>D3, S1, SMA</td>\n",
              "      <td>548</td>\n",
              "    </tr>\n",
              "  </tbody>\n",
              "</table>\n",
              "</div>"
            ],
            "text/plain": [
              "   id_loker pulau  ...   pendidikan jumlah_loker_per_provinsi\n",
              "0         1  Jawa  ...           D3                      5985\n",
              "1         2  Jawa  ...           S1                      5985\n",
              "2         3  Jawa  ...  D3, S1, SMA                       548\n",
              "3         4  Jawa  ...           D3                      5985\n",
              "4         5  Jawa  ...  D3, S1, SMA                       548\n",
              "\n",
              "[5 rows x 18 columns]"
            ]
          },
          "metadata": {
            "tags": []
          },
          "execution_count": 21
        }
      ]
    },
    {
      "cell_type": "markdown",
      "metadata": {
        "id": "so4-PEOkSdHT"
      },
      "source": [
        "# Export csv"
      ]
    },
    {
      "cell_type": "markdown",
      "metadata": {
        "id": "6TRIJfnOJjEc"
      },
      "source": [
        "## Export data_loker"
      ]
    },
    {
      "cell_type": "code",
      "metadata": {
        "id": "77Ie14OSmx88"
      },
      "source": [
        "# export data master\n",
        "# data.to_csv('data_master_16oct.csv', index=False)"
      ],
      "execution_count": 22,
      "outputs": []
    },
    {
      "cell_type": "code",
      "metadata": {
        "id": "o0GccozkRvXf"
      },
      "source": [
        "# export data_loker\n",
        "data.to_csv('data_loker_16oct_v2.csv', index=False)"
      ],
      "execution_count": 23,
      "outputs": []
    },
    {
      "cell_type": "code",
      "metadata": {
        "id": "5g76Z2p0Kkzm",
        "outputId": "da811cdc-e755-4230-9a8c-233f72778b15",
        "colab": {
          "base_uri": "https://localhost:8080/",
          "height": 34
        }
      },
      "source": [
        "data.shape"
      ],
      "execution_count": 30,
      "outputs": [
        {
          "output_type": "execute_result",
          "data": {
            "text/plain": [
              "(12625, 18)"
            ]
          },
          "metadata": {
            "tags": []
          },
          "execution_count": 30
        }
      ]
    },
    {
      "cell_type": "markdown",
      "metadata": {
        "id": "g9xxD8MEJrQm"
      },
      "source": [
        "## Export data_pendidikan"
      ]
    },
    {
      "cell_type": "code",
      "metadata": {
        "id": "yjM8HI6AR1-_"
      },
      "source": [
        "# export pendidikan\n",
        "# reformat data pendidikan menjadi csv baru\n",
        "df_pendidikan = pd.DataFrame(columns=['id_loker', 'provinsi', 'pendidikan'])\n",
        "\n",
        "for idx, row in data.iterrows():\n",
        "\n",
        "    split_pendidikan = [data.strip().upper() for data in row['pendidikan'].split(',')]\n",
        "    \n",
        "    for pend in split_pendidikan:\n",
        "        df_pendidikan = df_pendidikan.append({'id_loker': row['id_loker'],\n",
        "                                              'provinsi': row['provinsi'],\n",
        "                                              'pendidikan': pend}, ignore_index=True)"
      ],
      "execution_count": 24,
      "outputs": []
    },
    {
      "cell_type": "code",
      "metadata": {
        "id": "E_zkvl6BVcQG",
        "outputId": "3bd777fa-a5ff-417e-eb42-7891f50e856b",
        "colab": {
          "base_uri": "https://localhost:8080/",
          "height": 204
        }
      },
      "source": [
        "df_pendidikan.head()"
      ],
      "execution_count": 25,
      "outputs": [
        {
          "output_type": "execute_result",
          "data": {
            "text/html": [
              "<div>\n",
              "<style scoped>\n",
              "    .dataframe tbody tr th:only-of-type {\n",
              "        vertical-align: middle;\n",
              "    }\n",
              "\n",
              "    .dataframe tbody tr th {\n",
              "        vertical-align: top;\n",
              "    }\n",
              "\n",
              "    .dataframe thead th {\n",
              "        text-align: right;\n",
              "    }\n",
              "</style>\n",
              "<table border=\"1\" class=\"dataframe\">\n",
              "  <thead>\n",
              "    <tr style=\"text-align: right;\">\n",
              "      <th></th>\n",
              "      <th>id_loker</th>\n",
              "      <th>provinsi</th>\n",
              "      <th>pendidikan</th>\n",
              "    </tr>\n",
              "  </thead>\n",
              "  <tbody>\n",
              "    <tr>\n",
              "      <th>0</th>\n",
              "      <td>1</td>\n",
              "      <td>Daerah Khusus Ibukota Jakarta</td>\n",
              "      <td>D3</td>\n",
              "    </tr>\n",
              "    <tr>\n",
              "      <th>1</th>\n",
              "      <td>2</td>\n",
              "      <td>Daerah Khusus Ibukota Jakarta</td>\n",
              "      <td>S1</td>\n",
              "    </tr>\n",
              "    <tr>\n",
              "      <th>2</th>\n",
              "      <td>3</td>\n",
              "      <td>Jawa Tengah</td>\n",
              "      <td>D3</td>\n",
              "    </tr>\n",
              "    <tr>\n",
              "      <th>3</th>\n",
              "      <td>3</td>\n",
              "      <td>Jawa Tengah</td>\n",
              "      <td>S1</td>\n",
              "    </tr>\n",
              "    <tr>\n",
              "      <th>4</th>\n",
              "      <td>3</td>\n",
              "      <td>Jawa Tengah</td>\n",
              "      <td>SMA</td>\n",
              "    </tr>\n",
              "  </tbody>\n",
              "</table>\n",
              "</div>"
            ],
            "text/plain": [
              "  id_loker                       provinsi pendidikan\n",
              "0        1  Daerah Khusus Ibukota Jakarta         D3\n",
              "1        2  Daerah Khusus Ibukota Jakarta         S1\n",
              "2        3                    Jawa Tengah         D3\n",
              "3        3                    Jawa Tengah         S1\n",
              "4        3                    Jawa Tengah        SMA"
            ]
          },
          "metadata": {
            "tags": []
          },
          "execution_count": 25
        }
      ]
    },
    {
      "cell_type": "code",
      "metadata": {
        "id": "6lG7pzaZWOhK"
      },
      "source": [
        "# export data_pendidikan\n",
        "df_pendidikan.to_csv('data_pendidikan_16oct_v2.csv', index=False)"
      ],
      "execution_count": 26,
      "outputs": []
    },
    {
      "cell_type": "markdown",
      "metadata": {
        "id": "3e-LRNV0J3sM"
      },
      "source": [
        "## Export data_loker_prov"
      ]
    },
    {
      "cell_type": "code",
      "metadata": {
        "id": "b5VM2jbjVt1z"
      },
      "source": [
        "# export jumlah loker per provinsi\n",
        "df_loker_prov = pd.DataFrame(columns=['id_loker', 'provinsi', 'jumlah_loker'])\n",
        "\n",
        "for idx, row in data.iterrows():\n",
        "    df_loker_prov = df_loker_prov.append({'id_loker': row['id_loker'],\n",
        "                                          'provinsi': row['provinsi'],\n",
        "                                          'jumlah_loker': row['jumlah_loker_per_provinsi']}, ignore_index=True)"
      ],
      "execution_count": 27,
      "outputs": []
    },
    {
      "cell_type": "code",
      "metadata": {
        "id": "pBwhrLbsVer3",
        "outputId": "41d095a1-676a-446e-a901-dac0c8874592",
        "colab": {
          "base_uri": "https://localhost:8080/",
          "height": 204
        }
      },
      "source": [
        "df_loker_prov.head()"
      ],
      "execution_count": 28,
      "outputs": [
        {
          "output_type": "execute_result",
          "data": {
            "text/html": [
              "<div>\n",
              "<style scoped>\n",
              "    .dataframe tbody tr th:only-of-type {\n",
              "        vertical-align: middle;\n",
              "    }\n",
              "\n",
              "    .dataframe tbody tr th {\n",
              "        vertical-align: top;\n",
              "    }\n",
              "\n",
              "    .dataframe thead th {\n",
              "        text-align: right;\n",
              "    }\n",
              "</style>\n",
              "<table border=\"1\" class=\"dataframe\">\n",
              "  <thead>\n",
              "    <tr style=\"text-align: right;\">\n",
              "      <th></th>\n",
              "      <th>id_loker</th>\n",
              "      <th>provinsi</th>\n",
              "      <th>jumlah_loker</th>\n",
              "    </tr>\n",
              "  </thead>\n",
              "  <tbody>\n",
              "    <tr>\n",
              "      <th>0</th>\n",
              "      <td>1</td>\n",
              "      <td>Daerah Khusus Ibukota Jakarta</td>\n",
              "      <td>5985</td>\n",
              "    </tr>\n",
              "    <tr>\n",
              "      <th>1</th>\n",
              "      <td>2</td>\n",
              "      <td>Daerah Khusus Ibukota Jakarta</td>\n",
              "      <td>5985</td>\n",
              "    </tr>\n",
              "    <tr>\n",
              "      <th>2</th>\n",
              "      <td>3</td>\n",
              "      <td>Jawa Tengah</td>\n",
              "      <td>548</td>\n",
              "    </tr>\n",
              "    <tr>\n",
              "      <th>3</th>\n",
              "      <td>4</td>\n",
              "      <td>Daerah Khusus Ibukota Jakarta</td>\n",
              "      <td>5985</td>\n",
              "    </tr>\n",
              "    <tr>\n",
              "      <th>4</th>\n",
              "      <td>5</td>\n",
              "      <td>Jawa Tengah</td>\n",
              "      <td>548</td>\n",
              "    </tr>\n",
              "  </tbody>\n",
              "</table>\n",
              "</div>"
            ],
            "text/plain": [
              "  id_loker                       provinsi jumlah_loker\n",
              "0        1  Daerah Khusus Ibukota Jakarta         5985\n",
              "1        2  Daerah Khusus Ibukota Jakarta         5985\n",
              "2        3                    Jawa Tengah          548\n",
              "3        4  Daerah Khusus Ibukota Jakarta         5985\n",
              "4        5                    Jawa Tengah          548"
            ]
          },
          "metadata": {
            "tags": []
          },
          "execution_count": 28
        }
      ]
    },
    {
      "cell_type": "code",
      "metadata": {
        "id": "ovIPzxs5WN1c"
      },
      "source": [
        "# export data_loker_prov\n",
        "df_loker_prov.to_csv('data_loker_prov_16oct_v2.csv', index=False)"
      ],
      "execution_count": 29,
      "outputs": []
    },
    {
      "cell_type": "markdown",
      "metadata": {
        "id": "oVZxbF6dJ8SA"
      },
      "source": [
        "## Export data_skill"
      ]
    },
    {
      "cell_type": "code",
      "metadata": {
        "id": "RIOqtNC9W0nt"
      },
      "source": [
        ""
      ],
      "execution_count": 29,
      "outputs": []
    }
  ]
}